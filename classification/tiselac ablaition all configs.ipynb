{
    "cells": [
        {
            "cell_type": "code",
            "execution_count": 4,
            "metadata": {},
            "outputs": [
                {
                    "name": "stdout",
                    "output_type": "stream",
                    "text": [
                        "The autoreload extension is already loaded. To reload it, use:\n",
                        "  %reload_ext autoreload\n",
                        "current device cuda:10\n"
                    ]
                }
            ],
            "source": [
                "%load_ext autoreload\n",
                "%autoreload 2\n",
                "\n",
                "import sys\n",
                "sys.path.append('..')\n",
                "\n",
                "import numpy as np\n",
                "import pandas as pd\n",
                "import torch\n",
                "import random\n",
                "import csv\n",
                "import matplotlib.pyplot as plt\n",
                "import torch\n",
                "from torchmetrics.classification import AUROC, Accuracy, ConfusionMatrix, F1Score\n",
                "import os, subprocess, gc, time, datetime\n",
                "from itertools import product\n",
                "from einops import rearrange\n",
                "\n",
                "import models.models_original as models_original\n",
                "import models.models_3d as models_3d\n",
                "import models.models_3d_atomics as models_3d_atomics\n",
                "from models.data import *\n",
                "from models.helper import *\n",
                "from models.param_initializations import *\n",
                "from models.optimization_strategy import greedy_forward_selection\n",
                "\n",
                "device = get_free_gpu()\n"
            ]
        },
        {
            "cell_type": "code",
            "execution_count": 5,
            "metadata": {},
            "outputs": [
                {
                    "name": "stdout",
                    "output_type": "stream",
                    "text": [
                        "tensor([0.5538, 2.8525, 0.5538, 0.5710, 0.7132, 1.6248, 1.2057, 6.3149, 3.5524]) 9\n",
                        "torch.Size([512, 23, 10])\n",
                        "torch.Size([512, 23, 10])\n",
                        "torch.Size([512])\n"
                    ]
                },
                {
                    "data": {
                        "text/plain": [
                            "117"
                        ]
                    },
                    "execution_count": 5,
                    "metadata": {},
                    "output_type": "execute_result"
                }
            ],
            "source": [
                "train_loader, val_loader, test_loader, class_weights, num_classes, changing_dim, static_dim, seq_len = get_tiselac_dataloader(batch_size = 512, random_state = 1)\n",
                "\n",
                "print(class_weights, num_classes)\n",
                "\n",
                "for batch in train_loader:\n",
                "    [print(t.shape) for t in batch]\n",
                "    break\n",
                "\n",
                "len(train_loader)"
            ]
        },
        {
            "cell_type": "code",
            "execution_count": 6,
            "metadata": {},
            "outputs": [
                {
                    "name": "stdout",
                    "output_type": "stream",
                    "text": [
                        "10 0 23\n"
                    ]
                }
            ],
            "source": [
                "auroc_metric = AUROC(task=\"multiclass\", num_classes=num_classes).to(device)\n",
                "accuracy_metric = Accuracy(task=\"multiclass\", num_classes=num_classes).to(device)\n",
                "f1_metric = F1Score(task=\"multiclass\", num_classes=num_classes).to(device)\n",
                "conf_matrix = ConfusionMatrix(task=\"multiclass\", num_classes=num_classes).to(device)\n",
                "\n",
                "print(changing_dim, static_dim, seq_len)\n",
                "\n",
                "random_seed = 1\n",
                "set_seed(random_seed)\n"
            ]
        },
        {
            "cell_type": "markdown",
            "metadata": {},
            "source": [
                "## Original"
            ]
        },
        {
            "cell_type": "code",
            "execution_count": 8,
            "metadata": {},
            "outputs": [
                {
                    "name": "stdout",
                    "output_type": "stream",
                    "text": [
                        "8\n"
                    ]
                }
            ],
            "source": [
                "config_original = {\n",
                "    \"n_concepts\": [4, 20],\n",
                "    # \"use_summaries\": [True, False],\n",
                "    \"use_indicators\": [True, False],\n",
                "    \"use_only_last_timestep\": [True, False],\n",
                "    # \"use_grad_norm\": [False, \"FULL\", \"COMPONENT_WISE\"],\n",
                "}\n",
                "\n",
                "all_config_permutations_og = list(product(*config_original.values()))\n",
                "all_config_permutations_og = [dict(zip(config_original.keys(), permutation)) for permutation in all_config_permutations_og]\n",
                "print(len(all_config_permutations_og))\n",
                "# all_config_permutations_og"
            ]
        },
        {
            "cell_type": "code",
            "execution_count": 9,
            "metadata": {},
            "outputs": [],
            "source": [
                "experiment_folder = \"/workdir/optimal-summaries-public/_models/tiselac/original/\"\n",
                "model_path = experiment_folder + \"\".join([f\"{key}_{{{key}}}_\" for key in config_original.keys()]) + \"seed_{seed}.pt\"\n",
                "\n",
                "if not os.path.exists(experiment_folder):\n",
                "    os.makedirs(experiment_folder)"
            ]
        },
        {
            "cell_type": "code",
            "execution_count": 13,
            "metadata": {},
            "outputs": [
                {
                    "name": "stdout",
                    "output_type": "stream",
                    "text": [
                        "0 {'n_concepts': 4, 'use_indicators': True, 'use_only_last_timestep': True}\n"
                    ]
                },
                {
                    "name": "stderr",
                    "output_type": "stream",
                    "text": [
                        "/usr/local/lib/python3.10/dist-packages/torch/nn/modules/lazy.py:180: UserWarning: Lazy modules are a new feature under heavy development so changes to the API or functionality can happen at any moment.\n",
                        "  warnings.warn('Lazy modules are a new feature under heavy development '\n",
                        " 12%|█▏        | 1230/10000 [37:09<4:24:54,  1.81s/ epoch, Train Loss=0.86828, Val Loss=0.87279, Best Val Loss=0.86850]"
                    ]
                },
                {
                    "name": "stdout",
                    "output_type": "stream",
                    "text": [
                        "Early Stopped\n"
                    ]
                },
                {
                    "name": "stderr",
                    "output_type": "stream",
                    "text": [
                        "\n"
                    ]
                },
                {
                    "name": "stdout",
                    "output_type": "stream",
                    "text": [
                        "AUC macro 0.9562481641769409\n",
                        "ACC macro 0.7222976088523865\n",
                        " F1 macro 0.6724603176116943\n",
                        "['original', 0, 0.8721746206283569, 0.9562481641769409, 0.7222976088523865, 0.6724603176116943]\n",
                        "1 {'n_concepts': 4, 'use_indicators': True, 'use_only_last_timestep': False}\n"
                    ]
                },
                {
                    "name": "stderr",
                    "output_type": "stream",
                    "text": [
                        "/usr/local/lib/python3.10/dist-packages/torch/nn/modules/lazy.py:180: UserWarning: Lazy modules are a new feature under heavy development so changes to the API or functionality can happen at any moment.\n",
                        "  warnings.warn('Lazy modules are a new feature under heavy development '\n",
                        "  8%|▊         | 790/10000 [25:43<4:59:57,  1.95s/ epoch, Train Loss=0.82603, Val Loss=0.84306, Best Val Loss=0.82416]"
                    ]
                },
                {
                    "name": "stdout",
                    "output_type": "stream",
                    "text": [
                        "Early Stopped\n"
                    ]
                },
                {
                    "name": "stderr",
                    "output_type": "stream",
                    "text": [
                        "\n"
                    ]
                },
                {
                    "name": "stdout",
                    "output_type": "stream",
                    "text": [
                        "AUC macro 0.9647765755653381\n",
                        "ACC macro 0.757236897945404\n",
                        " F1 macro 0.7087290287017822\n",
                        "['original', 1, 0.8267673850059509, 0.9647765755653381, 0.757236897945404, 0.7087290287017822]\n",
                        "2 {'n_concepts': 4, 'use_indicators': False, 'use_only_last_timestep': True}\n"
                    ]
                },
                {
                    "name": "stderr",
                    "output_type": "stream",
                    "text": [
                        "/usr/local/lib/python3.10/dist-packages/torch/nn/modules/lazy.py:180: UserWarning: Lazy modules are a new feature under heavy development so changes to the API or functionality can happen at any moment.\n",
                        "  warnings.warn('Lazy modules are a new feature under heavy development '\n",
                        " 10%|█         | 1020/10000 [29:21<4:18:32,  1.73s/ epoch, Train Loss=0.89381, Val Loss=0.89844, Best Val Loss=0.89357]"
                    ]
                },
                {
                    "name": "stdout",
                    "output_type": "stream",
                    "text": [
                        "Early Stopped\n"
                    ]
                },
                {
                    "name": "stderr",
                    "output_type": "stream",
                    "text": [
                        "\n"
                    ]
                },
                {
                    "name": "stdout",
                    "output_type": "stream",
                    "text": [
                        "AUC macro 0.9516319632530212\n",
                        "ACC macro 0.70926433801651\n",
                        " F1 macro 0.6633296608924866\n",
                        "['original', 2, 0.8954201340675354, 0.9516319632530212, 0.70926433801651, 0.6633296608924866]\n",
                        "3 {'n_concepts': 4, 'use_indicators': False, 'use_only_last_timestep': False}\n"
                    ]
                },
                {
                    "name": "stderr",
                    "output_type": "stream",
                    "text": [
                        "/usr/local/lib/python3.10/dist-packages/torch/nn/modules/lazy.py:180: UserWarning: Lazy modules are a new feature under heavy development so changes to the API or functionality can happen at any moment.\n",
                        "  warnings.warn('Lazy modules are a new feature under heavy development '\n",
                        "  8%|▊         | 770/10000 [22:01<4:24:02,  1.72s/ epoch, Train Loss=0.82983, Val Loss=0.84074, Best Val Loss=0.83829]"
                    ]
                },
                {
                    "name": "stdout",
                    "output_type": "stream",
                    "text": [
                        "Early Stopped\n"
                    ]
                },
                {
                    "name": "stderr",
                    "output_type": "stream",
                    "text": [
                        "\n"
                    ]
                },
                {
                    "name": "stdout",
                    "output_type": "stream",
                    "text": [
                        "AUC macro 0.9609814882278442\n",
                        "ACC macro 0.7473154067993164\n",
                        " F1 macro 0.6917679905891418\n",
                        "['original', 3, 0.8393949866294861, 0.9609814882278442, 0.7473154067993164, 0.6917679905891418]\n",
                        "4 {'n_concepts': 20, 'use_indicators': True, 'use_only_last_timestep': True}\n"
                    ]
                },
                {
                    "name": "stderr",
                    "output_type": "stream",
                    "text": [
                        "/usr/local/lib/python3.10/dist-packages/torch/nn/modules/lazy.py:180: UserWarning: Lazy modules are a new feature under heavy development so changes to the API or functionality can happen at any moment.\n",
                        "  warnings.warn('Lazy modules are a new feature under heavy development '\n",
                        "  9%|▉         | 890/10000 [29:21<5:00:25,  1.98s/ epoch, Train Loss=0.80342, Val Loss=0.81646, Best Val Loss=0.81175]"
                    ]
                },
                {
                    "name": "stdout",
                    "output_type": "stream",
                    "text": [
                        "Early Stopped\n"
                    ]
                },
                {
                    "name": "stderr",
                    "output_type": "stream",
                    "text": [
                        "\n"
                    ]
                },
                {
                    "name": "stdout",
                    "output_type": "stream",
                    "text": [
                        "AUC macro 0.964481770992279\n",
                        "ACC macro 0.7464578151702881\n",
                        " F1 macro 0.7014713883399963\n",
                        "['original', 4, 0.8166564702987671, 0.964481770992279, 0.7464578151702881, 0.7014713883399963]\n",
                        "5 {'n_concepts': 20, 'use_indicators': True, 'use_only_last_timestep': False}\n"
                    ]
                },
                {
                    "name": "stderr",
                    "output_type": "stream",
                    "text": [
                        "/usr/local/lib/python3.10/dist-packages/torch/nn/modules/lazy.py:180: UserWarning: Lazy modules are a new feature under heavy development so changes to the API or functionality can happen at any moment.\n",
                        "  warnings.warn('Lazy modules are a new feature under heavy development '\n",
                        "  5%|▌         | 510/10000 [16:55<5:14:47,  1.99s/ epoch, Train Loss=0.76927, Val Loss=0.78132, Best Val Loss=0.77223]"
                    ]
                },
                {
                    "name": "stdout",
                    "output_type": "stream",
                    "text": [
                        "Early Stopped\n"
                    ]
                },
                {
                    "name": "stderr",
                    "output_type": "stream",
                    "text": [
                        "\n"
                    ]
                },
                {
                    "name": "stdout",
                    "output_type": "stream",
                    "text": [
                        "AUC macro 0.9697545170783997\n",
                        "ACC macro 0.7694262266159058\n",
                        " F1 macro 0.7162799835205078\n",
                        "['original', 5, 0.7817842364311218, 0.9697545170783997, 0.7694262266159058, 0.7162799835205078]\n",
                        "6 {'n_concepts': 20, 'use_indicators': False, 'use_only_last_timestep': True}\n"
                    ]
                },
                {
                    "name": "stderr",
                    "output_type": "stream",
                    "text": [
                        "/usr/local/lib/python3.10/dist-packages/torch/nn/modules/lazy.py:180: UserWarning: Lazy modules are a new feature under heavy development so changes to the API or functionality can happen at any moment.\n",
                        "  warnings.warn('Lazy modules are a new feature under heavy development '\n",
                        " 16%|█▌        | 1580/10000 [45:45<4:03:52,  1.74s/ epoch, Train Loss=0.79599, Val Loss=0.81360, Best Val Loss=0.81177]"
                    ]
                },
                {
                    "name": "stdout",
                    "output_type": "stream",
                    "text": [
                        "Early Stopped\n"
                    ]
                },
                {
                    "name": "stderr",
                    "output_type": "stream",
                    "text": [
                        "\n"
                    ]
                },
                {
                    "name": "stdout",
                    "output_type": "stream",
                    "text": [
                        "AUC macro 0.9647182822227478\n",
                        "ACC macro 0.7490503787994385\n",
                        " F1 macro 0.7108030319213867\n",
                        "['original', 6, 0.8170353770256042, 0.9647182822227478, 0.7490503787994385, 0.7108030319213867]\n",
                        "7 {'n_concepts': 20, 'use_indicators': False, 'use_only_last_timestep': False}\n"
                    ]
                },
                {
                    "name": "stderr",
                    "output_type": "stream",
                    "text": [
                        "/usr/local/lib/python3.10/dist-packages/torch/nn/modules/lazy.py:180: UserWarning: Lazy modules are a new feature under heavy development so changes to the API or functionality can happen at any moment.\n",
                        "  warnings.warn('Lazy modules are a new feature under heavy development '\n",
                        "  7%|▋         | 730/10000 [21:06<4:28:06,  1.74s/ epoch, Train Loss=0.73646, Val Loss=0.75772, Best Val Loss=0.75265]"
                    ]
                },
                {
                    "name": "stdout",
                    "output_type": "stream",
                    "text": [
                        "Early Stopped\n"
                    ]
                },
                {
                    "name": "stderr",
                    "output_type": "stream",
                    "text": [
                        "\n"
                    ]
                },
                {
                    "name": "stdout",
                    "output_type": "stream",
                    "text": [
                        "AUC macro 0.9720156192779541\n",
                        "ACC macro 0.7879006862640381\n",
                        " F1 macro 0.7338196039199829\n",
                        "['original', 7, 0.7528193593025208, 0.9720156192779541, 0.7879006862640381, 0.7338196039199829]\n"
                    ]
                },
                {
                    "data": {
                        "text/plain": [
                            "(8, 6)"
                        ]
                    },
                    "execution_count": 13,
                    "metadata": {},
                    "output_type": "execute_result"
                }
            ],
            "source": [
                "histories_original = []\n",
                "\n",
                "for i, config in enumerate(all_config_permutations_og):\n",
                "    print(i, config)\n",
                "    \n",
                "    train_loader, val_loader, test_loader, class_weights, num_classes = preprocess_data(X, y, random_state = random_seed)\n",
                "    \n",
                "    model = models_original.CBM(**config, static_dim=static_dim, changing_dim=changing_dim, seq_len=seq_len, output_dim=num_classes, device=device)\n",
                "    model.fit(train_loader, val_loader, p_weight=class_weights.to(device), save_model_path=model_path.format(**config, seed = random_seed), max_epochs=10000)\n",
                "    \n",
                "    auc, acc, f1 = evaluate_classification(model, test_loader, num_classes=num_classes, device=device)\n",
                "    \n",
                "    history = [\"original\", i, model.val_losses[-1], auc, acc, f1]\n",
                "    print(history)\n",
                "    histories_original.append(np.array(history))\n",
                "    \n",
                "    # plot_losses(model.train_losses, model.val_losses)\n",
                "    del model\n",
                "    gc.collect()\n",
                "    torch.cuda.empty_cache()\n",
                "    \n",
                "histories_original = np.array(histories_original)\n",
                "histories_original.shape\n"
            ]
        },
        {
            "cell_type": "code",
            "execution_count": 12,
            "metadata": {},
            "outputs": [],
            "source": [
                "# plot\n",
                "# plot_metrics(histories_original, n_concepts_list)\n"
            ]
        },
        {
            "cell_type": "markdown",
            "metadata": {},
            "source": [
                "## Atomics"
            ]
        },
        {
            "cell_type": "code",
            "execution_count": 13,
            "metadata": {},
            "outputs": [
                {
                    "name": "stdout",
                    "output_type": "stream",
                    "text": [
                        "32\n"
                    ]
                }
            ],
            "source": [
                "config_atomics = {\n",
                "    \"n_atomics\": [10, 30], # 30\n",
                "    \"n_concepts\": [4, 20], # 20\n",
                "    \"use_indicators\": [True, False],\n",
                "    \"use_fixes\": [False, True],\n",
                "    \"use_summaries_for_atomics\": [True, False],\n",
                "    # \"use_grad_norm\": [False, \"FULL\", \"COMPONENT_WISE\"],\n",
                "}\n",
                "\n",
                "all_config_permutations_atomics = list(product(*config_atomics.values()))\n",
                "all_config_permutations_atomics = [dict(zip(config_atomics.keys(), permutation)) for permutation in all_config_permutations_atomics]\n",
                "print(len(all_config_permutations_atomics))\n",
                "# all_config_permutations_atomics"
            ]
        },
        {
            "cell_type": "code",
            "execution_count": 14,
            "metadata": {},
            "outputs": [],
            "source": [
                "experiment_folder = \"/workdir/optimal-summaries-public/_models/tiselac/atomics/\"\n",
                "model_path = experiment_folder + \"\".join([f\"{key}_{{{key}}}_\" for key in config_atomics.keys()]) + \"seed_{seed}.pt\"\n",
                "\n",
                "if not os.path.exists(experiment_folder):\n",
                "    os.makedirs(experiment_folder)"
            ]
        },
        {
            "cell_type": "code",
            "execution_count": 15,
            "metadata": {},
            "outputs": [
                {
                    "name": "stdout",
                    "output_type": "stream",
                    "text": [
                        "0 {'n_atomics': 10, 'n_concepts': 4, 'use_indicators': True, 'use_fixes': False, 'use_summaries_for_atomics': True}\n"
                    ]
                },
                {
                    "name": "stderr",
                    "output_type": "stream",
                    "text": [
                        "/usr/local/lib/python3.10/dist-packages/torch/nn/modules/lazy.py:180: UserWarning: Lazy modules are a new feature under heavy development so changes to the API or functionality can happen at any moment.\n",
                        "  warnings.warn('Lazy modules are a new feature under heavy development '\n"
                    ]
                },
                {
                    "name": "stdout",
                    "output_type": "stream",
                    "text": [
                        "Loaded model from /workdir/optimal-summaries-public/_models/tiselac/atomics/n_atomics_10_n_concepts_4_use_indicators_True_use_fixes_False_use_summaries_for_atomics_True_seed_1.pt\n",
                        "['atomics', 0, 0.8447052836418152, 0.9637842178344727, 0.7725836634635925, 0.7725836634635925]\n",
                        "1 {'n_atomics': 10, 'n_concepts': 4, 'use_indicators': True, 'use_fixes': False, 'use_summaries_for_atomics': False}\n"
                    ]
                },
                {
                    "name": "stderr",
                    "output_type": "stream",
                    "text": [
                        "/usr/local/lib/python3.10/dist-packages/torch/nn/modules/lazy.py:180: UserWarning: Lazy modules are a new feature under heavy development so changes to the API or functionality can happen at any moment.\n",
                        "  warnings.warn('Lazy modules are a new feature under heavy development '\n"
                    ]
                },
                {
                    "name": "stdout",
                    "output_type": "stream",
                    "text": [
                        "Loaded model from /workdir/optimal-summaries-public/_models/tiselac/atomics/n_atomics_10_n_concepts_4_use_indicators_True_use_fixes_False_use_summaries_for_atomics_False_seed_1.pt\n",
                        "['atomics', 1, 0.8603818416595459, 0.9576316475868225, 0.7562822699546814, 0.7562822699546814]\n",
                        "2 {'n_atomics': 10, 'n_concepts': 4, 'use_indicators': True, 'use_fixes': True, 'use_summaries_for_atomics': True}\n"
                    ]
                },
                {
                    "name": "stderr",
                    "output_type": "stream",
                    "text": [
                        "/usr/local/lib/python3.10/dist-packages/torch/nn/modules/lazy.py:180: UserWarning: Lazy modules are a new feature under heavy development so changes to the API or functionality can happen at any moment.\n",
                        "  warnings.warn('Lazy modules are a new feature under heavy development '\n"
                    ]
                },
                {
                    "name": "stdout",
                    "output_type": "stream",
                    "text": [
                        "Loaded model from /workdir/optimal-summaries-public/_models/tiselac/atomics/n_atomics_10_n_concepts_4_use_indicators_True_use_fixes_True_use_summaries_for_atomics_True_seed_1.pt\n",
                        "['atomics', 2, 0.8844080567359924, 0.9595625400543213, 0.7554797530174255, 0.7554797530174255]\n",
                        "3 {'n_atomics': 10, 'n_concepts': 4, 'use_indicators': True, 'use_fixes': True, 'use_summaries_for_atomics': False}\n"
                    ]
                },
                {
                    "name": "stderr",
                    "output_type": "stream",
                    "text": [
                        "/usr/local/lib/python3.10/dist-packages/torch/nn/modules/lazy.py:180: UserWarning: Lazy modules are a new feature under heavy development so changes to the API or functionality can happen at any moment.\n",
                        "  warnings.warn('Lazy modules are a new feature under heavy development '\n"
                    ]
                },
                {
                    "name": "stdout",
                    "output_type": "stream",
                    "text": [
                        "Loaded model from /workdir/optimal-summaries-public/_models/tiselac/atomics/n_atomics_10_n_concepts_4_use_indicators_True_use_fixes_True_use_summaries_for_atomics_False_seed_1.pt\n",
                        "['atomics', 3, 0.8286914825439453, 0.9618373513221741, 0.774941086769104, 0.774941086769104]\n",
                        "4 {'n_atomics': 10, 'n_concepts': 4, 'use_indicators': False, 'use_fixes': False, 'use_summaries_for_atomics': True}\n"
                    ]
                },
                {
                    "name": "stderr",
                    "output_type": "stream",
                    "text": [
                        "/usr/local/lib/python3.10/dist-packages/torch/nn/modules/lazy.py:180: UserWarning: Lazy modules are a new feature under heavy development so changes to the API or functionality can happen at any moment.\n",
                        "  warnings.warn('Lazy modules are a new feature under heavy development '\n"
                    ]
                },
                {
                    "name": "stdout",
                    "output_type": "stream",
                    "text": [
                        "Loaded model from /workdir/optimal-summaries-public/_models/tiselac/atomics/n_atomics_10_n_concepts_4_use_indicators_False_use_fixes_False_use_summaries_for_atomics_True_seed_1.pt\n",
                        "['atomics', 4, 0.8682188987731934, 0.9608091711997986, 0.7686211466789246, 0.7686211466789246]\n",
                        "5 {'n_atomics': 10, 'n_concepts': 4, 'use_indicators': False, 'use_fixes': False, 'use_summaries_for_atomics': False}\n"
                    ]
                },
                {
                    "name": "stderr",
                    "output_type": "stream",
                    "text": [
                        "/usr/local/lib/python3.10/dist-packages/torch/nn/modules/lazy.py:180: UserWarning: Lazy modules are a new feature under heavy development so changes to the API or functionality can happen at any moment.\n",
                        "  warnings.warn('Lazy modules are a new feature under heavy development '\n"
                    ]
                },
                {
                    "name": "stdout",
                    "output_type": "stream",
                    "text": [
                        "Loaded model from /workdir/optimal-summaries-public/_models/tiselac/atomics/n_atomics_10_n_concepts_4_use_indicators_False_use_fixes_False_use_summaries_for_atomics_False_seed_1.pt\n",
                        "['atomics', 5, 0.8910166621208191, 0.9551876783370972, 0.7521191835403442, 0.7521191835403442]\n",
                        "6 {'n_atomics': 10, 'n_concepts': 4, 'use_indicators': False, 'use_fixes': True, 'use_summaries_for_atomics': True}\n"
                    ]
                },
                {
                    "name": "stderr",
                    "output_type": "stream",
                    "text": [
                        "/usr/local/lib/python3.10/dist-packages/torch/nn/modules/lazy.py:180: UserWarning: Lazy modules are a new feature under heavy development so changes to the API or functionality can happen at any moment.\n",
                        "  warnings.warn('Lazy modules are a new feature under heavy development '\n"
                    ]
                },
                {
                    "name": "stdout",
                    "output_type": "stream",
                    "text": [
                        "Loaded model from /workdir/optimal-summaries-public/_models/tiselac/atomics/n_atomics_10_n_concepts_4_use_indicators_False_use_fixes_True_use_summaries_for_atomics_True_seed_1.pt\n",
                        "['atomics', 6, 0.8918626308441162, 0.9574487805366516, 0.7655113339424133, 0.7655113339424133]\n",
                        "7 {'n_atomics': 10, 'n_concepts': 4, 'use_indicators': False, 'use_fixes': True, 'use_summaries_for_atomics': False}\n"
                    ]
                },
                {
                    "name": "stderr",
                    "output_type": "stream",
                    "text": [
                        "/usr/local/lib/python3.10/dist-packages/torch/nn/modules/lazy.py:180: UserWarning: Lazy modules are a new feature under heavy development so changes to the API or functionality can happen at any moment.\n",
                        "  warnings.warn('Lazy modules are a new feature under heavy development '\n"
                    ]
                },
                {
                    "name": "stdout",
                    "output_type": "stream",
                    "text": [
                        "Loaded model from /workdir/optimal-summaries-public/_models/tiselac/atomics/n_atomics_10_n_concepts_4_use_indicators_False_use_fixes_True_use_summaries_for_atomics_False_seed_1.pt\n",
                        "['atomics', 7, 0.8887022733688354, 0.9532867074012756, 0.7594422698020935, 0.7594422698020935]\n",
                        "8 {'n_atomics': 10, 'n_concepts': 20, 'use_indicators': True, 'use_fixes': False, 'use_summaries_for_atomics': True}\n"
                    ]
                },
                {
                    "name": "stderr",
                    "output_type": "stream",
                    "text": [
                        "/usr/local/lib/python3.10/dist-packages/torch/nn/modules/lazy.py:180: UserWarning: Lazy modules are a new feature under heavy development so changes to the API or functionality can happen at any moment.\n",
                        "  warnings.warn('Lazy modules are a new feature under heavy development '\n"
                    ]
                },
                {
                    "name": "stdout",
                    "output_type": "stream",
                    "text": [
                        "Loaded model from /workdir/optimal-summaries-public/_models/tiselac/atomics/n_atomics_10_n_concepts_20_use_indicators_True_use_fixes_False_use_summaries_for_atomics_True_seed_1.pt\n",
                        "['atomics', 8, 0.8047075271606445, 0.9686480760574341, 0.7908411622047424, 0.7908411622047424]\n",
                        "9 {'n_atomics': 10, 'n_concepts': 20, 'use_indicators': True, 'use_fixes': False, 'use_summaries_for_atomics': False}\n"
                    ]
                },
                {
                    "name": "stderr",
                    "output_type": "stream",
                    "text": [
                        "/usr/local/lib/python3.10/dist-packages/torch/nn/modules/lazy.py:180: UserWarning: Lazy modules are a new feature under heavy development so changes to the API or functionality can happen at any moment.\n",
                        "  warnings.warn('Lazy modules are a new feature under heavy development '\n"
                    ]
                },
                {
                    "name": "stdout",
                    "output_type": "stream",
                    "text": [
                        "Loaded model from /workdir/optimal-summaries-public/_models/tiselac/atomics/n_atomics_10_n_concepts_20_use_indicators_True_use_fixes_False_use_summaries_for_atomics_False_seed_1.pt\n",
                        "['atomics', 9, 0.7929606437683105, 0.9669490456581116, 0.779906690120697, 0.779906690120697]\n",
                        "10 {'n_atomics': 10, 'n_concepts': 20, 'use_indicators': True, 'use_fixes': True, 'use_summaries_for_atomics': True}\n"
                    ]
                },
                {
                    "name": "stderr",
                    "output_type": "stream",
                    "text": [
                        "/usr/local/lib/python3.10/dist-packages/torch/nn/modules/lazy.py:180: UserWarning: Lazy modules are a new feature under heavy development so changes to the API or functionality can happen at any moment.\n",
                        "  warnings.warn('Lazy modules are a new feature under heavy development '\n"
                    ]
                },
                {
                    "name": "stdout",
                    "output_type": "stream",
                    "text": [
                        "Loaded model from /workdir/optimal-summaries-public/_models/tiselac/atomics/n_atomics_10_n_concepts_20_use_indicators_True_use_fixes_True_use_summaries_for_atomics_True_seed_1.pt\n",
                        "['atomics', 10, 0.8137273192405701, 0.9675341844558716, 0.7790038585662842, 0.7790038585662842]\n",
                        "11 {'n_atomics': 10, 'n_concepts': 20, 'use_indicators': True, 'use_fixes': True, 'use_summaries_for_atomics': False}\n"
                    ]
                },
                {
                    "name": "stderr",
                    "output_type": "stream",
                    "text": [
                        "/usr/local/lib/python3.10/dist-packages/torch/nn/modules/lazy.py:180: UserWarning: Lazy modules are a new feature under heavy development so changes to the API or functionality can happen at any moment.\n",
                        "  warnings.warn('Lazy modules are a new feature under heavy development '\n"
                    ]
                },
                {
                    "name": "stdout",
                    "output_type": "stream",
                    "text": [
                        "Loaded model from /workdir/optimal-summaries-public/_models/tiselac/atomics/n_atomics_10_n_concepts_20_use_indicators_True_use_fixes_True_use_summaries_for_atomics_False_seed_1.pt\n",
                        "['atomics', 11, 0.7757052779197693, 0.9701511859893799, 0.801976203918457, 0.801976203918457]\n",
                        "12 {'n_atomics': 10, 'n_concepts': 20, 'use_indicators': False, 'use_fixes': False, 'use_summaries_for_atomics': True}\n"
                    ]
                },
                {
                    "name": "stderr",
                    "output_type": "stream",
                    "text": [
                        "/usr/local/lib/python3.10/dist-packages/torch/nn/modules/lazy.py:180: UserWarning: Lazy modules are a new feature under heavy development so changes to the API or functionality can happen at any moment.\n",
                        "  warnings.warn('Lazy modules are a new feature under heavy development '\n"
                    ]
                },
                {
                    "name": "stdout",
                    "output_type": "stream",
                    "text": [
                        "Loaded model from /workdir/optimal-summaries-public/_models/tiselac/atomics/n_atomics_10_n_concepts_20_use_indicators_False_use_fixes_False_use_summaries_for_atomics_True_seed_1.pt\n",
                        "['atomics', 12, 0.8212252259254456, 0.9664768576622009, 0.7822139859199524, 0.7822139859199524]\n",
                        "13 {'n_atomics': 10, 'n_concepts': 20, 'use_indicators': False, 'use_fixes': False, 'use_summaries_for_atomics': False}\n"
                    ]
                },
                {
                    "name": "stderr",
                    "output_type": "stream",
                    "text": [
                        "/usr/local/lib/python3.10/dist-packages/torch/nn/modules/lazy.py:180: UserWarning: Lazy modules are a new feature under heavy development so changes to the API or functionality can happen at any moment.\n",
                        "  warnings.warn('Lazy modules are a new feature under heavy development '\n"
                    ]
                },
                {
                    "name": "stdout",
                    "output_type": "stream",
                    "text": [
                        "Loaded model from /workdir/optimal-summaries-public/_models/tiselac/atomics/n_atomics_10_n_concepts_20_use_indicators_False_use_fixes_False_use_summaries_for_atomics_False_seed_1.pt\n",
                        "['atomics', 13, 0.7920759320259094, 0.968039333820343, 0.7943522334098816, 0.7943522334098816]\n",
                        "14 {'n_atomics': 10, 'n_concepts': 20, 'use_indicators': False, 'use_fixes': True, 'use_summaries_for_atomics': True}\n"
                    ]
                },
                {
                    "name": "stderr",
                    "output_type": "stream",
                    "text": [
                        "/usr/local/lib/python3.10/dist-packages/torch/nn/modules/lazy.py:180: UserWarning: Lazy modules are a new feature under heavy development so changes to the API or functionality can happen at any moment.\n",
                        "  warnings.warn('Lazy modules are a new feature under heavy development '\n"
                    ]
                },
                {
                    "name": "stdout",
                    "output_type": "stream",
                    "text": [
                        "Loaded model from /workdir/optimal-summaries-public/_models/tiselac/atomics/n_atomics_10_n_concepts_20_use_indicators_False_use_fixes_True_use_summaries_for_atomics_True_seed_1.pt\n",
                        "['atomics', 14, 0.8253666758537292, 0.9657369256019592, 0.7801575064659119, 0.7801575064659119]\n",
                        "15 {'n_atomics': 10, 'n_concepts': 20, 'use_indicators': False, 'use_fixes': True, 'use_summaries_for_atomics': False}\n"
                    ]
                },
                {
                    "name": "stderr",
                    "output_type": "stream",
                    "text": [
                        "/usr/local/lib/python3.10/dist-packages/torch/nn/modules/lazy.py:180: UserWarning: Lazy modules are a new feature under heavy development so changes to the API or functionality can happen at any moment.\n",
                        "  warnings.warn('Lazy modules are a new feature under heavy development '\n"
                    ]
                },
                {
                    "name": "stdout",
                    "output_type": "stream",
                    "text": [
                        "Loaded model from /workdir/optimal-summaries-public/_models/tiselac/atomics/n_atomics_10_n_concepts_20_use_indicators_False_use_fixes_True_use_summaries_for_atomics_False_seed_1.pt\n",
                        "['atomics', 15, 0.8037489652633667, 0.9647741317749023, 0.7787531018257141, 0.7787531018257141]\n",
                        "16 {'n_atomics': 30, 'n_concepts': 4, 'use_indicators': True, 'use_fixes': False, 'use_summaries_for_atomics': True}\n"
                    ]
                },
                {
                    "name": "stderr",
                    "output_type": "stream",
                    "text": [
                        "/usr/local/lib/python3.10/dist-packages/torch/nn/modules/lazy.py:180: UserWarning: Lazy modules are a new feature under heavy development so changes to the API or functionality can happen at any moment.\n",
                        "  warnings.warn('Lazy modules are a new feature under heavy development '\n"
                    ]
                },
                {
                    "name": "stdout",
                    "output_type": "stream",
                    "text": [
                        "Loaded model from /workdir/optimal-summaries-public/_models/tiselac/atomics/n_atomics_30_n_concepts_4_use_indicators_True_use_fixes_False_use_summaries_for_atomics_True_seed_1.pt\n",
                        "['atomics', 16, 0.8668138980865479, 0.9615947008132935, 0.7671164274215698, 0.7671164274215698]\n",
                        "17 {'n_atomics': 30, 'n_concepts': 4, 'use_indicators': True, 'use_fixes': False, 'use_summaries_for_atomics': False}\n"
                    ]
                },
                {
                    "name": "stderr",
                    "output_type": "stream",
                    "text": [
                        "/usr/local/lib/python3.10/dist-packages/torch/nn/modules/lazy.py:180: UserWarning: Lazy modules are a new feature under heavy development so changes to the API or functionality can happen at any moment.\n",
                        "  warnings.warn('Lazy modules are a new feature under heavy development '\n"
                    ]
                },
                {
                    "name": "stdout",
                    "output_type": "stream",
                    "text": [
                        "Loaded model from /workdir/optimal-summaries-public/_models/tiselac/atomics/n_atomics_30_n_concepts_4_use_indicators_True_use_fixes_False_use_summaries_for_atomics_False_seed_1.pt\n",
                        "['atomics', 17, 0.8815483450889587, 0.9571369886398315, 0.7624015808105469, 0.7624015808105469]\n",
                        "18 {'n_atomics': 30, 'n_concepts': 4, 'use_indicators': True, 'use_fixes': True, 'use_summaries_for_atomics': True}\n"
                    ]
                },
                {
                    "name": "stderr",
                    "output_type": "stream",
                    "text": [
                        "/usr/local/lib/python3.10/dist-packages/torch/nn/modules/lazy.py:180: UserWarning: Lazy modules are a new feature under heavy development so changes to the API or functionality can happen at any moment.\n",
                        "  warnings.warn('Lazy modules are a new feature under heavy development '\n"
                    ]
                },
                {
                    "name": "stdout",
                    "output_type": "stream",
                    "text": [
                        "Loaded model from /workdir/optimal-summaries-public/_models/tiselac/atomics/n_atomics_30_n_concepts_4_use_indicators_True_use_fixes_True_use_summaries_for_atomics_True_seed_1.pt\n",
                        "['atomics', 18, 0.8607848286628723, 0.9624918699264526, 0.7698249220848083, 0.7698249220848083]\n",
                        "19 {'n_atomics': 30, 'n_concepts': 4, 'use_indicators': True, 'use_fixes': True, 'use_summaries_for_atomics': False}\n"
                    ]
                },
                {
                    "name": "stderr",
                    "output_type": "stream",
                    "text": [
                        "/usr/local/lib/python3.10/dist-packages/torch/nn/modules/lazy.py:180: UserWarning: Lazy modules are a new feature under heavy development so changes to the API or functionality can happen at any moment.\n",
                        "  warnings.warn('Lazy modules are a new feature under heavy development '\n"
                    ]
                },
                {
                    "name": "stdout",
                    "output_type": "stream",
                    "text": [
                        "Loaded model from /workdir/optimal-summaries-public/_models/tiselac/atomics/n_atomics_30_n_concepts_4_use_indicators_True_use_fixes_True_use_summaries_for_atomics_False_seed_1.pt\n",
                        "['atomics', 19, 0.8915258646011353, 0.9557878971099854, 0.7519185543060303, 0.7519185543060303]\n",
                        "20 {'n_atomics': 30, 'n_concepts': 4, 'use_indicators': False, 'use_fixes': False, 'use_summaries_for_atomics': True}\n"
                    ]
                },
                {
                    "name": "stderr",
                    "output_type": "stream",
                    "text": [
                        "/usr/local/lib/python3.10/dist-packages/torch/nn/modules/lazy.py:180: UserWarning: Lazy modules are a new feature under heavy development so changes to the API or functionality can happen at any moment.\n",
                        "  warnings.warn('Lazy modules are a new feature under heavy development '\n"
                    ]
                },
                {
                    "name": "stdout",
                    "output_type": "stream",
                    "text": [
                        "Loaded model from /workdir/optimal-summaries-public/_models/tiselac/atomics/n_atomics_30_n_concepts_4_use_indicators_False_use_fixes_False_use_summaries_for_atomics_True_seed_1.pt\n",
                        "['atomics', 20, 0.9066334962844849, 0.9586421251296997, 0.7592917680740356, 0.7592917680740356]\n",
                        "21 {'n_atomics': 30, 'n_concepts': 4, 'use_indicators': False, 'use_fixes': False, 'use_summaries_for_atomics': False}\n"
                    ]
                },
                {
                    "name": "stderr",
                    "output_type": "stream",
                    "text": [
                        "/usr/local/lib/python3.10/dist-packages/torch/nn/modules/lazy.py:180: UserWarning: Lazy modules are a new feature under heavy development so changes to the API or functionality can happen at any moment.\n",
                        "  warnings.warn('Lazy modules are a new feature under heavy development '\n"
                    ]
                },
                {
                    "name": "stdout",
                    "output_type": "stream",
                    "text": [
                        "Loaded model from /workdir/optimal-summaries-public/_models/tiselac/atomics/n_atomics_30_n_concepts_4_use_indicators_False_use_fixes_False_use_summaries_for_atomics_False_seed_1.pt\n",
                        "['atomics', 21, 0.9557990431785583, 0.9563435316085815, 0.757837176322937, 0.757837176322937]\n",
                        "22 {'n_atomics': 30, 'n_concepts': 4, 'use_indicators': False, 'use_fixes': True, 'use_summaries_for_atomics': True}\n"
                    ]
                },
                {
                    "name": "stderr",
                    "output_type": "stream",
                    "text": [
                        "/usr/local/lib/python3.10/dist-packages/torch/nn/modules/lazy.py:180: UserWarning: Lazy modules are a new feature under heavy development so changes to the API or functionality can happen at any moment.\n",
                        "  warnings.warn('Lazy modules are a new feature under heavy development '\n"
                    ]
                },
                {
                    "name": "stdout",
                    "output_type": "stream",
                    "text": [
                        "Loaded model from /workdir/optimal-summaries-public/_models/tiselac/atomics/n_atomics_30_n_concepts_4_use_indicators_False_use_fixes_True_use_summaries_for_atomics_True_seed_1.pt\n",
                        "['atomics', 22, 0.9032139182090759, 0.9620363712310791, 0.7635050415992737, 0.7635050415992737]\n",
                        "23 {'n_atomics': 30, 'n_concepts': 4, 'use_indicators': False, 'use_fixes': True, 'use_summaries_for_atomics': False}\n"
                    ]
                },
                {
                    "name": "stderr",
                    "output_type": "stream",
                    "text": [
                        "/usr/local/lib/python3.10/dist-packages/torch/nn/modules/lazy.py:180: UserWarning: Lazy modules are a new feature under heavy development so changes to the API or functionality can happen at any moment.\n",
                        "  warnings.warn('Lazy modules are a new feature under heavy development '\n"
                    ]
                },
                {
                    "name": "stdout",
                    "output_type": "stream",
                    "text": [
                        "Loaded model from /workdir/optimal-summaries-public/_models/tiselac/atomics/n_atomics_30_n_concepts_4_use_indicators_False_use_fixes_True_use_summaries_for_atomics_False_seed_1.pt\n",
                        "['atomics', 23, 0.9883100390434265, 0.9523550868034363, 0.7431408762931824, 0.7431408762931824]\n",
                        "24 {'n_atomics': 30, 'n_concepts': 20, 'use_indicators': True, 'use_fixes': False, 'use_summaries_for_atomics': True}\n"
                    ]
                },
                {
                    "name": "stderr",
                    "output_type": "stream",
                    "text": [
                        "/usr/local/lib/python3.10/dist-packages/torch/nn/modules/lazy.py:180: UserWarning: Lazy modules are a new feature under heavy development so changes to the API or functionality can happen at any moment.\n",
                        "  warnings.warn('Lazy modules are a new feature under heavy development '\n"
                    ]
                },
                {
                    "name": "stdout",
                    "output_type": "stream",
                    "text": [
                        "Loaded model from /workdir/optimal-summaries-public/_models/tiselac/atomics/n_atomics_30_n_concepts_20_use_indicators_True_use_fixes_False_use_summaries_for_atomics_True_seed_1.pt\n",
                        "['atomics', 24, 0.8115636110305786, 0.9693948030471802, 0.797662615776062, 0.797662615776062]\n",
                        "25 {'n_atomics': 30, 'n_concepts': 20, 'use_indicators': True, 'use_fixes': False, 'use_summaries_for_atomics': False}\n"
                    ]
                },
                {
                    "name": "stderr",
                    "output_type": "stream",
                    "text": [
                        "/usr/local/lib/python3.10/dist-packages/torch/nn/modules/lazy.py:180: UserWarning: Lazy modules are a new feature under heavy development so changes to the API or functionality can happen at any moment.\n",
                        "  warnings.warn('Lazy modules are a new feature under heavy development '\n"
                    ]
                },
                {
                    "name": "stdout",
                    "output_type": "stream",
                    "text": [
                        "Loaded model from /workdir/optimal-summaries-public/_models/tiselac/atomics/n_atomics_30_n_concepts_20_use_indicators_True_use_fixes_False_use_summaries_for_atomics_False_seed_1.pt\n",
                        "['atomics', 25, 0.8148693442344666, 0.9658177495002747, 0.7852234244346619, 0.7852234244346619]\n",
                        "26 {'n_atomics': 30, 'n_concepts': 20, 'use_indicators': True, 'use_fixes': True, 'use_summaries_for_atomics': True}\n"
                    ]
                },
                {
                    "name": "stderr",
                    "output_type": "stream",
                    "text": [
                        "/usr/local/lib/python3.10/dist-packages/torch/nn/modules/lazy.py:180: UserWarning: Lazy modules are a new feature under heavy development so changes to the API or functionality can happen at any moment.\n",
                        "  warnings.warn('Lazy modules are a new feature under heavy development '\n"
                    ]
                },
                {
                    "name": "stdout",
                    "output_type": "stream",
                    "text": [
                        "Loaded model from /workdir/optimal-summaries-public/_models/tiselac/atomics/n_atomics_30_n_concepts_20_use_indicators_True_use_fixes_True_use_summaries_for_atomics_True_seed_1.pt\n",
                        "['atomics', 26, 0.8137856125831604, 0.9686681032180786, 0.7901389598846436, 0.7901389598846436]\n",
                        "27 {'n_atomics': 30, 'n_concepts': 20, 'use_indicators': True, 'use_fixes': True, 'use_summaries_for_atomics': False}\n"
                    ]
                },
                {
                    "name": "stderr",
                    "output_type": "stream",
                    "text": [
                        "/usr/local/lib/python3.10/dist-packages/torch/nn/modules/lazy.py:180: UserWarning: Lazy modules are a new feature under heavy development so changes to the API or functionality can happen at any moment.\n",
                        "  warnings.warn('Lazy modules are a new feature under heavy development '\n"
                    ]
                },
                {
                    "name": "stdout",
                    "output_type": "stream",
                    "text": [
                        "Loaded model from /workdir/optimal-summaries-public/_models/tiselac/atomics/n_atomics_30_n_concepts_20_use_indicators_True_use_fixes_True_use_summaries_for_atomics_False_seed_1.pt\n",
                        "['atomics', 27, 0.7841296195983887, 0.9699182510375977, 0.7922957539558411, 0.7922957539558411]\n",
                        "28 {'n_atomics': 30, 'n_concepts': 20, 'use_indicators': False, 'use_fixes': False, 'use_summaries_for_atomics': True}\n"
                    ]
                },
                {
                    "name": "stderr",
                    "output_type": "stream",
                    "text": [
                        "/usr/local/lib/python3.10/dist-packages/torch/nn/modules/lazy.py:180: UserWarning: Lazy modules are a new feature under heavy development so changes to the API or functionality can happen at any moment.\n",
                        "  warnings.warn('Lazy modules are a new feature under heavy development '\n"
                    ]
                },
                {
                    "name": "stdout",
                    "output_type": "stream",
                    "text": [
                        "Loaded model from /workdir/optimal-summaries-public/_models/tiselac/atomics/n_atomics_30_n_concepts_20_use_indicators_False_use_fixes_False_use_summaries_for_atomics_True_seed_1.pt\n",
                        "['atomics', 28, 0.844871461391449, 0.96774822473526, 0.793048083782196, 0.793048083782196]\n",
                        "29 {'n_atomics': 30, 'n_concepts': 20, 'use_indicators': False, 'use_fixes': False, 'use_summaries_for_atomics': False}\n"
                    ]
                },
                {
                    "name": "stderr",
                    "output_type": "stream",
                    "text": [
                        "/usr/local/lib/python3.10/dist-packages/torch/nn/modules/lazy.py:180: UserWarning: Lazy modules are a new feature under heavy development so changes to the API or functionality can happen at any moment.\n",
                        "  warnings.warn('Lazy modules are a new feature under heavy development '\n"
                    ]
                },
                {
                    "name": "stdout",
                    "output_type": "stream",
                    "text": [
                        "Loaded model from /workdir/optimal-summaries-public/_models/tiselac/atomics/n_atomics_30_n_concepts_20_use_indicators_False_use_fixes_False_use_summaries_for_atomics_False_seed_1.pt\n",
                        "['atomics', 29, 0.8785293102264404, 0.9673466086387634, 0.7976124882698059, 0.7976124882698059]\n",
                        "30 {'n_atomics': 30, 'n_concepts': 20, 'use_indicators': False, 'use_fixes': True, 'use_summaries_for_atomics': True}\n"
                    ]
                },
                {
                    "name": "stderr",
                    "output_type": "stream",
                    "text": [
                        "/usr/local/lib/python3.10/dist-packages/torch/nn/modules/lazy.py:180: UserWarning: Lazy modules are a new feature under heavy development so changes to the API or functionality can happen at any moment.\n",
                        "  warnings.warn('Lazy modules are a new feature under heavy development '\n"
                    ]
                },
                {
                    "name": "stdout",
                    "output_type": "stream",
                    "text": [
                        "Loaded model from /workdir/optimal-summaries-public/_models/tiselac/atomics/n_atomics_30_n_concepts_20_use_indicators_False_use_fixes_True_use_summaries_for_atomics_True_seed_1.pt\n",
                        "['atomics', 30, 0.8519159555435181, 0.9671088457107544, 0.7897878289222717, 0.7897878289222717]\n",
                        "31 {'n_atomics': 30, 'n_concepts': 20, 'use_indicators': False, 'use_fixes': True, 'use_summaries_for_atomics': False}\n"
                    ]
                },
                {
                    "name": "stderr",
                    "output_type": "stream",
                    "text": [
                        "/usr/local/lib/python3.10/dist-packages/torch/nn/modules/lazy.py:180: UserWarning: Lazy modules are a new feature under heavy development so changes to the API or functionality can happen at any moment.\n",
                        "  warnings.warn('Lazy modules are a new feature under heavy development '\n"
                    ]
                },
                {
                    "name": "stdout",
                    "output_type": "stream",
                    "text": [
                        "Loaded model from /workdir/optimal-summaries-public/_models/tiselac/atomics/n_atomics_30_n_concepts_20_use_indicators_False_use_fixes_True_use_summaries_for_atomics_False_seed_1.pt\n",
                        "['atomics', 31, 0.8906210064888, 0.9656895399093628, 0.7911421060562134, 0.7911421060562134]\n"
                    ]
                },
                {
                    "data": {
                        "text/plain": [
                            "(32, 6)"
                        ]
                    },
                    "execution_count": 15,
                    "metadata": {},
                    "output_type": "execute_result"
                }
            ],
            "source": [
                "history_atomics = []\n",
                "\n",
                "for i, config in enumerate(all_config_permutations_atomics):\n",
                "    print(i, config)\n",
                "    \n",
                "    train_loader, val_loader, test_loader, class_weights, num_classes = preprocess_data(X, y, random_state=random_seed)#, batch_size=8)\n",
                "    \n",
                "    model = initializeModel_with_atomics(**config, static_dim=static_dim, changing_dim=changing_dim, seq_len=seq_len, output_dim = num_classes)\n",
                "    model.fit(train_loader, val_loader, p_weight=class_weights.to(device), save_model_path=model_path.format(**config, seed = random_seed), max_epochs=10000)\n",
                "    \n",
                "    model.eval()\n",
                "    with torch.inference_mode():\n",
                "        for batch in test_loader:\n",
                "            X_time, X_ind, X_static, yb = extract_to(batch, device)\n",
                "            probs = model(X_time, X_ind, X_static)\n",
                "            \n",
                "            auc = auroc_metric(probs, yb).item()\n",
                "            acc = accuracy_metric(probs, yb).item()\n",
                "            f1 = f1_metric(probs, yb).item()\n",
                "            # conf_matrix(probs, yb)\n",
                "        auc = auroc_metric.compute().item()\n",
                "        acc = accuracy_metric.compute().item()\n",
                "        f1 = f1_metric.compute().item()\n",
                "        # conf_matrix.plot()\n",
                "        # plt.show()\n",
                "        auroc_metric.reset()\n",
                "        accuracy_metric.reset()\n",
                "        # conf_matrix.reset()\n",
                "        f1_metric.reset()\n",
                "\n",
                "    history = [\"atomics\", i, model.val_losses[-1], auc, acc, f1]\n",
                "    print(history)\n",
                "    history_atomics.append(np.array(history))\n",
                "    \n",
                "    # plot_losses(model.train_losses, model.val_losses)\n",
                "    del model\n",
                "    gc.collect()\n",
                "    torch.cuda.empty_cache()\n",
                "\n",
                "    \n",
                "history_atomics = np.array(history_atomics)\n",
                "history_atomics.shape\n"
            ]
        },
        {
            "cell_type": "code",
            "execution_count": 16,
            "metadata": {},
            "outputs": [],
            "source": [
                "columns=[\"type\", \"config\", \"val_loss\", \"auc\", \"acc\", \"f1\"]\n",
                "dtypes = {'type': str, 'config': int, 'val_loss': float, 'auc': float, 'acc': float, 'f1': float}\n",
                "\n",
                "df_og = pd.DataFrame(histories_original, columns=columns).astype(dtypes)\n",
                "df_og = pd.concat([df_og, pd.DataFrame(all_config_permutations_og)], axis=1)\n",
                "\n",
                "df_atomics = pd.DataFrame(history_atomics, columns=columns).astype(dtypes)\n",
                "df_atomics = pd.concat([df_atomics, pd.DataFrame(all_config_permutations_atomics)], axis=1)\n",
                "\n",
                "result_df = pd.concat([df_og, df_atomics], ignore_index=True)\n",
                "# result_df"
            ]
        },
        {
            "cell_type": "code",
            "execution_count": 17,
            "metadata": {},
            "outputs": [
                {
                    "name": "stdout",
                    "output_type": "stream",
                    "text": [
                        "auc 0.9575191140174866\n",
                        "acc 0.7556302547454834\n",
                        "f1 0.7556302547454834\n"
                    ]
                }
            ],
            "source": [
                "for col in result_df.columns[3:6]:\n",
                "    baseline = result_df[(result_df['type'] == 'original') & (result_df['config'] == 0)][col].values[0]\n",
                "    print(col, baseline)\n",
                "    result_df[f'{col}_abs_imp'] = result_df[col] - baseline\n",
                "    # result_df[f'{col}_rel_imp'] = result_df[f'{col}_abs_imp'] / baseline\n",
                "# result_df"
            ]
        },
        {
            "cell_type": "code",
            "execution_count": 18,
            "metadata": {},
            "outputs": [
                {
                    "data": {
                        "text/html": [
                            "<div>\n",
                            "<style scoped>\n",
                            "    .dataframe tbody tr th:only-of-type {\n",
                            "        vertical-align: middle;\n",
                            "    }\n",
                            "\n",
                            "    .dataframe tbody tr th {\n",
                            "        vertical-align: top;\n",
                            "    }\n",
                            "\n",
                            "    .dataframe thead th {\n",
                            "        text-align: right;\n",
                            "    }\n",
                            "</style>\n",
                            "<table border=\"1\" class=\"dataframe\">\n",
                            "  <thead>\n",
                            "    <tr style=\"text-align: right;\">\n",
                            "      <th></th>\n",
                            "      <th>type</th>\n",
                            "      <th>config</th>\n",
                            "      <th>val_loss</th>\n",
                            "      <th>auc</th>\n",
                            "      <th>acc</th>\n",
                            "      <th>f1</th>\n",
                            "      <th>n_concepts</th>\n",
                            "      <th>use_indicators</th>\n",
                            "      <th>use_fixes</th>\n",
                            "      <th>use_only_last_timestep</th>\n",
                            "      <th>n_atomics</th>\n",
                            "      <th>use_summaries_for_atomics</th>\n",
                            "      <th>auc_abs_imp</th>\n",
                            "      <th>acc_abs_imp</th>\n",
                            "      <th>f1_abs_imp</th>\n",
                            "    </tr>\n",
                            "  </thead>\n",
                            "  <tbody>\n",
                            "    <tr>\n",
                            "      <th>15</th>\n",
                            "      <td>original</td>\n",
                            "      <td>15</td>\n",
                            "      <td>0.732786</td>\n",
                            "      <td>0.974112</td>\n",
                            "      <td>0.815118</td>\n",
                            "      <td>0.815118</td>\n",
                            "      <td>20</td>\n",
                            "      <td>False</td>\n",
                            "      <td>True</td>\n",
                            "      <td>False</td>\n",
                            "      <td>NaN</td>\n",
                            "      <td>NaN</td>\n",
                            "      <td>0.016593</td>\n",
                            "      <td>0.059487</td>\n",
                            "      <td>0.059487</td>\n",
                            "    </tr>\n",
                            "    <tr>\n",
                            "      <th>11</th>\n",
                            "      <td>original</td>\n",
                            "      <td>11</td>\n",
                            "      <td>0.784416</td>\n",
                            "      <td>0.971525</td>\n",
                            "      <td>0.808296</td>\n",
                            "      <td>0.808296</td>\n",
                            "      <td>20</td>\n",
                            "      <td>True</td>\n",
                            "      <td>True</td>\n",
                            "      <td>False</td>\n",
                            "      <td>NaN</td>\n",
                            "      <td>NaN</td>\n",
                            "      <td>0.014006</td>\n",
                            "      <td>0.052666</td>\n",
                            "      <td>0.052666</td>\n",
                            "    </tr>\n",
                            "    <tr>\n",
                            "      <th>9</th>\n",
                            "      <td>original</td>\n",
                            "      <td>9</td>\n",
                            "      <td>0.767915</td>\n",
                            "      <td>0.971734</td>\n",
                            "      <td>0.807343</td>\n",
                            "      <td>0.807343</td>\n",
                            "      <td>20</td>\n",
                            "      <td>True</td>\n",
                            "      <td>False</td>\n",
                            "      <td>False</td>\n",
                            "      <td>NaN</td>\n",
                            "      <td>NaN</td>\n",
                            "      <td>0.014215</td>\n",
                            "      <td>0.051713</td>\n",
                            "      <td>0.051713</td>\n",
                            "    </tr>\n",
                            "    <tr>\n",
                            "      <th>13</th>\n",
                            "      <td>original</td>\n",
                            "      <td>13</td>\n",
                            "      <td>0.725521</td>\n",
                            "      <td>0.973707</td>\n",
                            "      <td>0.807092</td>\n",
                            "      <td>0.807092</td>\n",
                            "      <td>20</td>\n",
                            "      <td>False</td>\n",
                            "      <td>False</td>\n",
                            "      <td>False</td>\n",
                            "      <td>NaN</td>\n",
                            "      <td>NaN</td>\n",
                            "      <td>0.016188</td>\n",
                            "      <td>0.051462</td>\n",
                            "      <td>0.051462</td>\n",
                            "    </tr>\n",
                            "    <tr>\n",
                            "      <th>27</th>\n",
                            "      <td>atomics</td>\n",
                            "      <td>11</td>\n",
                            "      <td>0.775705</td>\n",
                            "      <td>0.970151</td>\n",
                            "      <td>0.801976</td>\n",
                            "      <td>0.801976</td>\n",
                            "      <td>20</td>\n",
                            "      <td>True</td>\n",
                            "      <td>True</td>\n",
                            "      <td>NaN</td>\n",
                            "      <td>10.0</td>\n",
                            "      <td>False</td>\n",
                            "      <td>0.012632</td>\n",
                            "      <td>0.046346</td>\n",
                            "      <td>0.046346</td>\n",
                            "    </tr>\n",
                            "    <tr>\n",
                            "      <th>40</th>\n",
                            "      <td>atomics</td>\n",
                            "      <td>24</td>\n",
                            "      <td>0.811564</td>\n",
                            "      <td>0.969395</td>\n",
                            "      <td>0.797663</td>\n",
                            "      <td>0.797663</td>\n",
                            "      <td>20</td>\n",
                            "      <td>True</td>\n",
                            "      <td>False</td>\n",
                            "      <td>NaN</td>\n",
                            "      <td>30.0</td>\n",
                            "      <td>True</td>\n",
                            "      <td>0.011876</td>\n",
                            "      <td>0.042032</td>\n",
                            "      <td>0.042032</td>\n",
                            "    </tr>\n",
                            "    <tr>\n",
                            "      <th>45</th>\n",
                            "      <td>atomics</td>\n",
                            "      <td>29</td>\n",
                            "      <td>0.878529</td>\n",
                            "      <td>0.967347</td>\n",
                            "      <td>0.797612</td>\n",
                            "      <td>0.797612</td>\n",
                            "      <td>20</td>\n",
                            "      <td>False</td>\n",
                            "      <td>False</td>\n",
                            "      <td>NaN</td>\n",
                            "      <td>30.0</td>\n",
                            "      <td>False</td>\n",
                            "      <td>0.009827</td>\n",
                            "      <td>0.041982</td>\n",
                            "      <td>0.041982</td>\n",
                            "    </tr>\n",
                            "    <tr>\n",
                            "      <th>29</th>\n",
                            "      <td>atomics</td>\n",
                            "      <td>13</td>\n",
                            "      <td>0.792076</td>\n",
                            "      <td>0.968039</td>\n",
                            "      <td>0.794352</td>\n",
                            "      <td>0.794352</td>\n",
                            "      <td>20</td>\n",
                            "      <td>False</td>\n",
                            "      <td>False</td>\n",
                            "      <td>NaN</td>\n",
                            "      <td>10.0</td>\n",
                            "      <td>False</td>\n",
                            "      <td>0.010520</td>\n",
                            "      <td>0.038722</td>\n",
                            "      <td>0.038722</td>\n",
                            "    </tr>\n",
                            "    <tr>\n",
                            "      <th>44</th>\n",
                            "      <td>atomics</td>\n",
                            "      <td>28</td>\n",
                            "      <td>0.844871</td>\n",
                            "      <td>0.967748</td>\n",
                            "      <td>0.793048</td>\n",
                            "      <td>0.793048</td>\n",
                            "      <td>20</td>\n",
                            "      <td>False</td>\n",
                            "      <td>False</td>\n",
                            "      <td>NaN</td>\n",
                            "      <td>30.0</td>\n",
                            "      <td>True</td>\n",
                            "      <td>0.010229</td>\n",
                            "      <td>0.037418</td>\n",
                            "      <td>0.037418</td>\n",
                            "    </tr>\n",
                            "    <tr>\n",
                            "      <th>43</th>\n",
                            "      <td>atomics</td>\n",
                            "      <td>27</td>\n",
                            "      <td>0.784130</td>\n",
                            "      <td>0.969918</td>\n",
                            "      <td>0.792296</td>\n",
                            "      <td>0.792296</td>\n",
                            "      <td>20</td>\n",
                            "      <td>True</td>\n",
                            "      <td>True</td>\n",
                            "      <td>NaN</td>\n",
                            "      <td>30.0</td>\n",
                            "      <td>False</td>\n",
                            "      <td>0.012399</td>\n",
                            "      <td>0.036665</td>\n",
                            "      <td>0.036665</td>\n",
                            "    </tr>\n",
                            "    <tr>\n",
                            "      <th>47</th>\n",
                            "      <td>atomics</td>\n",
                            "      <td>31</td>\n",
                            "      <td>0.890621</td>\n",
                            "      <td>0.965690</td>\n",
                            "      <td>0.791142</td>\n",
                            "      <td>0.791142</td>\n",
                            "      <td>20</td>\n",
                            "      <td>False</td>\n",
                            "      <td>True</td>\n",
                            "      <td>NaN</td>\n",
                            "      <td>30.0</td>\n",
                            "      <td>False</td>\n",
                            "      <td>0.008170</td>\n",
                            "      <td>0.035512</td>\n",
                            "      <td>0.035512</td>\n",
                            "    </tr>\n",
                            "    <tr>\n",
                            "      <th>24</th>\n",
                            "      <td>atomics</td>\n",
                            "      <td>8</td>\n",
                            "      <td>0.804708</td>\n",
                            "      <td>0.968648</td>\n",
                            "      <td>0.790841</td>\n",
                            "      <td>0.790841</td>\n",
                            "      <td>20</td>\n",
                            "      <td>True</td>\n",
                            "      <td>False</td>\n",
                            "      <td>NaN</td>\n",
                            "      <td>10.0</td>\n",
                            "      <td>True</td>\n",
                            "      <td>0.011129</td>\n",
                            "      <td>0.035211</td>\n",
                            "      <td>0.035211</td>\n",
                            "    </tr>\n",
                            "    <tr>\n",
                            "      <th>42</th>\n",
                            "      <td>atomics</td>\n",
                            "      <td>26</td>\n",
                            "      <td>0.813786</td>\n",
                            "      <td>0.968668</td>\n",
                            "      <td>0.790139</td>\n",
                            "      <td>0.790139</td>\n",
                            "      <td>20</td>\n",
                            "      <td>True</td>\n",
                            "      <td>True</td>\n",
                            "      <td>NaN</td>\n",
                            "      <td>30.0</td>\n",
                            "      <td>True</td>\n",
                            "      <td>0.011149</td>\n",
                            "      <td>0.034509</td>\n",
                            "      <td>0.034509</td>\n",
                            "    </tr>\n",
                            "    <tr>\n",
                            "      <th>46</th>\n",
                            "      <td>atomics</td>\n",
                            "      <td>30</td>\n",
                            "      <td>0.851916</td>\n",
                            "      <td>0.967109</td>\n",
                            "      <td>0.789788</td>\n",
                            "      <td>0.789788</td>\n",
                            "      <td>20</td>\n",
                            "      <td>False</td>\n",
                            "      <td>True</td>\n",
                            "      <td>NaN</td>\n",
                            "      <td>30.0</td>\n",
                            "      <td>True</td>\n",
                            "      <td>0.009590</td>\n",
                            "      <td>0.034158</td>\n",
                            "      <td>0.034158</td>\n",
                            "    </tr>\n",
                            "    <tr>\n",
                            "      <th>3</th>\n",
                            "      <td>original</td>\n",
                            "      <td>3</td>\n",
                            "      <td>0.813216</td>\n",
                            "      <td>0.965337</td>\n",
                            "      <td>0.785976</td>\n",
                            "      <td>0.785976</td>\n",
                            "      <td>4</td>\n",
                            "      <td>True</td>\n",
                            "      <td>True</td>\n",
                            "      <td>False</td>\n",
                            "      <td>NaN</td>\n",
                            "      <td>NaN</td>\n",
                            "      <td>0.007818</td>\n",
                            "      <td>0.030346</td>\n",
                            "      <td>0.030346</td>\n",
                            "    </tr>\n",
                            "    <tr>\n",
                            "      <th>41</th>\n",
                            "      <td>atomics</td>\n",
                            "      <td>25</td>\n",
                            "      <td>0.814869</td>\n",
                            "      <td>0.965818</td>\n",
                            "      <td>0.785223</td>\n",
                            "      <td>0.785223</td>\n",
                            "      <td>20</td>\n",
                            "      <td>True</td>\n",
                            "      <td>False</td>\n",
                            "      <td>NaN</td>\n",
                            "      <td>30.0</td>\n",
                            "      <td>False</td>\n",
                            "      <td>0.008299</td>\n",
                            "      <td>0.029593</td>\n",
                            "      <td>0.029593</td>\n",
                            "    </tr>\n",
                            "    <tr>\n",
                            "      <th>14</th>\n",
                            "      <td>original</td>\n",
                            "      <td>14</td>\n",
                            "      <td>0.817330</td>\n",
                            "      <td>0.963974</td>\n",
                            "      <td>0.783418</td>\n",
                            "      <td>0.783418</td>\n",
                            "      <td>20</td>\n",
                            "      <td>False</td>\n",
                            "      <td>True</td>\n",
                            "      <td>True</td>\n",
                            "      <td>NaN</td>\n",
                            "      <td>NaN</td>\n",
                            "      <td>0.006455</td>\n",
                            "      <td>0.027788</td>\n",
                            "      <td>0.027788</td>\n",
                            "    </tr>\n",
                            "    <tr>\n",
                            "      <th>28</th>\n",
                            "      <td>atomics</td>\n",
                            "      <td>12</td>\n",
                            "      <td>0.821225</td>\n",
                            "      <td>0.966477</td>\n",
                            "      <td>0.782214</td>\n",
                            "      <td>0.782214</td>\n",
                            "      <td>20</td>\n",
                            "      <td>False</td>\n",
                            "      <td>False</td>\n",
                            "      <td>NaN</td>\n",
                            "      <td>10.0</td>\n",
                            "      <td>True</td>\n",
                            "      <td>0.008958</td>\n",
                            "      <td>0.026584</td>\n",
                            "      <td>0.026584</td>\n",
                            "    </tr>\n",
                            "    <tr>\n",
                            "      <th>12</th>\n",
                            "      <td>original</td>\n",
                            "      <td>12</td>\n",
                            "      <td>0.820826</td>\n",
                            "      <td>0.963841</td>\n",
                            "      <td>0.781863</td>\n",
                            "      <td>0.781863</td>\n",
                            "      <td>20</td>\n",
                            "      <td>False</td>\n",
                            "      <td>False</td>\n",
                            "      <td>True</td>\n",
                            "      <td>NaN</td>\n",
                            "      <td>NaN</td>\n",
                            "      <td>0.006322</td>\n",
                            "      <td>0.026233</td>\n",
                            "      <td>0.026233</td>\n",
                            "    </tr>\n",
                            "    <tr>\n",
                            "      <th>30</th>\n",
                            "      <td>atomics</td>\n",
                            "      <td>14</td>\n",
                            "      <td>0.825367</td>\n",
                            "      <td>0.965737</td>\n",
                            "      <td>0.780158</td>\n",
                            "      <td>0.780158</td>\n",
                            "      <td>20</td>\n",
                            "      <td>False</td>\n",
                            "      <td>True</td>\n",
                            "      <td>NaN</td>\n",
                            "      <td>10.0</td>\n",
                            "      <td>True</td>\n",
                            "      <td>0.008218</td>\n",
                            "      <td>0.024527</td>\n",
                            "      <td>0.024527</td>\n",
                            "    </tr>\n",
                            "    <tr>\n",
                            "      <th>25</th>\n",
                            "      <td>atomics</td>\n",
                            "      <td>9</td>\n",
                            "      <td>0.792961</td>\n",
                            "      <td>0.966949</td>\n",
                            "      <td>0.779907</td>\n",
                            "      <td>0.779907</td>\n",
                            "      <td>20</td>\n",
                            "      <td>True</td>\n",
                            "      <td>False</td>\n",
                            "      <td>NaN</td>\n",
                            "      <td>10.0</td>\n",
                            "      <td>False</td>\n",
                            "      <td>0.009430</td>\n",
                            "      <td>0.024276</td>\n",
                            "      <td>0.024276</td>\n",
                            "    </tr>\n",
                            "    <tr>\n",
                            "      <th>26</th>\n",
                            "      <td>atomics</td>\n",
                            "      <td>10</td>\n",
                            "      <td>0.813727</td>\n",
                            "      <td>0.967534</td>\n",
                            "      <td>0.779004</td>\n",
                            "      <td>0.779004</td>\n",
                            "      <td>20</td>\n",
                            "      <td>True</td>\n",
                            "      <td>True</td>\n",
                            "      <td>NaN</td>\n",
                            "      <td>10.0</td>\n",
                            "      <td>True</td>\n",
                            "      <td>0.010015</td>\n",
                            "      <td>0.023374</td>\n",
                            "      <td>0.023374</td>\n",
                            "    </tr>\n",
                            "    <tr>\n",
                            "      <th>7</th>\n",
                            "      <td>original</td>\n",
                            "      <td>7</td>\n",
                            "      <td>0.811588</td>\n",
                            "      <td>0.963976</td>\n",
                            "      <td>0.778803</td>\n",
                            "      <td>0.778803</td>\n",
                            "      <td>4</td>\n",
                            "      <td>False</td>\n",
                            "      <td>True</td>\n",
                            "      <td>False</td>\n",
                            "      <td>NaN</td>\n",
                            "      <td>NaN</td>\n",
                            "      <td>0.006457</td>\n",
                            "      <td>0.023173</td>\n",
                            "      <td>0.023173</td>\n",
                            "    </tr>\n",
                            "    <tr>\n",
                            "      <th>31</th>\n",
                            "      <td>atomics</td>\n",
                            "      <td>15</td>\n",
                            "      <td>0.803749</td>\n",
                            "      <td>0.964774</td>\n",
                            "      <td>0.778753</td>\n",
                            "      <td>0.778753</td>\n",
                            "      <td>20</td>\n",
                            "      <td>False</td>\n",
                            "      <td>True</td>\n",
                            "      <td>NaN</td>\n",
                            "      <td>10.0</td>\n",
                            "      <td>False</td>\n",
                            "      <td>0.007255</td>\n",
                            "      <td>0.023123</td>\n",
                            "      <td>0.023123</td>\n",
                            "    </tr>\n",
                            "    <tr>\n",
                            "      <th>5</th>\n",
                            "      <td>original</td>\n",
                            "      <td>5</td>\n",
                            "      <td>0.818750</td>\n",
                            "      <td>0.963249</td>\n",
                            "      <td>0.775944</td>\n",
                            "      <td>0.775944</td>\n",
                            "      <td>4</td>\n",
                            "      <td>False</td>\n",
                            "      <td>False</td>\n",
                            "      <td>False</td>\n",
                            "      <td>NaN</td>\n",
                            "      <td>NaN</td>\n",
                            "      <td>0.005729</td>\n",
                            "      <td>0.020314</td>\n",
                            "      <td>0.020314</td>\n",
                            "    </tr>\n",
                            "    <tr>\n",
                            "      <th>8</th>\n",
                            "      <td>original</td>\n",
                            "      <td>8</td>\n",
                            "      <td>0.794795</td>\n",
                            "      <td>0.966228</td>\n",
                            "      <td>0.775443</td>\n",
                            "      <td>0.775443</td>\n",
                            "      <td>20</td>\n",
                            "      <td>True</td>\n",
                            "      <td>False</td>\n",
                            "      <td>True</td>\n",
                            "      <td>NaN</td>\n",
                            "      <td>NaN</td>\n",
                            "      <td>0.008709</td>\n",
                            "      <td>0.019812</td>\n",
                            "      <td>0.019812</td>\n",
                            "    </tr>\n",
                            "    <tr>\n",
                            "      <th>19</th>\n",
                            "      <td>atomics</td>\n",
                            "      <td>3</td>\n",
                            "      <td>0.828691</td>\n",
                            "      <td>0.961837</td>\n",
                            "      <td>0.774941</td>\n",
                            "      <td>0.774941</td>\n",
                            "      <td>4</td>\n",
                            "      <td>True</td>\n",
                            "      <td>True</td>\n",
                            "      <td>NaN</td>\n",
                            "      <td>10.0</td>\n",
                            "      <td>False</td>\n",
                            "      <td>0.004318</td>\n",
                            "      <td>0.019311</td>\n",
                            "      <td>0.019311</td>\n",
                            "    </tr>\n",
                            "    <tr>\n",
                            "      <th>10</th>\n",
                            "      <td>original</td>\n",
                            "      <td>10</td>\n",
                            "      <td>0.795838</td>\n",
                            "      <td>0.965638</td>\n",
                            "      <td>0.774440</td>\n",
                            "      <td>0.774440</td>\n",
                            "      <td>20</td>\n",
                            "      <td>True</td>\n",
                            "      <td>True</td>\n",
                            "      <td>True</td>\n",
                            "      <td>NaN</td>\n",
                            "      <td>NaN</td>\n",
                            "      <td>0.008119</td>\n",
                            "      <td>0.018809</td>\n",
                            "      <td>0.018809</td>\n",
                            "    </tr>\n",
                            "    <tr>\n",
                            "      <th>16</th>\n",
                            "      <td>atomics</td>\n",
                            "      <td>0</td>\n",
                            "      <td>0.844705</td>\n",
                            "      <td>0.963784</td>\n",
                            "      <td>0.772584</td>\n",
                            "      <td>0.772584</td>\n",
                            "      <td>4</td>\n",
                            "      <td>True</td>\n",
                            "      <td>False</td>\n",
                            "      <td>NaN</td>\n",
                            "      <td>10.0</td>\n",
                            "      <td>True</td>\n",
                            "      <td>0.006265</td>\n",
                            "      <td>0.016953</td>\n",
                            "      <td>0.016953</td>\n",
                            "    </tr>\n",
                            "    <tr>\n",
                            "      <th>34</th>\n",
                            "      <td>atomics</td>\n",
                            "      <td>18</td>\n",
                            "      <td>0.860785</td>\n",
                            "      <td>0.962492</td>\n",
                            "      <td>0.769825</td>\n",
                            "      <td>0.769825</td>\n",
                            "      <td>4</td>\n",
                            "      <td>True</td>\n",
                            "      <td>True</td>\n",
                            "      <td>NaN</td>\n",
                            "      <td>30.0</td>\n",
                            "      <td>True</td>\n",
                            "      <td>0.004973</td>\n",
                            "      <td>0.014195</td>\n",
                            "      <td>0.014195</td>\n",
                            "    </tr>\n",
                            "    <tr>\n",
                            "      <th>20</th>\n",
                            "      <td>atomics</td>\n",
                            "      <td>4</td>\n",
                            "      <td>0.868219</td>\n",
                            "      <td>0.960809</td>\n",
                            "      <td>0.768621</td>\n",
                            "      <td>0.768621</td>\n",
                            "      <td>4</td>\n",
                            "      <td>False</td>\n",
                            "      <td>False</td>\n",
                            "      <td>NaN</td>\n",
                            "      <td>10.0</td>\n",
                            "      <td>True</td>\n",
                            "      <td>0.003290</td>\n",
                            "      <td>0.012991</td>\n",
                            "      <td>0.012991</td>\n",
                            "    </tr>\n",
                            "    <tr>\n",
                            "      <th>32</th>\n",
                            "      <td>atomics</td>\n",
                            "      <td>16</td>\n",
                            "      <td>0.866814</td>\n",
                            "      <td>0.961595</td>\n",
                            "      <td>0.767116</td>\n",
                            "      <td>0.767116</td>\n",
                            "      <td>4</td>\n",
                            "      <td>True</td>\n",
                            "      <td>False</td>\n",
                            "      <td>NaN</td>\n",
                            "      <td>30.0</td>\n",
                            "      <td>True</td>\n",
                            "      <td>0.004076</td>\n",
                            "      <td>0.011486</td>\n",
                            "      <td>0.011486</td>\n",
                            "    </tr>\n",
                            "    <tr>\n",
                            "      <th>22</th>\n",
                            "      <td>atomics</td>\n",
                            "      <td>6</td>\n",
                            "      <td>0.891863</td>\n",
                            "      <td>0.957449</td>\n",
                            "      <td>0.765511</td>\n",
                            "      <td>0.765511</td>\n",
                            "      <td>4</td>\n",
                            "      <td>False</td>\n",
                            "      <td>True</td>\n",
                            "      <td>NaN</td>\n",
                            "      <td>10.0</td>\n",
                            "      <td>True</td>\n",
                            "      <td>-0.000070</td>\n",
                            "      <td>0.009881</td>\n",
                            "      <td>0.009881</td>\n",
                            "    </tr>\n",
                            "    <tr>\n",
                            "      <th>38</th>\n",
                            "      <td>atomics</td>\n",
                            "      <td>22</td>\n",
                            "      <td>0.903214</td>\n",
                            "      <td>0.962036</td>\n",
                            "      <td>0.763505</td>\n",
                            "      <td>0.763505</td>\n",
                            "      <td>4</td>\n",
                            "      <td>False</td>\n",
                            "      <td>True</td>\n",
                            "      <td>NaN</td>\n",
                            "      <td>30.0</td>\n",
                            "      <td>True</td>\n",
                            "      <td>0.004517</td>\n",
                            "      <td>0.007875</td>\n",
                            "      <td>0.007875</td>\n",
                            "    </tr>\n",
                            "    <tr>\n",
                            "      <th>1</th>\n",
                            "      <td>original</td>\n",
                            "      <td>1</td>\n",
                            "      <td>0.862443</td>\n",
                            "      <td>0.960568</td>\n",
                            "      <td>0.763304</td>\n",
                            "      <td>0.763304</td>\n",
                            "      <td>4</td>\n",
                            "      <td>True</td>\n",
                            "      <td>False</td>\n",
                            "      <td>False</td>\n",
                            "      <td>NaN</td>\n",
                            "      <td>NaN</td>\n",
                            "      <td>0.003048</td>\n",
                            "      <td>0.007674</td>\n",
                            "      <td>0.007674</td>\n",
                            "    </tr>\n",
                            "    <tr>\n",
                            "      <th>33</th>\n",
                            "      <td>atomics</td>\n",
                            "      <td>17</td>\n",
                            "      <td>0.881548</td>\n",
                            "      <td>0.957137</td>\n",
                            "      <td>0.762402</td>\n",
                            "      <td>0.762402</td>\n",
                            "      <td>4</td>\n",
                            "      <td>True</td>\n",
                            "      <td>False</td>\n",
                            "      <td>NaN</td>\n",
                            "      <td>30.0</td>\n",
                            "      <td>False</td>\n",
                            "      <td>-0.000382</td>\n",
                            "      <td>0.006771</td>\n",
                            "      <td>0.006771</td>\n",
                            "    </tr>\n",
                            "    <tr>\n",
                            "      <th>6</th>\n",
                            "      <td>original</td>\n",
                            "      <td>6</td>\n",
                            "      <td>0.886578</td>\n",
                            "      <td>0.954658</td>\n",
                            "      <td>0.760796</td>\n",
                            "      <td>0.760796</td>\n",
                            "      <td>4</td>\n",
                            "      <td>False</td>\n",
                            "      <td>True</td>\n",
                            "      <td>True</td>\n",
                            "      <td>NaN</td>\n",
                            "      <td>NaN</td>\n",
                            "      <td>-0.002861</td>\n",
                            "      <td>0.005166</td>\n",
                            "      <td>0.005166</td>\n",
                            "    </tr>\n",
                            "    <tr>\n",
                            "      <th>4</th>\n",
                            "      <td>original</td>\n",
                            "      <td>4</td>\n",
                            "      <td>0.880457</td>\n",
                            "      <td>0.954117</td>\n",
                            "      <td>0.759894</td>\n",
                            "      <td>0.759894</td>\n",
                            "      <td>4</td>\n",
                            "      <td>False</td>\n",
                            "      <td>False</td>\n",
                            "      <td>True</td>\n",
                            "      <td>NaN</td>\n",
                            "      <td>NaN</td>\n",
                            "      <td>-0.003402</td>\n",
                            "      <td>0.004263</td>\n",
                            "      <td>0.004263</td>\n",
                            "    </tr>\n",
                            "    <tr>\n",
                            "      <th>23</th>\n",
                            "      <td>atomics</td>\n",
                            "      <td>7</td>\n",
                            "      <td>0.888702</td>\n",
                            "      <td>0.953287</td>\n",
                            "      <td>0.759442</td>\n",
                            "      <td>0.759442</td>\n",
                            "      <td>4</td>\n",
                            "      <td>False</td>\n",
                            "      <td>True</td>\n",
                            "      <td>NaN</td>\n",
                            "      <td>10.0</td>\n",
                            "      <td>False</td>\n",
                            "      <td>-0.004232</td>\n",
                            "      <td>0.003812</td>\n",
                            "      <td>0.003812</td>\n",
                            "    </tr>\n",
                            "    <tr>\n",
                            "      <th>36</th>\n",
                            "      <td>atomics</td>\n",
                            "      <td>20</td>\n",
                            "      <td>0.906633</td>\n",
                            "      <td>0.958642</td>\n",
                            "      <td>0.759292</td>\n",
                            "      <td>0.759292</td>\n",
                            "      <td>4</td>\n",
                            "      <td>False</td>\n",
                            "      <td>False</td>\n",
                            "      <td>NaN</td>\n",
                            "      <td>30.0</td>\n",
                            "      <td>True</td>\n",
                            "      <td>0.001123</td>\n",
                            "      <td>0.003662</td>\n",
                            "      <td>0.003662</td>\n",
                            "    </tr>\n",
                            "    <tr>\n",
                            "      <th>37</th>\n",
                            "      <td>atomics</td>\n",
                            "      <td>21</td>\n",
                            "      <td>0.955799</td>\n",
                            "      <td>0.956344</td>\n",
                            "      <td>0.757837</td>\n",
                            "      <td>0.757837</td>\n",
                            "      <td>4</td>\n",
                            "      <td>False</td>\n",
                            "      <td>False</td>\n",
                            "      <td>NaN</td>\n",
                            "      <td>30.0</td>\n",
                            "      <td>False</td>\n",
                            "      <td>-0.001176</td>\n",
                            "      <td>0.002207</td>\n",
                            "      <td>0.002207</td>\n",
                            "    </tr>\n",
                            "    <tr>\n",
                            "      <th>17</th>\n",
                            "      <td>atomics</td>\n",
                            "      <td>1</td>\n",
                            "      <td>0.860382</td>\n",
                            "      <td>0.957632</td>\n",
                            "      <td>0.756282</td>\n",
                            "      <td>0.756282</td>\n",
                            "      <td>4</td>\n",
                            "      <td>True</td>\n",
                            "      <td>False</td>\n",
                            "      <td>NaN</td>\n",
                            "      <td>10.0</td>\n",
                            "      <td>False</td>\n",
                            "      <td>0.000113</td>\n",
                            "      <td>0.000652</td>\n",
                            "      <td>0.000652</td>\n",
                            "    </tr>\n",
                            "    <tr>\n",
                            "      <th>2</th>\n",
                            "      <td>original</td>\n",
                            "      <td>2</td>\n",
                            "      <td>0.861831</td>\n",
                            "      <td>0.956436</td>\n",
                            "      <td>0.756082</td>\n",
                            "      <td>0.756082</td>\n",
                            "      <td>4</td>\n",
                            "      <td>True</td>\n",
                            "      <td>True</td>\n",
                            "      <td>True</td>\n",
                            "      <td>NaN</td>\n",
                            "      <td>NaN</td>\n",
                            "      <td>-0.001083</td>\n",
                            "      <td>0.000451</td>\n",
                            "      <td>0.000451</td>\n",
                            "    </tr>\n",
                            "    <tr>\n",
                            "      <th>0</th>\n",
                            "      <td>original</td>\n",
                            "      <td>0</td>\n",
                            "      <td>0.861294</td>\n",
                            "      <td>0.957519</td>\n",
                            "      <td>0.755630</td>\n",
                            "      <td>0.755630</td>\n",
                            "      <td>4</td>\n",
                            "      <td>True</td>\n",
                            "      <td>False</td>\n",
                            "      <td>True</td>\n",
                            "      <td>NaN</td>\n",
                            "      <td>NaN</td>\n",
                            "      <td>0.000000</td>\n",
                            "      <td>0.000000</td>\n",
                            "      <td>0.000000</td>\n",
                            "    </tr>\n",
                            "    <tr>\n",
                            "      <th>18</th>\n",
                            "      <td>atomics</td>\n",
                            "      <td>2</td>\n",
                            "      <td>0.884408</td>\n",
                            "      <td>0.959563</td>\n",
                            "      <td>0.755480</td>\n",
                            "      <td>0.755480</td>\n",
                            "      <td>4</td>\n",
                            "      <td>True</td>\n",
                            "      <td>True</td>\n",
                            "      <td>NaN</td>\n",
                            "      <td>10.0</td>\n",
                            "      <td>True</td>\n",
                            "      <td>0.002043</td>\n",
                            "      <td>-0.000151</td>\n",
                            "      <td>-0.000151</td>\n",
                            "    </tr>\n",
                            "    <tr>\n",
                            "      <th>21</th>\n",
                            "      <td>atomics</td>\n",
                            "      <td>5</td>\n",
                            "      <td>0.891017</td>\n",
                            "      <td>0.955188</td>\n",
                            "      <td>0.752119</td>\n",
                            "      <td>0.752119</td>\n",
                            "      <td>4</td>\n",
                            "      <td>False</td>\n",
                            "      <td>False</td>\n",
                            "      <td>NaN</td>\n",
                            "      <td>10.0</td>\n",
                            "      <td>False</td>\n",
                            "      <td>-0.002331</td>\n",
                            "      <td>-0.003511</td>\n",
                            "      <td>-0.003511</td>\n",
                            "    </tr>\n",
                            "    <tr>\n",
                            "      <th>35</th>\n",
                            "      <td>atomics</td>\n",
                            "      <td>19</td>\n",
                            "      <td>0.891526</td>\n",
                            "      <td>0.955788</td>\n",
                            "      <td>0.751919</td>\n",
                            "      <td>0.751919</td>\n",
                            "      <td>4</td>\n",
                            "      <td>True</td>\n",
                            "      <td>True</td>\n",
                            "      <td>NaN</td>\n",
                            "      <td>30.0</td>\n",
                            "      <td>False</td>\n",
                            "      <td>-0.001731</td>\n",
                            "      <td>-0.003712</td>\n",
                            "      <td>-0.003712</td>\n",
                            "    </tr>\n",
                            "    <tr>\n",
                            "      <th>39</th>\n",
                            "      <td>atomics</td>\n",
                            "      <td>23</td>\n",
                            "      <td>0.988310</td>\n",
                            "      <td>0.952355</td>\n",
                            "      <td>0.743141</td>\n",
                            "      <td>0.743141</td>\n",
                            "      <td>4</td>\n",
                            "      <td>False</td>\n",
                            "      <td>True</td>\n",
                            "      <td>NaN</td>\n",
                            "      <td>30.0</td>\n",
                            "      <td>False</td>\n",
                            "      <td>-0.005164</td>\n",
                            "      <td>-0.012489</td>\n",
                            "      <td>-0.012489</td>\n",
                            "    </tr>\n",
                            "  </tbody>\n",
                            "</table>\n",
                            "</div>"
                        ],
                        "text/plain": [
                            "        type  config  val_loss       auc       acc        f1  n_concepts  \\\n",
                            "15  original      15  0.732786  0.974112  0.815118  0.815118          20   \n",
                            "11  original      11  0.784416  0.971525  0.808296  0.808296          20   \n",
                            "9   original       9  0.767915  0.971734  0.807343  0.807343          20   \n",
                            "13  original      13  0.725521  0.973707  0.807092  0.807092          20   \n",
                            "27   atomics      11  0.775705  0.970151  0.801976  0.801976          20   \n",
                            "40   atomics      24  0.811564  0.969395  0.797663  0.797663          20   \n",
                            "45   atomics      29  0.878529  0.967347  0.797612  0.797612          20   \n",
                            "29   atomics      13  0.792076  0.968039  0.794352  0.794352          20   \n",
                            "44   atomics      28  0.844871  0.967748  0.793048  0.793048          20   \n",
                            "43   atomics      27  0.784130  0.969918  0.792296  0.792296          20   \n",
                            "47   atomics      31  0.890621  0.965690  0.791142  0.791142          20   \n",
                            "24   atomics       8  0.804708  0.968648  0.790841  0.790841          20   \n",
                            "42   atomics      26  0.813786  0.968668  0.790139  0.790139          20   \n",
                            "46   atomics      30  0.851916  0.967109  0.789788  0.789788          20   \n",
                            "3   original       3  0.813216  0.965337  0.785976  0.785976           4   \n",
                            "41   atomics      25  0.814869  0.965818  0.785223  0.785223          20   \n",
                            "14  original      14  0.817330  0.963974  0.783418  0.783418          20   \n",
                            "28   atomics      12  0.821225  0.966477  0.782214  0.782214          20   \n",
                            "12  original      12  0.820826  0.963841  0.781863  0.781863          20   \n",
                            "30   atomics      14  0.825367  0.965737  0.780158  0.780158          20   \n",
                            "25   atomics       9  0.792961  0.966949  0.779907  0.779907          20   \n",
                            "26   atomics      10  0.813727  0.967534  0.779004  0.779004          20   \n",
                            "7   original       7  0.811588  0.963976  0.778803  0.778803           4   \n",
                            "31   atomics      15  0.803749  0.964774  0.778753  0.778753          20   \n",
                            "5   original       5  0.818750  0.963249  0.775944  0.775944           4   \n",
                            "8   original       8  0.794795  0.966228  0.775443  0.775443          20   \n",
                            "19   atomics       3  0.828691  0.961837  0.774941  0.774941           4   \n",
                            "10  original      10  0.795838  0.965638  0.774440  0.774440          20   \n",
                            "16   atomics       0  0.844705  0.963784  0.772584  0.772584           4   \n",
                            "34   atomics      18  0.860785  0.962492  0.769825  0.769825           4   \n",
                            "20   atomics       4  0.868219  0.960809  0.768621  0.768621           4   \n",
                            "32   atomics      16  0.866814  0.961595  0.767116  0.767116           4   \n",
                            "22   atomics       6  0.891863  0.957449  0.765511  0.765511           4   \n",
                            "38   atomics      22  0.903214  0.962036  0.763505  0.763505           4   \n",
                            "1   original       1  0.862443  0.960568  0.763304  0.763304           4   \n",
                            "33   atomics      17  0.881548  0.957137  0.762402  0.762402           4   \n",
                            "6   original       6  0.886578  0.954658  0.760796  0.760796           4   \n",
                            "4   original       4  0.880457  0.954117  0.759894  0.759894           4   \n",
                            "23   atomics       7  0.888702  0.953287  0.759442  0.759442           4   \n",
                            "36   atomics      20  0.906633  0.958642  0.759292  0.759292           4   \n",
                            "37   atomics      21  0.955799  0.956344  0.757837  0.757837           4   \n",
                            "17   atomics       1  0.860382  0.957632  0.756282  0.756282           4   \n",
                            "2   original       2  0.861831  0.956436  0.756082  0.756082           4   \n",
                            "0   original       0  0.861294  0.957519  0.755630  0.755630           4   \n",
                            "18   atomics       2  0.884408  0.959563  0.755480  0.755480           4   \n",
                            "21   atomics       5  0.891017  0.955188  0.752119  0.752119           4   \n",
                            "35   atomics      19  0.891526  0.955788  0.751919  0.751919           4   \n",
                            "39   atomics      23  0.988310  0.952355  0.743141  0.743141           4   \n",
                            "\n",
                            "    use_indicators  use_fixes use_only_last_timestep  n_atomics  \\\n",
                            "15           False       True                  False        NaN   \n",
                            "11            True       True                  False        NaN   \n",
                            "9             True      False                  False        NaN   \n",
                            "13           False      False                  False        NaN   \n",
                            "27            True       True                    NaN       10.0   \n",
                            "40            True      False                    NaN       30.0   \n",
                            "45           False      False                    NaN       30.0   \n",
                            "29           False      False                    NaN       10.0   \n",
                            "44           False      False                    NaN       30.0   \n",
                            "43            True       True                    NaN       30.0   \n",
                            "47           False       True                    NaN       30.0   \n",
                            "24            True      False                    NaN       10.0   \n",
                            "42            True       True                    NaN       30.0   \n",
                            "46           False       True                    NaN       30.0   \n",
                            "3             True       True                  False        NaN   \n",
                            "41            True      False                    NaN       30.0   \n",
                            "14           False       True                   True        NaN   \n",
                            "28           False      False                    NaN       10.0   \n",
                            "12           False      False                   True        NaN   \n",
                            "30           False       True                    NaN       10.0   \n",
                            "25            True      False                    NaN       10.0   \n",
                            "26            True       True                    NaN       10.0   \n",
                            "7            False       True                  False        NaN   \n",
                            "31           False       True                    NaN       10.0   \n",
                            "5            False      False                  False        NaN   \n",
                            "8             True      False                   True        NaN   \n",
                            "19            True       True                    NaN       10.0   \n",
                            "10            True       True                   True        NaN   \n",
                            "16            True      False                    NaN       10.0   \n",
                            "34            True       True                    NaN       30.0   \n",
                            "20           False      False                    NaN       10.0   \n",
                            "32            True      False                    NaN       30.0   \n",
                            "22           False       True                    NaN       10.0   \n",
                            "38           False       True                    NaN       30.0   \n",
                            "1             True      False                  False        NaN   \n",
                            "33            True      False                    NaN       30.0   \n",
                            "6            False       True                   True        NaN   \n",
                            "4            False      False                   True        NaN   \n",
                            "23           False       True                    NaN       10.0   \n",
                            "36           False      False                    NaN       30.0   \n",
                            "37           False      False                    NaN       30.0   \n",
                            "17            True      False                    NaN       10.0   \n",
                            "2             True       True                   True        NaN   \n",
                            "0             True      False                   True        NaN   \n",
                            "18            True       True                    NaN       10.0   \n",
                            "21           False      False                    NaN       10.0   \n",
                            "35            True       True                    NaN       30.0   \n",
                            "39           False       True                    NaN       30.0   \n",
                            "\n",
                            "   use_summaries_for_atomics  auc_abs_imp  acc_abs_imp  f1_abs_imp  \n",
                            "15                       NaN     0.016593     0.059487    0.059487  \n",
                            "11                       NaN     0.014006     0.052666    0.052666  \n",
                            "9                        NaN     0.014215     0.051713    0.051713  \n",
                            "13                       NaN     0.016188     0.051462    0.051462  \n",
                            "27                     False     0.012632     0.046346    0.046346  \n",
                            "40                      True     0.011876     0.042032    0.042032  \n",
                            "45                     False     0.009827     0.041982    0.041982  \n",
                            "29                     False     0.010520     0.038722    0.038722  \n",
                            "44                      True     0.010229     0.037418    0.037418  \n",
                            "43                     False     0.012399     0.036665    0.036665  \n",
                            "47                     False     0.008170     0.035512    0.035512  \n",
                            "24                      True     0.011129     0.035211    0.035211  \n",
                            "42                      True     0.011149     0.034509    0.034509  \n",
                            "46                      True     0.009590     0.034158    0.034158  \n",
                            "3                        NaN     0.007818     0.030346    0.030346  \n",
                            "41                     False     0.008299     0.029593    0.029593  \n",
                            "14                       NaN     0.006455     0.027788    0.027788  \n",
                            "28                      True     0.008958     0.026584    0.026584  \n",
                            "12                       NaN     0.006322     0.026233    0.026233  \n",
                            "30                      True     0.008218     0.024527    0.024527  \n",
                            "25                     False     0.009430     0.024276    0.024276  \n",
                            "26                      True     0.010015     0.023374    0.023374  \n",
                            "7                        NaN     0.006457     0.023173    0.023173  \n",
                            "31                     False     0.007255     0.023123    0.023123  \n",
                            "5                        NaN     0.005729     0.020314    0.020314  \n",
                            "8                        NaN     0.008709     0.019812    0.019812  \n",
                            "19                     False     0.004318     0.019311    0.019311  \n",
                            "10                       NaN     0.008119     0.018809    0.018809  \n",
                            "16                      True     0.006265     0.016953    0.016953  \n",
                            "34                      True     0.004973     0.014195    0.014195  \n",
                            "20                      True     0.003290     0.012991    0.012991  \n",
                            "32                      True     0.004076     0.011486    0.011486  \n",
                            "22                      True    -0.000070     0.009881    0.009881  \n",
                            "38                      True     0.004517     0.007875    0.007875  \n",
                            "1                        NaN     0.003048     0.007674    0.007674  \n",
                            "33                     False    -0.000382     0.006771    0.006771  \n",
                            "6                        NaN    -0.002861     0.005166    0.005166  \n",
                            "4                        NaN    -0.003402     0.004263    0.004263  \n",
                            "23                     False    -0.004232     0.003812    0.003812  \n",
                            "36                      True     0.001123     0.003662    0.003662  \n",
                            "37                     False    -0.001176     0.002207    0.002207  \n",
                            "17                     False     0.000113     0.000652    0.000652  \n",
                            "2                        NaN    -0.001083     0.000451    0.000451  \n",
                            "0                        NaN     0.000000     0.000000    0.000000  \n",
                            "18                      True     0.002043    -0.000151   -0.000151  \n",
                            "21                     False    -0.002331    -0.003511   -0.003511  \n",
                            "35                     False    -0.001731    -0.003712   -0.003712  \n",
                            "39                     False    -0.005164    -0.012489   -0.012489  "
                        ]
                    },
                    "execution_count": 18,
                    "metadata": {},
                    "output_type": "execute_result"
                }
            ],
            "source": [
                "pd.set_option('display.max_rows', 500)\n",
                "result_df.sort_values(by='acc', ascending=False)\n",
                "# atomics: atomics, concepts, use_indicators, use_fixes, output_dim, use_summaries_for_atomics\n",
                "# original: concepts, use_indicators, use_fixes, output_dim, use_only_last_timestep\n"
            ]
        },
        {
            "cell_type": "code",
            "execution_count": 19,
            "metadata": {},
            "outputs": [
                {
                    "data": {
                        "text/html": [
                            "<div>\n",
                            "<style scoped>\n",
                            "    .dataframe tbody tr th:only-of-type {\n",
                            "        vertical-align: middle;\n",
                            "    }\n",
                            "\n",
                            "    .dataframe tbody tr th {\n",
                            "        vertical-align: top;\n",
                            "    }\n",
                            "\n",
                            "    .dataframe thead th {\n",
                            "        text-align: right;\n",
                            "    }\n",
                            "</style>\n",
                            "<table border=\"1\" class=\"dataframe\">\n",
                            "  <thead>\n",
                            "    <tr style=\"text-align: right;\">\n",
                            "      <th></th>\n",
                            "      <th></th>\n",
                            "      <th>auc</th>\n",
                            "      <th>acc</th>\n",
                            "      <th>f1</th>\n",
                            "    </tr>\n",
                            "    <tr>\n",
                            "      <th>type</th>\n",
                            "      <th>n_atomics</th>\n",
                            "      <th></th>\n",
                            "      <th></th>\n",
                            "      <th></th>\n",
                            "    </tr>\n",
                            "  </thead>\n",
                            "  <tbody>\n",
                            "    <tr>\n",
                            "      <th rowspan=\"2\" valign=\"top\">atomics</th>\n",
                            "      <th>10.0</th>\n",
                            "      <td>0.962991</td>\n",
                            "      <td>0.774512</td>\n",
                            "      <td>0.774512</td>\n",
                            "    </tr>\n",
                            "    <tr>\n",
                            "      <th>30.0</th>\n",
                            "      <td>0.963005</td>\n",
                            "      <td>0.775747</td>\n",
                            "      <td>0.775747</td>\n",
                            "    </tr>\n",
                            "  </tbody>\n",
                            "</table>\n",
                            "</div>"
                        ],
                        "text/plain": [
                            "                        auc       acc        f1\n",
                            "type    n_atomics                              \n",
                            "atomics 10.0       0.962991  0.774512  0.774512\n",
                            "        30.0       0.963005  0.775747  0.775747"
                        ]
                    },
                    "metadata": {},
                    "output_type": "display_data"
                },
                {
                    "data": {
                        "text/html": [
                            "<div>\n",
                            "<style scoped>\n",
                            "    .dataframe tbody tr th:only-of-type {\n",
                            "        vertical-align: middle;\n",
                            "    }\n",
                            "\n",
                            "    .dataframe tbody tr th {\n",
                            "        vertical-align: top;\n",
                            "    }\n",
                            "\n",
                            "    .dataframe thead th {\n",
                            "        text-align: right;\n",
                            "    }\n",
                            "</style>\n",
                            "<table border=\"1\" class=\"dataframe\">\n",
                            "  <thead>\n",
                            "    <tr style=\"text-align: right;\">\n",
                            "      <th></th>\n",
                            "      <th></th>\n",
                            "      <th>auc</th>\n",
                            "      <th>acc</th>\n",
                            "      <th>f1</th>\n",
                            "    </tr>\n",
                            "    <tr>\n",
                            "      <th>type</th>\n",
                            "      <th>n_concepts</th>\n",
                            "      <th></th>\n",
                            "      <th></th>\n",
                            "      <th></th>\n",
                            "    </tr>\n",
                            "  </thead>\n",
                            "  <tbody>\n",
                            "    <tr>\n",
                            "      <th rowspan=\"2\" valign=\"top\">atomics</th>\n",
                            "      <th>4</th>\n",
                            "      <td>0.958496</td>\n",
                            "      <td>0.761251</td>\n",
                            "      <td>0.761251</td>\n",
                            "    </tr>\n",
                            "    <tr>\n",
                            "      <th>20</th>\n",
                            "      <td>0.967500</td>\n",
                            "      <td>0.789007</td>\n",
                            "      <td>0.789007</td>\n",
                            "    </tr>\n",
                            "    <tr>\n",
                            "      <th rowspan=\"2\" valign=\"top\">original</th>\n",
                            "      <th>4</th>\n",
                            "      <td>0.959482</td>\n",
                            "      <td>0.767054</td>\n",
                            "      <td>0.767054</td>\n",
                            "    </tr>\n",
                            "    <tr>\n",
                            "      <th>20</th>\n",
                            "      <td>0.968845</td>\n",
                            "      <td>0.794127</td>\n",
                            "      <td>0.794127</td>\n",
                            "    </tr>\n",
                            "  </tbody>\n",
                            "</table>\n",
                            "</div>"
                        ],
                        "text/plain": [
                            "                          auc       acc        f1\n",
                            "type     n_concepts                              \n",
                            "atomics  4           0.958496  0.761251  0.761251\n",
                            "         20          0.967500  0.789007  0.789007\n",
                            "original 4           0.959482  0.767054  0.767054\n",
                            "         20          0.968845  0.794127  0.794127"
                        ]
                    },
                    "metadata": {},
                    "output_type": "display_data"
                },
                {
                    "data": {
                        "text/html": [
                            "<div>\n",
                            "<style scoped>\n",
                            "    .dataframe tbody tr th:only-of-type {\n",
                            "        vertical-align: middle;\n",
                            "    }\n",
                            "\n",
                            "    .dataframe tbody tr th {\n",
                            "        vertical-align: top;\n",
                            "    }\n",
                            "\n",
                            "    .dataframe thead th {\n",
                            "        text-align: right;\n",
                            "    }\n",
                            "</style>\n",
                            "<table border=\"1\" class=\"dataframe\">\n",
                            "  <thead>\n",
                            "    <tr style=\"text-align: right;\">\n",
                            "      <th></th>\n",
                            "      <th></th>\n",
                            "      <th>auc</th>\n",
                            "      <th>acc</th>\n",
                            "      <th>f1</th>\n",
                            "    </tr>\n",
                            "    <tr>\n",
                            "      <th>type</th>\n",
                            "      <th>use_fixes</th>\n",
                            "      <th></th>\n",
                            "      <th></th>\n",
                            "      <th></th>\n",
                            "    </tr>\n",
                            "  </thead>\n",
                            "  <tbody>\n",
                            "    <tr>\n",
                            "      <th rowspan=\"2\" valign=\"top\">atomics</th>\n",
                            "      <th>False</th>\n",
                            "      <td>0.963222</td>\n",
                            "      <td>0.776070</td>\n",
                            "      <td>0.776070</td>\n",
                            "    </tr>\n",
                            "    <tr>\n",
                            "      <th>True</th>\n",
                            "      <td>0.962774</td>\n",
                            "      <td>0.774189</td>\n",
                            "      <td>0.774189</td>\n",
                            "    </tr>\n",
                            "    <tr>\n",
                            "      <th rowspan=\"2\" valign=\"top\">original</th>\n",
                            "      <th>False</th>\n",
                            "      <td>0.963870</td>\n",
                            "      <td>0.778314</td>\n",
                            "      <td>0.778314</td>\n",
                            "    </tr>\n",
                            "    <tr>\n",
                            "      <th>True</th>\n",
                            "      <td>0.964457</td>\n",
                            "      <td>0.782866</td>\n",
                            "      <td>0.782866</td>\n",
                            "    </tr>\n",
                            "  </tbody>\n",
                            "</table>\n",
                            "</div>"
                        ],
                        "text/plain": [
                            "                         auc       acc        f1\n",
                            "type     use_fixes                              \n",
                            "atomics  False      0.963222  0.776070  0.776070\n",
                            "         True       0.962774  0.774189  0.774189\n",
                            "original False      0.963870  0.778314  0.778314\n",
                            "         True       0.964457  0.782866  0.782866"
                        ]
                    },
                    "metadata": {},
                    "output_type": "display_data"
                },
                {
                    "data": {
                        "text/html": [
                            "<div>\n",
                            "<style scoped>\n",
                            "    .dataframe tbody tr th:only-of-type {\n",
                            "        vertical-align: middle;\n",
                            "    }\n",
                            "\n",
                            "    .dataframe tbody tr th {\n",
                            "        vertical-align: top;\n",
                            "    }\n",
                            "\n",
                            "    .dataframe thead th {\n",
                            "        text-align: right;\n",
                            "    }\n",
                            "</style>\n",
                            "<table border=\"1\" class=\"dataframe\">\n",
                            "  <thead>\n",
                            "    <tr style=\"text-align: right;\">\n",
                            "      <th></th>\n",
                            "      <th></th>\n",
                            "      <th>auc</th>\n",
                            "      <th>acc</th>\n",
                            "      <th>f1</th>\n",
                            "    </tr>\n",
                            "    <tr>\n",
                            "      <th>type</th>\n",
                            "      <th>use_indicators</th>\n",
                            "      <th></th>\n",
                            "      <th></th>\n",
                            "      <th></th>\n",
                            "    </tr>\n",
                            "  </thead>\n",
                            "  <tbody>\n",
                            "    <tr>\n",
                            "      <th rowspan=\"2\" valign=\"top\">atomics</th>\n",
                            "      <th>False</th>\n",
                            "      <td>0.961814</td>\n",
                            "      <td>0.773534</td>\n",
                            "      <td>0.773534</td>\n",
                            "    </tr>\n",
                            "    <tr>\n",
                            "      <th>True</th>\n",
                            "      <td>0.964182</td>\n",
                            "      <td>0.776725</td>\n",
                            "      <td>0.776725</td>\n",
                            "    </tr>\n",
                            "    <tr>\n",
                            "      <th rowspan=\"2\" valign=\"top\">original</th>\n",
                            "      <th>False</th>\n",
                            "      <td>0.963954</td>\n",
                            "      <td>0.782866</td>\n",
                            "      <td>0.782866</td>\n",
                            "    </tr>\n",
                            "    <tr>\n",
                            "      <th>True</th>\n",
                            "      <td>0.964373</td>\n",
                            "      <td>0.778314</td>\n",
                            "      <td>0.778314</td>\n",
                            "    </tr>\n",
                            "  </tbody>\n",
                            "</table>\n",
                            "</div>"
                        ],
                        "text/plain": [
                            "                              auc       acc        f1\n",
                            "type     use_indicators                              \n",
                            "atomics  False           0.961814  0.773534  0.773534\n",
                            "         True            0.964182  0.776725  0.776725\n",
                            "original False           0.963954  0.782866  0.782866\n",
                            "         True            0.964373  0.778314  0.778314"
                        ]
                    },
                    "metadata": {},
                    "output_type": "display_data"
                },
                {
                    "data": {
                        "text/html": [
                            "<div>\n",
                            "<style scoped>\n",
                            "    .dataframe tbody tr th:only-of-type {\n",
                            "        vertical-align: middle;\n",
                            "    }\n",
                            "\n",
                            "    .dataframe tbody tr th {\n",
                            "        vertical-align: top;\n",
                            "    }\n",
                            "\n",
                            "    .dataframe thead th {\n",
                            "        text-align: right;\n",
                            "    }\n",
                            "</style>\n",
                            "<table border=\"1\" class=\"dataframe\">\n",
                            "  <thead>\n",
                            "    <tr style=\"text-align: right;\">\n",
                            "      <th></th>\n",
                            "      <th></th>\n",
                            "      <th>auc</th>\n",
                            "      <th>acc</th>\n",
                            "      <th>f1</th>\n",
                            "    </tr>\n",
                            "    <tr>\n",
                            "      <th>type</th>\n",
                            "      <th>use_only_last_timestep</th>\n",
                            "      <th></th>\n",
                            "      <th></th>\n",
                            "      <th></th>\n",
                            "    </tr>\n",
                            "  </thead>\n",
                            "  <tbody>\n",
                            "    <tr>\n",
                            "      <th rowspan=\"2\" valign=\"top\">original</th>\n",
                            "      <th>False</th>\n",
                            "      <td>0.968026</td>\n",
                            "      <td>0.792735</td>\n",
                            "      <td>0.792735</td>\n",
                            "    </tr>\n",
                            "    <tr>\n",
                            "      <th>True</th>\n",
                            "      <td>0.960301</td>\n",
                            "      <td>0.768446</td>\n",
                            "      <td>0.768446</td>\n",
                            "    </tr>\n",
                            "  </tbody>\n",
                            "</table>\n",
                            "</div>"
                        ],
                        "text/plain": [
                            "                                      auc       acc        f1\n",
                            "type     use_only_last_timestep                              \n",
                            "original False                   0.968026  0.792735  0.792735\n",
                            "         True                    0.960301  0.768446  0.768446"
                        ]
                    },
                    "metadata": {},
                    "output_type": "display_data"
                },
                {
                    "data": {
                        "text/html": [
                            "<div>\n",
                            "<style scoped>\n",
                            "    .dataframe tbody tr th:only-of-type {\n",
                            "        vertical-align: middle;\n",
                            "    }\n",
                            "\n",
                            "    .dataframe tbody tr th {\n",
                            "        vertical-align: top;\n",
                            "    }\n",
                            "\n",
                            "    .dataframe thead th {\n",
                            "        text-align: right;\n",
                            "    }\n",
                            "</style>\n",
                            "<table border=\"1\" class=\"dataframe\">\n",
                            "  <thead>\n",
                            "    <tr style=\"text-align: right;\">\n",
                            "      <th></th>\n",
                            "      <th></th>\n",
                            "      <th>auc</th>\n",
                            "      <th>acc</th>\n",
                            "      <th>f1</th>\n",
                            "    </tr>\n",
                            "    <tr>\n",
                            "      <th>type</th>\n",
                            "      <th>use_summaries_for_atomics</th>\n",
                            "      <th></th>\n",
                            "      <th></th>\n",
                            "      <th></th>\n",
                            "    </tr>\n",
                            "  </thead>\n",
                            "  <tbody>\n",
                            "    <tr>\n",
                            "      <th rowspan=\"2\" valign=\"top\">atomics</th>\n",
                            "      <th>False</th>\n",
                            "      <td>0.961766</td>\n",
                            "      <td>0.773709</td>\n",
                            "      <td>0.773709</td>\n",
                            "    </tr>\n",
                            "    <tr>\n",
                            "      <th>True</th>\n",
                            "      <td>0.964230</td>\n",
                            "      <td>0.776549</td>\n",
                            "      <td>0.776549</td>\n",
                            "    </tr>\n",
                            "  </tbody>\n",
                            "</table>\n",
                            "</div>"
                        ],
                        "text/plain": [
                            "                                        auc       acc        f1\n",
                            "type    use_summaries_for_atomics                              \n",
                            "atomics False                      0.961766  0.773709  0.773709\n",
                            "        True                       0.964230  0.776549  0.776549"
                        ]
                    },
                    "metadata": {},
                    "output_type": "display_data"
                },
                {
                    "data": {
                        "text/html": [
                            "<div>\n",
                            "<style scoped>\n",
                            "    .dataframe tbody tr th:only-of-type {\n",
                            "        vertical-align: middle;\n",
                            "    }\n",
                            "\n",
                            "    .dataframe tbody tr th {\n",
                            "        vertical-align: top;\n",
                            "    }\n",
                            "\n",
                            "    .dataframe thead th {\n",
                            "        text-align: right;\n",
                            "    }\n",
                            "</style>\n",
                            "<table border=\"1\" class=\"dataframe\">\n",
                            "  <thead>\n",
                            "    <tr style=\"text-align: right;\">\n",
                            "      <th></th>\n",
                            "      <th>auc</th>\n",
                            "      <th>acc</th>\n",
                            "      <th>f1</th>\n",
                            "    </tr>\n",
                            "    <tr>\n",
                            "      <th>type</th>\n",
                            "      <th></th>\n",
                            "      <th></th>\n",
                            "      <th></th>\n",
                            "    </tr>\n",
                            "  </thead>\n",
                            "  <tbody>\n",
                            "    <tr>\n",
                            "      <th>atomics</th>\n",
                            "      <td>0.962998</td>\n",
                            "      <td>0.775129</td>\n",
                            "      <td>0.775129</td>\n",
                            "    </tr>\n",
                            "    <tr>\n",
                            "      <th>original</th>\n",
                            "      <td>0.964164</td>\n",
                            "      <td>0.780590</td>\n",
                            "      <td>0.780590</td>\n",
                            "    </tr>\n",
                            "  </tbody>\n",
                            "</table>\n",
                            "</div>"
                        ],
                        "text/plain": [
                            "               auc       acc        f1\n",
                            "type                                  \n",
                            "atomics   0.962998  0.775129  0.775129\n",
                            "original  0.964164  0.780590  0.780590"
                        ]
                    },
                    "metadata": {},
                    "output_type": "display_data"
                }
            ],
            "source": [
                "for key in sorted(set(list(all_config_permutations_og[0].keys()) + list(all_config_permutations_atomics[0].keys()))):\n",
                "    display(result_df.groupby([\"type\", key])[[\"auc\", \"acc\", \"f1\"]].mean())\n",
                "\n",
                "display(result_df.groupby(\"type\")[[\"auc\", \"acc\", \"f1\"]].mean())"
            ]
        },
        {
            "cell_type": "markdown",
            "metadata": {},
            "source": [
                "## Optimization"
            ]
        },
        {
            "cell_type": "code",
            "execution_count": null,
            "metadata": {},
            "outputs": [],
            "source": [
                "# feature weights\n",
                "n_concepts = 4\n",
                "\n",
                "model = initializeModel(n_concepts, input_dim, changing_dim, seq_len, num_classes)\n",
                "model.fit(train_loader, val_loader, class_weights, model_path.format(n_concepts), 1000)\n",
                "\n",
                "for batch_idx, (Xb, yb) in enumerate(test_loader):\n",
                "    Xb, yb = Xb.to(device), yb.to(device)\n",
                "    probs = model(Xb)\n",
                "    \n",
                "    auc = auroc_metric(probs, yb).item()\n",
                "    acc = accuracy_metric(probs, yb).item()\n",
                "    conf_matrix(probs, yb)\n",
                "auc = auroc_metric.compute().item()\n",
                "acc = accuracy_metric.compute().item()\n",
                "conf_matrix.plot()\n",
                "auroc_metric.reset()\n",
                "accuracy_metric.reset()\n",
                "conf_matrix.reset()\n",
                "\n",
                "print(\"AUC\", auc)\n",
                "print(\"ACC\", acc)"
            ]
        },
        {
            "cell_type": "code",
            "execution_count": null,
            "metadata": {},
            "outputs": [],
            "source": [
                "for name, param in model.named_parameters():\n",
                "    if \"bottleneck.weight\" in name:\n",
                "        bottleneck_weights = param\n",
                "feature_weights = bottleneck_weights.cpu().detach().numpy()\n",
                "\n",
                "feature_weights.shape"
            ]
        },
        {
            "cell_type": "code",
            "execution_count": null,
            "metadata": {},
            "outputs": [],
            "source": [
                "# visualize weight magnitudes\n",
                "for c in range(n_concepts):\n",
                "    fig = plt.figure()\n",
                "    ax = fig.add_subplot(111)\n",
                "    inds = np.argsort(-np.abs(feature_weights[c]))[:100]\n",
                "    ax.bar(np.arange(1,101),np.abs(feature_weights[c])[inds])\n",
                "    ax.set_xlabel(\"Top 100 features\")\n",
                "    ax.set_ylabel(\"abs value of feature coefficient\")\n",
                "    plt.show()\n"
            ]
        },
        {
            "cell_type": "code",
            "execution_count": null,
            "metadata": {},
            "outputs": [],
            "source": [
                "# get 90th percentile of feature weights\n",
                "sum90p = np.sum(np.abs(feature_weights), axis=-1)*0.90\n",
                "sum90p.shape\n"
            ]
        },
        {
            "cell_type": "code",
            "execution_count": null,
            "metadata": {},
            "outputs": [],
            "source": [
                "# get top K indizes\n",
                "top_k_inds = []\n",
                "for c in range(n_concepts):\n",
                "    topkinds_conc = []\n",
                "    curr_sum = 0\n",
                "    inds = np.argsort(-np.abs(feature_weights[c])) #desc\n",
                "    sorted_weights = feature_weights[c][inds]\n",
                "    \n",
                "    for ind, weight in zip(inds, sorted_weights):\n",
                "        curr_sum += abs(weight)\n",
                "        if curr_sum <= sum90p[c]:\n",
                "            topkinds_conc.append(ind)\n",
                "        else:\n",
                "            break\n",
                "    \n",
                "    # if selects less than 10, choose 10 best\n",
                "    if len(topkinds_conc) < 10:\n",
                "        topkinds_conc = np.argsort(-np.abs(feature_weights[c]))[:10].tolist()\n",
                "    \n",
                "    top_k_inds.append(topkinds_conc)\n",
                "\n",
                "top_k_inds"
            ]
        },
        {
            "cell_type": "code",
            "execution_count": null,
            "metadata": {},
            "outputs": [],
            "source": [
                "# write top k inds to csv\n",
                "filename = experiment_folder + \"top-k/top_k_inds_c{}.csv\".format(n_concepts)\n",
                "\n",
                "directory = os.path.dirname(filename)\n",
                "if not os.path.exists(directory):\n",
                "    os.makedirs(directory)\n",
                "\n",
                "# writing to csv file \n",
                "with open(filename, 'w') as csvfile: \n",
                "    # creating a csv writer object \n",
                "    csvwriter = csv.writer(csvfile)\n",
                "    # writing the data rows \n",
                "    csvwriter.writerows(top_k_inds)\n"
            ]
        },
        {
            "cell_type": "code",
            "execution_count": null,
            "metadata": {},
            "outputs": [],
            "source": [
                "V = 13 + 1\n",
                "T = seq_len + 1\n",
                "print(T)\n",
                "vars_ = [i for i in range(1,V)] + [str(i) + \"_ind\" for i in range(1,V)]\n",
                "print(len(vars_))\n",
                "data_cols = [[\"feat_{}_time_{}\".format(v, t) for v in vars_] for t in range(1, T)]\n",
                "flattened_data_cols = [col for sublist in data_cols for col in sublist]\n",
                "print(len(flattened_data_cols))\n",
                "flattened_data_cols"
            ]
        },
        {
            "cell_type": "code",
            "execution_count": null,
            "metadata": {},
            "outputs": [],
            "source": [
                "\n",
                "for c, _list in enumerate(top_k_inds):\n",
                "    for ind in _list:\n",
                "        name, summary = getConcept(flattened_data_cols, input_dim, changing_dim, int(ind))\n",
                "        print(f\"Concept {c}: ID {ind}, Feature {name}, Summary {summary}\")\n"
            ]
        },
        {
            "cell_type": "code",
            "execution_count": null,
            "metadata": {},
            "outputs": [],
            "source": [
                "greedy_results = greedy_forward_selection(auroc_metric, test_loader, top_k_inds, model, track_metrics={\"acc\": accuracy_metric})\n",
                "greedy_results.head(10)"
            ]
        },
        {
            "cell_type": "code",
            "execution_count": null,
            "metadata": {},
            "outputs": [],
            "source": [
                "top_k_csv_file = experiment_folder + \"top-k/bottleneck_r{}_c{}_topkinds.csv\".format(random_seed, n_concepts)\n",
                "\n",
                "# writing to csv file\n",
                "with open(top_k_csv_file, 'w') as csvfile: \n",
                "    # creating a csv writer object \n",
                "    csvwriter = csv.writer(csvfile)\n",
                "    csvwriter.writerow(greedy_results.columns)\n",
                "    # writing the data rows \n",
                "    for row in greedy_results.itertuples(index=False):\n",
                "        csvwriter.writerow(list(row))\n"
            ]
        },
        {
            "cell_type": "code",
            "execution_count": null,
            "metadata": {},
            "outputs": [],
            "source": [
                "sorted_ = greedy_results.sort_values([\"Concept\", \"ID\"])\n",
                "\n",
                "for row in sorted_.itertuples(index=False):\n",
                "    name, summary = getConcept(flattened_data_cols, input_dim, changing_dim, row[1])\n",
                "    print(f\"Concept {row[2]}: ID {row[1]}, Feature {name}, Summary {summary}\")"
            ]
        },
        {
            "cell_type": "code",
            "execution_count": null,
            "metadata": {},
            "outputs": [],
            "source": [
                "plt.plot(greedy_results[\"Score\"], label = f\"AUC {greedy_results['Score'].values[-1]:.3f}\")\n",
                "plt.plot(greedy_results[\"acc\"], label = f\"ACC {greedy_results['acc'].values[-1]:.3f}\")\n",
                "\n",
                "plt.xlabel('Num Concepts')\n",
                "plt.ylabel('Criteria')\n",
                "plt.title('Plot of Concepts vs Criteria')\n",
                "\n",
                "plt.legend()\n",
                "plt.show()\n"
            ]
        },
        {
            "cell_type": "code",
            "execution_count": null,
            "metadata": {},
            "outputs": [],
            "source": [
                "top_k_csv_file = \"/workdir/optimal-summaries-public/_models/arabic/multiclass/top-k/bottleneck_r1_c6_topkinds.csv\"\n",
                "n_concepts = 6\n",
                "model = initializeModel(n_concepts, input_dim, changing_dim, seq_len, num_classes, top_k=top_k_csv_file)\n",
                "# model.fit(train_loader, val_loader, weights, model_path.format(n_concepts), 1000)\n",
                "\n",
                "model.eval()\n",
                "with torch.no_grad():\n",
                "    for batch_idx, (Xb, yb) in enumerate(test_loader):\n",
                "        Xb, yb = Xb.to(device), yb.to(device)\n",
                "        probs = model(Xb)\n",
                "        \n",
                "        auc = auroc_metric(probs, yb).item()\n",
                "        acc = accuracy_metric(probs, yb).item()\n",
                "    auc = auroc_metric.compute().item()\n",
                "    acc = accuracy_metric.compute().item()\n",
                "    auroc_metric.reset()\n",
                "    accuracy_metric.reset()\n",
                "\n",
                "print(auc)\n",
                "print(acc)\n"
            ]
        },
        {
            "cell_type": "code",
            "execution_count": null,
            "metadata": {},
            "outputs": [],
            "source": [
                "model.fit(train_loader, val_loader, class_weights, save_model_path=\"/workdir/optimal-summaries-public/_models/arabic/multiclass/top-k/arabic_c6_finetuned.pt\", max_epochs=3000, patience=100)\n",
                "\n",
                "model.eval()\n",
                "with torch.no_grad():\n",
                "    for batch_idx, (Xb, yb) in enumerate(test_loader):\n",
                "        Xb, yb = Xb.to(device), yb.to(device)\n",
                "        probs = model(Xb)\n",
                "        \n",
                "        auc = auroc_metric(probs, yb)\n",
                "        acc = accuracy_metric(probs, yb)\n",
                "    auc = auroc_metric.compute().item()\n",
                "    acc = accuracy_metric.compute().item()\n",
                "    auroc_metric.reset()\n",
                "    accuracy_metric.reset()\n",
                "    \n",
                "print(auc)\n",
                "print(acc)\n"
            ]
        },
        {
            "cell_type": "code",
            "execution_count": null,
            "metadata": {},
            "outputs": [],
            "source": [
                "\n",
                "plt.plot(model.val_losses)\n",
                "plt.show()"
            ]
        },
        {
            "cell_type": "code",
            "execution_count": null,
            "metadata": {},
            "outputs": [],
            "source": []
        }
    ],
    "metadata": {
        "kernelspec": {
            "display_name": "base",
            "language": "python",
            "name": "python3"
        },
        "language_info": {
            "codemirror_mode": {
                "name": "ipython",
                "version": 3
            },
            "file_extension": ".py",
            "mimetype": "text/x-python",
            "name": "python",
            "nbconvert_exporter": "python",
            "pygments_lexer": "ipython3",
            "version": "3.10.12"
        }
    },
    "nbformat": 4,
    "nbformat_minor": 2
}
