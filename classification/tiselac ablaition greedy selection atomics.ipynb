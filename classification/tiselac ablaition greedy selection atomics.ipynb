{
    "cells": [
        {
            "cell_type": "code",
            "execution_count": 1,
            "metadata": {},
            "outputs": [
                {
                    "name": "stdout",
                    "output_type": "stream",
                    "text": [
                        "current device cuda:15\n"
                    ]
                }
            ],
            "source": [
                "%load_ext autoreload\n",
                "%autoreload 2\n",
                "\n",
                "import sys\n",
                "sys.path.append('..')\n",
                "\n",
                "import numpy as np\n",
                "import pandas as pd\n",
                "import torch\n",
                "import random\n",
                "import csv\n",
                "import matplotlib.pyplot as plt\n",
                "import torch\n",
                "from torchmetrics.classification import AUROC, Accuracy, ConfusionMatrix, F1Score\n",
                "import os, subprocess, gc, time, datetime\n",
                "from itertools import product\n",
                "from einops import rearrange\n",
                "\n",
                "import models.models_original as models_original\n",
                "import models.models_3d as models_3d\n",
                "import models.models_3d_atomics as models_3d_atomics\n",
                "from models.data import *\n",
                "from models.helper import *\n",
                "from models.param_initializations import *\n",
                "from models.optimization_strategy import *\n",
                "\n",
                "device = get_free_gpu()\n"
            ]
        },
        {
            "cell_type": "code",
            "execution_count": 2,
            "metadata": {},
            "outputs": [
                {
                    "name": "stdout",
                    "output_type": "stream",
                    "text": [
                        "tensor([0.5538, 2.8525, 0.5538, 0.5710, 0.7132, 1.6248, 1.2057, 6.3149, 3.5524]) 9\n",
                        "torch.Size([512, 23, 10])\n",
                        "torch.Size([512, 23, 10])\n",
                        "torch.Size([512])\n"
                    ]
                },
                {
                    "data": {
                        "text/plain": [
                            "117"
                        ]
                    },
                    "execution_count": 2,
                    "metadata": {},
                    "output_type": "execute_result"
                }
            ],
            "source": [
                "train_loader, val_loader, test_loader, class_weights, num_classes, changing_dim, static_dim, seq_len = get_tiselac_dataloader(batch_size = 512, random_state = 1)\n",
                "\n",
                "print(class_weights, num_classes)\n",
                "\n",
                "for batch in train_loader:\n",
                "    [print(t.shape) for t in batch]\n",
                "    break\n",
                "\n",
                "len(train_loader)"
            ]
        },
        {
            "cell_type": "code",
            "execution_count": 3,
            "metadata": {},
            "outputs": [
                {
                    "name": "stdout",
                    "output_type": "stream",
                    "text": [
                        "10 0 23\n"
                    ]
                }
            ],
            "source": [
                "auroc_metric = AUROC(task=\"multiclass\", num_classes=num_classes).to(device)\n",
                "accuracy_metric = Accuracy(task=\"multiclass\", num_classes=num_classes).to(device)\n",
                "f1_metric = F1Score(task=\"multiclass\", num_classes=num_classes).to(device)\n",
                "conf_matrix = ConfusionMatrix(task=\"multiclass\", num_classes=num_classes).to(device)\n",
                "\n",
                "print(changing_dim, static_dim, seq_len)\n",
                "\n",
                "random_seed = 1\n",
                "set_seed(random_seed)\n",
                "random_seeds = range(1,4)\n",
                "\n",
                "experiment_folder = \"/workdir/optimal-summaries-public/_models/tiselac/atomics/\"\n",
                "top_k_file_sum2atom = experiment_folder + \"top-k/bottleneck_topkinds_sum2atom_seed_{seed}.csv\"\n",
                "top_k_file_sum2con = experiment_folder + \"top-k/bottleneck_topkinds_sum2con_seed_{seed}.csv\""
            ]
        },
        {
            "cell_type": "markdown",
            "metadata": {},
            "source": [
                "## Optim"
            ]
        },
        {
            "cell_type": "code",
            "execution_count": 4,
            "metadata": {},
            "outputs": [
                {
                    "name": "stderr",
                    "output_type": "stream",
                    "text": [
                        "/usr/local/lib/python3.10/dist-packages/torch/nn/modules/lazy.py:180: UserWarning: Lazy modules are a new feature under heavy development so changes to the API or functionality can happen at any moment.\n",
                        "  warnings.warn('Lazy modules are a new feature under heavy development '\n"
                    ]
                },
                {
                    "name": "stdout",
                    "output_type": "stream",
                    "text": [
                        "Loaded model from /workdir/optimal-summaries-public/_models/tiselac/atomics/n_concepts_4_n_atomics_10_use_summaries_for_atomics_True_seed_1.pt\n",
                        "AUC macro 0.961\n",
                        "ACC macro 0.732\n",
                        " F1 macro 0.683\n"
                    ]
                },
                {
                    "name": "stderr",
                    "output_type": "stream",
                    "text": [
                        "/usr/local/lib/python3.10/dist-packages/torch/nn/modules/lazy.py:180: UserWarning: Lazy modules are a new feature under heavy development so changes to the API or functionality can happen at any moment.\n",
                        "  warnings.warn('Lazy modules are a new feature under heavy development '\n"
                    ]
                },
                {
                    "name": "stdout",
                    "output_type": "stream",
                    "text": [
                        "Loaded model from /workdir/optimal-summaries-public/_models/tiselac/atomics/n_concepts_4_n_atomics_10_use_summaries_for_atomics_False_seed_1.pt\n",
                        "AUC macro 0.957\n",
                        "ACC macro 0.729\n",
                        " F1 macro 0.682\n"
                    ]
                },
                {
                    "data": {
                        "text/plain": [
                            "CBM(\n",
                            "  (sigmoid_layer): Sigmoid()\n",
                            "  (output_af): Softmax(dim=1)\n",
                            "  (activation_func): Sigmoid()\n",
                            "  (layer_time_to_atomics): LazyLinearWithMask(in_features=0, out_features=10, bias=True)\n",
                            "  (flatten): Flatten(start_dim=1, end_dim=-1)\n",
                            "  (layer_to_concepts): LazyLinearWithMask(in_features=0, out_features=4, bias=True)\n",
                            "  (layer_output): Linear(in_features=4, out_features=9, bias=True)\n",
                            ")"
                        ]
                    },
                    "execution_count": 4,
                    "metadata": {},
                    "output_type": "execute_result"
                }
            ],
            "source": [
                "def get_model_sum2atom(random_seed):\n",
                "    set_seed(random_seed)\n",
                "\n",
                "    config = {\n",
                "        \"n_concepts\": 4,\n",
                "        \"n_atomics\": 10,\n",
                "        \"use_summaries_for_atomics\": True,\n",
                "    }\n",
                "\n",
                "    makedir(experiment_folder)\n",
                "    model_path = get_filename_from_dict(experiment_folder, config)\n",
                "    model_path = model_path.format(**config, seed = random_seed)\n",
                "\n",
                "    train_loader, val_loader, test_loader, class_weights, num_classes, changing_dim, static_dim, seq_len = get_tiselac_dataloader(random_state = random_seed)\n",
                "\n",
                "    model = models_3d_atomics.CBM(**config, static_dim=static_dim, changing_dim=changing_dim, seq_len=seq_len, output_dim=num_classes, device=device)\n",
                "    model.try_load_else_fit(train_loader, val_loader, p_weight=class_weights.to(device), save_model_path=model_path, max_epochs=10000)\n",
                "\n",
                "    evaluate_classification(model, test_loader)\n",
                "    return model\n",
                "\n",
                "get_model_sum2atom(1)\n",
                "\n",
                "def get_model_sum2con(random_seed):\n",
                "    set_seed(random_seed)\n",
                "\n",
                "    config = {\n",
                "        \"n_concepts\": 4,\n",
                "        \"n_atomics\": 10,\n",
                "        \"use_summaries_for_atomics\": False,\n",
                "    }\n",
                "    \n",
                "    experiment_folder = \"/workdir/optimal-summaries-public/_models/tiselac/atomics/\"\n",
                "    makedir(experiment_folder)\n",
                "    model_path = get_filename_from_dict(experiment_folder, config)\n",
                "    model_path = model_path.format(**config, seed = random_seed)\n",
                "\n",
                "    train_loader, val_loader, test_loader, class_weights, num_classes, changing_dim, static_dim, seq_len = get_tiselac_dataloader(random_state = random_seed)\n",
                "\n",
                "    model = models_3d_atomics.CBM(**config, static_dim=static_dim, changing_dim=changing_dim, seq_len=seq_len, output_dim=num_classes, device=device)\n",
                "    model.try_load_else_fit(train_loader, val_loader, p_weight=class_weights.to(device), save_model_path=model_path, max_epochs=10000)\n",
                "\n",
                "    evaluate_classification(model, test_loader)\n",
                "    return model\n",
                "\n",
                "get_model_sum2con(1)"
            ]
        },
        {
            "cell_type": "code",
            "execution_count": 5,
            "metadata": {},
            "outputs": [
                {
                    "name": "stderr",
                    "output_type": "stream",
                    "text": [
                        "/usr/local/lib/python3.10/dist-packages/torch/nn/modules/lazy.py:180: UserWarning: Lazy modules are a new feature under heavy development so changes to the API or functionality can happen at any moment.\n",
                        "  warnings.warn('Lazy modules are a new feature under heavy development '\n"
                    ]
                },
                {
                    "name": "stdout",
                    "output_type": "stream",
                    "text": [
                        "Loaded model from /workdir/optimal-summaries-public/_models/tiselac/atomics/n_concepts_4_n_atomics_10_use_summaries_for_atomics_True_seed_1.pt\n",
                        "AUC macro 0.961\n",
                        "ACC macro 0.732\n",
                        " F1 macro 0.683\n"
                    ]
                },
                {
                    "name": "stderr",
                    "output_type": "stream",
                    "text": [
                        "/usr/local/lib/python3.10/dist-packages/torch/nn/modules/lazy.py:180: UserWarning: Lazy modules are a new feature under heavy development so changes to the API or functionality can happen at any moment.\n",
                        "  warnings.warn('Lazy modules are a new feature under heavy development '\n"
                    ]
                },
                {
                    "name": "stdout",
                    "output_type": "stream",
                    "text": [
                        "Loaded model from /workdir/optimal-summaries-public/_models/tiselac/atomics/n_concepts_4_n_atomics_10_use_summaries_for_atomics_True_seed_2.pt\n",
                        "AUC macro 0.966\n",
                        "ACC macro 0.752\n",
                        " F1 macro 0.700\n"
                    ]
                },
                {
                    "name": "stderr",
                    "output_type": "stream",
                    "text": [
                        "/usr/local/lib/python3.10/dist-packages/torch/nn/modules/lazy.py:180: UserWarning: Lazy modules are a new feature under heavy development so changes to the API or functionality can happen at any moment.\n",
                        "  warnings.warn('Lazy modules are a new feature under heavy development '\n"
                    ]
                },
                {
                    "name": "stdout",
                    "output_type": "stream",
                    "text": [
                        "Loaded model from /workdir/optimal-summaries-public/_models/tiselac/atomics/n_concepts_4_n_atomics_10_use_summaries_for_atomics_True_seed_3.pt\n",
                        "AUC macro 0.965\n",
                        "ACC macro 0.752\n",
                        " F1 macro 0.696\n"
                    ]
                },
                {
                    "name": "stderr",
                    "output_type": "stream",
                    "text": [
                        "/usr/local/lib/python3.10/dist-packages/torch/nn/modules/lazy.py:180: UserWarning: Lazy modules are a new feature under heavy development so changes to the API or functionality can happen at any moment.\n",
                        "  warnings.warn('Lazy modules are a new feature under heavy development '\n"
                    ]
                },
                {
                    "name": "stdout",
                    "output_type": "stream",
                    "text": [
                        "Loaded model from /workdir/optimal-summaries-public/_models/tiselac/atomics/n_concepts_4_n_atomics_10_use_summaries_for_atomics_False_seed_1.pt\n",
                        "AUC macro 0.957\n",
                        "ACC macro 0.729\n",
                        " F1 macro 0.682\n"
                    ]
                },
                {
                    "name": "stderr",
                    "output_type": "stream",
                    "text": [
                        "/usr/local/lib/python3.10/dist-packages/torch/nn/modules/lazy.py:180: UserWarning: Lazy modules are a new feature under heavy development so changes to the API or functionality can happen at any moment.\n",
                        "  warnings.warn('Lazy modules are a new feature under heavy development '\n"
                    ]
                },
                {
                    "name": "stdout",
                    "output_type": "stream",
                    "text": [
                        "Loaded model from /workdir/optimal-summaries-public/_models/tiselac/atomics/n_concepts_4_n_atomics_10_use_summaries_for_atomics_False_seed_2.pt\n",
                        "AUC macro 0.960\n",
                        "ACC macro 0.733\n",
                        " F1 macro 0.685\n"
                    ]
                },
                {
                    "name": "stderr",
                    "output_type": "stream",
                    "text": [
                        "/usr/local/lib/python3.10/dist-packages/torch/nn/modules/lazy.py:180: UserWarning: Lazy modules are a new feature under heavy development so changes to the API or functionality can happen at any moment.\n",
                        "  warnings.warn('Lazy modules are a new feature under heavy development '\n"
                    ]
                },
                {
                    "name": "stdout",
                    "output_type": "stream",
                    "text": [
                        "Loaded model from /workdir/optimal-summaries-public/_models/tiselac/atomics/n_concepts_4_n_atomics_10_use_summaries_for_atomics_False_seed_3.pt\n",
                        "AUC macro 0.960\n",
                        "ACC macro 0.727\n",
                        " F1 macro 0.681\n"
                    ]
                },
                {
                    "data": {
                        "text/plain": [
                            "[CBM(\n",
                            "   (sigmoid_layer): Sigmoid()\n",
                            "   (output_af): Softmax(dim=1)\n",
                            "   (activation_func): Sigmoid()\n",
                            "   (layer_time_to_atomics): LazyLinearWithMask(in_features=0, out_features=10, bias=True)\n",
                            "   (flatten): Flatten(start_dim=1, end_dim=-1)\n",
                            "   (layer_to_concepts): LazyLinearWithMask(in_features=0, out_features=4, bias=True)\n",
                            "   (layer_output): Linear(in_features=4, out_features=9, bias=True)\n",
                            " ),\n",
                            " CBM(\n",
                            "   (sigmoid_layer): Sigmoid()\n",
                            "   (output_af): Softmax(dim=1)\n",
                            "   (activation_func): Sigmoid()\n",
                            "   (layer_time_to_atomics): LazyLinearWithMask(in_features=0, out_features=10, bias=True)\n",
                            "   (flatten): Flatten(start_dim=1, end_dim=-1)\n",
                            "   (layer_to_concepts): LazyLinearWithMask(in_features=0, out_features=4, bias=True)\n",
                            "   (layer_output): Linear(in_features=4, out_features=9, bias=True)\n",
                            " ),\n",
                            " CBM(\n",
                            "   (sigmoid_layer): Sigmoid()\n",
                            "   (output_af): Softmax(dim=1)\n",
                            "   (activation_func): Sigmoid()\n",
                            "   (layer_time_to_atomics): LazyLinearWithMask(in_features=0, out_features=10, bias=True)\n",
                            "   (flatten): Flatten(start_dim=1, end_dim=-1)\n",
                            "   (layer_to_concepts): LazyLinearWithMask(in_features=0, out_features=4, bias=True)\n",
                            "   (layer_output): Linear(in_features=4, out_features=9, bias=True)\n",
                            " )]"
                        ]
                    },
                    "execution_count": 5,
                    "metadata": {},
                    "output_type": "execute_result"
                }
            ],
            "source": [
                "[get_model_sum2atom(random_seed) for random_seed in random_seeds]\n",
                "[get_model_sum2con(random_seed) for random_seed in random_seeds]"
            ]
        },
        {
            "cell_type": "code",
            "execution_count": null,
            "metadata": {},
            "outputs": [],
            "source": [
                "visualize_top100_weights_per_channel(model.bottleneck)\n"
            ]
        },
        {
            "cell_type": "code",
            "execution_count": 11,
            "metadata": {},
            "outputs": [
                {
                    "name": "stdout",
                    "output_type": "stream",
                    "text": [
                        "seed 1\n"
                    ]
                },
                {
                    "name": "stderr",
                    "output_type": "stream",
                    "text": [
                        "/usr/local/lib/python3.10/dist-packages/torch/nn/modules/lazy.py:180: UserWarning: Lazy modules are a new feature under heavy development so changes to the API or functionality can happen at any moment.\n",
                        "  warnings.warn('Lazy modules are a new feature under heavy development '\n"
                    ]
                },
                {
                    "name": "stdout",
                    "output_type": "stream",
                    "text": [
                        "Loaded model from /workdir/optimal-summaries-public/_models/tiselac/atomics/n_concepts_4_n_atomics_10_use_summaries_for_atomics_True_seed_1.pt\n",
                        "AUC macro 0.961\n",
                        "ACC macro 0.732\n",
                        " F1 macro 0.683\n",
                        "Found 10 Concepts\n",
                        "90th percentile per concept [ 0.12366915  4.3872643  13.994587    5.6910405   5.27104     0.12729435\n",
                        "  2.866164    0.17723843  0.11380112  4.1549497 ]\n",
                        "['Concept 0 len: 10', 'Concept 1 len: 10', 'Concept 2 len: 10', 'Concept 3 len: 10', 'Concept 4 len: 10', 'Concept 5 len: 10', 'Concept 6 len: 11', 'Concept 7 len: 10', 'Concept 8 len: 10', 'Concept 9 len: 10']\n",
                        "Found 4 Concepts\n",
                        "90th percentile per concept [10.559936 17.957523 15.62205  13.409517]\n",
                        "['Concept 0 len: 16', 'Concept 1 len: 20', 'Concept 2 len: 23', 'Concept 3 len: 20']\n"
                    ]
                },
                {
                    "name": "stderr",
                    "output_type": "stream",
                    "text": [
                        "100%|██████████| 140/140 [5:36:39<00:00, 144.28s/it, Score=0.91356, acc=0.382, f1=0.382, auc=0.913]  \n"
                    ]
                },
                {
                    "name": "stdout",
                    "output_type": "stream",
                    "text": [
                        "seed 2\n"
                    ]
                },
                {
                    "name": "stderr",
                    "output_type": "stream",
                    "text": [
                        "/usr/local/lib/python3.10/dist-packages/torch/nn/modules/lazy.py:180: UserWarning: Lazy modules are a new feature under heavy development so changes to the API or functionality can happen at any moment.\n",
                        "  warnings.warn('Lazy modules are a new feature under heavy development '\n"
                    ]
                },
                {
                    "name": "stdout",
                    "output_type": "stream",
                    "text": [
                        "Loaded model from /workdir/optimal-summaries-public/_models/tiselac/atomics/n_concepts_4_n_atomics_10_use_summaries_for_atomics_True_seed_2.pt\n",
                        "AUC macro 0.966\n",
                        "ACC macro 0.752\n",
                        " F1 macro 0.700\n",
                        "Found 10 Concepts\n",
                        "90th percentile per concept [ 0.12272644  2.801038    3.10565     3.4920776   4.466231    6.6447144\n",
                        "  0.12156378 10.8165655   3.7118132   0.11965739]\n",
                        "['Concept 0 len: 10', 'Concept 1 len: 10', 'Concept 2 len: 10', 'Concept 3 len: 10', 'Concept 4 len: 10', 'Concept 5 len: 10', 'Concept 6 len: 10', 'Concept 7 len: 10', 'Concept 8 len: 10', 'Concept 9 len: 10']\n",
                        "Found 4 Concepts\n",
                        "90th percentile per concept [15.473067 12.9715   11.362193 17.264057]\n",
                        "['Concept 0 len: 21', 'Concept 1 len: 25', 'Concept 2 len: 19', 'Concept 3 len: 24']\n"
                    ]
                },
                {
                    "name": "stderr",
                    "output_type": "stream",
                    "text": [
                        "100%|██████████| 140/140 [5:54:33<00:00, 151.95s/it, Score=0.77775, acc=0.0389, f1=0.0389, auc=0.788]  \n"
                    ]
                },
                {
                    "name": "stdout",
                    "output_type": "stream",
                    "text": [
                        "seed 3\n"
                    ]
                },
                {
                    "name": "stderr",
                    "output_type": "stream",
                    "text": [
                        "/usr/local/lib/python3.10/dist-packages/torch/nn/modules/lazy.py:180: UserWarning: Lazy modules are a new feature under heavy development so changes to the API or functionality can happen at any moment.\n",
                        "  warnings.warn('Lazy modules are a new feature under heavy development '\n"
                    ]
                },
                {
                    "name": "stdout",
                    "output_type": "stream",
                    "text": [
                        "Loaded model from /workdir/optimal-summaries-public/_models/tiselac/atomics/n_concepts_4_n_atomics_10_use_summaries_for_atomics_True_seed_3.pt\n",
                        "AUC macro 0.965\n",
                        "ACC macro 0.752\n",
                        " F1 macro 0.696\n",
                        "Found 10 Concepts\n",
                        "90th percentile per concept [ 2.5723462  10.70607     2.8294053   3.8433394   0.12618801  0.13571216\n",
                        "  5.281903    0.1168546   3.0253272   6.0665402 ]\n",
                        "['Concept 0 len: 10', 'Concept 1 len: 10', 'Concept 2 len: 10', 'Concept 3 len: 10', 'Concept 4 len: 10', 'Concept 5 len: 10', 'Concept 6 len: 10', 'Concept 7 len: 10', 'Concept 8 len: 10', 'Concept 9 len: 10']\n",
                        "Found 4 Concepts\n",
                        "90th percentile per concept [14.179349 17.946478 14.615713  9.905482]\n",
                        "['Concept 0 len: 20', 'Concept 1 len: 23', 'Concept 2 len: 20', 'Concept 3 len: 21']\n"
                    ]
                },
                {
                    "name": "stderr",
                    "output_type": "stream",
                    "text": [
                        "100%|██████████| 140/140 [5:46:45<00:00, 148.61s/it, Score=0.89507, acc=0.442, f1=0.442, auc=0.891]  \n"
                    ]
                }
            ],
            "source": [
                "track_metrics={\"acc\": accuracy_metric,\n",
                "               \"f1\": f1_metric,\n",
                "               \"auc\": auroc_metric,\n",
                "               }\n",
                "\n",
                "results = []\n",
                "for random_seed in random_seeds:\n",
                "    print(\"seed\", random_seed)\n",
                "    set_seed(random_seed)\n",
                "    model = get_model_sum2atom(random_seed)\n",
                "    train_loader, val_loader, test_loader, class_weights, num_classes, changing_dim, static_dim, seq_len = get_tiselac_dataloader(random_state = random_seed)\n",
                "    top_k_inds = [get_top_features_per_concept(layer) for layer in model.regularized_layers]\n",
                "    save_path = top_k_file_sum2atom.format(seed=random_seed)\n",
                "    \n",
                "    greedy_results = greedy_forward_selection(model=model, layers_to_prune=model.regularized_layers, top_k_inds=top_k_inds, val_loader=val_loader, optimize_metric=auroc_metric, track_metrics=track_metrics, save_path=save_path)\n",
                "    results.append(greedy_results)\n",
                "    "
            ]
        },
        {
            "cell_type": "code",
            "execution_count": null,
            "metadata": {},
            "outputs": [],
            "source": [
                "greedy_results = read_df_from_csv(top_k_file_sum2atom.format(seed=1))\n",
                "pd.set_option('display.max_rows', 100)\n",
                "greedy_results\n"
            ]
        },
        {
            "cell_type": "code",
            "execution_count": null,
            "metadata": {},
            "outputs": [],
            "source": [
                "plot_selected_weights(model.regularized_layers[0].weight, top_k_inds, greedy_results)\n",
                "plot_selected_weights(model.regularized_layers[1].weight, top_k_inds, greedy_results)"
            ]
        },
        {
            "cell_type": "code",
            "execution_count": 6,
            "metadata": {},
            "outputs": [
                {
                    "name": "stdout",
                    "output_type": "stream",
                    "text": [
                        "random_seed 1\n"
                    ]
                },
                {
                    "name": "stderr",
                    "output_type": "stream",
                    "text": [
                        "/usr/local/lib/python3.10/dist-packages/torch/nn/modules/lazy.py:180: UserWarning: Lazy modules are a new feature under heavy development so changes to the API or functionality can happen at any moment.\n",
                        "  warnings.warn('Lazy modules are a new feature under heavy development '\n"
                    ]
                },
                {
                    "name": "stdout",
                    "output_type": "stream",
                    "text": [
                        "Loaded model from /workdir/optimal-summaries-public/_models/tiselac/atomics/n_concepts_4_n_atomics_10_use_summaries_for_atomics_False_seed_1.pt\n",
                        "AUC macro 0.957\n",
                        "ACC macro 0.729\n",
                        " F1 macro 0.682\n"
                    ]
                },
                {
                    "name": "stdout",
                    "output_type": "stream",
                    "text": [
                        "Found 10 Concepts\n",
                        "90th percentile per concept [0.09481631 0.10449596 0.09370365 0.10036281 0.10516899 0.11018913\n",
                        " 0.09929327 4.7098823  0.10785296 0.09374589]\n",
                        "['Concept 0 len: 10', 'Concept 1 len: 10', 'Concept 2 len: 10', 'Concept 3 len: 10', 'Concept 4 len: 10', 'Concept 5 len: 10', 'Concept 6 len: 10', 'Concept 7 len: 10', 'Concept 8 len: 10', 'Concept 9 len: 10']\n",
                        "Found 4 Concepts\n",
                        "90th percentile per concept [10.564029  11.2774105 14.226827  13.393058 ]\n",
                        "['Concept 0 len: 23', 'Concept 1 len: 20', 'Concept 2 len: 19', 'Concept 3 len: 20']\n",
                        "Successfully loaded greedy search results!\n",
                        "random_seed 2\n"
                    ]
                },
                {
                    "name": "stderr",
                    "output_type": "stream",
                    "text": [
                        "/usr/local/lib/python3.10/dist-packages/torch/nn/modules/lazy.py:180: UserWarning: Lazy modules are a new feature under heavy development so changes to the API or functionality can happen at any moment.\n",
                        "  warnings.warn('Lazy modules are a new feature under heavy development '\n"
                    ]
                },
                {
                    "name": "stdout",
                    "output_type": "stream",
                    "text": [
                        "Loaded model from /workdir/optimal-summaries-public/_models/tiselac/atomics/n_concepts_4_n_atomics_10_use_summaries_for_atomics_False_seed_2.pt\n",
                        "AUC macro 0.960\n",
                        "ACC macro 0.733\n",
                        " F1 macro 0.685\n",
                        "Found 10 Concepts\n",
                        "90th percentile per concept [0.11170515 0.10352117 0.10605661 3.478114   0.11777916 0.09690154\n",
                        " 0.11849654 0.11505327 0.10375417 0.10070904]\n",
                        "['Concept 0 len: 10', 'Concept 1 len: 10', 'Concept 2 len: 10', 'Concept 3 len: 10', 'Concept 4 len: 10', 'Concept 5 len: 10', 'Concept 6 len: 10', 'Concept 7 len: 10', 'Concept 8 len: 10', 'Concept 9 len: 10']\n",
                        "Found 4 Concepts\n",
                        "90th percentile per concept [10.390122 12.834478 12.110575 19.563532]\n",
                        "['Concept 0 len: 21', 'Concept 1 len: 19', 'Concept 2 len: 16', 'Concept 3 len: 18']\n"
                    ]
                },
                {
                    "name": "stderr",
                    "output_type": "stream",
                    "text": [
                        "  4%|▎         | 5/140 [15:51<7:06:04, 189.37s/it, Score=0.95740, acc=0.0176, f1=0.0176, auc=0.5]"
                    ]
                }
            ],
            "source": [
                "track_metrics={\"acc\": accuracy_metric,\n",
                "               \"f1\": f1_metric,\n",
                "               \"auc\": auroc_metric,\n",
                "               }\n",
                "\n",
                "results = []\n",
                "for random_seed in random_seeds:\n",
                "    print(\"random_seed\", random_seed)\n",
                "    set_seed(random_seed)\n",
                "    model = get_model_sum2con(random_seed)\n",
                "    train_loader, val_loader, test_loader, class_weights, num_classes, changing_dim, static_dim, seq_len = get_tiselac_dataloader(random_state = random_seed)\n",
                "    top_k_inds = [get_top_features_per_concept(layer) for layer in model.regularized_layers]\n",
                "    save_path = top_k_file_sum2con.format(seed=random_seed)\n",
                "    \n",
                "    greedy_results = greedy_forward_selection(model=model, layers_to_prune=model.regularized_layers, top_k_inds=top_k_inds, val_loader=val_loader, optimize_metric=auroc_metric, track_metrics=track_metrics, save_path=save_path)\n",
                "    results.append(greedy_results)\n",
                "    "
            ]
        },
        {
            "cell_type": "code",
            "execution_count": null,
            "metadata": {},
            "outputs": [],
            "source": [
                "model = get_model_sum2con(1)\n",
                "greedy_results = read_df_from_csv(top_k_file_sum2con.format(seed=1))\n",
                "pd.set_option('display.max_rows', 100)\n",
                "greedy_results\n"
            ]
        },
        {
            "cell_type": "code",
            "execution_count": null,
            "metadata": {},
            "outputs": [],
            "source": [
                "\n",
                "plot_selected_weights(model.regularized_layers[0].weight, top_k_inds, greedy_results)\n",
                "plot_selected_weights(model.regularized_layers[1].weight, top_k_inds, greedy_results)"
            ]
        },
        {
            "cell_type": "code",
            "execution_count": null,
            "metadata": {},
            "outputs": [],
            "source": [
                "result_df = evaluate_greedy_selection(get_model_sum2atom, get_tiselac_dataloader, top_k_file_sum2atom, n_experiments=3)\n",
                "result_df\n"
            ]
        },
        {
            "cell_type": "code",
            "execution_count": null,
            "metadata": {},
            "outputs": [],
            "source": [
                "result_df = evaluate_greedy_selection(get_model_sum2con, get_tiselac_dataloader, top_k_file_sum2con, n_experiments=3)\n",
                "result_df\n"
            ]
        },
        {
            "cell_type": "code",
            "execution_count": null,
            "metadata": {},
            "outputs": [],
            "source": []
        }
    ],
    "metadata": {
        "kernelspec": {
            "display_name": "base",
            "language": "python",
            "name": "python3"
        },
        "language_info": {
            "codemirror_mode": {
                "name": "ipython",
                "version": 3
            },
            "file_extension": ".py",
            "mimetype": "text/x-python",
            "name": "python",
            "nbconvert_exporter": "python",
            "pygments_lexer": "ipython3",
            "version": "3.10.12"
        }
    },
    "nbformat": 4,
    "nbformat_minor": 2
}
