{
    "cells": [
        {
            "cell_type": "code",
            "execution_count": 1,
            "metadata": {},
            "outputs": [
                {
                    "name": "stdout",
                    "output_type": "stream",
                    "text": [
                        "current device cuda:15\n"
                    ]
                }
            ],
            "source": [
                "%load_ext autoreload\n",
                "%autoreload 2\n",
                "\n",
                "import sys\n",
                "sys.path.append('..')\n",
                "\n",
                "import numpy as np\n",
                "import pandas as pd\n",
                "import torch\n",
                "import random\n",
                "import csv\n",
                "import matplotlib.pyplot as plt\n",
                "import torch\n",
                "from torchmetrics.classification import AUROC, Accuracy, ConfusionMatrix, F1Score\n",
                "import os, subprocess, gc, time, datetime\n",
                "from itertools import product\n",
                "from einops import rearrange\n",
                "\n",
                "import models.models_original as models_original\n",
                "import models.models_3d as models_3d\n",
                "import models.models_3d_atomics as models_3d_atomics\n",
                "from models.data import *\n",
                "from models.helper import *\n",
                "from models.param_initializations import *\n",
                "from models.optimization_strategy import *\n",
                "\n",
                "device = get_free_gpu()\n"
            ]
        },
        {
            "cell_type": "code",
            "execution_count": 2,
            "metadata": {},
            "outputs": [
                {
                    "name": "stdout",
                    "output_type": "stream",
                    "text": [
                        "tensor([0.5538, 2.8525, 0.5538, 0.5710, 0.7132, 1.6248, 1.2057, 6.3149, 3.5524]) 9\n",
                        "torch.Size([512, 23, 10])\n",
                        "torch.Size([512, 23, 10])\n",
                        "torch.Size([512])\n"
                    ]
                },
                {
                    "data": {
                        "text/plain": [
                            "117"
                        ]
                    },
                    "execution_count": 2,
                    "metadata": {},
                    "output_type": "execute_result"
                }
            ],
            "source": [
                "train_loader, val_loader, test_loader, class_weights, num_classes, changing_dim, static_dim, seq_len = get_tiselac_dataloader(batch_size = 512, random_state = 1)\n",
                "\n",
                "print(class_weights, num_classes)\n",
                "\n",
                "for batch in train_loader:\n",
                "    [print(t.shape) for t in batch]\n",
                "    break\n",
                "\n",
                "len(train_loader)"
            ]
        },
        {
            "cell_type": "code",
            "execution_count": 3,
            "metadata": {},
            "outputs": [
                {
                    "name": "stdout",
                    "output_type": "stream",
                    "text": [
                        "10 0 23\n"
                    ]
                }
            ],
            "source": [
                "auroc_metric = AUROC(task=\"multiclass\", num_classes=num_classes).to(device)\n",
                "accuracy_metric = Accuracy(task=\"multiclass\", num_classes=num_classes).to(device)\n",
                "f1_metric = F1Score(task=\"multiclass\", num_classes=num_classes).to(device)\n",
                "conf_matrix = ConfusionMatrix(task=\"multiclass\", num_classes=num_classes).to(device)\n",
                "\n",
                "print(changing_dim, static_dim, seq_len)\n",
                "\n",
                "random_seed = 1\n",
                "set_seed(random_seed)\n",
                "random_seeds = range(1,4)\n",
                "\n",
                "experiment_folder = \"/workdir/optimal-summaries-public/_models/tiselac/atomics/\"\n",
                "top_k_file_sum2atom = experiment_folder + \"top-k/bottleneck_topkinds_sum2atom_seed_{seed}.csv\"\n",
                "top_k_file_sum2con = experiment_folder + \"top-k/bottleneck_topkinds_sum2con_seed_{seed}.csv\""
            ]
        },
        {
            "cell_type": "markdown",
            "metadata": {},
            "source": [
                "## Optim"
            ]
        },
        {
            "cell_type": "code",
            "execution_count": 4,
            "metadata": {},
            "outputs": [
                {
                    "name": "stderr",
                    "output_type": "stream",
                    "text": [
                        "/usr/local/lib/python3.10/dist-packages/torch/nn/modules/lazy.py:180: UserWarning: Lazy modules are a new feature under heavy development so changes to the API or functionality can happen at any moment.\n",
                        "  warnings.warn('Lazy modules are a new feature under heavy development '\n"
                    ]
                },
                {
                    "name": "stdout",
                    "output_type": "stream",
                    "text": [
                        "Loaded model from /workdir/optimal-summaries-public/_models/tiselac/atomics/n_concepts_4_n_atomics_10_use_summaries_for_atomics_True_seed_1.pt\n",
                        "AUC macro 0.961\n",
                        "ACC macro 0.732\n",
                        " F1 macro 0.683\n"
                    ]
                },
                {
                    "name": "stderr",
                    "output_type": "stream",
                    "text": [
                        "/usr/local/lib/python3.10/dist-packages/torch/nn/modules/lazy.py:180: UserWarning: Lazy modules are a new feature under heavy development so changes to the API or functionality can happen at any moment.\n",
                        "  warnings.warn('Lazy modules are a new feature under heavy development '\n"
                    ]
                },
                {
                    "name": "stdout",
                    "output_type": "stream",
                    "text": [
                        "Loaded model from /workdir/optimal-summaries-public/_models/tiselac/atomics/n_concepts_4_n_atomics_10_use_summaries_for_atomics_False_seed_1.pt\n",
                        "AUC macro 0.957\n",
                        "ACC macro 0.729\n",
                        " F1 macro 0.682\n"
                    ]
                },
                {
                    "data": {
                        "text/plain": [
                            "CBM(\n",
                            "  (sigmoid_layer): Sigmoid()\n",
                            "  (output_af): Softmax(dim=1)\n",
                            "  (activation_func): Sigmoid()\n",
                            "  (layer_time_to_atomics): LazyLinearWithMask(in_features=0, out_features=10, bias=True)\n",
                            "  (flatten): Flatten(start_dim=1, end_dim=-1)\n",
                            "  (layer_to_concepts): LazyLinearWithMask(in_features=0, out_features=4, bias=True)\n",
                            "  (layer_output): Linear(in_features=4, out_features=9, bias=True)\n",
                            ")"
                        ]
                    },
                    "execution_count": 4,
                    "metadata": {},
                    "output_type": "execute_result"
                }
            ],
            "source": [
                "def get_model_sum2atom(random_seed):\n",
                "    set_seed(random_seed)\n",
                "\n",
                "    config = {\n",
                "        \"n_concepts\": 4,\n",
                "        \"n_atomics\": 10,\n",
                "        \"use_summaries_for_atomics\": True,\n",
                "    }\n",
                "\n",
                "    makedir(experiment_folder)\n",
                "    model_path = get_filename_from_dict(experiment_folder, config)\n",
                "    model_path = model_path.format(**config, seed = random_seed)\n",
                "\n",
                "    train_loader, val_loader, test_loader, class_weights, num_classes, changing_dim, static_dim, seq_len = get_tiselac_dataloader(random_state = random_seed)\n",
                "\n",
                "    model = models_3d_atomics.CBM(**config, static_dim=static_dim, changing_dim=changing_dim, seq_len=seq_len, output_dim=num_classes, device=device)\n",
                "    model.try_load_else_fit(train_loader, val_loader, p_weight=class_weights.to(device), save_model_path=model_path, max_epochs=10000)\n",
                "\n",
                "    evaluate_classification(model, test_loader)\n",
                "    return model\n",
                "\n",
                "get_model_sum2atom(1)\n",
                "\n",
                "def get_model_sum2con(random_seed):\n",
                "    set_seed(random_seed)\n",
                "\n",
                "    config = {\n",
                "        \"n_concepts\": 4,\n",
                "        \"n_atomics\": 10,\n",
                "        \"use_summaries_for_atomics\": False,\n",
                "    }\n",
                "    \n",
                "    experiment_folder = \"/workdir/optimal-summaries-public/_models/tiselac/atomics/\"\n",
                "    makedir(experiment_folder)\n",
                "    model_path = get_filename_from_dict(experiment_folder, config)\n",
                "    model_path = model_path.format(**config, seed = random_seed)\n",
                "\n",
                "    train_loader, val_loader, test_loader, class_weights, num_classes, changing_dim, static_dim, seq_len = get_tiselac_dataloader(random_state = random_seed)\n",
                "\n",
                "    model = models_3d_atomics.CBM(**config, static_dim=static_dim, changing_dim=changing_dim, seq_len=seq_len, output_dim=num_classes, device=device)\n",
                "    model.try_load_else_fit(train_loader, val_loader, p_weight=class_weights.to(device), save_model_path=model_path, max_epochs=10000)\n",
                "\n",
                "    evaluate_classification(model, test_loader)\n",
                "    return model\n",
                "\n",
                "get_model_sum2con(1)"
            ]
        },
        {
            "cell_type": "code",
            "execution_count": 5,
            "metadata": {},
            "outputs": [
                {
                    "name": "stderr",
                    "output_type": "stream",
                    "text": [
                        "/usr/local/lib/python3.10/dist-packages/torch/nn/modules/lazy.py:180: UserWarning: Lazy modules are a new feature under heavy development so changes to the API or functionality can happen at any moment.\n",
                        "  warnings.warn('Lazy modules are a new feature under heavy development '\n"
                    ]
                },
                {
                    "name": "stdout",
                    "output_type": "stream",
                    "text": [
                        "Loaded model from /workdir/optimal-summaries-public/_models/tiselac/atomics/n_concepts_4_n_atomics_10_use_summaries_for_atomics_True_seed_1.pt\n",
                        "AUC macro 0.961\n",
                        "ACC macro 0.732\n",
                        " F1 macro 0.683\n"
                    ]
                },
                {
                    "name": "stderr",
                    "output_type": "stream",
                    "text": [
                        "/usr/local/lib/python3.10/dist-packages/torch/nn/modules/lazy.py:180: UserWarning: Lazy modules are a new feature under heavy development so changes to the API or functionality can happen at any moment.\n",
                        "  warnings.warn('Lazy modules are a new feature under heavy development '\n"
                    ]
                },
                {
                    "name": "stdout",
                    "output_type": "stream",
                    "text": [
                        "Loaded model from /workdir/optimal-summaries-public/_models/tiselac/atomics/n_concepts_4_n_atomics_10_use_summaries_for_atomics_True_seed_2.pt\n",
                        "AUC macro 0.966\n",
                        "ACC macro 0.752\n",
                        " F1 macro 0.700\n"
                    ]
                },
                {
                    "name": "stderr",
                    "output_type": "stream",
                    "text": [
                        "/usr/local/lib/python3.10/dist-packages/torch/nn/modules/lazy.py:180: UserWarning: Lazy modules are a new feature under heavy development so changes to the API or functionality can happen at any moment.\n",
                        "  warnings.warn('Lazy modules are a new feature under heavy development '\n"
                    ]
                },
                {
                    "name": "stdout",
                    "output_type": "stream",
                    "text": [
                        "Loaded model from /workdir/optimal-summaries-public/_models/tiselac/atomics/n_concepts_4_n_atomics_10_use_summaries_for_atomics_True_seed_3.pt\n",
                        "AUC macro 0.965\n",
                        "ACC macro 0.752\n",
                        " F1 macro 0.696\n"
                    ]
                },
                {
                    "name": "stderr",
                    "output_type": "stream",
                    "text": [
                        "/usr/local/lib/python3.10/dist-packages/torch/nn/modules/lazy.py:180: UserWarning: Lazy modules are a new feature under heavy development so changes to the API or functionality can happen at any moment.\n",
                        "  warnings.warn('Lazy modules are a new feature under heavy development '\n"
                    ]
                },
                {
                    "name": "stdout",
                    "output_type": "stream",
                    "text": [
                        "Loaded model from /workdir/optimal-summaries-public/_models/tiselac/atomics/n_concepts_4_n_atomics_10_use_summaries_for_atomics_False_seed_1.pt\n",
                        "AUC macro 0.957\n",
                        "ACC macro 0.729\n",
                        " F1 macro 0.682\n"
                    ]
                },
                {
                    "name": "stderr",
                    "output_type": "stream",
                    "text": [
                        "/usr/local/lib/python3.10/dist-packages/torch/nn/modules/lazy.py:180: UserWarning: Lazy modules are a new feature under heavy development so changes to the API or functionality can happen at any moment.\n",
                        "  warnings.warn('Lazy modules are a new feature under heavy development '\n"
                    ]
                },
                {
                    "name": "stdout",
                    "output_type": "stream",
                    "text": [
                        "Loaded model from /workdir/optimal-summaries-public/_models/tiselac/atomics/n_concepts_4_n_atomics_10_use_summaries_for_atomics_False_seed_2.pt\n",
                        "AUC macro 0.960\n",
                        "ACC macro 0.733\n",
                        " F1 macro 0.685\n"
                    ]
                },
                {
                    "name": "stderr",
                    "output_type": "stream",
                    "text": [
                        "/usr/local/lib/python3.10/dist-packages/torch/nn/modules/lazy.py:180: UserWarning: Lazy modules are a new feature under heavy development so changes to the API or functionality can happen at any moment.\n",
                        "  warnings.warn('Lazy modules are a new feature under heavy development '\n"
                    ]
                },
                {
                    "name": "stdout",
                    "output_type": "stream",
                    "text": [
                        "Loaded model from /workdir/optimal-summaries-public/_models/tiselac/atomics/n_concepts_4_n_atomics_10_use_summaries_for_atomics_False_seed_3.pt\n",
                        "AUC macro 0.960\n",
                        "ACC macro 0.727\n",
                        " F1 macro 0.681\n"
                    ]
                },
                {
                    "data": {
                        "text/plain": [
                            "[CBM(\n",
                            "   (sigmoid_layer): Sigmoid()\n",
                            "   (output_af): Softmax(dim=1)\n",
                            "   (activation_func): Sigmoid()\n",
                            "   (layer_time_to_atomics): LazyLinearWithMask(in_features=0, out_features=10, bias=True)\n",
                            "   (flatten): Flatten(start_dim=1, end_dim=-1)\n",
                            "   (layer_to_concepts): LazyLinearWithMask(in_features=0, out_features=4, bias=True)\n",
                            "   (layer_output): Linear(in_features=4, out_features=9, bias=True)\n",
                            " ),\n",
                            " CBM(\n",
                            "   (sigmoid_layer): Sigmoid()\n",
                            "   (output_af): Softmax(dim=1)\n",
                            "   (activation_func): Sigmoid()\n",
                            "   (layer_time_to_atomics): LazyLinearWithMask(in_features=0, out_features=10, bias=True)\n",
                            "   (flatten): Flatten(start_dim=1, end_dim=-1)\n",
                            "   (layer_to_concepts): LazyLinearWithMask(in_features=0, out_features=4, bias=True)\n",
                            "   (layer_output): Linear(in_features=4, out_features=9, bias=True)\n",
                            " ),\n",
                            " CBM(\n",
                            "   (sigmoid_layer): Sigmoid()\n",
                            "   (output_af): Softmax(dim=1)\n",
                            "   (activation_func): Sigmoid()\n",
                            "   (layer_time_to_atomics): LazyLinearWithMask(in_features=0, out_features=10, bias=True)\n",
                            "   (flatten): Flatten(start_dim=1, end_dim=-1)\n",
                            "   (layer_to_concepts): LazyLinearWithMask(in_features=0, out_features=4, bias=True)\n",
                            "   (layer_output): Linear(in_features=4, out_features=9, bias=True)\n",
                            " )]"
                        ]
                    },
                    "execution_count": 5,
                    "metadata": {},
                    "output_type": "execute_result"
                }
            ],
            "source": [
                "[get_model_sum2atom(random_seed) for random_seed in random_seeds]\n",
                "[get_model_sum2con(random_seed) for random_seed in random_seeds]"
            ]
        },
        {
            "cell_type": "code",
            "execution_count": null,
            "metadata": {},
            "outputs": [],
            "source": [
                "visualize_top100_weights_per_channel(model.bottleneck)\n"
            ]
        },
        {
            "cell_type": "code",
            "execution_count": 11,
            "metadata": {},
            "outputs": [
                {
                    "name": "stdout",
                    "output_type": "stream",
                    "text": [
                        "seed 1\n"
                    ]
                },
                {
                    "name": "stderr",
                    "output_type": "stream",
                    "text": [
                        "/usr/local/lib/python3.10/dist-packages/torch/nn/modules/lazy.py:180: UserWarning: Lazy modules are a new feature under heavy development so changes to the API or functionality can happen at any moment.\n",
                        "  warnings.warn('Lazy modules are a new feature under heavy development '\n"
                    ]
                },
                {
                    "name": "stdout",
                    "output_type": "stream",
                    "text": [
                        "Loaded model from /workdir/optimal-summaries-public/_models/tiselac/atomics/n_concepts_4_n_atomics_10_use_summaries_for_atomics_True_seed_1.pt\n",
                        "AUC macro 0.961\n",
                        "ACC macro 0.732\n",
                        " F1 macro 0.683\n",
                        "Found 10 Concepts\n",
                        "90th percentile per concept [ 0.12366915  4.3872643  13.994587    5.6910405   5.27104     0.12729435\n",
                        "  2.866164    0.17723843  0.11380112  4.1549497 ]\n",
                        "['Concept 0 len: 10', 'Concept 1 len: 10', 'Concept 2 len: 10', 'Concept 3 len: 10', 'Concept 4 len: 10', 'Concept 5 len: 10', 'Concept 6 len: 11', 'Concept 7 len: 10', 'Concept 8 len: 10', 'Concept 9 len: 10']\n",
                        "Found 4 Concepts\n",
                        "90th percentile per concept [10.559936 17.957523 15.62205  13.409517]\n",
                        "['Concept 0 len: 16', 'Concept 1 len: 20', 'Concept 2 len: 23', 'Concept 3 len: 20']\n"
                    ]
                },
                {
                    "name": "stderr",
                    "output_type": "stream",
                    "text": [
                        "100%|██████████| 140/140 [5:36:39<00:00, 144.28s/it, Score=0.91356, acc=0.382, f1=0.382, auc=0.913]  \n"
                    ]
                },
                {
                    "name": "stdout",
                    "output_type": "stream",
                    "text": [
                        "seed 2\n"
                    ]
                },
                {
                    "name": "stderr",
                    "output_type": "stream",
                    "text": [
                        "/usr/local/lib/python3.10/dist-packages/torch/nn/modules/lazy.py:180: UserWarning: Lazy modules are a new feature under heavy development so changes to the API or functionality can happen at any moment.\n",
                        "  warnings.warn('Lazy modules are a new feature under heavy development '\n"
                    ]
                },
                {
                    "name": "stdout",
                    "output_type": "stream",
                    "text": [
                        "Loaded model from /workdir/optimal-summaries-public/_models/tiselac/atomics/n_concepts_4_n_atomics_10_use_summaries_for_atomics_True_seed_2.pt\n",
                        "AUC macro 0.966\n",
                        "ACC macro 0.752\n",
                        " F1 macro 0.700\n",
                        "Found 10 Concepts\n",
                        "90th percentile per concept [ 0.12272644  2.801038    3.10565     3.4920776   4.466231    6.6447144\n",
                        "  0.12156378 10.8165655   3.7118132   0.11965739]\n",
                        "['Concept 0 len: 10', 'Concept 1 len: 10', 'Concept 2 len: 10', 'Concept 3 len: 10', 'Concept 4 len: 10', 'Concept 5 len: 10', 'Concept 6 len: 10', 'Concept 7 len: 10', 'Concept 8 len: 10', 'Concept 9 len: 10']\n",
                        "Found 4 Concepts\n",
                        "90th percentile per concept [15.473067 12.9715   11.362193 17.264057]\n",
                        "['Concept 0 len: 21', 'Concept 1 len: 25', 'Concept 2 len: 19', 'Concept 3 len: 24']\n"
                    ]
                },
                {
                    "name": "stderr",
                    "output_type": "stream",
                    "text": [
                        "100%|██████████| 140/140 [5:54:33<00:00, 151.95s/it, Score=0.77775, acc=0.0389, f1=0.0389, auc=0.788]  \n"
                    ]
                },
                {
                    "name": "stdout",
                    "output_type": "stream",
                    "text": [
                        "seed 3\n"
                    ]
                },
                {
                    "name": "stderr",
                    "output_type": "stream",
                    "text": [
                        "/usr/local/lib/python3.10/dist-packages/torch/nn/modules/lazy.py:180: UserWarning: Lazy modules are a new feature under heavy development so changes to the API or functionality can happen at any moment.\n",
                        "  warnings.warn('Lazy modules are a new feature under heavy development '\n"
                    ]
                },
                {
                    "name": "stdout",
                    "output_type": "stream",
                    "text": [
                        "Loaded model from /workdir/optimal-summaries-public/_models/tiselac/atomics/n_concepts_4_n_atomics_10_use_summaries_for_atomics_True_seed_3.pt\n",
                        "AUC macro 0.965\n",
                        "ACC macro 0.752\n",
                        " F1 macro 0.696\n",
                        "Found 10 Concepts\n",
                        "90th percentile per concept [ 2.5723462  10.70607     2.8294053   3.8433394   0.12618801  0.13571216\n",
                        "  5.281903    0.1168546   3.0253272   6.0665402 ]\n",
                        "['Concept 0 len: 10', 'Concept 1 len: 10', 'Concept 2 len: 10', 'Concept 3 len: 10', 'Concept 4 len: 10', 'Concept 5 len: 10', 'Concept 6 len: 10', 'Concept 7 len: 10', 'Concept 8 len: 10', 'Concept 9 len: 10']\n",
                        "Found 4 Concepts\n",
                        "90th percentile per concept [14.179349 17.946478 14.615713  9.905482]\n",
                        "['Concept 0 len: 20', 'Concept 1 len: 23', 'Concept 2 len: 20', 'Concept 3 len: 21']\n"
                    ]
                },
                {
                    "name": "stderr",
                    "output_type": "stream",
                    "text": [
                        "100%|██████████| 140/140 [5:46:45<00:00, 148.61s/it, Score=0.89507, acc=0.442, f1=0.442, auc=0.891]  \n"
                    ]
                }
            ],
            "source": [
                "track_metrics={\"acc\": accuracy_metric,\n",
                "               \"f1\": f1_metric,\n",
                "               \"auc\": auroc_metric,\n",
                "               }\n",
                "\n",
                "results = []\n",
                "for random_seed in random_seeds:\n",
                "    print(\"seed\", random_seed)\n",
                "    set_seed(random_seed)\n",
                "    model = get_model_sum2atom(random_seed)\n",
                "    train_loader, val_loader, test_loader, class_weights, num_classes, changing_dim, static_dim, seq_len = get_tiselac_dataloader(random_state = random_seed)\n",
                "    top_k_inds = [get_top_features_per_concept(layer) for layer in model.regularized_layers]\n",
                "    save_path = top_k_file_sum2atom.format(seed=random_seed)\n",
                "    \n",
                "    greedy_results = greedy_forward_selection(model=model, layers_to_prune=model.regularized_layers, top_k_inds=top_k_inds, val_loader=val_loader, optimize_metric=auroc_metric, track_metrics=track_metrics, save_path=save_path)\n",
                "    results.append(greedy_results)\n",
                "    "
            ]
        },
        {
            "cell_type": "code",
            "execution_count": null,
            "metadata": {},
            "outputs": [],
            "source": [
                "greedy_results = read_df_from_csv(top_k_file_sum2atom.format(seed=1))\n",
                "pd.set_option('display.max_rows', 100)\n",
                "greedy_results\n"
            ]
        },
        {
            "cell_type": "code",
            "execution_count": null,
            "metadata": {},
            "outputs": [],
            "source": [
                "plot_selected_weights(model.regularized_layers[0].weight, top_k_inds, greedy_results)\n",
                "plot_selected_weights(model.regularized_layers[1].weight, top_k_inds, greedy_results)"
            ]
        },
        {
            "cell_type": "code",
            "execution_count": 5,
            "metadata": {},
            "outputs": [
                {
                    "name": "stdout",
                    "output_type": "stream",
                    "text": [
                        "random_seed 1\n"
                    ]
                },
                {
                    "name": "stderr",
                    "output_type": "stream",
                    "text": [
                        "/usr/local/lib/python3.10/dist-packages/torch/nn/modules/lazy.py:180: UserWarning: Lazy modules are a new feature under heavy development so changes to the API or functionality can happen at any moment.\n",
                        "  warnings.warn('Lazy modules are a new feature under heavy development '\n"
                    ]
                },
                {
                    "name": "stdout",
                    "output_type": "stream",
                    "text": [
                        "Loaded model from /workdir/optimal-summaries-public/_models/tiselac/atomics/n_concepts_4_n_atomics_10_use_summaries_for_atomics_False_seed_1.pt\n",
                        "AUC macro 0.957\n",
                        "ACC macro 0.729\n",
                        " F1 macro 0.682\n",
                        "Found 10 Concepts\n",
                        "90th percentile per concept [0.09481631 0.10449596 0.09370365 0.10036281 0.10516899 0.11018913\n",
                        " 0.09929327 4.7098823  0.10785296 0.09374589]\n",
                        "['Concept 0 len: 10', 'Concept 1 len: 10', 'Concept 2 len: 10', 'Concept 3 len: 10', 'Concept 4 len: 10', 'Concept 5 len: 10', 'Concept 6 len: 10', 'Concept 7 len: 10', 'Concept 8 len: 10', 'Concept 9 len: 10']\n",
                        "Found 4 Concepts\n",
                        "90th percentile per concept [10.564029  11.2774105 14.226827  13.393058 ]\n",
                        "['Concept 0 len: 23', 'Concept 1 len: 20', 'Concept 2 len: 19', 'Concept 3 len: 20']\n",
                        "Successfully loaded greedy search results!\n",
                        "random_seed 2\n"
                    ]
                },
                {
                    "name": "stderr",
                    "output_type": "stream",
                    "text": [
                        "/usr/local/lib/python3.10/dist-packages/torch/nn/modules/lazy.py:180: UserWarning: Lazy modules are a new feature under heavy development so changes to the API or functionality can happen at any moment.\n",
                        "  warnings.warn('Lazy modules are a new feature under heavy development '\n"
                    ]
                },
                {
                    "name": "stdout",
                    "output_type": "stream",
                    "text": [
                        "Loaded model from /workdir/optimal-summaries-public/_models/tiselac/atomics/n_concepts_4_n_atomics_10_use_summaries_for_atomics_False_seed_2.pt\n",
                        "AUC macro 0.960\n",
                        "ACC macro 0.733\n",
                        " F1 macro 0.685\n",
                        "Found 10 Concepts\n",
                        "90th percentile per concept [0.11170515 0.10352117 0.10605661 3.478114   0.11777916 0.09690154\n",
                        " 0.11849654 0.11505327 0.10375417 0.10070904]\n",
                        "['Concept 0 len: 10', 'Concept 1 len: 10', 'Concept 2 len: 10', 'Concept 3 len: 10', 'Concept 4 len: 10', 'Concept 5 len: 10', 'Concept 6 len: 10', 'Concept 7 len: 10', 'Concept 8 len: 10', 'Concept 9 len: 10']\n",
                        "Found 4 Concepts\n",
                        "90th percentile per concept [10.390122 12.834478 12.110575 19.563532]\n",
                        "['Concept 0 len: 21', 'Concept 1 len: 19', 'Concept 2 len: 16', 'Concept 3 len: 18']\n"
                    ]
                },
                {
                    "name": "stderr",
                    "output_type": "stream",
                    "text": [
                        "100%|██████████| 140/140 [3:12:08<00:00, 82.34s/it, Score=0.89866, acc=0.549, f1=0.549, auc=0.899]  \n"
                    ]
                },
                {
                    "name": "stdout",
                    "output_type": "stream",
                    "text": [
                        "random_seed 3\n"
                    ]
                },
                {
                    "name": "stderr",
                    "output_type": "stream",
                    "text": [
                        "/usr/local/lib/python3.10/dist-packages/torch/nn/modules/lazy.py:180: UserWarning: Lazy modules are a new feature under heavy development so changes to the API or functionality can happen at any moment.\n",
                        "  warnings.warn('Lazy modules are a new feature under heavy development '\n"
                    ]
                },
                {
                    "name": "stdout",
                    "output_type": "stream",
                    "text": [
                        "Loaded model from /workdir/optimal-summaries-public/_models/tiselac/atomics/n_concepts_4_n_atomics_10_use_summaries_for_atomics_False_seed_3.pt\n",
                        "AUC macro 0.960\n",
                        "ACC macro 0.727\n",
                        " F1 macro 0.681\n",
                        "Found 10 Concepts\n",
                        "90th percentile per concept [0.10139272 0.10747987 0.10299643 0.11412331 0.10095468 0.10006861\n",
                        " 0.10646161 3.5123584  0.10314059 0.10901023]\n",
                        "['Concept 0 len: 10', 'Concept 1 len: 10', 'Concept 2 len: 10', 'Concept 3 len: 10', 'Concept 4 len: 10', 'Concept 5 len: 10', 'Concept 6 len: 10', 'Concept 7 len: 10', 'Concept 8 len: 10', 'Concept 9 len: 10']\n",
                        "Found 4 Concepts\n",
                        "90th percentile per concept [13.149826  14.316022  14.6094675 10.837737 ]\n",
                        "['Concept 0 len: 21', 'Concept 1 len: 22', 'Concept 2 len: 18', 'Concept 3 len: 16']\n"
                    ]
                },
                {
                    "name": "stderr",
                    "output_type": "stream",
                    "text": [
                        "100%|██████████| 140/140 [3:05:59<00:00, 79.71s/it, Score=0.88709, acc=0.452, f1=0.452, auc=0.887]\n"
                    ]
                }
            ],
            "source": [
                "track_metrics={\"acc\": accuracy_metric,\n",
                "               \"f1\": f1_metric,\n",
                "               \"auc\": auroc_metric,\n",
                "               }\n",
                "\n",
                "results = []\n",
                "for random_seed in random_seeds:\n",
                "    print(\"random_seed\", random_seed)\n",
                "    set_seed(random_seed)\n",
                "    model = get_model_sum2con(random_seed)\n",
                "    train_loader, val_loader, test_loader, class_weights, num_classes, changing_dim, static_dim, seq_len = get_tiselac_dataloader(random_state = random_seed)\n",
                "    top_k_inds = [get_top_features_per_concept(layer) for layer in model.regularized_layers]\n",
                "    save_path = top_k_file_sum2con.format(seed=random_seed)\n",
                "    \n",
                "    greedy_results = greedy_forward_selection(model=model, layers_to_prune=model.regularized_layers, top_k_inds=top_k_inds, val_loader=val_loader, optimize_metric=auroc_metric, track_metrics=track_metrics, save_path=save_path)\n",
                "    results.append(greedy_results)\n",
                "    "
            ]
        },
        {
            "cell_type": "code",
            "execution_count": null,
            "metadata": {},
            "outputs": [],
            "source": [
                "model = get_model_sum2con(1)\n",
                "greedy_results = read_df_from_csv(top_k_file_sum2con.format(seed=1))\n",
                "pd.set_option('display.max_rows', 100)\n",
                "greedy_results\n"
            ]
        },
        {
            "cell_type": "code",
            "execution_count": null,
            "metadata": {},
            "outputs": [],
            "source": [
                "\n",
                "plot_selected_weights(model.regularized_layers[0].weight, top_k_inds, greedy_results)\n",
                "plot_selected_weights(model.regularized_layers[1].weight, top_k_inds, greedy_results)"
            ]
        },
        {
            "cell_type": "code",
            "execution_count": 5,
            "metadata": {},
            "outputs": [
                {
                    "name": "stderr",
                    "output_type": "stream",
                    "text": [
                        "/usr/local/lib/python3.10/dist-packages/torch/nn/modules/lazy.py:180: UserWarning: Lazy modules are a new feature under heavy development so changes to the API or functionality can happen at any moment.\n",
                        "  warnings.warn('Lazy modules are a new feature under heavy development '\n"
                    ]
                },
                {
                    "name": "stdout",
                    "output_type": "stream",
                    "text": [
                        "Loaded model from /workdir/optimal-summaries-public/_models/tiselac/atomics/n_concepts_4_n_atomics_10_use_summaries_for_atomics_True_seed_1.pt\n",
                        "AUC macro 0.961\n",
                        "ACC macro 0.732\n",
                        " F1 macro 0.683\n",
                        "AUC macro 0.962\n",
                        "ACC macro 0.739\n",
                        " F1 macro 0.691\n",
                        "AUC macro 0.961\n",
                        "ACC macro 0.732\n",
                        " F1 macro 0.683\n",
                        "AUC macro 0.913\n",
                        "ACC macro 0.348\n",
                        " F1 macro 0.252\n",
                        "AUC macro 0.908\n",
                        "ACC macro 0.344\n",
                        " F1 macro 0.247\n"
                    ]
                },
                {
                    "name": "stderr",
                    "output_type": "stream",
                    "text": [
                        " 13%|█▎        | 1300/10000 [44:47<4:59:43,  2.07s/ epoch, Train Loss=0.93424, Val Loss=0.93997, Best Val Loss=0.93973]"
                    ]
                },
                {
                    "name": "stdout",
                    "output_type": "stream",
                    "text": [
                        "Early Stopped\n"
                    ]
                },
                {
                    "name": "stderr",
                    "output_type": "stream",
                    "text": [
                        "\n"
                    ]
                },
                {
                    "name": "stdout",
                    "output_type": "stream",
                    "text": [
                        "AUC macro 0.952\n",
                        "ACC macro 0.697\n",
                        " F1 macro 0.652\n",
                        "AUC macro 0.951\n",
                        "ACC macro 0.697\n",
                        " F1 macro 0.650\n"
                    ]
                },
                {
                    "name": "stderr",
                    "output_type": "stream",
                    "text": [
                        "/usr/local/lib/python3.10/dist-packages/torch/nn/modules/lazy.py:180: UserWarning: Lazy modules are a new feature under heavy development so changes to the API or functionality can happen at any moment.\n",
                        "  warnings.warn('Lazy modules are a new feature under heavy development '\n"
                    ]
                },
                {
                    "name": "stdout",
                    "output_type": "stream",
                    "text": [
                        "Loaded model from /workdir/optimal-summaries-public/_models/tiselac/atomics/n_concepts_4_n_atomics_10_use_summaries_for_atomics_True_seed_2.pt\n",
                        "AUC macro 0.966\n",
                        "ACC macro 0.752\n",
                        " F1 macro 0.700\n",
                        "AUC macro 0.964\n",
                        "ACC macro 0.750\n",
                        " F1 macro 0.699\n",
                        "AUC macro 0.966\n",
                        "ACC macro 0.752\n",
                        " F1 macro 0.700\n",
                        "AUC macro 0.788\n",
                        "ACC macro 0.111\n",
                        " F1 macro 0.008\n",
                        "AUC macro 0.791\n",
                        "ACC macro 0.111\n",
                        " F1 macro 0.008\n"
                    ]
                },
                {
                    "name": "stderr",
                    "output_type": "stream",
                    "text": [
                        " 14%|█▍        | 1440/10000 [45:35<4:30:58,  1.90s/ epoch, Train Loss=0.99309, Val Loss=1.01580, Best Val Loss=1.01504]"
                    ]
                },
                {
                    "name": "stdout",
                    "output_type": "stream",
                    "text": [
                        "Early Stopped\n"
                    ]
                },
                {
                    "name": "stderr",
                    "output_type": "stream",
                    "text": [
                        "\n"
                    ]
                },
                {
                    "name": "stdout",
                    "output_type": "stream",
                    "text": [
                        "AUC macro 0.943\n",
                        "ACC macro 0.674\n",
                        " F1 macro 0.641\n",
                        "AUC macro 0.947\n",
                        "ACC macro 0.682\n",
                        " F1 macro 0.647\n"
                    ]
                },
                {
                    "name": "stderr",
                    "output_type": "stream",
                    "text": [
                        "/usr/local/lib/python3.10/dist-packages/torch/nn/modules/lazy.py:180: UserWarning: Lazy modules are a new feature under heavy development so changes to the API or functionality can happen at any moment.\n",
                        "  warnings.warn('Lazy modules are a new feature under heavy development '\n"
                    ]
                },
                {
                    "name": "stdout",
                    "output_type": "stream",
                    "text": [
                        "Loaded model from /workdir/optimal-summaries-public/_models/tiselac/atomics/n_concepts_4_n_atomics_10_use_summaries_for_atomics_True_seed_3.pt\n",
                        "AUC macro 0.965\n",
                        "ACC macro 0.752\n",
                        " F1 macro 0.696\n",
                        "AUC macro 0.964\n",
                        "ACC macro 0.748\n",
                        " F1 macro 0.696\n",
                        "AUC macro 0.965\n",
                        "ACC macro 0.752\n",
                        " F1 macro 0.696\n",
                        "AUC macro 0.891\n",
                        "ACC macro 0.310\n",
                        " F1 macro 0.278\n",
                        "AUC macro 0.889\n",
                        "ACC macro 0.307\n",
                        " F1 macro 0.277\n"
                    ]
                },
                {
                    "name": "stderr",
                    "output_type": "stream",
                    "text": [
                        " 27%|██▋       | 2700/10000 [1:24:45<3:49:10,  1.88s/ epoch, Train Loss=0.94829, Val Loss=0.93569, Best Val Loss=0.93250]"
                    ]
                },
                {
                    "name": "stdout",
                    "output_type": "stream",
                    "text": [
                        "Early Stopped\n"
                    ]
                },
                {
                    "name": "stderr",
                    "output_type": "stream",
                    "text": [
                        "\n"
                    ]
                },
                {
                    "name": "stdout",
                    "output_type": "stream",
                    "text": [
                        "AUC macro 0.953\n",
                        "ACC macro 0.704\n",
                        " F1 macro 0.667\n",
                        "AUC macro 0.953\n",
                        "ACC macro 0.694\n",
                        " F1 macro 0.657\n"
                    ]
                },
                {
                    "data": {
                        "text/html": [
                            "<div>\n",
                            "<style scoped>\n",
                            "    .dataframe tbody tr th:only-of-type {\n",
                            "        vertical-align: middle;\n",
                            "    }\n",
                            "\n",
                            "    .dataframe tbody tr th {\n",
                            "        vertical-align: top;\n",
                            "    }\n",
                            "\n",
                            "    .dataframe thead th {\n",
                            "        text-align: right;\n",
                            "    }\n",
                            "</style>\n",
                            "<table border=\"1\" class=\"dataframe\">\n",
                            "  <thead>\n",
                            "    <tr style=\"text-align: right;\">\n",
                            "      <th></th>\n",
                            "      <th>Seed</th>\n",
                            "      <th>Split</th>\n",
                            "      <th>Mask</th>\n",
                            "      <th>Finetuned</th>\n",
                            "      <th>AUC</th>\n",
                            "      <th>ACC</th>\n",
                            "      <th>F1</th>\n",
                            "    </tr>\n",
                            "  </thead>\n",
                            "  <tbody>\n",
                            "    <tr>\n",
                            "      <th>0</th>\n",
                            "      <td>1</td>\n",
                            "      <td>val</td>\n",
                            "      <td>Empty</td>\n",
                            "      <td>False</td>\n",
                            "      <td>0.962102</td>\n",
                            "      <td>0.738562</td>\n",
                            "      <td>0.691248</td>\n",
                            "    </tr>\n",
                            "    <tr>\n",
                            "      <th>1</th>\n",
                            "      <td>1</td>\n",
                            "      <td>test</td>\n",
                            "      <td>Empty</td>\n",
                            "      <td>False</td>\n",
                            "      <td>0.960864</td>\n",
                            "      <td>0.732376</td>\n",
                            "      <td>0.682632</td>\n",
                            "    </tr>\n",
                            "    <tr>\n",
                            "      <th>2</th>\n",
                            "      <td>1</td>\n",
                            "      <td>val</td>\n",
                            "      <td>Greedy</td>\n",
                            "      <td>False</td>\n",
                            "      <td>0.913173</td>\n",
                            "      <td>0.348406</td>\n",
                            "      <td>0.252162</td>\n",
                            "    </tr>\n",
                            "    <tr>\n",
                            "      <th>3</th>\n",
                            "      <td>1</td>\n",
                            "      <td>test</td>\n",
                            "      <td>Greedy</td>\n",
                            "      <td>False</td>\n",
                            "      <td>0.907922</td>\n",
                            "      <td>0.343631</td>\n",
                            "      <td>0.247098</td>\n",
                            "    </tr>\n",
                            "    <tr>\n",
                            "      <th>4</th>\n",
                            "      <td>1</td>\n",
                            "      <td>val</td>\n",
                            "      <td>Greedy</td>\n",
                            "      <td>True</td>\n",
                            "      <td>0.952399</td>\n",
                            "      <td>0.696610</td>\n",
                            "      <td>0.652154</td>\n",
                            "    </tr>\n",
                            "    <tr>\n",
                            "      <th>5</th>\n",
                            "      <td>1</td>\n",
                            "      <td>test</td>\n",
                            "      <td>Greedy</td>\n",
                            "      <td>True</td>\n",
                            "      <td>0.951161</td>\n",
                            "      <td>0.697468</td>\n",
                            "      <td>0.649837</td>\n",
                            "    </tr>\n",
                            "    <tr>\n",
                            "      <th>6</th>\n",
                            "      <td>2</td>\n",
                            "      <td>val</td>\n",
                            "      <td>Empty</td>\n",
                            "      <td>False</td>\n",
                            "      <td>0.964000</td>\n",
                            "      <td>0.749664</td>\n",
                            "      <td>0.698999</td>\n",
                            "    </tr>\n",
                            "    <tr>\n",
                            "      <th>7</th>\n",
                            "      <td>2</td>\n",
                            "      <td>test</td>\n",
                            "      <td>Empty</td>\n",
                            "      <td>False</td>\n",
                            "      <td>0.965752</td>\n",
                            "      <td>0.752342</td>\n",
                            "      <td>0.700278</td>\n",
                            "    </tr>\n",
                            "    <tr>\n",
                            "      <th>8</th>\n",
                            "      <td>2</td>\n",
                            "      <td>val</td>\n",
                            "      <td>Greedy</td>\n",
                            "      <td>False</td>\n",
                            "      <td>0.788197</td>\n",
                            "      <td>0.111111</td>\n",
                            "      <td>0.008325</td>\n",
                            "    </tr>\n",
                            "    <tr>\n",
                            "      <th>9</th>\n",
                            "      <td>2</td>\n",
                            "      <td>test</td>\n",
                            "      <td>Greedy</td>\n",
                            "      <td>False</td>\n",
                            "      <td>0.790833</td>\n",
                            "      <td>0.111111</td>\n",
                            "      <td>0.008336</td>\n",
                            "    </tr>\n",
                            "    <tr>\n",
                            "      <th>10</th>\n",
                            "      <td>2</td>\n",
                            "      <td>val</td>\n",
                            "      <td>Greedy</td>\n",
                            "      <td>True</td>\n",
                            "      <td>0.942981</td>\n",
                            "      <td>0.674139</td>\n",
                            "      <td>0.640582</td>\n",
                            "    </tr>\n",
                            "    <tr>\n",
                            "      <th>11</th>\n",
                            "      <td>2</td>\n",
                            "      <td>test</td>\n",
                            "      <td>Greedy</td>\n",
                            "      <td>True</td>\n",
                            "      <td>0.946972</td>\n",
                            "      <td>0.682470</td>\n",
                            "      <td>0.647374</td>\n",
                            "    </tr>\n",
                            "    <tr>\n",
                            "      <th>12</th>\n",
                            "      <td>3</td>\n",
                            "      <td>val</td>\n",
                            "      <td>Empty</td>\n",
                            "      <td>False</td>\n",
                            "      <td>0.964234</td>\n",
                            "      <td>0.747728</td>\n",
                            "      <td>0.696099</td>\n",
                            "    </tr>\n",
                            "    <tr>\n",
                            "      <th>13</th>\n",
                            "      <td>3</td>\n",
                            "      <td>test</td>\n",
                            "      <td>Empty</td>\n",
                            "      <td>False</td>\n",
                            "      <td>0.964557</td>\n",
                            "      <td>0.751767</td>\n",
                            "      <td>0.696254</td>\n",
                            "    </tr>\n",
                            "    <tr>\n",
                            "      <th>14</th>\n",
                            "      <td>3</td>\n",
                            "      <td>val</td>\n",
                            "      <td>Greedy</td>\n",
                            "      <td>False</td>\n",
                            "      <td>0.890562</td>\n",
                            "      <td>0.310412</td>\n",
                            "      <td>0.277617</td>\n",
                            "    </tr>\n",
                            "    <tr>\n",
                            "      <th>15</th>\n",
                            "      <td>3</td>\n",
                            "      <td>test</td>\n",
                            "      <td>Greedy</td>\n",
                            "      <td>False</td>\n",
                            "      <td>0.888684</td>\n",
                            "      <td>0.307499</td>\n",
                            "      <td>0.276801</td>\n",
                            "    </tr>\n",
                            "    <tr>\n",
                            "      <th>16</th>\n",
                            "      <td>3</td>\n",
                            "      <td>val</td>\n",
                            "      <td>Greedy</td>\n",
                            "      <td>True</td>\n",
                            "      <td>0.953346</td>\n",
                            "      <td>0.704107</td>\n",
                            "      <td>0.666595</td>\n",
                            "    </tr>\n",
                            "    <tr>\n",
                            "      <th>17</th>\n",
                            "      <td>3</td>\n",
                            "      <td>test</td>\n",
                            "      <td>Greedy</td>\n",
                            "      <td>True</td>\n",
                            "      <td>0.952943</td>\n",
                            "      <td>0.693640</td>\n",
                            "      <td>0.657195</td>\n",
                            "    </tr>\n",
                            "  </tbody>\n",
                            "</table>\n",
                            "</div>"
                        ],
                        "text/plain": [
                            "    Seed Split    Mask  Finetuned       AUC       ACC        F1\n",
                            "0      1   val   Empty      False  0.962102  0.738562  0.691248\n",
                            "1      1  test   Empty      False  0.960864  0.732376  0.682632\n",
                            "2      1   val  Greedy      False  0.913173  0.348406  0.252162\n",
                            "3      1  test  Greedy      False  0.907922  0.343631  0.247098\n",
                            "4      1   val  Greedy       True  0.952399  0.696610  0.652154\n",
                            "5      1  test  Greedy       True  0.951161  0.697468  0.649837\n",
                            "6      2   val   Empty      False  0.964000  0.749664  0.698999\n",
                            "7      2  test   Empty      False  0.965752  0.752342  0.700278\n",
                            "8      2   val  Greedy      False  0.788197  0.111111  0.008325\n",
                            "9      2  test  Greedy      False  0.790833  0.111111  0.008336\n",
                            "10     2   val  Greedy       True  0.942981  0.674139  0.640582\n",
                            "11     2  test  Greedy       True  0.946972  0.682470  0.647374\n",
                            "12     3   val   Empty      False  0.964234  0.747728  0.696099\n",
                            "13     3  test   Empty      False  0.964557  0.751767  0.696254\n",
                            "14     3   val  Greedy      False  0.890562  0.310412  0.277617\n",
                            "15     3  test  Greedy      False  0.888684  0.307499  0.276801\n",
                            "16     3   val  Greedy       True  0.953346  0.704107  0.666595\n",
                            "17     3  test  Greedy       True  0.952943  0.693640  0.657195"
                        ]
                    },
                    "execution_count": 5,
                    "metadata": {},
                    "output_type": "execute_result"
                }
            ],
            "source": [
                "result_df = evaluate_greedy_selection(get_model_sum2atom, get_tiselac_dataloader, top_k_file_sum2atom)\n",
                "result_df\n"
            ]
        },
        {
            "cell_type": "code",
            "execution_count": 6,
            "metadata": {},
            "outputs": [
                {
                    "ename": "ValueError",
                    "evalue": "invalid literal for int() with base 10: '/'",
                    "output_type": "error",
                    "traceback": [
                        "\u001b[0;31m---------------------------------------------------------------------------\u001b[0m",
                        "\u001b[0;31mValueError\u001b[0m                                Traceback (most recent call last)",
                        "Cell \u001b[0;32mIn[6], line 1\u001b[0m\n\u001b[0;32m----> 1\u001b[0m result_df \u001b[38;5;241m=\u001b[39m \u001b[43mevaluate_greedy_selection\u001b[49m\u001b[43m(\u001b[49m\u001b[43mget_model_sum2con\u001b[49m\u001b[43m,\u001b[49m\u001b[43m \u001b[49m\u001b[43mget_tiselac_dataloader\u001b[49m\u001b[43m,\u001b[49m\u001b[43m \u001b[49m\u001b[43mtop_k_file_sum2con\u001b[49m\u001b[43m)\u001b[49m\n\u001b[1;32m      2\u001b[0m result_df\n",
                        "File \u001b[0;32m/workdir/optimal-summaries-public/classification/../models/helper.py:356\u001b[0m, in \u001b[0;36mevaluate_greedy_selection\u001b[0;34m(get_model, get_dataloader, random_seeds)\u001b[0m\n\u001b[1;32m    353\u001b[0m metrics_df \u001b[38;5;241m=\u001b[39m pd\u001b[38;5;241m.\u001b[39mDataFrame(columns\u001b[38;5;241m=\u001b[39m[\u001b[38;5;124m\"\u001b[39m\u001b[38;5;124mSeed\u001b[39m\u001b[38;5;124m\"\u001b[39m, \u001b[38;5;124m\"\u001b[39m\u001b[38;5;124mSplit\u001b[39m\u001b[38;5;124m\"\u001b[39m, \u001b[38;5;124m\"\u001b[39m\u001b[38;5;124mMask\u001b[39m\u001b[38;5;124m\"\u001b[39m, \u001b[38;5;124m\"\u001b[39m\u001b[38;5;124mFinetuned\u001b[39m\u001b[38;5;124m\"\u001b[39m, \u001b[38;5;124m\"\u001b[39m\u001b[38;5;124mAUC\u001b[39m\u001b[38;5;124m\"\u001b[39m, \u001b[38;5;124m\"\u001b[39m\u001b[38;5;124mACC\u001b[39m\u001b[38;5;124m\"\u001b[39m, \u001b[38;5;124m\"\u001b[39m\u001b[38;5;124mF1\u001b[39m\u001b[38;5;124m\"\u001b[39m])\n\u001b[1;32m    355\u001b[0m \u001b[38;5;28;01mfor\u001b[39;00m random_seed \u001b[38;5;129;01min\u001b[39;00m random_seeds:\n\u001b[0;32m--> 356\u001b[0m     \u001b[43mset_seed\u001b[49m\u001b[43m(\u001b[49m\u001b[43mrandom_seed\u001b[49m\u001b[43m)\u001b[49m\n\u001b[1;32m    358\u001b[0m     model \u001b[38;5;241m=\u001b[39m get_model(random_seed)\n\u001b[1;32m    359\u001b[0m     greedy_path \u001b[38;5;241m=\u001b[39m add_subfolder(model\u001b[38;5;241m.\u001b[39msave_model_path, \u001b[38;5;124m\"\u001b[39m\u001b[38;5;124mtop-k\u001b[39m\u001b[38;5;124m\"\u001b[39m) \u001b[38;5;241m+\u001b[39m \u001b[38;5;124m\"\u001b[39m\u001b[38;5;124m.csv\u001b[39m\u001b[38;5;124m\"\u001b[39m\n",
                        "File \u001b[0;32m/workdir/optimal-summaries-public/classification/../models/helper.py:524\u001b[0m, in \u001b[0;36mset_seed\u001b[0;34m(r)\u001b[0m\n\u001b[1;32m    520\u001b[0m \u001b[38;5;28;01mdef\u001b[39;00m \u001b[38;5;21mset_seed\u001b[39m(r):\n\u001b[1;32m    521\u001b[0m     \u001b[38;5;66;03m# torch.backends.cudnn.deterministic = True\u001b[39;00m\n\u001b[1;32m    522\u001b[0m     \u001b[38;5;66;03m# torch.use_deterministic_algorithms(True)\u001b[39;00m\n\u001b[1;32m    523\u001b[0m     random\u001b[38;5;241m.\u001b[39mseed(r)\n\u001b[0;32m--> 524\u001b[0m     \u001b[43mtorch\u001b[49m\u001b[38;5;241;43m.\u001b[39;49m\u001b[43mmanual_seed\u001b[49m\u001b[43m(\u001b[49m\u001b[43mr\u001b[49m\u001b[43m)\u001b[49m\n\u001b[1;32m    525\u001b[0m     torch\u001b[38;5;241m.\u001b[39mcuda\u001b[38;5;241m.\u001b[39mmanual_seed(r)\n\u001b[1;32m    526\u001b[0m     np\u001b[38;5;241m.\u001b[39mrandom\u001b[38;5;241m.\u001b[39mseed(r)\n",
                        "File \u001b[0;32m/usr/local/lib/python3.10/dist-packages/torch/random.py:36\u001b[0m, in \u001b[0;36mmanual_seed\u001b[0;34m(seed)\u001b[0m\n\u001b[1;32m     26\u001b[0m \u001b[38;5;28;01mdef\u001b[39;00m \u001b[38;5;21mmanual_seed\u001b[39m(seed) \u001b[38;5;241m-\u001b[39m\u001b[38;5;241m>\u001b[39m torch\u001b[38;5;241m.\u001b[39m_C\u001b[38;5;241m.\u001b[39mGenerator:\n\u001b[1;32m     27\u001b[0m \u001b[38;5;250m    \u001b[39m\u001b[38;5;124mr\u001b[39m\u001b[38;5;124;03m\"\"\"Sets the seed for generating random numbers. Returns a\u001b[39;00m\n\u001b[1;32m     28\u001b[0m \u001b[38;5;124;03m    `torch.Generator` object.\u001b[39;00m\n\u001b[1;32m     29\u001b[0m \n\u001b[0;32m   (...)\u001b[0m\n\u001b[1;32m     34\u001b[0m \u001b[38;5;124;03m            `0xffff_ffff_ffff_ffff + seed`.\u001b[39;00m\n\u001b[1;32m     35\u001b[0m \u001b[38;5;124;03m    \"\"\"\u001b[39;00m\n\u001b[0;32m---> 36\u001b[0m     seed \u001b[38;5;241m=\u001b[39m \u001b[38;5;28;43mint\u001b[39;49m\u001b[43m(\u001b[49m\u001b[43mseed\u001b[49m\u001b[43m)\u001b[49m\n\u001b[1;32m     37\u001b[0m     \u001b[38;5;28;01mimport\u001b[39;00m \u001b[38;5;21;01mtorch\u001b[39;00m\u001b[38;5;21;01m.\u001b[39;00m\u001b[38;5;21;01mcuda\u001b[39;00m\n\u001b[1;32m     39\u001b[0m     \u001b[38;5;28;01mif\u001b[39;00m \u001b[38;5;129;01mnot\u001b[39;00m torch\u001b[38;5;241m.\u001b[39mcuda\u001b[38;5;241m.\u001b[39m_is_in_bad_fork():\n",
                        "\u001b[0;31mValueError\u001b[0m: invalid literal for int() with base 10: '/'"
                    ]
                }
            ],
            "source": [
                "result_df = evaluate_greedy_selection(get_model_sum2con, get_tiselac_dataloader, top_k_file_sum2con)\n",
                "result_df\n"
            ]
        },
        {
            "cell_type": "code",
            "execution_count": null,
            "metadata": {},
            "outputs": [],
            "source": []
        }
    ],
    "metadata": {
        "kernelspec": {
            "display_name": "base",
            "language": "python",
            "name": "python3"
        },
        "language_info": {
            "codemirror_mode": {
                "name": "ipython",
                "version": 3
            },
            "file_extension": ".py",
            "mimetype": "text/x-python",
            "name": "python",
            "nbconvert_exporter": "python",
            "pygments_lexer": "ipython3",
            "version": "3.10.12"
        }
    },
    "nbformat": 4,
    "nbformat_minor": 2
}
