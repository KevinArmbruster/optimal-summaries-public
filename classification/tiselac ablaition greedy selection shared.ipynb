{
    "cells": [
        {
            "cell_type": "code",
            "execution_count": 1,
            "metadata": {},
            "outputs": [
                {
                    "name": "stdout",
                    "output_type": "stream",
                    "text": [
                        "current device cuda:2\n"
                    ]
                }
            ],
            "source": [
                "%load_ext autoreload\n",
                "%autoreload 2\n",
                "\n",
                "import sys\n",
                "sys.path.append('..')\n",
                "\n",
                "import numpy as np\n",
                "import pandas as pd\n",
                "import torch\n",
                "import random\n",
                "import csv\n",
                "import matplotlib.pyplot as plt\n",
                "import torch\n",
                "from torchmetrics.classification import AUROC, Accuracy, ConfusionMatrix, F1Score\n",
                "import os, subprocess, gc, time, datetime\n",
                "from itertools import product\n",
                "from einops import rearrange\n",
                "\n",
                "import models.models_original as models_original\n",
                "import models.models_3d as models_3d\n",
                "import models.models_3d_atomics as models_3d_atomics\n",
                "from models.data import *\n",
                "from models.helper import *\n",
                "from models.param_initializations import *\n",
                "from models.optimization_strategy import *\n",
                "\n",
                "device = get_free_gpu()\n"
            ]
        },
        {
            "cell_type": "code",
            "execution_count": 2,
            "metadata": {},
            "outputs": [
                {
                    "name": "stdout",
                    "output_type": "stream",
                    "text": [
                        "tensor([0.5538, 2.8525, 0.5538, 0.5710, 0.7132, 1.6248, 1.2057, 6.3149, 3.5524]) 9\n",
                        "torch.Size([512, 23, 10])\n",
                        "torch.Size([512, 23, 10])\n",
                        "torch.Size([512])\n"
                    ]
                },
                {
                    "data": {
                        "text/plain": [
                            "117"
                        ]
                    },
                    "execution_count": 2,
                    "metadata": {},
                    "output_type": "execute_result"
                }
            ],
            "source": [
                "train_loader, val_loader, test_loader, class_weights, num_classes, changing_dim, static_dim, seq_len = get_tiselac_dataloader(batch_size = 512, random_state = 1)\n",
                "\n",
                "print(class_weights, num_classes)\n",
                "\n",
                "for batch in train_loader:\n",
                "    [print(t.shape) for t in batch]\n",
                "    break\n",
                "\n",
                "len(train_loader)"
            ]
        },
        {
            "cell_type": "code",
            "execution_count": 3,
            "metadata": {},
            "outputs": [
                {
                    "name": "stdout",
                    "output_type": "stream",
                    "text": [
                        "10 0 23\n"
                    ]
                }
            ],
            "source": [
                "auroc_metric = AUROC(task=\"multiclass\", num_classes=num_classes).to(device)\n",
                "accuracy_metric = Accuracy(task=\"multiclass\", num_classes=num_classes).to(device)\n",
                "f1_metric = F1Score(task=\"multiclass\", num_classes=num_classes).to(device)\n",
                "conf_matrix = ConfusionMatrix(task=\"multiclass\", num_classes=num_classes).to(device)\n",
                "\n",
                "print(changing_dim, static_dim, seq_len)\n",
                "\n",
                "random_seed = 1\n",
                "set_seed(random_seed)\n",
                "random_seeds = range(1,4)\n",
                "\n",
                "experiment_folder = \"/workdir/optimal-summaries-public/_models/tiselac/shared/\"\n",
                "top_k_file = experiment_folder + \"top-k/bottleneck_topkinds_seed_{seed}.csv\""
            ]
        },
        {
            "cell_type": "markdown",
            "metadata": {},
            "source": [
                "## Optim"
            ]
        },
        {
            "cell_type": "code",
            "execution_count": 4,
            "metadata": {},
            "outputs": [
                {
                    "name": "stderr",
                    "output_type": "stream",
                    "text": [
                        "/usr/local/lib/python3.10/dist-packages/torch/nn/modules/lazy.py:180: UserWarning: Lazy modules are a new feature under heavy development so changes to the API or functionality can happen at any moment.\n",
                        "  warnings.warn('Lazy modules are a new feature under heavy development '\n"
                    ]
                },
                {
                    "name": "stdout",
                    "output_type": "stream",
                    "text": [
                        "Loaded model from /workdir/optimal-summaries-public/_models/tiselac/shared/n_concepts_4_encode_time_dim_True_seed_1.pt\n",
                        "AUC macro 0.969\n",
                        "ACC macro 0.768\n",
                        " F1 macro 0.721\n"
                    ]
                },
                {
                    "name": "stderr",
                    "output_type": "stream",
                    "text": [
                        "/usr/local/lib/python3.10/dist-packages/torch/nn/modules/lazy.py:180: UserWarning: Lazy modules are a new feature under heavy development so changes to the API or functionality can happen at any moment.\n",
                        "  warnings.warn('Lazy modules are a new feature under heavy development '\n"
                    ]
                },
                {
                    "name": "stdout",
                    "output_type": "stream",
                    "text": [
                        "Loaded model from /workdir/optimal-summaries-public/_models/tiselac/shared/n_concepts_4_encode_time_dim_True_seed_2.pt\n",
                        "AUC macro 0.969\n",
                        "ACC macro 0.767\n",
                        " F1 macro 0.716\n"
                    ]
                },
                {
                    "name": "stderr",
                    "output_type": "stream",
                    "text": [
                        "/usr/local/lib/python3.10/dist-packages/torch/nn/modules/lazy.py:180: UserWarning: Lazy modules are a new feature under heavy development so changes to the API or functionality can happen at any moment.\n",
                        "  warnings.warn('Lazy modules are a new feature under heavy development '\n"
                    ]
                },
                {
                    "name": "stdout",
                    "output_type": "stream",
                    "text": [
                        "Loaded model from /workdir/optimal-summaries-public/_models/tiselac/shared/n_concepts_4_encode_time_dim_True_seed_3.pt\n",
                        "AUC macro 0.967\n",
                        "ACC macro 0.766\n",
                        " F1 macro 0.712\n"
                    ]
                },
                {
                    "data": {
                        "text/plain": [
                            "CBM(\n",
                            "  (sigmoid_layer): Sigmoid()\n",
                            "  (output_af): Softmax(dim=1)\n",
                            "  (bottleneck): LazyLinearWithMask(in_features=0, out_features=4, bias=True)\n",
                            "  (flatten): Flatten(start_dim=1, end_dim=-1)\n",
                            "  (layer_output): Linear(in_features=0, out_features=9, bias=True)\n",
                            ")"
                        ]
                    },
                    "execution_count": 4,
                    "metadata": {},
                    "output_type": "execute_result"
                }
            ],
            "source": [
                "def get_model(random_seed):\n",
                "    set_seed(random_seed)\n",
                "\n",
                "    config = {\n",
                "        \"n_concepts\": 4,\n",
                "        \"encode_time_dim\": True,\n",
                "    }\n",
                "\n",
                "    makedir(experiment_folder)\n",
                "    model_path = get_filename_from_dict(experiment_folder, config)\n",
                "    model_path = model_path.format(**config, seed = random_seed)\n",
                "\n",
                "    train_loader, val_loader, test_loader, class_weights, num_classes, changing_dim, static_dim, seq_len = get_tiselac_dataloader(random_state = random_seed)\n",
                "\n",
                "    model = models_3d.CBM(**config, static_dim=static_dim, changing_dim=changing_dim, seq_len=seq_len, output_dim=num_classes, device=device)\n",
                "    model.try_load_else_fit(train_loader, val_loader, p_weight=class_weights.to(device), save_model_path=model_path, max_epochs=10000)\n",
                "\n",
                "    evaluate_classification(model, test_loader)\n",
                "    return model\n",
                "\n",
                "model = get_model(1)\n",
                "get_model(2)\n",
                "get_model(3)"
            ]
        },
        {
            "cell_type": "code",
            "execution_count": 5,
            "metadata": {},
            "outputs": [
                {
                    "data": {
                        "image/png": "[encoded data removed]",
                        "text/plain": [
                            "<Figure size 640x480 with 1 Axes>"
                        ]
                    },
                    "metadata": {},
                    "output_type": "display_data"
                },
                {
                    "data": {
                        "image/png": "[encoded data removed]",
                        "text/plain": [
                            "<Figure size 640x480 with 1 Axes>"
                        ]
                    },
                    "metadata": {},
                    "output_type": "display_data"
                },
                {
                    "data": {
                        "image/png": "[encoded data removed]",
                        "text/plain": [
                            "<Figure size 640x480 with 1 Axes>"
                        ]
                    },
                    "metadata": {},
                    "output_type": "display_data"
                },
                {
                    "data": {
                        "image/png": "[encoded data removed]",
                        "text/plain": [
                            "<Figure size 640x480 with 1 Axes>"
                        ]
                    },
                    "metadata": {},
                    "output_type": "display_data"
                }
            ],
            "source": [
                "visualize_top100_weights_per_channel(model.bottleneck)\n"
            ]
        },
        {
            "cell_type": "code",
            "execution_count": 5,
            "metadata": {},
            "outputs": [
                {
                    "name": "stdout",
                    "output_type": "stream",
                    "text": [
                        "random_seed 1\n"
                    ]
                },
                {
                    "name": "stderr",
                    "output_type": "stream",
                    "text": [
                        "/usr/local/lib/python3.10/dist-packages/torch/nn/modules/lazy.py:180: UserWarning: Lazy modules are a new feature under heavy development so changes to the API or functionality can happen at any moment.\n",
                        "  warnings.warn('Lazy modules are a new feature under heavy development '\n"
                    ]
                },
                {
                    "name": "stdout",
                    "output_type": "stream",
                    "text": [
                        "Loaded model from /workdir/optimal-summaries-public/_models/tiselac/shared/n_concepts_4_encode_time_dim_True_seed_1.pt\n",
                        "AUC macro 0.969\n",
                        "ACC macro 0.768\n",
                        " F1 macro 0.721\n",
                        "Found 4 Concepts\n",
                        "90th percentile per concept [ 4.7204967  9.029183   2.8413498 10.475976 ]\n",
                        "['Concept 0 len: 10', 'Concept 1 len: 12', 'Concept 2 len: 10', 'Concept 3 len: 10']\n"
                    ]
                },
                {
                    "name": "stderr",
                    "output_type": "stream",
                    "text": [
                        "100%|██████████| 40/40 [18:16<00:00, 27.41s/it, Score=0.96120, acc=0.757, f1=0.757, auc=0.961]\n"
                    ]
                },
                {
                    "name": "stdout",
                    "output_type": "stream",
                    "text": [
                        "random_seed 2\n"
                    ]
                },
                {
                    "name": "stderr",
                    "output_type": "stream",
                    "text": [
                        "/usr/local/lib/python3.10/dist-packages/torch/nn/modules/lazy.py:180: UserWarning: Lazy modules are a new feature under heavy development so changes to the API or functionality can happen at any moment.\n",
                        "  warnings.warn('Lazy modules are a new feature under heavy development '\n"
                    ]
                },
                {
                    "name": "stdout",
                    "output_type": "stream",
                    "text": [
                        "Loaded model from /workdir/optimal-summaries-public/_models/tiselac/shared/n_concepts_4_encode_time_dim_True_seed_2.pt\n",
                        "AUC macro 0.969\n",
                        "ACC macro 0.767\n",
                        " F1 macro 0.716\n",
                        "Found 4 Concepts\n",
                        "90th percentile per concept [ 6.101      5.1605434 12.367407   3.2225478]\n",
                        "['Concept 0 len: 10', 'Concept 1 len: 10', 'Concept 2 len: 10', 'Concept 3 len: 10']\n"
                    ]
                },
                {
                    "name": "stderr",
                    "output_type": "stream",
                    "text": [
                        "100%|██████████| 40/40 [16:32<00:00, 24.82s/it, Score=0.94120, acc=0.68, f1=0.68, auc=0.941]  \n"
                    ]
                },
                {
                    "name": "stdout",
                    "output_type": "stream",
                    "text": [
                        "random_seed 3\n"
                    ]
                },
                {
                    "name": "stderr",
                    "output_type": "stream",
                    "text": [
                        "/usr/local/lib/python3.10/dist-packages/torch/nn/modules/lazy.py:180: UserWarning: Lazy modules are a new feature under heavy development so changes to the API or functionality can happen at any moment.\n",
                        "  warnings.warn('Lazy modules are a new feature under heavy development '\n"
                    ]
                },
                {
                    "name": "stdout",
                    "output_type": "stream",
                    "text": [
                        "Loaded model from /workdir/optimal-summaries-public/_models/tiselac/shared/n_concepts_4_encode_time_dim_True_seed_3.pt\n",
                        "AUC macro 0.967\n",
                        "ACC macro 0.766\n",
                        " F1 macro 0.712\n",
                        "Found 4 Concepts\n",
                        "90th percentile per concept [ 4.3081007  4.46648    6.8198795 11.762087 ]\n",
                        "['Concept 0 len: 10', 'Concept 1 len: 10', 'Concept 2 len: 10', 'Concept 3 len: 10']\n"
                    ]
                },
                {
                    "name": "stderr",
                    "output_type": "stream",
                    "text": [
                        "100%|██████████| 40/40 [16:24<00:00, 24.62s/it, Score=0.94897, acc=0.715, f1=0.715, auc=0.949] \n"
                    ]
                }
            ],
            "source": [
                "track_metrics={\"acc\": accuracy_metric,\n",
                "               \"f1\": f1_metric,\n",
                "               \"auc\": auroc_metric,\n",
                "               }\n",
                "\n",
                "results = []\n",
                "for random_seed in random_seeds:\n",
                "    print(\"random_seed\", random_seed)\n",
                "    set_seed(random_seed)\n",
                "    model = get_model(random_seed)\n",
                "    train_loader, val_loader, test_loader, class_weights, num_classes, changing_dim, static_dim, seq_len = get_tiselac_dataloader(random_state = random_seed)\n",
                "    top_k_inds = [get_top_features_per_concept(layer) for layer in model.regularized_layers]\n",
                "    save_path = top_k_file.format(seed=random_seed)\n",
                "    \n",
                "    greedy_results = greedy_forward_selection(model=model, layers_to_prune=model.regularized_layers, top_k_inds=top_k_inds, val_loader=val_loader, optimize_metric=auroc_metric, track_metrics=track_metrics, save_path=save_path)\n",
                "    results.append(greedy_results)\n",
                "    "
            ]
        },
        {
            "cell_type": "code",
            "execution_count": null,
            "metadata": {},
            "outputs": [],
            "source": [
                "greedy_results = read_df_from_csv(\"/workdir/optimal-summaries-public/_models/vasopressor/original/top-k/bottleneck_topkinds_1.csv\")\n",
                "pd.set_option('display.max_rows', 100)\n",
                "greedy_results\n"
            ]
        },
        {
            "cell_type": "code",
            "execution_count": null,
            "metadata": {},
            "outputs": [],
            "source": [
                "plot_selected_weights(model.bottleneck.weight, top_k_inds, greedy_results, 250)"
            ]
        },
        {
            "cell_type": "code",
            "execution_count": 6,
            "metadata": {},
            "outputs": [
                {
                    "name": "stderr",
                    "output_type": "stream",
                    "text": [
                        "/usr/local/lib/python3.10/dist-packages/torch/nn/modules/lazy.py:180: UserWarning: Lazy modules are a new feature under heavy development so changes to the API or functionality can happen at any moment.\n",
                        "  warnings.warn('Lazy modules are a new feature under heavy development '\n"
                    ]
                },
                {
                    "name": "stdout",
                    "output_type": "stream",
                    "text": [
                        "Loaded model from /workdir/optimal-summaries-public/_models/tiselac/shared/n_concepts_4_encode_time_dim_True_seed_1.pt\n",
                        "AUC macro 0.969\n",
                        "ACC macro 0.768\n",
                        " F1 macro 0.721\n",
                        "AUC macro 0.970\n",
                        "ACC macro 0.772\n",
                        " F1 macro 0.726\n",
                        "AUC macro 0.969\n",
                        "ACC macro 0.768\n",
                        " F1 macro 0.721\n",
                        "AUC macro 0.961\n",
                        "ACC macro 0.734\n",
                        " F1 macro 0.687\n",
                        "AUC macro 0.960\n",
                        "ACC macro 0.734\n",
                        " F1 macro 0.686\n",
                        "Loaded model from /workdir/optimal-summaries-public/_models/tiselac/shared/finetuned/n_concepts_4_encode_time_dim_True_seed_1.pt\n",
                        "AUC macro 0.969\n",
                        "ACC macro 0.772\n",
                        " F1 macro 0.717\n",
                        "AUC macro 0.967\n",
                        "ACC macro 0.769\n",
                        " F1 macro 0.714\n"
                    ]
                },
                {
                    "name": "stderr",
                    "output_type": "stream",
                    "text": [
                        "/usr/local/lib/python3.10/dist-packages/torch/nn/modules/lazy.py:180: UserWarning: Lazy modules are a new feature under heavy development so changes to the API or functionality can happen at any moment.\n",
                        "  warnings.warn('Lazy modules are a new feature under heavy development '\n"
                    ]
                },
                {
                    "name": "stdout",
                    "output_type": "stream",
                    "text": [
                        "Loaded model from /workdir/optimal-summaries-public/_models/tiselac/shared/n_concepts_4_encode_time_dim_True_seed_2.pt\n",
                        "AUC macro 0.969\n",
                        "ACC macro 0.767\n",
                        " F1 macro 0.716\n",
                        "AUC macro 0.967\n",
                        "ACC macro 0.762\n",
                        " F1 macro 0.713\n",
                        "AUC macro 0.969\n",
                        "ACC macro 0.767\n",
                        " F1 macro 0.716\n",
                        "AUC macro 0.941\n",
                        "ACC macro 0.664\n",
                        " F1 macro 0.607\n",
                        "AUC macro 0.945\n",
                        "ACC macro 0.673\n",
                        " F1 macro 0.615\n",
                        "Loaded model from /workdir/optimal-summaries-public/_models/tiselac/shared/finetuned/n_concepts_4_encode_time_dim_True_seed_2.pt\n",
                        "AUC macro 0.969\n",
                        "ACC macro 0.766\n",
                        " F1 macro 0.715\n",
                        "AUC macro 0.971\n",
                        "ACC macro 0.770\n",
                        " F1 macro 0.719\n"
                    ]
                },
                {
                    "name": "stderr",
                    "output_type": "stream",
                    "text": [
                        "/usr/local/lib/python3.10/dist-packages/torch/nn/modules/lazy.py:180: UserWarning: Lazy modules are a new feature under heavy development so changes to the API or functionality can happen at any moment.\n",
                        "  warnings.warn('Lazy modules are a new feature under heavy development '\n"
                    ]
                },
                {
                    "name": "stdout",
                    "output_type": "stream",
                    "text": [
                        "Loaded model from /workdir/optimal-summaries-public/_models/tiselac/shared/n_concepts_4_encode_time_dim_True_seed_3.pt\n",
                        "AUC macro 0.967\n",
                        "ACC macro 0.766\n",
                        " F1 macro 0.712\n",
                        "AUC macro 0.966\n",
                        "ACC macro 0.760\n",
                        " F1 macro 0.710\n",
                        "AUC macro 0.967\n",
                        "ACC macro 0.766\n",
                        " F1 macro 0.712\n",
                        "AUC macro 0.949\n",
                        "ACC macro 0.711\n",
                        " F1 macro 0.645\n",
                        "AUC macro 0.951\n",
                        "ACC macro 0.723\n",
                        " F1 macro 0.651\n",
                        "Loaded model from /workdir/optimal-summaries-public/_models/tiselac/shared/finetuned/n_concepts_4_encode_time_dim_True_seed_3.pt\n",
                        "AUC macro 0.968\n",
                        "ACC macro 0.762\n",
                        " F1 macro 0.709\n",
                        "AUC macro 0.969\n",
                        "ACC macro 0.767\n",
                        " F1 macro 0.712\n"
                    ]
                },
                {
                    "data": {
                        "text/html": [
                            "<div>\n",
                            "<style scoped>\n",
                            "    .dataframe tbody tr th:only-of-type {\n",
                            "        vertical-align: middle;\n",
                            "    }\n",
                            "\n",
                            "    .dataframe tbody tr th {\n",
                            "        vertical-align: top;\n",
                            "    }\n",
                            "\n",
                            "    .dataframe thead th {\n",
                            "        text-align: right;\n",
                            "    }\n",
                            "</style>\n",
                            "<table border=\"1\" class=\"dataframe\">\n",
                            "  <thead>\n",
                            "    <tr style=\"text-align: right;\">\n",
                            "      <th></th>\n",
                            "      <th></th>\n",
                            "      <th></th>\n",
                            "      <th>Seed</th>\n",
                            "      <th>AUC</th>\n",
                            "      <th>ACC</th>\n",
                            "      <th>F1</th>\n",
                            "    </tr>\n",
                            "    <tr>\n",
                            "      <th>Split</th>\n",
                            "      <th>Mask</th>\n",
                            "      <th>Finetuned</th>\n",
                            "      <th></th>\n",
                            "      <th></th>\n",
                            "      <th></th>\n",
                            "      <th></th>\n",
                            "    </tr>\n",
                            "  </thead>\n",
                            "  <tbody>\n",
                            "    <tr>\n",
                            "      <th rowspan=\"3\" valign=\"top\">test</th>\n",
                            "      <th>Empty</th>\n",
                            "      <th>False</th>\n",
                            "      <td>2.0</td>\n",
                            "      <td>0.968408</td>\n",
                            "      <td>0.766927</td>\n",
                            "      <td>0.716459</td>\n",
                            "    </tr>\n",
                            "    <tr>\n",
                            "      <th rowspan=\"2\" valign=\"top\">Greedy</th>\n",
                            "      <th>False</th>\n",
                            "      <td>2.0</td>\n",
                            "      <td>0.951966</td>\n",
                            "      <td>0.710131</td>\n",
                            "      <td>0.650823</td>\n",
                            "    </tr>\n",
                            "    <tr>\n",
                            "      <th>True</th>\n",
                            "      <td>2.0</td>\n",
                            "      <td>0.968995</td>\n",
                            "      <td>0.768563</td>\n",
                            "      <td>0.714998</td>\n",
                            "    </tr>\n",
                            "    <tr>\n",
                            "      <th rowspan=\"3\" valign=\"top\">val</th>\n",
                            "      <th>Empty</th>\n",
                            "      <th>False</th>\n",
                            "      <td>2.0</td>\n",
                            "      <td>0.967666</td>\n",
                            "      <td>0.764430</td>\n",
                            "      <td>0.716357</td>\n",
                            "    </tr>\n",
                            "    <tr>\n",
                            "      <th rowspan=\"2\" valign=\"top\">Greedy</th>\n",
                            "      <th>False</th>\n",
                            "      <td>2.0</td>\n",
                            "      <td>0.950458</td>\n",
                            "      <td>0.703011</td>\n",
                            "      <td>0.646448</td>\n",
                            "    </tr>\n",
                            "    <tr>\n",
                            "      <th>True</th>\n",
                            "      <td>2.0</td>\n",
                            "      <td>0.968446</td>\n",
                            "      <td>0.766526</td>\n",
                            "      <td>0.713719</td>\n",
                            "    </tr>\n",
                            "  </tbody>\n",
                            "</table>\n",
                            "</div>"
                        ],
                        "text/plain": [
                            "                        Seed       AUC       ACC        F1\n",
                            "Split Mask   Finetuned                                    \n",
                            "test  Empty  False       2.0  0.968408  0.766927  0.716459\n",
                            "      Greedy False       2.0  0.951966  0.710131  0.650823\n",
                            "             True        2.0  0.968995  0.768563  0.714998\n",
                            "val   Empty  False       2.0  0.967666  0.764430  0.716357\n",
                            "      Greedy False       2.0  0.950458  0.703011  0.646448\n",
                            "             True        2.0  0.968446  0.766526  0.713719"
                        ]
                    },
                    "execution_count": 6,
                    "metadata": {},
                    "output_type": "execute_result"
                }
            ],
            "source": [
                "result_df = evaluate_greedy_selection(get_model, get_tiselac_dataloader, top_k_file, n_experiments=3)\n",
                "result_df.groupby([\"Split\", \"Mask\", \"Finetuned\"]).mean()\n"
            ]
        }
    ],
    "metadata": {
        "kernelspec": {
            "display_name": "base",
            "language": "python",
            "name": "python3"
        },
        "language_info": {
            "codemirror_mode": {
                "name": "ipython",
                "version": 3
            },
            "file_extension": ".py",
            "mimetype": "text/x-python",
            "name": "python",
            "nbconvert_exporter": "python",
            "pygments_lexer": "ipython3",
            "version": "3.10.12"
        }
    },
    "nbformat": 4,
    "nbformat_minor": 2
}
