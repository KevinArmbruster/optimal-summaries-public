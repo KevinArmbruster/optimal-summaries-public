{
 "cells": [
  {
   "cell_type": "code",
   "execution_count": 2,
   "metadata": {},
   "outputs": [],
   "source": [
    "import torch\n",
    "\n",
    "var = torch.nn.parameter.UninitializedBuffer()"
   ]
  },
  {
   "cell_type": "code",
   "execution_count": 8,
   "metadata": {},
   "outputs": [
    {
     "name": "stdout",
     "output_type": "stream",
     "text": [
      "Linear(in_features=1, out_features=2, bias=True)\n",
      "Linear(in_features=3, out_features=4, bias=True)\n",
      "ModuleList(\n",
      "  (0): Linear(in_features=1, out_features=2, bias=True)\n",
      "  (1): Linear(in_features=3, out_features=4, bias=True)\n",
      ")\n",
      "[Linear(in_features=1, out_features=2, bias=True), Linear(in_features=3, out_features=4, bias=True)]\n"
     ]
    }
   ],
   "source": [
    "liste = torch.nn.ModuleList([torch.nn.Linear(1,2), torch.nn.Linear(3,4)])\n",
    "listeee = [torch.nn.Linear(1,2), torch.nn.Linear(3,4)]\n",
    "\n",
    "for e in listeee:\n",
    "    print(e)\n",
    "    \n",
    "print(liste)\n",
    "print(listeee)"
   ]
  }
 ],
 "metadata": {
  "kernelspec": {
   "display_name": "Python 3",
   "language": "python",
   "name": "python3"
  },
  "language_info": {
   "codemirror_mode": {
    "name": "ipython",
    "version": 3
   },
   "file_extension": ".py",
   "mimetype": "text/x-python",
   "name": "python",
   "nbconvert_exporter": "python",
   "pygments_lexer": "ipython3",
   "version": "3.10.12"
  }
 },
 "nbformat": 4,
 "nbformat_minor": 2
}
