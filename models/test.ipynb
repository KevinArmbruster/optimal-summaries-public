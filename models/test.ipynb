{
 "cells": [
  {
   "cell_type": "code",
   "execution_count": 1,
   "metadata": {},
   "outputs": [],
   "source": [
    "\n",
    "import sys\n",
    "sys.path.append('..')\n",
    "\n",
    "import numpy as np\n",
    "import pandas as pd\n",
    "from models.helper import *\n",
    "from models.optimization_strategy import *"
   ]
  },
  {
   "cell_type": "code",
   "execution_count": 62,
   "metadata": {},
   "outputs": [
    {
     "name": "stdout",
     "output_type": "stream",
     "text": [
      "tensor([[-2.0128, -0.0262, -0.0274, -0.7654, -0.7365],\n",
      "        [-1.3933, -0.7872,  0.5862,  0.8125,  1.3513],\n",
      "        [ 0.7444, -0.1477, -1.2599, -0.8137, -0.5644],\n",
      "        [ 0.5159, -2.3639, -0.6199,  1.0877, -0.7258]])\n",
      "tensor(20.)\n",
      "tensor(4.)\n"
     ]
    }
   ],
   "source": [
    "weight_tensor = torch.randn(4, 5)\n",
    "print(weight_tensor)\n",
    "\n",
    "weight, bias = mask_smallest_magnitude(weight_tensor, percent=0)\n",
    "print(weight.sum())\n",
    "print(bias.sum())"
   ]
  },
  {
   "cell_type": "code",
   "execution_count": 15,
   "metadata": {},
   "outputs": [
    {
     "data": {
      "text/plain": [
       "1.0"
      ]
     },
     "execution_count": 15,
     "metadata": {},
     "output_type": "execute_result"
    }
   ],
   "source": [
    "20 * 5 / 100"
   ]
  }
 ],
 "metadata": {
  "kernelspec": {
   "display_name": "Python 3",
   "language": "python",
   "name": "python3"
  },
  "language_info": {
   "codemirror_mode": {
    "name": "ipython",
    "version": 3
   },
   "file_extension": ".py",
   "mimetype": "text/x-python",
   "name": "python",
   "nbconvert_exporter": "python",
   "pygments_lexer": "ipython3",
   "version": "3.10.12"
  }
 },
 "nbformat": 4,
 "nbformat_minor": 2
}
