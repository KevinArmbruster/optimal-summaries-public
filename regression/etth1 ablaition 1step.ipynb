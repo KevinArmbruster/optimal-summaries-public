{
    "cells": [
        {
            "cell_type": "code",
            "execution_count": 1,
            "metadata": {},
            "outputs": [
                {
                    "name": "stdout",
                    "output_type": "stream",
                    "text": [
                        "current device cuda:8\n"
                    ]
                }
            ],
            "source": [
                "%load_ext autoreload\n",
                "%autoreload 2\n",
                "\n",
                "import sys\n",
                "sys.path.append('..')\n",
                "from darts.datasets import ETTh1Dataset\n",
                "from darts.models import NLinearModel\n",
                "from darts.metrics.metrics import mae, mse\n",
                "import numpy as np\n",
                "import pandas as pd\n",
                "import random\n",
                "import csv\n",
                "import os, subprocess, gc, time, datetime\n",
                "from sklearn.model_selection import train_test_split\n",
                "from sklearn.utils.class_weight import compute_class_weight\n",
                "import matplotlib.pyplot as plt\n",
                "import torch\n",
                "from torch.utils.data import Dataset, DataLoader\n",
                "from torch.optim.lr_scheduler import LambdaLR\n",
                "from torchmetrics.regression import MeanAbsoluteError, MeanSquaredError\n",
                "from sklearn.preprocessing import StandardScaler, MinMaxScaler, RobustScaler\n",
                "from itertools import product\n",
                "\n",
                "import optuna\n",
                "from optuna.trial import TrialState\n",
                "from optuna.visualization import plot_optimization_history, plot_param_importances, plot_timeline\n",
                "\n",
                "import models.original_models as original_models\n",
                "import models.models_3d_atomics_on_variate_to_concepts as new_models\n",
                "from vasopressor.preprocess_helpers import *\n",
                "from models.helper import *\n",
                "from models.param_initializations import *\n",
                "from models.optimization_strategy import greedy_selection\n",
                "from models.TimeSeriesDataset import TimeSeriesDataset\n",
                "\n",
                "gpu_id = int(subprocess.check_output('nvidia-smi --query-gpu=memory.free --format=csv,nounits,noheader | nl -v 0 | sort -nrk 2 | cut -f 1 | head -n 1 | xargs', shell=True, text=True))\n",
                "device = torch.device(f'cuda:{gpu_id}') if torch.cuda.is_available else torch.device('cpu')\n",
                "print(\"current device\", device)"
            ]
        },
        {
            "cell_type": "code",
            "execution_count": 2,
            "metadata": {},
            "outputs": [
                {
                    "name": "stdout",
                    "output_type": "stream",
                    "text": [
                        "2016-07-01 00:00:00\n",
                        "2018-06-26 19:00:00\n"
                    ]
                }
            ],
            "source": [
                "series = ETTh1Dataset().load()\n",
                "\n",
                "print(series.start_time())\n",
                "print(series.end_time())\n",
                "\n",
                "# series.plot()"
            ]
        },
        {
            "cell_type": "code",
            "execution_count": 3,
            "metadata": {},
            "outputs": [],
            "source": [
                "train_series, test_series = series.split_before(0.6)\n",
                "val_series, test_series = test_series.split_before(0.5)\n"
            ]
        },
        {
            "cell_type": "code",
            "execution_count": 4,
            "metadata": {},
            "outputs": [],
            "source": [
                "def preprocess_data(series, seq_len, window_stride=1, pred_len=1, batch_size = 512):\n",
                "    scaler = StandardScaler()\n",
                "    \n",
                "    train, test = series.split_before(0.6)\n",
                "    val, test = test.split_before(0.5)\n",
                "    \n",
                "    print(\"Train/Val/Test\", len(train), len(val), len(test))\n",
                "    \n",
                "    train_og = train.pd_dataframe()\n",
                "    train = scaler.fit_transform(train_og)\n",
                "    train = pd.DataFrame(train, columns=train_og.columns)\n",
                "    X_train = train\n",
                "    y_train = train # [[\"OT\"]]\n",
                "    X_train = torch.tensor(X_train.to_numpy(), dtype=torch.float32)\n",
                "    y_train = torch.tensor(y_train.to_numpy(), dtype=torch.float32)\n",
                "    \n",
                "    indicators = torch.isfinite(X_train)\n",
                "    X_train = torch.cat([X_train, indicators], axis=1)\n",
                "    \n",
                "    train_dataset = TimeSeriesDataset(X_train, y_train, seq_len, window_stride, pred_len)\n",
                "    train_loader = DataLoader(train_dataset, batch_size = batch_size, shuffle=False, num_workers=4, pin_memory=True)\n",
                "\n",
                "    val_og = val.pd_dataframe()\n",
                "    val = scaler.transform(val_og)\n",
                "    val = pd.DataFrame(val, columns=val_og.columns)\n",
                "    X_val = val\n",
                "    y_val = val # [[\"OT\"]]\n",
                "    X_val = torch.tensor(X_val.to_numpy(), dtype=torch.float32)\n",
                "    y_val = torch.tensor(y_val.to_numpy(), dtype=torch.float32)\n",
                "    \n",
                "    indicators = torch.isfinite(X_val)\n",
                "    X_val = torch.cat([X_val, indicators], axis=1)\n",
                "    \n",
                "    val_dataset = TimeSeriesDataset(X_val, y_val, seq_len, window_stride, pred_len)\n",
                "    val_loader = DataLoader(val_dataset, batch_size = batch_size, shuffle=False, num_workers=4, pin_memory=True)\n",
                "\n",
                "    test_og = test.pd_dataframe()\n",
                "    test = scaler.transform(test_og)\n",
                "    test = pd.DataFrame(test, columns=test_og.columns)\n",
                "    X_test = test\n",
                "    y_test = test # [[\"OT\"]]\n",
                "    X_test = torch.tensor(X_test.to_numpy(), dtype=torch.float32)\n",
                "    y_test = torch.tensor(y_test.to_numpy(), dtype=torch.float32)\n",
                "    \n",
                "    indicators = torch.isfinite(X_test)\n",
                "    X_test = torch.cat([X_test, indicators], axis=1)\n",
                "    \n",
                "    test_dataset = TimeSeriesDataset(X_test, y_test, seq_len, window_stride, pred_len)\n",
                "    test_loader = DataLoader(test_dataset, batch_size = batch_size, shuffle=False, num_workers=4, pin_memory=True)\n",
                "    \n",
                "    return train_loader, val_loader, test_loader, scaler\n"
            ]
        },
        {
            "cell_type": "code",
            "execution_count": 5,
            "metadata": {},
            "outputs": [
                {
                    "name": "stdout",
                    "output_type": "stream",
                    "text": [
                        "Train/Val/Test 10451 3484 3485\n",
                        "torch.Size([512, 10, 14])\n",
                        "torch.Size([512, 7])\n",
                        "Batches 21 7 7\n"
                    ]
                }
            ],
            "source": [
                "seq_len = 10\n",
                "train_loader, val_loader, test_loader, scaler = preprocess_data(series, seq_len, pred_len=1)\n",
                "\n",
                "for X,y in train_loader:\n",
                "    print(X.shape)\n",
                "    print(y.shape)\n",
                "    break\n",
                "\n",
                "print(\"Batches\", len(train_loader), len(val_loader), len(test_loader))"
            ]
        },
        {
            "cell_type": "code",
            "execution_count": 6,
            "metadata": {},
            "outputs": [],
            "source": [
                "# plots\n",
                "def plot_losses(train_losses, val_losses):\n",
                "    plt.plot(train_losses, color=\"black\", label=\"Train\")\n",
                "    plt.plot(val_losses, color=\"green\", label=\"Val\")\n",
                "    plt.legend()\n",
                "    plt.show()\n",
                "\n",
                "def plot_mae_mse(history, title, dec=\"{:.3g}\"):\n",
                "    xticks = range(len(history[:, 0]))\n",
                "    plt.plot(xticks, history[:, 2], label='MAE')\n",
                "    plt.plot(xticks, history[:, 3], label='MSE')\n",
                "\n",
                "    plt.xlabel('Num Concepts')\n",
                "    plt.ylabel('Criteria')\n",
                "    # plt.ylim(0, 1)\n",
                "    xtick_labels = list(map(int, history[:, 0]))\n",
                "    plt.xticks(xticks, xtick_labels)\n",
                "    plt.yscale('log')\n",
                "\n",
                "    if dec:\n",
                "        for x,_y in zip(xticks, history[:, 2]):\n",
                "            label = dec.format(_y)\n",
                "            plt.annotate(label, # this is the text\n",
                "                        (x,_y), # these are the coordinates to position the label\n",
                "                        textcoords=\"offset points\", # how to position the text\n",
                "                        xytext=(0,-10), # distance from text to points (x,y)\n",
                "                        ha='center') # horizontal alignment can be left, right or center\n",
                "            \n",
                "        for x,_y in zip(xticks, history[:, 3]):\n",
                "            label = dec.format(_y)\n",
                "            plt.annotate(label, # this is the text\n",
                "                        (x,_y), # these are the coordinates to position the label\n",
                "                        textcoords=\"offset points\", # how to position the text\n",
                "                        xytext=(0,-10), # distance from text to points (x,y)\n",
                "                        ha='center') # horizontal alignment can be left, right or center\n",
                "\n",
                "    plt.title(title)\n",
                "    plt.legend()\n",
                "    plt.show()\n",
                "\n",
                "\n",
                "def plot_atomics_concepts_metric(history, title, dec=\"{:.3g}\"):\n",
                "        \n",
                "    df = pd.DataFrame(history, columns=[\"n_atomics\", \"n_concepts\", \"val_loss\", \"mae\", \"mse\"])\n",
                "    mean_atomics = df.groupby(\"n_atomics\").mean()\n",
                "    mean_concepts = df.groupby(\"n_concepts\").mean()\n",
                "\n",
                "    # display(mean_atomics)\n",
                "    plt.plot(mean_atomics.index, mean_atomics[\"mae\"], label='MAE')\n",
                "    plt.plot(mean_atomics.index, mean_atomics[\"mse\"], label='MSE')\n",
                "    plt.xlabel('Num Atomics')\n",
                "    plt.ylabel('Criteria')\n",
                "    plt.title(\"Metric as mean over atomics\")\n",
                "    plt.suptitle(title)\n",
                "    plt.legend()\n",
                "    plt.show()\n",
                "\n",
                "    # display(mean_concepts)\n",
                "    plt.plot(mean_concepts.index, mean_concepts[\"mae\"], label='MAE')\n",
                "    plt.plot(mean_concepts.index, mean_concepts[\"mse\"], label='MSE')\n",
                "    plt.xlabel('Num Concepts')\n",
                "    plt.ylabel('Criteria')\n",
                "    plt.title(\"Metric as mean over concepts\")\n",
                "    plt.suptitle(title)\n",
                "    plt.legend()\n",
                "    plt.show()\n",
                "    \n",
                "\n",
                "def plot_prediction_vs_true(yb, preds, title):\n",
                "    plt.plot(yb, color=\"black\", label=\"True\")\n",
                "    plt.plot(preds, color=\"red\", label=\"Pred\")\n",
                "    plt.title(title)\n",
                "    plt.legend()\n",
                "    plt.show()\n"
            ]
        },
        {
            "cell_type": "code",
            "execution_count": 7,
            "metadata": {},
            "outputs": [],
            "source": [
                "def initializeModel(n_concepts, input_dim, changing_dim, seq_len, output_dim, \n",
                "                    use_indicators, use_fixes, use_only_last_timestep, top_k=''):\n",
                "    model = original_models.CBM(input_dim = input_dim, \n",
                "                                changing_dim = changing_dim, \n",
                "                                seq_len = seq_len,\n",
                "                                num_concepts = n_concepts,\n",
                "                                use_indicators = use_indicators,\n",
                "                                use_fixes = use_fixes,\n",
                "                                use_only_last_timestep = use_only_last_timestep,\n",
                "                                use_grad_norm = False,\n",
                "                                opt_lr = 1e-3,\n",
                "                                opt_weight_decay = 1e-5,\n",
                "                                l1_lambda=1e-3,\n",
                "                                cos_sim_lambda=1e-2,\n",
                "                                output_dim = output_dim,\n",
                "                                top_k=top_k,\n",
                "                                device = device,\n",
                "                                task_type=original_models.TaskType.REGRESSION,\n",
                "                                )\n",
                "    model = model.to(device)\n",
                "    return model\n",
                "\n",
                "def initializeModel_with_atomics(n_atomics, n_concepts, input_dim, changing_dim, seq_len, output_dim, \n",
                "                                 use_summaries_for_atomics, use_indicators, use_fixes, top_k=''):\n",
                "    model = new_models.CBM(input_dim = input_dim, \n",
                "                            changing_dim = changing_dim, \n",
                "                            seq_len = seq_len,\n",
                "                            num_concepts = n_concepts,\n",
                "                            num_atomics= n_atomics,\n",
                "                            use_summaries_for_atomics = use_summaries_for_atomics,\n",
                "                            use_indicators = use_indicators,\n",
                "                            use_fixes = use_fixes,\n",
                "                            use_grad_norm = False,\n",
                "                            opt_lr = 1e-3,\n",
                "                            opt_weight_decay = 1e-5,\n",
                "                            l1_lambda=1e-3,\n",
                "                            cos_sim_lambda=1e-2,\n",
                "                            output_dim = output_dim,\n",
                "                            top_k=top_k,\n",
                "                            device = device,\n",
                "                            task_type=new_models.TaskType.REGRESSION,\n",
                "                            )\n",
                "    model = model.to(device)\n",
                "    return model\n"
            ]
        },
        {
            "cell_type": "code",
            "execution_count": 8,
            "metadata": {},
            "outputs": [],
            "source": [
                "random_seed = 1\n",
                "set_seed(random_seed)\n"
            ]
        },
        {
            "cell_type": "code",
            "execution_count": 9,
            "metadata": {},
            "outputs": [],
            "source": [
                "seq_len = 336\n",
                "pred_len = 96\n",
                "n_atomics_list = list(range(2,11,2))\n",
                "n_concepts_list = list(range(2,11,2))\n",
                "changing_dim = len(series.columns)\n",
                "input_dim = 2 * changing_dim\n"
            ]
        },
        {
            "cell_type": "code",
            "execution_count": 10,
            "metadata": {},
            "outputs": [],
            "source": [
                "mae_metric = MeanAbsoluteError().to(device)\n",
                "mse_metric = MeanSquaredError().to(device)\n"
            ]
        },
        {
            "cell_type": "markdown",
            "metadata": {},
            "source": [
                "## Original"
            ]
        },
        {
            "cell_type": "code",
            "execution_count": 11,
            "metadata": {},
            "outputs": [
                {
                    "name": "stdout",
                    "output_type": "stream",
                    "text": [
                        "16\n"
                    ]
                }
            ],
            "source": [
                "config_original = {\n",
                "    \"n_concepts\": [4, 20],\n",
                "    \"use_indicators\": [True, False],\n",
                "    \"use_fixes\": [False, True],\n",
                "    \"use_only_last_timestep\": [True, False],\n",
                "}\n",
                "\n",
                "all_config_permutations_og = list(product(*config_original.values()))\n",
                "all_config_permutations_og = [dict(zip(config_original.keys(), permutation)) for permutation in all_config_permutations_og]\n",
                "print(len(all_config_permutations_og))\n",
                "# all_config_permutations_og"
            ]
        },
        {
            "cell_type": "code",
            "execution_count": 12,
            "metadata": {},
            "outputs": [],
            "source": [
                "experiment_folder = f\"/workdir/optimal-summaries-public/_models/etth1/1step/ablaition-L{seq_len}-T{pred_len}/\"\n",
                "model_path_og = experiment_folder + \"forecasting_c{n_concepts}_ind{use_indicators}_fixes{use_fixes}_onlylasttimestep{use_only_last_timestep}.pt\"\n",
                "\n",
                "if not os.path.exists(experiment_folder):\n",
                "    os.makedirs(experiment_folder)"
            ]
        },
        {
            "cell_type": "code",
            "execution_count": 13,
            "metadata": {},
            "outputs": [
                {
                    "name": "stdout",
                    "output_type": "stream",
                    "text": [
                        "0 {'n_concepts': 4, 'use_indicators': True, 'use_fixes': False, 'use_only_last_timestep': True}\n",
                        "Train/Val/Test 10451 3484 3485\n"
                    ]
                },
                {
                    "name": "stderr",
                    "output_type": "stream",
                    "text": [
                        "/usr/local/lib/python3.10/dist-packages/torch/nn/modules/lazy.py:180: UserWarning: Lazy modules are a new feature under heavy development so changes to the API or functionality can happen at any moment.\n",
                        "  warnings.warn('Lazy modules are a new feature under heavy development '\n"
                    ]
                },
                {
                    "name": "stdout",
                    "output_type": "stream",
                    "text": [
                        "Loaded model from /workdir/optimal-summaries-public/_models/etth1/1step/ablaition-L336-T96/forecasting_c4_indTrue_fixesFalse_onlylasttimestepTrue.pt\n",
                        "Train/Val/Test 10451 3484 3485\n"
                    ]
                },
                {
                    "data": {
                        "text/plain": [
                            "['original', 0, 0.2691112756729126, 1.1771647930145264, 2.7613794803619385]"
                        ]
                    },
                    "metadata": {},
                    "output_type": "display_data"
                },
                {
                    "name": "stdout",
                    "output_type": "stream",
                    "text": [
                        "1 {'n_concepts': 4, 'use_indicators': True, 'use_fixes': False, 'use_only_last_timestep': False}\n",
                        "Train/Val/Test 10451 3484 3485\n",
                        "Loaded model from /workdir/optimal-summaries-public/_models/etth1/1step/ablaition-L336-T96/forecasting_c4_indTrue_fixesFalse_onlylasttimestepFalse.pt\n"
                    ]
                },
                {
                    "name": "stderr",
                    "output_type": "stream",
                    "text": [
                        "/usr/local/lib/python3.10/dist-packages/torch/nn/modules/lazy.py:180: UserWarning: Lazy modules are a new feature under heavy development so changes to the API or functionality can happen at any moment.\n",
                        "  warnings.warn('Lazy modules are a new feature under heavy development '\n"
                    ]
                },
                {
                    "name": "stdout",
                    "output_type": "stream",
                    "text": [
                        "Train/Val/Test 10451 3484 3485\n"
                    ]
                },
                {
                    "data": {
                        "text/plain": [
                            "['original', 1, 0.9437582492828369, 0.8358937501907349, 1.2538695335388184]"
                        ]
                    },
                    "metadata": {},
                    "output_type": "display_data"
                },
                {
                    "name": "stdout",
                    "output_type": "stream",
                    "text": [
                        "2 {'n_concepts': 4, 'use_indicators': True, 'use_fixes': True, 'use_only_last_timestep': True}\n",
                        "Train/Val/Test 10451 3484 3485\n",
                        "Loaded model from /workdir/optimal-summaries-public/_models/etth1/1step/ablaition-L336-T96/forecasting_c4_indTrue_fixesTrue_onlylasttimestepTrue.pt\n"
                    ]
                },
                {
                    "name": "stderr",
                    "output_type": "stream",
                    "text": [
                        "/usr/local/lib/python3.10/dist-packages/torch/nn/modules/lazy.py:180: UserWarning: Lazy modules are a new feature under heavy development so changes to the API or functionality can happen at any moment.\n",
                        "  warnings.warn('Lazy modules are a new feature under heavy development '\n"
                    ]
                },
                {
                    "name": "stdout",
                    "output_type": "stream",
                    "text": [
                        "Train/Val/Test 10451 3484 3485\n"
                    ]
                },
                {
                    "data": {
                        "text/plain": [
                            "['original', 2, 0.869817852973938, 0.9527327418327332, 1.565091848373413]"
                        ]
                    },
                    "metadata": {},
                    "output_type": "display_data"
                },
                {
                    "name": "stdout",
                    "output_type": "stream",
                    "text": [
                        "3 {'n_concepts': 4, 'use_indicators': True, 'use_fixes': True, 'use_only_last_timestep': False}\n",
                        "Train/Val/Test 10451 3484 3485\n",
                        "Loaded model from /workdir/optimal-summaries-public/_models/etth1/1step/ablaition-L336-T96/forecasting_c4_indTrue_fixesTrue_onlylasttimestepFalse.pt\n"
                    ]
                },
                {
                    "name": "stderr",
                    "output_type": "stream",
                    "text": [
                        "/usr/local/lib/python3.10/dist-packages/torch/nn/modules/lazy.py:180: UserWarning: Lazy modules are a new feature under heavy development so changes to the API or functionality can happen at any moment.\n",
                        "  warnings.warn('Lazy modules are a new feature under heavy development '\n"
                    ]
                },
                {
                    "name": "stdout",
                    "output_type": "stream",
                    "text": [
                        "Train/Val/Test 10451 3484 3485\n"
                    ]
                },
                {
                    "data": {
                        "text/plain": [
                            "['original', 3, 0.8636329770088196, 0.7804680466651917, 1.0030763149261475]"
                        ]
                    },
                    "metadata": {},
                    "output_type": "display_data"
                },
                {
                    "name": "stdout",
                    "output_type": "stream",
                    "text": [
                        "4 {'n_concepts': 4, 'use_indicators': False, 'use_fixes': False, 'use_only_last_timestep': True}\n",
                        "Train/Val/Test 10451 3484 3485\n",
                        "Loaded model from /workdir/optimal-summaries-public/_models/etth1/1step/ablaition-L336-T96/forecasting_c4_indFalse_fixesFalse_onlylasttimestepTrue.pt\n"
                    ]
                },
                {
                    "name": "stderr",
                    "output_type": "stream",
                    "text": [
                        "/usr/local/lib/python3.10/dist-packages/torch/nn/modules/lazy.py:180: UserWarning: Lazy modules are a new feature under heavy development so changes to the API or functionality can happen at any moment.\n",
                        "  warnings.warn('Lazy modules are a new feature under heavy development '\n"
                    ]
                },
                {
                    "name": "stdout",
                    "output_type": "stream",
                    "text": [
                        "Train/Val/Test 10451 3484 3485\n"
                    ]
                },
                {
                    "data": {
                        "text/plain": [
                            "['original', 4, 1.0050376653671265, 0.8680044412612915, 1.2436928749084473]"
                        ]
                    },
                    "metadata": {},
                    "output_type": "display_data"
                },
                {
                    "name": "stdout",
                    "output_type": "stream",
                    "text": [
                        "5 {'n_concepts': 4, 'use_indicators': False, 'use_fixes': False, 'use_only_last_timestep': False}\n",
                        "Train/Val/Test 10451 3484 3485\n",
                        "Loaded model from /workdir/optimal-summaries-public/_models/etth1/1step/ablaition-L336-T96/forecasting_c4_indFalse_fixesFalse_onlylasttimestepFalse.pt\n"
                    ]
                },
                {
                    "name": "stderr",
                    "output_type": "stream",
                    "text": [
                        "/usr/local/lib/python3.10/dist-packages/torch/nn/modules/lazy.py:180: UserWarning: Lazy modules are a new feature under heavy development so changes to the API or functionality can happen at any moment.\n",
                        "  warnings.warn('Lazy modules are a new feature under heavy development '\n"
                    ]
                },
                {
                    "name": "stdout",
                    "output_type": "stream",
                    "text": [
                        "Train/Val/Test 10451 3484 3485\n"
                    ]
                },
                {
                    "data": {
                        "text/plain": [
                            "['original', 5, 0.8442795276641846, 0.8291875123977661, 1.1534785032272339]"
                        ]
                    },
                    "metadata": {},
                    "output_type": "display_data"
                },
                {
                    "name": "stdout",
                    "output_type": "stream",
                    "text": [
                        "6 {'n_concepts': 4, 'use_indicators': False, 'use_fixes': True, 'use_only_last_timestep': True}\n",
                        "Train/Val/Test 10451 3484 3485\n",
                        "Loaded model from /workdir/optimal-summaries-public/_models/etth1/1step/ablaition-L336-T96/forecasting_c4_indFalse_fixesTrue_onlylasttimestepTrue.pt\n"
                    ]
                },
                {
                    "name": "stderr",
                    "output_type": "stream",
                    "text": [
                        "/usr/local/lib/python3.10/dist-packages/torch/nn/modules/lazy.py:180: UserWarning: Lazy modules are a new feature under heavy development so changes to the API or functionality can happen at any moment.\n",
                        "  warnings.warn('Lazy modules are a new feature under heavy development '\n"
                    ]
                },
                {
                    "name": "stdout",
                    "output_type": "stream",
                    "text": [
                        "Train/Val/Test 10451 3484 3485\n"
                    ]
                },
                {
                    "data": {
                        "text/plain": [
                            "['original', 6, 1.00797700881958, 0.8577427268028259, 1.2606639862060547]"
                        ]
                    },
                    "metadata": {},
                    "output_type": "display_data"
                },
                {
                    "name": "stdout",
                    "output_type": "stream",
                    "text": [
                        "7 {'n_concepts': 4, 'use_indicators': False, 'use_fixes': True, 'use_only_last_timestep': False}\n",
                        "Train/Val/Test 10451 3484 3485\n",
                        "Loaded model from /workdir/optimal-summaries-public/_models/etth1/1step/ablaition-L336-T96/forecasting_c4_indFalse_fixesTrue_onlylasttimestepFalse.pt\n"
                    ]
                },
                {
                    "name": "stderr",
                    "output_type": "stream",
                    "text": [
                        "/usr/local/lib/python3.10/dist-packages/torch/nn/modules/lazy.py:180: UserWarning: Lazy modules are a new feature under heavy development so changes to the API or functionality can happen at any moment.\n",
                        "  warnings.warn('Lazy modules are a new feature under heavy development '\n"
                    ]
                },
                {
                    "name": "stdout",
                    "output_type": "stream",
                    "text": [
                        "Train/Val/Test 10451 3484 3485\n"
                    ]
                },
                {
                    "data": {
                        "text/plain": [
                            "['original', 7, 0.8396357297897339, 0.7412487268447876, 1.0200231075286865]"
                        ]
                    },
                    "metadata": {},
                    "output_type": "display_data"
                },
                {
                    "name": "stdout",
                    "output_type": "stream",
                    "text": [
                        "8 {'n_concepts': 20, 'use_indicators': True, 'use_fixes': False, 'use_only_last_timestep': True}\n",
                        "Train/Val/Test 10451 3484 3485\n",
                        "Loaded model from /workdir/optimal-summaries-public/_models/etth1/1step/ablaition-L336-T96/forecasting_c20_indTrue_fixesFalse_onlylasttimestepTrue.pt\n"
                    ]
                },
                {
                    "name": "stderr",
                    "output_type": "stream",
                    "text": [
                        "/usr/local/lib/python3.10/dist-packages/torch/nn/modules/lazy.py:180: UserWarning: Lazy modules are a new feature under heavy development so changes to the API or functionality can happen at any moment.\n",
                        "  warnings.warn('Lazy modules are a new feature under heavy development '\n"
                    ]
                },
                {
                    "name": "stdout",
                    "output_type": "stream",
                    "text": [
                        "Train/Val/Test 10451 3484 3485\n"
                    ]
                },
                {
                    "data": {
                        "text/plain": [
                            "['original', 8, 1.0449367761611938, 0.8738785982131958, 1.2437180280685425]"
                        ]
                    },
                    "metadata": {},
                    "output_type": "display_data"
                },
                {
                    "name": "stdout",
                    "output_type": "stream",
                    "text": [
                        "9 {'n_concepts': 20, 'use_indicators': True, 'use_fixes': False, 'use_only_last_timestep': False}\n",
                        "Train/Val/Test 10451 3484 3485\n",
                        "Loaded model from /workdir/optimal-summaries-public/_models/etth1/1step/ablaition-L336-T96/forecasting_c20_indTrue_fixesFalse_onlylasttimestepFalse.pt\n"
                    ]
                },
                {
                    "name": "stderr",
                    "output_type": "stream",
                    "text": [
                        "/usr/local/lib/python3.10/dist-packages/torch/nn/modules/lazy.py:180: UserWarning: Lazy modules are a new feature under heavy development so changes to the API or functionality can happen at any moment.\n",
                        "  warnings.warn('Lazy modules are a new feature under heavy development '\n"
                    ]
                },
                {
                    "name": "stdout",
                    "output_type": "stream",
                    "text": [
                        "Train/Val/Test 10451 3484 3485\n"
                    ]
                },
                {
                    "data": {
                        "text/plain": [
                            "['original', 9, 0.7154163122177124, 0.692952573299408, 0.8075785636901855]"
                        ]
                    },
                    "metadata": {},
                    "output_type": "display_data"
                },
                {
                    "name": "stdout",
                    "output_type": "stream",
                    "text": [
                        "10 {'n_concepts': 20, 'use_indicators': True, 'use_fixes': True, 'use_only_last_timestep': True}\n",
                        "Train/Val/Test 10451 3484 3485\n",
                        "Loaded model from /workdir/optimal-summaries-public/_models/etth1/1step/ablaition-L336-T96/forecasting_c20_indTrue_fixesTrue_onlylasttimestepTrue.pt\n"
                    ]
                },
                {
                    "name": "stderr",
                    "output_type": "stream",
                    "text": [
                        "/usr/local/lib/python3.10/dist-packages/torch/nn/modules/lazy.py:180: UserWarning: Lazy modules are a new feature under heavy development so changes to the API or functionality can happen at any moment.\n",
                        "  warnings.warn('Lazy modules are a new feature under heavy development '\n"
                    ]
                },
                {
                    "name": "stdout",
                    "output_type": "stream",
                    "text": [
                        "Train/Val/Test 10451 3484 3485\n"
                    ]
                },
                {
                    "data": {
                        "text/plain": [
                            "['original', 10, 0.665379524230957, 1.0135431289672852, 1.7431262731552124]"
                        ]
                    },
                    "metadata": {},
                    "output_type": "display_data"
                },
                {
                    "name": "stdout",
                    "output_type": "stream",
                    "text": [
                        "11 {'n_concepts': 20, 'use_indicators': True, 'use_fixes': True, 'use_only_last_timestep': False}\n",
                        "Train/Val/Test 10451 3484 3485\n",
                        "Loaded model from /workdir/optimal-summaries-public/_models/etth1/1step/ablaition-L336-T96/forecasting_c20_indTrue_fixesTrue_onlylasttimestepFalse.pt\n"
                    ]
                },
                {
                    "name": "stderr",
                    "output_type": "stream",
                    "text": [
                        "/usr/local/lib/python3.10/dist-packages/torch/nn/modules/lazy.py:180: UserWarning: Lazy modules are a new feature under heavy development so changes to the API or functionality can happen at any moment.\n",
                        "  warnings.warn('Lazy modules are a new feature under heavy development '\n"
                    ]
                },
                {
                    "name": "stdout",
                    "output_type": "stream",
                    "text": [
                        "Train/Val/Test 10451 3484 3485\n"
                    ]
                },
                {
                    "data": {
                        "text/plain": [
                            "['original', 11, 0.7892259359359741, 0.6909134984016418, 0.7888290286064148]"
                        ]
                    },
                    "metadata": {},
                    "output_type": "display_data"
                },
                {
                    "name": "stdout",
                    "output_type": "stream",
                    "text": [
                        "12 {'n_concepts': 20, 'use_indicators': False, 'use_fixes': False, 'use_only_last_timestep': True}\n",
                        "Train/Val/Test 10451 3484 3485\n",
                        "Loaded model from /workdir/optimal-summaries-public/_models/etth1/1step/ablaition-L336-T96/forecasting_c20_indFalse_fixesFalse_onlylasttimestepTrue.pt\n"
                    ]
                },
                {
                    "name": "stderr",
                    "output_type": "stream",
                    "text": [
                        "/usr/local/lib/python3.10/dist-packages/torch/nn/modules/lazy.py:180: UserWarning: Lazy modules are a new feature under heavy development so changes to the API or functionality can happen at any moment.\n",
                        "  warnings.warn('Lazy modules are a new feature under heavy development '\n"
                    ]
                },
                {
                    "name": "stdout",
                    "output_type": "stream",
                    "text": [
                        "Train/Val/Test 10451 3484 3485\n"
                    ]
                },
                {
                    "data": {
                        "text/plain": [
                            "['original', 12, 1.0629818439483643, 0.8615229725837708, 1.2403336763381958]"
                        ]
                    },
                    "metadata": {},
                    "output_type": "display_data"
                },
                {
                    "name": "stdout",
                    "output_type": "stream",
                    "text": [
                        "13 {'n_concepts': 20, 'use_indicators': False, 'use_fixes': False, 'use_only_last_timestep': False}\n",
                        "Train/Val/Test 10451 3484 3485\n",
                        "Loaded model from /workdir/optimal-summaries-public/_models/etth1/1step/ablaition-L336-T96/forecasting_c20_indFalse_fixesFalse_onlylasttimestepFalse.pt\n"
                    ]
                },
                {
                    "name": "stderr",
                    "output_type": "stream",
                    "text": [
                        "/usr/local/lib/python3.10/dist-packages/torch/nn/modules/lazy.py:180: UserWarning: Lazy modules are a new feature under heavy development so changes to the API or functionality can happen at any moment.\n",
                        "  warnings.warn('Lazy modules are a new feature under heavy development '\n"
                    ]
                },
                {
                    "name": "stdout",
                    "output_type": "stream",
                    "text": [
                        "Train/Val/Test 10451 3484 3485\n"
                    ]
                },
                {
                    "data": {
                        "text/plain": [
                            "['original', 13, 0.6408296823501587, 0.6922438144683838, 0.8548895716667175]"
                        ]
                    },
                    "metadata": {},
                    "output_type": "display_data"
                },
                {
                    "name": "stdout",
                    "output_type": "stream",
                    "text": [
                        "14 {'n_concepts': 20, 'use_indicators': False, 'use_fixes': True, 'use_only_last_timestep': True}\n",
                        "Train/Val/Test 10451 3484 3485\n",
                        "Loaded model from /workdir/optimal-summaries-public/_models/etth1/1step/ablaition-L336-T96/forecasting_c20_indFalse_fixesTrue_onlylasttimestepTrue.pt\n"
                    ]
                },
                {
                    "name": "stderr",
                    "output_type": "stream",
                    "text": [
                        "/usr/local/lib/python3.10/dist-packages/torch/nn/modules/lazy.py:180: UserWarning: Lazy modules are a new feature under heavy development so changes to the API or functionality can happen at any moment.\n",
                        "  warnings.warn('Lazy modules are a new feature under heavy development '\n"
                    ]
                },
                {
                    "name": "stdout",
                    "output_type": "stream",
                    "text": [
                        "Train/Val/Test 10451 3484 3485\n"
                    ]
                },
                {
                    "data": {
                        "text/plain": [
                            "['original', 14, 1.0879110097885132, 0.877975344657898, 1.2489039897918701]"
                        ]
                    },
                    "metadata": {},
                    "output_type": "display_data"
                },
                {
                    "name": "stdout",
                    "output_type": "stream",
                    "text": [
                        "15 {'n_concepts': 20, 'use_indicators': False, 'use_fixes': True, 'use_only_last_timestep': False}\n",
                        "Train/Val/Test 10451 3484 3485\n",
                        "Loaded model from /workdir/optimal-summaries-public/_models/etth1/1step/ablaition-L336-T96/forecasting_c20_indFalse_fixesTrue_onlylasttimestepFalse.pt\n"
                    ]
                },
                {
                    "name": "stderr",
                    "output_type": "stream",
                    "text": [
                        "/usr/local/lib/python3.10/dist-packages/torch/nn/modules/lazy.py:180: UserWarning: Lazy modules are a new feature under heavy development so changes to the API or functionality can happen at any moment.\n",
                        "  warnings.warn('Lazy modules are a new feature under heavy development '\n"
                    ]
                },
                {
                    "name": "stdout",
                    "output_type": "stream",
                    "text": [
                        "Train/Val/Test 10451 3484 3485\n"
                    ]
                },
                {
                    "data": {
                        "text/plain": [
                            "['original', 15, 0.8202223181724548, 0.7474615573883057, 0.8774258494377136]"
                        ]
                    },
                    "metadata": {},
                    "output_type": "display_data"
                },
                {
                    "data": {
                        "text/plain": [
                            "(16, 5)"
                        ]
                    },
                    "execution_count": 13,
                    "metadata": {},
                    "output_type": "execute_result"
                }
            ],
            "source": [
                "history_original = []\n",
                "\n",
                "\n",
                "for i, config in enumerate(all_config_permutations_og):\n",
                "    print(i, config)\n",
                "    \n",
                "    train_loader, val_loader, test_loader, scaler = preprocess_data(series, seq_len, pred_len=1)\n",
                "\n",
                "    model = initializeModel(**config, input_dim=input_dim, changing_dim=changing_dim, seq_len=seq_len, output_dim=changing_dim)\n",
                "    model.fit(train_loader, val_loader, p_weight=None, save_model_path=model_path_og.format(**config), max_epochs=10000)\n",
                "    \n",
                "    # display(model)\n",
                "    \n",
                "    train_loader, val_loader, test_loader, scaler = preprocess_data(series, seq_len, pred_len=pred_len)\n",
                "    \n",
                "    model.eval()\n",
                "    with torch.inference_mode():\n",
                "        for batch_idx, (Xb, yb) in enumerate(test_loader):\n",
                "            Xb, yb = Xb.to(device), yb.to(device)\n",
                "            preds = model.forward_one_step_ahead(Xb, steps_ahead=pred_len)\n",
                "            \n",
                "            mae = mae_metric(preds, yb).item()\n",
                "            mse = mse_metric(preds, yb).item()\n",
                "        mae = mae_metric.compute().item()\n",
                "        mse = mse_metric.compute().item()\n",
                "        mae_metric.reset()\n",
                "        mse_metric.reset()\n",
                "    \n",
                "    history = [\"original\", i, model.val_losses[-1], mae, mse]\n",
                "    display(history)\n",
                "    history_original.append(np.array(history))\n",
                "    \n",
                "    # plot_losses(model.train_losses, model.val_losses)\n",
                "    \n",
                "history_original = np.array(history_original)\n",
                "history_original.shape\n"
            ]
        },
        {
            "cell_type": "code",
            "execution_count": 14,
            "metadata": {},
            "outputs": [],
            "source": [
                "# plot_mae_mse(history_original, \"Original\")\n"
            ]
        },
        {
            "cell_type": "code",
            "execution_count": 15,
            "metadata": {},
            "outputs": [],
            "source": [
                "# # Plot Prediction vs actual\n",
                "# train_loader, val_loader, test_loader, scaler = preprocess_data(series, seq_len, pred_len=pred_len)\n",
                "\n",
                "# mae_metric = MeanAbsoluteError().to(device)\n",
                "# mse_metric = MeanSquaredError().to(device)\n",
                "# n_concepts = 10\n",
                "\n",
                "# model = initializeModel(n_concepts, input_dim, changing_dim, seq_len, output_dim=pred_len)\n",
                "# model.fit(train_loader, val_loader, None, save_model_path=model_path_og.format(n_concepts), max_epochs=10000)\n",
                "\n",
                "# model.eval()\n",
                "# with torch.no_grad():\n",
                "#     for batch_idx, (Xb, yb) in enumerate(val_loader):\n",
                "#         Xb, yb = Xb.to(device), yb.to(device)\n",
                "#         preds = model.forward(Xb)\n",
                "        \n",
                "#         mae = mae_metric(preds, yb).item()\n",
                "#         mse = mse_metric(preds, yb).item()\n",
                "#         break\n",
                "#     mae = mae_metric.compute().item()\n",
                "#     mse = mse_metric.compute().item()\n",
                "#     mae_metric.reset()\n",
                "#     mse_metric.reset()\n",
                "\n",
                "\n",
                "# i = 20\n",
                "# yb = yb.cpu().numpy()[i]\n",
                "# preds = preds.cpu().numpy()[i]\n",
                "\n",
                "# print(yb.shape)\n",
                "# print(preds.shape)\n",
                "\n",
                "# plot_prediction_vs_true(yb, preds, title=f\"Original - Predictions with {n_concepts} Concepts\")\n"
            ]
        },
        {
            "cell_type": "markdown",
            "metadata": {},
            "source": [
                "## Atomics"
            ]
        },
        {
            "cell_type": "code",
            "execution_count": 16,
            "metadata": {},
            "outputs": [
                {
                    "name": "stdout",
                    "output_type": "stream",
                    "text": [
                        "48\n"
                    ]
                }
            ],
            "source": [
                "config_atomics = {\n",
                "    \"n_atomics\": [10, 30, 100],\n",
                "    \"n_concepts\": [4, 20],\n",
                "    \"use_indicators\": [True, False],\n",
                "    \"use_fixes\": [False, True],\n",
                "    \"use_summaries_for_atomics\": [True, False],\n",
                "}\n",
                "\n",
                "all_config_permutations_atomics = list(product(*config_atomics.values()))\n",
                "all_config_permutations_atomics = [dict(zip(config_atomics.keys(), permutation)) for permutation in all_config_permutations_atomics]\n",
                "print(len(all_config_permutations_atomics))\n",
                "# all_config_permutations_atomics"
            ]
        },
        {
            "cell_type": "code",
            "execution_count": 17,
            "metadata": {},
            "outputs": [],
            "source": [
                "experiment_folder = f\"/workdir/optimal-summaries-public/_models/etth1/1step/ablaition-L{seq_len}-T{pred_len}/\"\n",
                "model_path_re = experiment_folder + \"forecasting_a{n_atomics}_c{n_concepts}_ind{use_indicators}_fixes{use_fixes}_summaries{use_summaries_for_atomics}.pt\"\n",
                "\n",
                "if not os.path.exists(experiment_folder):\n",
                "    os.makedirs(experiment_folder)"
            ]
        },
        {
            "cell_type": "code",
            "execution_count": 18,
            "metadata": {},
            "outputs": [
                {
                    "name": "stdout",
                    "output_type": "stream",
                    "text": [
                        "0 {'n_atomics': 10, 'n_concepts': 4, 'use_indicators': True, 'use_fixes': False, 'use_summaries_for_atomics': True}\n",
                        "Train/Val/Test 10451 3484 3485\n",
                        "Loaded model from /workdir/optimal-summaries-public/_models/etth1/1step/ablaition-L336-T96/forecasting_a10_c4_indTrue_fixesFalse_summariesTrue.pt\n"
                    ]
                },
                {
                    "name": "stderr",
                    "output_type": "stream",
                    "text": [
                        "/usr/local/lib/python3.10/dist-packages/torch/nn/modules/lazy.py:180: UserWarning: Lazy modules are a new feature under heavy development so changes to the API or functionality can happen at any moment.\n",
                        "  warnings.warn('Lazy modules are a new feature under heavy development '\n"
                    ]
                },
                {
                    "name": "stdout",
                    "output_type": "stream",
                    "text": [
                        "Train/Val/Test 10451 3484 3485\n"
                    ]
                },
                {
                    "data": {
                        "text/plain": [
                            "['atomics', 0, 0.49742478132247925, 0.9970691204071045, 1.6400070190429688]"
                        ]
                    },
                    "metadata": {},
                    "output_type": "display_data"
                },
                {
                    "name": "stdout",
                    "output_type": "stream",
                    "text": [
                        "1 {'n_atomics': 10, 'n_concepts': 4, 'use_indicators': True, 'use_fixes': False, 'use_summaries_for_atomics': False}\n",
                        "Train/Val/Test 10451 3484 3485\n",
                        "Loaded model from /workdir/optimal-summaries-public/_models/etth1/1step/ablaition-L336-T96/forecasting_a10_c4_indTrue_fixesFalse_summariesFalse.pt\n"
                    ]
                },
                {
                    "name": "stderr",
                    "output_type": "stream",
                    "text": [
                        "/usr/local/lib/python3.10/dist-packages/torch/nn/modules/lazy.py:180: UserWarning: Lazy modules are a new feature under heavy development so changes to the API or functionality can happen at any moment.\n",
                        "  warnings.warn('Lazy modules are a new feature under heavy development '\n"
                    ]
                },
                {
                    "name": "stdout",
                    "output_type": "stream",
                    "text": [
                        "Train/Val/Test 10451 3484 3485\n"
                    ]
                },
                {
                    "data": {
                        "text/plain": [
                            "['atomics', 1, 1.0546318292617798, 0.8466579914093018, 1.2363988161087036]"
                        ]
                    },
                    "metadata": {},
                    "output_type": "display_data"
                },
                {
                    "name": "stdout",
                    "output_type": "stream",
                    "text": [
                        "2 {'n_atomics': 10, 'n_concepts': 4, 'use_indicators': True, 'use_fixes': True, 'use_summaries_for_atomics': True}\n",
                        "Train/Val/Test 10451 3484 3485\n",
                        "Loaded model from /workdir/optimal-summaries-public/_models/etth1/1step/ablaition-L336-T96/forecasting_a10_c4_indTrue_fixesTrue_summariesTrue.pt\n"
                    ]
                },
                {
                    "name": "stderr",
                    "output_type": "stream",
                    "text": [
                        "/usr/local/lib/python3.10/dist-packages/torch/nn/modules/lazy.py:180: UserWarning: Lazy modules are a new feature under heavy development so changes to the API or functionality can happen at any moment.\n",
                        "  warnings.warn('Lazy modules are a new feature under heavy development '\n"
                    ]
                },
                {
                    "name": "stdout",
                    "output_type": "stream",
                    "text": [
                        "Train/Val/Test 10451 3484 3485\n"
                    ]
                },
                {
                    "data": {
                        "text/plain": [
                            "['atomics', 2, 0.5348924398422241, 0.9193090200424194, 1.4765949249267578]"
                        ]
                    },
                    "metadata": {},
                    "output_type": "display_data"
                },
                {
                    "name": "stdout",
                    "output_type": "stream",
                    "text": [
                        "3 {'n_atomics': 10, 'n_concepts': 4, 'use_indicators': True, 'use_fixes': True, 'use_summaries_for_atomics': False}\n",
                        "Train/Val/Test 10451 3484 3485\n",
                        "Loaded model from /workdir/optimal-summaries-public/_models/etth1/1step/ablaition-L336-T96/forecasting_a10_c4_indTrue_fixesTrue_summariesFalse.pt\n"
                    ]
                },
                {
                    "name": "stderr",
                    "output_type": "stream",
                    "text": [
                        "/usr/local/lib/python3.10/dist-packages/torch/nn/modules/lazy.py:180: UserWarning: Lazy modules are a new feature under heavy development so changes to the API or functionality can happen at any moment.\n",
                        "  warnings.warn('Lazy modules are a new feature under heavy development '\n"
                    ]
                },
                {
                    "name": "stdout",
                    "output_type": "stream",
                    "text": [
                        "Train/Val/Test 10451 3484 3485\n"
                    ]
                },
                {
                    "data": {
                        "text/plain": [
                            "['atomics', 3, 0.9623041152954102, 0.8532527089118958, 1.258910894393921]"
                        ]
                    },
                    "metadata": {},
                    "output_type": "display_data"
                },
                {
                    "name": "stdout",
                    "output_type": "stream",
                    "text": [
                        "4 {'n_atomics': 10, 'n_concepts': 4, 'use_indicators': False, 'use_fixes': False, 'use_summaries_for_atomics': True}\n",
                        "Train/Val/Test 10451 3484 3485\n",
                        "Loaded model from /workdir/optimal-summaries-public/_models/etth1/1step/ablaition-L336-T96/forecasting_a10_c4_indFalse_fixesFalse_summariesTrue.pt\n"
                    ]
                },
                {
                    "name": "stderr",
                    "output_type": "stream",
                    "text": [
                        "/usr/local/lib/python3.10/dist-packages/torch/nn/modules/lazy.py:180: UserWarning: Lazy modules are a new feature under heavy development so changes to the API or functionality can happen at any moment.\n",
                        "  warnings.warn('Lazy modules are a new feature under heavy development '\n"
                    ]
                },
                {
                    "name": "stdout",
                    "output_type": "stream",
                    "text": [
                        "Train/Val/Test 10451 3484 3485\n"
                    ]
                },
                {
                    "data": {
                        "text/plain": [
                            "['atomics', 4, 0.3736807405948639, 0.984921395778656, 1.5955716371536255]"
                        ]
                    },
                    "metadata": {},
                    "output_type": "display_data"
                },
                {
                    "name": "stdout",
                    "output_type": "stream",
                    "text": [
                        "5 {'n_atomics': 10, 'n_concepts': 4, 'use_indicators': False, 'use_fixes': False, 'use_summaries_for_atomics': False}\n",
                        "Train/Val/Test 10451 3484 3485\n",
                        "Loaded model from /workdir/optimal-summaries-public/_models/etth1/1step/ablaition-L336-T96/forecasting_a10_c4_indFalse_fixesFalse_summariesFalse.pt\n"
                    ]
                },
                {
                    "name": "stderr",
                    "output_type": "stream",
                    "text": [
                        "/usr/local/lib/python3.10/dist-packages/torch/nn/modules/lazy.py:180: UserWarning: Lazy modules are a new feature under heavy development so changes to the API or functionality can happen at any moment.\n",
                        "  warnings.warn('Lazy modules are a new feature under heavy development '\n"
                    ]
                },
                {
                    "name": "stdout",
                    "output_type": "stream",
                    "text": [
                        "Train/Val/Test 10451 3484 3485\n"
                    ]
                },
                {
                    "data": {
                        "text/plain": [
                            "['atomics', 5, 0.9899765253067017, 0.8527897596359253, 1.2381128072738647]"
                        ]
                    },
                    "metadata": {},
                    "output_type": "display_data"
                },
                {
                    "name": "stdout",
                    "output_type": "stream",
                    "text": [
                        "6 {'n_atomics': 10, 'n_concepts': 4, 'use_indicators': False, 'use_fixes': True, 'use_summaries_for_atomics': True}\n",
                        "Train/Val/Test 10451 3484 3485\n",
                        "Loaded model from /workdir/optimal-summaries-public/_models/etth1/1step/ablaition-L336-T96/forecasting_a10_c4_indFalse_fixesTrue_summariesTrue.pt\n"
                    ]
                },
                {
                    "name": "stderr",
                    "output_type": "stream",
                    "text": [
                        "/usr/local/lib/python3.10/dist-packages/torch/nn/modules/lazy.py:180: UserWarning: Lazy modules are a new feature under heavy development so changes to the API or functionality can happen at any moment.\n",
                        "  warnings.warn('Lazy modules are a new feature under heavy development '\n"
                    ]
                },
                {
                    "name": "stdout",
                    "output_type": "stream",
                    "text": [
                        "Train/Val/Test 10451 3484 3485\n"
                    ]
                },
                {
                    "data": {
                        "text/plain": [
                            "['atomics', 6, 0.36710888147354126, 0.9255217909812927, 1.4525907039642334]"
                        ]
                    },
                    "metadata": {},
                    "output_type": "display_data"
                },
                {
                    "name": "stdout",
                    "output_type": "stream",
                    "text": [
                        "7 {'n_atomics': 10, 'n_concepts': 4, 'use_indicators': False, 'use_fixes': True, 'use_summaries_for_atomics': False}\n",
                        "Train/Val/Test 10451 3484 3485\n",
                        "Loaded model from /workdir/optimal-summaries-public/_models/etth1/1step/ablaition-L336-T96/forecasting_a10_c4_indFalse_fixesTrue_summariesFalse.pt\n"
                    ]
                },
                {
                    "name": "stderr",
                    "output_type": "stream",
                    "text": [
                        "/usr/local/lib/python3.10/dist-packages/torch/nn/modules/lazy.py:180: UserWarning: Lazy modules are a new feature under heavy development so changes to the API or functionality can happen at any moment.\n",
                        "  warnings.warn('Lazy modules are a new feature under heavy development '\n"
                    ]
                },
                {
                    "name": "stdout",
                    "output_type": "stream",
                    "text": [
                        "Train/Val/Test 10451 3484 3485\n"
                    ]
                },
                {
                    "data": {
                        "text/plain": [
                            "['atomics', 7, 0.7812642455101013, 0.8563132286071777, 1.184029459953308]"
                        ]
                    },
                    "metadata": {},
                    "output_type": "display_data"
                },
                {
                    "name": "stdout",
                    "output_type": "stream",
                    "text": [
                        "8 {'n_atomics': 10, 'n_concepts': 20, 'use_indicators': True, 'use_fixes': False, 'use_summaries_for_atomics': True}\n",
                        "Train/Val/Test 10451 3484 3485\n",
                        "Loaded model from /workdir/optimal-summaries-public/_models/etth1/1step/ablaition-L336-T96/forecasting_a10_c20_indTrue_fixesFalse_summariesTrue.pt\n"
                    ]
                },
                {
                    "name": "stderr",
                    "output_type": "stream",
                    "text": [
                        "/usr/local/lib/python3.10/dist-packages/torch/nn/modules/lazy.py:180: UserWarning: Lazy modules are a new feature under heavy development so changes to the API or functionality can happen at any moment.\n",
                        "  warnings.warn('Lazy modules are a new feature under heavy development '\n"
                    ]
                },
                {
                    "name": "stdout",
                    "output_type": "stream",
                    "text": [
                        "Train/Val/Test 10451 3484 3485\n"
                    ]
                },
                {
                    "data": {
                        "text/plain": [
                            "['atomics', 8, 0.19483643770217896, 1.0716203451156616, 1.891627311706543]"
                        ]
                    },
                    "metadata": {},
                    "output_type": "display_data"
                },
                {
                    "name": "stdout",
                    "output_type": "stream",
                    "text": [
                        "9 {'n_atomics': 10, 'n_concepts': 20, 'use_indicators': True, 'use_fixes': False, 'use_summaries_for_atomics': False}\n",
                        "Train/Val/Test 10451 3484 3485\n",
                        "Loaded model from /workdir/optimal-summaries-public/_models/etth1/1step/ablaition-L336-T96/forecasting_a10_c20_indTrue_fixesFalse_summariesFalse.pt\n"
                    ]
                },
                {
                    "name": "stderr",
                    "output_type": "stream",
                    "text": [
                        "/usr/local/lib/python3.10/dist-packages/torch/nn/modules/lazy.py:180: UserWarning: Lazy modules are a new feature under heavy development so changes to the API or functionality can happen at any moment.\n",
                        "  warnings.warn('Lazy modules are a new feature under heavy development '\n"
                    ]
                },
                {
                    "name": "stdout",
                    "output_type": "stream",
                    "text": [
                        "Train/Val/Test 10451 3484 3485\n"
                    ]
                },
                {
                    "data": {
                        "text/plain": [
                            "['atomics', 9, 1.0531011819839478, 0.8733837604522705, 1.2389708757400513]"
                        ]
                    },
                    "metadata": {},
                    "output_type": "display_data"
                },
                {
                    "name": "stdout",
                    "output_type": "stream",
                    "text": [
                        "10 {'n_atomics': 10, 'n_concepts': 20, 'use_indicators': True, 'use_fixes': True, 'use_summaries_for_atomics': True}\n",
                        "Train/Val/Test 10451 3484 3485\n",
                        "Loaded model from /workdir/optimal-summaries-public/_models/etth1/1step/ablaition-L336-T96/forecasting_a10_c20_indTrue_fixesTrue_summariesTrue.pt\n"
                    ]
                },
                {
                    "name": "stderr",
                    "output_type": "stream",
                    "text": [
                        "/usr/local/lib/python3.10/dist-packages/torch/nn/modules/lazy.py:180: UserWarning: Lazy modules are a new feature under heavy development so changes to the API or functionality can happen at any moment.\n",
                        "  warnings.warn('Lazy modules are a new feature under heavy development '\n"
                    ]
                },
                {
                    "name": "stdout",
                    "output_type": "stream",
                    "text": [
                        "Train/Val/Test 10451 3484 3485\n"
                    ]
                },
                {
                    "data": {
                        "text/plain": [
                            "['atomics', 10, 0.2358839064836502, 1.0043329000473022, 1.5928970575332642]"
                        ]
                    },
                    "metadata": {},
                    "output_type": "display_data"
                },
                {
                    "name": "stdout",
                    "output_type": "stream",
                    "text": [
                        "11 {'n_atomics': 10, 'n_concepts': 20, 'use_indicators': True, 'use_fixes': True, 'use_summaries_for_atomics': False}\n",
                        "Train/Val/Test 10451 3484 3485\n",
                        "Loaded model from /workdir/optimal-summaries-public/_models/etth1/1step/ablaition-L336-T96/forecasting_a10_c20_indTrue_fixesTrue_summariesFalse.pt\n"
                    ]
                },
                {
                    "name": "stderr",
                    "output_type": "stream",
                    "text": [
                        "/usr/local/lib/python3.10/dist-packages/torch/nn/modules/lazy.py:180: UserWarning: Lazy modules are a new feature under heavy development so changes to the API or functionality can happen at any moment.\n",
                        "  warnings.warn('Lazy modules are a new feature under heavy development '\n"
                    ]
                },
                {
                    "name": "stdout",
                    "output_type": "stream",
                    "text": [
                        "Train/Val/Test 10451 3484 3485\n"
                    ]
                },
                {
                    "data": {
                        "text/plain": [
                            "['atomics', 11, 1.0801132917404175, 0.876664400100708, 1.2713068723678589]"
                        ]
                    },
                    "metadata": {},
                    "output_type": "display_data"
                },
                {
                    "name": "stdout",
                    "output_type": "stream",
                    "text": [
                        "12 {'n_atomics': 10, 'n_concepts': 20, 'use_indicators': False, 'use_fixes': False, 'use_summaries_for_atomics': True}\n",
                        "Train/Val/Test 10451 3484 3485\n",
                        "Loaded model from /workdir/optimal-summaries-public/_models/etth1/1step/ablaition-L336-T96/forecasting_a10_c20_indFalse_fixesFalse_summariesTrue.pt\n"
                    ]
                },
                {
                    "name": "stderr",
                    "output_type": "stream",
                    "text": [
                        "/usr/local/lib/python3.10/dist-packages/torch/nn/modules/lazy.py:180: UserWarning: Lazy modules are a new feature under heavy development so changes to the API or functionality can happen at any moment.\n",
                        "  warnings.warn('Lazy modules are a new feature under heavy development '\n"
                    ]
                },
                {
                    "name": "stdout",
                    "output_type": "stream",
                    "text": [
                        "Train/Val/Test 10451 3484 3485\n"
                    ]
                },
                {
                    "data": {
                        "text/plain": [
                            "['atomics', 12, 0.17850452661514282, 0.7494741082191467, 1.0474838018417358]"
                        ]
                    },
                    "metadata": {},
                    "output_type": "display_data"
                },
                {
                    "name": "stdout",
                    "output_type": "stream",
                    "text": [
                        "13 {'n_atomics': 10, 'n_concepts': 20, 'use_indicators': False, 'use_fixes': False, 'use_summaries_for_atomics': False}\n",
                        "Train/Val/Test 10451 3484 3485\n",
                        "Loaded model from /workdir/optimal-summaries-public/_models/etth1/1step/ablaition-L336-T96/forecasting_a10_c20_indFalse_fixesFalse_summariesFalse.pt\n"
                    ]
                },
                {
                    "name": "stderr",
                    "output_type": "stream",
                    "text": [
                        "/usr/local/lib/python3.10/dist-packages/torch/nn/modules/lazy.py:180: UserWarning: Lazy modules are a new feature under heavy development so changes to the API or functionality can happen at any moment.\n",
                        "  warnings.warn('Lazy modules are a new feature under heavy development '\n"
                    ]
                },
                {
                    "name": "stdout",
                    "output_type": "stream",
                    "text": [
                        "Train/Val/Test 10451 3484 3485\n"
                    ]
                },
                {
                    "data": {
                        "text/plain": [
                            "['atomics', 13, 1.0468353033065796, 0.894220769405365, 1.2619547843933105]"
                        ]
                    },
                    "metadata": {},
                    "output_type": "display_data"
                },
                {
                    "name": "stdout",
                    "output_type": "stream",
                    "text": [
                        "14 {'n_atomics': 10, 'n_concepts': 20, 'use_indicators': False, 'use_fixes': True, 'use_summaries_for_atomics': True}\n",
                        "Train/Val/Test 10451 3484 3485\n",
                        "Loaded model from /workdir/optimal-summaries-public/_models/etth1/1step/ablaition-L336-T96/forecasting_a10_c20_indFalse_fixesTrue_summariesTrue.pt\n"
                    ]
                },
                {
                    "name": "stderr",
                    "output_type": "stream",
                    "text": [
                        "/usr/local/lib/python3.10/dist-packages/torch/nn/modules/lazy.py:180: UserWarning: Lazy modules are a new feature under heavy development so changes to the API or functionality can happen at any moment.\n",
                        "  warnings.warn('Lazy modules are a new feature under heavy development '\n"
                    ]
                },
                {
                    "name": "stdout",
                    "output_type": "stream",
                    "text": [
                        "Train/Val/Test 10451 3484 3485\n"
                    ]
                },
                {
                    "data": {
                        "text/plain": [
                            "['atomics', 14, 0.18559668958187103, 1.1546276807785034, 2.2099509239196777]"
                        ]
                    },
                    "metadata": {},
                    "output_type": "display_data"
                },
                {
                    "name": "stdout",
                    "output_type": "stream",
                    "text": [
                        "15 {'n_atomics': 10, 'n_concepts': 20, 'use_indicators': False, 'use_fixes': True, 'use_summaries_for_atomics': False}\n",
                        "Train/Val/Test 10451 3484 3485\n",
                        "Loaded model from /workdir/optimal-summaries-public/_models/etth1/1step/ablaition-L336-T96/forecasting_a10_c20_indFalse_fixesTrue_summariesFalse.pt\n"
                    ]
                },
                {
                    "name": "stderr",
                    "output_type": "stream",
                    "text": [
                        "/usr/local/lib/python3.10/dist-packages/torch/nn/modules/lazy.py:180: UserWarning: Lazy modules are a new feature under heavy development so changes to the API or functionality can happen at any moment.\n",
                        "  warnings.warn('Lazy modules are a new feature under heavy development '\n"
                    ]
                },
                {
                    "name": "stdout",
                    "output_type": "stream",
                    "text": [
                        "Train/Val/Test 10451 3484 3485\n"
                    ]
                },
                {
                    "data": {
                        "text/plain": [
                            "['atomics', 15, 1.0768476724624634, 0.8660335540771484, 1.243088722229004]"
                        ]
                    },
                    "metadata": {},
                    "output_type": "display_data"
                },
                {
                    "name": "stdout",
                    "output_type": "stream",
                    "text": [
                        "16 {'n_atomics': 30, 'n_concepts': 4, 'use_indicators': True, 'use_fixes': False, 'use_summaries_for_atomics': True}\n",
                        "Train/Val/Test 10451 3484 3485\n",
                        "Loaded model from /workdir/optimal-summaries-public/_models/etth1/1step/ablaition-L336-T96/forecasting_a30_c4_indTrue_fixesFalse_summariesTrue.pt\n"
                    ]
                },
                {
                    "name": "stderr",
                    "output_type": "stream",
                    "text": [
                        "/usr/local/lib/python3.10/dist-packages/torch/nn/modules/lazy.py:180: UserWarning: Lazy modules are a new feature under heavy development so changes to the API or functionality can happen at any moment.\n",
                        "  warnings.warn('Lazy modules are a new feature under heavy development '\n"
                    ]
                },
                {
                    "name": "stdout",
                    "output_type": "stream",
                    "text": [
                        "Train/Val/Test 10451 3484 3485\n"
                    ]
                },
                {
                    "data": {
                        "text/plain": [
                            "['atomics', 16, 0.4525103271007538, 1.0561261177062988, 1.7757794857025146]"
                        ]
                    },
                    "metadata": {},
                    "output_type": "display_data"
                },
                {
                    "name": "stdout",
                    "output_type": "stream",
                    "text": [
                        "17 {'n_atomics': 30, 'n_concepts': 4, 'use_indicators': True, 'use_fixes': False, 'use_summaries_for_atomics': False}\n",
                        "Train/Val/Test 10451 3484 3485\n",
                        "Loaded model from /workdir/optimal-summaries-public/_models/etth1/1step/ablaition-L336-T96/forecasting_a30_c4_indTrue_fixesFalse_summariesFalse.pt\n"
                    ]
                },
                {
                    "name": "stderr",
                    "output_type": "stream",
                    "text": [
                        "/usr/local/lib/python3.10/dist-packages/torch/nn/modules/lazy.py:180: UserWarning: Lazy modules are a new feature under heavy development so changes to the API or functionality can happen at any moment.\n",
                        "  warnings.warn('Lazy modules are a new feature under heavy development '\n"
                    ]
                },
                {
                    "name": "stdout",
                    "output_type": "stream",
                    "text": [
                        "Train/Val/Test 10451 3484 3485\n"
                    ]
                },
                {
                    "data": {
                        "text/plain": [
                            "['atomics', 17, 0.9891501069068909, 0.8474469780921936, 1.204291582107544]"
                        ]
                    },
                    "metadata": {},
                    "output_type": "display_data"
                },
                {
                    "name": "stdout",
                    "output_type": "stream",
                    "text": [
                        "18 {'n_atomics': 30, 'n_concepts': 4, 'use_indicators': True, 'use_fixes': True, 'use_summaries_for_atomics': True}\n",
                        "Train/Val/Test 10451 3484 3485\n",
                        "Loaded model from /workdir/optimal-summaries-public/_models/etth1/1step/ablaition-L336-T96/forecasting_a30_c4_indTrue_fixesTrue_summariesTrue.pt\n"
                    ]
                },
                {
                    "name": "stderr",
                    "output_type": "stream",
                    "text": [
                        "/usr/local/lib/python3.10/dist-packages/torch/nn/modules/lazy.py:180: UserWarning: Lazy modules are a new feature under heavy development so changes to the API or functionality can happen at any moment.\n",
                        "  warnings.warn('Lazy modules are a new feature under heavy development '\n"
                    ]
                },
                {
                    "name": "stdout",
                    "output_type": "stream",
                    "text": [
                        "Train/Val/Test 10451 3484 3485\n"
                    ]
                },
                {
                    "data": {
                        "text/plain": [
                            "['atomics', 18, 0.49140313267707825, 1.0840580463409424, 1.9526407718658447]"
                        ]
                    },
                    "metadata": {},
                    "output_type": "display_data"
                },
                {
                    "name": "stdout",
                    "output_type": "stream",
                    "text": [
                        "19 {'n_atomics': 30, 'n_concepts': 4, 'use_indicators': True, 'use_fixes': True, 'use_summaries_for_atomics': False}\n",
                        "Train/Val/Test 10451 3484 3485\n",
                        "Loaded model from /workdir/optimal-summaries-public/_models/etth1/1step/ablaition-L336-T96/forecasting_a30_c4_indTrue_fixesTrue_summariesFalse.pt\n"
                    ]
                },
                {
                    "name": "stderr",
                    "output_type": "stream",
                    "text": [
                        "/usr/local/lib/python3.10/dist-packages/torch/nn/modules/lazy.py:180: UserWarning: Lazy modules are a new feature under heavy development so changes to the API or functionality can happen at any moment.\n",
                        "  warnings.warn('Lazy modules are a new feature under heavy development '\n"
                    ]
                },
                {
                    "name": "stdout",
                    "output_type": "stream",
                    "text": [
                        "Train/Val/Test 10451 3484 3485\n"
                    ]
                },
                {
                    "data": {
                        "text/plain": [
                            "['atomics', 19, 1.0231684446334839, 0.8609639406204224, 1.2363126277923584]"
                        ]
                    },
                    "metadata": {},
                    "output_type": "display_data"
                },
                {
                    "name": "stdout",
                    "output_type": "stream",
                    "text": [
                        "20 {'n_atomics': 30, 'n_concepts': 4, 'use_indicators': False, 'use_fixes': False, 'use_summaries_for_atomics': True}\n",
                        "Train/Val/Test 10451 3484 3485\n",
                        "Loaded model from /workdir/optimal-summaries-public/_models/etth1/1step/ablaition-L336-T96/forecasting_a30_c4_indFalse_fixesFalse_summariesTrue.pt\n"
                    ]
                },
                {
                    "name": "stderr",
                    "output_type": "stream",
                    "text": [
                        "/usr/local/lib/python3.10/dist-packages/torch/nn/modules/lazy.py:180: UserWarning: Lazy modules are a new feature under heavy development so changes to the API or functionality can happen at any moment.\n",
                        "  warnings.warn('Lazy modules are a new feature under heavy development '\n"
                    ]
                },
                {
                    "name": "stdout",
                    "output_type": "stream",
                    "text": [
                        "Train/Val/Test 10451 3484 3485\n"
                    ]
                },
                {
                    "data": {
                        "text/plain": [
                            "['atomics', 20, 0.4560311734676361, 0.966312825679779, 1.5522068738937378]"
                        ]
                    },
                    "metadata": {},
                    "output_type": "display_data"
                },
                {
                    "name": "stdout",
                    "output_type": "stream",
                    "text": [
                        "21 {'n_atomics': 30, 'n_concepts': 4, 'use_indicators': False, 'use_fixes': False, 'use_summaries_for_atomics': False}\n",
                        "Train/Val/Test 10451 3484 3485\n",
                        "Loaded model from /workdir/optimal-summaries-public/_models/etth1/1step/ablaition-L336-T96/forecasting_a30_c4_indFalse_fixesFalse_summariesFalse.pt\n"
                    ]
                },
                {
                    "name": "stderr",
                    "output_type": "stream",
                    "text": [
                        "/usr/local/lib/python3.10/dist-packages/torch/nn/modules/lazy.py:180: UserWarning: Lazy modules are a new feature under heavy development so changes to the API or functionality can happen at any moment.\n",
                        "  warnings.warn('Lazy modules are a new feature under heavy development '\n"
                    ]
                },
                {
                    "name": "stdout",
                    "output_type": "stream",
                    "text": [
                        "Train/Val/Test 10451 3484 3485\n"
                    ]
                },
                {
                    "data": {
                        "text/plain": [
                            "['atomics', 21, 0.4154595732688904, 0.8962142467498779, 1.3513157367706299]"
                        ]
                    },
                    "metadata": {},
                    "output_type": "display_data"
                },
                {
                    "name": "stdout",
                    "output_type": "stream",
                    "text": [
                        "22 {'n_atomics': 30, 'n_concepts': 4, 'use_indicators': False, 'use_fixes': True, 'use_summaries_for_atomics': True}\n",
                        "Train/Val/Test 10451 3484 3485\n",
                        "Loaded model from /workdir/optimal-summaries-public/_models/etth1/1step/ablaition-L336-T96/forecasting_a30_c4_indFalse_fixesTrue_summariesTrue.pt\n"
                    ]
                },
                {
                    "name": "stderr",
                    "output_type": "stream",
                    "text": [
                        "/usr/local/lib/python3.10/dist-packages/torch/nn/modules/lazy.py:180: UserWarning: Lazy modules are a new feature under heavy development so changes to the API or functionality can happen at any moment.\n",
                        "  warnings.warn('Lazy modules are a new feature under heavy development '\n"
                    ]
                },
                {
                    "name": "stdout",
                    "output_type": "stream",
                    "text": [
                        "Train/Val/Test 10451 3484 3485\n"
                    ]
                },
                {
                    "data": {
                        "text/plain": [
                            "['atomics', 22, 0.4515801668167114, 0.7847165465354919, 1.0437054634094238]"
                        ]
                    },
                    "metadata": {},
                    "output_type": "display_data"
                },
                {
                    "name": "stdout",
                    "output_type": "stream",
                    "text": [
                        "23 {'n_atomics': 30, 'n_concepts': 4, 'use_indicators': False, 'use_fixes': True, 'use_summaries_for_atomics': False}\n",
                        "Train/Val/Test 10451 3484 3485\n",
                        "Loaded model from /workdir/optimal-summaries-public/_models/etth1/1step/ablaition-L336-T96/forecasting_a30_c4_indFalse_fixesTrue_summariesFalse.pt\n"
                    ]
                },
                {
                    "name": "stderr",
                    "output_type": "stream",
                    "text": [
                        "/usr/local/lib/python3.10/dist-packages/torch/nn/modules/lazy.py:180: UserWarning: Lazy modules are a new feature under heavy development so changes to the API or functionality can happen at any moment.\n",
                        "  warnings.warn('Lazy modules are a new feature under heavy development '\n"
                    ]
                },
                {
                    "name": "stdout",
                    "output_type": "stream",
                    "text": [
                        "Train/Val/Test 10451 3484 3485\n"
                    ]
                },
                {
                    "data": {
                        "text/plain": [
                            "['atomics', 23, 0.8943606615066528, 0.893364429473877, 1.3880527019500732]"
                        ]
                    },
                    "metadata": {},
                    "output_type": "display_data"
                },
                {
                    "name": "stdout",
                    "output_type": "stream",
                    "text": [
                        "24 {'n_atomics': 30, 'n_concepts': 20, 'use_indicators': True, 'use_fixes': False, 'use_summaries_for_atomics': True}\n",
                        "Train/Val/Test 10451 3484 3485\n",
                        "Loaded model from /workdir/optimal-summaries-public/_models/etth1/1step/ablaition-L336-T96/forecasting_a30_c20_indTrue_fixesFalse_summariesTrue.pt\n"
                    ]
                },
                {
                    "name": "stderr",
                    "output_type": "stream",
                    "text": [
                        "/usr/local/lib/python3.10/dist-packages/torch/nn/modules/lazy.py:180: UserWarning: Lazy modules are a new feature under heavy development so changes to the API or functionality can happen at any moment.\n",
                        "  warnings.warn('Lazy modules are a new feature under heavy development '\n"
                    ]
                },
                {
                    "name": "stdout",
                    "output_type": "stream",
                    "text": [
                        "Train/Val/Test 10451 3484 3485\n"
                    ]
                },
                {
                    "data": {
                        "text/plain": [
                            "['atomics', 24, 0.1835426688194275, 0.965181827545166, 1.876537561416626]"
                        ]
                    },
                    "metadata": {},
                    "output_type": "display_data"
                },
                {
                    "name": "stdout",
                    "output_type": "stream",
                    "text": [
                        "25 {'n_atomics': 30, 'n_concepts': 20, 'use_indicators': True, 'use_fixes': False, 'use_summaries_for_atomics': False}\n",
                        "Train/Val/Test 10451 3484 3485\n",
                        "Loaded model from /workdir/optimal-summaries-public/_models/etth1/1step/ablaition-L336-T96/forecasting_a30_c20_indTrue_fixesFalse_summariesFalse.pt\n"
                    ]
                },
                {
                    "name": "stderr",
                    "output_type": "stream",
                    "text": [
                        "/usr/local/lib/python3.10/dist-packages/torch/nn/modules/lazy.py:180: UserWarning: Lazy modules are a new feature under heavy development so changes to the API or functionality can happen at any moment.\n",
                        "  warnings.warn('Lazy modules are a new feature under heavy development '\n"
                    ]
                },
                {
                    "name": "stdout",
                    "output_type": "stream",
                    "text": [
                        "Train/Val/Test 10451 3484 3485\n"
                    ]
                },
                {
                    "data": {
                        "text/plain": [
                            "['atomics', 25, 0.5749984979629517, 0.8729768991470337, 1.2952805757522583]"
                        ]
                    },
                    "metadata": {},
                    "output_type": "display_data"
                },
                {
                    "name": "stdout",
                    "output_type": "stream",
                    "text": [
                        "26 {'n_atomics': 30, 'n_concepts': 20, 'use_indicators': True, 'use_fixes': True, 'use_summaries_for_atomics': True}\n",
                        "Train/Val/Test 10451 3484 3485\n",
                        "Loaded model from /workdir/optimal-summaries-public/_models/etth1/1step/ablaition-L336-T96/forecasting_a30_c20_indTrue_fixesTrue_summariesTrue.pt\n"
                    ]
                },
                {
                    "name": "stderr",
                    "output_type": "stream",
                    "text": [
                        "/usr/local/lib/python3.10/dist-packages/torch/nn/modules/lazy.py:180: UserWarning: Lazy modules are a new feature under heavy development so changes to the API or functionality can happen at any moment.\n",
                        "  warnings.warn('Lazy modules are a new feature under heavy development '\n"
                    ]
                },
                {
                    "name": "stdout",
                    "output_type": "stream",
                    "text": [
                        "Train/Val/Test 10451 3484 3485\n"
                    ]
                },
                {
                    "data": {
                        "text/plain": [
                            "['atomics', 26, 0.22292271256446838, 1.2558002471923828, 2.3896324634552]"
                        ]
                    },
                    "metadata": {},
                    "output_type": "display_data"
                },
                {
                    "name": "stdout",
                    "output_type": "stream",
                    "text": [
                        "27 {'n_atomics': 30, 'n_concepts': 20, 'use_indicators': True, 'use_fixes': True, 'use_summaries_for_atomics': False}\n",
                        "Train/Val/Test 10451 3484 3485\n"
                    ]
                },
                {
                    "name": "stderr",
                    "output_type": "stream",
                    "text": [
                        "/usr/local/lib/python3.10/dist-packages/torch/nn/modules/lazy.py:180: UserWarning: Lazy modules are a new feature under heavy development so changes to the API or functionality can happen at any moment.\n",
                        "  warnings.warn('Lazy modules are a new feature under heavy development '\n"
                    ]
                },
                {
                    "name": "stdout",
                    "output_type": "stream",
                    "text": [
                        "Loaded model from /workdir/optimal-summaries-public/_models/etth1/1step/ablaition-L336-T96/forecasting_a30_c20_indTrue_fixesTrue_summariesFalse.pt\n",
                        "Train/Val/Test 10451 3484 3485\n"
                    ]
                },
                {
                    "data": {
                        "text/plain": [
                            "['atomics', 27, 0.8134119510650635, 0.8925265073776245, 1.4383922815322876]"
                        ]
                    },
                    "metadata": {},
                    "output_type": "display_data"
                },
                {
                    "name": "stdout",
                    "output_type": "stream",
                    "text": [
                        "28 {'n_atomics': 30, 'n_concepts': 20, 'use_indicators': False, 'use_fixes': False, 'use_summaries_for_atomics': True}\n",
                        "Train/Val/Test 10451 3484 3485\n",
                        "Loaded model from /workdir/optimal-summaries-public/_models/etth1/1step/ablaition-L336-T96/forecasting_a30_c20_indFalse_fixesFalse_summariesTrue.pt\n"
                    ]
                },
                {
                    "name": "stderr",
                    "output_type": "stream",
                    "text": [
                        "/usr/local/lib/python3.10/dist-packages/torch/nn/modules/lazy.py:180: UserWarning: Lazy modules are a new feature under heavy development so changes to the API or functionality can happen at any moment.\n",
                        "  warnings.warn('Lazy modules are a new feature under heavy development '\n"
                    ]
                },
                {
                    "name": "stdout",
                    "output_type": "stream",
                    "text": [
                        "Train/Val/Test 10451 3484 3485\n"
                    ]
                },
                {
                    "data": {
                        "text/plain": [
                            "['atomics', 28, 0.18888065218925476, 1.009636640548706, 1.6156831979751587]"
                        ]
                    },
                    "metadata": {},
                    "output_type": "display_data"
                },
                {
                    "name": "stdout",
                    "output_type": "stream",
                    "text": [
                        "29 {'n_atomics': 30, 'n_concepts': 20, 'use_indicators': False, 'use_fixes': False, 'use_summaries_for_atomics': False}\n",
                        "Train/Val/Test 10451 3484 3485\n",
                        "Loaded model from /workdir/optimal-summaries-public/_models/etth1/1step/ablaition-L336-T96/forecasting_a30_c20_indFalse_fixesFalse_summariesFalse.pt\n"
                    ]
                },
                {
                    "name": "stderr",
                    "output_type": "stream",
                    "text": [
                        "/usr/local/lib/python3.10/dist-packages/torch/nn/modules/lazy.py:180: UserWarning: Lazy modules are a new feature under heavy development so changes to the API or functionality can happen at any moment.\n",
                        "  warnings.warn('Lazy modules are a new feature under heavy development '\n"
                    ]
                },
                {
                    "name": "stdout",
                    "output_type": "stream",
                    "text": [
                        "Train/Val/Test 10451 3484 3485\n"
                    ]
                },
                {
                    "data": {
                        "text/plain": [
                            "['atomics', 29, 1.0653454065322876, 0.8698631525039673, 1.254844069480896]"
                        ]
                    },
                    "metadata": {},
                    "output_type": "display_data"
                },
                {
                    "name": "stdout",
                    "output_type": "stream",
                    "text": [
                        "30 {'n_atomics': 30, 'n_concepts': 20, 'use_indicators': False, 'use_fixes': True, 'use_summaries_for_atomics': True}\n",
                        "Train/Val/Test 10451 3484 3485\n",
                        "Loaded model from /workdir/optimal-summaries-public/_models/etth1/1step/ablaition-L336-T96/forecasting_a30_c20_indFalse_fixesTrue_summariesTrue.pt\n"
                    ]
                },
                {
                    "name": "stderr",
                    "output_type": "stream",
                    "text": [
                        "/usr/local/lib/python3.10/dist-packages/torch/nn/modules/lazy.py:180: UserWarning: Lazy modules are a new feature under heavy development so changes to the API or functionality can happen at any moment.\n",
                        "  warnings.warn('Lazy modules are a new feature under heavy development '\n"
                    ]
                },
                {
                    "name": "stdout",
                    "output_type": "stream",
                    "text": [
                        "Train/Val/Test 10451 3484 3485\n"
                    ]
                },
                {
                    "data": {
                        "text/plain": [
                            "['atomics', 30, 0.21667568385601044, 1.0126347541809082, 1.6483863592147827]"
                        ]
                    },
                    "metadata": {},
                    "output_type": "display_data"
                },
                {
                    "name": "stdout",
                    "output_type": "stream",
                    "text": [
                        "31 {'n_atomics': 30, 'n_concepts': 20, 'use_indicators': False, 'use_fixes': True, 'use_summaries_for_atomics': False}\n",
                        "Train/Val/Test 10451 3484 3485\n",
                        "Loaded model from /workdir/optimal-summaries-public/_models/etth1/1step/ablaition-L336-T96/forecasting_a30_c20_indFalse_fixesTrue_summariesFalse.pt\n"
                    ]
                },
                {
                    "name": "stderr",
                    "output_type": "stream",
                    "text": [
                        "/usr/local/lib/python3.10/dist-packages/torch/nn/modules/lazy.py:180: UserWarning: Lazy modules are a new feature under heavy development so changes to the API or functionality can happen at any moment.\n",
                        "  warnings.warn('Lazy modules are a new feature under heavy development '\n"
                    ]
                },
                {
                    "name": "stdout",
                    "output_type": "stream",
                    "text": [
                        "Train/Val/Test 10451 3484 3485\n"
                    ]
                },
                {
                    "data": {
                        "text/plain": [
                            "['atomics', 31, 1.0527640581130981, 0.8571215271949768, 1.2860466241836548]"
                        ]
                    },
                    "metadata": {},
                    "output_type": "display_data"
                },
                {
                    "name": "stdout",
                    "output_type": "stream",
                    "text": [
                        "32 {'n_atomics': 100, 'n_concepts': 4, 'use_indicators': True, 'use_fixes': False, 'use_summaries_for_atomics': True}\n",
                        "Train/Val/Test 10451 3484 3485\n",
                        "Loaded model from /workdir/optimal-summaries-public/_models/etth1/1step/ablaition-L336-T96/forecasting_a100_c4_indTrue_fixesFalse_summariesTrue.pt\n"
                    ]
                },
                {
                    "name": "stderr",
                    "output_type": "stream",
                    "text": [
                        "/usr/local/lib/python3.10/dist-packages/torch/nn/modules/lazy.py:180: UserWarning: Lazy modules are a new feature under heavy development so changes to the API or functionality can happen at any moment.\n",
                        "  warnings.warn('Lazy modules are a new feature under heavy development '\n"
                    ]
                },
                {
                    "name": "stdout",
                    "output_type": "stream",
                    "text": [
                        "Train/Val/Test 10451 3484 3485\n"
                    ]
                },
                {
                    "data": {
                        "text/plain": [
                            "['atomics', 32, 1.0556232929229736, 0.8516497611999512, 1.2528496980667114]"
                        ]
                    },
                    "metadata": {},
                    "output_type": "display_data"
                },
                {
                    "name": "stdout",
                    "output_type": "stream",
                    "text": [
                        "33 {'n_atomics': 100, 'n_concepts': 4, 'use_indicators': True, 'use_fixes': False, 'use_summaries_for_atomics': False}\n",
                        "Train/Val/Test 10451 3484 3485\n",
                        "Loaded model from /workdir/optimal-summaries-public/_models/etth1/1step/ablaition-L336-T96/forecasting_a100_c4_indTrue_fixesFalse_summariesFalse.pt\n"
                    ]
                },
                {
                    "name": "stderr",
                    "output_type": "stream",
                    "text": [
                        "/usr/local/lib/python3.10/dist-packages/torch/nn/modules/lazy.py:180: UserWarning: Lazy modules are a new feature under heavy development so changes to the API or functionality can happen at any moment.\n",
                        "  warnings.warn('Lazy modules are a new feature under heavy development '\n"
                    ]
                },
                {
                    "name": "stdout",
                    "output_type": "stream",
                    "text": [
                        "Train/Val/Test 10451 3484 3485\n"
                    ]
                },
                {
                    "data": {
                        "text/plain": [
                            "['atomics', 33, 1.0530836582183838, 0.9231129288673401, 1.4331165552139282]"
                        ]
                    },
                    "metadata": {},
                    "output_type": "display_data"
                },
                {
                    "name": "stdout",
                    "output_type": "stream",
                    "text": [
                        "34 {'n_atomics': 100, 'n_concepts': 4, 'use_indicators': True, 'use_fixes': True, 'use_summaries_for_atomics': True}\n",
                        "Train/Val/Test 10451 3484 3485\n",
                        "Loaded model from /workdir/optimal-summaries-public/_models/etth1/1step/ablaition-L336-T96/forecasting_a100_c4_indTrue_fixesTrue_summariesTrue.pt\n"
                    ]
                },
                {
                    "name": "stderr",
                    "output_type": "stream",
                    "text": [
                        "/usr/local/lib/python3.10/dist-packages/torch/nn/modules/lazy.py:180: UserWarning: Lazy modules are a new feature under heavy development so changes to the API or functionality can happen at any moment.\n",
                        "  warnings.warn('Lazy modules are a new feature under heavy development '\n"
                    ]
                },
                {
                    "name": "stdout",
                    "output_type": "stream",
                    "text": [
                        "Train/Val/Test 10451 3484 3485\n"
                    ]
                },
                {
                    "data": {
                        "text/plain": [
                            "['atomics', 34, 0.5647400617599487, 1.1041496992111206, 2.05163311958313]"
                        ]
                    },
                    "metadata": {},
                    "output_type": "display_data"
                },
                {
                    "name": "stdout",
                    "output_type": "stream",
                    "text": [
                        "35 {'n_atomics': 100, 'n_concepts': 4, 'use_indicators': True, 'use_fixes': True, 'use_summaries_for_atomics': False}\n",
                        "Train/Val/Test 10451 3484 3485\n",
                        "Loaded model from /workdir/optimal-summaries-public/_models/etth1/1step/ablaition-L336-T96/forecasting_a100_c4_indTrue_fixesTrue_summariesFalse.pt\n"
                    ]
                },
                {
                    "name": "stderr",
                    "output_type": "stream",
                    "text": [
                        "/usr/local/lib/python3.10/dist-packages/torch/nn/modules/lazy.py:180: UserWarning: Lazy modules are a new feature under heavy development so changes to the API or functionality can happen at any moment.\n",
                        "  warnings.warn('Lazy modules are a new feature under heavy development '\n"
                    ]
                },
                {
                    "name": "stdout",
                    "output_type": "stream",
                    "text": [
                        "Train/Val/Test 10451 3484 3485\n"
                    ]
                },
                {
                    "data": {
                        "text/plain": [
                            "['atomics', 35, 0.5102365612983704, 0.9563726782798767, 1.551945686340332]"
                        ]
                    },
                    "metadata": {},
                    "output_type": "display_data"
                },
                {
                    "name": "stdout",
                    "output_type": "stream",
                    "text": [
                        "36 {'n_atomics': 100, 'n_concepts': 4, 'use_indicators': False, 'use_fixes': False, 'use_summaries_for_atomics': True}\n",
                        "Train/Val/Test 10451 3484 3485\n",
                        "Loaded model from /workdir/optimal-summaries-public/_models/etth1/1step/ablaition-L336-T96/forecasting_a100_c4_indFalse_fixesFalse_summariesTrue.pt\n"
                    ]
                },
                {
                    "name": "stderr",
                    "output_type": "stream",
                    "text": [
                        "/usr/local/lib/python3.10/dist-packages/torch/nn/modules/lazy.py:180: UserWarning: Lazy modules are a new feature under heavy development so changes to the API or functionality can happen at any moment.\n",
                        "  warnings.warn('Lazy modules are a new feature under heavy development '\n"
                    ]
                },
                {
                    "name": "stdout",
                    "output_type": "stream",
                    "text": [
                        "Train/Val/Test 10451 3484 3485\n"
                    ]
                },
                {
                    "data": {
                        "text/plain": [
                            "['atomics', 36, 0.489094614982605, 1.0183302164077759, 1.7244223356246948]"
                        ]
                    },
                    "metadata": {},
                    "output_type": "display_data"
                },
                {
                    "name": "stdout",
                    "output_type": "stream",
                    "text": [
                        "37 {'n_atomics': 100, 'n_concepts': 4, 'use_indicators': False, 'use_fixes': False, 'use_summaries_for_atomics': False}\n",
                        "Train/Val/Test 10451 3484 3485\n",
                        "Loaded model from /workdir/optimal-summaries-public/_models/etth1/1step/ablaition-L336-T96/forecasting_a100_c4_indFalse_fixesFalse_summariesFalse.pt\n"
                    ]
                },
                {
                    "name": "stderr",
                    "output_type": "stream",
                    "text": [
                        "/usr/local/lib/python3.10/dist-packages/torch/nn/modules/lazy.py:180: UserWarning: Lazy modules are a new feature under heavy development so changes to the API or functionality can happen at any moment.\n",
                        "  warnings.warn('Lazy modules are a new feature under heavy development '\n"
                    ]
                },
                {
                    "name": "stdout",
                    "output_type": "stream",
                    "text": [
                        "Train/Val/Test 10451 3484 3485\n"
                    ]
                },
                {
                    "data": {
                        "text/plain": [
                            "['atomics', 37, 0.46909549832344055, 0.7497607469558716, 0.9342019557952881]"
                        ]
                    },
                    "metadata": {},
                    "output_type": "display_data"
                },
                {
                    "name": "stdout",
                    "output_type": "stream",
                    "text": [
                        "38 {'n_atomics': 100, 'n_concepts': 4, 'use_indicators': False, 'use_fixes': True, 'use_summaries_for_atomics': True}\n",
                        "Train/Val/Test 10451 3484 3485\n",
                        "Loaded model from /workdir/optimal-summaries-public/_models/etth1/1step/ablaition-L336-T96/forecasting_a100_c4_indFalse_fixesTrue_summariesTrue.pt\n"
                    ]
                },
                {
                    "name": "stderr",
                    "output_type": "stream",
                    "text": [
                        "/usr/local/lib/python3.10/dist-packages/torch/nn/modules/lazy.py:180: UserWarning: Lazy modules are a new feature under heavy development so changes to the API or functionality can happen at any moment.\n",
                        "  warnings.warn('Lazy modules are a new feature under heavy development '\n"
                    ]
                },
                {
                    "name": "stdout",
                    "output_type": "stream",
                    "text": [
                        "Train/Val/Test 10451 3484 3485\n"
                    ]
                },
                {
                    "data": {
                        "text/plain": [
                            "['atomics', 38, 0.5169300436973572, 0.8645658493041992, 1.2274693250656128]"
                        ]
                    },
                    "metadata": {},
                    "output_type": "display_data"
                },
                {
                    "name": "stdout",
                    "output_type": "stream",
                    "text": [
                        "39 {'n_atomics': 100, 'n_concepts': 4, 'use_indicators': False, 'use_fixes': True, 'use_summaries_for_atomics': False}\n",
                        "Train/Val/Test 10451 3484 3485\n",
                        "Loaded model from /workdir/optimal-summaries-public/_models/etth1/1step/ablaition-L336-T96/forecasting_a100_c4_indFalse_fixesTrue_summariesFalse.pt\n"
                    ]
                },
                {
                    "name": "stderr",
                    "output_type": "stream",
                    "text": [
                        "/usr/local/lib/python3.10/dist-packages/torch/nn/modules/lazy.py:180: UserWarning: Lazy modules are a new feature under heavy development so changes to the API or functionality can happen at any moment.\n",
                        "  warnings.warn('Lazy modules are a new feature under heavy development '\n"
                    ]
                },
                {
                    "name": "stdout",
                    "output_type": "stream",
                    "text": [
                        "Train/Val/Test 10451 3484 3485\n"
                    ]
                },
                {
                    "data": {
                        "text/plain": [
                            "['atomics', 39, 0.9412266612052917, 0.8169824481010437, 1.19265615940094]"
                        ]
                    },
                    "metadata": {},
                    "output_type": "display_data"
                },
                {
                    "name": "stdout",
                    "output_type": "stream",
                    "text": [
                        "40 {'n_atomics': 100, 'n_concepts': 20, 'use_indicators': True, 'use_fixes': False, 'use_summaries_for_atomics': True}\n",
                        "Train/Val/Test 10451 3484 3485\n",
                        "Loaded model from /workdir/optimal-summaries-public/_models/etth1/1step/ablaition-L336-T96/forecasting_a100_c20_indTrue_fixesFalse_summariesTrue.pt\n"
                    ]
                },
                {
                    "name": "stderr",
                    "output_type": "stream",
                    "text": [
                        "/usr/local/lib/python3.10/dist-packages/torch/nn/modules/lazy.py:180: UserWarning: Lazy modules are a new feature under heavy development so changes to the API or functionality can happen at any moment.\n",
                        "  warnings.warn('Lazy modules are a new feature under heavy development '\n"
                    ]
                },
                {
                    "name": "stdout",
                    "output_type": "stream",
                    "text": [
                        "Train/Val/Test 10451 3484 3485\n"
                    ]
                },
                {
                    "data": {
                        "text/plain": [
                            "['atomics', 40, 0.25256261229515076, 0.8022919297218323, 1.1178879737854004]"
                        ]
                    },
                    "metadata": {},
                    "output_type": "display_data"
                },
                {
                    "name": "stdout",
                    "output_type": "stream",
                    "text": [
                        "41 {'n_atomics': 100, 'n_concepts': 20, 'use_indicators': True, 'use_fixes': False, 'use_summaries_for_atomics': False}\n",
                        "Train/Val/Test 10451 3484 3485\n",
                        "Loaded model from /workdir/optimal-summaries-public/_models/etth1/1step/ablaition-L336-T96/forecasting_a100_c20_indTrue_fixesFalse_summariesFalse.pt\n"
                    ]
                },
                {
                    "name": "stderr",
                    "output_type": "stream",
                    "text": [
                        "/usr/local/lib/python3.10/dist-packages/torch/nn/modules/lazy.py:180: UserWarning: Lazy modules are a new feature under heavy development so changes to the API or functionality can happen at any moment.\n",
                        "  warnings.warn('Lazy modules are a new feature under heavy development '\n"
                    ]
                },
                {
                    "name": "stdout",
                    "output_type": "stream",
                    "text": [
                        "Train/Val/Test 10451 3484 3485\n"
                    ]
                },
                {
                    "data": {
                        "text/plain": [
                            "['atomics', 41, 0.8721734285354614, 0.8683459758758545, 1.3807743787765503]"
                        ]
                    },
                    "metadata": {},
                    "output_type": "display_data"
                },
                {
                    "name": "stdout",
                    "output_type": "stream",
                    "text": [
                        "42 {'n_atomics': 100, 'n_concepts': 20, 'use_indicators': True, 'use_fixes': True, 'use_summaries_for_atomics': True}\n",
                        "Train/Val/Test 10451 3484 3485\n",
                        "Loaded model from /workdir/optimal-summaries-public/_models/etth1/1step/ablaition-L336-T96/forecasting_a100_c20_indTrue_fixesTrue_summariesTrue.pt\n"
                    ]
                },
                {
                    "name": "stderr",
                    "output_type": "stream",
                    "text": [
                        "/usr/local/lib/python3.10/dist-packages/torch/nn/modules/lazy.py:180: UserWarning: Lazy modules are a new feature under heavy development so changes to the API or functionality can happen at any moment.\n",
                        "  warnings.warn('Lazy modules are a new feature under heavy development '\n"
                    ]
                },
                {
                    "name": "stdout",
                    "output_type": "stream",
                    "text": [
                        "Train/Val/Test 10451 3484 3485\n"
                    ]
                },
                {
                    "data": {
                        "text/plain": [
                            "['atomics', 42, 0.2587888836860657, 0.749810516834259, 1.0170300006866455]"
                        ]
                    },
                    "metadata": {},
                    "output_type": "display_data"
                },
                {
                    "name": "stdout",
                    "output_type": "stream",
                    "text": [
                        "43 {'n_atomics': 100, 'n_concepts': 20, 'use_indicators': True, 'use_fixes': True, 'use_summaries_for_atomics': False}\n",
                        "Train/Val/Test 10451 3484 3485\n",
                        "Loaded model from /workdir/optimal-summaries-public/_models/etth1/1step/ablaition-L336-T96/forecasting_a100_c20_indTrue_fixesTrue_summariesFalse.pt\n"
                    ]
                },
                {
                    "name": "stderr",
                    "output_type": "stream",
                    "text": [
                        "/usr/local/lib/python3.10/dist-packages/torch/nn/modules/lazy.py:180: UserWarning: Lazy modules are a new feature under heavy development so changes to the API or functionality can happen at any moment.\n",
                        "  warnings.warn('Lazy modules are a new feature under heavy development '\n"
                    ]
                },
                {
                    "name": "stdout",
                    "output_type": "stream",
                    "text": [
                        "Train/Val/Test 10451 3484 3485\n"
                    ]
                },
                {
                    "data": {
                        "text/plain": [
                            "['atomics', 43, 0.6127918362617493, 1.2577837705612183, 2.4997453689575195]"
                        ]
                    },
                    "metadata": {},
                    "output_type": "display_data"
                },
                {
                    "name": "stdout",
                    "output_type": "stream",
                    "text": [
                        "44 {'n_atomics': 100, 'n_concepts': 20, 'use_indicators': False, 'use_fixes': False, 'use_summaries_for_atomics': True}\n",
                        "Train/Val/Test 10451 3484 3485\n",
                        "Loaded model from /workdir/optimal-summaries-public/_models/etth1/1step/ablaition-L336-T96/forecasting_a100_c20_indFalse_fixesFalse_summariesTrue.pt\n"
                    ]
                },
                {
                    "name": "stderr",
                    "output_type": "stream",
                    "text": [
                        "/usr/local/lib/python3.10/dist-packages/torch/nn/modules/lazy.py:180: UserWarning: Lazy modules are a new feature under heavy development so changes to the API or functionality can happen at any moment.\n",
                        "  warnings.warn('Lazy modules are a new feature under heavy development '\n"
                    ]
                },
                {
                    "name": "stdout",
                    "output_type": "stream",
                    "text": [
                        "Train/Val/Test 10451 3484 3485\n"
                    ]
                },
                {
                    "data": {
                        "text/plain": [
                            "['atomics', 44, 0.2886918783187866, 0.9519604444503784, 1.4425407648086548]"
                        ]
                    },
                    "metadata": {},
                    "output_type": "display_data"
                },
                {
                    "name": "stdout",
                    "output_type": "stream",
                    "text": [
                        "45 {'n_atomics': 100, 'n_concepts': 20, 'use_indicators': False, 'use_fixes': False, 'use_summaries_for_atomics': False}\n",
                        "Train/Val/Test 10451 3484 3485\n",
                        "Loaded model from /workdir/optimal-summaries-public/_models/etth1/1step/ablaition-L336-T96/forecasting_a100_c20_indFalse_fixesFalse_summariesFalse.pt\n"
                    ]
                },
                {
                    "name": "stderr",
                    "output_type": "stream",
                    "text": [
                        "/usr/local/lib/python3.10/dist-packages/torch/nn/modules/lazy.py:180: UserWarning: Lazy modules are a new feature under heavy development so changes to the API or functionality can happen at any moment.\n",
                        "  warnings.warn('Lazy modules are a new feature under heavy development '\n"
                    ]
                },
                {
                    "name": "stdout",
                    "output_type": "stream",
                    "text": [
                        "Train/Val/Test 10451 3484 3485\n"
                    ]
                },
                {
                    "data": {
                        "text/plain": [
                            "['atomics', 45, 0.6379621624946594, 0.803996205329895, 1.2046574354171753]"
                        ]
                    },
                    "metadata": {},
                    "output_type": "display_data"
                },
                {
                    "name": "stdout",
                    "output_type": "stream",
                    "text": [
                        "46 {'n_atomics': 100, 'n_concepts': 20, 'use_indicators': False, 'use_fixes': True, 'use_summaries_for_atomics': True}\n",
                        "Train/Val/Test 10451 3484 3485\n",
                        "Loaded model from /workdir/optimal-summaries-public/_models/etth1/1step/ablaition-L336-T96/forecasting_a100_c20_indFalse_fixesTrue_summariesTrue.pt\n"
                    ]
                },
                {
                    "name": "stderr",
                    "output_type": "stream",
                    "text": [
                        "/usr/local/lib/python3.10/dist-packages/torch/nn/modules/lazy.py:180: UserWarning: Lazy modules are a new feature under heavy development so changes to the API or functionality can happen at any moment.\n",
                        "  warnings.warn('Lazy modules are a new feature under heavy development '\n"
                    ]
                },
                {
                    "name": "stdout",
                    "output_type": "stream",
                    "text": [
                        "Train/Val/Test 10451 3484 3485\n"
                    ]
                },
                {
                    "data": {
                        "text/plain": [
                            "['atomics', 46, 0.24988631904125214, 1.1213372945785522, 2.0714242458343506]"
                        ]
                    },
                    "metadata": {},
                    "output_type": "display_data"
                },
                {
                    "name": "stdout",
                    "output_type": "stream",
                    "text": [
                        "47 {'n_atomics': 100, 'n_concepts': 20, 'use_indicators': False, 'use_fixes': True, 'use_summaries_for_atomics': False}\n",
                        "Train/Val/Test 10451 3484 3485\n",
                        "Loaded model from /workdir/optimal-summaries-public/_models/etth1/1step/ablaition-L336-T96/forecasting_a100_c20_indFalse_fixesTrue_summariesFalse.pt\n"
                    ]
                },
                {
                    "name": "stderr",
                    "output_type": "stream",
                    "text": [
                        "/usr/local/lib/python3.10/dist-packages/torch/nn/modules/lazy.py:180: UserWarning: Lazy modules are a new feature under heavy development so changes to the API or functionality can happen at any moment.\n",
                        "  warnings.warn('Lazy modules are a new feature under heavy development '\n"
                    ]
                },
                {
                    "name": "stdout",
                    "output_type": "stream",
                    "text": [
                        "Train/Val/Test 10451 3484 3485\n"
                    ]
                },
                {
                    "data": {
                        "text/plain": [
                            "['atomics', 47, 0.2009379267692566, 0.8505852222442627, 1.2636874914169312]"
                        ]
                    },
                    "metadata": {},
                    "output_type": "display_data"
                },
                {
                    "data": {
                        "text/plain": [
                            "(48, 5)"
                        ]
                    },
                    "execution_count": 18,
                    "metadata": {},
                    "output_type": "execute_result"
                }
            ],
            "source": [
                "history_atomics = []\n",
                "\n",
                "\n",
                "for i, config in enumerate(all_config_permutations_atomics):\n",
                "    print(i, config)\n",
                "    \n",
                "    train_loader, val_loader, test_loader, scaler = preprocess_data(series, seq_len, pred_len=1)\n",
                "    \n",
                "    model = initializeModel_with_atomics(**config, input_dim=input_dim, changing_dim=changing_dim, seq_len=seq_len, output_dim=changing_dim)\n",
                "    model.fit(train_loader, val_loader, p_weight=None, save_model_path=model_path_re.format(**config), max_epochs=10000)\n",
                "    \n",
                "    # display(model)\n",
                "    \n",
                "    train_loader, val_loader, test_loader, scaler = preprocess_data(series, seq_len, pred_len=pred_len)\n",
                "    \n",
                "    model.eval()\n",
                "    with torch.no_grad():\n",
                "        for batch_idx, (Xb, yb) in enumerate(test_loader):\n",
                "            Xb, yb = Xb.to(device), yb.to(device)\n",
                "            preds = model.forward_one_step_ahead(Xb, steps_ahead=pred_len)\n",
                "            \n",
                "            mae = mae_metric(preds, yb).item()\n",
                "            mse = mse_metric(preds, yb).item()\n",
                "        mae = mae_metric.compute().item()\n",
                "        mse = mse_metric.compute().item()\n",
                "        mae_metric.reset()\n",
                "        mse_metric.reset()\n",
                "    \n",
                "    history = [\"atomics\", i, model.val_losses[-1], mae, mse]\n",
                "    display(history)\n",
                "    history_atomics.append(np.array(history))\n",
                "\n",
                "    # plot_losses(model.train_losses, model.val_losses)\n",
                "    \n",
                "    del model\n",
                "    gc.collect()\n",
                "    torch.cuda.empty_cache()\n",
                "    \n",
                "history_atomics = np.array(history_atomics)\n",
                "history_atomics.shape\n"
            ]
        },
        {
            "cell_type": "code",
            "execution_count": 25,
            "metadata": {},
            "outputs": [],
            "source": [
                "columns=[\"type\", \"config\", \"val_loss\", \"mae\", \"mse\"]\n",
                "dtypes = {'type': str, 'config': int, 'val_loss': float, 'mae': float, 'mse': float}\n",
                "\n",
                "df_og = pd.DataFrame(history_original, columns=columns).astype(dtypes)\n",
                "df_og = pd.concat([df_og, pd.DataFrame(all_config_permutations_og)], axis=1)\n",
                "\n",
                "df_atomics = pd.DataFrame(history_atomics, columns=columns).astype(dtypes)\n",
                "df_atomics = pd.concat([df_atomics, pd.DataFrame(all_config_permutations_atomics)], axis=1)\n",
                "\n",
                "result_df = pd.concat([df_og, df_atomics], ignore_index=True)\n",
                "# result_df"
            ]
        },
        {
            "cell_type": "code",
            "execution_count": 26,
            "metadata": {},
            "outputs": [
                {
                    "name": "stdout",
                    "output_type": "stream",
                    "text": [
                        "mae 1.1771647930145264\n",
                        "mse 2.7613794803619385\n",
                        "n_concepts 4\n"
                    ]
                }
            ],
            "source": [
                "for col in result_df.columns[3:6]:\n",
                "    baseline = result_df[(result_df['type'] == 'original') & (result_df['config'] == 0)][col].values[0]\n",
                "    print(col, baseline)\n",
                "    result_df[f'{col}_abs_imp'] = result_df[col] - baseline\n",
                "    # result_df[f'{col}_rel_imp'] = result_df[f'{col}_abs_imp'] / baseline\n",
                "# result_df"
            ]
        },
        {
            "cell_type": "code",
            "execution_count": 27,
            "metadata": {},
            "outputs": [
                {
                    "data": {
                        "text/html": [
                            "<div>\n",
                            "<style scoped>\n",
                            "    .dataframe tbody tr th:only-of-type {\n",
                            "        vertical-align: middle;\n",
                            "    }\n",
                            "\n",
                            "    .dataframe tbody tr th {\n",
                            "        vertical-align: top;\n",
                            "    }\n",
                            "\n",
                            "    .dataframe thead th {\n",
                            "        text-align: right;\n",
                            "    }\n",
                            "</style>\n",
                            "<table border=\"1\" class=\"dataframe\">\n",
                            "  <thead>\n",
                            "    <tr style=\"text-align: right;\">\n",
                            "      <th></th>\n",
                            "      <th>type</th>\n",
                            "      <th>config</th>\n",
                            "      <th>val_loss</th>\n",
                            "      <th>mae</th>\n",
                            "      <th>mse</th>\n",
                            "      <th>n_concepts</th>\n",
                            "      <th>use_indicators</th>\n",
                            "      <th>use_fixes</th>\n",
                            "      <th>use_only_last_timestep</th>\n",
                            "      <th>n_atomics</th>\n",
                            "      <th>use_summaries_for_atomics</th>\n",
                            "      <th>mae_abs_imp</th>\n",
                            "      <th>mse_abs_imp</th>\n",
                            "      <th>n_concepts_abs_imp</th>\n",
                            "    </tr>\n",
                            "  </thead>\n",
                            "  <tbody>\n",
                            "    <tr>\n",
                            "      <th>11</th>\n",
                            "      <td>original</td>\n",
                            "      <td>11</td>\n",
                            "      <td>0.789226</td>\n",
                            "      <td>0.690913</td>\n",
                            "      <td>0.788829</td>\n",
                            "      <td>20</td>\n",
                            "      <td>True</td>\n",
                            "      <td>True</td>\n",
                            "      <td>False</td>\n",
                            "      <td>NaN</td>\n",
                            "      <td>NaN</td>\n",
                            "      <td>-0.486251</td>\n",
                            "      <td>-1.972550</td>\n",
                            "      <td>16</td>\n",
                            "    </tr>\n",
                            "    <tr>\n",
                            "      <th>9</th>\n",
                            "      <td>original</td>\n",
                            "      <td>9</td>\n",
                            "      <td>0.715416</td>\n",
                            "      <td>0.692953</td>\n",
                            "      <td>0.807579</td>\n",
                            "      <td>20</td>\n",
                            "      <td>True</td>\n",
                            "      <td>False</td>\n",
                            "      <td>False</td>\n",
                            "      <td>NaN</td>\n",
                            "      <td>NaN</td>\n",
                            "      <td>-0.484212</td>\n",
                            "      <td>-1.953801</td>\n",
                            "      <td>16</td>\n",
                            "    </tr>\n",
                            "    <tr>\n",
                            "      <th>13</th>\n",
                            "      <td>original</td>\n",
                            "      <td>13</td>\n",
                            "      <td>0.640830</td>\n",
                            "      <td>0.692244</td>\n",
                            "      <td>0.854890</td>\n",
                            "      <td>20</td>\n",
                            "      <td>False</td>\n",
                            "      <td>False</td>\n",
                            "      <td>False</td>\n",
                            "      <td>NaN</td>\n",
                            "      <td>NaN</td>\n",
                            "      <td>-0.484921</td>\n",
                            "      <td>-1.906490</td>\n",
                            "      <td>16</td>\n",
                            "    </tr>\n",
                            "    <tr>\n",
                            "      <th>15</th>\n",
                            "      <td>original</td>\n",
                            "      <td>15</td>\n",
                            "      <td>0.820222</td>\n",
                            "      <td>0.747462</td>\n",
                            "      <td>0.877426</td>\n",
                            "      <td>20</td>\n",
                            "      <td>False</td>\n",
                            "      <td>True</td>\n",
                            "      <td>False</td>\n",
                            "      <td>NaN</td>\n",
                            "      <td>NaN</td>\n",
                            "      <td>-0.429703</td>\n",
                            "      <td>-1.883954</td>\n",
                            "      <td>16</td>\n",
                            "    </tr>\n",
                            "    <tr>\n",
                            "      <th>53</th>\n",
                            "      <td>atomics</td>\n",
                            "      <td>37</td>\n",
                            "      <td>0.469095</td>\n",
                            "      <td>0.749761</td>\n",
                            "      <td>0.934202</td>\n",
                            "      <td>4</td>\n",
                            "      <td>False</td>\n",
                            "      <td>False</td>\n",
                            "      <td>NaN</td>\n",
                            "      <td>100.0</td>\n",
                            "      <td>False</td>\n",
                            "      <td>-0.427404</td>\n",
                            "      <td>-1.827178</td>\n",
                            "      <td>0</td>\n",
                            "    </tr>\n",
                            "    <tr>\n",
                            "      <th>3</th>\n",
                            "      <td>original</td>\n",
                            "      <td>3</td>\n",
                            "      <td>0.863633</td>\n",
                            "      <td>0.780468</td>\n",
                            "      <td>1.003076</td>\n",
                            "      <td>4</td>\n",
                            "      <td>True</td>\n",
                            "      <td>True</td>\n",
                            "      <td>False</td>\n",
                            "      <td>NaN</td>\n",
                            "      <td>NaN</td>\n",
                            "      <td>-0.396697</td>\n",
                            "      <td>-1.758303</td>\n",
                            "      <td>0</td>\n",
                            "    </tr>\n",
                            "    <tr>\n",
                            "      <th>58</th>\n",
                            "      <td>atomics</td>\n",
                            "      <td>42</td>\n",
                            "      <td>0.258789</td>\n",
                            "      <td>0.749811</td>\n",
                            "      <td>1.017030</td>\n",
                            "      <td>20</td>\n",
                            "      <td>True</td>\n",
                            "      <td>True</td>\n",
                            "      <td>NaN</td>\n",
                            "      <td>100.0</td>\n",
                            "      <td>True</td>\n",
                            "      <td>-0.427354</td>\n",
                            "      <td>-1.744349</td>\n",
                            "      <td>16</td>\n",
                            "    </tr>\n",
                            "    <tr>\n",
                            "      <th>7</th>\n",
                            "      <td>original</td>\n",
                            "      <td>7</td>\n",
                            "      <td>0.839636</td>\n",
                            "      <td>0.741249</td>\n",
                            "      <td>1.020023</td>\n",
                            "      <td>4</td>\n",
                            "      <td>False</td>\n",
                            "      <td>True</td>\n",
                            "      <td>False</td>\n",
                            "      <td>NaN</td>\n",
                            "      <td>NaN</td>\n",
                            "      <td>-0.435916</td>\n",
                            "      <td>-1.741356</td>\n",
                            "      <td>0</td>\n",
                            "    </tr>\n",
                            "    <tr>\n",
                            "      <th>38</th>\n",
                            "      <td>atomics</td>\n",
                            "      <td>22</td>\n",
                            "      <td>0.451580</td>\n",
                            "      <td>0.784717</td>\n",
                            "      <td>1.043705</td>\n",
                            "      <td>4</td>\n",
                            "      <td>False</td>\n",
                            "      <td>True</td>\n",
                            "      <td>NaN</td>\n",
                            "      <td>30.0</td>\n",
                            "      <td>True</td>\n",
                            "      <td>-0.392448</td>\n",
                            "      <td>-1.717674</td>\n",
                            "      <td>0</td>\n",
                            "    </tr>\n",
                            "    <tr>\n",
                            "      <th>28</th>\n",
                            "      <td>atomics</td>\n",
                            "      <td>12</td>\n",
                            "      <td>0.178505</td>\n",
                            "      <td>0.749474</td>\n",
                            "      <td>1.047484</td>\n",
                            "      <td>20</td>\n",
                            "      <td>False</td>\n",
                            "      <td>False</td>\n",
                            "      <td>NaN</td>\n",
                            "      <td>10.0</td>\n",
                            "      <td>True</td>\n",
                            "      <td>-0.427691</td>\n",
                            "      <td>-1.713896</td>\n",
                            "      <td>16</td>\n",
                            "    </tr>\n",
                            "    <tr>\n",
                            "      <th>56</th>\n",
                            "      <td>atomics</td>\n",
                            "      <td>40</td>\n",
                            "      <td>0.252563</td>\n",
                            "      <td>0.802292</td>\n",
                            "      <td>1.117888</td>\n",
                            "      <td>20</td>\n",
                            "      <td>True</td>\n",
                            "      <td>False</td>\n",
                            "      <td>NaN</td>\n",
                            "      <td>100.0</td>\n",
                            "      <td>True</td>\n",
                            "      <td>-0.374873</td>\n",
                            "      <td>-1.643492</td>\n",
                            "      <td>16</td>\n",
                            "    </tr>\n",
                            "    <tr>\n",
                            "      <th>5</th>\n",
                            "      <td>original</td>\n",
                            "      <td>5</td>\n",
                            "      <td>0.844280</td>\n",
                            "      <td>0.829188</td>\n",
                            "      <td>1.153479</td>\n",
                            "      <td>4</td>\n",
                            "      <td>False</td>\n",
                            "      <td>False</td>\n",
                            "      <td>False</td>\n",
                            "      <td>NaN</td>\n",
                            "      <td>NaN</td>\n",
                            "      <td>-0.347977</td>\n",
                            "      <td>-1.607901</td>\n",
                            "      <td>0</td>\n",
                            "    </tr>\n",
                            "    <tr>\n",
                            "      <th>23</th>\n",
                            "      <td>atomics</td>\n",
                            "      <td>7</td>\n",
                            "      <td>0.781264</td>\n",
                            "      <td>0.856313</td>\n",
                            "      <td>1.184029</td>\n",
                            "      <td>4</td>\n",
                            "      <td>False</td>\n",
                            "      <td>True</td>\n",
                            "      <td>NaN</td>\n",
                            "      <td>10.0</td>\n",
                            "      <td>False</td>\n",
                            "      <td>-0.320852</td>\n",
                            "      <td>-1.577350</td>\n",
                            "      <td>0</td>\n",
                            "    </tr>\n",
                            "    <tr>\n",
                            "      <th>55</th>\n",
                            "      <td>atomics</td>\n",
                            "      <td>39</td>\n",
                            "      <td>0.941227</td>\n",
                            "      <td>0.816982</td>\n",
                            "      <td>1.192656</td>\n",
                            "      <td>4</td>\n",
                            "      <td>False</td>\n",
                            "      <td>True</td>\n",
                            "      <td>NaN</td>\n",
                            "      <td>100.0</td>\n",
                            "      <td>False</td>\n",
                            "      <td>-0.360182</td>\n",
                            "      <td>-1.568723</td>\n",
                            "      <td>0</td>\n",
                            "    </tr>\n",
                            "    <tr>\n",
                            "      <th>33</th>\n",
                            "      <td>atomics</td>\n",
                            "      <td>17</td>\n",
                            "      <td>0.989150</td>\n",
                            "      <td>0.847447</td>\n",
                            "      <td>1.204292</td>\n",
                            "      <td>4</td>\n",
                            "      <td>True</td>\n",
                            "      <td>False</td>\n",
                            "      <td>NaN</td>\n",
                            "      <td>30.0</td>\n",
                            "      <td>False</td>\n",
                            "      <td>-0.329718</td>\n",
                            "      <td>-1.557088</td>\n",
                            "      <td>0</td>\n",
                            "    </tr>\n",
                            "    <tr>\n",
                            "      <th>61</th>\n",
                            "      <td>atomics</td>\n",
                            "      <td>45</td>\n",
                            "      <td>0.637962</td>\n",
                            "      <td>0.803996</td>\n",
                            "      <td>1.204657</td>\n",
                            "      <td>20</td>\n",
                            "      <td>False</td>\n",
                            "      <td>False</td>\n",
                            "      <td>NaN</td>\n",
                            "      <td>100.0</td>\n",
                            "      <td>False</td>\n",
                            "      <td>-0.373169</td>\n",
                            "      <td>-1.556722</td>\n",
                            "      <td>16</td>\n",
                            "    </tr>\n",
                            "    <tr>\n",
                            "      <th>54</th>\n",
                            "      <td>atomics</td>\n",
                            "      <td>38</td>\n",
                            "      <td>0.516930</td>\n",
                            "      <td>0.864566</td>\n",
                            "      <td>1.227469</td>\n",
                            "      <td>4</td>\n",
                            "      <td>False</td>\n",
                            "      <td>True</td>\n",
                            "      <td>NaN</td>\n",
                            "      <td>100.0</td>\n",
                            "      <td>True</td>\n",
                            "      <td>-0.312599</td>\n",
                            "      <td>-1.533910</td>\n",
                            "      <td>0</td>\n",
                            "    </tr>\n",
                            "    <tr>\n",
                            "      <th>35</th>\n",
                            "      <td>atomics</td>\n",
                            "      <td>19</td>\n",
                            "      <td>1.023168</td>\n",
                            "      <td>0.860964</td>\n",
                            "      <td>1.236313</td>\n",
                            "      <td>4</td>\n",
                            "      <td>True</td>\n",
                            "      <td>True</td>\n",
                            "      <td>NaN</td>\n",
                            "      <td>30.0</td>\n",
                            "      <td>False</td>\n",
                            "      <td>-0.316201</td>\n",
                            "      <td>-1.525067</td>\n",
                            "      <td>0</td>\n",
                            "    </tr>\n",
                            "    <tr>\n",
                            "      <th>17</th>\n",
                            "      <td>atomics</td>\n",
                            "      <td>1</td>\n",
                            "      <td>1.054632</td>\n",
                            "      <td>0.846658</td>\n",
                            "      <td>1.236399</td>\n",
                            "      <td>4</td>\n",
                            "      <td>True</td>\n",
                            "      <td>False</td>\n",
                            "      <td>NaN</td>\n",
                            "      <td>10.0</td>\n",
                            "      <td>False</td>\n",
                            "      <td>-0.330507</td>\n",
                            "      <td>-1.524981</td>\n",
                            "      <td>0</td>\n",
                            "    </tr>\n",
                            "    <tr>\n",
                            "      <th>21</th>\n",
                            "      <td>atomics</td>\n",
                            "      <td>5</td>\n",
                            "      <td>0.989977</td>\n",
                            "      <td>0.852790</td>\n",
                            "      <td>1.238113</td>\n",
                            "      <td>4</td>\n",
                            "      <td>False</td>\n",
                            "      <td>False</td>\n",
                            "      <td>NaN</td>\n",
                            "      <td>10.0</td>\n",
                            "      <td>False</td>\n",
                            "      <td>-0.324375</td>\n",
                            "      <td>-1.523267</td>\n",
                            "      <td>0</td>\n",
                            "    </tr>\n",
                            "    <tr>\n",
                            "      <th>25</th>\n",
                            "      <td>atomics</td>\n",
                            "      <td>9</td>\n",
                            "      <td>1.053101</td>\n",
                            "      <td>0.873384</td>\n",
                            "      <td>1.238971</td>\n",
                            "      <td>20</td>\n",
                            "      <td>True</td>\n",
                            "      <td>False</td>\n",
                            "      <td>NaN</td>\n",
                            "      <td>10.0</td>\n",
                            "      <td>False</td>\n",
                            "      <td>-0.303781</td>\n",
                            "      <td>-1.522409</td>\n",
                            "      <td>16</td>\n",
                            "    </tr>\n",
                            "    <tr>\n",
                            "      <th>12</th>\n",
                            "      <td>original</td>\n",
                            "      <td>12</td>\n",
                            "      <td>1.062982</td>\n",
                            "      <td>0.861523</td>\n",
                            "      <td>1.240334</td>\n",
                            "      <td>20</td>\n",
                            "      <td>False</td>\n",
                            "      <td>False</td>\n",
                            "      <td>True</td>\n",
                            "      <td>NaN</td>\n",
                            "      <td>NaN</td>\n",
                            "      <td>-0.315642</td>\n",
                            "      <td>-1.521046</td>\n",
                            "      <td>16</td>\n",
                            "    </tr>\n",
                            "    <tr>\n",
                            "      <th>31</th>\n",
                            "      <td>atomics</td>\n",
                            "      <td>15</td>\n",
                            "      <td>1.076848</td>\n",
                            "      <td>0.866034</td>\n",
                            "      <td>1.243089</td>\n",
                            "      <td>20</td>\n",
                            "      <td>False</td>\n",
                            "      <td>True</td>\n",
                            "      <td>NaN</td>\n",
                            "      <td>10.0</td>\n",
                            "      <td>False</td>\n",
                            "      <td>-0.311131</td>\n",
                            "      <td>-1.518291</td>\n",
                            "      <td>16</td>\n",
                            "    </tr>\n",
                            "    <tr>\n",
                            "      <th>4</th>\n",
                            "      <td>original</td>\n",
                            "      <td>4</td>\n",
                            "      <td>1.005038</td>\n",
                            "      <td>0.868004</td>\n",
                            "      <td>1.243693</td>\n",
                            "      <td>4</td>\n",
                            "      <td>False</td>\n",
                            "      <td>False</td>\n",
                            "      <td>True</td>\n",
                            "      <td>NaN</td>\n",
                            "      <td>NaN</td>\n",
                            "      <td>-0.309160</td>\n",
                            "      <td>-1.517687</td>\n",
                            "      <td>0</td>\n",
                            "    </tr>\n",
                            "    <tr>\n",
                            "      <th>8</th>\n",
                            "      <td>original</td>\n",
                            "      <td>8</td>\n",
                            "      <td>1.044937</td>\n",
                            "      <td>0.873879</td>\n",
                            "      <td>1.243718</td>\n",
                            "      <td>20</td>\n",
                            "      <td>True</td>\n",
                            "      <td>False</td>\n",
                            "      <td>True</td>\n",
                            "      <td>NaN</td>\n",
                            "      <td>NaN</td>\n",
                            "      <td>-0.303286</td>\n",
                            "      <td>-1.517661</td>\n",
                            "      <td>16</td>\n",
                            "    </tr>\n",
                            "    <tr>\n",
                            "      <th>14</th>\n",
                            "      <td>original</td>\n",
                            "      <td>14</td>\n",
                            "      <td>1.087911</td>\n",
                            "      <td>0.877975</td>\n",
                            "      <td>1.248904</td>\n",
                            "      <td>20</td>\n",
                            "      <td>False</td>\n",
                            "      <td>True</td>\n",
                            "      <td>True</td>\n",
                            "      <td>NaN</td>\n",
                            "      <td>NaN</td>\n",
                            "      <td>-0.299189</td>\n",
                            "      <td>-1.512475</td>\n",
                            "      <td>16</td>\n",
                            "    </tr>\n",
                            "    <tr>\n",
                            "      <th>48</th>\n",
                            "      <td>atomics</td>\n",
                            "      <td>32</td>\n",
                            "      <td>1.055623</td>\n",
                            "      <td>0.851650</td>\n",
                            "      <td>1.252850</td>\n",
                            "      <td>4</td>\n",
                            "      <td>True</td>\n",
                            "      <td>False</td>\n",
                            "      <td>NaN</td>\n",
                            "      <td>100.0</td>\n",
                            "      <td>True</td>\n",
                            "      <td>-0.325515</td>\n",
                            "      <td>-1.508530</td>\n",
                            "      <td>0</td>\n",
                            "    </tr>\n",
                            "    <tr>\n",
                            "      <th>1</th>\n",
                            "      <td>original</td>\n",
                            "      <td>1</td>\n",
                            "      <td>0.943758</td>\n",
                            "      <td>0.835894</td>\n",
                            "      <td>1.253870</td>\n",
                            "      <td>4</td>\n",
                            "      <td>True</td>\n",
                            "      <td>False</td>\n",
                            "      <td>False</td>\n",
                            "      <td>NaN</td>\n",
                            "      <td>NaN</td>\n",
                            "      <td>-0.341271</td>\n",
                            "      <td>-1.507510</td>\n",
                            "      <td>0</td>\n",
                            "    </tr>\n",
                            "    <tr>\n",
                            "      <th>45</th>\n",
                            "      <td>atomics</td>\n",
                            "      <td>29</td>\n",
                            "      <td>1.065345</td>\n",
                            "      <td>0.869863</td>\n",
                            "      <td>1.254844</td>\n",
                            "      <td>20</td>\n",
                            "      <td>False</td>\n",
                            "      <td>False</td>\n",
                            "      <td>NaN</td>\n",
                            "      <td>30.0</td>\n",
                            "      <td>False</td>\n",
                            "      <td>-0.307302</td>\n",
                            "      <td>-1.506535</td>\n",
                            "      <td>16</td>\n",
                            "    </tr>\n",
                            "    <tr>\n",
                            "      <th>19</th>\n",
                            "      <td>atomics</td>\n",
                            "      <td>3</td>\n",
                            "      <td>0.962304</td>\n",
                            "      <td>0.853253</td>\n",
                            "      <td>1.258911</td>\n",
                            "      <td>4</td>\n",
                            "      <td>True</td>\n",
                            "      <td>True</td>\n",
                            "      <td>NaN</td>\n",
                            "      <td>10.0</td>\n",
                            "      <td>False</td>\n",
                            "      <td>-0.323912</td>\n",
                            "      <td>-1.502469</td>\n",
                            "      <td>0</td>\n",
                            "    </tr>\n",
                            "    <tr>\n",
                            "      <th>6</th>\n",
                            "      <td>original</td>\n",
                            "      <td>6</td>\n",
                            "      <td>1.007977</td>\n",
                            "      <td>0.857743</td>\n",
                            "      <td>1.260664</td>\n",
                            "      <td>4</td>\n",
                            "      <td>False</td>\n",
                            "      <td>True</td>\n",
                            "      <td>True</td>\n",
                            "      <td>NaN</td>\n",
                            "      <td>NaN</td>\n",
                            "      <td>-0.319422</td>\n",
                            "      <td>-1.500715</td>\n",
                            "      <td>0</td>\n",
                            "    </tr>\n",
                            "    <tr>\n",
                            "      <th>29</th>\n",
                            "      <td>atomics</td>\n",
                            "      <td>13</td>\n",
                            "      <td>1.046835</td>\n",
                            "      <td>0.894221</td>\n",
                            "      <td>1.261955</td>\n",
                            "      <td>20</td>\n",
                            "      <td>False</td>\n",
                            "      <td>False</td>\n",
                            "      <td>NaN</td>\n",
                            "      <td>10.0</td>\n",
                            "      <td>False</td>\n",
                            "      <td>-0.282944</td>\n",
                            "      <td>-1.499425</td>\n",
                            "      <td>16</td>\n",
                            "    </tr>\n",
                            "    <tr>\n",
                            "      <th>63</th>\n",
                            "      <td>atomics</td>\n",
                            "      <td>47</td>\n",
                            "      <td>0.200938</td>\n",
                            "      <td>0.850585</td>\n",
                            "      <td>1.263687</td>\n",
                            "      <td>20</td>\n",
                            "      <td>False</td>\n",
                            "      <td>True</td>\n",
                            "      <td>NaN</td>\n",
                            "      <td>100.0</td>\n",
                            "      <td>False</td>\n",
                            "      <td>-0.326580</td>\n",
                            "      <td>-1.497692</td>\n",
                            "      <td>16</td>\n",
                            "    </tr>\n",
                            "    <tr>\n",
                            "      <th>27</th>\n",
                            "      <td>atomics</td>\n",
                            "      <td>11</td>\n",
                            "      <td>1.080113</td>\n",
                            "      <td>0.876664</td>\n",
                            "      <td>1.271307</td>\n",
                            "      <td>20</td>\n",
                            "      <td>True</td>\n",
                            "      <td>True</td>\n",
                            "      <td>NaN</td>\n",
                            "      <td>10.0</td>\n",
                            "      <td>False</td>\n",
                            "      <td>-0.300500</td>\n",
                            "      <td>-1.490073</td>\n",
                            "      <td>16</td>\n",
                            "    </tr>\n",
                            "    <tr>\n",
                            "      <th>47</th>\n",
                            "      <td>atomics</td>\n",
                            "      <td>31</td>\n",
                            "      <td>1.052764</td>\n",
                            "      <td>0.857122</td>\n",
                            "      <td>1.286047</td>\n",
                            "      <td>20</td>\n",
                            "      <td>False</td>\n",
                            "      <td>True</td>\n",
                            "      <td>NaN</td>\n",
                            "      <td>30.0</td>\n",
                            "      <td>False</td>\n",
                            "      <td>-0.320043</td>\n",
                            "      <td>-1.475333</td>\n",
                            "      <td>16</td>\n",
                            "    </tr>\n",
                            "    <tr>\n",
                            "      <th>41</th>\n",
                            "      <td>atomics</td>\n",
                            "      <td>25</td>\n",
                            "      <td>0.574998</td>\n",
                            "      <td>0.872977</td>\n",
                            "      <td>1.295281</td>\n",
                            "      <td>20</td>\n",
                            "      <td>True</td>\n",
                            "      <td>False</td>\n",
                            "      <td>NaN</td>\n",
                            "      <td>30.0</td>\n",
                            "      <td>False</td>\n",
                            "      <td>-0.304188</td>\n",
                            "      <td>-1.466099</td>\n",
                            "      <td>16</td>\n",
                            "    </tr>\n",
                            "    <tr>\n",
                            "      <th>37</th>\n",
                            "      <td>atomics</td>\n",
                            "      <td>21</td>\n",
                            "      <td>0.415460</td>\n",
                            "      <td>0.896214</td>\n",
                            "      <td>1.351316</td>\n",
                            "      <td>4</td>\n",
                            "      <td>False</td>\n",
                            "      <td>False</td>\n",
                            "      <td>NaN</td>\n",
                            "      <td>30.0</td>\n",
                            "      <td>False</td>\n",
                            "      <td>-0.280951</td>\n",
                            "      <td>-1.410064</td>\n",
                            "      <td>0</td>\n",
                            "    </tr>\n",
                            "    <tr>\n",
                            "      <th>57</th>\n",
                            "      <td>atomics</td>\n",
                            "      <td>41</td>\n",
                            "      <td>0.872173</td>\n",
                            "      <td>0.868346</td>\n",
                            "      <td>1.380774</td>\n",
                            "      <td>20</td>\n",
                            "      <td>True</td>\n",
                            "      <td>False</td>\n",
                            "      <td>NaN</td>\n",
                            "      <td>100.0</td>\n",
                            "      <td>False</td>\n",
                            "      <td>-0.308819</td>\n",
                            "      <td>-1.380605</td>\n",
                            "      <td>16</td>\n",
                            "    </tr>\n",
                            "    <tr>\n",
                            "      <th>39</th>\n",
                            "      <td>atomics</td>\n",
                            "      <td>23</td>\n",
                            "      <td>0.894361</td>\n",
                            "      <td>0.893364</td>\n",
                            "      <td>1.388053</td>\n",
                            "      <td>4</td>\n",
                            "      <td>False</td>\n",
                            "      <td>True</td>\n",
                            "      <td>NaN</td>\n",
                            "      <td>30.0</td>\n",
                            "      <td>False</td>\n",
                            "      <td>-0.283800</td>\n",
                            "      <td>-1.373327</td>\n",
                            "      <td>0</td>\n",
                            "    </tr>\n",
                            "    <tr>\n",
                            "      <th>49</th>\n",
                            "      <td>atomics</td>\n",
                            "      <td>33</td>\n",
                            "      <td>1.053084</td>\n",
                            "      <td>0.923113</td>\n",
                            "      <td>1.433117</td>\n",
                            "      <td>4</td>\n",
                            "      <td>True</td>\n",
                            "      <td>False</td>\n",
                            "      <td>NaN</td>\n",
                            "      <td>100.0</td>\n",
                            "      <td>False</td>\n",
                            "      <td>-0.254052</td>\n",
                            "      <td>-1.328263</td>\n",
                            "      <td>0</td>\n",
                            "    </tr>\n",
                            "    <tr>\n",
                            "      <th>43</th>\n",
                            "      <td>atomics</td>\n",
                            "      <td>27</td>\n",
                            "      <td>0.813412</td>\n",
                            "      <td>0.892527</td>\n",
                            "      <td>1.438392</td>\n",
                            "      <td>20</td>\n",
                            "      <td>True</td>\n",
                            "      <td>True</td>\n",
                            "      <td>NaN</td>\n",
                            "      <td>30.0</td>\n",
                            "      <td>False</td>\n",
                            "      <td>-0.284638</td>\n",
                            "      <td>-1.322987</td>\n",
                            "      <td>16</td>\n",
                            "    </tr>\n",
                            "    <tr>\n",
                            "      <th>60</th>\n",
                            "      <td>atomics</td>\n",
                            "      <td>44</td>\n",
                            "      <td>0.288692</td>\n",
                            "      <td>0.951960</td>\n",
                            "      <td>1.442541</td>\n",
                            "      <td>20</td>\n",
                            "      <td>False</td>\n",
                            "      <td>False</td>\n",
                            "      <td>NaN</td>\n",
                            "      <td>100.0</td>\n",
                            "      <td>True</td>\n",
                            "      <td>-0.225204</td>\n",
                            "      <td>-1.318839</td>\n",
                            "      <td>16</td>\n",
                            "    </tr>\n",
                            "    <tr>\n",
                            "      <th>22</th>\n",
                            "      <td>atomics</td>\n",
                            "      <td>6</td>\n",
                            "      <td>0.367109</td>\n",
                            "      <td>0.925522</td>\n",
                            "      <td>1.452591</td>\n",
                            "      <td>4</td>\n",
                            "      <td>False</td>\n",
                            "      <td>True</td>\n",
                            "      <td>NaN</td>\n",
                            "      <td>10.0</td>\n",
                            "      <td>True</td>\n",
                            "      <td>-0.251643</td>\n",
                            "      <td>-1.308789</td>\n",
                            "      <td>0</td>\n",
                            "    </tr>\n",
                            "    <tr>\n",
                            "      <th>18</th>\n",
                            "      <td>atomics</td>\n",
                            "      <td>2</td>\n",
                            "      <td>0.534892</td>\n",
                            "      <td>0.919309</td>\n",
                            "      <td>1.476595</td>\n",
                            "      <td>4</td>\n",
                            "      <td>True</td>\n",
                            "      <td>True</td>\n",
                            "      <td>NaN</td>\n",
                            "      <td>10.0</td>\n",
                            "      <td>True</td>\n",
                            "      <td>-0.257856</td>\n",
                            "      <td>-1.284785</td>\n",
                            "      <td>0</td>\n",
                            "    </tr>\n",
                            "    <tr>\n",
                            "      <th>51</th>\n",
                            "      <td>atomics</td>\n",
                            "      <td>35</td>\n",
                            "      <td>0.510237</td>\n",
                            "      <td>0.956373</td>\n",
                            "      <td>1.551946</td>\n",
                            "      <td>4</td>\n",
                            "      <td>True</td>\n",
                            "      <td>True</td>\n",
                            "      <td>NaN</td>\n",
                            "      <td>100.0</td>\n",
                            "      <td>False</td>\n",
                            "      <td>-0.220792</td>\n",
                            "      <td>-1.209434</td>\n",
                            "      <td>0</td>\n",
                            "    </tr>\n",
                            "    <tr>\n",
                            "      <th>36</th>\n",
                            "      <td>atomics</td>\n",
                            "      <td>20</td>\n",
                            "      <td>0.456031</td>\n",
                            "      <td>0.966313</td>\n",
                            "      <td>1.552207</td>\n",
                            "      <td>4</td>\n",
                            "      <td>False</td>\n",
                            "      <td>False</td>\n",
                            "      <td>NaN</td>\n",
                            "      <td>30.0</td>\n",
                            "      <td>True</td>\n",
                            "      <td>-0.210852</td>\n",
                            "      <td>-1.209173</td>\n",
                            "      <td>0</td>\n",
                            "    </tr>\n",
                            "    <tr>\n",
                            "      <th>2</th>\n",
                            "      <td>original</td>\n",
                            "      <td>2</td>\n",
                            "      <td>0.869818</td>\n",
                            "      <td>0.952733</td>\n",
                            "      <td>1.565092</td>\n",
                            "      <td>4</td>\n",
                            "      <td>True</td>\n",
                            "      <td>True</td>\n",
                            "      <td>True</td>\n",
                            "      <td>NaN</td>\n",
                            "      <td>NaN</td>\n",
                            "      <td>-0.224432</td>\n",
                            "      <td>-1.196288</td>\n",
                            "      <td>0</td>\n",
                            "    </tr>\n",
                            "    <tr>\n",
                            "      <th>26</th>\n",
                            "      <td>atomics</td>\n",
                            "      <td>10</td>\n",
                            "      <td>0.235884</td>\n",
                            "      <td>1.004333</td>\n",
                            "      <td>1.592897</td>\n",
                            "      <td>20</td>\n",
                            "      <td>True</td>\n",
                            "      <td>True</td>\n",
                            "      <td>NaN</td>\n",
                            "      <td>10.0</td>\n",
                            "      <td>True</td>\n",
                            "      <td>-0.172832</td>\n",
                            "      <td>-1.168482</td>\n",
                            "      <td>16</td>\n",
                            "    </tr>\n",
                            "    <tr>\n",
                            "      <th>20</th>\n",
                            "      <td>atomics</td>\n",
                            "      <td>4</td>\n",
                            "      <td>0.373681</td>\n",
                            "      <td>0.984921</td>\n",
                            "      <td>1.595572</td>\n",
                            "      <td>4</td>\n",
                            "      <td>False</td>\n",
                            "      <td>False</td>\n",
                            "      <td>NaN</td>\n",
                            "      <td>10.0</td>\n",
                            "      <td>True</td>\n",
                            "      <td>-0.192243</td>\n",
                            "      <td>-1.165808</td>\n",
                            "      <td>0</td>\n",
                            "    </tr>\n",
                            "    <tr>\n",
                            "      <th>44</th>\n",
                            "      <td>atomics</td>\n",
                            "      <td>28</td>\n",
                            "      <td>0.188881</td>\n",
                            "      <td>1.009637</td>\n",
                            "      <td>1.615683</td>\n",
                            "      <td>20</td>\n",
                            "      <td>False</td>\n",
                            "      <td>False</td>\n",
                            "      <td>NaN</td>\n",
                            "      <td>30.0</td>\n",
                            "      <td>True</td>\n",
                            "      <td>-0.167528</td>\n",
                            "      <td>-1.145696</td>\n",
                            "      <td>16</td>\n",
                            "    </tr>\n",
                            "    <tr>\n",
                            "      <th>16</th>\n",
                            "      <td>atomics</td>\n",
                            "      <td>0</td>\n",
                            "      <td>0.497425</td>\n",
                            "      <td>0.997069</td>\n",
                            "      <td>1.640007</td>\n",
                            "      <td>4</td>\n",
                            "      <td>True</td>\n",
                            "      <td>False</td>\n",
                            "      <td>NaN</td>\n",
                            "      <td>10.0</td>\n",
                            "      <td>True</td>\n",
                            "      <td>-0.180096</td>\n",
                            "      <td>-1.121372</td>\n",
                            "      <td>0</td>\n",
                            "    </tr>\n",
                            "    <tr>\n",
                            "      <th>46</th>\n",
                            "      <td>atomics</td>\n",
                            "      <td>30</td>\n",
                            "      <td>0.216676</td>\n",
                            "      <td>1.012635</td>\n",
                            "      <td>1.648386</td>\n",
                            "      <td>20</td>\n",
                            "      <td>False</td>\n",
                            "      <td>True</td>\n",
                            "      <td>NaN</td>\n",
                            "      <td>30.0</td>\n",
                            "      <td>True</td>\n",
                            "      <td>-0.164530</td>\n",
                            "      <td>-1.112993</td>\n",
                            "      <td>16</td>\n",
                            "    </tr>\n",
                            "    <tr>\n",
                            "      <th>52</th>\n",
                            "      <td>atomics</td>\n",
                            "      <td>36</td>\n",
                            "      <td>0.489095</td>\n",
                            "      <td>1.018330</td>\n",
                            "      <td>1.724422</td>\n",
                            "      <td>4</td>\n",
                            "      <td>False</td>\n",
                            "      <td>False</td>\n",
                            "      <td>NaN</td>\n",
                            "      <td>100.0</td>\n",
                            "      <td>True</td>\n",
                            "      <td>-0.158835</td>\n",
                            "      <td>-1.036957</td>\n",
                            "      <td>0</td>\n",
                            "    </tr>\n",
                            "    <tr>\n",
                            "      <th>10</th>\n",
                            "      <td>original</td>\n",
                            "      <td>10</td>\n",
                            "      <td>0.665380</td>\n",
                            "      <td>1.013543</td>\n",
                            "      <td>1.743126</td>\n",
                            "      <td>20</td>\n",
                            "      <td>True</td>\n",
                            "      <td>True</td>\n",
                            "      <td>True</td>\n",
                            "      <td>NaN</td>\n",
                            "      <td>NaN</td>\n",
                            "      <td>-0.163622</td>\n",
                            "      <td>-1.018253</td>\n",
                            "      <td>16</td>\n",
                            "    </tr>\n",
                            "    <tr>\n",
                            "      <th>32</th>\n",
                            "      <td>atomics</td>\n",
                            "      <td>16</td>\n",
                            "      <td>0.452510</td>\n",
                            "      <td>1.056126</td>\n",
                            "      <td>1.775779</td>\n",
                            "      <td>4</td>\n",
                            "      <td>True</td>\n",
                            "      <td>False</td>\n",
                            "      <td>NaN</td>\n",
                            "      <td>30.0</td>\n",
                            "      <td>True</td>\n",
                            "      <td>-0.121039</td>\n",
                            "      <td>-0.985600</td>\n",
                            "      <td>0</td>\n",
                            "    </tr>\n",
                            "    <tr>\n",
                            "      <th>40</th>\n",
                            "      <td>atomics</td>\n",
                            "      <td>24</td>\n",
                            "      <td>0.183543</td>\n",
                            "      <td>0.965182</td>\n",
                            "      <td>1.876538</td>\n",
                            "      <td>20</td>\n",
                            "      <td>True</td>\n",
                            "      <td>False</td>\n",
                            "      <td>NaN</td>\n",
                            "      <td>30.0</td>\n",
                            "      <td>True</td>\n",
                            "      <td>-0.211983</td>\n",
                            "      <td>-0.884842</td>\n",
                            "      <td>16</td>\n",
                            "    </tr>\n",
                            "    <tr>\n",
                            "      <th>24</th>\n",
                            "      <td>atomics</td>\n",
                            "      <td>8</td>\n",
                            "      <td>0.194836</td>\n",
                            "      <td>1.071620</td>\n",
                            "      <td>1.891627</td>\n",
                            "      <td>20</td>\n",
                            "      <td>True</td>\n",
                            "      <td>False</td>\n",
                            "      <td>NaN</td>\n",
                            "      <td>10.0</td>\n",
                            "      <td>True</td>\n",
                            "      <td>-0.105544</td>\n",
                            "      <td>-0.869752</td>\n",
                            "      <td>16</td>\n",
                            "    </tr>\n",
                            "    <tr>\n",
                            "      <th>34</th>\n",
                            "      <td>atomics</td>\n",
                            "      <td>18</td>\n",
                            "      <td>0.491403</td>\n",
                            "      <td>1.084058</td>\n",
                            "      <td>1.952641</td>\n",
                            "      <td>4</td>\n",
                            "      <td>True</td>\n",
                            "      <td>True</td>\n",
                            "      <td>NaN</td>\n",
                            "      <td>30.0</td>\n",
                            "      <td>True</td>\n",
                            "      <td>-0.093107</td>\n",
                            "      <td>-0.808739</td>\n",
                            "      <td>0</td>\n",
                            "    </tr>\n",
                            "    <tr>\n",
                            "      <th>50</th>\n",
                            "      <td>atomics</td>\n",
                            "      <td>34</td>\n",
                            "      <td>0.564740</td>\n",
                            "      <td>1.104150</td>\n",
                            "      <td>2.051633</td>\n",
                            "      <td>4</td>\n",
                            "      <td>True</td>\n",
                            "      <td>True</td>\n",
                            "      <td>NaN</td>\n",
                            "      <td>100.0</td>\n",
                            "      <td>True</td>\n",
                            "      <td>-0.073015</td>\n",
                            "      <td>-0.709746</td>\n",
                            "      <td>0</td>\n",
                            "    </tr>\n",
                            "    <tr>\n",
                            "      <th>62</th>\n",
                            "      <td>atomics</td>\n",
                            "      <td>46</td>\n",
                            "      <td>0.249886</td>\n",
                            "      <td>1.121337</td>\n",
                            "      <td>2.071424</td>\n",
                            "      <td>20</td>\n",
                            "      <td>False</td>\n",
                            "      <td>True</td>\n",
                            "      <td>NaN</td>\n",
                            "      <td>100.0</td>\n",
                            "      <td>True</td>\n",
                            "      <td>-0.055827</td>\n",
                            "      <td>-0.689955</td>\n",
                            "      <td>16</td>\n",
                            "    </tr>\n",
                            "    <tr>\n",
                            "      <th>30</th>\n",
                            "      <td>atomics</td>\n",
                            "      <td>14</td>\n",
                            "      <td>0.185597</td>\n",
                            "      <td>1.154628</td>\n",
                            "      <td>2.209951</td>\n",
                            "      <td>20</td>\n",
                            "      <td>False</td>\n",
                            "      <td>True</td>\n",
                            "      <td>NaN</td>\n",
                            "      <td>10.0</td>\n",
                            "      <td>True</td>\n",
                            "      <td>-0.022537</td>\n",
                            "      <td>-0.551429</td>\n",
                            "      <td>16</td>\n",
                            "    </tr>\n",
                            "    <tr>\n",
                            "      <th>42</th>\n",
                            "      <td>atomics</td>\n",
                            "      <td>26</td>\n",
                            "      <td>0.222923</td>\n",
                            "      <td>1.255800</td>\n",
                            "      <td>2.389632</td>\n",
                            "      <td>20</td>\n",
                            "      <td>True</td>\n",
                            "      <td>True</td>\n",
                            "      <td>NaN</td>\n",
                            "      <td>30.0</td>\n",
                            "      <td>True</td>\n",
                            "      <td>0.078635</td>\n",
                            "      <td>-0.371747</td>\n",
                            "      <td>16</td>\n",
                            "    </tr>\n",
                            "    <tr>\n",
                            "      <th>59</th>\n",
                            "      <td>atomics</td>\n",
                            "      <td>43</td>\n",
                            "      <td>0.612792</td>\n",
                            "      <td>1.257784</td>\n",
                            "      <td>2.499745</td>\n",
                            "      <td>20</td>\n",
                            "      <td>True</td>\n",
                            "      <td>True</td>\n",
                            "      <td>NaN</td>\n",
                            "      <td>100.0</td>\n",
                            "      <td>False</td>\n",
                            "      <td>0.080619</td>\n",
                            "      <td>-0.261634</td>\n",
                            "      <td>16</td>\n",
                            "    </tr>\n",
                            "    <tr>\n",
                            "      <th>0</th>\n",
                            "      <td>original</td>\n",
                            "      <td>0</td>\n",
                            "      <td>0.269111</td>\n",
                            "      <td>1.177165</td>\n",
                            "      <td>2.761379</td>\n",
                            "      <td>4</td>\n",
                            "      <td>True</td>\n",
                            "      <td>False</td>\n",
                            "      <td>True</td>\n",
                            "      <td>NaN</td>\n",
                            "      <td>NaN</td>\n",
                            "      <td>0.000000</td>\n",
                            "      <td>0.000000</td>\n",
                            "      <td>0</td>\n",
                            "    </tr>\n",
                            "  </tbody>\n",
                            "</table>\n",
                            "</div>"
                        ],
                        "text/plain": [
                            "        type  config  val_loss       mae       mse  n_concepts  \\\n",
                            "11  original      11  0.789226  0.690913  0.788829          20   \n",
                            "9   original       9  0.715416  0.692953  0.807579          20   \n",
                            "13  original      13  0.640830  0.692244  0.854890          20   \n",
                            "15  original      15  0.820222  0.747462  0.877426          20   \n",
                            "53   atomics      37  0.469095  0.749761  0.934202           4   \n",
                            "3   original       3  0.863633  0.780468  1.003076           4   \n",
                            "58   atomics      42  0.258789  0.749811  1.017030          20   \n",
                            "7   original       7  0.839636  0.741249  1.020023           4   \n",
                            "38   atomics      22  0.451580  0.784717  1.043705           4   \n",
                            "28   atomics      12  0.178505  0.749474  1.047484          20   \n",
                            "56   atomics      40  0.252563  0.802292  1.117888          20   \n",
                            "5   original       5  0.844280  0.829188  1.153479           4   \n",
                            "23   atomics       7  0.781264  0.856313  1.184029           4   \n",
                            "55   atomics      39  0.941227  0.816982  1.192656           4   \n",
                            "33   atomics      17  0.989150  0.847447  1.204292           4   \n",
                            "61   atomics      45  0.637962  0.803996  1.204657          20   \n",
                            "54   atomics      38  0.516930  0.864566  1.227469           4   \n",
                            "35   atomics      19  1.023168  0.860964  1.236313           4   \n",
                            "17   atomics       1  1.054632  0.846658  1.236399           4   \n",
                            "21   atomics       5  0.989977  0.852790  1.238113           4   \n",
                            "25   atomics       9  1.053101  0.873384  1.238971          20   \n",
                            "12  original      12  1.062982  0.861523  1.240334          20   \n",
                            "31   atomics      15  1.076848  0.866034  1.243089          20   \n",
                            "4   original       4  1.005038  0.868004  1.243693           4   \n",
                            "8   original       8  1.044937  0.873879  1.243718          20   \n",
                            "14  original      14  1.087911  0.877975  1.248904          20   \n",
                            "48   atomics      32  1.055623  0.851650  1.252850           4   \n",
                            "1   original       1  0.943758  0.835894  1.253870           4   \n",
                            "45   atomics      29  1.065345  0.869863  1.254844          20   \n",
                            "19   atomics       3  0.962304  0.853253  1.258911           4   \n",
                            "6   original       6  1.007977  0.857743  1.260664           4   \n",
                            "29   atomics      13  1.046835  0.894221  1.261955          20   \n",
                            "63   atomics      47  0.200938  0.850585  1.263687          20   \n",
                            "27   atomics      11  1.080113  0.876664  1.271307          20   \n",
                            "47   atomics      31  1.052764  0.857122  1.286047          20   \n",
                            "41   atomics      25  0.574998  0.872977  1.295281          20   \n",
                            "37   atomics      21  0.415460  0.896214  1.351316           4   \n",
                            "57   atomics      41  0.872173  0.868346  1.380774          20   \n",
                            "39   atomics      23  0.894361  0.893364  1.388053           4   \n",
                            "49   atomics      33  1.053084  0.923113  1.433117           4   \n",
                            "43   atomics      27  0.813412  0.892527  1.438392          20   \n",
                            "60   atomics      44  0.288692  0.951960  1.442541          20   \n",
                            "22   atomics       6  0.367109  0.925522  1.452591           4   \n",
                            "18   atomics       2  0.534892  0.919309  1.476595           4   \n",
                            "51   atomics      35  0.510237  0.956373  1.551946           4   \n",
                            "36   atomics      20  0.456031  0.966313  1.552207           4   \n",
                            "2   original       2  0.869818  0.952733  1.565092           4   \n",
                            "26   atomics      10  0.235884  1.004333  1.592897          20   \n",
                            "20   atomics       4  0.373681  0.984921  1.595572           4   \n",
                            "44   atomics      28  0.188881  1.009637  1.615683          20   \n",
                            "16   atomics       0  0.497425  0.997069  1.640007           4   \n",
                            "46   atomics      30  0.216676  1.012635  1.648386          20   \n",
                            "52   atomics      36  0.489095  1.018330  1.724422           4   \n",
                            "10  original      10  0.665380  1.013543  1.743126          20   \n",
                            "32   atomics      16  0.452510  1.056126  1.775779           4   \n",
                            "40   atomics      24  0.183543  0.965182  1.876538          20   \n",
                            "24   atomics       8  0.194836  1.071620  1.891627          20   \n",
                            "34   atomics      18  0.491403  1.084058  1.952641           4   \n",
                            "50   atomics      34  0.564740  1.104150  2.051633           4   \n",
                            "62   atomics      46  0.249886  1.121337  2.071424          20   \n",
                            "30   atomics      14  0.185597  1.154628  2.209951          20   \n",
                            "42   atomics      26  0.222923  1.255800  2.389632          20   \n",
                            "59   atomics      43  0.612792  1.257784  2.499745          20   \n",
                            "0   original       0  0.269111  1.177165  2.761379           4   \n",
                            "\n",
                            "    use_indicators  use_fixes use_only_last_timestep  n_atomics  \\\n",
                            "11            True       True                  False        NaN   \n",
                            "9             True      False                  False        NaN   \n",
                            "13           False      False                  False        NaN   \n",
                            "15           False       True                  False        NaN   \n",
                            "53           False      False                    NaN      100.0   \n",
                            "3             True       True                  False        NaN   \n",
                            "58            True       True                    NaN      100.0   \n",
                            "7            False       True                  False        NaN   \n",
                            "38           False       True                    NaN       30.0   \n",
                            "28           False      False                    NaN       10.0   \n",
                            "56            True      False                    NaN      100.0   \n",
                            "5            False      False                  False        NaN   \n",
                            "23           False       True                    NaN       10.0   \n",
                            "55           False       True                    NaN      100.0   \n",
                            "33            True      False                    NaN       30.0   \n",
                            "61           False      False                    NaN      100.0   \n",
                            "54           False       True                    NaN      100.0   \n",
                            "35            True       True                    NaN       30.0   \n",
                            "17            True      False                    NaN       10.0   \n",
                            "21           False      False                    NaN       10.0   \n",
                            "25            True      False                    NaN       10.0   \n",
                            "12           False      False                   True        NaN   \n",
                            "31           False       True                    NaN       10.0   \n",
                            "4            False      False                   True        NaN   \n",
                            "8             True      False                   True        NaN   \n",
                            "14           False       True                   True        NaN   \n",
                            "48            True      False                    NaN      100.0   \n",
                            "1             True      False                  False        NaN   \n",
                            "45           False      False                    NaN       30.0   \n",
                            "19            True       True                    NaN       10.0   \n",
                            "6            False       True                   True        NaN   \n",
                            "29           False      False                    NaN       10.0   \n",
                            "63           False       True                    NaN      100.0   \n",
                            "27            True       True                    NaN       10.0   \n",
                            "47           False       True                    NaN       30.0   \n",
                            "41            True      False                    NaN       30.0   \n",
                            "37           False      False                    NaN       30.0   \n",
                            "57            True      False                    NaN      100.0   \n",
                            "39           False       True                    NaN       30.0   \n",
                            "49            True      False                    NaN      100.0   \n",
                            "43            True       True                    NaN       30.0   \n",
                            "60           False      False                    NaN      100.0   \n",
                            "22           False       True                    NaN       10.0   \n",
                            "18            True       True                    NaN       10.0   \n",
                            "51            True       True                    NaN      100.0   \n",
                            "36           False      False                    NaN       30.0   \n",
                            "2             True       True                   True        NaN   \n",
                            "26            True       True                    NaN       10.0   \n",
                            "20           False      False                    NaN       10.0   \n",
                            "44           False      False                    NaN       30.0   \n",
                            "16            True      False                    NaN       10.0   \n",
                            "46           False       True                    NaN       30.0   \n",
                            "52           False      False                    NaN      100.0   \n",
                            "10            True       True                   True        NaN   \n",
                            "32            True      False                    NaN       30.0   \n",
                            "40            True      False                    NaN       30.0   \n",
                            "24            True      False                    NaN       10.0   \n",
                            "34            True       True                    NaN       30.0   \n",
                            "50            True       True                    NaN      100.0   \n",
                            "62           False       True                    NaN      100.0   \n",
                            "30           False       True                    NaN       10.0   \n",
                            "42            True       True                    NaN       30.0   \n",
                            "59            True       True                    NaN      100.0   \n",
                            "0             True      False                   True        NaN   \n",
                            "\n",
                            "   use_summaries_for_atomics  mae_abs_imp  mse_abs_imp  n_concepts_abs_imp  \n",
                            "11                       NaN    -0.486251    -1.972550                  16  \n",
                            "9                        NaN    -0.484212    -1.953801                  16  \n",
                            "13                       NaN    -0.484921    -1.906490                  16  \n",
                            "15                       NaN    -0.429703    -1.883954                  16  \n",
                            "53                     False    -0.427404    -1.827178                   0  \n",
                            "3                        NaN    -0.396697    -1.758303                   0  \n",
                            "58                      True    -0.427354    -1.744349                  16  \n",
                            "7                        NaN    -0.435916    -1.741356                   0  \n",
                            "38                      True    -0.392448    -1.717674                   0  \n",
                            "28                      True    -0.427691    -1.713896                  16  \n",
                            "56                      True    -0.374873    -1.643492                  16  \n",
                            "5                        NaN    -0.347977    -1.607901                   0  \n",
                            "23                     False    -0.320852    -1.577350                   0  \n",
                            "55                     False    -0.360182    -1.568723                   0  \n",
                            "33                     False    -0.329718    -1.557088                   0  \n",
                            "61                     False    -0.373169    -1.556722                  16  \n",
                            "54                      True    -0.312599    -1.533910                   0  \n",
                            "35                     False    -0.316201    -1.525067                   0  \n",
                            "17                     False    -0.330507    -1.524981                   0  \n",
                            "21                     False    -0.324375    -1.523267                   0  \n",
                            "25                     False    -0.303781    -1.522409                  16  \n",
                            "12                       NaN    -0.315642    -1.521046                  16  \n",
                            "31                     False    -0.311131    -1.518291                  16  \n",
                            "4                        NaN    -0.309160    -1.517687                   0  \n",
                            "8                        NaN    -0.303286    -1.517661                  16  \n",
                            "14                       NaN    -0.299189    -1.512475                  16  \n",
                            "48                      True    -0.325515    -1.508530                   0  \n",
                            "1                        NaN    -0.341271    -1.507510                   0  \n",
                            "45                     False    -0.307302    -1.506535                  16  \n",
                            "19                     False    -0.323912    -1.502469                   0  \n",
                            "6                        NaN    -0.319422    -1.500715                   0  \n",
                            "29                     False    -0.282944    -1.499425                  16  \n",
                            "63                     False    -0.326580    -1.497692                  16  \n",
                            "27                     False    -0.300500    -1.490073                  16  \n",
                            "47                     False    -0.320043    -1.475333                  16  \n",
                            "41                     False    -0.304188    -1.466099                  16  \n",
                            "37                     False    -0.280951    -1.410064                   0  \n",
                            "57                     False    -0.308819    -1.380605                  16  \n",
                            "39                     False    -0.283800    -1.373327                   0  \n",
                            "49                     False    -0.254052    -1.328263                   0  \n",
                            "43                     False    -0.284638    -1.322987                  16  \n",
                            "60                      True    -0.225204    -1.318839                  16  \n",
                            "22                      True    -0.251643    -1.308789                   0  \n",
                            "18                      True    -0.257856    -1.284785                   0  \n",
                            "51                     False    -0.220792    -1.209434                   0  \n",
                            "36                      True    -0.210852    -1.209173                   0  \n",
                            "2                        NaN    -0.224432    -1.196288                   0  \n",
                            "26                      True    -0.172832    -1.168482                  16  \n",
                            "20                      True    -0.192243    -1.165808                   0  \n",
                            "44                      True    -0.167528    -1.145696                  16  \n",
                            "16                      True    -0.180096    -1.121372                   0  \n",
                            "46                      True    -0.164530    -1.112993                  16  \n",
                            "52                      True    -0.158835    -1.036957                   0  \n",
                            "10                       NaN    -0.163622    -1.018253                  16  \n",
                            "32                      True    -0.121039    -0.985600                   0  \n",
                            "40                      True    -0.211983    -0.884842                  16  \n",
                            "24                      True    -0.105544    -0.869752                  16  \n",
                            "34                      True    -0.093107    -0.808739                   0  \n",
                            "50                      True    -0.073015    -0.709746                   0  \n",
                            "62                      True    -0.055827    -0.689955                  16  \n",
                            "30                      True    -0.022537    -0.551429                  16  \n",
                            "42                      True     0.078635    -0.371747                  16  \n",
                            "59                     False     0.080619    -0.261634                  16  \n",
                            "0                        NaN     0.000000     0.000000                   0  "
                        ]
                    },
                    "execution_count": 27,
                    "metadata": {},
                    "output_type": "execute_result"
                }
            ],
            "source": [
                "pd.set_option('display.max_rows', 100)\n",
                "result_df.sort_values(by='mse', ascending=True)\n",
                "# atomics: atomics, concepts, use_indicators, use_fixes, output_dim, use_summaries_for_atomics\n",
                "# original: concepts, use_indicators, use_fixes, output_dim, use_only_last_timestep\n"
            ]
        },
        {
            "cell_type": "code",
            "execution_count": 28,
            "metadata": {},
            "outputs": [
                {
                    "data": {
                        "text/html": [
                            "<div>\n",
                            "<style scoped>\n",
                            "    .dataframe tbody tr th:only-of-type {\n",
                            "        vertical-align: middle;\n",
                            "    }\n",
                            "\n",
                            "    .dataframe tbody tr th {\n",
                            "        vertical-align: top;\n",
                            "    }\n",
                            "\n",
                            "    .dataframe thead th {\n",
                            "        text-align: right;\n",
                            "    }\n",
                            "</style>\n",
                            "<table border=\"1\" class=\"dataframe\">\n",
                            "  <thead>\n",
                            "    <tr style=\"text-align: right;\">\n",
                            "      <th></th>\n",
                            "      <th>mae</th>\n",
                            "      <th>mse</th>\n",
                            "    </tr>\n",
                            "    <tr>\n",
                            "      <th>n_atomics</th>\n",
                            "      <th></th>\n",
                            "      <th></th>\n",
                            "    </tr>\n",
                            "  </thead>\n",
                            "  <tbody>\n",
                            "    <tr>\n",
                            "      <th>10.0</th>\n",
                            "      <td>0.920387</td>\n",
                            "      <td>1.427469</td>\n",
                            "    </tr>\n",
                            "    <tr>\n",
                            "      <th>30.0</th>\n",
                            "      <td>0.945309</td>\n",
                            "      <td>1.519319</td>\n",
                            "    </tr>\n",
                            "    <tr>\n",
                            "      <th>100.0</th>\n",
                            "      <td>0.918190</td>\n",
                            "      <td>1.460378</td>\n",
                            "    </tr>\n",
                            "  </tbody>\n",
                            "</table>\n",
                            "</div>"
                        ],
                        "text/plain": [
                            "                mae       mse\n",
                            "n_atomics                    \n",
                            "10.0       0.920387  1.427469\n",
                            "30.0       0.945309  1.519319\n",
                            "100.0      0.918190  1.460378"
                        ]
                    },
                    "metadata": {},
                    "output_type": "display_data"
                },
                {
                    "data": {
                        "text/html": [
                            "<div>\n",
                            "<style scoped>\n",
                            "    .dataframe tbody tr th:only-of-type {\n",
                            "        vertical-align: middle;\n",
                            "    }\n",
                            "\n",
                            "    .dataframe tbody tr th {\n",
                            "        vertical-align: top;\n",
                            "    }\n",
                            "\n",
                            "    .dataframe thead th {\n",
                            "        text-align: right;\n",
                            "    }\n",
                            "</style>\n",
                            "<table border=\"1\" class=\"dataframe\">\n",
                            "  <thead>\n",
                            "    <tr style=\"text-align: right;\">\n",
                            "      <th></th>\n",
                            "      <th>mae</th>\n",
                            "      <th>mse</th>\n",
                            "    </tr>\n",
                            "    <tr>\n",
                            "      <th>n_concepts</th>\n",
                            "      <th></th>\n",
                            "      <th></th>\n",
                            "    </tr>\n",
                            "  </thead>\n",
                            "  <tbody>\n",
                            "    <tr>\n",
                            "      <th>4</th>\n",
                            "      <td>0.904763</td>\n",
                            "      <td>1.413003</td>\n",
                            "    </tr>\n",
                            "    <tr>\n",
                            "      <th>20</th>\n",
                            "      <td>0.908834</td>\n",
                            "      <td>1.417645</td>\n",
                            "    </tr>\n",
                            "  </tbody>\n",
                            "</table>\n",
                            "</div>"
                        ],
                        "text/plain": [
                            "                 mae       mse\n",
                            "n_concepts                    \n",
                            "4           0.904763  1.413003\n",
                            "20          0.908834  1.417645"
                        ]
                    },
                    "metadata": {},
                    "output_type": "display_data"
                },
                {
                    "data": {
                        "text/html": [
                            "<div>\n",
                            "<style scoped>\n",
                            "    .dataframe tbody tr th:only-of-type {\n",
                            "        vertical-align: middle;\n",
                            "    }\n",
                            "\n",
                            "    .dataframe tbody tr th {\n",
                            "        vertical-align: top;\n",
                            "    }\n",
                            "\n",
                            "    .dataframe thead th {\n",
                            "        text-align: right;\n",
                            "    }\n",
                            "</style>\n",
                            "<table border=\"1\" class=\"dataframe\">\n",
                            "  <thead>\n",
                            "    <tr style=\"text-align: right;\">\n",
                            "      <th></th>\n",
                            "      <th>mae</th>\n",
                            "      <th>mse</th>\n",
                            "    </tr>\n",
                            "    <tr>\n",
                            "      <th>use_indicators</th>\n",
                            "      <th></th>\n",
                            "      <th></th>\n",
                            "    </tr>\n",
                            "  </thead>\n",
                            "  <tbody>\n",
                            "    <tr>\n",
                            "      <th>False</th>\n",
                            "      <td>0.882083</td>\n",
                            "      <td>1.322922</td>\n",
                            "    </tr>\n",
                            "    <tr>\n",
                            "      <th>True</th>\n",
                            "      <td>0.931514</td>\n",
                            "      <td>1.507726</td>\n",
                            "    </tr>\n",
                            "  </tbody>\n",
                            "</table>\n",
                            "</div>"
                        ],
                        "text/plain": [
                            "                     mae       mse\n",
                            "use_indicators                    \n",
                            "False           0.882083  1.322922\n",
                            "True            0.931514  1.507726"
                        ]
                    },
                    "metadata": {},
                    "output_type": "display_data"
                },
                {
                    "data": {
                        "text/html": [
                            "<div>\n",
                            "<style scoped>\n",
                            "    .dataframe tbody tr th:only-of-type {\n",
                            "        vertical-align: middle;\n",
                            "    }\n",
                            "\n",
                            "    .dataframe tbody tr th {\n",
                            "        vertical-align: top;\n",
                            "    }\n",
                            "\n",
                            "    .dataframe thead th {\n",
                            "        text-align: right;\n",
                            "    }\n",
                            "</style>\n",
                            "<table border=\"1\" class=\"dataframe\">\n",
                            "  <thead>\n",
                            "    <tr style=\"text-align: right;\">\n",
                            "      <th></th>\n",
                            "      <th>mae</th>\n",
                            "      <th>mse</th>\n",
                            "    </tr>\n",
                            "    <tr>\n",
                            "      <th>use_fixes</th>\n",
                            "      <th></th>\n",
                            "      <th></th>\n",
                            "    </tr>\n",
                            "  </thead>\n",
                            "  <tbody>\n",
                            "    <tr>\n",
                            "      <th>False</th>\n",
                            "      <td>0.892319</td>\n",
                            "      <td>1.378921</td>\n",
                            "    </tr>\n",
                            "    <tr>\n",
                            "      <th>True</th>\n",
                            "      <td>0.921279</td>\n",
                            "      <td>1.451727</td>\n",
                            "    </tr>\n",
                            "  </tbody>\n",
                            "</table>\n",
                            "</div>"
                        ],
                        "text/plain": [
                            "                mae       mse\n",
                            "use_fixes                    \n",
                            "False      0.892319  1.378921\n",
                            "True       0.921279  1.451727"
                        ]
                    },
                    "metadata": {},
                    "output_type": "display_data"
                },
                {
                    "data": {
                        "text/html": [
                            "<div>\n",
                            "<style scoped>\n",
                            "    .dataframe tbody tr th:only-of-type {\n",
                            "        vertical-align: middle;\n",
                            "    }\n",
                            "\n",
                            "    .dataframe tbody tr th {\n",
                            "        vertical-align: top;\n",
                            "    }\n",
                            "\n",
                            "    .dataframe thead th {\n",
                            "        text-align: right;\n",
                            "    }\n",
                            "</style>\n",
                            "<table border=\"1\" class=\"dataframe\">\n",
                            "  <thead>\n",
                            "    <tr style=\"text-align: right;\">\n",
                            "      <th></th>\n",
                            "      <th>mae</th>\n",
                            "      <th>mse</th>\n",
                            "    </tr>\n",
                            "    <tr>\n",
                            "      <th>use_summaries_for_atomics</th>\n",
                            "      <th></th>\n",
                            "      <th></th>\n",
                            "    </tr>\n",
                            "  </thead>\n",
                            "  <tbody>\n",
                            "    <tr>\n",
                            "      <th>False</th>\n",
                            "      <td>0.880697</td>\n",
                            "      <td>1.327004</td>\n",
                            "    </tr>\n",
                            "    <tr>\n",
                            "      <th>True</th>\n",
                            "      <td>0.975227</td>\n",
                            "      <td>1.611106</td>\n",
                            "    </tr>\n",
                            "  </tbody>\n",
                            "</table>\n",
                            "</div>"
                        ],
                        "text/plain": [
                            "                                mae       mse\n",
                            "use_summaries_for_atomics                    \n",
                            "False                      0.880697  1.327004\n",
                            "True                       0.975227  1.611106"
                        ]
                    },
                    "metadata": {},
                    "output_type": "display_data"
                },
                {
                    "data": {
                        "text/html": [
                            "<div>\n",
                            "<style scoped>\n",
                            "    .dataframe tbody tr th:only-of-type {\n",
                            "        vertical-align: middle;\n",
                            "    }\n",
                            "\n",
                            "    .dataframe tbody tr th {\n",
                            "        vertical-align: top;\n",
                            "    }\n",
                            "\n",
                            "    .dataframe thead th {\n",
                            "        text-align: right;\n",
                            "    }\n",
                            "</style>\n",
                            "<table border=\"1\" class=\"dataframe\">\n",
                            "  <thead>\n",
                            "    <tr style=\"text-align: right;\">\n",
                            "      <th></th>\n",
                            "      <th>mae</th>\n",
                            "      <th>mse</th>\n",
                            "    </tr>\n",
                            "    <tr>\n",
                            "      <th>use_only_last_timestep</th>\n",
                            "      <th></th>\n",
                            "      <th></th>\n",
                            "    </tr>\n",
                            "  </thead>\n",
                            "  <tbody>\n",
                            "    <tr>\n",
                            "      <th>False</th>\n",
                            "      <td>0.751296</td>\n",
                            "      <td>0.969896</td>\n",
                            "    </tr>\n",
                            "    <tr>\n",
                            "      <th>True</th>\n",
                            "      <td>0.935321</td>\n",
                            "      <td>1.538364</td>\n",
                            "    </tr>\n",
                            "  </tbody>\n",
                            "</table>\n",
                            "</div>"
                        ],
                        "text/plain": [
                            "                             mae       mse\n",
                            "use_only_last_timestep                    \n",
                            "False                   0.751296  0.969896\n",
                            "True                    0.935321  1.538364"
                        ]
                    },
                    "metadata": {},
                    "output_type": "display_data"
                },
                {
                    "data": {
                        "text/html": [
                            "<div>\n",
                            "<style scoped>\n",
                            "    .dataframe tbody tr th:only-of-type {\n",
                            "        vertical-align: middle;\n",
                            "    }\n",
                            "\n",
                            "    .dataframe tbody tr th {\n",
                            "        vertical-align: top;\n",
                            "    }\n",
                            "\n",
                            "    .dataframe thead th {\n",
                            "        text-align: right;\n",
                            "    }\n",
                            "</style>\n",
                            "<table border=\"1\" class=\"dataframe\">\n",
                            "  <thead>\n",
                            "    <tr style=\"text-align: right;\">\n",
                            "      <th></th>\n",
                            "      <th>mae</th>\n",
                            "      <th>mse</th>\n",
                            "    </tr>\n",
                            "    <tr>\n",
                            "      <th>type</th>\n",
                            "      <th></th>\n",
                            "      <th></th>\n",
                            "    </tr>\n",
                            "  </thead>\n",
                            "  <tbody>\n",
                            "    <tr>\n",
                            "      <th>atomics</th>\n",
                            "      <td>0.927962</td>\n",
                            "      <td>1.469055</td>\n",
                            "    </tr>\n",
                            "    <tr>\n",
                            "      <th>original</th>\n",
                            "      <td>0.843308</td>\n",
                            "      <td>1.254130</td>\n",
                            "    </tr>\n",
                            "  </tbody>\n",
                            "</table>\n",
                            "</div>"
                        ],
                        "text/plain": [
                            "               mae       mse\n",
                            "type                        \n",
                            "atomics   0.927962  1.469055\n",
                            "original  0.843308  1.254130"
                        ]
                    },
                    "metadata": {},
                    "output_type": "display_data"
                }
            ],
            "source": [
                "for key in set(list(all_config_permutations_og[0].keys()) + list(all_config_permutations_atomics[0].keys())):\n",
                "    display(result_df.groupby(key)[[\"mae\", \"mse\"]].mean())\n",
                "\n",
                "display(result_df.groupby(\"type\")[[\"mae\", \"mse\"]].mean())"
            ]
        },
        {
            "cell_type": "code",
            "execution_count": null,
            "metadata": {},
            "outputs": [],
            "source": [
                "# plot_mae_mse(history_re, \"Atomics cat Summaries\")\n",
                "# plot_atomics_concepts_metric(history_atomics, \"Atomics cat Summaries\")\n"
            ]
        },
        {
            "cell_type": "code",
            "execution_count": null,
            "metadata": {},
            "outputs": [],
            "source": [
                "# # Plot Prediction vs actual\n",
                "# train_loader, val_loader, test_loader, scaler = preprocess_data(series, seq_len, pred_len=pred_len)\n",
                "\n",
                "# mae_metric = MeanAbsoluteError().to(device)\n",
                "# mse_metric = MeanSquaredError().to(device)\n",
                "# n_concepts = 600\n",
                "\n",
                "# model = initializeModel_redesigned(n_concepts, input_dim, changing_dim, seq_len, output_dim=pred_len)\n",
                "# model.fit(train_loader, val_loader, None, save_model_path=model_path_re.format(n_concepts), max_epochs=10000)\n",
                "\n",
                "# model.eval()\n",
                "# with torch.no_grad():\n",
                "#     for batch_idx, (Xb, yb) in enumerate(val_loader):\n",
                "#         Xb, yb = Xb.to(device), yb.to(device)\n",
                "#         preds = model.forward(Xb)\n",
                "        \n",
                "#         mae = mae_metric(preds, yb).item()\n",
                "#         mse = mse_metric(preds, yb).item()\n",
                "#         break\n",
                "#     mae = mae_metric.compute().item()\n",
                "#     mse = mse_metric.compute().item()\n",
                "#     mae_metric.reset()\n",
                "#     mse_metric.reset()\n",
                "\n",
                "\n",
                "# i = 20\n",
                "# yb = yb.cpu().numpy()[i]\n",
                "# preds = preds.cpu().numpy()[i]\n",
                "\n",
                "# print(yb.shape)\n",
                "# print(preds.shape)\n",
                "\n",
                "# plot_prediction_vs_true(yb, preds, title=f\"Redesigned - Predictions with {n_concepts} Concepts\")\n"
            ]
        },
        {
            "cell_type": "markdown",
            "metadata": {},
            "source": [
                "## Input cat Summaries to Atomics"
            ]
        },
        {
            "cell_type": "code",
            "execution_count": null,
            "metadata": {},
            "outputs": [],
            "source": [
                "experiment_folder = f\"/workdir/optimal-summaries-public/_models/etth1/input-cat-summaries-L{seq_len}-T{pred_len}/\"\n",
                "model_path_re = experiment_folder + \"forecasting_c{}_a{}.pt\"\n",
                "\n",
                "if not os.path.exists(experiment_folder):\n",
                "    os.makedirs(experiment_folder)"
            ]
        },
        {
            "cell_type": "code",
            "execution_count": null,
            "metadata": {},
            "outputs": [],
            "source": [
                "history_atomics = []\n",
                "\n",
                "train_loader, val_loader, test_loader, scaler = preprocess_data(series, seq_len, pred_len=pred_len)\n",
                "\n",
                "mae_metric = MeanAbsoluteError().to(device)\n",
                "mse_metric = MeanSquaredError().to(device)\n",
                "\n",
                "\n",
                "for n_concepts in n_concepts_list:\n",
                "    for n_atomics in n_atomics_list:\n",
                "        print(\"n_atomics\", n_atomics, \"n_concepts\", n_concepts)\n",
                "        \n",
                "        model = initializeModel_with_atomics(n_atomics, n_concepts, input_dim, changing_dim, seq_len, output_dim=pred_len, use_summaries_for_atomics=True)\n",
                "        print(\"test\", model.output_dim)\n",
                "        model.fit(train_loader, val_loader, None, save_model_path=model_path_re.format(n_concepts, n_atomics), max_epochs=10000)\n",
                "        \n",
                "        print(\"Trained for \", model.curr_epoch+1)\n",
                "        display(model)\n",
                "        \n",
                "        model.eval()\n",
                "        with torch.no_grad():\n",
                "            for batch_idx, (Xb, yb) in enumerate(test_loader):\n",
                "                Xb, yb = Xb.to(device), yb.to(device)\n",
                "                preds = model.forward(Xb)\n",
                "                \n",
                "                mae = mae_metric(preds, yb).item()\n",
                "                mse = mse_metric(preds, yb).item()\n",
                "            mae = mae_metric.compute().item()\n",
                "            mse = mse_metric.compute().item()\n",
                "            mae_metric.reset()\n",
                "            mse_metric.reset()\n",
                "        \n",
                "        history = [n_atomics, n_concepts, round(model.val_losses[-1],2), mae, mse]\n",
                "        display(history)\n",
                "        history_atomics.append(np.array(history))\n",
                "    \n",
                "        plot_losses(model.train_losses, model.val_losses)\n",
                "        torch.cuda.empty_cache()\n",
                "    \n",
                "history_atomics = np.array(history_atomics)\n",
                "history_atomics.shape\n"
            ]
        },
        {
            "cell_type": "code",
            "execution_count": null,
            "metadata": {},
            "outputs": [],
            "source": [
                "# plot_mae_mse(history_re, \"Input cat Summaries\")\n",
                "plot_atomics_concepts_metric(history_atomics, \"Input cat Summaries\")\n"
            ]
        },
        {
            "cell_type": "code",
            "execution_count": null,
            "metadata": {},
            "outputs": [],
            "source": [
                "# Plot Prediction vs actual\n",
                "train_loader, val_loader, test_loader, scaler = preprocess_data(series, seq_len, pred_len=pred_len)\n",
                "\n",
                "mae_metric = MeanAbsoluteError().to(device)\n",
                "mse_metric = MeanSquaredError().to(device)\n",
                "\n",
                "n_concepts = 47\n",
                "n_atomics = 34\n",
                "\n",
                "model = initializeModel_with_atomics(n_atomics, n_concepts, input_dim, changing_dim, seq_len, output_dim=pred_len, use_summaries_for_atomics=True)\n",
                "scheduler = torch.optim.lr_scheduler.ReduceLROnPlateau(optimizer=model.optimizer, patience=5) \n",
                "\n",
                "model.fit(train_loader, val_loader, None, save_model_path=model_path_re.format(n_concepts, n_atomics), max_epochs=10000, scheduler=scheduler)\n",
                "\n",
                "\n",
                "model.eval()\n",
                "with torch.no_grad():\n",
                "    for batch_idx, (Xb, yb) in enumerate(val_loader):\n",
                "        Xb, yb = Xb.to(device), yb.to(device)\n",
                "        preds = model.forward(Xb)\n",
                "        \n",
                "        mae = mae_metric(preds, yb).item()\n",
                "        mse = mse_metric(preds, yb).item()\n",
                "    mae = mae_metric.compute().item()\n",
                "    mse = mse_metric.compute().item()\n",
                "    mae_metric.reset()\n",
                "    mse_metric.reset()\n",
                "\n",
                "    print(\"MSE\", mse, \"MAE\", mae)\n",
                "\n",
                "    for batch_idx, (Xb, yb) in enumerate(train_loader):\n",
                "        Xb, yb = Xb.to(device), yb.to(device)\n",
                "        preds = model(Xb)\n",
                "        break\n",
                "\n",
                "i = 20\n",
                "yb = yb.cpu().numpy()[i]\n",
                "preds = preds.cpu().numpy()[i]\n",
                "\n",
                "print(yb.shape)\n",
                "print(preds.shape)\n",
                "\n",
                "plot_prediction_vs_true(yb, preds, title=f\"Redesigned - Predictions with {n_concepts} Concepts\")\n"
            ]
        },
        {
            "cell_type": "code",
            "execution_count": null,
            "metadata": {},
            "outputs": [],
            "source": [
                "\n",
                "plt.plot(model.val_losses)\n",
                "plt.plot(model.train_losses, label=\"Train\")\n",
                "plt.legend()\n",
                "plt.show()"
            ]
        },
        {
            "cell_type": "code",
            "execution_count": null,
            "metadata": {},
            "outputs": [],
            "source": []
        },
        {
            "cell_type": "markdown",
            "metadata": {},
            "source": [
                "## Optimization"
            ]
        },
        {
            "cell_type": "code",
            "execution_count": null,
            "metadata": {},
            "outputs": [],
            "source": [
                "# feature weights\n",
                "n_concepts = 5\n",
                "\n",
                "model = initializeModel(n_concepts, input_dim, changing_dim, seq_len)\n",
                "model.fit(train_loader, val_loader, None, model_path.format(n_concepts), 1000)\n",
                "\n",
                "for name, param in model.named_parameters():\n",
                "    if \"bottleneck.weight\" in name:\n",
                "        bottleneck_weights = param\n",
                "feature_weights = bottleneck_weights.cpu().detach().numpy()\n",
                "\n",
                "feature_weights.shape"
            ]
        },
        {
            "cell_type": "code",
            "execution_count": null,
            "metadata": {},
            "outputs": [],
            "source": [
                "# visualize weight magnitudes\n",
                "for c in range(n_concepts):\n",
                "    fig = plt.figure()\n",
                "    ax = fig.add_subplot(111)\n",
                "    inds = np.argsort(-np.abs(feature_weights[c]))[:100]\n",
                "    ax.bar(np.arange(1,101),np.abs(feature_weights[c])[inds])\n",
                "    ax.set_xlabel(\"Top 100 features\")\n",
                "    ax.set_ylabel(\"abs value of feature coefficient\")\n",
                "    plt.show()\n"
            ]
        },
        {
            "cell_type": "code",
            "execution_count": null,
            "metadata": {},
            "outputs": [],
            "source": [
                "# get 90th percentile of feature weights\n",
                "sum90p = np.sum(np.abs(feature_weights), axis=-1)*0.90\n",
                "sum90p.shape\n"
            ]
        },
        {
            "cell_type": "code",
            "execution_count": null,
            "metadata": {},
            "outputs": [],
            "source": [
                "# get top K indizes\n",
                "top_k_inds = []\n",
                "for c in range(n_concepts):\n",
                "    topkinds_conc = []\n",
                "    curr_sum = 0\n",
                "    inds = np.argsort(-np.abs(feature_weights[c])) #desc\n",
                "    sorted_weights = feature_weights[c][inds]\n",
                "    \n",
                "    for ind, weight in zip(inds, sorted_weights):\n",
                "        curr_sum += abs(weight)\n",
                "        if curr_sum <= sum90p[c]:\n",
                "            topkinds_conc.append(ind)\n",
                "        else:\n",
                "            break\n",
                "    \n",
                "    # if selects less than 10, choose 10 best\n",
                "    if len(topkinds_conc) < 10:\n",
                "        topkinds_conc = np.argsort(-np.abs(feature_weights[c]))[:10].tolist()\n",
                "    \n",
                "    top_k_inds.append(topkinds_conc)\n",
                "\n",
                "top_k_inds"
            ]
        },
        {
            "cell_type": "code",
            "execution_count": null,
            "metadata": {},
            "outputs": [],
            "source": [
                "# write top k inds to csv\n",
                "filename = experiment_folder + \"top-k/top_k_inds_c{}.csv\".format(n_concepts)\n",
                "\n",
                "directory = os.path.dirname(filename)\n",
                "if not os.path.exists(directory):\n",
                "    os.makedirs(directory)\n",
                "\n",
                "# writing to csv file \n",
                "with open(filename, 'w') as csvfile: \n",
                "    # creating a csv writer object \n",
                "    csvwriter = csv.writer(csvfile)\n",
                "    # writing the data rows \n",
                "    csvwriter.writerows(top_k_inds)\n"
            ]
        },
        {
            "cell_type": "code",
            "execution_count": null,
            "metadata": {},
            "outputs": [],
            "source": [
                "best_aucs, best_auc_inds, best_auc_concepts = greedy_selection(auroc_metric, test_loader, top_k_inds, model)\n"
            ]
        },
        {
            "cell_type": "code",
            "execution_count": null,
            "metadata": {},
            "outputs": [],
            "source": [
                "filename = experiment_folder + \"top-k/bottleneck_r{}_c{}_topkinds.csv\".format(random_seed, n_concepts)\n",
                "\n",
                "# writing to csv file\n",
                "with open(filename, 'w') as csvfile: \n",
                "    # creating a csv writer object \n",
                "    csvwriter = csv.writer(csvfile)\n",
                "    csvwriter.writerow([\"Best AUC\", \"Best AUC Concept #\", \"Best AUC ind #\"])\n",
                "    # writing the data rows \n",
                "    for row in zip(best_aucs, best_auc_concepts, best_auc_inds):\n",
                "        csvwriter.writerow(list(row))\n"
            ]
        },
        {
            "cell_type": "markdown",
            "metadata": {},
            "source": [
                "## Multi-class"
            ]
        },
        {
            "cell_type": "code",
            "execution_count": null,
            "metadata": {},
            "outputs": [],
            "source": [
                "experiment_folder = \"/workdir/optimal-summaries-public/_models/arabic/multiclass/\"\n",
                "model_path = experiment_folder + \"arabic_c{}.pt\"\n",
                "random_seed = 1\n",
                "\n",
                "if not os.path.exists(experiment_folder):\n",
                "    os.makedirs(experiment_folder)"
            ]
        },
        {
            "cell_type": "code",
            "execution_count": null,
            "metadata": {},
            "outputs": [],
            "source": [
                "history_multiclass = []\n",
                "\n",
                "set_seed(random_seed)\n",
                "\n",
                "data, y_ohe, num_classes, weights = preprocess_data_multiclass(X, y)\n",
                "train_loader, val_loader, test_loader = initialize_data(1, data, y_ohe, multiclass=True)\n",
                "\n",
                "input_dim = data.shape[2]\n",
                "changing_dim = X[0].shape[0]\n",
                "seq_len = data.shape[1]\n",
                "\n",
                "auroc_metric = AUROC(task=\"multiclass\", num_classes=num_classes).to(device)\n",
                "accuracy_metric = Accuracy(task=\"multiclass\", num_classes=num_classes).to(device)\n",
                "\n",
                "for n_concepts in range(1,16):\n",
                "    print(n_concepts)\n",
                "    \n",
                "    model = initializeModel(n_concepts, input_dim, changing_dim, seq_len, num_classes)\n",
                "    model.fit(train_loader, val_loader, weights, model_path.format(n_concepts), 1000)\n",
                "    \n",
                "    for batch_idx, (Xb, yb) in enumerate(test_loader):\n",
                "        Xb, yb = Xb.to(device), yb.to(device)\n",
                "        probs = model.forward_probabilities(Xb)\n",
                "        \n",
                "        auc = auroc_metric(probs, yb).item()\n",
                "        acc = accuracy_metric(probs, yb).item()\n",
                "    auc = auroc_metric.compute().item()\n",
                "    acc = accuracy_metric.compute().item()\n",
                "    auroc_metric.reset()\n",
                "    accuracy_metric.reset()\n",
                "    \n",
                "    history = [n_concepts, model.val_losses[-1], auc, acc]\n",
                "    history_multiclass.append(np.array(history))\n",
                "history_multiclass = np.array(history_multiclass)\n",
                "history_multiclass.shape\n"
            ]
        },
        {
            "cell_type": "code",
            "execution_count": null,
            "metadata": {},
            "outputs": [],
            "source": [
                "# plot\n",
                "plt.plot(history_multiclass[:, 0], history_multiclass[:, 2], label='AUC')\n",
                "plt.plot(history_multiclass[:, 0], history_multiclass[:, 3], label='ACC')\n",
                "\n",
                "plt.xlabel('Num Concepts')\n",
                "plt.ylabel('Criteria')\n",
                "plt.title('Plot of Concepts vs Criteria')\n",
                "plt.xticks(np.arange(min(history_multiclass[:, 0]), max(history_multiclass[:, 0])+1, 1))\n",
                "\n",
                "for x,_y in zip(history_multiclass[:, 0], history_multiclass[:, 2]):\n",
                "    label = \"{:.2f}\".format(_y)\n",
                "    plt.annotate(label, # this is the text\n",
                "                 (x,_y), # these are the coordinates to position the label\n",
                "                 textcoords=\"offset points\", # how to position the text\n",
                "                 xytext=(0,10), # distance from text to points (x,y)\n",
                "                 ha='center') # horizontal alignment can be left, right or center\n",
                "    \n",
                "for x,_y in zip(history_multiclass[:, 0], history_multiclass[:, 3]):\n",
                "    label = \"{:.2f}\".format(_y)\n",
                "    plt.annotate(label, # this is the text\n",
                "                 (x,_y), # these are the coordinates to position the label\n",
                "                 textcoords=\"offset points\", # how to position the text\n",
                "                 xytext=(0,-10), # distance from text to points (x,y)\n",
                "                 ha='center') # horizontal alignment can be left, right or center\n",
                "\n",
                "plt.legend()\n",
                "plt.show()\n"
            ]
        },
        {
            "cell_type": "code",
            "execution_count": null,
            "metadata": {},
            "outputs": [],
            "source": [
                "# feature weights\n",
                "n_concepts = 5\n",
                "\n",
                "model = initializeModel(n_concepts, input_dim, changing_dim, seq_len, num_classes)\n",
                "model.fit(train_loader, val_loader, weights, model_path.format(n_concepts), 1000)\n",
                "\n",
                "for name, param in model.named_parameters():\n",
                "    if \"bottleneck.weight\" in name:\n",
                "        bottleneck_weights = param\n",
                "feature_weights = bottleneck_weights.cpu().detach().numpy()\n",
                "\n",
                "feature_weights.shape"
            ]
        },
        {
            "cell_type": "code",
            "execution_count": null,
            "metadata": {},
            "outputs": [],
            "source": [
                "# visualize weight magnitudes\n",
                "for c in range(n_concepts):\n",
                "    fig = plt.figure()\n",
                "    ax = fig.add_subplot(111)\n",
                "    inds = np.argsort(-np.abs(feature_weights[c]))[:100]\n",
                "    ax.bar(np.arange(1,101),np.abs(feature_weights[c])[inds])\n",
                "    ax.set_xlabel(\"Top 100 features\")\n",
                "    ax.set_ylabel(\"abs value of feature coefficient\")\n",
                "    plt.show()\n"
            ]
        },
        {
            "cell_type": "code",
            "execution_count": null,
            "metadata": {},
            "outputs": [],
            "source": [
                "# get 90th percentile of feature weights\n",
                "sum90p = np.sum(np.abs(feature_weights), axis=-1)*0.90\n",
                "sum90p.shape\n"
            ]
        },
        {
            "cell_type": "code",
            "execution_count": null,
            "metadata": {},
            "outputs": [],
            "source": [
                "# get top K indizes\n",
                "top_k_inds = []\n",
                "for c in range(n_concepts):\n",
                "    topkinds_conc = []\n",
                "    curr_sum = 0\n",
                "    inds = np.argsort(-np.abs(feature_weights[c])) #desc\n",
                "    sorted_weights = feature_weights[c][inds]\n",
                "    \n",
                "    for ind, weight in zip(inds, sorted_weights):\n",
                "        curr_sum += abs(weight)\n",
                "        if curr_sum <= sum90p[c]:\n",
                "            topkinds_conc.append(ind)\n",
                "        else:\n",
                "            break\n",
                "    \n",
                "    # if selects less than 10, choose 10 best\n",
                "    if len(topkinds_conc) < 10:\n",
                "        topkinds_conc = np.argsort(-np.abs(feature_weights[c]))[:10].tolist()\n",
                "    \n",
                "    top_k_inds.append(topkinds_conc)\n",
                "\n",
                "top_k_inds"
            ]
        },
        {
            "cell_type": "code",
            "execution_count": null,
            "metadata": {},
            "outputs": [],
            "source": [
                "# write top k inds to csv\n",
                "filename = experiment_folder + \"top-k/top_k_inds_c{}.csv\".format(n_concepts)\n",
                "\n",
                "directory = os.path.dirname(filename)\n",
                "if not os.path.exists(directory):\n",
                "    os.makedirs(directory)\n",
                "\n",
                "# writing to csv file \n",
                "with open(filename, 'w') as csvfile: \n",
                "    # creating a csv writer object \n",
                "    csvwriter = csv.writer(csvfile)\n",
                "    # writing the data rows \n",
                "    csvwriter.writerows(top_k_inds)\n"
            ]
        },
        {
            "cell_type": "code",
            "execution_count": null,
            "metadata": {},
            "outputs": [],
            "source": [
                "data_cols = [i for i in range(1,14)] + [str(i) + \"_ind\" for i in range(1,14)]\n",
                "\n",
                "for c, _list in enumerate(top_k_inds):\n",
                "    for ind in _list:\n",
                "        name, summary = getConcept(data_cols, input_dim, changing_dim, int(ind))\n",
                "        print(f\"Concept {c}: ID {ind}, Feature {name}, Summary {summary}\")\n"
            ]
        },
        {
            "cell_type": "code",
            "execution_count": null,
            "metadata": {},
            "outputs": [],
            "source": [
                "greedy_results = greedy_selection(auroc_metric, test_loader, top_k_inds, model, track_metrics={\"acc\": accuracy_metric})\n",
                "greedy_results.head()"
            ]
        },
        {
            "cell_type": "code",
            "execution_count": null,
            "metadata": {},
            "outputs": [],
            "source": [
                "top_k_csv_file = experiment_folder + \"top-k/bottleneck_r{}_c{}_topkinds.csv\".format(random_seed, n_concepts)\n",
                "\n",
                "# writing to csv file\n",
                "with open(top_k_csv_file, 'w') as csvfile: \n",
                "    # creating a csv writer object \n",
                "    csvwriter = csv.writer(csvfile)\n",
                "    csvwriter.writerow(greedy_results.columns)\n",
                "    # writing the data rows \n",
                "    for row in greedy_results.itertuples(index=False):\n",
                "        csvwriter.writerow(list(row))\n"
            ]
        },
        {
            "cell_type": "code",
            "execution_count": null,
            "metadata": {},
            "outputs": [],
            "source": [
                "data_cols = [i for i in range(1,14)] + [str(i) + \"_ind\" for i in range(1,14)]\n",
                "\n",
                "sorted_ = greedy_results.sort_values([\"Concept\", \"ID\"])\n",
                "\n",
                "for row in sorted_.itertuples(index=False):\n",
                "    name, summary = getConcept(data_cols, input_dim, changing_dim, row[1])\n",
                "    print(f\"Concept {row[2]}: ID {row[1]}, Feature {name}, Summary {summary}\")"
            ]
        },
        {
            "cell_type": "code",
            "execution_count": null,
            "metadata": {},
            "outputs": [],
            "source": [
                "plt.plot(greedy_results[\"Score\"])\n",
                "plt.plot(greedy_results[\"acc\"])\n",
                "plt.show()"
            ]
        },
        {
            "cell_type": "code",
            "execution_count": null,
            "metadata": {},
            "outputs": [],
            "source": [
                "top_k_csv_file = \"/workdir/optimal-summaries-public/_models/arabic/multiclass/top-k/bottleneck_r1_c6_topkinds.csv\"\n",
                "n_concepts = 6\n",
                "model = initializeModel(n_concepts, input_dim, changing_dim, seq_len, num_classes, top_k=top_k_csv_file)\n",
                "# model.fit(train_loader, val_loader, weights, model_path.format(n_concepts), 1000)\n",
                "\n",
                "model.eval()\n",
                "with torch.no_grad():\n",
                "    for batch_idx, (Xb, yb) in enumerate(test_loader):\n",
                "        Xb, yb = Xb.to(device), yb.to(device)\n",
                "        probs = model.forward_probabilities(Xb)\n",
                "        \n",
                "        auc = auroc_metric(probs, yb).item()\n",
                "        acc = accuracy_metric(probs, yb).item()\n",
                "    auc = auroc_metric.compute().item()\n",
                "    acc = accuracy_metric.compute().item()\n",
                "    auroc_metric.reset()\n",
                "    accuracy_metric.reset()\n",
                "\n",
                "print(auc)\n",
                "print(acc)\n"
            ]
        },
        {
            "cell_type": "code",
            "execution_count": null,
            "metadata": {},
            "outputs": [],
            "source": [
                "model.fit(train_loader, val_loader, weights, save_model_path=\"/workdir/optimal-summaries-public/_models/arabic/multiclass/top-k/arabic_c6_finetuned.pt\", epochs=3000)\n",
                "\n",
                "model.eval()\n",
                "with torch.no_grad():\n",
                "    for batch_idx, (Xb, yb) in enumerate(test_loader):\n",
                "        Xb, yb = Xb.to(device), yb.to(device)\n",
                "        probs = model.forward_probabilities(Xb)\n",
                "        \n",
                "        auc = auroc_metric(probs, yb)\n",
                "        acc = accuracy_metric(probs, yb)\n",
                "    auc = auroc_metric.compute().item()\n",
                "    acc = accuracy_metric.compute().item()\n",
                "    auroc_metric.reset()\n",
                "    accuracy_metric.reset()\n",
                "    \n",
                "print(auc)\n",
                "print(acc)\n"
            ]
        }
    ],
    "metadata": {
        "kernelspec": {
            "display_name": "base",
            "language": "python",
            "name": "python3"
        },
        "language_info": {
            "codemirror_mode": {
                "name": "ipython",
                "version": 3
            },
            "file_extension": ".py",
            "mimetype": "text/x-python",
            "name": "python",
            "nbconvert_exporter": "python",
            "pygments_lexer": "ipython3",
            "version": "3.10.12"
        }
    },
    "nbformat": 4,
    "nbformat_minor": 2
}
