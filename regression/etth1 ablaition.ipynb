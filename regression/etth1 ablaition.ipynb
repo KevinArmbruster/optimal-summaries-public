{
    "cells": [
        {
            "cell_type": "code",
            "execution_count": 1,
            "metadata": {},
            "outputs": [
                {
                    "name": "stdout",
                    "output_type": "stream",
                    "text": [
                        "current device cuda:7\n"
                    ]
                }
            ],
            "source": [
                "%load_ext autoreload\n",
                "%autoreload 2\n",
                "\n",
                "import sys\n",
                "sys.path.append('..')\n",
                "from darts.datasets import ETTh1Dataset\n",
                "from darts.models import NLinearModel\n",
                "from darts.metrics.metrics import mae, mse\n",
                "import numpy as np\n",
                "import pandas as pd\n",
                "import random\n",
                "import csv\n",
                "import os, subprocess, gc, time, datetime\n",
                "from sklearn.model_selection import train_test_split\n",
                "from sklearn.utils.class_weight import compute_class_weight\n",
                "import matplotlib.pyplot as plt\n",
                "import torch\n",
                "from torch.utils.data import Dataset, DataLoader\n",
                "from torch.optim.lr_scheduler import LambdaLR\n",
                "from torchmetrics.regression import MeanAbsoluteError, MeanSquaredError\n",
                "from sklearn.preprocessing import StandardScaler, MinMaxScaler, RobustScaler\n",
                "from itertools import product\n",
                "\n",
                "import optuna\n",
                "from optuna.trial import TrialState\n",
                "from optuna.visualization import plot_optimization_history, plot_param_importances, plot_timeline\n",
                "\n",
                "import models.original_models as original_models\n",
                "import models.models_3d_atomics_on_variate_to_concepts as new_models\n",
                "from vasopressor.preprocess_helpers import *\n",
                "from models.helper import *\n",
                "from models.param_initializations import *\n",
                "from models.optimization_strategy import greedy_forward_selection\n",
                "from models.TimeSeriesDataset import TimeSeriesDataset\n",
                "\n",
                "gpu_id = int(subprocess.check_output('nvidia-smi --query-gpu=memory.free --format=csv,nounits,noheader | nl -v 0 | sort -nrk 2 | cut -f 1 | head -n 1 | xargs', shell=True, text=True))\n",
                "device = torch.device(f'cuda:{gpu_id}') if torch.cuda.is_available else torch.device('cpu')\n",
                "print(\"current device\", device)"
            ]
        },
        {
            "cell_type": "code",
            "execution_count": 2,
            "metadata": {},
            "outputs": [
                {
                    "name": "stdout",
                    "output_type": "stream",
                    "text": [
                        "2016-07-01 00:00:00\n",
                        "2018-06-26 19:00:00\n"
                    ]
                }
            ],
            "source": [
                "series = ETTh1Dataset().load()\n",
                "\n",
                "print(series.start_time())\n",
                "print(series.end_time())\n",
                "\n",
                "# series.plot()"
            ]
        },
        {
            "cell_type": "code",
            "execution_count": 3,
            "metadata": {},
            "outputs": [],
            "source": [
                "train_series, test_series = series.split_before(0.6)\n",
                "val_series, test_series = test_series.split_before(0.5)\n"
            ]
        },
        {
            "cell_type": "code",
            "execution_count": 4,
            "metadata": {},
            "outputs": [],
            "source": [
                "def preprocess_data(series, seq_len, window_stride=1, pred_len=1, batch_size = 512):\n",
                "    scaler = StandardScaler()\n",
                "    \n",
                "    train, test = series.split_before(0.6)\n",
                "    val, test = test.split_before(0.5)\n",
                "    \n",
                "    print(\"Train/Val/Test\", len(train), len(val), len(test))\n",
                "    \n",
                "    train_og = train.pd_dataframe()\n",
                "    train = scaler.fit_transform(train_og)\n",
                "    train = pd.DataFrame(train, columns=train_og.columns)\n",
                "    X_train = train\n",
                "    y_train = train[[\"OT\"]]\n",
                "    X_train = torch.tensor(X_train.to_numpy(), dtype=torch.float32)\n",
                "    y_train = torch.tensor(y_train.to_numpy(), dtype=torch.float32)\n",
                "    \n",
                "    indicators = torch.isfinite(X_train)\n",
                "    X_train = torch.cat([X_train, indicators], axis=1)\n",
                "    \n",
                "    train_dataset = TimeSeriesDataset(X_train, y_train, seq_len, window_stride, pred_len)\n",
                "    train_loader = DataLoader(train_dataset, batch_size = batch_size, shuffle=False, num_workers=4, pin_memory=True)\n",
                "\n",
                "    val_og = val.pd_dataframe()\n",
                "    val = scaler.transform(val_og)\n",
                "    val = pd.DataFrame(val, columns=val_og.columns)\n",
                "    X_val = val\n",
                "    y_val = val[[\"OT\"]]\n",
                "    X_val = torch.tensor(X_val.to_numpy(), dtype=torch.float32)\n",
                "    y_val = torch.tensor(y_val.to_numpy(), dtype=torch.float32)\n",
                "    \n",
                "    indicators = torch.isfinite(X_val)\n",
                "    X_val = torch.cat([X_val, indicators], axis=1)\n",
                "    \n",
                "    val_dataset = TimeSeriesDataset(X_val, y_val, seq_len, window_stride, pred_len)\n",
                "    val_loader = DataLoader(val_dataset, batch_size = batch_size, shuffle=False, num_workers=4, pin_memory=True)\n",
                "\n",
                "    test_og = test.pd_dataframe()\n",
                "    test = scaler.transform(test_og)\n",
                "    test = pd.DataFrame(test, columns=test_og.columns)\n",
                "    X_test = test\n",
                "    y_test = test[[\"OT\"]]\n",
                "    X_test = torch.tensor(X_test.to_numpy(), dtype=torch.float32)\n",
                "    y_test = torch.tensor(y_test.to_numpy(), dtype=torch.float32)\n",
                "    \n",
                "    indicators = torch.isfinite(X_test)\n",
                "    X_test = torch.cat([X_test, indicators], axis=1)\n",
                "    \n",
                "    test_dataset = TimeSeriesDataset(X_test, y_test, seq_len, window_stride, pred_len)\n",
                "    test_loader = DataLoader(test_dataset, batch_size = batch_size, shuffle=False, num_workers=4, pin_memory=True)\n",
                "    \n",
                "    return train_loader, val_loader, test_loader, scaler\n"
            ]
        },
        {
            "cell_type": "code",
            "execution_count": 5,
            "metadata": {},
            "outputs": [
                {
                    "name": "stdout",
                    "output_type": "stream",
                    "text": [
                        "Train/Val/Test 10451 3484 3485\n",
                        "torch.Size([512, 10, 14])\n",
                        "torch.Size([512, 24])\n",
                        "Batches 21 7 7\n"
                    ]
                }
            ],
            "source": [
                "seq_len = 10\n",
                "train_loader, val_loader, test_loader, scaler = preprocess_data(series, seq_len, pred_len=24)\n",
                "\n",
                "for X,y in train_loader:\n",
                "    print(X.shape)\n",
                "    print(y.shape)\n",
                "    break\n",
                "\n",
                "print(\"Batches\", len(train_loader), len(val_loader), len(test_loader))"
            ]
        },
        {
            "cell_type": "code",
            "execution_count": 6,
            "metadata": {},
            "outputs": [],
            "source": [
                "# plots\n",
                "def plot_losses(train_losses, val_losses):\n",
                "    plt.plot(train_losses, color=\"black\", label=\"Train\")\n",
                "    plt.plot(val_losses, color=\"green\", label=\"Val\")\n",
                "    plt.legend()\n",
                "    plt.show()\n",
                "\n",
                "def plot_mae_mse(history, title, dec=\"{:.3g}\"):\n",
                "    xticks = range(len(history[:, 0]))\n",
                "    plt.plot(xticks, history[:, 2], label='MAE')\n",
                "    plt.plot(xticks, history[:, 3], label='MSE')\n",
                "\n",
                "    plt.xlabel('Num Concepts')\n",
                "    plt.ylabel('Criteria')\n",
                "    # plt.ylim(0, 1)\n",
                "    xtick_labels = list(map(int, history[:, 0]))\n",
                "    plt.xticks(xticks, xtick_labels)\n",
                "    plt.yscale('log')\n",
                "\n",
                "    if dec:\n",
                "        for x,_y in zip(xticks, history[:, 2]):\n",
                "            label = dec.format(_y)\n",
                "            plt.annotate(label, # this is the text\n",
                "                        (x,_y), # these are the coordinates to position the label\n",
                "                        textcoords=\"offset points\", # how to position the text\n",
                "                        xytext=(0,-10), # distance from text to points (x,y)\n",
                "                        ha='center') # horizontal alignment can be left, right or center\n",
                "            \n",
                "        for x,_y in zip(xticks, history[:, 3]):\n",
                "            label = dec.format(_y)\n",
                "            plt.annotate(label, # this is the text\n",
                "                        (x,_y), # these are the coordinates to position the label\n",
                "                        textcoords=\"offset points\", # how to position the text\n",
                "                        xytext=(0,-10), # distance from text to points (x,y)\n",
                "                        ha='center') # horizontal alignment can be left, right or center\n",
                "\n",
                "    plt.title(title)\n",
                "    plt.legend()\n",
                "    plt.show()\n",
                "\n",
                "\n",
                "def plot_atomics_concepts_metric(history, title, dec=\"{:.3g}\"):\n",
                "        \n",
                "    df = pd.DataFrame(history, columns=[\"n_atomics\", \"n_concepts\", \"val_loss\", \"mae\", \"mse\"])\n",
                "    mean_atomics = df.groupby(\"n_atomics\").mean()\n",
                "    mean_concepts = df.groupby(\"n_concepts\").mean()\n",
                "\n",
                "    # display(mean_atomics)\n",
                "    plt.plot(mean_atomics.index, mean_atomics[\"mae\"], label='MAE')\n",
                "    plt.plot(mean_atomics.index, mean_atomics[\"mse\"], label='MSE')\n",
                "    plt.xlabel('Num Atomics')\n",
                "    plt.ylabel('Criteria')\n",
                "    plt.title(\"Metric as mean over atomics\")\n",
                "    plt.suptitle(title)\n",
                "    plt.legend()\n",
                "    plt.show()\n",
                "\n",
                "    # display(mean_concepts)\n",
                "    plt.plot(mean_concepts.index, mean_concepts[\"mae\"], label='MAE')\n",
                "    plt.plot(mean_concepts.index, mean_concepts[\"mse\"], label='MSE')\n",
                "    plt.xlabel('Num Concepts')\n",
                "    plt.ylabel('Criteria')\n",
                "    plt.title(\"Metric as mean over concepts\")\n",
                "    plt.suptitle(title)\n",
                "    plt.legend()\n",
                "    plt.show()\n",
                "    \n",
                "\n",
                "def plot_prediction_vs_true(yb, preds, title):\n",
                "    plt.plot(yb, color=\"black\", label=\"True\")\n",
                "    plt.plot(preds, color=\"red\", label=\"Pred\")\n",
                "    plt.title(title)\n",
                "    plt.legend()\n",
                "    plt.show()\n"
            ]
        },
        {
            "cell_type": "code",
            "execution_count": 7,
            "metadata": {},
            "outputs": [],
            "source": [
                "def initializeModel(n_concepts, input_dim, changing_dim, seq_len, output_dim, \n",
                "                    use_indicators, use_fixes, use_only_last_timestep, top_k=''):\n",
                "    model = original_models.CBM(input_dim = input_dim, \n",
                "                                changing_dim = changing_dim, \n",
                "                                seq_len = seq_len,\n",
                "                                num_concepts = n_concepts,\n",
                "                                use_indicators = use_indicators,\n",
                "                                use_fixes = use_fixes,\n",
                "                                use_only_last_timestep = use_only_last_timestep,\n",
                "                                use_grad_norm=False,\n",
                "                                opt_lr = 1e-3,\n",
                "                                opt_weight_decay = 1e-5,\n",
                "                                l1_lambda=1e-3,\n",
                "                                cos_sim_lambda=1e-2,\n",
                "                                output_dim = output_dim,\n",
                "                                top_k=top_k,\n",
                "                                device = device,\n",
                "                                task_type=original_models.TaskType.REGRESSION,\n",
                "                                )\n",
                "    model = model.to(device)\n",
                "    return model\n",
                "\n",
                "def initializeModel_with_atomics(n_atomics, n_concepts, input_dim, changing_dim, seq_len, output_dim, \n",
                "                                 use_summaries_for_atomics, use_indicators, use_fixes, top_k=''):\n",
                "    model = new_models.CBM(input_dim = input_dim, \n",
                "                            changing_dim = changing_dim, \n",
                "                            seq_len = seq_len,\n",
                "                            num_concepts = n_concepts,\n",
                "                            num_atomics= n_atomics,\n",
                "                            use_summaries_for_atomics = use_summaries_for_atomics,\n",
                "                            use_indicators = use_indicators,\n",
                "                            use_fixes = use_fixes,\n",
                "                            use_grad_norm=False,\n",
                "                            opt_lr = 1e-3,\n",
                "                            opt_weight_decay = 1e-5,\n",
                "                            l1_lambda=1e-3,\n",
                "                            cos_sim_lambda=1e-2,\n",
                "                            output_dim = output_dim,\n",
                "                            top_k=top_k,\n",
                "                            device = device,\n",
                "                            task_type=new_models.TaskType.REGRESSION,\n",
                "                            )\n",
                "    model = model.to(device)\n",
                "    return model\n"
            ]
        },
        {
            "cell_type": "code",
            "execution_count": 8,
            "metadata": {},
            "outputs": [],
            "source": [
                "random_seed = 1\n",
                "set_seed(random_seed)\n"
            ]
        },
        {
            "cell_type": "code",
            "execution_count": 9,
            "metadata": {},
            "outputs": [],
            "source": [
                "seq_len = 336\n",
                "pred_len = 96\n",
                "n_atomics_list = list(range(2,11,2))\n",
                "n_concepts_list = list(range(2,11,2))\n",
                "changing_dim = len(series.columns)\n",
                "input_dim = 2 * changing_dim\n"
            ]
        },
        {
            "cell_type": "code",
            "execution_count": 10,
            "metadata": {},
            "outputs": [],
            "source": [
                "mae_metric = MeanAbsoluteError().to(device)\n",
                "mse_metric = MeanSquaredError().to(device)\n"
            ]
        },
        {
            "cell_type": "markdown",
            "metadata": {},
            "source": [
                "## Original"
            ]
        },
        {
            "cell_type": "code",
            "execution_count": 11,
            "metadata": {},
            "outputs": [
                {
                    "name": "stdout",
                    "output_type": "stream",
                    "text": [
                        "24\n"
                    ]
                }
            ],
            "source": [
                "config_original = {\n",
                "    \"n_concepts\": [4, 20, 500],\n",
                "    \"use_indicators\": [True, False],\n",
                "    \"use_fixes\": [False, True],\n",
                "    \"use_only_last_timestep\": [True, False],\n",
                "}\n",
                "\n",
                "all_config_permutations_og = list(product(*config_original.values()))\n",
                "all_config_permutations_og = [dict(zip(config_original.keys(), permutation)) for permutation in all_config_permutations_og]\n",
                "print(len(all_config_permutations_og))\n",
                "# all_config_permutations_og"
            ]
        },
        {
            "cell_type": "code",
            "execution_count": 12,
            "metadata": {},
            "outputs": [],
            "source": [
                "experiment_folder = f\"/workdir/optimal-summaries-public/_models/etth1/multistep/ablaition-L{seq_len}-T{pred_len}/\"\n",
                "model_path_og = experiment_folder + \"forecasting_c{n_concepts}_ind{use_indicators}_fixes{use_fixes}_onlylasttimestep{use_only_last_timestep}.pt\"\n",
                "\n",
                "if not os.path.exists(experiment_folder):\n",
                "    os.makedirs(experiment_folder)"
            ]
        },
        {
            "cell_type": "code",
            "execution_count": 13,
            "metadata": {},
            "outputs": [
                {
                    "name": "stdout",
                    "output_type": "stream",
                    "text": [
                        "Train/Val/Test 10451 3484 3485\n",
                        "0 {'n_concepts': 4, 'use_indicators': True, 'use_fixes': False, 'use_only_last_timestep': True}\n"
                    ]
                },
                {
                    "name": "stderr",
                    "output_type": "stream",
                    "text": [
                        "/usr/local/lib/python3.10/dist-packages/torch/nn/modules/lazy.py:180: UserWarning: Lazy modules are a new feature under heavy development so changes to the API or functionality can happen at any moment.\n",
                        "  warnings.warn('Lazy modules are a new feature under heavy development '\n"
                    ]
                },
                {
                    "name": "stdout",
                    "output_type": "stream",
                    "text": [
                        "Loaded model from /workdir/optimal-summaries-public/_models/etth1/multistep/ablaition-L336-T96/forecasting_c4_indTrue_fixesFalse_onlylasttimestepTrue.pt\n"
                    ]
                },
                {
                    "data": {
                        "text/plain": [
                            "['original', 0, 1.237226128578186, 0.7942625880241394, 0.7749140858650208]"
                        ]
                    },
                    "metadata": {},
                    "output_type": "display_data"
                },
                {
                    "name": "stdout",
                    "output_type": "stream",
                    "text": [
                        "1 {'n_concepts': 4, 'use_indicators': True, 'use_fixes': False, 'use_only_last_timestep': False}\n",
                        "Loaded model from /workdir/optimal-summaries-public/_models/etth1/multistep/ablaition-L336-T96/forecasting_c4_indTrue_fixesFalse_onlylasttimestepFalse.pt\n"
                    ]
                },
                {
                    "data": {
                        "text/plain": [
                            "['original', 1, 1.1339589357376099, 0.675583004951477, 0.6150252223014832]"
                        ]
                    },
                    "metadata": {},
                    "output_type": "display_data"
                },
                {
                    "name": "stdout",
                    "output_type": "stream",
                    "text": [
                        "2 {'n_concepts': 4, 'use_indicators': True, 'use_fixes': True, 'use_only_last_timestep': True}\n",
                        "Loaded model from /workdir/optimal-summaries-public/_models/etth1/multistep/ablaition-L336-T96/forecasting_c4_indTrue_fixesTrue_onlylasttimestepTrue.pt\n"
                    ]
                },
                {
                    "data": {
                        "text/plain": [
                            "['original', 2, 1.7109907865524292, 0.9969124794006348, 1.1450140476226807]"
                        ]
                    },
                    "metadata": {},
                    "output_type": "display_data"
                },
                {
                    "name": "stdout",
                    "output_type": "stream",
                    "text": [
                        "3 {'n_concepts': 4, 'use_indicators': True, 'use_fixes': True, 'use_only_last_timestep': False}\n",
                        "Loaded model from /workdir/optimal-summaries-public/_models/etth1/multistep/ablaition-L336-T96/forecasting_c4_indTrue_fixesTrue_onlylasttimestepFalse.pt\n"
                    ]
                },
                {
                    "data": {
                        "text/plain": [
                            "['original', 3, 0.5962717533111572, 0.42243075370788574, 0.28313907980918884]"
                        ]
                    },
                    "metadata": {},
                    "output_type": "display_data"
                },
                {
                    "name": "stdout",
                    "output_type": "stream",
                    "text": [
                        "4 {'n_concepts': 4, 'use_indicators': False, 'use_fixes': False, 'use_only_last_timestep': True}\n",
                        "Loaded model from /workdir/optimal-summaries-public/_models/etth1/multistep/ablaition-L336-T96/forecasting_c4_indFalse_fixesFalse_onlylasttimestepTrue.pt\n"
                    ]
                },
                {
                    "data": {
                        "text/plain": [
                            "['original', 4, 1.044541597366333, 0.6918735504150391, 0.6161744594573975]"
                        ]
                    },
                    "metadata": {},
                    "output_type": "display_data"
                },
                {
                    "name": "stdout",
                    "output_type": "stream",
                    "text": [
                        "5 {'n_concepts': 4, 'use_indicators': False, 'use_fixes': False, 'use_only_last_timestep': False}\n",
                        "Loaded model from /workdir/optimal-summaries-public/_models/etth1/multistep/ablaition-L336-T96/forecasting_c4_indFalse_fixesFalse_onlylasttimestepFalse.pt\n"
                    ]
                },
                {
                    "data": {
                        "text/plain": [
                            "['original', 5, 0.37785932421684265, 0.4084802269935608, 0.28901758790016174]"
                        ]
                    },
                    "metadata": {},
                    "output_type": "display_data"
                },
                {
                    "name": "stdout",
                    "output_type": "stream",
                    "text": [
                        "6 {'n_concepts': 4, 'use_indicators': False, 'use_fixes': True, 'use_only_last_timestep': True}\n",
                        "Loaded model from /workdir/optimal-summaries-public/_models/etth1/multistep/ablaition-L336-T96/forecasting_c4_indFalse_fixesTrue_onlylasttimestepTrue.pt\n"
                    ]
                },
                {
                    "data": {
                        "text/plain": [
                            "['original', 6, 1.0794000625610352, 0.7103363871574402, 0.6432136297225952]"
                        ]
                    },
                    "metadata": {},
                    "output_type": "display_data"
                },
                {
                    "name": "stdout",
                    "output_type": "stream",
                    "text": [
                        "7 {'n_concepts': 4, 'use_indicators': False, 'use_fixes': True, 'use_only_last_timestep': False}\n",
                        "Loaded model from /workdir/optimal-summaries-public/_models/etth1/multistep/ablaition-L336-T96/forecasting_c4_indFalse_fixesTrue_onlylasttimestepFalse.pt\n"
                    ]
                },
                {
                    "data": {
                        "text/plain": [
                            "['original', 7, 1.0457441806793213, 0.6447786688804626, 0.550344705581665]"
                        ]
                    },
                    "metadata": {},
                    "output_type": "display_data"
                },
                {
                    "name": "stdout",
                    "output_type": "stream",
                    "text": [
                        "8 {'n_concepts': 20, 'use_indicators': True, 'use_fixes': False, 'use_only_last_timestep': True}\n",
                        "Loaded model from /workdir/optimal-summaries-public/_models/etth1/multistep/ablaition-L336-T96/forecasting_c20_indTrue_fixesFalse_onlylasttimestepTrue.pt\n"
                    ]
                },
                {
                    "data": {
                        "text/plain": [
                            "['original', 8, 1.0809731483459473, 0.691489577293396, 0.6164988279342651]"
                        ]
                    },
                    "metadata": {},
                    "output_type": "display_data"
                },
                {
                    "name": "stdout",
                    "output_type": "stream",
                    "text": [
                        "9 {'n_concepts': 20, 'use_indicators': True, 'use_fixes': False, 'use_only_last_timestep': False}\n",
                        "Loaded model from /workdir/optimal-summaries-public/_models/etth1/multistep/ablaition-L336-T96/forecasting_c20_indTrue_fixesFalse_onlylasttimestepFalse.pt\n"
                    ]
                },
                {
                    "data": {
                        "text/plain": [
                            "['original', 9, 0.45409509539604187, 0.4046204686164856, 0.26826465129852295]"
                        ]
                    },
                    "metadata": {},
                    "output_type": "display_data"
                },
                {
                    "name": "stdout",
                    "output_type": "stream",
                    "text": [
                        "10 {'n_concepts': 20, 'use_indicators': True, 'use_fixes': True, 'use_only_last_timestep': True}\n",
                        "Loaded model from /workdir/optimal-summaries-public/_models/etth1/multistep/ablaition-L336-T96/forecasting_c20_indTrue_fixesTrue_onlylasttimestepTrue.pt\n"
                    ]
                },
                {
                    "data": {
                        "text/plain": [
                            "['original', 10, 1.1469467878341675, 0.6416108012199402, 0.5180780291557312]"
                        ]
                    },
                    "metadata": {},
                    "output_type": "display_data"
                },
                {
                    "name": "stdout",
                    "output_type": "stream",
                    "text": [
                        "11 {'n_concepts': 20, 'use_indicators': True, 'use_fixes': True, 'use_only_last_timestep': False}\n",
                        "Loaded model from /workdir/optimal-summaries-public/_models/etth1/multistep/ablaition-L336-T96/forecasting_c20_indTrue_fixesTrue_onlylasttimestepFalse.pt\n"
                    ]
                },
                {
                    "data": {
                        "text/plain": [
                            "['original', 11, 0.6067178249359131, 0.5737237930297852, 0.4610873758792877]"
                        ]
                    },
                    "metadata": {},
                    "output_type": "display_data"
                },
                {
                    "name": "stdout",
                    "output_type": "stream",
                    "text": [
                        "12 {'n_concepts': 20, 'use_indicators': False, 'use_fixes': False, 'use_only_last_timestep': True}\n",
                        "Loaded model from /workdir/optimal-summaries-public/_models/etth1/multistep/ablaition-L336-T96/forecasting_c20_indFalse_fixesFalse_onlylasttimestepTrue.pt\n"
                    ]
                },
                {
                    "data": {
                        "text/plain": [
                            "['original', 12, 1.0612149238586426, 0.6913021206855774, 0.6191474199295044]"
                        ]
                    },
                    "metadata": {},
                    "output_type": "display_data"
                },
                {
                    "name": "stdout",
                    "output_type": "stream",
                    "text": [
                        "13 {'n_concepts': 20, 'use_indicators': False, 'use_fixes': False, 'use_only_last_timestep': False}\n",
                        "Loaded model from /workdir/optimal-summaries-public/_models/etth1/multistep/ablaition-L336-T96/forecasting_c20_indFalse_fixesFalse_onlylasttimestepFalse.pt\n"
                    ]
                },
                {
                    "data": {
                        "text/plain": [
                            "['original', 13, 0.6773966550827026, 0.34960436820983887, 0.20557817816734314]"
                        ]
                    },
                    "metadata": {},
                    "output_type": "display_data"
                },
                {
                    "name": "stdout",
                    "output_type": "stream",
                    "text": [
                        "14 {'n_concepts': 20, 'use_indicators': False, 'use_fixes': True, 'use_only_last_timestep': True}\n",
                        "Loaded model from /workdir/optimal-summaries-public/_models/etth1/multistep/ablaition-L336-T96/forecasting_c20_indFalse_fixesTrue_onlylasttimestepTrue.pt\n"
                    ]
                },
                {
                    "data": {
                        "text/plain": [
                            "['original', 14, 1.3520843982696533, 0.5762377381324768, 0.5051519274711609]"
                        ]
                    },
                    "metadata": {},
                    "output_type": "display_data"
                },
                {
                    "name": "stdout",
                    "output_type": "stream",
                    "text": [
                        "15 {'n_concepts': 20, 'use_indicators': False, 'use_fixes': True, 'use_only_last_timestep': False}\n",
                        "Loaded model from /workdir/optimal-summaries-public/_models/etth1/multistep/ablaition-L336-T96/forecasting_c20_indFalse_fixesTrue_onlylasttimestepFalse.pt\n"
                    ]
                },
                {
                    "data": {
                        "text/plain": [
                            "['original', 15, 0.5913671255111694, 0.49083778262138367, 0.36257416009902954]"
                        ]
                    },
                    "metadata": {},
                    "output_type": "display_data"
                },
                {
                    "name": "stdout",
                    "output_type": "stream",
                    "text": [
                        "16 {'n_concepts': 500, 'use_indicators': True, 'use_fixes': False, 'use_only_last_timestep': True}\n",
                        "Loaded model from /workdir/optimal-summaries-public/_models/etth1/multistep/ablaition-L336-T96/forecasting_c500_indTrue_fixesFalse_onlylasttimestepTrue.pt\n"
                    ]
                },
                {
                    "data": {
                        "text/plain": [
                            "['original', 16, 15.16552448272705, 0.5432544350624084, 0.4566943347454071]"
                        ]
                    },
                    "metadata": {},
                    "output_type": "display_data"
                },
                {
                    "name": "stdout",
                    "output_type": "stream",
                    "text": [
                        "17 {'n_concepts': 500, 'use_indicators': True, 'use_fixes': False, 'use_only_last_timestep': False}\n",
                        "Loaded model from /workdir/optimal-summaries-public/_models/etth1/multistep/ablaition-L336-T96/forecasting_c500_indTrue_fixesFalse_onlylasttimestepFalse.pt\n"
                    ]
                },
                {
                    "data": {
                        "text/plain": [
                            "['original', 17, 1.6663639545440674, 0.3986670970916748, 0.27219387888908386]"
                        ]
                    },
                    "metadata": {},
                    "output_type": "display_data"
                },
                {
                    "name": "stdout",
                    "output_type": "stream",
                    "text": [
                        "18 {'n_concepts': 500, 'use_indicators': True, 'use_fixes': True, 'use_only_last_timestep': True}\n",
                        "Loaded model from /workdir/optimal-summaries-public/_models/etth1/multistep/ablaition-L336-T96/forecasting_c500_indTrue_fixesTrue_onlylasttimestepTrue.pt\n"
                    ]
                },
                {
                    "data": {
                        "text/plain": [
                            "['original', 18, 14.597038269042969, 0.5470669865608215, 0.5076339244842529]"
                        ]
                    },
                    "metadata": {},
                    "output_type": "display_data"
                },
                {
                    "name": "stdout",
                    "output_type": "stream",
                    "text": [
                        "19 {'n_concepts': 500, 'use_indicators': True, 'use_fixes': True, 'use_only_last_timestep': False}\n",
                        "Loaded model from /workdir/optimal-summaries-public/_models/etth1/multistep/ablaition-L336-T96/forecasting_c500_indTrue_fixesTrue_onlylasttimestepFalse.pt\n"
                    ]
                },
                {
                    "data": {
                        "text/plain": [
                            "['original', 19, 1.6302984952926636, 0.37437042593955994, 0.22441309690475464]"
                        ]
                    },
                    "metadata": {},
                    "output_type": "display_data"
                },
                {
                    "name": "stdout",
                    "output_type": "stream",
                    "text": [
                        "20 {'n_concepts': 500, 'use_indicators': False, 'use_fixes': False, 'use_only_last_timestep': True}\n",
                        "Loaded model from /workdir/optimal-summaries-public/_models/etth1/multistep/ablaition-L336-T96/forecasting_c500_indFalse_fixesFalse_onlylasttimestepTrue.pt\n"
                    ]
                },
                {
                    "data": {
                        "text/plain": [
                            "['original', 20, 25.217546463012695, 0.4825458824634552, 0.3442092537879944]"
                        ]
                    },
                    "metadata": {},
                    "output_type": "display_data"
                },
                {
                    "name": "stdout",
                    "output_type": "stream",
                    "text": [
                        "21 {'n_concepts': 500, 'use_indicators': False, 'use_fixes': False, 'use_only_last_timestep': False}\n",
                        "Loaded model from /workdir/optimal-summaries-public/_models/etth1/multistep/ablaition-L336-T96/forecasting_c500_indFalse_fixesFalse_onlylasttimestepFalse.pt\n"
                    ]
                },
                {
                    "data": {
                        "text/plain": [
                            "['original', 21, 1.669023036956787, 0.5449513792991638, 0.4563068747520447]"
                        ]
                    },
                    "metadata": {},
                    "output_type": "display_data"
                },
                {
                    "name": "stdout",
                    "output_type": "stream",
                    "text": [
                        "22 {'n_concepts': 500, 'use_indicators': False, 'use_fixes': True, 'use_only_last_timestep': True}\n",
                        "Loaded model from /workdir/optimal-summaries-public/_models/etth1/multistep/ablaition-L336-T96/forecasting_c500_indFalse_fixesTrue_onlylasttimestepTrue.pt\n"
                    ]
                },
                {
                    "data": {
                        "text/plain": [
                            "['original', 22, 24.395458221435547, 0.6474363803863525, 0.6078255772590637]"
                        ]
                    },
                    "metadata": {},
                    "output_type": "display_data"
                },
                {
                    "name": "stdout",
                    "output_type": "stream",
                    "text": [
                        "23 {'n_concepts': 500, 'use_indicators': False, 'use_fixes': True, 'use_only_last_timestep': False}\n",
                        "Loaded model from /workdir/optimal-summaries-public/_models/etth1/multistep/ablaition-L336-T96/forecasting_c500_indFalse_fixesTrue_onlylasttimestepFalse.pt\n"
                    ]
                },
                {
                    "data": {
                        "text/plain": [
                            "['original', 23, 1.6014982461929321, 0.497877299785614, 0.38179266452789307]"
                        ]
                    },
                    "metadata": {},
                    "output_type": "display_data"
                },
                {
                    "data": {
                        "text/plain": [
                            "(24, 5)"
                        ]
                    },
                    "execution_count": 13,
                    "metadata": {},
                    "output_type": "execute_result"
                }
            ],
            "source": [
                "history_original = []\n",
                "\n",
                "train_loader, val_loader, test_loader, scaler = preprocess_data(series, seq_len, pred_len=pred_len)\n",
                "\n",
                "    \n",
                "for i, config in enumerate(all_config_permutations_og):\n",
                "    print(i, config)\n",
                "    \n",
                "    model = initializeModel(**config, input_dim=input_dim, changing_dim=changing_dim, seq_len=seq_len, output_dim=pred_len)\n",
                "    model.fit(train_loader, val_loader, p_weight=None, save_model_path=model_path_og.format(**config), max_epochs=10000)\n",
                "    \n",
                "    # display(model)\n",
                "    \n",
                "    model.eval()\n",
                "    with torch.inference_mode():\n",
                "        for batch_idx, (Xb, yb) in enumerate(test_loader):\n",
                "            Xb, yb = Xb.to(device), yb.to(device)\n",
                "            preds = model(Xb)\n",
                "            \n",
                "            mae = mae_metric(preds, yb).item()\n",
                "            mse = mse_metric(preds, yb).item()\n",
                "        mae = mae_metric.compute().item()\n",
                "        mse = mse_metric.compute().item()\n",
                "        mae_metric.reset()\n",
                "        mse_metric.reset()\n",
                "    \n",
                "    history = [\"original\", i, model.val_losses[-1], mae, mse]\n",
                "    display(history)\n",
                "    history_original.append(np.array(history))\n",
                "    \n",
                "    # plot_losses(model.train_losses, model.val_losses)\n",
                "    \n",
                "history_original = np.array(history_original)\n",
                "history_original.shape\n"
            ]
        },
        {
            "cell_type": "code",
            "execution_count": 14,
            "metadata": {},
            "outputs": [],
            "source": [
                "# plot_mae_mse(history_original, \"Original\")\n"
            ]
        },
        {
            "cell_type": "code",
            "execution_count": 15,
            "metadata": {},
            "outputs": [],
            "source": [
                "# # Plot Prediction vs actual\n",
                "# train_loader, val_loader, test_loader, scaler = preprocess_data(series, seq_len, pred_len=pred_len)\n",
                "\n",
                "# mae_metric = MeanAbsoluteError().to(device)\n",
                "# mse_metric = MeanSquaredError().to(device)\n",
                "# n_concepts = 10\n",
                "\n",
                "# model = initializeModel(n_concepts, input_dim, changing_dim, seq_len, output_dim=pred_len)\n",
                "# model.fit(train_loader, val_loader, None, save_model_path=model_path_og.format(n_concepts), max_epochs=10000)\n",
                "\n",
                "# model.eval()\n",
                "# with torch.no_grad():\n",
                "#     for batch_idx, (Xb, yb) in enumerate(val_loader):\n",
                "#         Xb, yb = Xb.to(device), yb.to(device)\n",
                "#         preds = model.forward(Xb)\n",
                "        \n",
                "#         mae = mae_metric(preds, yb).item()\n",
                "#         mse = mse_metric(preds, yb).item()\n",
                "#         break\n",
                "#     mae = mae_metric.compute().item()\n",
                "#     mse = mse_metric.compute().item()\n",
                "#     mae_metric.reset()\n",
                "#     mse_metric.reset()\n",
                "\n",
                "\n",
                "# i = 20\n",
                "# yb = yb.cpu().numpy()[i]\n",
                "# preds = preds.cpu().numpy()[i]\n",
                "\n",
                "# print(yb.shape)\n",
                "# print(preds.shape)\n",
                "\n",
                "# plot_prediction_vs_true(yb, preds, title=f\"Original - Predictions with {n_concepts} Concepts\")\n"
            ]
        },
        {
            "cell_type": "markdown",
            "metadata": {},
            "source": [
                "## Atomics cat Summaries"
            ]
        },
        {
            "cell_type": "code",
            "execution_count": 16,
            "metadata": {},
            "outputs": [
                {
                    "name": "stdout",
                    "output_type": "stream",
                    "text": [
                        "96\n"
                    ]
                }
            ],
            "source": [
                "config_atomics = {\n",
                "    \"n_atomics\": [10, 30, 100, 500],\n",
                "    \"n_concepts\": [4, 20, 500],\n",
                "    \"use_indicators\": [True, False],\n",
                "    \"use_fixes\": [False, True],\n",
                "    \"use_summaries_for_atomics\": [True, False],\n",
                "}\n",
                "\n",
                "all_config_permutations_atomics = list(product(*config_atomics.values()))\n",
                "all_config_permutations_atomics = [dict(zip(config_atomics.keys(), permutation)) for permutation in all_config_permutations_atomics]\n",
                "print(len(all_config_permutations_atomics))\n",
                "# all_config_permutations_atomics"
            ]
        },
        {
            "cell_type": "code",
            "execution_count": 17,
            "metadata": {},
            "outputs": [],
            "source": [
                "experiment_folder = f\"/workdir/optimal-summaries-public/_models/etth1/multistep/ablaition-L{seq_len}-T{pred_len}/\"\n",
                "model_path_re = experiment_folder + \"forecasting_a{n_atomics}_c{n_concepts}_ind{use_indicators}_fixes{use_fixes}_summaries{use_summaries_for_atomics}.pt\"\n",
                "\n",
                "if not os.path.exists(experiment_folder):\n",
                "    os.makedirs(experiment_folder)"
            ]
        },
        {
            "cell_type": "code",
            "execution_count": 18,
            "metadata": {},
            "outputs": [
                {
                    "name": "stdout",
                    "output_type": "stream",
                    "text": [
                        "Train/Val/Test 10451 3484 3485\n",
                        "0 {'n_atomics': 10, 'n_concepts': 4, 'use_indicators': True, 'use_fixes': False, 'use_summaries_for_atomics': True}\n",
                        "Loaded model from /workdir/optimal-summaries-public/_models/etth1/multistep/ablaition-L336-T96/forecasting_a10_c4_indTrue_fixesFalse_summariesTrue.pt\n"
                    ]
                },
                {
                    "name": "stderr",
                    "output_type": "stream",
                    "text": [
                        "/usr/local/lib/python3.10/dist-packages/torch/nn/modules/lazy.py:180: UserWarning: Lazy modules are a new feature under heavy development so changes to the API or functionality can happen at any moment.\n",
                        "  warnings.warn('Lazy modules are a new feature under heavy development '\n"
                    ]
                },
                {
                    "data": {
                        "text/plain": [
                            "['atomics', 0, 1.7212144136428833, 1.0007092952728271, 1.1513179540634155]"
                        ]
                    },
                    "metadata": {},
                    "output_type": "display_data"
                },
                {
                    "name": "stdout",
                    "output_type": "stream",
                    "text": [
                        "1 {'n_atomics': 10, 'n_concepts': 4, 'use_indicators': True, 'use_fixes': False, 'use_summaries_for_atomics': False}\n",
                        "Loaded model from /workdir/optimal-summaries-public/_models/etth1/multistep/ablaition-L336-T96/forecasting_a10_c4_indTrue_fixesFalse_summariesFalse.pt\n"
                    ]
                },
                {
                    "data": {
                        "text/plain": [
                            "['atomics', 1, 0.24082247912883759, 0.4721428155899048, 0.33151787519454956]"
                        ]
                    },
                    "metadata": {},
                    "output_type": "display_data"
                },
                {
                    "name": "stdout",
                    "output_type": "stream",
                    "text": [
                        "2 {'n_atomics': 10, 'n_concepts': 4, 'use_indicators': True, 'use_fixes': True, 'use_summaries_for_atomics': True}\n",
                        "Loaded model from /workdir/optimal-summaries-public/_models/etth1/multistep/ablaition-L336-T96/forecasting_a10_c4_indTrue_fixesTrue_summariesTrue.pt\n"
                    ]
                },
                {
                    "data": {
                        "text/plain": [
                            "['atomics', 2, 0.3079471290111542, 0.3112948536872864, 0.14800149202346802]"
                        ]
                    },
                    "metadata": {},
                    "output_type": "display_data"
                },
                {
                    "name": "stdout",
                    "output_type": "stream",
                    "text": [
                        "3 {'n_atomics': 10, 'n_concepts': 4, 'use_indicators': True, 'use_fixes': True, 'use_summaries_for_atomics': False}\n",
                        "Loaded model from /workdir/optimal-summaries-public/_models/etth1/multistep/ablaition-L336-T96/forecasting_a10_c4_indTrue_fixesTrue_summariesFalse.pt\n"
                    ]
                },
                {
                    "data": {
                        "text/plain": [
                            "['atomics', 3, 0.501419723033905, 0.622409462928772, 0.5731006264686584]"
                        ]
                    },
                    "metadata": {},
                    "output_type": "display_data"
                },
                {
                    "name": "stdout",
                    "output_type": "stream",
                    "text": [
                        "4 {'n_atomics': 10, 'n_concepts': 4, 'use_indicators': False, 'use_fixes': False, 'use_summaries_for_atomics': True}\n",
                        "Loaded model from /workdir/optimal-summaries-public/_models/etth1/multistep/ablaition-L336-T96/forecasting_a10_c4_indFalse_fixesFalse_summariesTrue.pt\n"
                    ]
                },
                {
                    "data": {
                        "text/plain": [
                            "['atomics', 4, 0.17676976323127747, 0.27739521861076355, 0.11315254122018814]"
                        ]
                    },
                    "metadata": {},
                    "output_type": "display_data"
                },
                {
                    "name": "stdout",
                    "output_type": "stream",
                    "text": [
                        "5 {'n_atomics': 10, 'n_concepts': 4, 'use_indicators': False, 'use_fixes': False, 'use_summaries_for_atomics': False}\n",
                        "Loaded model from /workdir/optimal-summaries-public/_models/etth1/multistep/ablaition-L336-T96/forecasting_a10_c4_indFalse_fixesFalse_summariesFalse.pt\n"
                    ]
                },
                {
                    "data": {
                        "text/plain": [
                            "['atomics', 5, 0.40126606822013855, 0.3714486360549927, 0.22163431346416473]"
                        ]
                    },
                    "metadata": {},
                    "output_type": "display_data"
                },
                {
                    "name": "stdout",
                    "output_type": "stream",
                    "text": [
                        "6 {'n_atomics': 10, 'n_concepts': 4, 'use_indicators': False, 'use_fixes': True, 'use_summaries_for_atomics': True}\n",
                        "Loaded model from /workdir/optimal-summaries-public/_models/etth1/multistep/ablaition-L336-T96/forecasting_a10_c4_indFalse_fixesTrue_summariesTrue.pt\n"
                    ]
                },
                {
                    "data": {
                        "text/plain": [
                            "['atomics', 6, 0.26603686809539795, 0.2809463441371918, 0.1220538467168808]"
                        ]
                    },
                    "metadata": {},
                    "output_type": "display_data"
                },
                {
                    "name": "stdout",
                    "output_type": "stream",
                    "text": [
                        "7 {'n_atomics': 10, 'n_concepts': 4, 'use_indicators': False, 'use_fixes': True, 'use_summaries_for_atomics': False}\n",
                        "Loaded model from /workdir/optimal-summaries-public/_models/etth1/multistep/ablaition-L336-T96/forecasting_a10_c4_indFalse_fixesTrue_summariesFalse.pt\n"
                    ]
                },
                {
                    "data": {
                        "text/plain": [
                            "['atomics', 7, 1.2460906505584717, 0.774004340171814, 0.7088270783424377]"
                        ]
                    },
                    "metadata": {},
                    "output_type": "display_data"
                },
                {
                    "name": "stdout",
                    "output_type": "stream",
                    "text": [
                        "8 {'n_atomics': 10, 'n_concepts': 20, 'use_indicators': True, 'use_fixes': False, 'use_summaries_for_atomics': True}\n",
                        "Loaded model from /workdir/optimal-summaries-public/_models/etth1/multistep/ablaition-L336-T96/forecasting_a10_c20_indTrue_fixesFalse_summariesTrue.pt\n"
                    ]
                },
                {
                    "data": {
                        "text/plain": [
                            "['atomics', 8, 0.29168424010276794, 0.3290555775165558, 0.1764860898256302]"
                        ]
                    },
                    "metadata": {},
                    "output_type": "display_data"
                },
                {
                    "name": "stdout",
                    "output_type": "stream",
                    "text": [
                        "9 {'n_atomics': 10, 'n_concepts': 20, 'use_indicators': True, 'use_fixes': False, 'use_summaries_for_atomics': False}\n",
                        "Loaded model from /workdir/optimal-summaries-public/_models/etth1/multistep/ablaition-L336-T96/forecasting_a10_c20_indTrue_fixesFalse_summariesFalse.pt\n"
                    ]
                },
                {
                    "data": {
                        "text/plain": [
                            "['atomics', 9, 1.1494004726409912, 0.704307496547699, 0.6281555891036987]"
                        ]
                    },
                    "metadata": {},
                    "output_type": "display_data"
                },
                {
                    "name": "stdout",
                    "output_type": "stream",
                    "text": [
                        "10 {'n_atomics': 10, 'n_concepts': 20, 'use_indicators': True, 'use_fixes': True, 'use_summaries_for_atomics': True}\n",
                        "Loaded model from /workdir/optimal-summaries-public/_models/etth1/multistep/ablaition-L336-T96/forecasting_a10_c20_indTrue_fixesTrue_summariesTrue.pt\n"
                    ]
                },
                {
                    "data": {
                        "text/plain": [
                            "['atomics', 10, 0.3428298532962799, 0.30508899688720703, 0.14939209818840027]"
                        ]
                    },
                    "metadata": {},
                    "output_type": "display_data"
                },
                {
                    "name": "stdout",
                    "output_type": "stream",
                    "text": [
                        "11 {'n_atomics': 10, 'n_concepts': 20, 'use_indicators': True, 'use_fixes': True, 'use_summaries_for_atomics': False}\n",
                        "Loaded model from /workdir/optimal-summaries-public/_models/etth1/multistep/ablaition-L336-T96/forecasting_a10_c20_indTrue_fixesTrue_summariesFalse.pt\n"
                    ]
                },
                {
                    "data": {
                        "text/plain": [
                            "['atomics', 11, 1.1796482801437378, 0.720578670501709, 0.6408790946006775]"
                        ]
                    },
                    "metadata": {},
                    "output_type": "display_data"
                },
                {
                    "name": "stdout",
                    "output_type": "stream",
                    "text": [
                        "12 {'n_atomics': 10, 'n_concepts': 20, 'use_indicators': False, 'use_fixes': False, 'use_summaries_for_atomics': True}\n",
                        "Loaded model from /workdir/optimal-summaries-public/_models/etth1/multistep/ablaition-L336-T96/forecasting_a10_c20_indFalse_fixesFalse_summariesTrue.pt\n"
                    ]
                },
                {
                    "data": {
                        "text/plain": [
                            "['atomics', 12, 0.2754214107990265, 0.2727302610874176, 0.11179140955209732]"
                        ]
                    },
                    "metadata": {},
                    "output_type": "display_data"
                },
                {
                    "name": "stdout",
                    "output_type": "stream",
                    "text": [
                        "13 {'n_atomics': 10, 'n_concepts': 20, 'use_indicators': False, 'use_fixes': False, 'use_summaries_for_atomics': False}\n",
                        "Loaded model from /workdir/optimal-summaries-public/_models/etth1/multistep/ablaition-L336-T96/forecasting_a10_c20_indFalse_fixesFalse_summariesFalse.pt\n"
                    ]
                },
                {
                    "data": {
                        "text/plain": [
                            "['atomics', 13, 1.1386651992797852, 0.7085167169570923, 0.62659752368927]"
                        ]
                    },
                    "metadata": {},
                    "output_type": "display_data"
                },
                {
                    "name": "stdout",
                    "output_type": "stream",
                    "text": [
                        "14 {'n_atomics': 10, 'n_concepts': 20, 'use_indicators': False, 'use_fixes': True, 'use_summaries_for_atomics': True}\n",
                        "Loaded model from /workdir/optimal-summaries-public/_models/etth1/multistep/ablaition-L336-T96/forecasting_a10_c20_indFalse_fixesTrue_summariesTrue.pt\n"
                    ]
                },
                {
                    "data": {
                        "text/plain": [
                            "['atomics', 14, 0.5216066241264343, 0.37083831429481506, 0.2054719477891922]"
                        ]
                    },
                    "metadata": {},
                    "output_type": "display_data"
                },
                {
                    "name": "stdout",
                    "output_type": "stream",
                    "text": [
                        "15 {'n_atomics': 10, 'n_concepts': 20, 'use_indicators': False, 'use_fixes': True, 'use_summaries_for_atomics': False}\n",
                        "Loaded model from /workdir/optimal-summaries-public/_models/etth1/multistep/ablaition-L336-T96/forecasting_a10_c20_indFalse_fixesTrue_summariesFalse.pt\n"
                    ]
                },
                {
                    "data": {
                        "text/plain": [
                            "['atomics', 15, 1.1553189754486084, 0.7096651792526245, 0.628612220287323]"
                        ]
                    },
                    "metadata": {},
                    "output_type": "display_data"
                },
                {
                    "name": "stdout",
                    "output_type": "stream",
                    "text": [
                        "16 {'n_atomics': 10, 'n_concepts': 500, 'use_indicators': True, 'use_fixes': False, 'use_summaries_for_atomics': True}\n",
                        "Loaded model from /workdir/optimal-summaries-public/_models/etth1/multistep/ablaition-L336-T96/forecasting_a10_c500_indTrue_fixesFalse_summariesTrue.pt\n"
                    ]
                },
                {
                    "data": {
                        "text/plain": [
                            "['atomics', 16, 19.328453063964844, 0.2774314284324646, 0.11261327564716339]"
                        ]
                    },
                    "metadata": {},
                    "output_type": "display_data"
                },
                {
                    "name": "stdout",
                    "output_type": "stream",
                    "text": [
                        "17 {'n_atomics': 10, 'n_concepts': 500, 'use_indicators': True, 'use_fixes': False, 'use_summaries_for_atomics': False}\n",
                        "Loaded model from /workdir/optimal-summaries-public/_models/etth1/multistep/ablaition-L336-T96/forecasting_a10_c500_indTrue_fixesFalse_summariesFalse.pt\n"
                    ]
                },
                {
                    "data": {
                        "text/plain": [
                            "['atomics', 17, 10.333577156066895, 0.7743566036224365, 0.9677140712738037]"
                        ]
                    },
                    "metadata": {},
                    "output_type": "display_data"
                },
                {
                    "name": "stdout",
                    "output_type": "stream",
                    "text": [
                        "18 {'n_atomics': 10, 'n_concepts': 500, 'use_indicators': True, 'use_fixes': True, 'use_summaries_for_atomics': True}\n",
                        "Loaded model from /workdir/optimal-summaries-public/_models/etth1/multistep/ablaition-L336-T96/forecasting_a10_c500_indTrue_fixesTrue_summariesTrue.pt\n"
                    ]
                },
                {
                    "data": {
                        "text/plain": [
                            "['atomics', 18, 19.567977905273438, 0.3080095946788788, 0.15636301040649414]"
                        ]
                    },
                    "metadata": {},
                    "output_type": "display_data"
                },
                {
                    "name": "stdout",
                    "output_type": "stream",
                    "text": [
                        "19 {'n_atomics': 10, 'n_concepts': 500, 'use_indicators': True, 'use_fixes': True, 'use_summaries_for_atomics': False}\n",
                        "Loaded model from /workdir/optimal-summaries-public/_models/etth1/multistep/ablaition-L336-T96/forecasting_a10_c500_indTrue_fixesTrue_summariesFalse.pt\n"
                    ]
                },
                {
                    "data": {
                        "text/plain": [
                            "['atomics', 19, 10.014370918273926, 0.6874472498893738, 0.7227097749710083]"
                        ]
                    },
                    "metadata": {},
                    "output_type": "display_data"
                },
                {
                    "name": "stdout",
                    "output_type": "stream",
                    "text": [
                        "20 {'n_atomics': 10, 'n_concepts': 500, 'use_indicators': False, 'use_fixes': False, 'use_summaries_for_atomics': True}\n",
                        "Loaded model from /workdir/optimal-summaries-public/_models/etth1/multistep/ablaition-L336-T96/forecasting_a10_c500_indFalse_fixesFalse_summariesTrue.pt\n"
                    ]
                },
                {
                    "data": {
                        "text/plain": [
                            "['atomics', 20, 19.11187744140625, 0.3201932907104492, 0.159676194190979]"
                        ]
                    },
                    "metadata": {},
                    "output_type": "display_data"
                },
                {
                    "name": "stdout",
                    "output_type": "stream",
                    "text": [
                        "21 {'n_atomics': 10, 'n_concepts': 500, 'use_indicators': False, 'use_fixes': False, 'use_summaries_for_atomics': False}\n",
                        "Loaded model from /workdir/optimal-summaries-public/_models/etth1/multistep/ablaition-L336-T96/forecasting_a10_c500_indFalse_fixesFalse_summariesFalse.pt\n"
                    ]
                },
                {
                    "data": {
                        "text/plain": [
                            "['atomics', 21, 12.95837116241455, 0.5888248682022095, 0.4807056486606598]"
                        ]
                    },
                    "metadata": {},
                    "output_type": "display_data"
                },
                {
                    "name": "stdout",
                    "output_type": "stream",
                    "text": [
                        "22 {'n_atomics': 10, 'n_concepts': 500, 'use_indicators': False, 'use_fixes': True, 'use_summaries_for_atomics': True}\n",
                        "Loaded model from /workdir/optimal-summaries-public/_models/etth1/multistep/ablaition-L336-T96/forecasting_a10_c500_indFalse_fixesTrue_summariesTrue.pt\n"
                    ]
                },
                {
                    "data": {
                        "text/plain": [
                            "['atomics', 22, 18.91548728942871, 0.2939152419567108, 0.13766539096832275]"
                        ]
                    },
                    "metadata": {},
                    "output_type": "display_data"
                },
                {
                    "name": "stdout",
                    "output_type": "stream",
                    "text": [
                        "23 {'n_atomics': 10, 'n_concepts': 500, 'use_indicators': False, 'use_fixes': True, 'use_summaries_for_atomics': False}\n",
                        "Loaded model from /workdir/optimal-summaries-public/_models/etth1/multistep/ablaition-L336-T96/forecasting_a10_c500_indFalse_fixesTrue_summariesFalse.pt\n"
                    ]
                },
                {
                    "data": {
                        "text/plain": [
                            "['atomics', 23, 13.217535972595215, 0.6405690908432007, 0.6795938014984131]"
                        ]
                    },
                    "metadata": {},
                    "output_type": "display_data"
                },
                {
                    "name": "stdout",
                    "output_type": "stream",
                    "text": [
                        "24 {'n_atomics': 30, 'n_concepts': 4, 'use_indicators': True, 'use_fixes': False, 'use_summaries_for_atomics': True}\n",
                        "Loaded model from /workdir/optimal-summaries-public/_models/etth1/multistep/ablaition-L336-T96/forecasting_a30_c4_indTrue_fixesFalse_summariesTrue.pt\n"
                    ]
                },
                {
                    "data": {
                        "text/plain": [
                            "['atomics', 24, 0.2921835482120514, 0.29344895482063293, 0.12757815420627594]"
                        ]
                    },
                    "metadata": {},
                    "output_type": "display_data"
                },
                {
                    "name": "stdout",
                    "output_type": "stream",
                    "text": [
                        "25 {'n_atomics': 30, 'n_concepts': 4, 'use_indicators': True, 'use_fixes': False, 'use_summaries_for_atomics': False}\n",
                        "Loaded model from /workdir/optimal-summaries-public/_models/etth1/multistep/ablaition-L336-T96/forecasting_a30_c4_indTrue_fixesFalse_summariesFalse.pt\n"
                    ]
                },
                {
                    "data": {
                        "text/plain": [
                            "['atomics', 25, 0.9967039823532104, 0.8056010603904724, 0.768585205078125]"
                        ]
                    },
                    "metadata": {},
                    "output_type": "display_data"
                },
                {
                    "name": "stdout",
                    "output_type": "stream",
                    "text": [
                        "26 {'n_atomics': 30, 'n_concepts': 4, 'use_indicators': True, 'use_fixes': True, 'use_summaries_for_atomics': True}\n",
                        "Loaded model from /workdir/optimal-summaries-public/_models/etth1/multistep/ablaition-L336-T96/forecasting_a30_c4_indTrue_fixesTrue_summariesTrue.pt\n"
                    ]
                },
                {
                    "data": {
                        "text/plain": [
                            "['atomics', 26, 0.2530290186405182, 0.2957077920436859, 0.13129857182502747]"
                        ]
                    },
                    "metadata": {},
                    "output_type": "display_data"
                },
                {
                    "name": "stdout",
                    "output_type": "stream",
                    "text": [
                        "27 {'n_atomics': 30, 'n_concepts': 4, 'use_indicators': True, 'use_fixes': True, 'use_summaries_for_atomics': False}\n",
                        "Loaded model from /workdir/optimal-summaries-public/_models/etth1/multistep/ablaition-L336-T96/forecasting_a30_c4_indTrue_fixesTrue_summariesFalse.pt\n"
                    ]
                },
                {
                    "data": {
                        "text/plain": [
                            "['atomics', 27, 1.5052554607391357, 0.8708703517913818, 0.8958576321601868]"
                        ]
                    },
                    "metadata": {},
                    "output_type": "display_data"
                },
                {
                    "name": "stdout",
                    "output_type": "stream",
                    "text": [
                        "28 {'n_atomics': 30, 'n_concepts': 4, 'use_indicators': False, 'use_fixes': False, 'use_summaries_for_atomics': True}\n",
                        "Loaded model from /workdir/optimal-summaries-public/_models/etth1/multistep/ablaition-L336-T96/forecasting_a30_c4_indFalse_fixesFalse_summariesTrue.pt\n"
                    ]
                },
                {
                    "data": {
                        "text/plain": [
                            "['atomics', 28, 0.20700626075267792, 0.29632246494293213, 0.12386509031057358]"
                        ]
                    },
                    "metadata": {},
                    "output_type": "display_data"
                },
                {
                    "name": "stdout",
                    "output_type": "stream",
                    "text": [
                        "29 {'n_atomics': 30, 'n_concepts': 4, 'use_indicators': False, 'use_fixes': False, 'use_summaries_for_atomics': False}\n",
                        "Loaded model from /workdir/optimal-summaries-public/_models/etth1/multistep/ablaition-L336-T96/forecasting_a30_c4_indFalse_fixesFalse_summariesFalse.pt\n"
                    ]
                },
                {
                    "data": {
                        "text/plain": [
                            "['atomics', 29, 0.649133026599884, 0.6415382623672485, 0.5767651200294495]"
                        ]
                    },
                    "metadata": {},
                    "output_type": "display_data"
                },
                {
                    "name": "stdout",
                    "output_type": "stream",
                    "text": [
                        "30 {'n_atomics': 30, 'n_concepts': 4, 'use_indicators': False, 'use_fixes': True, 'use_summaries_for_atomics': True}\n",
                        "Loaded model from /workdir/optimal-summaries-public/_models/etth1/multistep/ablaition-L336-T96/forecasting_a30_c4_indFalse_fixesTrue_summariesTrue.pt\n"
                    ]
                },
                {
                    "data": {
                        "text/plain": [
                            "['atomics', 30, 0.30824410915374756, 0.27043238282203674, 0.11478394269943237]"
                        ]
                    },
                    "metadata": {},
                    "output_type": "display_data"
                },
                {
                    "name": "stdout",
                    "output_type": "stream",
                    "text": [
                        "31 {'n_atomics': 30, 'n_concepts': 4, 'use_indicators': False, 'use_fixes': True, 'use_summaries_for_atomics': False}\n",
                        "Loaded model from /workdir/optimal-summaries-public/_models/etth1/multistep/ablaition-L336-T96/forecasting_a30_c4_indFalse_fixesTrue_summariesFalse.pt\n"
                    ]
                },
                {
                    "data": {
                        "text/plain": [
                            "['atomics', 31, 0.2601546347141266, 0.3188578486442566, 0.147065207362175]"
                        ]
                    },
                    "metadata": {},
                    "output_type": "display_data"
                },
                {
                    "name": "stdout",
                    "output_type": "stream",
                    "text": [
                        "32 {'n_atomics': 30, 'n_concepts': 20, 'use_indicators': True, 'use_fixes': False, 'use_summaries_for_atomics': True}\n",
                        "Loaded model from /workdir/optimal-summaries-public/_models/etth1/multistep/ablaition-L336-T96/forecasting_a30_c20_indTrue_fixesFalse_summariesTrue.pt\n"
                    ]
                },
                {
                    "data": {
                        "text/plain": [
                            "['atomics', 32, 0.25963419675827026, 0.3026053309440613, 0.1328362226486206]"
                        ]
                    },
                    "metadata": {},
                    "output_type": "display_data"
                },
                {
                    "name": "stdout",
                    "output_type": "stream",
                    "text": [
                        "33 {'n_atomics': 30, 'n_concepts': 20, 'use_indicators': True, 'use_fixes': False, 'use_summaries_for_atomics': False}\n",
                        "Loaded model from /workdir/optimal-summaries-public/_models/etth1/multistep/ablaition-L336-T96/forecasting_a30_c20_indTrue_fixesFalse_summariesFalse.pt\n"
                    ]
                },
                {
                    "data": {
                        "text/plain": [
                            "['atomics', 33, 1.138490080833435, 0.7239224910736084, 0.6491901278495789]"
                        ]
                    },
                    "metadata": {},
                    "output_type": "display_data"
                },
                {
                    "name": "stdout",
                    "output_type": "stream",
                    "text": [
                        "34 {'n_atomics': 30, 'n_concepts': 20, 'use_indicators': True, 'use_fixes': True, 'use_summaries_for_atomics': True}\n",
                        "Loaded model from /workdir/optimal-summaries-public/_models/etth1/multistep/ablaition-L336-T96/forecasting_a30_c20_indTrue_fixesTrue_summariesTrue.pt\n"
                    ]
                },
                {
                    "data": {
                        "text/plain": [
                            "['atomics', 34, 0.29193761944770813, 0.315729558467865, 0.1441732496023178]"
                        ]
                    },
                    "metadata": {},
                    "output_type": "display_data"
                },
                {
                    "name": "stdout",
                    "output_type": "stream",
                    "text": [
                        "35 {'n_atomics': 30, 'n_concepts': 20, 'use_indicators': True, 'use_fixes': True, 'use_summaries_for_atomics': False}\n",
                        "Loaded model from /workdir/optimal-summaries-public/_models/etth1/multistep/ablaition-L336-T96/forecasting_a30_c20_indTrue_fixesTrue_summariesFalse.pt\n"
                    ]
                },
                {
                    "data": {
                        "text/plain": [
                            "['atomics', 35, 1.1691179275512695, 0.6819855570793152, 0.6071981191635132]"
                        ]
                    },
                    "metadata": {},
                    "output_type": "display_data"
                },
                {
                    "name": "stdout",
                    "output_type": "stream",
                    "text": [
                        "36 {'n_atomics': 30, 'n_concepts': 20, 'use_indicators': False, 'use_fixes': False, 'use_summaries_for_atomics': True}\n",
                        "Loaded model from /workdir/optimal-summaries-public/_models/etth1/multistep/ablaition-L336-T96/forecasting_a30_c20_indFalse_fixesFalse_summariesTrue.pt\n"
                    ]
                },
                {
                    "data": {
                        "text/plain": [
                            "['atomics', 36, 0.33377984166145325, 0.2720431685447693, 0.11924219131469727]"
                        ]
                    },
                    "metadata": {},
                    "output_type": "display_data"
                },
                {
                    "name": "stdout",
                    "output_type": "stream",
                    "text": [
                        "37 {'n_atomics': 30, 'n_concepts': 20, 'use_indicators': False, 'use_fixes': False, 'use_summaries_for_atomics': False}\n",
                        "Loaded model from /workdir/optimal-summaries-public/_models/etth1/multistep/ablaition-L336-T96/forecasting_a30_c20_indFalse_fixesFalse_summariesFalse.pt\n"
                    ]
                },
                {
                    "data": {
                        "text/plain": [
                            "['atomics', 37, 0.8138537406921387, 0.572992205619812, 0.441137433052063]"
                        ]
                    },
                    "metadata": {},
                    "output_type": "display_data"
                },
                {
                    "name": "stdout",
                    "output_type": "stream",
                    "text": [
                        "38 {'n_atomics': 30, 'n_concepts': 20, 'use_indicators': False, 'use_fixes': True, 'use_summaries_for_atomics': True}\n",
                        "Loaded model from /workdir/optimal-summaries-public/_models/etth1/multistep/ablaition-L336-T96/forecasting_a30_c20_indFalse_fixesTrue_summariesTrue.pt\n"
                    ]
                },
                {
                    "data": {
                        "text/plain": [
                            "['atomics', 38, 0.24853317439556122, 0.28470054268836975, 0.1217583566904068]"
                        ]
                    },
                    "metadata": {},
                    "output_type": "display_data"
                },
                {
                    "name": "stdout",
                    "output_type": "stream",
                    "text": [
                        "39 {'n_atomics': 30, 'n_concepts': 20, 'use_indicators': False, 'use_fixes': True, 'use_summaries_for_atomics': False}\n",
                        "Loaded model from /workdir/optimal-summaries-public/_models/etth1/multistep/ablaition-L336-T96/forecasting_a30_c20_indFalse_fixesTrue_summariesFalse.pt\n"
                    ]
                },
                {
                    "data": {
                        "text/plain": [
                            "['atomics', 39, 1.374423623085022, 0.7862122654914856, 0.7622995376586914]"
                        ]
                    },
                    "metadata": {},
                    "output_type": "display_data"
                },
                {
                    "name": "stdout",
                    "output_type": "stream",
                    "text": [
                        "40 {'n_atomics': 30, 'n_concepts': 500, 'use_indicators': True, 'use_fixes': False, 'use_summaries_for_atomics': True}\n",
                        "Loaded model from /workdir/optimal-summaries-public/_models/etth1/multistep/ablaition-L336-T96/forecasting_a30_c500_indTrue_fixesFalse_summariesTrue.pt\n"
                    ]
                },
                {
                    "data": {
                        "text/plain": [
                            "['atomics', 40, 6.468278884887695, 0.3204360902309418, 0.1461835652589798]"
                        ]
                    },
                    "metadata": {},
                    "output_type": "display_data"
                },
                {
                    "name": "stdout",
                    "output_type": "stream",
                    "text": [
                        "41 {'n_atomics': 30, 'n_concepts': 500, 'use_indicators': True, 'use_fixes': False, 'use_summaries_for_atomics': False}\n",
                        "Loaded model from /workdir/optimal-summaries-public/_models/etth1/multistep/ablaition-L336-T96/forecasting_a30_c500_indTrue_fixesFalse_summariesFalse.pt\n"
                    ]
                },
                {
                    "data": {
                        "text/plain": [
                            "['atomics', 41, 5.390454292297363, 0.6160073280334473, 0.6252082586288452]"
                        ]
                    },
                    "metadata": {},
                    "output_type": "display_data"
                },
                {
                    "name": "stdout",
                    "output_type": "stream",
                    "text": [
                        "42 {'n_atomics': 30, 'n_concepts': 500, 'use_indicators': True, 'use_fixes': True, 'use_summaries_for_atomics': True}\n",
                        "Loaded model from /workdir/optimal-summaries-public/_models/etth1/multistep/ablaition-L336-T96/forecasting_a30_c500_indTrue_fixesTrue_summariesTrue.pt\n"
                    ]
                },
                {
                    "data": {
                        "text/plain": [
                            "['atomics', 42, 6.366980075836182, 0.32756125926971436, 0.15380451083183289]"
                        ]
                    },
                    "metadata": {},
                    "output_type": "display_data"
                },
                {
                    "name": "stdout",
                    "output_type": "stream",
                    "text": [
                        "43 {'n_atomics': 30, 'n_concepts': 500, 'use_indicators': True, 'use_fixes': True, 'use_summaries_for_atomics': False}\n",
                        "Loaded model from /workdir/optimal-summaries-public/_models/etth1/multistep/ablaition-L336-T96/forecasting_a30_c500_indTrue_fixesTrue_summariesFalse.pt\n"
                    ]
                },
                {
                    "data": {
                        "text/plain": [
                            "['atomics', 43, 4.37160062789917, 0.7675623297691345, 0.9057641625404358]"
                        ]
                    },
                    "metadata": {},
                    "output_type": "display_data"
                },
                {
                    "name": "stdout",
                    "output_type": "stream",
                    "text": [
                        "44 {'n_atomics': 30, 'n_concepts': 500, 'use_indicators': False, 'use_fixes': False, 'use_summaries_for_atomics': True}\n",
                        "Loaded model from /workdir/optimal-summaries-public/_models/etth1/multistep/ablaition-L336-T96/forecasting_a30_c500_indFalse_fixesFalse_summariesTrue.pt\n"
                    ]
                },
                {
                    "data": {
                        "text/plain": [
                            "['atomics', 44, 5.343559741973877, 0.2612794041633606, 0.10585223883390427]"
                        ]
                    },
                    "metadata": {},
                    "output_type": "display_data"
                },
                {
                    "name": "stdout",
                    "output_type": "stream",
                    "text": [
                        "45 {'n_atomics': 30, 'n_concepts': 500, 'use_indicators': False, 'use_fixes': False, 'use_summaries_for_atomics': False}\n",
                        "Loaded model from /workdir/optimal-summaries-public/_models/etth1/multistep/ablaition-L336-T96/forecasting_a30_c500_indFalse_fixesFalse_summariesFalse.pt\n"
                    ]
                },
                {
                    "data": {
                        "text/plain": [
                            "['atomics', 45, 6.5788445472717285, 0.8862122297286987, 1.213047742843628]"
                        ]
                    },
                    "metadata": {},
                    "output_type": "display_data"
                },
                {
                    "name": "stdout",
                    "output_type": "stream",
                    "text": [
                        "46 {'n_atomics': 30, 'n_concepts': 500, 'use_indicators': False, 'use_fixes': True, 'use_summaries_for_atomics': True}\n",
                        "Loaded model from /workdir/optimal-summaries-public/_models/etth1/multistep/ablaition-L336-T96/forecasting_a30_c500_indFalse_fixesTrue_summariesTrue.pt\n"
                    ]
                },
                {
                    "data": {
                        "text/plain": [
                            "['atomics', 46, 6.500406265258789, 0.2587129473686218, 0.10349474847316742]"
                        ]
                    },
                    "metadata": {},
                    "output_type": "display_data"
                },
                {
                    "name": "stdout",
                    "output_type": "stream",
                    "text": [
                        "47 {'n_atomics': 30, 'n_concepts': 500, 'use_indicators': False, 'use_fixes': True, 'use_summaries_for_atomics': False}\n",
                        "Loaded model from /workdir/optimal-summaries-public/_models/etth1/multistep/ablaition-L336-T96/forecasting_a30_c500_indFalse_fixesTrue_summariesFalse.pt\n"
                    ]
                },
                {
                    "data": {
                        "text/plain": [
                            "['atomics', 47, 5.555604934692383, 0.5355167984962463, 0.4275006949901581]"
                        ]
                    },
                    "metadata": {},
                    "output_type": "display_data"
                },
                {
                    "name": "stdout",
                    "output_type": "stream",
                    "text": [
                        "48 {'n_atomics': 100, 'n_concepts': 4, 'use_indicators': True, 'use_fixes': False, 'use_summaries_for_atomics': True}\n",
                        "Loaded model from /workdir/optimal-summaries-public/_models/etth1/multistep/ablaition-L336-T96/forecasting_a100_c4_indTrue_fixesFalse_summariesTrue.pt\n"
                    ]
                },
                {
                    "data": {
                        "text/plain": [
                            "['atomics', 48, 1.7817453145980835, 0.9995310306549072, 1.1490470170974731]"
                        ]
                    },
                    "metadata": {},
                    "output_type": "display_data"
                },
                {
                    "name": "stdout",
                    "output_type": "stream",
                    "text": [
                        "49 {'n_atomics': 100, 'n_concepts': 4, 'use_indicators': True, 'use_fixes': False, 'use_summaries_for_atomics': False}\n",
                        "Loaded model from /workdir/optimal-summaries-public/_models/etth1/multistep/ablaition-L336-T96/forecasting_a100_c4_indTrue_fixesFalse_summariesFalse.pt\n"
                    ]
                },
                {
                    "data": {
                        "text/plain": [
                            "['atomics', 49, 1.251204252243042, 0.6878677010536194, 0.5947721004486084]"
                        ]
                    },
                    "metadata": {},
                    "output_type": "display_data"
                },
                {
                    "name": "stdout",
                    "output_type": "stream",
                    "text": [
                        "50 {'n_atomics': 100, 'n_concepts': 4, 'use_indicators': True, 'use_fixes': True, 'use_summaries_for_atomics': True}\n",
                        "Loaded model from /workdir/optimal-summaries-public/_models/etth1/multistep/ablaition-L336-T96/forecasting_a100_c4_indTrue_fixesTrue_summariesTrue.pt\n"
                    ]
                },
                {
                    "data": {
                        "text/plain": [
                            "['atomics', 50, 1.781147837638855, 0.9978145956993103, 1.1455819606781006]"
                        ]
                    },
                    "metadata": {},
                    "output_type": "display_data"
                },
                {
                    "name": "stdout",
                    "output_type": "stream",
                    "text": [
                        "51 {'n_atomics': 100, 'n_concepts': 4, 'use_indicators': True, 'use_fixes': True, 'use_summaries_for_atomics': False}\n",
                        "Loaded model from /workdir/optimal-summaries-public/_models/etth1/multistep/ablaition-L336-T96/forecasting_a100_c4_indTrue_fixesTrue_summariesFalse.pt\n"
                    ]
                },
                {
                    "data": {
                        "text/plain": [
                            "['atomics', 51, 1.2029874324798584, 0.6794101595878601, 0.5758837461471558]"
                        ]
                    },
                    "metadata": {},
                    "output_type": "display_data"
                },
                {
                    "name": "stdout",
                    "output_type": "stream",
                    "text": [
                        "52 {'n_atomics': 100, 'n_concepts': 4, 'use_indicators': False, 'use_fixes': False, 'use_summaries_for_atomics': True}\n",
                        "Loaded model from /workdir/optimal-summaries-public/_models/etth1/multistep/ablaition-L336-T96/forecasting_a100_c4_indFalse_fixesFalse_summariesTrue.pt\n"
                    ]
                },
                {
                    "data": {
                        "text/plain": [
                            "['atomics', 52, 0.4534011781215668, 0.2898332178592682, 0.136789008975029]"
                        ]
                    },
                    "metadata": {},
                    "output_type": "display_data"
                },
                {
                    "name": "stdout",
                    "output_type": "stream",
                    "text": [
                        "53 {'n_atomics': 100, 'n_concepts': 4, 'use_indicators': False, 'use_fixes': False, 'use_summaries_for_atomics': False}\n",
                        "Loaded model from /workdir/optimal-summaries-public/_models/etth1/multistep/ablaition-L336-T96/forecasting_a100_c4_indFalse_fixesFalse_summariesFalse.pt\n"
                    ]
                },
                {
                    "data": {
                        "text/plain": [
                            "['atomics', 53, 0.5321527719497681, 0.5383585095405579, 0.45716592669487]"
                        ]
                    },
                    "metadata": {},
                    "output_type": "display_data"
                },
                {
                    "name": "stdout",
                    "output_type": "stream",
                    "text": [
                        "54 {'n_atomics': 100, 'n_concepts': 4, 'use_indicators': False, 'use_fixes': True, 'use_summaries_for_atomics': True}\n",
                        "Loaded model from /workdir/optimal-summaries-public/_models/etth1/multistep/ablaition-L336-T96/forecasting_a100_c4_indFalse_fixesTrue_summariesTrue.pt\n"
                    ]
                },
                {
                    "data": {
                        "text/plain": [
                            "['atomics', 54, 1.7795366048812866, 0.9991546273231506, 1.148271083831787]"
                        ]
                    },
                    "metadata": {},
                    "output_type": "display_data"
                },
                {
                    "name": "stdout",
                    "output_type": "stream",
                    "text": [
                        "55 {'n_atomics': 100, 'n_concepts': 4, 'use_indicators': False, 'use_fixes': True, 'use_summaries_for_atomics': False}\n",
                        "Loaded model from /workdir/optimal-summaries-public/_models/etth1/multistep/ablaition-L336-T96/forecasting_a100_c4_indFalse_fixesTrue_summariesFalse.pt\n"
                    ]
                },
                {
                    "data": {
                        "text/plain": [
                            "['atomics', 55, 0.8972527980804443, 0.5229268074035645, 0.3794662654399872]"
                        ]
                    },
                    "metadata": {},
                    "output_type": "display_data"
                },
                {
                    "name": "stdout",
                    "output_type": "stream",
                    "text": [
                        "56 {'n_atomics': 100, 'n_concepts': 20, 'use_indicators': True, 'use_fixes': False, 'use_summaries_for_atomics': True}\n",
                        "Loaded model from /workdir/optimal-summaries-public/_models/etth1/multistep/ablaition-L336-T96/forecasting_a100_c20_indTrue_fixesFalse_summariesTrue.pt\n"
                    ]
                },
                {
                    "data": {
                        "text/plain": [
                            "['atomics', 56, 1.7844339609146118, 0.9956719875335693, 1.1413121223449707]"
                        ]
                    },
                    "metadata": {},
                    "output_type": "display_data"
                },
                {
                    "name": "stdout",
                    "output_type": "stream",
                    "text": [
                        "57 {'n_atomics': 100, 'n_concepts': 20, 'use_indicators': True, 'use_fixes': False, 'use_summaries_for_atomics': False}\n",
                        "Loaded model from /workdir/optimal-summaries-public/_models/etth1/multistep/ablaition-L336-T96/forecasting_a100_c20_indTrue_fixesFalse_summariesFalse.pt\n"
                    ]
                },
                {
                    "data": {
                        "text/plain": [
                            "['atomics', 57, 1.2025439739227295, 0.6969399452209473, 0.5936058163642883]"
                        ]
                    },
                    "metadata": {},
                    "output_type": "display_data"
                },
                {
                    "name": "stdout",
                    "output_type": "stream",
                    "text": [
                        "58 {'n_atomics': 100, 'n_concepts': 20, 'use_indicators': True, 'use_fixes': True, 'use_summaries_for_atomics': True}\n",
                        "Loaded model from /workdir/optimal-summaries-public/_models/etth1/multistep/ablaition-L336-T96/forecasting_a100_c20_indTrue_fixesTrue_summariesTrue.pt\n"
                    ]
                },
                {
                    "data": {
                        "text/plain": [
                            "['atomics', 58, 1.7854828834533691, 0.9968992471694946, 1.1436805725097656]"
                        ]
                    },
                    "metadata": {},
                    "output_type": "display_data"
                },
                {
                    "name": "stdout",
                    "output_type": "stream",
                    "text": [
                        "59 {'n_atomics': 100, 'n_concepts': 20, 'use_indicators': True, 'use_fixes': True, 'use_summaries_for_atomics': False}\n",
                        "Loaded model from /workdir/optimal-summaries-public/_models/etth1/multistep/ablaition-L336-T96/forecasting_a100_c20_indTrue_fixesTrue_summariesFalse.pt\n"
                    ]
                },
                {
                    "data": {
                        "text/plain": [
                            "['atomics', 59, 1.5618937015533447, 0.6945786476135254, 0.6896718144416809]"
                        ]
                    },
                    "metadata": {},
                    "output_type": "display_data"
                },
                {
                    "name": "stdout",
                    "output_type": "stream",
                    "text": [
                        "60 {'n_atomics': 100, 'n_concepts': 20, 'use_indicators': False, 'use_fixes': False, 'use_summaries_for_atomics': True}\n",
                        "Loaded model from /workdir/optimal-summaries-public/_models/etth1/multistep/ablaition-L336-T96/forecasting_a100_c20_indFalse_fixesFalse_summariesTrue.pt\n"
                    ]
                },
                {
                    "data": {
                        "text/plain": [
                            "['atomics', 60, 0.34514907002449036, 0.29534217715263367, 0.12726664543151855]"
                        ]
                    },
                    "metadata": {},
                    "output_type": "display_data"
                },
                {
                    "name": "stdout",
                    "output_type": "stream",
                    "text": [
                        "61 {'n_atomics': 100, 'n_concepts': 20, 'use_indicators': False, 'use_fixes': False, 'use_summaries_for_atomics': False}\n",
                        "Loaded model from /workdir/optimal-summaries-public/_models/etth1/multistep/ablaition-L336-T96/forecasting_a100_c20_indFalse_fixesFalse_summariesFalse.pt\n"
                    ]
                },
                {
                    "data": {
                        "text/plain": [
                            "['atomics', 61, 0.6058251261711121, 0.42342305183410645, 0.30481624603271484]"
                        ]
                    },
                    "metadata": {},
                    "output_type": "display_data"
                },
                {
                    "name": "stdout",
                    "output_type": "stream",
                    "text": [
                        "62 {'n_atomics': 100, 'n_concepts': 20, 'use_indicators': False, 'use_fixes': True, 'use_summaries_for_atomics': True}\n",
                        "Loaded model from /workdir/optimal-summaries-public/_models/etth1/multistep/ablaition-L336-T96/forecasting_a100_c20_indFalse_fixesTrue_summariesTrue.pt\n"
                    ]
                },
                {
                    "data": {
                        "text/plain": [
                            "['atomics', 62, 0.34647443890571594, 0.2775097191333771, 0.1176181435585022]"
                        ]
                    },
                    "metadata": {},
                    "output_type": "display_data"
                },
                {
                    "name": "stdout",
                    "output_type": "stream",
                    "text": [
                        "63 {'n_atomics': 100, 'n_concepts': 20, 'use_indicators': False, 'use_fixes': True, 'use_summaries_for_atomics': False}\n",
                        "Loaded model from /workdir/optimal-summaries-public/_models/etth1/multistep/ablaition-L336-T96/forecasting_a100_c20_indFalse_fixesTrue_summariesFalse.pt\n"
                    ]
                },
                {
                    "data": {
                        "text/plain": [
                            "['atomics', 63, 1.2521717548370361, 0.7085130214691162, 0.625454306602478]"
                        ]
                    },
                    "metadata": {},
                    "output_type": "display_data"
                },
                {
                    "name": "stdout",
                    "output_type": "stream",
                    "text": [
                        "64 {'n_atomics': 100, 'n_concepts': 500, 'use_indicators': True, 'use_fixes': False, 'use_summaries_for_atomics': True}\n",
                        "Loaded model from /workdir/optimal-summaries-public/_models/etth1/multistep/ablaition-L336-T96/forecasting_a100_c500_indTrue_fixesFalse_summariesTrue.pt\n"
                    ]
                },
                {
                    "data": {
                        "text/plain": [
                            "['atomics', 64, 1.1605428457260132, 0.2571442723274231, 0.10507579892873764]"
                        ]
                    },
                    "metadata": {},
                    "output_type": "display_data"
                },
                {
                    "name": "stdout",
                    "output_type": "stream",
                    "text": [
                        "65 {'n_atomics': 100, 'n_concepts': 500, 'use_indicators': True, 'use_fixes': False, 'use_summaries_for_atomics': False}\n",
                        "Loaded model from /workdir/optimal-summaries-public/_models/etth1/multistep/ablaition-L336-T96/forecasting_a100_c500_indTrue_fixesFalse_summariesFalse.pt\n"
                    ]
                },
                {
                    "data": {
                        "text/plain": [
                            "['atomics', 65, 2.2052245140075684, 0.7273761630058289, 0.7945476174354553]"
                        ]
                    },
                    "metadata": {},
                    "output_type": "display_data"
                },
                {
                    "name": "stdout",
                    "output_type": "stream",
                    "text": [
                        "66 {'n_atomics': 100, 'n_concepts': 500, 'use_indicators': True, 'use_fixes': True, 'use_summaries_for_atomics': True}\n",
                        "Loaded model from /workdir/optimal-summaries-public/_models/etth1/multistep/ablaition-L336-T96/forecasting_a100_c500_indTrue_fixesTrue_summariesTrue.pt\n"
                    ]
                },
                {
                    "data": {
                        "text/plain": [
                            "['atomics', 66, 1.1070491075515747, 0.27274584770202637, 0.10814724117517471]"
                        ]
                    },
                    "metadata": {},
                    "output_type": "display_data"
                },
                {
                    "name": "stdout",
                    "output_type": "stream",
                    "text": [
                        "67 {'n_atomics': 100, 'n_concepts': 500, 'use_indicators': True, 'use_fixes': True, 'use_summaries_for_atomics': False}\n",
                        "Loaded model from /workdir/optimal-summaries-public/_models/etth1/multistep/ablaition-L336-T96/forecasting_a100_c500_indTrue_fixesTrue_summariesFalse.pt\n"
                    ]
                },
                {
                    "data": {
                        "text/plain": [
                            "['atomics', 67, 1.7945009469985962, 0.5498900413513184, 0.5099772810935974]"
                        ]
                    },
                    "metadata": {},
                    "output_type": "display_data"
                },
                {
                    "name": "stdout",
                    "output_type": "stream",
                    "text": [
                        "68 {'n_atomics': 100, 'n_concepts': 500, 'use_indicators': False, 'use_fixes': False, 'use_summaries_for_atomics': True}\n",
                        "Loaded model from /workdir/optimal-summaries-public/_models/etth1/multistep/ablaition-L336-T96/forecasting_a100_c500_indFalse_fixesFalse_summariesTrue.pt\n"
                    ]
                },
                {
                    "data": {
                        "text/plain": [
                            "['atomics', 68, 1.3756147623062134, 0.2891409993171692, 0.13612377643585205]"
                        ]
                    },
                    "metadata": {},
                    "output_type": "display_data"
                },
                {
                    "name": "stdout",
                    "output_type": "stream",
                    "text": [
                        "69 {'n_atomics': 100, 'n_concepts': 500, 'use_indicators': False, 'use_fixes': False, 'use_summaries_for_atomics': False}\n",
                        "Loaded model from /workdir/optimal-summaries-public/_models/etth1/multistep/ablaition-L336-T96/forecasting_a100_c500_indFalse_fixesFalse_summariesFalse.pt\n"
                    ]
                },
                {
                    "data": {
                        "text/plain": [
                            "['atomics', 69, 1.5664681196212769, 0.403489351272583, 0.26610681414604187]"
                        ]
                    },
                    "metadata": {},
                    "output_type": "display_data"
                },
                {
                    "name": "stdout",
                    "output_type": "stream",
                    "text": [
                        "70 {'n_atomics': 100, 'n_concepts': 500, 'use_indicators': False, 'use_fixes': True, 'use_summaries_for_atomics': True}\n",
                        "Loaded model from /workdir/optimal-summaries-public/_models/etth1/multistep/ablaition-L336-T96/forecasting_a100_c500_indFalse_fixesTrue_summariesTrue.pt\n"
                    ]
                },
                {
                    "data": {
                        "text/plain": [
                            "['atomics', 70, 1.2123088836669922, 0.27126213908195496, 0.10930252075195312]"
                        ]
                    },
                    "metadata": {},
                    "output_type": "display_data"
                },
                {
                    "name": "stdout",
                    "output_type": "stream",
                    "text": [
                        "71 {'n_atomics': 100, 'n_concepts': 500, 'use_indicators': False, 'use_fixes': True, 'use_summaries_for_atomics': False}\n",
                        "Loaded model from /workdir/optimal-summaries-public/_models/etth1/multistep/ablaition-L336-T96/forecasting_a100_c500_indFalse_fixesTrue_summariesFalse.pt\n"
                    ]
                },
                {
                    "data": {
                        "text/plain": [
                            "['atomics', 71, 1.486257553100586, 0.5129185914993286, 0.4372633099555969]"
                        ]
                    },
                    "metadata": {},
                    "output_type": "display_data"
                },
                {
                    "name": "stdout",
                    "output_type": "stream",
                    "text": [
                        "72 {'n_atomics': 500, 'n_concepts': 4, 'use_indicators': True, 'use_fixes': False, 'use_summaries_for_atomics': True}\n",
                        "Loaded model from /workdir/optimal-summaries-public/_models/etth1/multistep/ablaition-L336-T96/forecasting_a500_c4_indTrue_fixesFalse_summariesTrue.pt\n"
                    ]
                },
                {
                    "data": {
                        "text/plain": [
                            "['atomics', 72, 2.2919349670410156, 0.9496694207191467, 1.0526516437530518]"
                        ]
                    },
                    "metadata": {},
                    "output_type": "display_data"
                },
                {
                    "name": "stdout",
                    "output_type": "stream",
                    "text": [
                        "73 {'n_atomics': 500, 'n_concepts': 4, 'use_indicators': True, 'use_fixes': False, 'use_summaries_for_atomics': False}\n",
                        "Loaded model from /workdir/optimal-summaries-public/_models/etth1/multistep/ablaition-L336-T96/forecasting_a500_c4_indTrue_fixesFalse_summariesFalse.pt\n"
                    ]
                },
                {
                    "data": {
                        "text/plain": [
                            "['atomics', 73, 1.6703665256500244, 0.5542014837265015, 0.44619953632354736]"
                        ]
                    },
                    "metadata": {},
                    "output_type": "display_data"
                },
                {
                    "name": "stdout",
                    "output_type": "stream",
                    "text": [
                        "74 {'n_atomics': 500, 'n_concepts': 4, 'use_indicators': True, 'use_fixes': True, 'use_summaries_for_atomics': True}\n",
                        "Loaded model from /workdir/optimal-summaries-public/_models/etth1/multistep/ablaition-L336-T96/forecasting_a500_c4_indTrue_fixesTrue_summariesTrue.pt\n"
                    ]
                },
                {
                    "data": {
                        "text/plain": [
                            "['atomics', 74, 2.3432297706604004, 0.9763281345367432, 1.1038148403167725]"
                        ]
                    },
                    "metadata": {},
                    "output_type": "display_data"
                },
                {
                    "name": "stdout",
                    "output_type": "stream",
                    "text": [
                        "75 {'n_atomics': 500, 'n_concepts': 4, 'use_indicators': True, 'use_fixes': True, 'use_summaries_for_atomics': False}\n",
                        "Loaded model from /workdir/optimal-summaries-public/_models/etth1/multistep/ablaition-L336-T96/forecasting_a500_c4_indTrue_fixesTrue_summariesFalse.pt\n"
                    ]
                },
                {
                    "data": {
                        "text/plain": [
                            "['atomics', 75, 1.5402089357376099, 0.8109076619148254, 0.833582878112793]"
                        ]
                    },
                    "metadata": {},
                    "output_type": "display_data"
                },
                {
                    "name": "stdout",
                    "output_type": "stream",
                    "text": [
                        "76 {'n_atomics': 500, 'n_concepts': 4, 'use_indicators': False, 'use_fixes': False, 'use_summaries_for_atomics': True}\n",
                        "Loaded model from /workdir/optimal-summaries-public/_models/etth1/multistep/ablaition-L336-T96/forecasting_a500_c4_indFalse_fixesFalse_summariesTrue.pt\n"
                    ]
                },
                {
                    "data": {
                        "text/plain": [
                            "['atomics', 76, 4.06702995300293, 0.9833844900131226, 1.1167546510696411]"
                        ]
                    },
                    "metadata": {},
                    "output_type": "display_data"
                },
                {
                    "name": "stdout",
                    "output_type": "stream",
                    "text": [
                        "77 {'n_atomics': 500, 'n_concepts': 4, 'use_indicators': False, 'use_fixes': False, 'use_summaries_for_atomics': False}\n",
                        "Loaded model from /workdir/optimal-summaries-public/_models/etth1/multistep/ablaition-L336-T96/forecasting_a500_c4_indFalse_fixesFalse_summariesFalse.pt\n"
                    ]
                },
                {
                    "data": {
                        "text/plain": [
                            "['atomics', 77, 3.940666675567627, 0.826937735080719, 0.8485566973686218]"
                        ]
                    },
                    "metadata": {},
                    "output_type": "display_data"
                },
                {
                    "name": "stdout",
                    "output_type": "stream",
                    "text": [
                        "78 {'n_atomics': 500, 'n_concepts': 4, 'use_indicators': False, 'use_fixes': True, 'use_summaries_for_atomics': True}\n",
                        "Loaded model from /workdir/optimal-summaries-public/_models/etth1/multistep/ablaition-L336-T96/forecasting_a500_c4_indFalse_fixesTrue_summariesTrue.pt\n"
                    ]
                },
                {
                    "data": {
                        "text/plain": [
                            "['atomics', 78, 4.07013463973999, 0.9855527877807617, 1.1211260557174683]"
                        ]
                    },
                    "metadata": {},
                    "output_type": "display_data"
                },
                {
                    "name": "stdout",
                    "output_type": "stream",
                    "text": [
                        "79 {'n_atomics': 500, 'n_concepts': 4, 'use_indicators': False, 'use_fixes': True, 'use_summaries_for_atomics': False}\n",
                        "Loaded model from /workdir/optimal-summaries-public/_models/etth1/multistep/ablaition-L336-T96/forecasting_a500_c4_indFalse_fixesTrue_summariesFalse.pt\n"
                    ]
                },
                {
                    "data": {
                        "text/plain": [
                            "['atomics', 79, 2.7325921058654785, 0.3124155104160309, 0.15447446703910828]"
                        ]
                    },
                    "metadata": {},
                    "output_type": "display_data"
                },
                {
                    "name": "stdout",
                    "output_type": "stream",
                    "text": [
                        "80 {'n_atomics': 500, 'n_concepts': 20, 'use_indicators': True, 'use_fixes': False, 'use_summaries_for_atomics': True}\n",
                        "Loaded model from /workdir/optimal-summaries-public/_models/etth1/multistep/ablaition-L336-T96/forecasting_a500_c20_indTrue_fixesFalse_summariesTrue.pt\n"
                    ]
                },
                {
                    "data": {
                        "text/plain": [
                            "['atomics', 80, 2.4291820526123047, 0.9794854521751404, 1.1090235710144043]"
                        ]
                    },
                    "metadata": {},
                    "output_type": "display_data"
                },
                {
                    "name": "stdout",
                    "output_type": "stream",
                    "text": [
                        "81 {'n_atomics': 500, 'n_concepts': 20, 'use_indicators': True, 'use_fixes': False, 'use_summaries_for_atomics': False}\n",
                        "Loaded model from /workdir/optimal-summaries-public/_models/etth1/multistep/ablaition-L336-T96/forecasting_a500_c20_indTrue_fixesFalse_summariesFalse.pt\n"
                    ]
                },
                {
                    "data": {
                        "text/plain": [
                            "['atomics', 81, 2.083622455596924, 0.6221991777420044, 0.5462797284126282]"
                        ]
                    },
                    "metadata": {},
                    "output_type": "display_data"
                },
                {
                    "name": "stdout",
                    "output_type": "stream",
                    "text": [
                        "82 {'n_atomics': 500, 'n_concepts': 20, 'use_indicators': True, 'use_fixes': True, 'use_summaries_for_atomics': True}\n",
                        "Loaded model from /workdir/optimal-summaries-public/_models/etth1/multistep/ablaition-L336-T96/forecasting_a500_c20_indTrue_fixesTrue_summariesTrue.pt\n"
                    ]
                },
                {
                    "data": {
                        "text/plain": [
                            "['atomics', 82, 2.4443507194519043, 0.9623776078224182, 1.0768990516662598]"
                        ]
                    },
                    "metadata": {},
                    "output_type": "display_data"
                },
                {
                    "name": "stdout",
                    "output_type": "stream",
                    "text": [
                        "83 {'n_atomics': 500, 'n_concepts': 20, 'use_indicators': True, 'use_fixes': True, 'use_summaries_for_atomics': False}\n",
                        "Loaded model from /workdir/optimal-summaries-public/_models/etth1/multistep/ablaition-L336-T96/forecasting_a500_c20_indTrue_fixesTrue_summariesFalse.pt\n"
                    ]
                },
                {
                    "data": {
                        "text/plain": [
                            "['atomics', 83, 3.7100000381469727, 0.710518479347229, 0.6402788162231445]"
                        ]
                    },
                    "metadata": {},
                    "output_type": "display_data"
                },
                {
                    "name": "stdout",
                    "output_type": "stream",
                    "text": [
                        "84 {'n_atomics': 500, 'n_concepts': 20, 'use_indicators': False, 'use_fixes': False, 'use_summaries_for_atomics': True}\n",
                        "Loaded model from /workdir/optimal-summaries-public/_models/etth1/multistep/ablaition-L336-T96/forecasting_a500_c20_indFalse_fixesFalse_summariesTrue.pt\n"
                    ]
                },
                {
                    "data": {
                        "text/plain": [
                            "['atomics', 84, 4.148391246795654, 1.0004631280899048, 1.1511168479919434]"
                        ]
                    },
                    "metadata": {},
                    "output_type": "display_data"
                },
                {
                    "name": "stdout",
                    "output_type": "stream",
                    "text": [
                        "85 {'n_atomics': 500, 'n_concepts': 20, 'use_indicators': False, 'use_fixes': False, 'use_summaries_for_atomics': False}\n",
                        "Loaded model from /workdir/optimal-summaries-public/_models/etth1/multistep/ablaition-L336-T96/forecasting_a500_c20_indFalse_fixesFalse_summariesFalse.pt\n"
                    ]
                },
                {
                    "data": {
                        "text/plain": [
                            "['atomics', 85, 4.830635070800781, 0.6847928166389465, 0.5999628305435181]"
                        ]
                    },
                    "metadata": {},
                    "output_type": "display_data"
                },
                {
                    "name": "stdout",
                    "output_type": "stream",
                    "text": [
                        "86 {'n_atomics': 500, 'n_concepts': 20, 'use_indicators': False, 'use_fixes': True, 'use_summaries_for_atomics': True}\n",
                        "Loaded model from /workdir/optimal-summaries-public/_models/etth1/multistep/ablaition-L336-T96/forecasting_a500_c20_indFalse_fixesTrue_summariesTrue.pt\n"
                    ]
                },
                {
                    "data": {
                        "text/plain": [
                            "['atomics', 86, 4.129794597625732, 0.9968225955963135, 1.1436939239501953]"
                        ]
                    },
                    "metadata": {},
                    "output_type": "display_data"
                },
                {
                    "name": "stdout",
                    "output_type": "stream",
                    "text": [
                        "87 {'n_atomics': 500, 'n_concepts': 20, 'use_indicators': False, 'use_fixes': True, 'use_summaries_for_atomics': False}\n",
                        "Loaded model from /workdir/optimal-summaries-public/_models/etth1/multistep/ablaition-L336-T96/forecasting_a500_c20_indFalse_fixesTrue_summariesFalse.pt\n"
                    ]
                },
                {
                    "data": {
                        "text/plain": [
                            "['atomics', 87, 4.827919006347656, 0.6906740665435791, 0.609281063079834]"
                        ]
                    },
                    "metadata": {},
                    "output_type": "display_data"
                },
                {
                    "name": "stdout",
                    "output_type": "stream",
                    "text": [
                        "88 {'n_atomics': 500, 'n_concepts': 500, 'use_indicators': True, 'use_fixes': False, 'use_summaries_for_atomics': True}\n",
                        "Loaded model from /workdir/optimal-summaries-public/_models/etth1/multistep/ablaition-L336-T96/forecasting_a500_c500_indTrue_fixesFalse_summariesTrue.pt\n"
                    ]
                },
                {
                    "data": {
                        "text/plain": [
                            "['atomics', 88, 5.27920389175415, 0.9345826506614685, 1.0210727453231812]"
                        ]
                    },
                    "metadata": {},
                    "output_type": "display_data"
                },
                {
                    "name": "stdout",
                    "output_type": "stream",
                    "text": [
                        "89 {'n_atomics': 500, 'n_concepts': 500, 'use_indicators': True, 'use_fixes': False, 'use_summaries_for_atomics': False}\n",
                        "Loaded model from /workdir/optimal-summaries-public/_models/etth1/multistep/ablaition-L336-T96/forecasting_a500_c500_indTrue_fixesFalse_summariesFalse.pt\n"
                    ]
                },
                {
                    "data": {
                        "text/plain": [
                            "['atomics', 89, 5.105868816375732, 0.6963359117507935, 0.6887207627296448]"
                        ]
                    },
                    "metadata": {},
                    "output_type": "display_data"
                },
                {
                    "name": "stdout",
                    "output_type": "stream",
                    "text": [
                        "90 {'n_atomics': 500, 'n_concepts': 500, 'use_indicators': True, 'use_fixes': True, 'use_summaries_for_atomics': True}\n",
                        "Loaded model from /workdir/optimal-summaries-public/_models/etth1/multistep/ablaition-L336-T96/forecasting_a500_c500_indTrue_fixesTrue_summariesTrue.pt\n"
                    ]
                },
                {
                    "data": {
                        "text/plain": [
                            "['atomics', 90, 5.2715935707092285, 0.9353125691413879, 1.0225470066070557]"
                        ]
                    },
                    "metadata": {},
                    "output_type": "display_data"
                },
                {
                    "name": "stdout",
                    "output_type": "stream",
                    "text": [
                        "91 {'n_atomics': 500, 'n_concepts': 500, 'use_indicators': True, 'use_fixes': True, 'use_summaries_for_atomics': False}\n",
                        "Loaded model from /workdir/optimal-summaries-public/_models/etth1/multistep/ablaition-L336-T96/forecasting_a500_c500_indTrue_fixesTrue_summariesFalse.pt\n"
                    ]
                },
                {
                    "data": {
                        "text/plain": [
                            "['atomics', 91, 3.326101064682007, 0.5825076699256897, 0.5338794589042664]"
                        ]
                    },
                    "metadata": {},
                    "output_type": "display_data"
                },
                {
                    "name": "stdout",
                    "output_type": "stream",
                    "text": [
                        "92 {'n_atomics': 500, 'n_concepts': 500, 'use_indicators': False, 'use_fixes': False, 'use_summaries_for_atomics': True}\n",
                        "Loaded model from /workdir/optimal-summaries-public/_models/etth1/multistep/ablaition-L336-T96/forecasting_a500_c500_indFalse_fixesFalse_summariesTrue.pt\n"
                    ]
                },
                {
                    "data": {
                        "text/plain": [
                            "['atomics', 92, 6.357142448425293, 0.929629921913147, 1.0117695331573486]"
                        ]
                    },
                    "metadata": {},
                    "output_type": "display_data"
                },
                {
                    "name": "stdout",
                    "output_type": "stream",
                    "text": [
                        "93 {'n_atomics': 500, 'n_concepts': 500, 'use_indicators': False, 'use_fixes': False, 'use_summaries_for_atomics': False}\n",
                        "Loaded model from /workdir/optimal-summaries-public/_models/etth1/multistep/ablaition-L336-T96/forecasting_a500_c500_indFalse_fixesFalse_summariesFalse.pt\n"
                    ]
                },
                {
                    "data": {
                        "text/plain": [
                            "['atomics', 93, 6.173770427703857, 0.7077755928039551, 0.6873320937156677]"
                        ]
                    },
                    "metadata": {},
                    "output_type": "display_data"
                },
                {
                    "name": "stdout",
                    "output_type": "stream",
                    "text": [
                        "94 {'n_atomics': 500, 'n_concepts': 500, 'use_indicators': False, 'use_fixes': True, 'use_summaries_for_atomics': True}\n",
                        "Loaded model from /workdir/optimal-summaries-public/_models/etth1/multistep/ablaition-L336-T96/forecasting_a500_c500_indFalse_fixesTrue_summariesTrue.pt\n"
                    ]
                },
                {
                    "data": {
                        "text/plain": [
                            "['atomics', 94, 6.347557067871094, 0.9252278208732605, 1.0035995244979858]"
                        ]
                    },
                    "metadata": {},
                    "output_type": "display_data"
                },
                {
                    "name": "stdout",
                    "output_type": "stream",
                    "text": [
                        "95 {'n_atomics': 500, 'n_concepts': 500, 'use_indicators': False, 'use_fixes': True, 'use_summaries_for_atomics': False}\n",
                        "Loaded model from /workdir/optimal-summaries-public/_models/etth1/multistep/ablaition-L336-T96/forecasting_a500_c500_indFalse_fixesTrue_summariesFalse.pt\n"
                    ]
                },
                {
                    "data": {
                        "text/plain": [
                            "['atomics', 95, 6.364517688751221, 0.6402233242988586, 0.5981943011283875]"
                        ]
                    },
                    "metadata": {},
                    "output_type": "display_data"
                },
                {
                    "data": {
                        "text/plain": [
                            "(96, 5)"
                        ]
                    },
                    "execution_count": 18,
                    "metadata": {},
                    "output_type": "execute_result"
                }
            ],
            "source": [
                "history_atomics = []\n",
                "\n",
                "train_loader, val_loader, test_loader, scaler = preprocess_data(series, seq_len, pred_len=pred_len)\n",
                "\n",
                "for i, config in enumerate(all_config_permutations_atomics):\n",
                "    print(i, config)\n",
                "    \n",
                "    model = initializeModel_with_atomics(**config, input_dim=input_dim, changing_dim=changing_dim, seq_len=seq_len, output_dim=pred_len)\n",
                "    model.fit(train_loader, val_loader, p_weight=None, save_model_path=model_path_re.format(**config), max_epochs=10000)\n",
                "    \n",
                "    # display(model)\n",
                "    \n",
                "    model.eval()\n",
                "    with torch.no_grad():\n",
                "        for batch_idx, (Xb, yb) in enumerate(test_loader):\n",
                "            Xb, yb = Xb.to(device), yb.to(device)\n",
                "            preds = model.forward(Xb)\n",
                "            \n",
                "            mae = mae_metric(preds, yb).item()\n",
                "            mse = mse_metric(preds, yb).item()\n",
                "        mae = mae_metric.compute().item()\n",
                "        mse = mse_metric.compute().item()\n",
                "        mae_metric.reset()\n",
                "        mse_metric.reset()\n",
                "    \n",
                "    history = [\"atomics\", i, model.val_losses[-1], mae, mse]\n",
                "    display(history)\n",
                "    history_atomics.append(np.array(history))\n",
                "\n",
                "    # plot_losses(model.train_losses, model.val_losses)\n",
                "    \n",
                "    del model\n",
                "    gc.collect()\n",
                "    torch.cuda.empty_cache()\n",
                "    \n",
                "history_atomics = np.array(history_atomics)\n",
                "history_atomics.shape\n"
            ]
        },
        {
            "cell_type": "code",
            "execution_count": 19,
            "metadata": {},
            "outputs": [],
            "source": [
                "columns=[\"type\", \"config\", \"val_loss\", \"mae\", \"mse\"]\n",
                "dtypes = {'type': str, 'config': int, 'val_loss': float, 'mae': float, 'mse': float}\n",
                "\n",
                "df_og = pd.DataFrame(history_original, columns=columns).astype(dtypes)\n",
                "df_og = pd.concat([df_og, pd.DataFrame(all_config_permutations_og)], axis=1)\n",
                "\n",
                "df_atomics = pd.DataFrame(history_atomics, columns=columns).astype(dtypes)\n",
                "df_atomics = pd.concat([df_atomics, pd.DataFrame(all_config_permutations_atomics)], axis=1)\n",
                "\n",
                "result_df = pd.concat([df_og, df_atomics], ignore_index=True)\n",
                "# result_df"
            ]
        },
        {
            "cell_type": "code",
            "execution_count": 20,
            "metadata": {},
            "outputs": [
                {
                    "name": "stdout",
                    "output_type": "stream",
                    "text": [
                        "mae 0.7942625880241394\n",
                        "mse 0.7749140858650208\n",
                        "n_concepts 4\n"
                    ]
                }
            ],
            "source": [
                "for col in result_df.columns[3:6]:\n",
                "    baseline = result_df[(result_df['type'] == 'original') & (result_df['config'] == 0)][col].values[0]\n",
                "    print(col, baseline)\n",
                "    result_df[f'{col}_abs_imp'] = result_df[col] - baseline\n",
                "    # result_df[f'{col}_rel_imp'] = result_df[f'{col}_abs_imp'] / baseline\n",
                "# result_df"
            ]
        },
        {
            "cell_type": "code",
            "execution_count": 21,
            "metadata": {},
            "outputs": [
                {
                    "data": {
                        "text/html": [
                            "<div>\n",
                            "<style scoped>\n",
                            "    .dataframe tbody tr th:only-of-type {\n",
                            "        vertical-align: middle;\n",
                            "    }\n",
                            "\n",
                            "    .dataframe tbody tr th {\n",
                            "        vertical-align: top;\n",
                            "    }\n",
                            "\n",
                            "    .dataframe thead th {\n",
                            "        text-align: right;\n",
                            "    }\n",
                            "</style>\n",
                            "<table border=\"1\" class=\"dataframe\">\n",
                            "  <thead>\n",
                            "    <tr style=\"text-align: right;\">\n",
                            "      <th></th>\n",
                            "      <th>type</th>\n",
                            "      <th>config</th>\n",
                            "      <th>val_loss</th>\n",
                            "      <th>mae</th>\n",
                            "      <th>mse</th>\n",
                            "      <th>n_concepts</th>\n",
                            "      <th>use_indicators</th>\n",
                            "      <th>use_fixes</th>\n",
                            "      <th>use_only_last_timestep</th>\n",
                            "      <th>n_atomics</th>\n",
                            "      <th>use_summaries_for_atomics</th>\n",
                            "      <th>mae_abs_imp</th>\n",
                            "      <th>mse_abs_imp</th>\n",
                            "      <th>n_concepts_abs_imp</th>\n",
                            "    </tr>\n",
                            "  </thead>\n",
                            "  <tbody>\n",
                            "    <tr>\n",
                            "      <th>70</th>\n",
                            "      <td>atomics</td>\n",
                            "      <td>46</td>\n",
                            "      <td>6.500406</td>\n",
                            "      <td>0.258713</td>\n",
                            "      <td>0.103495</td>\n",
                            "      <td>500</td>\n",
                            "      <td>False</td>\n",
                            "      <td>True</td>\n",
                            "      <td>NaN</td>\n",
                            "      <td>30.0</td>\n",
                            "      <td>True</td>\n",
                            "      <td>-0.535550</td>\n",
                            "      <td>-0.671419</td>\n",
                            "      <td>496</td>\n",
                            "    </tr>\n",
                            "    <tr>\n",
                            "      <th>88</th>\n",
                            "      <td>atomics</td>\n",
                            "      <td>64</td>\n",
                            "      <td>1.160543</td>\n",
                            "      <td>0.257144</td>\n",
                            "      <td>0.105076</td>\n",
                            "      <td>500</td>\n",
                            "      <td>True</td>\n",
                            "      <td>False</td>\n",
                            "      <td>NaN</td>\n",
                            "      <td>100.0</td>\n",
                            "      <td>True</td>\n",
                            "      <td>-0.537118</td>\n",
                            "      <td>-0.669838</td>\n",
                            "      <td>496</td>\n",
                            "    </tr>\n",
                            "    <tr>\n",
                            "      <th>68</th>\n",
                            "      <td>atomics</td>\n",
                            "      <td>44</td>\n",
                            "      <td>5.343560</td>\n",
                            "      <td>0.261279</td>\n",
                            "      <td>0.105852</td>\n",
                            "      <td>500</td>\n",
                            "      <td>False</td>\n",
                            "      <td>False</td>\n",
                            "      <td>NaN</td>\n",
                            "      <td>30.0</td>\n",
                            "      <td>True</td>\n",
                            "      <td>-0.532983</td>\n",
                            "      <td>-0.669062</td>\n",
                            "      <td>496</td>\n",
                            "    </tr>\n",
                            "    <tr>\n",
                            "      <th>90</th>\n",
                            "      <td>atomics</td>\n",
                            "      <td>66</td>\n",
                            "      <td>1.107049</td>\n",
                            "      <td>0.272746</td>\n",
                            "      <td>0.108147</td>\n",
                            "      <td>500</td>\n",
                            "      <td>True</td>\n",
                            "      <td>True</td>\n",
                            "      <td>NaN</td>\n",
                            "      <td>100.0</td>\n",
                            "      <td>True</td>\n",
                            "      <td>-0.521517</td>\n",
                            "      <td>-0.666767</td>\n",
                            "      <td>496</td>\n",
                            "    </tr>\n",
                            "    <tr>\n",
                            "      <th>94</th>\n",
                            "      <td>atomics</td>\n",
                            "      <td>70</td>\n",
                            "      <td>1.212309</td>\n",
                            "      <td>0.271262</td>\n",
                            "      <td>0.109303</td>\n",
                            "      <td>500</td>\n",
                            "      <td>False</td>\n",
                            "      <td>True</td>\n",
                            "      <td>NaN</td>\n",
                            "      <td>100.0</td>\n",
                            "      <td>True</td>\n",
                            "      <td>-0.523000</td>\n",
                            "      <td>-0.665612</td>\n",
                            "      <td>496</td>\n",
                            "    </tr>\n",
                            "    <tr>\n",
                            "      <th>...</th>\n",
                            "      <td>...</td>\n",
                            "      <td>...</td>\n",
                            "      <td>...</td>\n",
                            "      <td>...</td>\n",
                            "      <td>...</td>\n",
                            "      <td>...</td>\n",
                            "      <td>...</td>\n",
                            "      <td>...</td>\n",
                            "      <td>...</td>\n",
                            "      <td>...</td>\n",
                            "      <td>...</td>\n",
                            "      <td>...</td>\n",
                            "      <td>...</td>\n",
                            "      <td>...</td>\n",
                            "    </tr>\n",
                            "    <tr>\n",
                            "      <th>78</th>\n",
                            "      <td>atomics</td>\n",
                            "      <td>54</td>\n",
                            "      <td>1.779537</td>\n",
                            "      <td>0.999155</td>\n",
                            "      <td>1.148271</td>\n",
                            "      <td>4</td>\n",
                            "      <td>False</td>\n",
                            "      <td>True</td>\n",
                            "      <td>NaN</td>\n",
                            "      <td>100.0</td>\n",
                            "      <td>True</td>\n",
                            "      <td>0.204892</td>\n",
                            "      <td>0.373357</td>\n",
                            "      <td>0</td>\n",
                            "    </tr>\n",
                            "    <tr>\n",
                            "      <th>72</th>\n",
                            "      <td>atomics</td>\n",
                            "      <td>48</td>\n",
                            "      <td>1.781745</td>\n",
                            "      <td>0.999531</td>\n",
                            "      <td>1.149047</td>\n",
                            "      <td>4</td>\n",
                            "      <td>True</td>\n",
                            "      <td>False</td>\n",
                            "      <td>NaN</td>\n",
                            "      <td>100.0</td>\n",
                            "      <td>True</td>\n",
                            "      <td>0.205268</td>\n",
                            "      <td>0.374133</td>\n",
                            "      <td>0</td>\n",
                            "    </tr>\n",
                            "    <tr>\n",
                            "      <th>108</th>\n",
                            "      <td>atomics</td>\n",
                            "      <td>84</td>\n",
                            "      <td>4.148391</td>\n",
                            "      <td>1.000463</td>\n",
                            "      <td>1.151117</td>\n",
                            "      <td>20</td>\n",
                            "      <td>False</td>\n",
                            "      <td>False</td>\n",
                            "      <td>NaN</td>\n",
                            "      <td>500.0</td>\n",
                            "      <td>True</td>\n",
                            "      <td>0.206201</td>\n",
                            "      <td>0.376203</td>\n",
                            "      <td>16</td>\n",
                            "    </tr>\n",
                            "    <tr>\n",
                            "      <th>24</th>\n",
                            "      <td>atomics</td>\n",
                            "      <td>0</td>\n",
                            "      <td>1.721214</td>\n",
                            "      <td>1.000709</td>\n",
                            "      <td>1.151318</td>\n",
                            "      <td>4</td>\n",
                            "      <td>True</td>\n",
                            "      <td>False</td>\n",
                            "      <td>NaN</td>\n",
                            "      <td>10.0</td>\n",
                            "      <td>True</td>\n",
                            "      <td>0.206447</td>\n",
                            "      <td>0.376404</td>\n",
                            "      <td>0</td>\n",
                            "    </tr>\n",
                            "    <tr>\n",
                            "      <th>69</th>\n",
                            "      <td>atomics</td>\n",
                            "      <td>45</td>\n",
                            "      <td>6.578845</td>\n",
                            "      <td>0.886212</td>\n",
                            "      <td>1.213048</td>\n",
                            "      <td>500</td>\n",
                            "      <td>False</td>\n",
                            "      <td>False</td>\n",
                            "      <td>NaN</td>\n",
                            "      <td>30.0</td>\n",
                            "      <td>False</td>\n",
                            "      <td>0.091950</td>\n",
                            "      <td>0.438134</td>\n",
                            "      <td>496</td>\n",
                            "    </tr>\n",
                            "  </tbody>\n",
                            "</table>\n",
                            "<p>120 rows × 14 columns</p>\n",
                            "</div>"
                        ],
                        "text/plain": [
                            "        type  config  val_loss       mae       mse  n_concepts  \\\n",
                            "70   atomics      46  6.500406  0.258713  0.103495         500   \n",
                            "88   atomics      64  1.160543  0.257144  0.105076         500   \n",
                            "68   atomics      44  5.343560  0.261279  0.105852         500   \n",
                            "90   atomics      66  1.107049  0.272746  0.108147         500   \n",
                            "94   atomics      70  1.212309  0.271262  0.109303         500   \n",
                            "..       ...     ...       ...       ...       ...         ...   \n",
                            "78   atomics      54  1.779537  0.999155  1.148271           4   \n",
                            "72   atomics      48  1.781745  0.999531  1.149047           4   \n",
                            "108  atomics      84  4.148391  1.000463  1.151117          20   \n",
                            "24   atomics       0  1.721214  1.000709  1.151318           4   \n",
                            "69   atomics      45  6.578845  0.886212  1.213048         500   \n",
                            "\n",
                            "     use_indicators  use_fixes use_only_last_timestep  n_atomics  \\\n",
                            "70            False       True                    NaN       30.0   \n",
                            "88             True      False                    NaN      100.0   \n",
                            "68            False      False                    NaN       30.0   \n",
                            "90             True       True                    NaN      100.0   \n",
                            "94            False       True                    NaN      100.0   \n",
                            "..              ...        ...                    ...        ...   \n",
                            "78            False       True                    NaN      100.0   \n",
                            "72             True      False                    NaN      100.0   \n",
                            "108           False      False                    NaN      500.0   \n",
                            "24             True      False                    NaN       10.0   \n",
                            "69            False      False                    NaN       30.0   \n",
                            "\n",
                            "    use_summaries_for_atomics  mae_abs_imp  mse_abs_imp  n_concepts_abs_imp  \n",
                            "70                       True    -0.535550    -0.671419                 496  \n",
                            "88                       True    -0.537118    -0.669838                 496  \n",
                            "68                       True    -0.532983    -0.669062                 496  \n",
                            "90                       True    -0.521517    -0.666767                 496  \n",
                            "94                       True    -0.523000    -0.665612                 496  \n",
                            "..                        ...          ...          ...                 ...  \n",
                            "78                       True     0.204892     0.373357                   0  \n",
                            "72                       True     0.205268     0.374133                   0  \n",
                            "108                      True     0.206201     0.376203                  16  \n",
                            "24                       True     0.206447     0.376404                   0  \n",
                            "69                      False     0.091950     0.438134                 496  \n",
                            "\n",
                            "[120 rows x 14 columns]"
                        ]
                    },
                    "execution_count": 21,
                    "metadata": {},
                    "output_type": "execute_result"
                }
            ],
            "source": [
                "pd.set_option('display.max_rows', 100)\n",
                "result_df.sort_values(by='mse', ascending=True)\n",
                "# atomics: atomics, concepts, use_indicators, use_fixes, output_dim, use_summaries_for_atomics\n",
                "# original: concepts, use_indicators, use_fixes, output_dim, use_only_last_timestep\n"
            ]
        },
        {
            "cell_type": "code",
            "execution_count": 22,
            "metadata": {},
            "outputs": [
                {
                    "data": {
                        "text/html": [
                            "<div>\n",
                            "<style scoped>\n",
                            "    .dataframe tbody tr th:only-of-type {\n",
                            "        vertical-align: middle;\n",
                            "    }\n",
                            "\n",
                            "    .dataframe tbody tr th {\n",
                            "        vertical-align: top;\n",
                            "    }\n",
                            "\n",
                            "    .dataframe thead th {\n",
                            "        text-align: right;\n",
                            "    }\n",
                            "</style>\n",
                            "<table border=\"1\" class=\"dataframe\">\n",
                            "  <thead>\n",
                            "    <tr style=\"text-align: right;\">\n",
                            "      <th></th>\n",
                            "      <th>mae</th>\n",
                            "      <th>mse</th>\n",
                            "    </tr>\n",
                            "    <tr>\n",
                            "      <th>use_summaries_for_atomics</th>\n",
                            "      <th></th>\n",
                            "      <th></th>\n",
                            "    </tr>\n",
                            "  </thead>\n",
                            "  <tbody>\n",
                            "    <tr>\n",
                            "      <th>False</th>\n",
                            "      <td>0.645140</td>\n",
                            "      <td>0.596774</td>\n",
                            "    </tr>\n",
                            "    <tr>\n",
                            "      <th>True</th>\n",
                            "      <td>0.548906</td>\n",
                            "      <td>0.495232</td>\n",
                            "    </tr>\n",
                            "  </tbody>\n",
                            "</table>\n",
                            "</div>"
                        ],
                        "text/plain": [
                            "                                mae       mse\n",
                            "use_summaries_for_atomics                    \n",
                            "False                      0.645140  0.596774\n",
                            "True                       0.548906  0.495232"
                        ]
                    },
                    "metadata": {},
                    "output_type": "display_data"
                },
                {
                    "data": {
                        "text/html": [
                            "<div>\n",
                            "<style scoped>\n",
                            "    .dataframe tbody tr th:only-of-type {\n",
                            "        vertical-align: middle;\n",
                            "    }\n",
                            "\n",
                            "    .dataframe tbody tr th {\n",
                            "        vertical-align: top;\n",
                            "    }\n",
                            "\n",
                            "    .dataframe thead th {\n",
                            "        text-align: right;\n",
                            "    }\n",
                            "</style>\n",
                            "<table border=\"1\" class=\"dataframe\">\n",
                            "  <thead>\n",
                            "    <tr style=\"text-align: right;\">\n",
                            "      <th></th>\n",
                            "      <th>mae</th>\n",
                            "      <th>mse</th>\n",
                            "    </tr>\n",
                            "    <tr>\n",
                            "      <th>use_only_last_timestep</th>\n",
                            "      <th></th>\n",
                            "      <th></th>\n",
                            "    </tr>\n",
                            "  </thead>\n",
                            "  <tbody>\n",
                            "    <tr>\n",
                            "      <th>False</th>\n",
                            "      <td>0.482160</td>\n",
                            "      <td>0.364145</td>\n",
                            "    </tr>\n",
                            "    <tr>\n",
                            "      <th>True</th>\n",
                            "      <td>0.667861</td>\n",
                            "      <td>0.612880</td>\n",
                            "    </tr>\n",
                            "  </tbody>\n",
                            "</table>\n",
                            "</div>"
                        ],
                        "text/plain": [
                            "                             mae       mse\n",
                            "use_only_last_timestep                    \n",
                            "False                   0.482160  0.364145\n",
                            "True                    0.667861  0.612880"
                        ]
                    },
                    "metadata": {},
                    "output_type": "display_data"
                },
                {
                    "data": {
                        "text/html": [
                            "<div>\n",
                            "<style scoped>\n",
                            "    .dataframe tbody tr th:only-of-type {\n",
                            "        vertical-align: middle;\n",
                            "    }\n",
                            "\n",
                            "    .dataframe tbody tr th {\n",
                            "        vertical-align: top;\n",
                            "    }\n",
                            "\n",
                            "    .dataframe thead th {\n",
                            "        text-align: right;\n",
                            "    }\n",
                            "</style>\n",
                            "<table border=\"1\" class=\"dataframe\">\n",
                            "  <thead>\n",
                            "    <tr style=\"text-align: right;\">\n",
                            "      <th></th>\n",
                            "      <th>mae</th>\n",
                            "      <th>mse</th>\n",
                            "    </tr>\n",
                            "    <tr>\n",
                            "      <th>use_fixes</th>\n",
                            "      <th></th>\n",
                            "      <th></th>\n",
                            "    </tr>\n",
                            "  </thead>\n",
                            "  <tbody>\n",
                            "    <tr>\n",
                            "      <th>False</th>\n",
                            "      <td>0.587329</td>\n",
                            "      <td>0.528849</td>\n",
                            "    </tr>\n",
                            "    <tr>\n",
                            "      <th>True</th>\n",
                            "      <td>0.597912</td>\n",
                            "      <td>0.540160</td>\n",
                            "    </tr>\n",
                            "  </tbody>\n",
                            "</table>\n",
                            "</div>"
                        ],
                        "text/plain": [
                            "                mae       mse\n",
                            "use_fixes                    \n",
                            "False      0.587329  0.528849\n",
                            "True       0.597912  0.540160"
                        ]
                    },
                    "metadata": {},
                    "output_type": "display_data"
                },
                {
                    "data": {
                        "text/html": [
                            "<div>\n",
                            "<style scoped>\n",
                            "    .dataframe tbody tr th:only-of-type {\n",
                            "        vertical-align: middle;\n",
                            "    }\n",
                            "\n",
                            "    .dataframe tbody tr th {\n",
                            "        vertical-align: top;\n",
                            "    }\n",
                            "\n",
                            "    .dataframe thead th {\n",
                            "        text-align: right;\n",
                            "    }\n",
                            "</style>\n",
                            "<table border=\"1\" class=\"dataframe\">\n",
                            "  <thead>\n",
                            "    <tr style=\"text-align: right;\">\n",
                            "      <th></th>\n",
                            "      <th>mae</th>\n",
                            "      <th>mse</th>\n",
                            "    </tr>\n",
                            "    <tr>\n",
                            "      <th>n_atomics</th>\n",
                            "      <th></th>\n",
                            "      <th></th>\n",
                            "    </tr>\n",
                            "  </thead>\n",
                            "  <tbody>\n",
                            "    <tr>\n",
                            "      <th>10.0</th>\n",
                            "      <td>0.505078</td>\n",
                            "      <td>0.414751</td>\n",
                            "    </tr>\n",
                            "    <tr>\n",
                            "      <th>30.0</th>\n",
                            "      <td>0.487761</td>\n",
                            "      <td>0.397687</td>\n",
                            "    </tr>\n",
                            "    <tr>\n",
                            "      <th>100.0</th>\n",
                            "      <td>0.586989</td>\n",
                            "      <td>0.533206</td>\n",
                            "    </tr>\n",
                            "    <tr>\n",
                            "      <th>500.0</th>\n",
                            "      <td>0.808264</td>\n",
                            "      <td>0.838367</td>\n",
                            "    </tr>\n",
                            "  </tbody>\n",
                            "</table>\n",
                            "</div>"
                        ],
                        "text/plain": [
                            "                mae       mse\n",
                            "n_atomics                    \n",
                            "10.0       0.505078  0.414751\n",
                            "30.0       0.487761  0.397687\n",
                            "100.0      0.586989  0.533206\n",
                            "500.0      0.808264  0.838367"
                        ]
                    },
                    "metadata": {},
                    "output_type": "display_data"
                },
                {
                    "data": {
                        "text/html": [
                            "<div>\n",
                            "<style scoped>\n",
                            "    .dataframe tbody tr th:only-of-type {\n",
                            "        vertical-align: middle;\n",
                            "    }\n",
                            "\n",
                            "    .dataframe tbody tr th {\n",
                            "        vertical-align: top;\n",
                            "    }\n",
                            "\n",
                            "    .dataframe thead th {\n",
                            "        text-align: right;\n",
                            "    }\n",
                            "</style>\n",
                            "<table border=\"1\" class=\"dataframe\">\n",
                            "  <thead>\n",
                            "    <tr style=\"text-align: right;\">\n",
                            "      <th></th>\n",
                            "      <th>mae</th>\n",
                            "      <th>mse</th>\n",
                            "    </tr>\n",
                            "    <tr>\n",
                            "      <th>use_indicators</th>\n",
                            "      <th></th>\n",
                            "      <th></th>\n",
                            "    </tr>\n",
                            "  </thead>\n",
                            "  <tbody>\n",
                            "    <tr>\n",
                            "      <th>False</th>\n",
                            "      <td>0.549098</td>\n",
                            "      <td>0.472091</td>\n",
                            "    </tr>\n",
                            "    <tr>\n",
                            "      <th>True</th>\n",
                            "      <td>0.636143</td>\n",
                            "      <td>0.596919</td>\n",
                            "    </tr>\n",
                            "  </tbody>\n",
                            "</table>\n",
                            "</div>"
                        ],
                        "text/plain": [
                            "                     mae       mse\n",
                            "use_indicators                    \n",
                            "False           0.549098  0.472091\n",
                            "True            0.636143  0.596919"
                        ]
                    },
                    "metadata": {},
                    "output_type": "display_data"
                },
                {
                    "data": {
                        "text/html": [
                            "<div>\n",
                            "<style scoped>\n",
                            "    .dataframe tbody tr th:only-of-type {\n",
                            "        vertical-align: middle;\n",
                            "    }\n",
                            "\n",
                            "    .dataframe tbody tr th {\n",
                            "        vertical-align: top;\n",
                            "    }\n",
                            "\n",
                            "    .dataframe thead th {\n",
                            "        text-align: right;\n",
                            "    }\n",
                            "</style>\n",
                            "<table border=\"1\" class=\"dataframe\">\n",
                            "  <thead>\n",
                            "    <tr style=\"text-align: right;\">\n",
                            "      <th></th>\n",
                            "      <th>mae</th>\n",
                            "      <th>mse</th>\n",
                            "    </tr>\n",
                            "    <tr>\n",
                            "      <th>n_concepts</th>\n",
                            "      <th></th>\n",
                            "      <th></th>\n",
                            "    </tr>\n",
                            "  </thead>\n",
                            "  <tbody>\n",
                            "    <tr>\n",
                            "      <th>4</th>\n",
                            "      <td>0.634052</td>\n",
                            "      <td>0.585910</td>\n",
                            "    </tr>\n",
                            "    <tr>\n",
                            "      <th>20</th>\n",
                            "      <td>0.605415</td>\n",
                            "      <td>0.533039</td>\n",
                            "    </tr>\n",
                            "    <tr>\n",
                            "      <th>500</th>\n",
                            "      <td>0.538394</td>\n",
                            "      <td>0.484566</td>\n",
                            "    </tr>\n",
                            "  </tbody>\n",
                            "</table>\n",
                            "</div>"
                        ],
                        "text/plain": [
                            "                 mae       mse\n",
                            "n_concepts                    \n",
                            "4           0.634052  0.585910\n",
                            "20          0.605415  0.533039\n",
                            "500         0.538394  0.484566"
                        ]
                    },
                    "metadata": {},
                    "output_type": "display_data"
                },
                {
                    "data": {
                        "text/html": [
                            "<div>\n",
                            "<style scoped>\n",
                            "    .dataframe tbody tr th:only-of-type {\n",
                            "        vertical-align: middle;\n",
                            "    }\n",
                            "\n",
                            "    .dataframe tbody tr th {\n",
                            "        vertical-align: top;\n",
                            "    }\n",
                            "\n",
                            "    .dataframe thead th {\n",
                            "        text-align: right;\n",
                            "    }\n",
                            "</style>\n",
                            "<table border=\"1\" class=\"dataframe\">\n",
                            "  <thead>\n",
                            "    <tr style=\"text-align: right;\">\n",
                            "      <th></th>\n",
                            "      <th>mae</th>\n",
                            "      <th>mse</th>\n",
                            "    </tr>\n",
                            "    <tr>\n",
                            "      <th>type</th>\n",
                            "      <th></th>\n",
                            "      <th></th>\n",
                            "    </tr>\n",
                            "  </thead>\n",
                            "  <tbody>\n",
                            "    <tr>\n",
                            "      <th>atomics</th>\n",
                            "      <td>0.597023</td>\n",
                            "      <td>0.546003</td>\n",
                            "    </tr>\n",
                            "    <tr>\n",
                            "      <th>original</th>\n",
                            "      <td>0.575011</td>\n",
                            "      <td>0.488512</td>\n",
                            "    </tr>\n",
                            "  </tbody>\n",
                            "</table>\n",
                            "</div>"
                        ],
                        "text/plain": [
                            "               mae       mse\n",
                            "type                        \n",
                            "atomics   0.597023  0.546003\n",
                            "original  0.575011  0.488512"
                        ]
                    },
                    "metadata": {},
                    "output_type": "display_data"
                }
            ],
            "source": [
                "for key in set(list(all_config_permutations_og[0].keys()) + list(all_config_permutations_atomics[0].keys())):\n",
                "    display(result_df.groupby(key)[[\"mae\", \"mse\"]].mean())\n",
                "\n",
                "display(result_df.groupby(\"type\")[[\"mae\", \"mse\"]].mean())"
            ]
        },
        {
            "cell_type": "code",
            "execution_count": null,
            "metadata": {},
            "outputs": [],
            "source": [
                "# plot_mae_mse(history_re, \"Atomics cat Summaries\")\n",
                "# plot_atomics_concepts_metric(history_atomics, \"Atomics cat Summaries\")\n"
            ]
        },
        {
            "cell_type": "code",
            "execution_count": null,
            "metadata": {},
            "outputs": [],
            "source": [
                "# # Plot Prediction vs actual\n",
                "# train_loader, val_loader, test_loader, scaler = preprocess_data(series, seq_len, pred_len=pred_len)\n",
                "\n",
                "# mae_metric = MeanAbsoluteError().to(device)\n",
                "# mse_metric = MeanSquaredError().to(device)\n",
                "# n_concepts = 600\n",
                "\n",
                "# model = initializeModel_redesigned(n_concepts, input_dim, changing_dim, seq_len, output_dim=pred_len)\n",
                "# model.fit(train_loader, val_loader, None, save_model_path=model_path_re.format(n_concepts), max_epochs=10000)\n",
                "\n",
                "# model.eval()\n",
                "# with torch.no_grad():\n",
                "#     for batch_idx, (Xb, yb) in enumerate(val_loader):\n",
                "#         Xb, yb = Xb.to(device), yb.to(device)\n",
                "#         preds = model.forward(Xb)\n",
                "        \n",
                "#         mae = mae_metric(preds, yb).item()\n",
                "#         mse = mse_metric(preds, yb).item()\n",
                "#         break\n",
                "#     mae = mae_metric.compute().item()\n",
                "#     mse = mse_metric.compute().item()\n",
                "#     mae_metric.reset()\n",
                "#     mse_metric.reset()\n",
                "\n",
                "\n",
                "# i = 20\n",
                "# yb = yb.cpu().numpy()[i]\n",
                "# preds = preds.cpu().numpy()[i]\n",
                "\n",
                "# print(yb.shape)\n",
                "# print(preds.shape)\n",
                "\n",
                "# plot_prediction_vs_true(yb, preds, title=f\"Redesigned - Predictions with {n_concepts} Concepts\")\n"
            ]
        },
        {
            "cell_type": "markdown",
            "metadata": {},
            "source": [
                "## Input cat Summaries to Atomics"
            ]
        },
        {
            "cell_type": "code",
            "execution_count": null,
            "metadata": {},
            "outputs": [],
            "source": [
                "experiment_folder = f\"/workdir/optimal-summaries-public/_models/etth1/input-cat-summaries-L{seq_len}-T{pred_len}/\"\n",
                "model_path_re = experiment_folder + \"forecasting_c{}_a{}.pt\"\n",
                "\n",
                "if not os.path.exists(experiment_folder):\n",
                "    os.makedirs(experiment_folder)"
            ]
        },
        {
            "cell_type": "code",
            "execution_count": null,
            "metadata": {},
            "outputs": [],
            "source": [
                "history_atomics = []\n",
                "\n",
                "train_loader, val_loader, test_loader, scaler = preprocess_data(series, seq_len, pred_len=pred_len)\n",
                "\n",
                "mae_metric = MeanAbsoluteError().to(device)\n",
                "mse_metric = MeanSquaredError().to(device)\n",
                "\n",
                "\n",
                "for n_concepts in n_concepts_list:\n",
                "    for n_atomics in n_atomics_list:\n",
                "        print(\"n_atomics\", n_atomics, \"n_concepts\", n_concepts)\n",
                "        \n",
                "        model = initializeModel_with_atomics(n_atomics, n_concepts, input_dim, changing_dim, seq_len, output_dim=pred_len, use_summaries_for_atomics=True)\n",
                "        print(\"test\", model.output_dim)\n",
                "        model.fit(train_loader, val_loader, None, save_model_path=model_path_re.format(n_concepts, n_atomics), max_epochs=10000)\n",
                "        \n",
                "        print(\"Trained for \", model.curr_epoch+1)\n",
                "        display(model)\n",
                "        \n",
                "        model.eval()\n",
                "        with torch.no_grad():\n",
                "            for batch_idx, (Xb, yb) in enumerate(test_loader):\n",
                "                Xb, yb = Xb.to(device), yb.to(device)\n",
                "                preds = model.forward(Xb)\n",
                "                \n",
                "                mae = mae_metric(preds, yb).item()\n",
                "                mse = mse_metric(preds, yb).item()\n",
                "            mae = mae_metric.compute().item()\n",
                "            mse = mse_metric.compute().item()\n",
                "            mae_metric.reset()\n",
                "            mse_metric.reset()\n",
                "        \n",
                "        history = [n_atomics, n_concepts, round(model.val_losses[-1],2), mae, mse]\n",
                "        display(history)\n",
                "        history_atomics.append(np.array(history))\n",
                "    \n",
                "        plot_losses(model.train_losses, model.val_losses)\n",
                "        torch.cuda.empty_cache()\n",
                "    \n",
                "history_atomics = np.array(history_atomics)\n",
                "history_atomics.shape\n"
            ]
        },
        {
            "cell_type": "code",
            "execution_count": null,
            "metadata": {},
            "outputs": [],
            "source": [
                "# plot_mae_mse(history_re, \"Input cat Summaries\")\n",
                "plot_atomics_concepts_metric(history_atomics, \"Input cat Summaries\")\n"
            ]
        },
        {
            "cell_type": "code",
            "execution_count": null,
            "metadata": {},
            "outputs": [],
            "source": [
                "# Plot Prediction vs actual\n",
                "train_loader, val_loader, test_loader, scaler = preprocess_data(series, seq_len, pred_len=pred_len)\n",
                "\n",
                "mae_metric = MeanAbsoluteError().to(device)\n",
                "mse_metric = MeanSquaredError().to(device)\n",
                "\n",
                "n_concepts = 47\n",
                "n_atomics = 34\n",
                "\n",
                "model = initializeModel_with_atomics(n_atomics, n_concepts, input_dim, changing_dim, seq_len, output_dim=pred_len, use_summaries_for_atomics=True)\n",
                "scheduler = torch.optim.lr_scheduler.ReduceLROnPlateau(optimizer=model.optimizer, patience=5) \n",
                "\n",
                "model.fit(train_loader, val_loader, None, save_model_path=model_path_re.format(n_concepts, n_atomics), max_epochs=10000, scheduler=scheduler)\n",
                "\n",
                "\n",
                "model.eval()\n",
                "with torch.no_grad():\n",
                "    for batch_idx, (Xb, yb) in enumerate(val_loader):\n",
                "        Xb, yb = Xb.to(device), yb.to(device)\n",
                "        preds = model.forward(Xb)\n",
                "        \n",
                "        mae = mae_metric(preds, yb).item()\n",
                "        mse = mse_metric(preds, yb).item()\n",
                "    mae = mae_metric.compute().item()\n",
                "    mse = mse_metric.compute().item()\n",
                "    mae_metric.reset()\n",
                "    mse_metric.reset()\n",
                "\n",
                "    print(\"MSE\", mse, \"MAE\", mae)\n",
                "\n",
                "    for batch_idx, (Xb, yb) in enumerate(train_loader):\n",
                "        Xb, yb = Xb.to(device), yb.to(device)\n",
                "        preds = model(Xb)\n",
                "        break\n",
                "\n",
                "i = 20\n",
                "yb = yb.cpu().numpy()[i]\n",
                "preds = preds.cpu().numpy()[i]\n",
                "\n",
                "print(yb.shape)\n",
                "print(preds.shape)\n",
                "\n",
                "plot_prediction_vs_true(yb, preds, title=f\"Redesigned - Predictions with {n_concepts} Concepts\")\n"
            ]
        },
        {
            "cell_type": "code",
            "execution_count": null,
            "metadata": {},
            "outputs": [],
            "source": [
                "\n",
                "plt.plot(model.val_losses)\n",
                "plt.plot(model.train_losses, label=\"Train\")\n",
                "plt.legend()\n",
                "plt.show()"
            ]
        },
        {
            "cell_type": "code",
            "execution_count": null,
            "metadata": {},
            "outputs": [],
            "source": []
        },
        {
            "cell_type": "markdown",
            "metadata": {},
            "source": [
                "## Optimization"
            ]
        },
        {
            "cell_type": "code",
            "execution_count": null,
            "metadata": {},
            "outputs": [],
            "source": [
                "# feature weights\n",
                "n_concepts = 5\n",
                "\n",
                "model = initializeModel(n_concepts, input_dim, changing_dim, seq_len)\n",
                "model.fit(train_loader, val_loader, None, model_path.format(n_concepts), 1000)\n",
                "\n",
                "for name, param in model.named_parameters():\n",
                "    if \"bottleneck.weight\" in name:\n",
                "        bottleneck_weights = param\n",
                "feature_weights = bottleneck_weights.cpu().detach().numpy()\n",
                "\n",
                "feature_weights.shape"
            ]
        },
        {
            "cell_type": "code",
            "execution_count": null,
            "metadata": {},
            "outputs": [],
            "source": [
                "# visualize weight magnitudes\n",
                "for c in range(n_concepts):\n",
                "    fig = plt.figure()\n",
                "    ax = fig.add_subplot(111)\n",
                "    inds = np.argsort(-np.abs(feature_weights[c]))[:100]\n",
                "    ax.bar(np.arange(1,101),np.abs(feature_weights[c])[inds])\n",
                "    ax.set_xlabel(\"Top 100 features\")\n",
                "    ax.set_ylabel(\"abs value of feature coefficient\")\n",
                "    plt.show()\n"
            ]
        },
        {
            "cell_type": "code",
            "execution_count": null,
            "metadata": {},
            "outputs": [],
            "source": [
                "# get 90th percentile of feature weights\n",
                "sum90p = np.sum(np.abs(feature_weights), axis=-1)*0.90\n",
                "sum90p.shape\n"
            ]
        },
        {
            "cell_type": "code",
            "execution_count": null,
            "metadata": {},
            "outputs": [],
            "source": [
                "# get top K indizes\n",
                "top_k_inds = []\n",
                "for c in range(n_concepts):\n",
                "    topkinds_conc = []\n",
                "    curr_sum = 0\n",
                "    inds = np.argsort(-np.abs(feature_weights[c])) #desc\n",
                "    sorted_weights = feature_weights[c][inds]\n",
                "    \n",
                "    for ind, weight in zip(inds, sorted_weights):\n",
                "        curr_sum += abs(weight)\n",
                "        if curr_sum <= sum90p[c]:\n",
                "            topkinds_conc.append(ind)\n",
                "        else:\n",
                "            break\n",
                "    \n",
                "    # if selects less than 10, choose 10 best\n",
                "    if len(topkinds_conc) < 10:\n",
                "        topkinds_conc = np.argsort(-np.abs(feature_weights[c]))[:10].tolist()\n",
                "    \n",
                "    top_k_inds.append(topkinds_conc)\n",
                "\n",
                "top_k_inds"
            ]
        },
        {
            "cell_type": "code",
            "execution_count": null,
            "metadata": {},
            "outputs": [],
            "source": [
                "# write top k inds to csv\n",
                "filename = experiment_folder + \"top-k/top_k_inds_c{}.csv\".format(n_concepts)\n",
                "\n",
                "directory = os.path.dirname(filename)\n",
                "if not os.path.exists(directory):\n",
                "    os.makedirs(directory)\n",
                "\n",
                "# writing to csv file \n",
                "with open(filename, 'w') as csvfile: \n",
                "    # creating a csv writer object \n",
                "    csvwriter = csv.writer(csvfile)\n",
                "    # writing the data rows \n",
                "    csvwriter.writerows(top_k_inds)\n"
            ]
        },
        {
            "cell_type": "code",
            "execution_count": null,
            "metadata": {},
            "outputs": [],
            "source": [
                "best_aucs, best_auc_inds, best_auc_concepts = greedy_forward_selection(auroc_metric, test_loader, top_k_inds, model)\n"
            ]
        },
        {
            "cell_type": "code",
            "execution_count": null,
            "metadata": {},
            "outputs": [],
            "source": [
                "filename = experiment_folder + \"top-k/bottleneck_r{}_c{}_topkinds.csv\".format(random_seed, n_concepts)\n",
                "\n",
                "# writing to csv file\n",
                "with open(filename, 'w') as csvfile: \n",
                "    # creating a csv writer object \n",
                "    csvwriter = csv.writer(csvfile)\n",
                "    csvwriter.writerow([\"Best AUC\", \"Best AUC Concept #\", \"Best AUC ind #\"])\n",
                "    # writing the data rows \n",
                "    for row in zip(best_aucs, best_auc_concepts, best_auc_inds):\n",
                "        csvwriter.writerow(list(row))\n"
            ]
        },
        {
            "cell_type": "markdown",
            "metadata": {},
            "source": [
                "## Multi-class"
            ]
        },
        {
            "cell_type": "code",
            "execution_count": null,
            "metadata": {},
            "outputs": [],
            "source": [
                "experiment_folder = \"/workdir/optimal-summaries-public/_models/arabic/multiclass/\"\n",
                "model_path = experiment_folder + \"arabic_c{}.pt\"\n",
                "random_seed = 1\n",
                "\n",
                "if not os.path.exists(experiment_folder):\n",
                "    os.makedirs(experiment_folder)"
            ]
        },
        {
            "cell_type": "code",
            "execution_count": null,
            "metadata": {},
            "outputs": [],
            "source": [
                "history_multiclass = []\n",
                "\n",
                "set_seed(random_seed)\n",
                "\n",
                "data, y_ohe, num_classes, weights = preprocess_data_multiclass(X, y)\n",
                "train_loader, val_loader, test_loader = initialize_data(1, data, y_ohe, multiclass=True)\n",
                "\n",
                "input_dim = data.shape[2]\n",
                "changing_dim = X[0].shape[0]\n",
                "seq_len = data.shape[1]\n",
                "\n",
                "auroc_metric = AUROC(task=\"multiclass\", num_classes=num_classes).to(device)\n",
                "accuracy_metric = Accuracy(task=\"multiclass\", num_classes=num_classes).to(device)\n",
                "\n",
                "for n_concepts in range(1,16):\n",
                "    print(n_concepts)\n",
                "    \n",
                "    model = initializeModel(n_concepts, input_dim, changing_dim, seq_len, num_classes)\n",
                "    model.fit(train_loader, val_loader, weights, model_path.format(n_concepts), 1000)\n",
                "    \n",
                "    for batch_idx, (Xb, yb) in enumerate(test_loader):\n",
                "        Xb, yb = Xb.to(device), yb.to(device)\n",
                "        probs = model.forward_probabilities(Xb)\n",
                "        \n",
                "        auc = auroc_metric(probs, yb).item()\n",
                "        acc = accuracy_metric(probs, yb).item()\n",
                "    auc = auroc_metric.compute().item()\n",
                "    acc = accuracy_metric.compute().item()\n",
                "    auroc_metric.reset()\n",
                "    accuracy_metric.reset()\n",
                "    \n",
                "    history = [n_concepts, model.val_losses[-1], auc, acc]\n",
                "    history_multiclass.append(np.array(history))\n",
                "history_multiclass = np.array(history_multiclass)\n",
                "history_multiclass.shape\n"
            ]
        },
        {
            "cell_type": "code",
            "execution_count": null,
            "metadata": {},
            "outputs": [],
            "source": [
                "# plot\n",
                "plt.plot(history_multiclass[:, 0], history_multiclass[:, 2], label='AUC')\n",
                "plt.plot(history_multiclass[:, 0], history_multiclass[:, 3], label='ACC')\n",
                "\n",
                "plt.xlabel('Num Concepts')\n",
                "plt.ylabel('Criteria')\n",
                "plt.title('Plot of Concepts vs Criteria')\n",
                "plt.xticks(np.arange(min(history_multiclass[:, 0]), max(history_multiclass[:, 0])+1, 1))\n",
                "\n",
                "for x,_y in zip(history_multiclass[:, 0], history_multiclass[:, 2]):\n",
                "    label = \"{:.2f}\".format(_y)\n",
                "    plt.annotate(label, # this is the text\n",
                "                 (x,_y), # these are the coordinates to position the label\n",
                "                 textcoords=\"offset points\", # how to position the text\n",
                "                 xytext=(0,10), # distance from text to points (x,y)\n",
                "                 ha='center') # horizontal alignment can be left, right or center\n",
                "    \n",
                "for x,_y in zip(history_multiclass[:, 0], history_multiclass[:, 3]):\n",
                "    label = \"{:.2f}\".format(_y)\n",
                "    plt.annotate(label, # this is the text\n",
                "                 (x,_y), # these are the coordinates to position the label\n",
                "                 textcoords=\"offset points\", # how to position the text\n",
                "                 xytext=(0,-10), # distance from text to points (x,y)\n",
                "                 ha='center') # horizontal alignment can be left, right or center\n",
                "\n",
                "plt.legend()\n",
                "plt.show()\n"
            ]
        },
        {
            "cell_type": "code",
            "execution_count": null,
            "metadata": {},
            "outputs": [],
            "source": [
                "# feature weights\n",
                "n_concepts = 5\n",
                "\n",
                "model = initializeModel(n_concepts, input_dim, changing_dim, seq_len, num_classes)\n",
                "model.fit(train_loader, val_loader, weights, model_path.format(n_concepts), 1000)\n",
                "\n",
                "for name, param in model.named_parameters():\n",
                "    if \"bottleneck.weight\" in name:\n",
                "        bottleneck_weights = param\n",
                "feature_weights = bottleneck_weights.cpu().detach().numpy()\n",
                "\n",
                "feature_weights.shape"
            ]
        },
        {
            "cell_type": "code",
            "execution_count": null,
            "metadata": {},
            "outputs": [],
            "source": [
                "# visualize weight magnitudes\n",
                "for c in range(n_concepts):\n",
                "    fig = plt.figure()\n",
                "    ax = fig.add_subplot(111)\n",
                "    inds = np.argsort(-np.abs(feature_weights[c]))[:100]\n",
                "    ax.bar(np.arange(1,101),np.abs(feature_weights[c])[inds])\n",
                "    ax.set_xlabel(\"Top 100 features\")\n",
                "    ax.set_ylabel(\"abs value of feature coefficient\")\n",
                "    plt.show()\n"
            ]
        },
        {
            "cell_type": "code",
            "execution_count": null,
            "metadata": {},
            "outputs": [],
            "source": [
                "# get 90th percentile of feature weights\n",
                "sum90p = np.sum(np.abs(feature_weights), axis=-1)*0.90\n",
                "sum90p.shape\n"
            ]
        },
        {
            "cell_type": "code",
            "execution_count": null,
            "metadata": {},
            "outputs": [],
            "source": [
                "# get top K indizes\n",
                "top_k_inds = []\n",
                "for c in range(n_concepts):\n",
                "    topkinds_conc = []\n",
                "    curr_sum = 0\n",
                "    inds = np.argsort(-np.abs(feature_weights[c])) #desc\n",
                "    sorted_weights = feature_weights[c][inds]\n",
                "    \n",
                "    for ind, weight in zip(inds, sorted_weights):\n",
                "        curr_sum += abs(weight)\n",
                "        if curr_sum <= sum90p[c]:\n",
                "            topkinds_conc.append(ind)\n",
                "        else:\n",
                "            break\n",
                "    \n",
                "    # if selects less than 10, choose 10 best\n",
                "    if len(topkinds_conc) < 10:\n",
                "        topkinds_conc = np.argsort(-np.abs(feature_weights[c]))[:10].tolist()\n",
                "    \n",
                "    top_k_inds.append(topkinds_conc)\n",
                "\n",
                "top_k_inds"
            ]
        },
        {
            "cell_type": "code",
            "execution_count": null,
            "metadata": {},
            "outputs": [],
            "source": [
                "# write top k inds to csv\n",
                "filename = experiment_folder + \"top-k/top_k_inds_c{}.csv\".format(n_concepts)\n",
                "\n",
                "directory = os.path.dirname(filename)\n",
                "if not os.path.exists(directory):\n",
                "    os.makedirs(directory)\n",
                "\n",
                "# writing to csv file \n",
                "with open(filename, 'w') as csvfile: \n",
                "    # creating a csv writer object \n",
                "    csvwriter = csv.writer(csvfile)\n",
                "    # writing the data rows \n",
                "    csvwriter.writerows(top_k_inds)\n"
            ]
        },
        {
            "cell_type": "code",
            "execution_count": null,
            "metadata": {},
            "outputs": [],
            "source": [
                "data_cols = [i for i in range(1,14)] + [str(i) + \"_ind\" for i in range(1,14)]\n",
                "\n",
                "for c, _list in enumerate(top_k_inds):\n",
                "    for ind in _list:\n",
                "        name, summary = getConcept(data_cols, input_dim, changing_dim, int(ind))\n",
                "        print(f\"Concept {c}: ID {ind}, Feature {name}, Summary {summary}\")\n"
            ]
        },
        {
            "cell_type": "code",
            "execution_count": null,
            "metadata": {},
            "outputs": [],
            "source": [
                "greedy_results = greedy_forward_selection(auroc_metric, test_loader, top_k_inds, model, track_metrics={\"acc\": accuracy_metric})\n",
                "greedy_results.head()"
            ]
        },
        {
            "cell_type": "code",
            "execution_count": null,
            "metadata": {},
            "outputs": [],
            "source": [
                "top_k_csv_file = experiment_folder + \"top-k/bottleneck_r{}_c{}_topkinds.csv\".format(random_seed, n_concepts)\n",
                "\n",
                "# writing to csv file\n",
                "with open(top_k_csv_file, 'w') as csvfile: \n",
                "    # creating a csv writer object \n",
                "    csvwriter = csv.writer(csvfile)\n",
                "    csvwriter.writerow(greedy_results.columns)\n",
                "    # writing the data rows \n",
                "    for row in greedy_results.itertuples(index=False):\n",
                "        csvwriter.writerow(list(row))\n"
            ]
        },
        {
            "cell_type": "code",
            "execution_count": null,
            "metadata": {},
            "outputs": [],
            "source": [
                "data_cols = [i for i in range(1,14)] + [str(i) + \"_ind\" for i in range(1,14)]\n",
                "\n",
                "sorted_ = greedy_results.sort_values([\"Concept\", \"ID\"])\n",
                "\n",
                "for row in sorted_.itertuples(index=False):\n",
                "    name, summary = getConcept(data_cols, input_dim, changing_dim, row[1])\n",
                "    print(f\"Concept {row[2]}: ID {row[1]}, Feature {name}, Summary {summary}\")"
            ]
        },
        {
            "cell_type": "code",
            "execution_count": null,
            "metadata": {},
            "outputs": [],
            "source": [
                "plt.plot(greedy_results[\"Score\"])\n",
                "plt.plot(greedy_results[\"acc\"])\n",
                "plt.show()"
            ]
        },
        {
            "cell_type": "code",
            "execution_count": null,
            "metadata": {},
            "outputs": [],
            "source": [
                "top_k_csv_file = \"/workdir/optimal-summaries-public/_models/arabic/multiclass/top-k/bottleneck_r1_c6_topkinds.csv\"\n",
                "n_concepts = 6\n",
                "model = initializeModel(n_concepts, input_dim, changing_dim, seq_len, num_classes, top_k=top_k_csv_file)\n",
                "# model.fit(train_loader, val_loader, weights, model_path.format(n_concepts), 1000)\n",
                "\n",
                "model.eval()\n",
                "with torch.no_grad():\n",
                "    for batch_idx, (Xb, yb) in enumerate(test_loader):\n",
                "        Xb, yb = Xb.to(device), yb.to(device)\n",
                "        probs = model.forward_probabilities(Xb)\n",
                "        \n",
                "        auc = auroc_metric(probs, yb).item()\n",
                "        acc = accuracy_metric(probs, yb).item()\n",
                "    auc = auroc_metric.compute().item()\n",
                "    acc = accuracy_metric.compute().item()\n",
                "    auroc_metric.reset()\n",
                "    accuracy_metric.reset()\n",
                "\n",
                "print(auc)\n",
                "print(acc)\n"
            ]
        },
        {
            "cell_type": "code",
            "execution_count": null,
            "metadata": {},
            "outputs": [],
            "source": [
                "model.fit(train_loader, val_loader, weights, save_model_path=\"/workdir/optimal-summaries-public/_models/arabic/multiclass/top-k/arabic_c6_finetuned.pt\", epochs=3000)\n",
                "\n",
                "model.eval()\n",
                "with torch.no_grad():\n",
                "    for batch_idx, (Xb, yb) in enumerate(test_loader):\n",
                "        Xb, yb = Xb.to(device), yb.to(device)\n",
                "        probs = model.forward_probabilities(Xb)\n",
                "        \n",
                "        auc = auroc_metric(probs, yb)\n",
                "        acc = accuracy_metric(probs, yb)\n",
                "    auc = auroc_metric.compute().item()\n",
                "    acc = accuracy_metric.compute().item()\n",
                "    auroc_metric.reset()\n",
                "    accuracy_metric.reset()\n",
                "    \n",
                "print(auc)\n",
                "print(acc)\n"
            ]
        }
    ],
    "metadata": {
        "kernelspec": {
            "display_name": "base",
            "language": "python",
            "name": "python3"
        },
        "language_info": {
            "codemirror_mode": {
                "name": "ipython",
                "version": 3
            },
            "file_extension": ".py",
            "mimetype": "text/x-python",
            "name": "python",
            "nbconvert_exporter": "python",
            "pygments_lexer": "ipython3",
            "version": "3.10.12"
        }
    },
    "nbformat": 4,
    "nbformat_minor": 2
}