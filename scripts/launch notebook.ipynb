{
 "cells": [
  {
   "cell_type": "code",
   "execution_count": 1,
   "metadata": {},
   "outputs": [],
   "source": [
    "%load_ext autoreload\n",
    "%autoreload 2\n",
    "\n",
    "import sys\n",
    "sys.path.append('..')\n",
    "\n",
    "import argparse\n",
    "from argparse import Namespace\n",
    "\n",
    "import models.models_original as models_original\n",
    "import models.models_3d_atomics as models_3d_atomics\n",
    "import models.models_3d as models_3d\n",
    "from models.data import *\n",
    "from models.helper import *\n",
    "from models.param_initializations import *\n",
    "from models.optimization_strategy import *\n"
   ]
  },
  {
   "cell_type": "code",
   "execution_count": 2,
   "metadata": {},
   "outputs": [
    {
     "name": "stdout",
     "output_type": "stream",
     "text": [
      "All arguments:\n",
      "random_states: [1]\n",
      "dataset: spoken_arabic_digits\n",
      "model: atomics\n",
      "pruning: gradient_magnitude\n",
      "device: cuda\n",
      "save_load_path: /workdir/optimal-summaries-public/_models2/\n",
      "n_concepts: 4\n",
      "n_atomics: 10\n",
      "switch_encode_dim: True\n",
      "switch_summaries_layer: False\n",
      "switch_indicators: True\n",
      "switch_use_only_last_timestep: False\n"
     ]
    }
   ],
   "source": [
    "args = {\n",
    "    'random_states': [1],\n",
    "    'dataset': 'spoken_arabic_digits',\n",
    "    'model': 'atomics',\n",
    "    'pruning': 'gradient_magnitude', # weight_gradient_magnitude\n",
    "    'device': 'cuda',\n",
    "    'save_load_path': '/workdir/optimal-summaries-public/_models2/',\n",
    "    'n_concepts': 4,\n",
    "    'n_atomics': 10,\n",
    "    'switch_encode_dim': True, # default True\n",
    "    'switch_summaries_layer': False, # default True\n",
    "    'switch_indicators': True, # default True\n",
    "    'switch_use_only_last_timestep': False, # default False\n",
    "    # 'switch_use_summaries': True, # default True\n",
    "}\n",
    "\n",
    "args = Namespace(**args)\n",
    "\n",
    "print(\"All arguments:\")\n",
    "for arg in vars(args):\n",
    "    print(f\"{arg}: {getattr(args, arg)}\")\n"
   ]
  },
  {
   "cell_type": "code",
   "execution_count": 3,
   "metadata": {},
   "outputs": [],
   "source": [
    "def get_dataloader(random_state):\n",
    "    set_seed(random_state)\n",
    "\n",
    "    if args.dataset == \"mimic\":\n",
    "        return get_MIMIC_dataloader(random_state = random_state)\n",
    "    elif args.dataset == \"tiselac\":\n",
    "        return get_tiselac_dataloader(random_state = random_state)\n",
    "    elif args.dataset == \"spoken_arabic_digits\":\n",
    "        return get_arabic_spoken_digits_dataloader(random_state = random_state)\n",
    "    else:\n",
    "        print(\"No known dataset selected\")\n",
    "        sys.exit(1)\n",
    "\n",
    "\n",
    "def get_model(random_state):\n",
    "    set_seed(random_state)\n",
    "    \n",
    "    train_loader, val_loader, test_loader, class_weights, num_classes, changing_dim, static_dim, seq_len = get_dataloader(random_state)\n",
    "    \n",
    "    if args.model == \"original\":\n",
    "        model = models_original.CBM(n_concepts=args.n_concepts, use_indicators=args.switch_indicators, use_only_last_timestep=args.switch_use_only_last_timestep, static_dim=static_dim, changing_dim=changing_dim, seq_len=seq_len, output_dim=num_classes, device=args.device)\n",
    "    elif args.model == \"shared\":\n",
    "        model = models_3d.CBM(n_concepts=args.n_concepts, encode_time_dim=args.switch_encode_dim, use_indicators=args.switch_indicators, static_dim=static_dim, changing_dim=changing_dim, seq_len=seq_len, output_dim=num_classes, device=args.device)\n",
    "    elif args.model == \"atomics\":\n",
    "        model = models_3d_atomics.CBM(n_concepts=args.n_concepts, n_atomics=args.n_atomics, use_summaries_for_atomics=args.switch_summaries_layer, use_indicators=args.switch_indicators, static_dim=static_dim, changing_dim=changing_dim, seq_len=seq_len, output_dim=num_classes, device=args.device)\n",
    "    else:\n",
    "        print(\"No known model selected\")\n",
    "        sys.exit(1)\n",
    "    return model\n",
    "\n",
    "\n",
    "def get_trained_model(random_state):\n",
    "    set_seed(random_state)\n",
    "\n",
    "    train_loader, val_loader, test_loader, class_weights, num_classes, changing_dim, static_dim, seq_len = get_dataloader(random_state)\n",
    "    \n",
    "    model = get_model(random_state)\n",
    "    model_path = model.get_model_path(base_path=args.save_load_path, dataset=args.dataset, pruning=args.pruning, seed=random_state)\n",
    "    model.try_load_else_fit(train_loader, val_loader, p_weight=class_weights, save_model_path=model_path, max_epochs=10000, save_every_n_epochs=10, patience=10, sparse_fit=False)\n",
    "\n",
    "    evaluate_classification(model=model, dataloader=val_loader, num_classes=num_classes)\n",
    "    \n",
    "    return model\n",
    "\n",
    "\n",
    "def get_metrics(num_classes):\n",
    "    if num_classes == 2:\n",
    "        auroc_metric = AUROC(task=\"binary\").to(args.device)\n",
    "        accuracy_metric = Accuracy(task=\"binary\").to(args.device)\n",
    "        f1_metric = F1Score(task=\"binary\").to(args.device)\n",
    "        # conf_matrix = ConfusionMatrix(task=\"binary\").to(args.device)\n",
    "    else:\n",
    "        average = \"macro\"\n",
    "        auroc_metric = AUROC(task=\"multiclass\", num_classes=num_classes, average = average).to(args.device)\n",
    "        accuracy_metric = Accuracy(task=\"multiclass\", num_classes=num_classes, top_k=1, average = average).to(args.device)\n",
    "        f1_metric = F1Score(task=\"multiclass\", num_classes=num_classes, top_k=1, average = average).to(args.device)\n",
    "        # conf_matrix = ConfusionMatrix(task=\"multiclass\", num_classes=num_classes).to(args.device)\n",
    "    \n",
    "    return {\"acc\": accuracy_metric, \"f1\": f1_metric, \"auc\": auroc_metric}\n"
   ]
  },
  {
   "cell_type": "code",
   "execution_count": 4,
   "metadata": {},
   "outputs": [],
   "source": [
    "makedir(args.save_load_path)\n"
   ]
  },
  {
   "cell_type": "code",
   "execution_count": 5,
   "metadata": {},
   "outputs": [
    {
     "name": "stderr",
     "output_type": "stream",
     "text": [
      "/usr/local/lib/python3.10/dist-packages/torch/nn/modules/lazy.py:180: UserWarning: Lazy modules are a new feature under heavy development so changes to the API or functionality can happen at any moment.\n",
      "  warnings.warn('Lazy modules are a new feature under heavy development '\n"
     ]
    },
    {
     "name": "stdout",
     "output_type": "stream",
     "text": [
      "Loaded model from /workdir/optimal-summaries-public/_models2/spoken_arabic_digits/atomics/gradient_magnitude/atomics_num_concepts_4_num_atomics_10_use_summaries_for_atomics_False_use_indicators_True_seed_1.pt\n",
      "AUC macro 0.629\n",
      "ACC macro 0.230\n",
      " F1 macro 0.167\n"
     ]
    }
   ],
   "source": [
    "result_df = pd.DataFrame(columns=[\"Model\", \"Dataset\", \"Seed\", \"Split\", \"Pruning\", \"Finetuned\", \"AUC\", \"ACC\", \"F1\"])\n",
    "\n",
    "for random_state in args.random_states:\n",
    "    model = get_trained_model(random_state)\n",
    "    train_loader, val_loader, test_loader, class_weights, num_classes, changing_dim, static_dim, seq_len = get_dataloader(random_state = random_state)\n",
    "    model.opt_lr = 1e-4\n"
   ]
  },
  {
   "cell_type": "code",
   "execution_count": null,
   "metadata": {},
   "outputs": [],
   "source": [
    "# base\n",
    "metrics = evaluate_classification(model, val_loader)\n",
    "result_df.loc[len(result_df)] = {\"Model\": model.get_short_model_name(), \"Dataset\": args.dataset, \"Seed\": random_state, \"Split\": \"val\", \"Pruning\": \"Before\", \"Finetuned\": False, \"AUC\": metrics[0], \"ACC\": metrics[1], \"F1\": metrics[2]}\n",
    "metrics = evaluate_classification(model, test_loader)\n",
    "result_df.loc[len(result_df)] = {\"Model\": model.get_short_model_name(), \"Dataset\": args.dataset, \"Seed\": random_state, \"Split\": \"test\", \"Pruning\": \"Before\", \"Finetuned\": False, \"AUC\": metrics[0], \"ACC\": metrics[1], \"F1\": metrics[2]}\n"
   ]
  },
  {
   "cell_type": "code",
   "execution_count": 6,
   "metadata": {},
   "outputs": [],
   "source": [
    "# prune and finetune\n",
    "new_model_path = add_subfolder(model.save_model_path, \"finetuned\")\n",
    "makedir(new_model_path)\n",
    "\n",
    "start_n_weights = [layer.weight.numel() for layer in model.regularized_layers]\n",
    "end_n_weights = [layer.weight.shape[0] * 10 for layer in model.regularized_layers] # feature budget\n",
    "\n",
    "iterative_steps = [list(np.linspace(start, end, 21, dtype=int))[1:] for start, end in zip(start_n_weights, end_n_weights)]\n"
   ]
  },
  {
   "cell_type": "code",
   "execution_count": 7,
   "metadata": {},
   "outputs": [
    {
     "name": "stdout",
     "output_type": "stream",
     "text": [
      "Loaded model from /workdir/optimal-summaries-public/_models2/spoken_arabic_digits/atomics/gradient_magnitude/finetuned/atomics_num_concepts_4_num_atomics_10_use_summaries_for_atomics_False_use_indicators_True_seed_1.pt\n"
     ]
    },
    {
     "name": "stderr",
     "output_type": "stream",
     "text": [
      "100%|██████████| 1/1 [00:00<00:00,  1.26 epoch/s, Train Loss=2.18970, Val Loss=2.21694, Best Val Loss=2.21694]"
     ]
    },
    {
     "name": "stdout",
     "output_type": "stream",
     "text": [
      "Pre load [False, False]\n",
      "Post load [False, False]\n"
     ]
    },
    {
     "name": "stderr",
     "output_type": "stream",
     "text": [
      "\n"
     ]
    },
    {
     "data": {
      "text/plain": [
       "2.2169439792633057"
      ]
     },
     "execution_count": 7,
     "metadata": {},
     "output_type": "execute_result"
    }
   ],
   "source": [
    "# fill ema gradient by fit -> repeat: mask, clear, fit, evaluate\n",
    "model.fit(train_loader, val_loader, p_weight=class_weights, save_model_path=new_model_path, max_epochs=1, save_every_n_epochs=1, patience=1)\n"
   ]
  },
  {
   "cell_type": "code",
   "execution_count": 9,
   "metadata": {},
   "outputs": [
    {
     "data": {
      "text/plain": [
       "[False, False]"
      ]
     },
     "execution_count": 9,
     "metadata": {},
     "output_type": "execute_result"
    }
   ],
   "source": [
    "[layer.ema_gradient is None for layer in model.regularized_layers]"
   ]
  },
  {
   "cell_type": "code",
   "execution_count": null,
   "metadata": {},
   "outputs": [],
   "source": [
    "for step in zip(*iterative_steps):\n",
    "    \n",
    "    if args.pruning == \"weight_magnitude\":\n",
    "        model.mask_by_weight_magnitude(step)\n",
    "        \n",
    "    elif args.pruning == \"gradient_magnitude\":\n",
    "        model.mask_by_gradient_magnitude(step)\n",
    "        \n",
    "    elif args.pruning == \"weight_gradient_magnitude\":\n",
    "        model.mask_by_weight_gradient_magnitude(step)\n",
    "        \n",
    "    model.clear_ema_gradient()\n",
    "    model.fit(train_loader, val_loader, p_weight=class_weights, save_model_path=new_model_path, max_epochs=1000, save_every_n_epochs=1, patience=10)\n"
   ]
  },
  {
   "cell_type": "code",
   "execution_count": null,
   "metadata": {},
   "outputs": [],
   "source": [
    "metrics = evaluate_classification(model, val_loader)\n",
    "result_df.loc[len(result_df)] = {\"Model\": model.get_short_model_name(), \"Dataset\": args.dataset, \"Seed\": random_state, \"Split\": \"val\", \"Pruning\": args.pruning, \"Finetuned\": True, \"AUC\": metrics[0], \"ACC\": metrics[1], \"F1\": metrics[2]}\n",
    "metrics = evaluate_classification(model, test_loader)\n",
    "result_df.loc[len(result_df)] = {\"Model\": model.get_short_model_name(), \"Dataset\": args.dataset, \"Seed\": random_state, \"Split\": \"test\", \"Pruning\": args.pruning, \"Finetuned\": True, \"AUC\": metrics[0], \"ACC\": metrics[1], \"F1\": metrics[2]}\n",
    "\n"
   ]
  },
  {
   "cell_type": "code",
   "execution_count": null,
   "metadata": {},
   "outputs": [],
   "source": [
    "\n",
    "results_path = model.get_model_path(base_path=args.save_load_path, dataset=args.dataset, pruning=args.pruning, ending=\"_results.csv\")\n",
    "results_path = add_subfolder(results_path, \"results\")\n",
    "write_df_2_csv(results_path, result_df)\n",
    "\n",
    "\n",
    "\n",
    "print(\"Done\")\n"
   ]
  }
 ],
 "metadata": {
  "kernelspec": {
   "display_name": "Python 3",
   "language": "python",
   "name": "python3"
  },
  "language_info": {
   "codemirror_mode": {
    "name": "ipython",
    "version": 3
   },
   "file_extension": ".py",
   "mimetype": "text/x-python",
   "name": "python",
   "nbconvert_exporter": "python",
   "pygments_lexer": "ipython3",
   "version": "3.10.12"
  }
 },
 "nbformat": 4,
 "nbformat_minor": 2
}
