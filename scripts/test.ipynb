{
 "cells": [
  {
   "cell_type": "code",
   "execution_count": 1,
   "metadata": {},
   "outputs": [
    {
     "name": "stdout",
     "output_type": "stream",
     "text": [
      "1 2\n"
     ]
    }
   ],
   "source": [
    "def my_function(data):\n",
    "    key1_data = data[\"key1\"]\n",
    "    key2_data = data[\"key2\"]\n",
    "    print(key1_data, key2_data)\n",
    "\n",
    "my_dict = {\"key1\": 1, \"key2\": 2, \"key3\": 3, \"key4\": 4}\n",
    "my_function(my_dict)\n"
   ]
  },
  {
   "cell_type": "code",
   "execution_count": 13,
   "metadata": {},
   "outputs": [
    {
     "name": "stdout",
     "output_type": "stream",
     "text": [
      "[[76, 51, 26, 1], [76, 51, 26, 1], [77, 52, 26, 1], [78, 52, 26, 1]]\n",
      "(76, 76, 77, 78)\n",
      "<class 'tuple'>\n",
      "(51, 51, 52, 52)\n",
      "<class 'tuple'>\n",
      "(26, 26, 26, 26)\n",
      "<class 'tuple'>\n",
      "(1, 1, 1, 1)\n",
      "<class 'tuple'>\n"
     ]
    }
   ],
   "source": [
    "import numpy as np\n",
    "start_n_weights = [ x + 100 for x in list(range(1,5))]\n",
    "end_n_weights = [ 1 for x in list(range(1,5))]\n",
    "\n",
    "iterative_steps = [list(np.linspace(start, end, 5, dtype=int))[1:] for start, end in zip(start_n_weights, end_n_weights)]\n",
    "print(iterative_steps)\n",
    "\n",
    "for a in zip(*iterative_steps):\n",
    "    print(a)\n",
    "    print(type(a))"
   ]
  },
  {
   "cell_type": "code",
   "execution_count": null,
   "metadata": {},
   "outputs": [],
   "source": []
  },
  {
   "cell_type": "code",
   "execution_count": 8,
   "metadata": {},
   "outputs": [],
   "source": [
    "def my_func(key1, key2, **kwargs):\n",
    "    print(key1, key2)"
   ]
  },
  {
   "cell_type": "code",
   "execution_count": 9,
   "metadata": {},
   "outputs": [
    {
     "name": "stdout",
     "output_type": "stream",
     "text": [
      "1 2\n"
     ]
    }
   ],
   "source": [
    "my_func(**my_dict)"
   ]
  },
  {
   "cell_type": "code",
   "execution_count": 5,
   "metadata": {},
   "outputs": [
    {
     "data": {
      "text/plain": [
       "array([600., 460., 320., 180.,  40.])"
      ]
     },
     "execution_count": 5,
     "metadata": {},
     "output_type": "execute_result"
    }
   ],
   "source": [
    "import numpy as np\n",
    "max_weights = 600 # model.bottleneck.weight.shape[1]\n",
    "min_weights = 40\n",
    "# x_labels = list(range(30, 90, 30)) + list(range(90, 100, 2))\n",
    "np.linspace(max_weights, min_weights, 10)\n"
   ]
  }
 ],
 "metadata": {
  "kernelspec": {
   "display_name": "Python 3",
   "language": "python",
   "name": "python3"
  },
  "language_info": {
   "codemirror_mode": {
    "name": "ipython",
    "version": 3
   },
   "file_extension": ".py",
   "mimetype": "text/x-python",
   "name": "python",
   "nbconvert_exporter": "python",
   "pygments_lexer": "ipython3",
   "version": "3.10.12"
  }
 },
 "nbformat": 4,
 "nbformat_minor": 2
}
