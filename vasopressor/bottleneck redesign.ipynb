{
 "cells": [
  {
   "cell_type": "code",
   "execution_count": 1,
   "metadata": {},
   "outputs": [],
   "source": [
    "import torch\n",
    "import torch.nn as nn\n"
   ]
  },
  {
   "cell_type": "code",
   "execution_count": 5,
   "metadata": {},
   "outputs": [],
   "source": [
    "batch = 32\n",
    "seq_len = 96\n",
    "var = 7\n",
    "pred_len = 96\n",
    "n_concepts = 10\n"
   ]
  },
  {
   "cell_type": "code",
   "execution_count": 20,
   "metadata": {},
   "outputs": [
    {
     "name": "stdout",
     "output_type": "stream",
     "text": [
      "torch.Size([32, 7, 10])\n",
      "torch.Size([32, 70])\n"
     ]
    },
    {
     "data": {
      "text/plain": [
       "torch.Size([32, 96])"
      ]
     },
     "execution_count": 20,
     "metadata": {},
     "output_type": "execute_result"
    }
   ],
   "source": [
    "# create concepts per var, then flatten and mix in output\n",
    "input = torch.rand((32,96,7))\n",
    "\n",
    "bottleneck = nn.Linear(96, 10) # time len, concepts\n",
    "tmp = bottleneck(input.permute(0,2,1))\n",
    "print(tmp.shape)\n",
    "fl = nn.Flatten()\n",
    "tmp = fl(tmp)\n",
    "# tmp = tmp.view(32, -1) # 7 * 10 = 70\n",
    "print(tmp.shape)\n",
    "out = nn.Linear(70, 96)\n",
    "out(tmp).shape\n"
   ]
  },
  {
   "cell_type": "code",
   "execution_count": 19,
   "metadata": {},
   "outputs": [
    {
     "name": "stdout",
     "output_type": "stream",
     "text": [
      "Linear(in_features=96, out_features=10, bias=True)\n"
     ]
    },
    {
     "data": {
      "text/plain": [
       "970"
      ]
     },
     "execution_count": 19,
     "metadata": {},
     "output_type": "execute_result"
    }
   ],
   "source": [
    "print(bottleneck)\n",
    "sum(p.numel() for p in bottleneck.parameters() if p.requires_grad)"
   ]
  },
  {
   "cell_type": "code",
   "execution_count": 11,
   "metadata": {},
   "outputs": [
    {
     "name": "stdout",
     "output_type": "stream",
     "text": [
      "torch.Size([32, 96, 10])\n",
      "torch.Size([32, 960])\n"
     ]
    },
    {
     "data": {
      "text/plain": [
       "torch.Size([32, 96])"
      ]
     },
     "execution_count": 11,
     "metadata": {},
     "output_type": "execute_result"
    }
   ],
   "source": [
    "# create concepts per timeseries, then flatten and mix in output\n",
    "input = torch.rand((32,96,7))\n",
    "\n",
    "bottleneck = nn.Linear(7, 10) # var, concepts\n",
    "tmp = bottleneck(input)\n",
    "print(tmp.shape)\n",
    "tmp = tmp.view(32, -1)\n",
    "print(tmp.shape)\n",
    "out = nn.Linear(960, 96)\n",
    "out(tmp).shape\n"
   ]
  },
  {
   "cell_type": "code",
   "execution_count": 12,
   "metadata": {},
   "outputs": [
    {
     "name": "stdout",
     "output_type": "stream",
     "text": [
      "torch.Size([32, 96, 10])\n"
     ]
    },
    {
     "data": {
      "text/plain": [
       "torch.Size([32, 96, 7])"
      ]
     },
     "execution_count": 12,
     "metadata": {},
     "output_type": "execute_result"
    }
   ],
   "source": [
    "# original\n",
    "# create concepts per time series\n",
    "input = torch.rand((32,96,7))\n",
    "\n",
    "bottleneck = nn.Linear(7, 10) # var, concepts\n",
    "tmp = bottleneck(input)\n",
    "print(tmp.shape)\n",
    "# tmp = tmp.view(32, -1)\n",
    "out = nn.Linear(10, 7)\n",
    "out(tmp).shape\n"
   ]
  },
  {
   "cell_type": "code",
   "execution_count": null,
   "metadata": {},
   "outputs": [],
   "source": []
  }
 ],
 "metadata": {
  "kernelspec": {
   "display_name": "base",
   "language": "python",
   "name": "python3"
  },
  "language_info": {
   "codemirror_mode": {
    "name": "ipython",
    "version": 3
   },
   "file_extension": ".py",
   "mimetype": "text/x-python",
   "name": "python",
   "nbconvert_exporter": "python",
   "pygments_lexer": "ipython3",
   "version": "3.10.8"
  }
 },
 "nbformat": 4,
 "nbformat_minor": 2
}
