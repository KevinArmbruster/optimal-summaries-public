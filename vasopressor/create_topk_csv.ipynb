{
 "cells": [
  {
   "cell_type": "code",
   "execution_count": 23,
   "metadata": {},
   "outputs": [],
   "source": [
    "import numpy as np\n",
    "import pandas as pd\n",
    "import pickle\n",
    "import torch\n",
    "import random\n",
    "import csv\n",
    "\n",
    "from sklearn.model_selection import train_test_split\n",
    "from sklearn.metrics import roc_auc_score\n",
    "from sklearn.metrics import RocCurveDisplay\n",
    "\n",
    "import matplotlib.pyplot as plt\n",
    "from matplotlib.transforms import Affine2D\n",
    "import seaborn as sns\n",
    "from sklearn import metrics\n",
    "import squarify\n",
    "\n",
    "from imblearn.over_sampling import SMOTE\n",
    "from imblearn.under_sampling import RandomUnderSampler\n",
    "from imblearn.pipeline import Pipeline\n",
    "\n",
    "from weights_parser import WeightsParser\n",
    "\n",
    "from models import LogisticRegressionWithSummaries_Wrapper, LogisticRegressionWithSummariesAndBottleneck_Wrapper, LSTM_Baseline\n",
    "\n",
    "from custom_losses import custom_bce_horseshoe\n",
    "\n",
    "from preprocess_helpers import *\n",
    "\n",
    "import torch\n",
    "import torch.nn as nn\n",
    "import torch.nn.functional as F\n",
    "import torch.optim as optim\n",
    "from torch.nn.functional import binary_cross_entropy_with_logits\n",
    "\n",
    "from torch.utils.data import TensorDataset, DataLoader\n",
    "from torch.autograd import Variable\n",
    "\n",
    "from itertools import combinations\n",
    "\n",
    "from tqdm import tqdm\n",
    "from time import sleep\n",
    "from helper import *"
   ]
  },
  {
   "cell_type": "markdown",
   "metadata": {},
   "source": [
    "## Load data"
   ]
  },
  {
   "cell_type": "code",
   "execution_count": 24,
   "metadata": {},
   "outputs": [],
   "source": [
    "# X_np, Y_logits, changing_vars, data_cols = preprocess_MIMIC_data('data/X_vasopressor_LOS_6_600.p', 'data/y_vasopressor_LOS_6_600.p')\n",
    "# X_np, Y_logits, changing_vars, data_cols = preprocess_MIMIC_data('data/X_death_early_vasopressor.p', 'data/y_death_early_vasopressor.p')\n",
    "X_np, Y_logits, changing_vars, data_cols = myPreprocessed(\"../vasopressor-Xdata.npy\", \"../vasopressor-Ylogits.npy\")\n",
    "input_dim = X_np[0].shape[1]\n",
    "changing_dim = len(changing_vars)"
   ]
  },
  {
   "cell_type": "code",
   "execution_count": 25,
   "metadata": {},
   "outputs": [],
   "source": [
    "def tensor_wrap(x, klass=torch.Tensor):\n",
    "    return x if 'torch' in str(type(x)) else klass(x)\n",
    "\n",
    "def initializeData(r):   \n",
    "    \n",
    "    # train-test-split\n",
    "    torch.set_printoptions(sci_mode=False)\n",
    "    X_train, X_test, y_train, y_test = train_test_split(X_np, Y_logits, test_size = 0.15, random_state = r, stratify = Y_logits)\n",
    "\n",
    "    # train-val split\n",
    "    X_train, X_val, y_train, y_val = train_test_split(X_train, y_train, test_size = 0.20, random_state = r, stratify = y_train)\n",
    "\n",
    "    X_pt = Variable(tensor_wrap(X_np)).cuda()\n",
    "    \n",
    "#     print(\"y_test information\")\n",
    "#     print(sum(np.array(y_test)[:, 1]==1))\n",
    "#     print([i for i, x in enumerate(np.array(y_test)[:, 1]) if x==1])\n",
    "    \n",
    "    # initiazing datasets\n",
    "    pos_prop = np.mean(np.array(Y_logits)[:, 1])\n",
    "\n",
    "    p_weight = torch.Tensor([1 / (1 - pos_prop), 1 / pos_prop]).cuda()\n",
    "\n",
    "    X_train_pt = Variable(tensor_wrap(X_train)).cuda()\n",
    "    y_train_pt = Variable(tensor_wrap(y_train, torch.FloatTensor)).cuda()\n",
    "\n",
    "    X_val_pt = Variable(tensor_wrap(X_val)).cuda()\n",
    "    y_val_pt = Variable(tensor_wrap(y_val, torch.FloatTensor)).cuda()\n",
    "\n",
    "    X_test_pt = Variable(tensor_wrap(X_test)).cuda()\n",
    "    y_test_pt = Variable(tensor_wrap(y_test, torch.FloatTensor)).cuda()\n",
    "\n",
    "    batch_size = 128\n",
    "\n",
    "    train_dataset = TensorDataset(X_train_pt, y_train_pt)\n",
    "    train_loader = DataLoader(train_dataset, batch_size=batch_size, shuffle=True, num_workers=0)\n",
    "\n",
    "    val_dataset = TensorDataset(X_val_pt, y_val_pt)\n",
    "    val_loader = DataLoader(val_dataset, batch_size = X_val_pt.shape[0], shuffle=True, num_workers=0)\n",
    "\n",
    "    test_dataset = TensorDataset(X_test_pt, y_test_pt)\n",
    "    test_loader = DataLoader(test_dataset, batch_size=batch_size, shuffle=True, num_workers=0)\n",
    "    \n",
    "    return train_loader, val_loader, X_test, y_test, p_weight"
   ]
  },
  {
   "cell_type": "code",
   "execution_count": 26,
   "metadata": {},
   "outputs": [],
   "source": [
    "# Initialize all cutoffs to x\n",
    "def init_cutoffs_to_twelve(d):\n",
    "    return np.zeros(d) + 12\n",
    "\n",
    "def init_cutoffs_to_zero(d):\n",
    "    return np.zeros(d)\n",
    "\n",
    "def init_cutoffs_to_twentyfour(d):\n",
    "    return np.zeros(d) + 24\n",
    "\n",
    "def init_cutoffs_to_x(d, x):\n",
    "    return np.zeros(d) + x\n",
    "\n",
    "# Initialize all cutoffs to a uniform random integer between 0 and (x - 1)\n",
    "def init_cutoffs_randomly(d):\n",
    "    return np.random.randint(6, size=d).astype('float')"
   ]
  },
  {
   "cell_type": "code",
   "execution_count": 27,
   "metadata": {},
   "outputs": [],
   "source": [
    "# init the upper and lower thresholds to random values\n",
    "def init_rand_upper_thresholds(d):\n",
    "    return np.random.rand(d)\n",
    "\n",
    "def init_rand_lower_thresholds(d):\n",
    "    return np.random.rand(d) - 1\n",
    "\n",
    "def init_zeros(d):\n",
    "    return np.zeros(d)"
   ]
  },
  {
   "cell_type": "code",
   "execution_count": 28,
   "metadata": {},
   "outputs": [],
   "source": [
    "def initializeModel(c):\n",
    "#     vals_to_init = init_cutoffs_randomly(changing_dim * 9)\n",
    "    logregbottleneck = LogisticRegressionWithSummariesAndBottleneck_Wrapper(input_dim, \n",
    "                                                changing_dim, \n",
    "                                                9,                     \n",
    "                                                c,\n",
    "                                                True,\n",
    "                                                init_cutoffs_to_zero, \n",
    "                                                init_rand_lower_thresholds, \n",
    "                                                init_rand_upper_thresholds,\n",
    "                                                cutoff_times_temperature=0.1,\n",
    "                                                cutoff_times_init_values=None)\n",
    "    logregbottleneck.cuda()\n",
    "    return logregbottleneck"
   ]
  },
  {
   "cell_type": "code",
   "execution_count": 29,
   "metadata": {},
   "outputs": [],
   "source": [
    "def set_seed(r):\n",
    "    torch.backends.cudnn.deterministic = True\n",
    "    random.seed(r)\n",
    "    torch.manual_seed(r)\n",
    "    torch.cuda.manual_seed(r)\n",
    "    np.random.seed(r)"
   ]
  },
  {
   "cell_type": "markdown",
   "metadata": {},
   "source": [
    "## Feature weights"
   ]
  },
  {
   "cell_type": "code",
   "execution_count": 30,
   "metadata": {},
   "outputs": [
    {
     "name": "stdout",
     "output_type": "stream",
     "text": [
      "Loaded model from ./models/LOS-6-600/cos-sim/bottleneck_r1_c4_optlr_0.1_optwd_0_l1lambda_0.001_cossimlambda_0.01.pt\n"
     ]
    },
    {
     "name": "stderr",
     "output_type": "stream",
     "text": [
      "0it [00:00, ?it/s]\n"
     ]
    },
    {
     "name": "stdout",
     "output_type": "stream",
     "text": [
      "Loaded model from ./models/LOS-6-600/cos-sim/bottleneck_r1_c4_optlr_0.1_optwd_1e-05_l1lambda_0.001_cossimlambda_0.01.pt\n"
     ]
    },
    {
     "name": "stderr",
     "output_type": "stream",
     "text": [
      "0it [00:00, ?it/s]\n"
     ]
    },
    {
     "name": "stdout",
     "output_type": "stream",
     "text": [
      "Loaded model from ./models/LOS-6-600/cos-sim/bottleneck_r1_c4_optlr_0.1_optwd_0.0001_l1lambda_0.001_cossimlambda_0.01.pt\n"
     ]
    },
    {
     "name": "stderr",
     "output_type": "stream",
     "text": [
      "0it [00:00, ?it/s]\n"
     ]
    },
    {
     "name": "stdout",
     "output_type": "stream",
     "text": [
      "Loaded model from ./models/LOS-6-600/cos-sim/bottleneck_r1_c4_optlr_0.1_optwd_0.001_l1lambda_0.001_cossimlambda_0.01.pt\n"
     ]
    },
    {
     "name": "stderr",
     "output_type": "stream",
     "text": [
      "0it [00:00, ?it/s]\n"
     ]
    },
    {
     "name": "stdout",
     "output_type": "stream",
     "text": [
      "Loaded model from ./models/LOS-6-600/cos-sim/bottleneck_r1_c4_optlr_0.01_optwd_0_l1lambda_0.001_cossimlambda_0.01.pt\n"
     ]
    },
    {
     "name": "stderr",
     "output_type": "stream",
     "text": [
      "0it [00:00, ?it/s]\n"
     ]
    },
    {
     "name": "stdout",
     "output_type": "stream",
     "text": [
      "Loaded model from ./models/LOS-6-600/cos-sim/bottleneck_r1_c4_optlr_0.01_optwd_1e-05_l1lambda_0.001_cossimlambda_0.01.pt\n"
     ]
    },
    {
     "name": "stderr",
     "output_type": "stream",
     "text": [
      "0it [00:00, ?it/s]\n"
     ]
    },
    {
     "name": "stdout",
     "output_type": "stream",
     "text": [
      "Loaded model from ./models/LOS-6-600/cos-sim/bottleneck_r1_c4_optlr_0.01_optwd_0.0001_l1lambda_0.001_cossimlambda_0.01.pt\n"
     ]
    },
    {
     "name": "stderr",
     "output_type": "stream",
     "text": [
      "0it [00:00, ?it/s]\n"
     ]
    },
    {
     "name": "stdout",
     "output_type": "stream",
     "text": [
      "Loaded model from ./models/LOS-6-600/cos-sim/bottleneck_r1_c4_optlr_0.01_optwd_0.001_l1lambda_0.001_cossimlambda_0.01.pt\n"
     ]
    },
    {
     "name": "stderr",
     "output_type": "stream",
     "text": [
      "0it [00:00, ?it/s]\n"
     ]
    },
    {
     "name": "stdout",
     "output_type": "stream",
     "text": [
      "Loaded model from ./models/LOS-6-600/cos-sim/bottleneck_r1_c4_optlr_0.001_optwd_0_l1lambda_0.001_cossimlambda_0.01.pt\n"
     ]
    },
    {
     "name": "stderr",
     "output_type": "stream",
     "text": [
      "0it [00:00, ?it/s]\n"
     ]
    },
    {
     "name": "stdout",
     "output_type": "stream",
     "text": [
      "Loaded model from ./models/LOS-6-600/cos-sim/bottleneck_r1_c4_optlr_0.001_optwd_1e-05_l1lambda_0.001_cossimlambda_0.01.pt\n"
     ]
    },
    {
     "name": "stderr",
     "output_type": "stream",
     "text": [
      "0it [00:00, ?it/s]\n"
     ]
    },
    {
     "name": "stdout",
     "output_type": "stream",
     "text": [
      "Loaded model from ./models/LOS-6-600/cos-sim/bottleneck_r1_c4_optlr_0.001_optwd_0.0001_l1lambda_0.001_cossimlambda_0.01.pt\n"
     ]
    },
    {
     "name": "stderr",
     "output_type": "stream",
     "text": [
      "0it [00:00, ?it/s]\n"
     ]
    },
    {
     "name": "stdout",
     "output_type": "stream",
     "text": [
      "Loaded model from ./models/LOS-6-600/cos-sim/bottleneck_r1_c4_optlr_0.001_optwd_0.001_l1lambda_0.001_cossimlambda_0.01.pt\n"
     ]
    },
    {
     "name": "stderr",
     "output_type": "stream",
     "text": [
      "0it [00:00, ?it/s]\n"
     ]
    },
    {
     "name": "stdout",
     "output_type": "stream",
     "text": [
      "Loaded model from ./models/LOS-6-600/cos-sim/bottleneck_r1_c4_optlr_0.0001_optwd_0_l1lambda_0.001_cossimlambda_0.01.pt\n"
     ]
    },
    {
     "name": "stderr",
     "output_type": "stream",
     "text": [
      "0it [00:00, ?it/s]\n"
     ]
    },
    {
     "name": "stdout",
     "output_type": "stream",
     "text": [
      "Loaded model from ./models/LOS-6-600/cos-sim/bottleneck_r1_c4_optlr_0.0001_optwd_1e-05_l1lambda_0.001_cossimlambda_0.01.pt\n"
     ]
    },
    {
     "name": "stderr",
     "output_type": "stream",
     "text": [
      "0it [00:00, ?it/s]\n"
     ]
    },
    {
     "name": "stdout",
     "output_type": "stream",
     "text": [
      "Loaded model from ./models/LOS-6-600/cos-sim/bottleneck_r1_c4_optlr_0.0001_optwd_0.0001_l1lambda_0.001_cossimlambda_0.01.pt\n"
     ]
    },
    {
     "name": "stderr",
     "output_type": "stream",
     "text": [
      "0it [00:00, ?it/s]\n"
     ]
    },
    {
     "name": "stdout",
     "output_type": "stream",
     "text": [
      "Loaded model from ./models/LOS-6-600/cos-sim/bottleneck_r1_c4_optlr_0.0001_optwd_0.001_l1lambda_0.001_cossimlambda_0.01.pt\n"
     ]
    },
    {
     "name": "stderr",
     "output_type": "stream",
     "text": [
      "0it [00:00, ?it/s]\n"
     ]
    },
    {
     "name": "stdout",
     "output_type": "stream",
     "text": [
      "Loaded model from ./models/LOS-6-600/cos-sim/bottleneck_r1_c4_optlr_1e-05_optwd_0_l1lambda_0.001_cossimlambda_0.01.pt\n"
     ]
    },
    {
     "name": "stderr",
     "output_type": "stream",
     "text": [
      "0it [00:00, ?it/s]\n"
     ]
    },
    {
     "name": "stdout",
     "output_type": "stream",
     "text": [
      "Loaded model from ./models/LOS-6-600/cos-sim/bottleneck_r1_c4_optlr_1e-05_optwd_1e-05_l1lambda_0.001_cossimlambda_0.01.pt\n"
     ]
    },
    {
     "name": "stderr",
     "output_type": "stream",
     "text": [
      "0it [00:00, ?it/s]\n"
     ]
    },
    {
     "name": "stdout",
     "output_type": "stream",
     "text": [
      "Loaded model from ./models/LOS-6-600/cos-sim/bottleneck_r1_c4_optlr_1e-05_optwd_0.0001_l1lambda_0.001_cossimlambda_0.01.pt\n"
     ]
    },
    {
     "name": "stderr",
     "output_type": "stream",
     "text": [
      "0it [00:00, ?it/s]\n"
     ]
    },
    {
     "name": "stdout",
     "output_type": "stream",
     "text": [
      "Loaded model from ./models/LOS-6-600/cos-sim/bottleneck_r1_c4_optlr_1e-05_optwd_0.001_l1lambda_0.001_cossimlambda_0.01.pt\n"
     ]
    },
    {
     "name": "stderr",
     "output_type": "stream",
     "text": [
      "0it [00:00, ?it/s]\n"
     ]
    },
    {
     "name": "stdout",
     "output_type": "stream",
     "text": [
      "Loaded model from ./models/LOS-6-600/cos-sim/bottleneck_r2_c4_optlr_0.1_optwd_0_l1lambda_0.001_cossimlambda_0.01.pt\n"
     ]
    },
    {
     "name": "stderr",
     "output_type": "stream",
     "text": [
      "0it [00:00, ?it/s]\n"
     ]
    },
    {
     "name": "stdout",
     "output_type": "stream",
     "text": [
      "Loaded model from ./models/LOS-6-600/cos-sim/bottleneck_r2_c4_optlr_0.1_optwd_1e-05_l1lambda_0.001_cossimlambda_0.01.pt\n"
     ]
    },
    {
     "name": "stderr",
     "output_type": "stream",
     "text": [
      "0it [00:00, ?it/s]\n"
     ]
    },
    {
     "name": "stdout",
     "output_type": "stream",
     "text": [
      "Loaded model from ./models/LOS-6-600/cos-sim/bottleneck_r2_c4_optlr_0.1_optwd_0.0001_l1lambda_0.001_cossimlambda_0.01.pt\n"
     ]
    },
    {
     "name": "stderr",
     "output_type": "stream",
     "text": [
      "0it [00:00, ?it/s]\n"
     ]
    },
    {
     "name": "stdout",
     "output_type": "stream",
     "text": [
      "Loaded model from ./models/LOS-6-600/cos-sim/bottleneck_r2_c4_optlr_0.1_optwd_0.001_l1lambda_0.001_cossimlambda_0.01.pt\n"
     ]
    },
    {
     "name": "stderr",
     "output_type": "stream",
     "text": [
      "0it [00:00, ?it/s]\n"
     ]
    },
    {
     "name": "stdout",
     "output_type": "stream",
     "text": [
      "Loaded model from ./models/LOS-6-600/cos-sim/bottleneck_r2_c4_optlr_0.01_optwd_0_l1lambda_0.001_cossimlambda_0.01.pt\n"
     ]
    },
    {
     "name": "stderr",
     "output_type": "stream",
     "text": [
      "0it [00:00, ?it/s]\n"
     ]
    },
    {
     "name": "stdout",
     "output_type": "stream",
     "text": [
      "Loaded model from ./models/LOS-6-600/cos-sim/bottleneck_r2_c4_optlr_0.01_optwd_1e-05_l1lambda_0.001_cossimlambda_0.01.pt\n"
     ]
    },
    {
     "name": "stderr",
     "output_type": "stream",
     "text": [
      "0it [00:00, ?it/s]\n"
     ]
    },
    {
     "name": "stdout",
     "output_type": "stream",
     "text": [
      "Loaded model from ./models/LOS-6-600/cos-sim/bottleneck_r2_c4_optlr_0.01_optwd_0.0001_l1lambda_0.001_cossimlambda_0.01.pt\n"
     ]
    },
    {
     "name": "stderr",
     "output_type": "stream",
     "text": [
      "0it [00:00, ?it/s]\n"
     ]
    },
    {
     "name": "stdout",
     "output_type": "stream",
     "text": [
      "Loaded model from ./models/LOS-6-600/cos-sim/bottleneck_r2_c4_optlr_0.01_optwd_0.001_l1lambda_0.001_cossimlambda_0.01.pt\n"
     ]
    },
    {
     "name": "stderr",
     "output_type": "stream",
     "text": [
      "0it [00:00, ?it/s]\n"
     ]
    },
    {
     "name": "stdout",
     "output_type": "stream",
     "text": [
      "Loaded model from ./models/LOS-6-600/cos-sim/bottleneck_r2_c4_optlr_0.001_optwd_0_l1lambda_0.001_cossimlambda_0.01.pt\n"
     ]
    },
    {
     "name": "stderr",
     "output_type": "stream",
     "text": [
      "0it [00:00, ?it/s]\n"
     ]
    },
    {
     "name": "stdout",
     "output_type": "stream",
     "text": [
      "Loaded model from ./models/LOS-6-600/cos-sim/bottleneck_r2_c4_optlr_0.001_optwd_1e-05_l1lambda_0.001_cossimlambda_0.01.pt\n"
     ]
    },
    {
     "name": "stderr",
     "output_type": "stream",
     "text": [
      "0it [00:00, ?it/s]\n"
     ]
    },
    {
     "name": "stdout",
     "output_type": "stream",
     "text": [
      "Loaded model from ./models/LOS-6-600/cos-sim/bottleneck_r2_c4_optlr_0.001_optwd_0.0001_l1lambda_0.001_cossimlambda_0.01.pt\n"
     ]
    },
    {
     "name": "stderr",
     "output_type": "stream",
     "text": [
      "0it [00:00, ?it/s]\n"
     ]
    },
    {
     "name": "stdout",
     "output_type": "stream",
     "text": [
      "Loaded model from ./models/LOS-6-600/cos-sim/bottleneck_r2_c4_optlr_0.001_optwd_0.001_l1lambda_0.001_cossimlambda_0.01.pt\n"
     ]
    },
    {
     "name": "stderr",
     "output_type": "stream",
     "text": [
      "0it [00:00, ?it/s]\n"
     ]
    },
    {
     "name": "stdout",
     "output_type": "stream",
     "text": [
      "Loaded model from ./models/LOS-6-600/cos-sim/bottleneck_r2_c4_optlr_0.0001_optwd_0_l1lambda_0.001_cossimlambda_0.01.pt\n"
     ]
    },
    {
     "name": "stderr",
     "output_type": "stream",
     "text": [
      "0it [00:00, ?it/s]\n"
     ]
    },
    {
     "name": "stdout",
     "output_type": "stream",
     "text": [
      "Loaded model from ./models/LOS-6-600/cos-sim/bottleneck_r2_c4_optlr_0.0001_optwd_1e-05_l1lambda_0.001_cossimlambda_0.01.pt\n"
     ]
    },
    {
     "name": "stderr",
     "output_type": "stream",
     "text": [
      "0it [00:00, ?it/s]\n"
     ]
    },
    {
     "name": "stdout",
     "output_type": "stream",
     "text": [
      "Loaded model from ./models/LOS-6-600/cos-sim/bottleneck_r2_c4_optlr_0.0001_optwd_0.0001_l1lambda_0.001_cossimlambda_0.01.pt\n"
     ]
    },
    {
     "name": "stderr",
     "output_type": "stream",
     "text": [
      "0it [00:00, ?it/s]\n"
     ]
    },
    {
     "name": "stdout",
     "output_type": "stream",
     "text": [
      "Loaded model from ./models/LOS-6-600/cos-sim/bottleneck_r2_c4_optlr_0.0001_optwd_0.001_l1lambda_0.001_cossimlambda_0.01.pt\n"
     ]
    },
    {
     "name": "stderr",
     "output_type": "stream",
     "text": [
      "0it [00:00, ?it/s]\n"
     ]
    },
    {
     "name": "stdout",
     "output_type": "stream",
     "text": [
      "Loaded model from ./models/LOS-6-600/cos-sim/bottleneck_r2_c4_optlr_1e-05_optwd_0_l1lambda_0.001_cossimlambda_0.01.pt\n"
     ]
    },
    {
     "name": "stderr",
     "output_type": "stream",
     "text": [
      "0it [00:00, ?it/s]\n"
     ]
    },
    {
     "name": "stdout",
     "output_type": "stream",
     "text": [
      "Loaded model from ./models/LOS-6-600/cos-sim/bottleneck_r2_c4_optlr_1e-05_optwd_1e-05_l1lambda_0.001_cossimlambda_0.01.pt\n"
     ]
    },
    {
     "name": "stderr",
     "output_type": "stream",
     "text": [
      "0it [00:00, ?it/s]\n"
     ]
    },
    {
     "name": "stdout",
     "output_type": "stream",
     "text": [
      "Loaded model from ./models/LOS-6-600/cos-sim/bottleneck_r2_c4_optlr_1e-05_optwd_0.0001_l1lambda_0.001_cossimlambda_0.01.pt\n"
     ]
    },
    {
     "name": "stderr",
     "output_type": "stream",
     "text": [
      "0it [00:00, ?it/s]\n"
     ]
    },
    {
     "name": "stdout",
     "output_type": "stream",
     "text": [
      "Loaded model from ./models/LOS-6-600/cos-sim/bottleneck_r2_c4_optlr_1e-05_optwd_0.001_l1lambda_0.001_cossimlambda_0.01.pt\n"
     ]
    },
    {
     "name": "stderr",
     "output_type": "stream",
     "text": [
      "0it [00:00, ?it/s]\n"
     ]
    },
    {
     "data": {
      "text/plain": [
       "(2, 20, 4, 386)"
      ]
     },
     "execution_count": 30,
     "metadata": {},
     "output_type": "execute_result"
    }
   ],
   "source": [
    "feature_weights = []\n",
    "\n",
    "for r in range(3,11):\n",
    "    train_loader, val_loader, X_test, y_test, p_weight = initializeData(r)\n",
    "    feature_weights_run = []\n",
    "    for c in range(4,5):\n",
    "        file = open('./models/LOS-6-600/cos-sim/vasopressor_bottleneck_r{}_c{}_gridsearch.csv'.format(r,c))\n",
    "        csvreader = csv.reader(file)\n",
    "        header = []\n",
    "        header = next(csvreader)\n",
    "        bottleneck_rows = []\n",
    "        for row in csvreader:\n",
    "            bottleneck_rows.append(np.array(row).astype(float))\n",
    "\n",
    "        for row in bottleneck_rows:\n",
    "            if row[3]==0.001 and row[4]==0.01:\n",
    "                # format hyperparameters for csv reader\n",
    "                row=[int(el) if el >= 1 else el for el in row]\n",
    "                row=[0 if el == 0 else el for el in row]\n",
    "\n",
    "                # initialize model\n",
    "                logregbottleneck = initializeModel(c)\n",
    "                logregbottleneck.fit(train_loader, val_loader, p_weight, \n",
    "                     save_model_path = \"./models/LOS-6-600/cos-sim/bottleneck_r{}_c{}_optlr_{}_optwd_{}_l1lambda_{}_cossimlambda_{}.pt\".format(r, row[0],row[1],row[2],row[3],row[4]), \n",
    "                     epochs=1000, \n",
    "                     save_every_n_epochs=10)\n",
    "\n",
    "                for name, param in logregbottleneck.named_parameters():\n",
    "                    if \"bottleneck.weight\" in name:\n",
    "                        bottleneck_weights = param\n",
    "                feature_weights_run.append(bottleneck_weights.cpu().detach().numpy())\n",
    "    feature_weights.append(feature_weights_run)\n",
    "\n",
    "np.array(feature_weights).shape"
   ]
  },
  {
   "cell_type": "code",
   "execution_count": 31,
   "metadata": {},
   "outputs": [
    {
     "name": "stdout",
     "output_type": "stream",
     "text": [
      "r\n",
      "1\n"
     ]
    },
    {
     "data": {
      "image/png": "[encoded data removed]",
      "text/plain": [
       "<Figure size 432x288 with 1 Axes>"
      ]
     },
     "metadata": {
      "needs_background": "light"
     },
     "output_type": "display_data"
    },
    {
     "data": {
      "image/png": "[encoded data removed]",
      "text/plain": [
       "<Figure size 432x288 with 1 Axes>"
      ]
     },
     "metadata": {
      "needs_background": "light"
     },
     "output_type": "display_data"
    },
    {
     "data": {
      "image/png": "[encoded data removed]",
      "text/plain": [
       "<Figure size 432x288 with 1 Axes>"
      ]
     },
     "metadata": {
      "needs_background": "light"
     },
     "output_type": "display_data"
    },
    {
     "data": {
      "image/png": "[encoded data removed]",
      "text/plain": [
       "<Figure size 432x288 with 1 Axes>"
      ]
     },
     "metadata": {
      "needs_background": "light"
     },
     "output_type": "display_data"
    }
   ],
   "source": [
    "# PRE OPTIMIZATION\n",
    "rs=[1]\n",
    "for r in rs:\n",
    "    print(\"r\")\n",
    "    print(r)\n",
    "    for c in range(4):\n",
    "        fig = plt.figure()\n",
    "        ax = fig.add_subplot(111)\n",
    "        inds = np.argsort(-np.abs(np.array(feature_weights)[r-1][0][c]))[:100]\n",
    "        ax.bar(np.arange(1,101),np.abs(feature_weights[r-1][0][c])[inds])\n",
    "        ax.set_xlabel(\"Top 100 features\")\n",
    "        ax.set_ylabel(\"abs value of feature coefficient\")\n",
    "        plt.show()"
   ]
  },
  {
   "cell_type": "markdown",
   "metadata": {},
   "source": [
    "## 90th percentile"
   ]
  },
  {
   "cell_type": "code",
   "execution_count": 32,
   "metadata": {},
   "outputs": [
    {
     "name": "stdout",
     "output_type": "stream",
     "text": [
      "2\n",
      "20\n",
      "(4, 386)\n"
     ]
    },
    {
     "data": {
      "text/plain": [
       "(2, 20, 4, 386)"
      ]
     },
     "execution_count": 32,
     "metadata": {},
     "output_type": "execute_result"
    }
   ],
   "source": [
    "print(len(feature_weights))\n",
    "print(len(feature_weights[0]))\n",
    "print(feature_weights[0][0].shape)\n",
    "np.array(feature_weights).shape"
   ]
  },
  {
   "cell_type": "code",
   "execution_count": 33,
   "metadata": {},
   "outputs": [
    {
     "data": {
      "text/plain": [
       "(2, 20, 4)"
      ]
     },
     "execution_count": 33,
     "metadata": {},
     "output_type": "execute_result"
    }
   ],
   "source": [
    "# get 90th percentile of feature weights\n",
    "sum90p = np.sum(np.abs(np.array(feature_weights, dtype=float)),axis=3)*0.90\n",
    "sum90p.shape"
   ]
  },
  {
   "cell_type": "code",
   "execution_count": 34,
   "metadata": {},
   "outputs": [],
   "source": [
    "topkinds = []\n",
    "for r in range(1,3):\n",
    "    topkinds_run = []\n",
    "    for c in range(4):\n",
    "        topkinds_conc = []\n",
    "        curr_sum = 0\n",
    "        inds = np.argsort(-np.abs(np.array(feature_weights)[r-1][0][c])) #desc\n",
    "        sorted_weights = np.array(feature_weights)[r-1][0][c][inds]\n",
    "        \n",
    "        for ind, weight in zip(inds,sorted_weights):\n",
    "            curr_sum += abs(weight)\n",
    "            if curr_sum <= sum90p[r-1][0][c]:\n",
    "                topkinds_conc.append(ind)\n",
    "            else:\n",
    "                break\n",
    "        \n",
    "        if len(topkinds_conc) < 10: # if selects less than 10, choose 10 best\n",
    "            topkinds_conc = np.argsort(-np.abs(np.array(feature_weights)[r-1][0][c]))[:10].tolist()\n",
    "        \n",
    "        topkinds_run.append(topkinds_conc)\n",
    "    topkinds.append(topkinds_run)"
   ]
  },
  {
   "cell_type": "markdown",
   "metadata": {},
   "source": [
    "## Save to file"
   ]
  },
  {
   "cell_type": "code",
   "execution_count": 35,
   "metadata": {},
   "outputs": [],
   "source": [
    "# write top k inds to csv\n",
    "for r in range(1,3):\n",
    "    filename = \"./models/LOS-6-600/cos-sim/top-k/topkindsr{}c4.csv\".format(r)\n",
    "\n",
    "    # writing to csv file \n",
    "    with open(filename, 'w') as csvfile: \n",
    "        # creating a csv writer object \n",
    "        csvwriter = csv.writer(csvfile)\n",
    "        # writing the data rows \n",
    "        csvwriter.writerows(topkinds[r-1])"
   ]
  }
 ],
 "metadata": {
  "kernelspec": {
   "display_name": "base",
   "language": "python",
   "name": "python3"
  },
  "language_info": {
   "codemirror_mode": {
    "name": "ipython",
    "version": 3
   },
   "file_extension": ".py",
   "mimetype": "text/x-python",
   "name": "python",
   "nbconvert_exporter": "python",
   "pygments_lexer": "ipython3",
   "version": "3.7.13"
  }
 },
 "nbformat": 4,
 "nbformat_minor": 2
}
