{
 "cells": [
  {
   "cell_type": "code",
   "execution_count": 1,
   "metadata": {},
   "outputs": [
    {
     "data": {
      "text/plain": [
       "device(type='cuda')"
      ]
     },
     "execution_count": 1,
     "metadata": {},
     "output_type": "execute_result"
    }
   ],
   "source": [
    "%load_ext autoreload\n",
    "%autoreload 2\n",
    "\n",
    "from aeon.datasets import load_classification\n",
    "import numpy as np\n",
    "import pandas as pd\n",
    "import torch\n",
    "import random\n",
    "import csv\n",
    "from sklearn.model_selection import train_test_split\n",
    "from sklearn.utils.class_weight import compute_class_weight\n",
    "import matplotlib.pyplot as plt\n",
    "import torch\n",
    "from torch.utils.data import TensorDataset, DataLoader\n",
    "from torch.autograd import Variable\n",
    "from torchmetrics import AUROC, Accuracy\n",
    "import collections\n",
    "import os\n",
    "\n",
    "from models import LogisticRegressionWithSummariesAndBottleneck_Wrapper\n",
    "from preprocess_helpers import *\n",
    "from helper import *\n",
    "from param_initializations import *\n",
    "from optimization_strategy import greedy_selection\n",
    "\n",
    "device = torch.device('cuda') if torch.cuda.is_available else torch.device('cpu')\n",
    "device"
   ]
  },
  {
   "cell_type": "code",
   "execution_count": 2,
   "metadata": {},
   "outputs": [
    {
     "name": "stdout",
     "output_type": "stream",
     "text": [
      " Shape of X =  8798 (13, 38)\n",
      " Shape of y =  (8798,)\n",
      " Meta data =  {'problemname': 'spokenarabicdigits', 'timestamps': False, 'missing': False, 'univariate': False, 'equallength': False, 'classlabel': True, 'targetlabel': False, 'class_values': ['1', '2', '3', '4', '5', '6', '7', '8', '9', '10']}\n"
     ]
    },
    {
     "data": {
      "text/plain": [
       "array([ 1,  1,  1, ..., 10, 10, 10])"
      ]
     },
     "execution_count": 2,
     "metadata": {},
     "output_type": "execute_result"
    }
   ],
   "source": [
    "X, y, meta_data = load_classification(\"SpokenArabicDigits\", extract_path=\"/workdir/data\")\n",
    "print(\" Shape of X = \", len(X), X[0].shape)\n",
    "print(\" Shape of y = \", y.shape)\n",
    "print(\" Meta data = \", meta_data)\n",
    "y = y.astype(int)\n",
    "y\n"
   ]
  },
  {
   "cell_type": "code",
   "execution_count": 3,
   "metadata": {},
   "outputs": [
    {
     "name": "stdout",
     "output_type": "stream",
     "text": [
      "4 93\n"
     ]
    },
    {
     "data": {
      "text/plain": [
       "Counter({4: 1,\n",
       "         7: 2,\n",
       "         9: 3,\n",
       "         11: 1,\n",
       "         12: 2,\n",
       "         13: 3,\n",
       "         14: 6,\n",
       "         15: 10,\n",
       "         16: 6,\n",
       "         17: 8,\n",
       "         18: 8,\n",
       "         19: 13,\n",
       "         20: 13,\n",
       "         21: 23,\n",
       "         22: 33,\n",
       "         23: 57,\n",
       "         24: 67,\n",
       "         25: 75,\n",
       "         26: 102,\n",
       "         27: 110,\n",
       "         28: 113,\n",
       "         29: 164,\n",
       "         30: 225,\n",
       "         31: 254,\n",
       "         32: 297,\n",
       "         33: 382,\n",
       "         34: 367,\n",
       "         35: 378,\n",
       "         36: 403,\n",
       "         37: 485,\n",
       "         38: 444,\n",
       "         39: 484,\n",
       "         40: 431,\n",
       "         41: 388,\n",
       "         42: 343,\n",
       "         43: 342,\n",
       "         44: 353,\n",
       "         45: 317,\n",
       "         46: 320,\n",
       "         47: 260,\n",
       "         48: 223,\n",
       "         49: 173,\n",
       "         50: 196,\n",
       "         51: 149,\n",
       "         52: 114,\n",
       "         53: 93,\n",
       "         54: 104,\n",
       "         55: 77,\n",
       "         56: 82,\n",
       "         57: 66,\n",
       "         58: 50,\n",
       "         59: 44,\n",
       "         60: 33,\n",
       "         61: 24,\n",
       "         62: 17,\n",
       "         63: 9,\n",
       "         64: 11,\n",
       "         65: 3,\n",
       "         66: 8,\n",
       "         67: 1,\n",
       "         68: 1,\n",
       "         69: 3,\n",
       "         70: 1,\n",
       "         71: 2,\n",
       "         72: 1,\n",
       "         73: 1,\n",
       "         74: 3,\n",
       "         76: 3,\n",
       "         77: 6,\n",
       "         79: 1,\n",
       "         80: 1,\n",
       "         83: 2,\n",
       "         86: 1,\n",
       "         87: 1,\n",
       "         93: 1})"
      ]
     },
     "execution_count": 3,
     "metadata": {},
     "output_type": "execute_result"
    }
   ],
   "source": [
    "lengths = []\n",
    "for i, x in enumerate(X):\n",
    "    lengths.append(x.shape[1])\n",
    "lengths.sort()\n",
    "\n",
    "MIN_TS_SIZE = min(lengths)\n",
    "MAX_TS_SIZE = max(lengths)\n",
    "\n",
    "print(MIN_TS_SIZE, MAX_TS_SIZE)\n",
    "\n",
    "counter = collections.Counter(lengths)\n",
    "counter\n"
   ]
  },
  {
   "cell_type": "code",
   "execution_count": 4,
   "metadata": {},
   "outputs": [],
   "source": [
    "def preprocess_data_binary(X, target):\n",
    "    equi_length_X = []\n",
    "    for x in X:\n",
    "        pad_width = ((0, 0), (0, MAX_TS_SIZE - x.shape[1]))\n",
    "        padded = np.pad(x, pad_width, mode='constant', constant_values=0)\n",
    "        equi_length_X.append(padded)\n",
    "\n",
    "    equi_length_X = np.array(equi_length_X)\n",
    "    equi_length_X = equi_length_X.swapaxes(1,2)\n",
    "    \n",
    "    indicators_3d = ~np.isnan(equi_length_X)\n",
    "\n",
    "    data = np.concatenate([equi_length_X, indicators_3d], axis=-1)\n",
    "    \n",
    "    ## target\n",
    "    # convert problem to 1 vs all\n",
    "    _y = np.copy(target)\n",
    "    _y[_y > 1] = 0\n",
    "    \n",
    "    # convert y to logits\n",
    "    y_logits = np.vstack([(~_y.astype(bool)).astype(int), _y])\n",
    "    y_logits = np.swapaxes(y_logits, 0, 1)\n",
    "    \n",
    "    # weights\n",
    "    pos_prop = np.mean(np.array(y_logits)[:, 1])\n",
    "    p_weight = torch.Tensor([1 / (1 - pos_prop), 1 / pos_prop]).to(device)\n",
    "    \n",
    "    return data, y_logits, p_weight\n",
    "\n",
    "def preprocess_data_multiclass(X, target):\n",
    "    equi_length_X = []\n",
    "    for x in X:\n",
    "        pad_width = ((0, 0), (0, MAX_TS_SIZE - x.shape[1]))\n",
    "        padded = np.pad(x, pad_width, mode='constant', constant_values=0)\n",
    "        equi_length_X.append(padded)\n",
    "\n",
    "    equi_length_X = np.array(equi_length_X)\n",
    "    equi_length_X = equi_length_X.swapaxes(1,2)\n",
    "    \n",
    "    indicators_3d = ~np.isnan(equi_length_X)\n",
    "\n",
    "    data = np.concatenate([equi_length_X, indicators_3d], axis=-1) # (N x ts_length x 2*changing_dim)\n",
    "    \n",
    "    ## target\n",
    "    _y = np.copy(target)\n",
    "    y_unique = np.unique(_y)\n",
    "    num_classes = len(y_unique)\n",
    "    \n",
    "    # initiazing datasets\n",
    "    weights = compute_class_weight(class_weight='balanced', classes=y_unique, y=_y)\n",
    "    weights = torch.Tensor(weights).to(device)\n",
    "    \n",
    "    # 1 hot encode\n",
    "    y_one_hot = np.eye(num_classes)[_y-1]\n",
    "    \n",
    "    return data, y_one_hot, num_classes, weights\n"
   ]
  },
  {
   "cell_type": "code",
   "execution_count": 5,
   "metadata": {},
   "outputs": [],
   "source": [
    "def tensor_wrap(x, klass=torch.Tensor):\n",
    "    return x if 'torch' in str(type(x)) else klass(x)\n",
    "\n",
    "def initialize_data(r, _X, _y, batch_size = 128):   \n",
    "    \n",
    "    # train-test-split\n",
    "    torch.set_printoptions(sci_mode=False)\n",
    "    X_train, X_test, y_train, y_test = train_test_split(_X, _y, test_size = 0.15, random_state = r, stratify = _y)\n",
    "\n",
    "    # train-val split\n",
    "    X_train, X_val, y_train, y_val = train_test_split(X_train, y_train, test_size = 0.20, random_state = r, stratify = y_train)\n",
    "\n",
    "    X_train_pt = Variable(tensor_wrap(X_train))#.to(device)\n",
    "    y_train_pt = Variable(tensor_wrap(y_train, torch.FloatTensor))#.to(device)\n",
    "\n",
    "    X_val_pt = Variable(tensor_wrap(X_val))#.to(device)\n",
    "    y_val_pt = Variable(tensor_wrap(y_val, torch.FloatTensor))#.to(device)\n",
    "\n",
    "    X_test_pt = Variable(tensor_wrap(X_test))#.to(device)\n",
    "    y_test_pt = Variable(tensor_wrap(y_test, torch.FloatTensor))#.to(device)\n",
    "\n",
    "    train_dataset = TensorDataset(X_train_pt, y_train_pt)\n",
    "    train_loader = DataLoader(train_dataset, batch_size = batch_size, shuffle=True, num_workers=4, pin_memory=True)\n",
    "\n",
    "    val_dataset = TensorDataset(X_val_pt, y_val_pt)\n",
    "    val_loader = DataLoader(val_dataset, batch_size = X_val_pt.shape[0], shuffle=False, num_workers=4, pin_memory=True)\n",
    "\n",
    "    test_dataset = TensorDataset(X_test_pt, y_test_pt)\n",
    "    test_loader = DataLoader(test_dataset, batch_size = X_test_pt.shape[0], shuffle=False, num_workers=4, pin_memory=True)\n",
    "    \n",
    "    return train_loader, val_loader, test_loader\n"
   ]
  },
  {
   "cell_type": "code",
   "execution_count": 6,
   "metadata": {},
   "outputs": [],
   "source": [
    "def initializeModel(n_concepts, input_dim, changing_dim, time_len, output_dim = 2):\n",
    "    logregbottleneck = LogisticRegressionWithSummariesAndBottleneck_Wrapper(input_dim, \n",
    "                                                changing_dim, \n",
    "                                                9,                     \n",
    "                                                n_concepts,\n",
    "                                                True,\n",
    "                                                init_cutoffs_to_zero, \n",
    "                                                init_rand_lower_thresholds, \n",
    "                                                init_rand_upper_thresholds,\n",
    "                                                cutoff_times_temperature=0.1,\n",
    "                                                cutoff_times_init_values=None,\n",
    "                                                time_len=time_len,\n",
    "                                                opt_lr = 2e-4,\n",
    "                                                opt_weight_decay = 2e-05,\n",
    "                                                l1_lambda=0.001,\n",
    "                                                cos_sim_lambda=0.01,\n",
    "                                                output_dim = output_dim\n",
    "                                                )\n",
    "    logregbottleneck = logregbottleneck.to(device)\n",
    "    return logregbottleneck"
   ]
  },
  {
   "cell_type": "code",
   "execution_count": 7,
   "metadata": {},
   "outputs": [],
   "source": [
    "def set_seed(r):\n",
    "    torch.backends.cudnn.deterministic = True\n",
    "    random.seed(r)\n",
    "    torch.manual_seed(r)\n",
    "    torch.cuda.manual_seed(r)\n",
    "    np.random.seed(r)\n"
   ]
  },
  {
   "cell_type": "code",
   "execution_count": 8,
   "metadata": {},
   "outputs": [],
   "source": [
    "# write results to csv\n",
    "def write_row_to_csv(experiment_folder, row, filename = \"gridsearch\"):\n",
    "    with open('{file_path}.csv'.format(file_path=os.path.join(experiment_folder, filename)), 'a+') as csvfile: \n",
    "        csvwriter = csv.writer(csvfile)\n",
    "        csvwriter.writerow(row)\n"
   ]
  },
  {
   "cell_type": "markdown",
   "metadata": {},
   "source": [
    "## Binary"
   ]
  },
  {
   "cell_type": "code",
   "execution_count": 9,
   "metadata": {},
   "outputs": [],
   "source": [
    "experiment_folder = \"/workdir/optimal-summaries-public/vasopressor/models/arabic/binary/\"\n",
    "model_path = experiment_folder + \"arabic_c{}.pt\"\n",
    "random_seed = 1\n",
    "\n",
    "if not os.path.exists(experiment_folder):\n",
    "    os.makedirs(experiment_folder)"
   ]
  },
  {
   "cell_type": "code",
   "execution_count": 10,
   "metadata": {},
   "outputs": [
    {
     "name": "stdout",
     "output_type": "stream",
     "text": [
      "n_concepts 1\n",
      "Loaded model from /workdir/optimal-summaries-public/vasopressor/models/arabic/binary/arabic_c1.pt\n"
     ]
    },
    {
     "name": "stderr",
     "output_type": "stream",
     "text": [
      "0it [00:00, ?it/s]\n"
     ]
    },
    {
     "name": "stdout",
     "output_type": "stream",
     "text": [
      "n_concepts 2\n",
      "Loaded model from /workdir/optimal-summaries-public/vasopressor/models/arabic/binary/arabic_c2.pt\n"
     ]
    },
    {
     "name": "stderr",
     "output_type": "stream",
     "text": [
      "0it [00:00, ?it/s]\n"
     ]
    },
    {
     "name": "stdout",
     "output_type": "stream",
     "text": [
      "n_concepts 3\n",
      "Loaded model from /workdir/optimal-summaries-public/vasopressor/models/arabic/binary/arabic_c3.pt\n"
     ]
    },
    {
     "name": "stderr",
     "output_type": "stream",
     "text": [
      "0it [00:00, ?it/s]\n"
     ]
    },
    {
     "name": "stdout",
     "output_type": "stream",
     "text": [
      "n_concepts 4\n",
      "Loaded model from /workdir/optimal-summaries-public/vasopressor/models/arabic/binary/arabic_c4.pt\n"
     ]
    },
    {
     "name": "stderr",
     "output_type": "stream",
     "text": [
      "0it [00:00, ?it/s]\n"
     ]
    },
    {
     "name": "stdout",
     "output_type": "stream",
     "text": [
      "n_concepts 5\n",
      "Loaded model from /workdir/optimal-summaries-public/vasopressor/models/arabic/binary/arabic_c5.pt\n"
     ]
    },
    {
     "name": "stderr",
     "output_type": "stream",
     "text": [
      "0it [00:00, ?it/s]\n"
     ]
    },
    {
     "name": "stdout",
     "output_type": "stream",
     "text": [
      "n_concepts 6\n",
      "Loaded model from /workdir/optimal-summaries-public/vasopressor/models/arabic/binary/arabic_c6.pt\n"
     ]
    },
    {
     "name": "stderr",
     "output_type": "stream",
     "text": [
      "0it [00:00, ?it/s]\n"
     ]
    },
    {
     "name": "stdout",
     "output_type": "stream",
     "text": [
      "n_concepts 7\n",
      "Loaded model from /workdir/optimal-summaries-public/vasopressor/models/arabic/binary/arabic_c7.pt\n"
     ]
    },
    {
     "name": "stderr",
     "output_type": "stream",
     "text": [
      "0it [00:00, ?it/s]\n"
     ]
    },
    {
     "name": "stdout",
     "output_type": "stream",
     "text": [
      "n_concepts 8\n",
      "Loaded model from /workdir/optimal-summaries-public/vasopressor/models/arabic/binary/arabic_c8.pt\n"
     ]
    },
    {
     "name": "stderr",
     "output_type": "stream",
     "text": [
      "0it [00:00, ?it/s]\n"
     ]
    },
    {
     "name": "stdout",
     "output_type": "stream",
     "text": [
      "n_concepts 9\n",
      "Loaded model from /workdir/optimal-summaries-public/vasopressor/models/arabic/binary/arabic_c9.pt\n"
     ]
    },
    {
     "name": "stderr",
     "output_type": "stream",
     "text": [
      "0it [00:00, ?it/s]\n"
     ]
    },
    {
     "name": "stdout",
     "output_type": "stream",
     "text": [
      "n_concepts 10\n",
      "Loaded model from /workdir/optimal-summaries-public/vasopressor/models/arabic/binary/arabic_c10.pt\n"
     ]
    },
    {
     "name": "stderr",
     "output_type": "stream",
     "text": [
      "0it [00:00, ?it/s]\n"
     ]
    },
    {
     "name": "stdout",
     "output_type": "stream",
     "text": [
      "n_concepts 11\n",
      "Loaded model from /workdir/optimal-summaries-public/vasopressor/models/arabic/binary/arabic_c11.pt\n"
     ]
    },
    {
     "name": "stderr",
     "output_type": "stream",
     "text": [
      "0it [00:00, ?it/s]\n"
     ]
    },
    {
     "name": "stdout",
     "output_type": "stream",
     "text": [
      "n_concepts 12\n",
      "Loaded model from /workdir/optimal-summaries-public/vasopressor/models/arabic/binary/arabic_c12.pt\n"
     ]
    },
    {
     "name": "stderr",
     "output_type": "stream",
     "text": [
      "0it [00:00, ?it/s]\n"
     ]
    },
    {
     "name": "stdout",
     "output_type": "stream",
     "text": [
      "n_concepts 13\n",
      "Loaded model from /workdir/optimal-summaries-public/vasopressor/models/arabic/binary/arabic_c13.pt\n"
     ]
    },
    {
     "name": "stderr",
     "output_type": "stream",
     "text": [
      "0it [00:00, ?it/s]\n"
     ]
    },
    {
     "name": "stdout",
     "output_type": "stream",
     "text": [
      "n_concepts 14\n",
      "Loaded model from /workdir/optimal-summaries-public/vasopressor/models/arabic/binary/arabic_c14.pt\n"
     ]
    },
    {
     "name": "stderr",
     "output_type": "stream",
     "text": [
      "0it [00:00, ?it/s]\n"
     ]
    },
    {
     "name": "stdout",
     "output_type": "stream",
     "text": [
      "n_concepts 15\n",
      "Loaded model from /workdir/optimal-summaries-public/vasopressor/models/arabic/binary/arabic_c15.pt\n"
     ]
    },
    {
     "name": "stderr",
     "output_type": "stream",
     "text": [
      "0it [00:00, ?it/s]\n"
     ]
    },
    {
     "data": {
      "text/plain": [
       "(15, 4)"
      ]
     },
     "execution_count": 10,
     "metadata": {},
     "output_type": "execute_result"
    }
   ],
   "source": [
    "history_binary = []\n",
    "\n",
    "set_seed(random_seed)\n",
    "\n",
    "data, y_logits, weights = preprocess_data_binary(X, y)\n",
    "train_loader, val_loader, test_loader = initialize_data(1, data, y_logits)\n",
    "\n",
    "input_dim = data.shape[2]\n",
    "changing_dim = X[0].shape[0]\n",
    "ts_length = data.shape[1]\n",
    "\n",
    "auroc_metric = AUROC(task=\"binary\").to(device)\n",
    "accuracy_metric = Accuracy(task=\"binary\").to(device)\n",
    "\n",
    "for n_concepts in range(1,16):\n",
    "    print(\"n_concepts\", n_concepts)\n",
    "    \n",
    "    model = initializeModel(n_concepts, input_dim, changing_dim, ts_length)\n",
    "    model.fit(train_loader, val_loader, weights, model_path.format(n_concepts), 1000)\n",
    "    \n",
    "    auc, acc = 0., 0.\n",
    "    for batch_idx, (Xb, yb) in enumerate(test_loader):\n",
    "        Xb, yb = Xb.to(device), yb.to(device)\n",
    "        preds = model.forward_probabilities(Xb)\n",
    "        \n",
    "        auc += auroc_metric(preds, yb).item()\n",
    "        acc += accuracy_metric(preds, yb).item()\n",
    "    auc /= len(test_loader)\n",
    "    acc /= len(test_loader)\n",
    "    \n",
    "    history = [n_concepts, model.val_losses[-1], auc, acc]\n",
    "    history_binary.append(np.array(history))\n",
    "history_binary = np.array(history_binary)\n",
    "history_binary.shape\n"
   ]
  },
  {
   "cell_type": "code",
   "execution_count": 11,
   "metadata": {},
   "outputs": [
    {
     "data": {
      "image/png": "[encoded data removed]",
      "text/plain": [
       "<Figure size 640x480 with 1 Axes>"
      ]
     },
     "metadata": {},
     "output_type": "display_data"
    }
   ],
   "source": [
    "# plot\n",
    "plt.plot(history_binary[:, 0], history_binary[:, 2], label='AUC')\n",
    "plt.plot(history_binary[:, 0], history_binary[:, 3], label='ACC')\n",
    "\n",
    "plt.xlabel('Num Concepts')\n",
    "plt.ylabel('Criteria')\n",
    "plt.title('Plot of Concepts vs Criteria')\n",
    "plt.xticks(np.arange(min(history_binary[:, 0]), max(history_binary[:, 0])+1, 1))\n",
    "\n",
    "for x,_y in zip(history_binary[:, 0], history_binary[:, 2]):\n",
    "    label = \"{:.2f}\".format(_y)\n",
    "    plt.annotate(label, # this is the text\n",
    "                 (x,_y), # these are the coordinates to position the label\n",
    "                 textcoords=\"offset points\", # how to position the text\n",
    "                 xytext=(0,10), # distance from text to points (x,y)\n",
    "                 ha='center') # horizontal alignment can be left, right or center\n",
    "    \n",
    "for x,_y in zip(history_binary[:, 0], history_binary[:, 3]):\n",
    "    label = \"{:.2f}\".format(_y)\n",
    "    plt.annotate(label, # this is the text\n",
    "                 (x,_y), # these are the coordinates to position the label\n",
    "                 textcoords=\"offset points\", # how to position the text\n",
    "                 xytext=(0,-10), # distance from text to points (x,y)\n",
    "                 ha='center') # horizontal alignment can be left, right or center\n",
    "    \n",
    "plt.legend()\n",
    "plt.show()\n"
   ]
  },
  {
   "cell_type": "code",
   "execution_count": 12,
   "metadata": {},
   "outputs": [
    {
     "name": "stdout",
     "output_type": "stream",
     "text": [
      "Loaded model from /workdir/optimal-summaries-public/vasopressor/models/arabic/binary/arabic_c5.pt\n"
     ]
    },
    {
     "name": "stderr",
     "output_type": "stream",
     "text": [
      "0it [00:00, ?it/s]\n"
     ]
    },
    {
     "data": {
      "text/plain": [
       "(5, 182)"
      ]
     },
     "execution_count": 12,
     "metadata": {},
     "output_type": "execute_result"
    }
   ],
   "source": [
    "# feature weights\n",
    "n_concepts = 5\n",
    "\n",
    "model = initializeModel(n_concepts, input_dim, changing_dim, ts_length)\n",
    "model.fit(train_loader, val_loader, weights, model_path.format(n_concepts), 1000)\n",
    "\n",
    "for name, param in model.named_parameters():\n",
    "    if \"bottleneck.weight\" in name:\n",
    "        bottleneck_weights = param\n",
    "feature_weights = bottleneck_weights.cpu().detach().numpy()\n",
    "\n",
    "feature_weights.shape"
   ]
  },
  {
   "cell_type": "code",
   "execution_count": 13,
   "metadata": {},
   "outputs": [
    {
     "data": {
      "image/png": "[encoded data removed]",
      "text/plain": [
       "<Figure size 640x480 with 1 Axes>"
      ]
     },
     "metadata": {},
     "output_type": "display_data"
    },
    {
     "data": {
      "image/png": "[encoded data removed]",
      "text/plain": [
       "<Figure size 640x480 with 1 Axes>"
      ]
     },
     "metadata": {},
     "output_type": "display_data"
    },
    {
     "data": {
      "image/png": "[encoded data removed]",
      "text/plain": [
       "<Figure size 640x480 with 1 Axes>"
      ]
     },
     "metadata": {},
     "output_type": "display_data"
    },
    {
     "data": {
      "image/png": "[encoded data removed]",
      "text/plain": [
       "<Figure size 640x480 with 1 Axes>"
      ]
     },
     "metadata": {},
     "output_type": "display_data"
    },
    {
     "data": {
      "image/png": "[encoded data removed]",
      "text/plain": [
       "<Figure size 640x480 with 1 Axes>"
      ]
     },
     "metadata": {},
     "output_type": "display_data"
    }
   ],
   "source": [
    "# visualize weight magnitudes\n",
    "for c in range(n_concepts):\n",
    "    fig = plt.figure()\n",
    "    ax = fig.add_subplot(111)\n",
    "    inds = np.argsort(-np.abs(feature_weights[c]))[:100]\n",
    "    ax.bar(np.arange(1,101),np.abs(feature_weights[c])[inds])\n",
    "    ax.set_xlabel(\"Top 100 features\")\n",
    "    ax.set_ylabel(\"abs value of feature coefficient\")\n",
    "    plt.show()\n"
   ]
  },
  {
   "cell_type": "code",
   "execution_count": 14,
   "metadata": {},
   "outputs": [
    {
     "data": {
      "text/plain": [
       "(5,)"
      ]
     },
     "execution_count": 14,
     "metadata": {},
     "output_type": "execute_result"
    }
   ],
   "source": [
    "# get 90th percentile of feature weights\n",
    "sum90p = np.sum(np.abs(feature_weights), axis=-1)*0.90\n",
    "sum90p.shape\n"
   ]
  },
  {
   "cell_type": "code",
   "execution_count": 15,
   "metadata": {},
   "outputs": [
    {
     "data": {
      "text/plain": [
       "[[78, 45, 50, 49, 46, 44, 43, 48, 40, 47],\n",
       " [46, 51, 50, 78, 44, 45, 41, 43, 91, 49],\n",
       " [34, 35, 32, 91, 92, 27, 31, 165, 178, 93, 164, 26, 169, 162, 177, 167, 47],\n",
       " [47, 91, 45, 46, 51, 27, 43, 42, 41, 50, 48, 49],\n",
       " [49, 47, 91, 43, 44, 35, 34, 50, 51, 42]]"
      ]
     },
     "execution_count": 15,
     "metadata": {},
     "output_type": "execute_result"
    }
   ],
   "source": [
    "# get top K indizes\n",
    "top_k_inds = []\n",
    "for c in range(n_concepts):\n",
    "    topkinds_conc = []\n",
    "    curr_sum = 0\n",
    "    inds = np.argsort(-np.abs(feature_weights[c])) #desc\n",
    "    sorted_weights = feature_weights[c][inds]\n",
    "    \n",
    "    for ind, weight in zip(inds, sorted_weights):\n",
    "        curr_sum += abs(weight)\n",
    "        if curr_sum <= sum90p[c]:\n",
    "            topkinds_conc.append(ind)\n",
    "        else:\n",
    "            break\n",
    "    \n",
    "    # if selects less than 10, choose 10 best\n",
    "    if len(topkinds_conc) < 10:\n",
    "        topkinds_conc = np.argsort(-np.abs(feature_weights[c]))[:10].tolist()\n",
    "    \n",
    "    top_k_inds.append(topkinds_conc)\n",
    "\n",
    "top_k_inds"
   ]
  },
  {
   "cell_type": "code",
   "execution_count": 16,
   "metadata": {},
   "outputs": [],
   "source": [
    "# write top k inds to csv\n",
    "filename = experiment_folder + \"top-k/top_k_inds_c{}.csv\".format(n_concepts)\n",
    "\n",
    "directory = os.path.dirname(filename)\n",
    "if not os.path.exists(directory):\n",
    "    os.makedirs(directory)\n",
    "\n",
    "# writing to csv file \n",
    "with open(filename, 'w') as csvfile: \n",
    "    # creating a csv writer object \n",
    "    csvwriter = csv.writer(csvfile)\n",
    "    # writing the data rows \n",
    "    csvwriter.writerows(top_k_inds)\n"
   ]
  },
  {
   "cell_type": "code",
   "execution_count": 17,
   "metadata": {},
   "outputs": [
    {
     "name": "stderr",
     "output_type": "stream",
     "text": [
      "  0%|          | 0/50 [00:00<?, ?it/s]"
     ]
    },
    {
     "name": "stderr",
     "output_type": "stream",
     "text": [
      "100%|██████████| 50/50 [04:57<00:00,  5.95s/it]\n"
     ]
    }
   ],
   "source": [
    "best_aucs, best_auc_inds, best_auc_concepts = greedy_selection(auroc_metric, test_loader, top_k_inds, model)\n"
   ]
  },
  {
   "cell_type": "code",
   "execution_count": 18,
   "metadata": {},
   "outputs": [],
   "source": [
    "filename = experiment_folder + \"top-k/bottleneck_r{}_c{}_topkinds.csv\".format(random_seed, n_concepts)\n",
    "\n",
    "# writing to csv file\n",
    "with open(filename, 'w') as csvfile: \n",
    "    # creating a csv writer object \n",
    "    csvwriter = csv.writer(csvfile)\n",
    "    csvwriter.writerow([\"Best AUC\", \"Best AUC Concept #\", \"Best AUC ind #\"])\n",
    "    # writing the data rows \n",
    "    for row in zip(best_aucs, best_auc_concepts, best_auc_inds):\n",
    "        csvwriter.writerow(list(row))\n"
   ]
  },
  {
   "cell_type": "markdown",
   "metadata": {},
   "source": [
    "## Multi-class"
   ]
  },
  {
   "cell_type": "code",
   "execution_count": null,
   "metadata": {},
   "outputs": [],
   "source": [
    "experiment_folder = \"/workdir/optimal-summaries-public/vasopressor/models/arabic/multiclass/\"\n",
    "model_path = experiment_folder + \"arabic_c{}.pt\"\n",
    "random_seed = 1\n",
    "\n",
    "if not os.path.exists(experiment_folder):\n",
    "    os.makedirs(experiment_folder)"
   ]
  },
  {
   "cell_type": "code",
   "execution_count": null,
   "metadata": {},
   "outputs": [],
   "source": [
    "history_multiclass = []\n",
    "\n",
    "set_seed(random_seed)\n",
    "\n",
    "data, y_ohe, num_classes, weights = preprocess_data_multiclass(X, y)\n",
    "train_loader, val_loader, test_loader = initialize_data(1, data, y_ohe)\n",
    "\n",
    "input_dim = data.shape[2]\n",
    "changing_dim = X[0].shape[0]\n",
    "ts_length = data.shape[1]\n",
    "\n",
    "auroc_metric = AUROC(task=\"multiclass\", num_classes=num_classes).to(device)\n",
    "accuracy_metric = Accuracy(task=\"multiclass\", num_classes=num_classes).to(device)\n",
    "\n",
    "for n_concepts in range(1,16):\n",
    "    print(n_concepts)\n",
    "    \n",
    "    model = initializeModel(n_concepts, input_dim, changing_dim, ts_length, num_classes)\n",
    "    model.fit(train_loader, val_loader, weights, model_path.format(n_concepts), 1000)\n",
    "    \n",
    "    auc, acc = 0., 0.\n",
    "    for batch_idx, (Xb, yb) in enumerate(test_loader):\n",
    "        Xb, yb = Xb.to(device), yb.to(device)\n",
    "        preds = model.forward_probabilities(Xb)\n",
    "        \n",
    "        auc += auroc_metric(preds, yb).item()\n",
    "        acc += accuracy_metric(preds, yb).item()\n",
    "        \n",
    "        auc += auroc_metric(probs, model.argmax_to_preds(y_test)).item()\n",
    "        acc += accuracy_metric(model.argmax_to_preds(probs), model.argmax_to_preds(y_test)).item()\n",
    "    auc /= len(test_loader)\n",
    "    acc /= len(test_loader)\n",
    "    \n",
    "    history = [n_concepts, model.val_losses[-1], auc, acc]\n",
    "    history_multiclass.append(np.array(history))\n",
    "history_multiclass = np.array(history_multiclass)\n",
    "history_multiclass.shape\n"
   ]
  },
  {
   "cell_type": "code",
   "execution_count": null,
   "metadata": {},
   "outputs": [],
   "source": [
    "# plot\n",
    "plt.plot(history_multiclass[:, 0], history_multiclass[:, 2], label='AUC')\n",
    "plt.plot(history_multiclass[:, 0], history_multiclass[:, 3], label='ACC')\n",
    "\n",
    "plt.xlabel('Num Concepts')\n",
    "plt.ylabel('Criteria')\n",
    "plt.title('Plot of Concepts vs Criteria')\n",
    "plt.xticks(np.arange(min(history_multiclass[:, 0]), max(history_multiclass[:, 0])+1, 1))\n",
    "\n",
    "for x,_y in zip(history_multiclass[:, 0], history_multiclass[:, 2]):\n",
    "    label = \"{:.2f}\".format(_y)\n",
    "    plt.annotate(label, # this is the text\n",
    "                 (x,_y), # these are the coordinates to position the label\n",
    "                 textcoords=\"offset points\", # how to position the text\n",
    "                 xytext=(0,10), # distance from text to points (x,y)\n",
    "                 ha='center') # horizontal alignment can be left, right or center\n",
    "    \n",
    "for x,_y in zip(history_multiclass[:, 0], history_multiclass[:, 3]):\n",
    "    label = \"{:.2f}\".format(_y)\n",
    "    plt.annotate(label, # this is the text\n",
    "                 (x,_y), # these are the coordinates to position the label\n",
    "                 textcoords=\"offset points\", # how to position the text\n",
    "                 xytext=(0,-10), # distance from text to points (x,y)\n",
    "                 ha='center') # horizontal alignment can be left, right or center\n",
    "\n",
    "plt.legend()\n",
    "plt.show()\n"
   ]
  },
  {
   "cell_type": "code",
   "execution_count": null,
   "metadata": {},
   "outputs": [],
   "source": [
    "# feature weights\n",
    "n_concepts = 6\n",
    "\n",
    "model = initializeModel(n_concepts, input_dim, changing_dim, ts_length, num_classes)\n",
    "model.fit(train_loader, val_loader, weights, model_path.format(n_concepts), 1000)\n",
    "\n",
    "for name, param in model.named_parameters():\n",
    "    if \"bottleneck.weight\" in name:\n",
    "        bottleneck_weights = param\n",
    "feature_weights = bottleneck_weights.cpu().detach().numpy()\n",
    "\n",
    "feature_weights.shape"
   ]
  },
  {
   "cell_type": "code",
   "execution_count": null,
   "metadata": {},
   "outputs": [],
   "source": [
    "# visualize weight magnitudes\n",
    "for c in range(n_concepts):\n",
    "    fig = plt.figure()\n",
    "    ax = fig.add_subplot(111)\n",
    "    inds = np.argsort(-np.abs(feature_weights[c]))[:100]\n",
    "    ax.bar(np.arange(1,101),np.abs(feature_weights[c])[inds])\n",
    "    ax.set_xlabel(\"Top 100 features\")\n",
    "    ax.set_ylabel(\"abs value of feature coefficient\")\n",
    "    plt.show()\n"
   ]
  },
  {
   "cell_type": "code",
   "execution_count": null,
   "metadata": {},
   "outputs": [],
   "source": [
    "# get 90th percentile of feature weights\n",
    "sum90p = np.sum(np.abs(feature_weights), axis=-1)*0.90\n",
    "sum90p.shape\n"
   ]
  },
  {
   "cell_type": "code",
   "execution_count": null,
   "metadata": {},
   "outputs": [],
   "source": [
    "# get top K indizes\n",
    "top_k_inds = []\n",
    "for c in range(n_concepts):\n",
    "    topkinds_conc = []\n",
    "    curr_sum = 0\n",
    "    inds = np.argsort(-np.abs(feature_weights[c])) #desc\n",
    "    sorted_weights = feature_weights[c][inds]\n",
    "    \n",
    "    for ind, weight in zip(inds, sorted_weights):\n",
    "        curr_sum += abs(weight)\n",
    "        if curr_sum <= sum90p[c]:\n",
    "            topkinds_conc.append(ind)\n",
    "        else:\n",
    "            break\n",
    "    \n",
    "    # if selects less than 10, choose 10 best\n",
    "    # if len(topkinds_conc) < 10:\n",
    "    #     topkinds_conc = np.argsort(-np.abs(feature_weights[c]))[:10].tolist()\n",
    "    \n",
    "    top_k_inds.append(topkinds_conc)\n",
    "\n",
    "top_k_inds"
   ]
  },
  {
   "cell_type": "code",
   "execution_count": null,
   "metadata": {},
   "outputs": [],
   "source": [
    "# write top k inds to csv\n",
    "filename = experiment_folder + \"top-k/top_k_inds_c{}.csv\".format(n_concepts)\n",
    "\n",
    "directory = os.path.dirname(filename)\n",
    "if not os.path.exists(directory):\n",
    "    os.makedirs(directory)\n",
    "\n",
    "# writing to csv file \n",
    "with open(filename, 'w') as csvfile: \n",
    "    # creating a csv writer object \n",
    "    csvwriter = csv.writer(csvfile)\n",
    "    # writing the data rows \n",
    "    csvwriter.writerows(top_k_inds)\n"
   ]
  },
  {
   "cell_type": "code",
   "execution_count": null,
   "metadata": {},
   "outputs": [],
   "source": [
    "data_cols = [i for i in range(1,14)] + [str(i) + \"_ind\" for i in range(1,14)]\n",
    "\n",
    "for c, _list in enumerate(top_k_inds):\n",
    "    for ind in _list:\n",
    "        name, summary = getConcept(data_cols, input_dim, changing_dim, int(ind))\n",
    "        print(f\"Concept {c}: ID {ind}, Feature {name}, Summary {summary}\")\n"
   ]
  },
  {
   "cell_type": "code",
   "execution_count": null,
   "metadata": {},
   "outputs": [],
   "source": [
    "best_aucs, best_auc_inds, best_auc_concepts = greedy_selection(auroc_metric, test_loader, top_k_inds, model)\n"
   ]
  },
  {
   "cell_type": "code",
   "execution_count": null,
   "metadata": {},
   "outputs": [],
   "source": [
    "filename = experiment_folder + \"top-k/bottleneck_r{}_c{}_topkinds.csv\".format(random_seed, n_concepts)\n",
    "\n",
    "# writing to csv file\n",
    "with open(filename, 'w') as csvfile: \n",
    "    # creating a csv writer object \n",
    "    csvwriter = csv.writer(csvfile)\n",
    "    csvwriter.writerow([\"Best AUC\", \"Best AUC Concept #\", \"Best AUC ind #\"])\n",
    "    # writing the data rows \n",
    "    for row in zip(best_aucs, best_auc_concepts, best_auc_inds):\n",
    "        csvwriter.writerow(list(row))\n"
   ]
  }
 ],
 "metadata": {
  "kernelspec": {
   "display_name": "base",
   "language": "python",
   "name": "python3"
  },
  "language_info": {
   "codemirror_mode": {
    "name": "ipython",
    "version": 3
   },
   "file_extension": ".py",
   "mimetype": "text/x-python",
   "name": "python",
   "nbconvert_exporter": "python",
   "pygments_lexer": "ipython3",
   "version": "3.10.8"
  }
 },
 "nbformat": 4,
 "nbformat_minor": 2
}
