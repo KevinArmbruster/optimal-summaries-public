{
 "cells": [
  {
   "cell_type": "code",
   "execution_count": 1,
   "metadata": {},
   "outputs": [
    {
     "data": {
      "text/plain": [
       "device(type='cuda')"
      ]
     },
     "execution_count": 1,
     "metadata": {},
     "output_type": "execute_result"
    }
   ],
   "source": [
    "%load_ext autoreload\n",
    "%autoreload 2\n",
    "\n",
    "from darts.datasets import ETTh1Dataset\n",
    "from darts.models import NLinearModel\n",
    "from darts.metrics.metrics import mae, mse\n",
    "import numpy as np\n",
    "import pandas as pd\n",
    "import torch\n",
    "import random\n",
    "import csv\n",
    "import datetime\n",
    "import os\n",
    "import gc\n",
    "from sklearn.model_selection import train_test_split\n",
    "from sklearn.utils.class_weight import compute_class_weight\n",
    "import matplotlib.pyplot as plt\n",
    "import torch\n",
    "from torch.utils.data import Dataset, DataLoader\n",
    "from torch.optim.lr_scheduler import LambdaLR\n",
    "from torchmetrics.regression import MeanAbsoluteError, MeanSquaredError\n",
    "from sklearn.preprocessing import StandardScaler, MinMaxScaler, RobustScaler\n",
    "\n",
    "import optuna\n",
    "from optuna.trial import TrialState\n",
    "from optuna.visualization import plot_optimization_history, plot_param_importances, plot_timeline\n",
    "\n",
    "import models\n",
    "import models_3d_concepts_on_time\n",
    "import models_3d_atomics_on_variate_to_concepts\n",
    "from preprocess_helpers import *\n",
    "from helper import *\n",
    "from param_initializations import *\n",
    "from optimization_strategy import greedy_selection\n",
    "\n",
    "device = torch.device('cuda') if torch.cuda.is_available else torch.device('cpu')\n",
    "device"
   ]
  },
  {
   "cell_type": "code",
   "execution_count": 29,
   "metadata": {},
   "outputs": [
    {
     "name": "stdout",
     "output_type": "stream",
     "text": [
      "[[-95. ]\n",
      " [-94.9]\n",
      " [-94.8]\n",
      " ...\n",
      " [104.7]\n",
      " [104.8]\n",
      " [104.9]]\n"
     ]
    },
    {
     "data": {
      "image/png": "[encoded data removed]",
      "text/plain": [
       "<Figure size 640x480 with 1 Axes>"
      ]
     },
     "metadata": {},
     "output_type": "display_data"
    }
   ],
   "source": [
    "\n",
    "def line(x, w=0.1, b=5):\n",
    "    return w*x + b\n",
    "\n",
    "time = list(range(-1000, 1000))\n",
    "series = [line(x) for x in time]\n",
    "series = np.array(series).reshape(-1,1)\n",
    "print(series)\n",
    "plt.plot(series)\n",
    "plt.show()"
   ]
  },
  {
   "cell_type": "code",
   "execution_count": 3,
   "metadata": {},
   "outputs": [],
   "source": [
    "class TimeSeriesDataset(Dataset):\n",
    "    def __init__(self, data, targets, T, window_stride=1, pred_len=1):\n",
    "        self.data = data\n",
    "        self.targets = targets\n",
    "        assert targets.size(0) == data.size(0)\n",
    "        self.T = T # time window\n",
    "        self.window_stride = window_stride\n",
    "        self.pred_len = pred_len\n",
    "        self.N, self.V = data.shape\n",
    "\n",
    "    def __len__(self):\n",
    "        return len(range(0, self.N - self.T - self.pred_len + 1, self.window_stride))\n",
    "\n",
    "    def __getitem__(self, idx):\n",
    "        start = idx * self.window_stride\n",
    "        end = start + self.T\n",
    "\n",
    "        X = self.data[start:end]\n",
    "        # if mode == \"S\": # predict only target\n",
    "        y = self.targets[end:end + self.pred_len].flatten()\n",
    "        # elif mode == \"MS\": # predict all variables\n",
    "        #   y = self.data[end:end + self.pred_len, :7].flatten()\n",
    "        return X, y\n"
   ]
  },
  {
   "cell_type": "code",
   "execution_count": 18,
   "metadata": {},
   "outputs": [],
   "source": [
    "def preprocess_data(series, seq_len, window_stride=1, pred_len=1, batch_size = 512):\n",
    "    scaler = StandardScaler()\n",
    "    \n",
    "    train_end = int(len(series) * 0.6)\n",
    "    val_end = int(train_end + len(series) * 0.2)\n",
    "    \n",
    "    train = series[:train_end]\n",
    "    val = series[train_end:val_end]\n",
    "    test = series[val_end:]\n",
    "    \n",
    "    # train, test = series.split_before(0.6)\n",
    "    # val, test = test.split_before(0.5)\n",
    "    \n",
    "    print(\"Train/Val/Test\", len(train), len(val), len(test))\n",
    "    \n",
    "    train = scaler.fit_transform(train)\n",
    "    X_train = pd.DataFrame(train)\n",
    "    y_train = X_train\n",
    "    X_train = torch.tensor(X_train.to_numpy(), dtype=torch.float32)\n",
    "    y_train = torch.tensor(y_train.to_numpy(), dtype=torch.float32)\n",
    "    \n",
    "    indicators = torch.isfinite(X_train)\n",
    "    X_train = torch.cat([X_train, indicators], axis=1)\n",
    "    \n",
    "    train_dataset = TimeSeriesDataset(X_train, y_train, seq_len, window_stride, pred_len)\n",
    "    train_loader = DataLoader(train_dataset, batch_size = batch_size, shuffle=False, num_workers=4, pin_memory=True)\n",
    "\n",
    "    val = scaler.transform(val)\n",
    "    X_val = pd.DataFrame(val)\n",
    "    y_val = X_val\n",
    "    X_val = torch.tensor(X_val.to_numpy(), dtype=torch.float32)\n",
    "    y_val = torch.tensor(y_val.to_numpy(), dtype=torch.float32)\n",
    "    \n",
    "    indicators = torch.isfinite(X_val)\n",
    "    X_val = torch.cat([X_val, indicators], axis=1)\n",
    "    \n",
    "    val_dataset = TimeSeriesDataset(X_val, y_val, seq_len, window_stride, pred_len)\n",
    "    val_loader = DataLoader(val_dataset, batch_size = batch_size, shuffle=False, num_workers=4, pin_memory=True)\n",
    "\n",
    "    test = scaler.transform(test)\n",
    "    X_test = pd.DataFrame(test)\n",
    "    y_test = X_test\n",
    "    X_test = torch.tensor(X_test.to_numpy(), dtype=torch.float32)\n",
    "    y_test = torch.tensor(y_test.to_numpy(), dtype=torch.float32)\n",
    "    \n",
    "    indicators = torch.isfinite(X_test)\n",
    "    X_test = torch.cat([X_test, indicators], axis=1)\n",
    "    \n",
    "    test_dataset = TimeSeriesDataset(X_test, y_test, seq_len, window_stride, pred_len)\n",
    "    test_loader = DataLoader(test_dataset, batch_size = batch_size, shuffle=False, num_workers=4, pin_memory=True)\n",
    "    \n",
    "    return train_loader, val_loader, test_loader, scaler\n"
   ]
  },
  {
   "cell_type": "code",
   "execution_count": 41,
   "metadata": {},
   "outputs": [
    {
     "name": "stdout",
     "output_type": "stream",
     "text": [
      "Train/Val/Test 1200 400 400\n"
     ]
    },
    {
     "name": "stdout",
     "output_type": "stream",
     "text": [
      "torch.Size([512, 100, 2])\n",
      "torch.Size([512, 10])\n"
     ]
    },
    {
     "data": {
      "image/png": "[encoded data removed]",
      "text/plain": [
       "<Figure size 640x480 with 1 Axes>"
      ]
     },
     "metadata": {},
     "output_type": "display_data"
    },
    {
     "name": "stdout",
     "output_type": "stream",
     "text": [
      "Batches 3 1 1\n"
     ]
    }
   ],
   "source": [
    "seq_len = 100\n",
    "pred_len = 10\n",
    "\n",
    "train_loader, val_loader, test_loader, scaler = preprocess_data(series, seq_len, pred_len=pred_len)\n",
    "\n",
    "for X,y in train_loader:\n",
    "    print(X.shape)\n",
    "    print(y.shape)\n",
    "    break\n",
    "\n",
    "i = 511\n",
    "plt.plot(range(seq_len), X[i, :, 0], label=\"X\")\n",
    "plt.plot(range(seq_len), X[i, :, 1], label=\"X IND\")\n",
    "plt.plot(range(seq_len, seq_len + pred_len), y[i], label=\"y\")\n",
    "plt.legend()\n",
    "plt.show()\n",
    "\n",
    "\n",
    "print(\"Batches\", len(train_loader), len(val_loader), len(test_loader))\n"
   ]
  },
  {
   "cell_type": "code",
   "execution_count": 20,
   "metadata": {},
   "outputs": [],
   "source": [
    "# plots\n",
    "def plot_losses(train_losses, val_losses):\n",
    "    plt.plot(train_losses, color=\"black\", label=\"Train\")\n",
    "    plt.plot(val_losses, color=\"green\", label=\"Val\")\n",
    "    plt.legend()\n",
    "    plt.show()\n",
    "\n",
    "def plot_mae_mse(history, title, dec=\"{:.3g}\"):\n",
    "    xticks = range(len(history[:, 0]))\n",
    "    plt.plot(xticks, history[:, 2], label='MAE')\n",
    "    plt.plot(xticks, history[:, 3], label='MSE')\n",
    "\n",
    "    plt.xlabel('Num Concepts')\n",
    "    plt.ylabel('Criteria')\n",
    "    # plt.ylim(0, 1)\n",
    "    xtick_labels = list(map(int, history[:, 0]))\n",
    "    plt.xticks(xticks, xtick_labels)\n",
    "    plt.yscale('log')\n",
    "\n",
    "    if dec:\n",
    "        for x,_y in zip(xticks, history[:, 2]):\n",
    "            label = dec.format(_y)\n",
    "            plt.annotate(label, # this is the text\n",
    "                        (x,_y), # these are the coordinates to position the label\n",
    "                        textcoords=\"offset points\", # how to position the text\n",
    "                        xytext=(0,-10), # distance from text to points (x,y)\n",
    "                        ha='center') # horizontal alignment can be left, right or center\n",
    "            \n",
    "        for x,_y in zip(xticks, history[:, 3]):\n",
    "            label = dec.format(_y)\n",
    "            plt.annotate(label, # this is the text\n",
    "                        (x,_y), # these are the coordinates to position the label\n",
    "                        textcoords=\"offset points\", # how to position the text\n",
    "                        xytext=(0,-10), # distance from text to points (x,y)\n",
    "                        ha='center') # horizontal alignment can be left, right or center\n",
    "\n",
    "    plt.title(title)\n",
    "    plt.legend()\n",
    "    plt.show()\n",
    "\n",
    "\n",
    "def plot_atomics_concepts_metric(history, title, dec=\"{:.3g}\"):\n",
    "        \n",
    "    df = pd.DataFrame(history, columns=[\"n_atomics\", \"n_concepts\", \"val_loss\", \"mae\", \"mse\"])\n",
    "    mean_atomics = df.groupby(\"n_atomics\").mean()\n",
    "    mean_concepts = df.groupby(\"n_concepts\").mean()\n",
    "\n",
    "    # display(mean_atomics)\n",
    "    plt.plot(mean_atomics.index, mean_atomics[\"mae\"], label='MAE')\n",
    "    plt.plot(mean_atomics.index, mean_atomics[\"mse\"], label='MSE')\n",
    "    plt.xlabel('Num Atomics')\n",
    "    plt.ylabel('Criteria')\n",
    "    plt.title(\"Metric as mean over atomics\")\n",
    "    plt.suptitle(title)\n",
    "    plt.legend()\n",
    "    plt.show()\n",
    "\n",
    "    # display(mean_concepts)\n",
    "    plt.plot(mean_concepts.index, mean_concepts[\"mae\"], label='MAE')\n",
    "    plt.plot(mean_concepts.index, mean_concepts[\"mse\"], label='MSE')\n",
    "    plt.xlabel('Num Concepts')\n",
    "    plt.ylabel('Criteria')\n",
    "    plt.title(\"Metric as mean over concepts\")\n",
    "    plt.suptitle(title)\n",
    "    plt.legend()\n",
    "    plt.show()\n",
    "    \n",
    "\n",
    "def plot_prediction_vs_true(yb, preds, title):\n",
    "    plt.plot(yb, color=\"black\", label=\"True\")\n",
    "    plt.plot(preds, color=\"red\", label=\"Pred\")\n",
    "    plt.title(title)\n",
    "    plt.legend()\n",
    "    plt.show()\n"
   ]
  },
  {
   "cell_type": "code",
   "execution_count": null,
   "metadata": {},
   "outputs": [],
   "source": [
    "def initializeModel(n_concepts, input_dim, changing_dim, seq_len, output_dim, top_k=''):\n",
    "    model = models.CBM(input_dim = input_dim, \n",
    "                            changing_dim = changing_dim, \n",
    "                            seq_len = seq_len,\n",
    "                            num_concepts = n_concepts,\n",
    "                            opt_lr = 3e-3, # 2e-4\n",
    "                            opt_weight_decay = 1e-05,\n",
    "                            l1_lambda=0,#0.001,\n",
    "                            cos_sim_lambda=0,#0.01,\n",
    "                            output_dim = output_dim,\n",
    "                            top_k=top_k,\n",
    "                            task_type=models.TaskType.REGRESSION,\n",
    "                            )\n",
    "    model = model.to(device)\n",
    "    return model\n",
    "\n",
    "def initializeModel_with_atomics(n_atomics, n_concepts, input_dim, changing_dim, seq_len, output_dim, use_summaries_for_atomics, top_k=''):\n",
    "    model = models_3d_atomics_on_variate_to_concepts.CBM(input_dim = input_dim, \n",
    "                            changing_dim = changing_dim, \n",
    "                            seq_len = seq_len,\n",
    "                            num_concepts = n_concepts,\n",
    "                            num_atomics = n_atomics,\n",
    "                            use_summaries_for_atomics = use_summaries_for_atomics,\n",
    "                            opt_lr = 3e-3, # 2e-4\n",
    "                            opt_weight_decay = 1e-05,\n",
    "                            l1_lambda=0,#0.001,\n",
    "                            cos_sim_lambda=0,#0.01,\n",
    "                            output_dim = output_dim,\n",
    "                            top_k=top_k,\n",
    "                            task_type=models_3d_atomics_on_variate_to_concepts.TaskType.REGRESSION,\n",
    "                            )\n",
    "    model = model.to(device)\n",
    "    return model"
   ]
  },
  {
   "cell_type": "code",
   "execution_count": 22,
   "metadata": {},
   "outputs": [],
   "source": [
    "random_seed = 1\n",
    "set_seed(random_seed)\n"
   ]
  },
  {
   "cell_type": "code",
   "execution_count": 26,
   "metadata": {},
   "outputs": [],
   "source": [
    "seq_len = 100\n",
    "pred_len = 10\n",
    "n_atomics_list = list(range(2,11,2))\n",
    "n_concepts_list = list(range(2,11,2))\n",
    "changing_dim = 1 #len(series.columns)\n",
    "input_dim = 2 * changing_dim\n"
   ]
  },
  {
   "cell_type": "markdown",
   "metadata": {},
   "source": [
    "## Blaaa"
   ]
  },
  {
   "cell_type": "code",
   "execution_count": 45,
   "metadata": {},
   "outputs": [],
   "source": [
    "experiment_folder = f\"/workdir/optimal-summaries-public/vasopressor/models/etth1/debugging-L{seq_len}-T{pred_len}/\"\n",
    "# model_path_re = experiment_folder + \"forecasting_c{}_a{}.pt\"\n",
    "model_path_re = experiment_folder + \"forecasting_c{}.pt\"\n",
    "\n",
    "if not os.path.exists(experiment_folder):\n",
    "    os.makedirs(experiment_folder)"
   ]
  },
  {
   "cell_type": "code",
   "execution_count": 46,
   "metadata": {},
   "outputs": [
    {
     "name": "stderr",
     "output_type": "stream",
     "text": [
      "/opt/conda/lib/python3.10/site-packages/torch/nn/modules/lazy.py:180: UserWarning: Lazy modules are a new feature under heavy development so changes to the API or functionality can happen at any moment.\n",
      "  warnings.warn('Lazy modules are a new feature under heavy development '\n"
     ]
    },
    {
     "name": "stdout",
     "output_type": "stream",
     "text": [
      "Train/Val/Test 1200 400 400\n"
     ]
    },
    {
     "name": "stderr",
     "output_type": "stream",
     "text": [
      "  0%|          | 0/10000 [00:00<?, ?it/s]"
     ]
    },
    {
     "name": "stderr",
     "output_type": "stream",
     "text": [
      " 47%|████▋     | 4667/10000 [18:14<20:16,  4.38it/s]"
     ]
    }
   ],
   "source": [
    "# Plot Prediction vs actual\n",
    "train_loader, val_loader, test_loader, scaler = preprocess_data(series, seq_len, pred_len=pred_len)\n",
    "\n",
    "mae_metric = MeanAbsoluteError().to(device)\n",
    "mse_metric = MeanSquaredError().to(device)\n",
    "\n",
    "n_concepts = 10\n",
    "n_atomics = 10\n",
    "\n",
    "# model = initializeModel_with_atomics(n_atomics, n_concepts, input_dim, changing_dim, seq_len, output_dim=pred_len, use_summaries_for_atomics=True)\n",
    "model = initializeModel(n_concepts, input_dim, changing_dim, seq_len, output_dim=pred_len)\n",
    "\n",
    "scheduler = torch.optim.lr_scheduler.ReduceLROnPlateau(optimizer=model.optimizer, patience=5) \n",
    "\n",
    "# model.fit(train_loader, val_loader, None, save_model_path=model_path_re.format(n_concepts, n_atomics), max_epochs=10000, scheduler=scheduler)\n",
    "model.fit(train_loader, val_loader, None, save_model_path=model_path_re.format(n_concepts), max_epochs=10000, scheduler=scheduler)\n",
    "\n",
    "\n",
    "model.eval()\n",
    "with torch.no_grad():\n",
    "    # for batch_idx, (Xb, yb) in enumerate(train_loader):\n",
    "    #     Xb, yb = Xb.to(device), yb.to(device)\n",
    "    #     preds = model(Xb)\n",
    "        \n",
    "    #     mae = mae_metric(preds, yb).item()\n",
    "    #     mse = mse_metric(preds, yb).item()\n",
    "    # mae = mae_metric.compute().item()\n",
    "    # mse = mse_metric.compute().item()\n",
    "    # mae_metric.reset()\n",
    "    # mse_metric.reset()\n",
    "\n",
    "    # print(\"MSE\", mse, \"MAE\", mae)\n",
    "\n",
    "\n",
    "    for batch_idx, (Xb, yb) in enumerate(train_loader):\n",
    "        Xb, yb = Xb.to(device), yb.to(device)\n",
    "        preds = model(Xb)\n",
    "        break\n",
    "\n",
    "\n",
    "i = 20\n",
    "yb = yb.cpu().numpy()[i].reshape(-1, 1)\n",
    "preds = preds.cpu().numpy()[i].reshape(-1, 1)\n",
    "\n",
    "print(yb.shape)\n",
    "print(preds.shape)\n",
    "\n",
    "plot_prediction_vs_true(yb, preds, title=f\"Redesigned - Predictions with {n_concepts} Concepts, {n_atomics} Atomics\")\n",
    "display(pd.DataFrame(yb.flatten(), preds.flatten()))\n",
    "\n",
    "\n",
    "ybs = scaler.inverse_transform(yb)\n",
    "predss = scaler.inverse_transform(preds)\n",
    "\n",
    "plot_prediction_vs_true(ybs, predss, title=f\"Redesigned - Predictions with {n_concepts} Concepts, {n_atomics} Atomics\")\n",
    "display(pd.DataFrame(ybs.flatten(), predss.flatten()))\n"
   ]
  }
 ],
 "metadata": {
  "kernelspec": {
   "display_name": "base",
   "language": "python",
   "name": "python3"
  },
  "language_info": {
   "codemirror_mode": {
    "name": "ipython",
    "version": 3
   },
   "file_extension": ".py",
   "mimetype": "text/x-python",
   "name": "python",
   "nbconvert_exporter": "python",
   "pygments_lexer": "ipython3",
   "version": "3.10.8"
  }
 },
 "nbformat": 4,
 "nbformat_minor": 2
}
