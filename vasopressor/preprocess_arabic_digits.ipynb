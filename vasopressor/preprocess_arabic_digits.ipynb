{
 "cells": [
  {
   "cell_type": "code",
   "execution_count": 1,
   "metadata": {},
   "outputs": [],
   "source": [
    "%load_ext autoreload\n",
    "%autoreload 2\n",
    "\n",
    "from aeon.datasets import load_classification\n",
    "\n",
    "import numpy as np\n",
    "import pandas as pd\n",
    "import pickle\n",
    "import torch\n",
    "import random\n",
    "import csv\n",
    "\n",
    "from sklearn.model_selection import train_test_split\n",
    "from sklearn.metrics import roc_auc_score\n",
    "from sklearn.metrics import RocCurveDisplay\n",
    "from sklearn.utils.class_weight import compute_class_weight\n",
    "\n",
    "import matplotlib.pyplot as plt\n",
    "from matplotlib.transforms import Affine2D\n",
    "import seaborn as sns\n",
    "from sklearn import metrics\n",
    "import squarify\n",
    "\n",
    "from imblearn.over_sampling import SMOTE\n",
    "from imblearn.under_sampling import RandomUnderSampler\n",
    "from imblearn.pipeline import Pipeline\n",
    "\n",
    "from weights_parser import WeightsParser\n",
    "from models import LogisticRegressionWithSummariesAndBottleneck_Wrapper\n",
    "from custom_losses import custom_bce_horseshoe\n",
    "from preprocess_helpers import *\n",
    "\n",
    "import torch\n",
    "import torch.nn as nn\n",
    "import torch.nn.functional as F\n",
    "import torch.optim as optim\n",
    "from torch.nn.functional import binary_cross_entropy_with_logits\n",
    "from torch.utils.data import TensorDataset, DataLoader\n",
    "from torch.autograd import Variable\n",
    "from torchmetrics import AUROC\n",
    "\n",
    "from itertools import combinations\n",
    "\n",
    "from tqdm import tqdm\n",
    "from time import sleep\n",
    "from helper import *\n",
    "import collections\n",
    "import optuna\n",
    "from optuna.trial import TrialState\n",
    "from optuna.visualization import plot_optimization_history, plot_param_importances, plot_timeline"
   ]
  },
  {
   "cell_type": "code",
   "execution_count": 2,
   "metadata": {},
   "outputs": [
    {
     "name": "stdout",
     "output_type": "stream",
     "text": [
      " Shape of X =  8798 (13, 38)\n",
      " Shape of y =  (8798,)\n",
      " Meta data =  {'problemname': 'spokenarabicdigits', 'timestamps': False, 'missing': False, 'univariate': False, 'equallength': False, 'classlabel': True, 'targetlabel': False, 'class_values': ['1', '2', '3', '4', '5', '6', '7', '8', '9', '10']}\n"
     ]
    },
    {
     "data": {
      "text/plain": [
       "array([ 1,  1,  1, ..., 10, 10, 10])"
      ]
     },
     "execution_count": 2,
     "metadata": {},
     "output_type": "execute_result"
    }
   ],
   "source": [
    "X, y, meta_data = load_classification(\"SpokenArabicDigits\")\n",
    "print(\" Shape of X = \", len(X), X[0].shape)\n",
    "print(\" Shape of y = \", y.shape)\n",
    "print(\" Meta data = \", meta_data)\n",
    "y = y.astype(int)\n",
    "y\n"
   ]
  },
  {
   "cell_type": "code",
   "execution_count": 3,
   "metadata": {},
   "outputs": [
    {
     "data": {
      "text/plain": [
       "Counter({4: 1,\n",
       "         7: 2,\n",
       "         9: 3,\n",
       "         11: 1,\n",
       "         12: 2,\n",
       "         13: 3,\n",
       "         14: 6,\n",
       "         15: 10,\n",
       "         16: 6,\n",
       "         17: 8,\n",
       "         18: 8,\n",
       "         19: 13,\n",
       "         20: 13,\n",
       "         21: 23,\n",
       "         22: 33,\n",
       "         23: 57,\n",
       "         24: 67,\n",
       "         25: 75,\n",
       "         26: 102,\n",
       "         27: 110,\n",
       "         28: 113,\n",
       "         29: 164,\n",
       "         30: 225,\n",
       "         31: 254,\n",
       "         32: 297,\n",
       "         33: 382,\n",
       "         34: 367,\n",
       "         35: 378,\n",
       "         36: 403,\n",
       "         37: 485,\n",
       "         38: 444,\n",
       "         39: 484,\n",
       "         40: 431,\n",
       "         41: 388,\n",
       "         42: 343,\n",
       "         43: 342,\n",
       "         44: 353,\n",
       "         45: 317,\n",
       "         46: 320,\n",
       "         47: 260,\n",
       "         48: 223,\n",
       "         49: 173,\n",
       "         50: 196,\n",
       "         51: 149,\n",
       "         52: 114,\n",
       "         53: 93,\n",
       "         54: 104,\n",
       "         55: 77,\n",
       "         56: 82,\n",
       "         57: 66,\n",
       "         58: 50,\n",
       "         59: 44,\n",
       "         60: 33,\n",
       "         61: 24,\n",
       "         62: 17,\n",
       "         63: 9,\n",
       "         64: 11,\n",
       "         65: 3,\n",
       "         66: 8,\n",
       "         67: 1,\n",
       "         68: 1,\n",
       "         69: 3,\n",
       "         70: 1,\n",
       "         71: 2,\n",
       "         72: 1,\n",
       "         73: 1,\n",
       "         74: 3,\n",
       "         76: 3,\n",
       "         77: 6,\n",
       "         79: 1,\n",
       "         80: 1,\n",
       "         83: 2,\n",
       "         86: 1,\n",
       "         87: 1,\n",
       "         93: 1})"
      ]
     },
     "execution_count": 3,
     "metadata": {},
     "output_type": "execute_result"
    }
   ],
   "source": [
    "lengths = []\n",
    "for i, x in enumerate(X):\n",
    "    lengths.append(x.shape[1])\n",
    "lengths.sort()\n",
    "counter = collections.Counter(lengths)\n",
    "counter\n"
   ]
  },
  {
   "cell_type": "code",
   "execution_count": 4,
   "metadata": {},
   "outputs": [],
   "source": [
    "def preprocess_data_binary(X, y, min_size):\n",
    "    \n",
    "    equi_length_X = []\n",
    "    select_idx = []\n",
    "    for i, x in enumerate(X):\n",
    "        if x.shape[1] >= min_size:\n",
    "            select_idx.append(i)\n",
    "            equi_length_X.append(x[:, :min_size])\n",
    "\n",
    "    equi_length_X = np.array(equi_length_X)\n",
    "    equi_length_X = equi_length_X.swapaxes(1,2)\n",
    "\n",
    "    indicators_3d = ~np.isnan(equi_length_X)\n",
    "\n",
    "    data = np.concatenate([equi_length_X, indicators_3d], axis=-1)\n",
    "    \n",
    "    ## target\n",
    "    y = y[select_idx]\n",
    "    \n",
    "    # convert problem to 1 vs all\n",
    "    y[y > 1] = 0\n",
    "    \n",
    "    # convert y to logits\n",
    "    y_logits = np.vstack([(~y.astype(bool)).astype(int), y])\n",
    "    y_logits = np.swapaxes(y_logits, 0, 1)\n",
    "    \n",
    "    # weights\n",
    "    pos_prop = np.mean(np.array(y)[:, 1])\n",
    "    p_weight = torch.Tensor([1 / (1 - pos_prop), 1 / pos_prop]).cuda()\n",
    "    \n",
    "    return data, y_logits, p_weight\n",
    "\n",
    "def preprocess_data_multiclass(X, y, min_size):\n",
    "    \n",
    "    equi_length_X = []\n",
    "    select_idx = []\n",
    "    for i, x in enumerate(X):\n",
    "        if x.shape[1] >= min_size:\n",
    "            select_idx.append(i)\n",
    "            equi_length_X.append(x[:, :min_size])\n",
    "\n",
    "    equi_length_X = np.array(equi_length_X)\n",
    "    equi_length_X = equi_length_X.swapaxes(1,2)\n",
    "\n",
    "    indicators_3d = ~np.isnan(equi_length_X)\n",
    "\n",
    "    data = np.concatenate([equi_length_X, indicators_3d], axis=-1) # (N x ts_length x 2*changing_dim)\n",
    "    \n",
    "    ## target\n",
    "    y = y[select_idx]\n",
    "    \n",
    "    y_unique = np.unique(y)\n",
    "    num_classes = len(y_unique)\n",
    "    \n",
    "    # initiazing datasets\n",
    "    weights = compute_class_weight(class_weight='balanced', classes=y_unique, y=y)\n",
    "    weights = torch.Tensor(weights).cuda()\n",
    "    \n",
    "    # 1 hot encode\n",
    "    y_one_hot = np.eye(num_classes)[y-1]\n",
    "    \n",
    "    return data, y_one_hot, num_classes, weights"
   ]
  },
  {
   "cell_type": "code",
   "execution_count": 19,
   "metadata": {},
   "outputs": [],
   "source": [
    "def tensor_wrap(x, klass=torch.Tensor):\n",
    "    return x if 'torch' in str(type(x)) else klass(x)\n",
    "\n",
    "def initializeData(r, X, y):   \n",
    "    \n",
    "    # train-test-split\n",
    "    torch.set_printoptions(sci_mode=False)\n",
    "    X_train, X_test, y_train, y_test = train_test_split(X, y, test_size = 0.15, random_state = r, stratify = y)\n",
    "\n",
    "    # train-val split\n",
    "    X_train, X_val, y_train, y_val = train_test_split(X_train, y_train, test_size = 0.20, random_state = r, stratify = y_train)\n",
    "\n",
    "    X_train_pt = Variable(tensor_wrap(X_train)).cuda()\n",
    "    y_train_pt = Variable(tensor_wrap(y_train, torch.FloatTensor)).cuda()\n",
    "\n",
    "    X_val_pt = Variable(tensor_wrap(X_val)).cuda()\n",
    "    y_val_pt = Variable(tensor_wrap(y_val, torch.FloatTensor)).cuda()\n",
    "\n",
    "    X_test_pt = Variable(tensor_wrap(X_test)).cuda()\n",
    "    y_test_pt = Variable(tensor_wrap(y_test, torch.FloatTensor)).cuda()\n",
    "\n",
    "    batch_size = 128\n",
    "\n",
    "    train_dataset = TensorDataset(X_train_pt, y_train_pt)\n",
    "    train_loader = DataLoader(train_dataset, batch_size=batch_size, shuffle=True, num_workers=0)\n",
    "\n",
    "    val_dataset = TensorDataset(X_val_pt, y_val_pt)\n",
    "    val_loader = DataLoader(val_dataset, batch_size = X_val_pt.shape[0], shuffle=True, num_workers=0)\n",
    "\n",
    "    # test_dataset = TensorDataset(X_test_pt, y_test_pt)\n",
    "    # test_loader = DataLoader(test_dataset, batch_size=batch_size, shuffle=True, num_workers=0)\n",
    "    \n",
    "    return train_loader, val_loader, X_test_pt, y_test_pt\n"
   ]
  },
  {
   "cell_type": "code",
   "execution_count": 6,
   "metadata": {},
   "outputs": [],
   "source": [
    "# Initialize all cutoffs to x\n",
    "def init_cutoffs_to_twelve(d):\n",
    "    return np.zeros(d) + 12\n",
    "\n",
    "def init_cutoffs_to_zero(d):\n",
    "    return np.zeros(d)\n",
    "\n",
    "def init_cutoffs_to_twentyfour(d):\n",
    "    return np.zeros(d) + 24\n",
    "\n",
    "def init_cutoffs_to_x(d, x):\n",
    "    return np.zeros(d) + x\n",
    "\n",
    "# Initialize all cutoffs to a uniform random integer between 0 and (x - 1)\n",
    "def init_cutoffs_randomly(d):\n",
    "    return np.random.randint(6, size=d).astype('float')"
   ]
  },
  {
   "cell_type": "code",
   "execution_count": 7,
   "metadata": {},
   "outputs": [],
   "source": [
    "# init the upper and lower thresholds to random values\n",
    "def init_rand_upper_thresholds(d):\n",
    "    return np.random.rand(d)\n",
    "\n",
    "def init_rand_lower_thresholds(d):\n",
    "    return np.random.rand(d) - 1\n",
    "\n",
    "def init_zeros(d):\n",
    "    return np.zeros(d)"
   ]
  },
  {
   "cell_type": "code",
   "execution_count": 8,
   "metadata": {},
   "outputs": [],
   "source": [
    "def initializeModel(c, input_dim, changing_dim, time_len, n_classes = 2):\n",
    "    logregbottleneck = LogisticRegressionWithSummariesAndBottleneck_Wrapper(input_dim, \n",
    "                                                changing_dim, \n",
    "                                                9,                     \n",
    "                                                c,\n",
    "                                                True,\n",
    "                                                init_cutoffs_to_zero, \n",
    "                                                init_rand_lower_thresholds, \n",
    "                                                init_rand_upper_thresholds,\n",
    "                                                cutoff_times_temperature=0.1,\n",
    "                                                cutoff_times_init_values=None,\n",
    "                                                time_len=time_len,\n",
    "                                                opt_lr = 2e-4,\n",
    "                                                opt_weight_decay = 2e-05,\n",
    "                                                l1_lambda=0.001,\n",
    "                                                cos_sim_lambda=0.01,\n",
    "                                                n_classes = n_classes\n",
    "                                                )\n",
    "    logregbottleneck.cuda()\n",
    "    return logregbottleneck"
   ]
  },
  {
   "cell_type": "code",
   "execution_count": 9,
   "metadata": {},
   "outputs": [],
   "source": [
    "def set_seed(r):\n",
    "    torch.backends.cudnn.deterministic = True\n",
    "    random.seed(r)\n",
    "    torch.manual_seed(r)\n",
    "    torch.cuda.manual_seed(r)\n",
    "    np.random.seed(r)"
   ]
  },
  {
   "cell_type": "code",
   "execution_count": 17,
   "metadata": {},
   "outputs": [],
   "source": [
    "def objective_binary(ts_length, num_concept):\n",
    "    # TS_LENGTH = trial.suggest_int(\"ts_length\", 4, 4)\n",
    "    # NUM_CONCEPT = trial.suggest_int(\"num concept\", 1, 10)\n",
    "    model_path = \"./models/arabic/binary/arabic_length_{}_c{}.pt\"\n",
    "\n",
    "    data, y_logits, weights = preprocess_data_binary(X, y, ts_length)\n",
    "    input_dim = data.shape[2]\n",
    "    changing_dim = X[0].shape[0]\n",
    "    train_loader, val_loader, X_test, y_test = initializeData(1, data, y_logits)\n",
    "    model = initializeModel(num_concept, input_dim, changing_dim, ts_length)\n",
    "    \n",
    "    train_loss, val_loss = model.fit(train_loader, val_loader, weights, model_path.format(ts_length, num_concept), 1000)\n",
    "    \n",
    "    preds = model(tensor_wrap(X_test))\n",
    "    \n",
    "    auroc = AUROC(task=\"binary\")\n",
    "    auc = auroc(preds, y_test).item()\n",
    "    \n",
    "    return val_loss, auc\n",
    "\n",
    "def objective_multi_class(ts_length, num_concept):\n",
    "    # TS_LENGTH = trial.suggest_int(\"ts_length\", 4, 4)\n",
    "    # NUM_CONCEPT = trial.suggest_int(\"num concept\", 1, 10)\n",
    "    model_path = \"./models/arabic/multiclass/arabic_length_{}_c{}.pt\"\n",
    "\n",
    "    data, y_ohe, num_classes, weights = preprocess_data_multiclass(X, y, ts_length)\n",
    "    input_dim = data.shape[2]\n",
    "    changing_dim = X[0].shape[0]\n",
    "    train_loader, val_loader, X_test, y_test = initializeData(1, data, y_ohe)\n",
    "    model = initializeModel(num_concept, input_dim, changing_dim, ts_length, num_classes)\n",
    "    \n",
    "    train_loss, val_loss = model.fit(train_loader, val_loader, weights, model_path.format(ts_length, num_concept), 1000)\n",
    "    \n",
    "    probs = model.forward_probabilities(X_test)\n",
    "    \n",
    "    auroc = AUROC(task=\"multiclass\", num_classes=num_classes)\n",
    "    auc = auroc(probs, torch.argmax(y_test, dim=1)).item()\n",
    "    \n",
    "    return val_loss, auc\n"
   ]
  },
  {
   "cell_type": "code",
   "execution_count": 11,
   "metadata": {},
   "outputs": [
    {
     "name": "stdout",
     "output_type": "stream",
     "text": [
      "4 1\n",
      "Loaded model from ./models/arabic_length_4_c1.pt\n"
     ]
    },
    {
     "name": "stderr",
     "output_type": "stream",
     "text": [
      "0it [00:00, ?it/s]\n"
     ]
    },
    {
     "name": "stdout",
     "output_type": "stream",
     "text": [
      "4 2\n",
      "Loaded model from ./models/arabic_length_4_c2.pt\n"
     ]
    },
    {
     "name": "stderr",
     "output_type": "stream",
     "text": [
      "0it [00:00, ?it/s]\n"
     ]
    },
    {
     "name": "stdout",
     "output_type": "stream",
     "text": [
      "4 3\n",
      "Loaded model from ./models/arabic_length_4_c3.pt\n"
     ]
    },
    {
     "name": "stderr",
     "output_type": "stream",
     "text": [
      "0it [00:00, ?it/s]\n"
     ]
    },
    {
     "name": "stdout",
     "output_type": "stream",
     "text": [
      "4 4\n",
      "Loaded model from ./models/arabic_length_4_c4.pt\n"
     ]
    },
    {
     "name": "stderr",
     "output_type": "stream",
     "text": [
      "0it [00:00, ?it/s]\n"
     ]
    },
    {
     "name": "stdout",
     "output_type": "stream",
     "text": [
      "4 5\n",
      "Loaded model from ./models/arabic_length_4_c5.pt\n"
     ]
    },
    {
     "name": "stderr",
     "output_type": "stream",
     "text": [
      "0it [00:00, ?it/s]\n"
     ]
    },
    {
     "name": "stdout",
     "output_type": "stream",
     "text": [
      "4 6\n",
      "Loaded model from ./models/arabic_length_4_c6.pt\n"
     ]
    },
    {
     "name": "stderr",
     "output_type": "stream",
     "text": [
      "0it [00:00, ?it/s]\n"
     ]
    },
    {
     "name": "stdout",
     "output_type": "stream",
     "text": [
      "4 7\n",
      "Loaded model from ./models/arabic_length_4_c7.pt\n"
     ]
    },
    {
     "name": "stderr",
     "output_type": "stream",
     "text": [
      "0it [00:00, ?it/s]\n"
     ]
    },
    {
     "name": "stdout",
     "output_type": "stream",
     "text": [
      "4 8\n",
      "Loaded model from ./models/arabic_length_4_c8.pt\n"
     ]
    },
    {
     "name": "stderr",
     "output_type": "stream",
     "text": [
      "0it [00:00, ?it/s]\n"
     ]
    },
    {
     "name": "stdout",
     "output_type": "stream",
     "text": [
      "4 9\n",
      "Loaded model from ./models/arabic_length_4_c9.pt\n"
     ]
    },
    {
     "name": "stderr",
     "output_type": "stream",
     "text": [
      "0it [00:00, ?it/s]\n"
     ]
    },
    {
     "name": "stdout",
     "output_type": "stream",
     "text": [
      "4 10\n",
      "Loaded model from ./models/arabic_length_4_c10.pt\n"
     ]
    },
    {
     "name": "stderr",
     "output_type": "stream",
     "text": [
      "0it [00:00, ?it/s]\n"
     ]
    },
    {
     "name": "stdout",
     "output_type": "stream",
     "text": [
      "4 11\n",
      "Loaded model from ./models/arabic_length_4_c11.pt\n"
     ]
    },
    {
     "name": "stderr",
     "output_type": "stream",
     "text": [
      "0it [00:00, ?it/s]\n"
     ]
    },
    {
     "name": "stdout",
     "output_type": "stream",
     "text": [
      "4 12\n",
      "Loaded model from ./models/arabic_length_4_c12.pt\n"
     ]
    },
    {
     "name": "stderr",
     "output_type": "stream",
     "text": [
      "0it [00:00, ?it/s]\n"
     ]
    },
    {
     "name": "stdout",
     "output_type": "stream",
     "text": [
      "4 13\n",
      "Loaded model from ./models/arabic_length_4_c13.pt\n"
     ]
    },
    {
     "name": "stderr",
     "output_type": "stream",
     "text": [
      "100%|██████████| 100/100 [03:04<00:00,  1.84s/it]\n"
     ]
    },
    {
     "name": "stdout",
     "output_type": "stream",
     "text": [
      "4 14\n",
      "Loaded model from ./models/arabic_length_4_c14.pt\n"
     ]
    },
    {
     "name": "stderr",
     "output_type": "stream",
     "text": [
      "0it [00:00, ?it/s]\n"
     ]
    },
    {
     "name": "stdout",
     "output_type": "stream",
     "text": [
      "4 15\n",
      "Loaded model from ./models/arabic_length_4_c15.pt\n"
     ]
    },
    {
     "name": "stderr",
     "output_type": "stream",
     "text": [
      "100%|██████████| 200/200 [07:44<00:00,  2.32s/it]\n"
     ]
    },
    {
     "name": "stdout",
     "output_type": "stream",
     "text": [
      "4 16\n",
      "Loaded model from ./models/arabic_length_4_c16.pt\n"
     ]
    },
    {
     "name": "stderr",
     "output_type": "stream",
     "text": [
      "0it [00:00, ?it/s]\n"
     ]
    },
    {
     "name": "stdout",
     "output_type": "stream",
     "text": [
      "4 17\n",
      "Loaded model from ./models/arabic_length_4_c17.pt\n"
     ]
    },
    {
     "name": "stderr",
     "output_type": "stream",
     "text": [
      "0it [00:00, ?it/s]\n"
     ]
    },
    {
     "name": "stdout",
     "output_type": "stream",
     "text": [
      "4 18\n",
      "Loaded model from ./models/arabic_length_4_c18.pt\n"
     ]
    },
    {
     "name": "stderr",
     "output_type": "stream",
     "text": [
      "0it [00:00, ?it/s]\n"
     ]
    },
    {
     "name": "stdout",
     "output_type": "stream",
     "text": [
      "4 19\n",
      "Loaded model from ./models/arabic_length_4_c19.pt\n"
     ]
    },
    {
     "name": "stderr",
     "output_type": "stream",
     "text": [
      "0it [00:00, ?it/s]\n"
     ]
    },
    {
     "name": "stdout",
     "output_type": "stream",
     "text": [
      "4 20\n",
      "Loaded model from ./models/arabic_length_4_c20.pt\n"
     ]
    },
    {
     "name": "stderr",
     "output_type": "stream",
     "text": [
      "0it [00:00, ?it/s]\n"
     ]
    },
    {
     "name": "stdout",
     "output_type": "stream",
     "text": [
      "4 21\n"
     ]
    },
    {
     "name": "stderr",
     "output_type": "stream",
     "text": [
      "100%|██████████| 1000/1000 [1:07:29<00:00,  4.05s/it]\n"
     ]
    },
    {
     "data": {
      "text/plain": [
       "(21, 4)"
      ]
     },
     "execution_count": 11,
     "metadata": {},
     "output_type": "execute_result"
    }
   ],
   "source": [
    "history = []\n",
    "ts_length = 4\n",
    "for c in range(1,22):\n",
    "    print(ts_length, c)\n",
    "    val_loss, auc = objective_binary(ts_length, c)\n",
    "    history.append(np.array([ts_length, c, val_loss, auc]))\n",
    "history = np.array(history)\n",
    "history.shape\n"
   ]
  },
  {
   "cell_type": "code",
   "execution_count": 15,
   "metadata": {},
   "outputs": [
    {
     "data": {
      "image/png": "[encoded data removed]",
      "text/plain": [
       "<Figure size 640x480 with 1 Axes>"
      ]
     },
     "metadata": {},
     "output_type": "display_data"
    }
   ],
   "source": [
    "# plot\n",
    "plt.plot(history[:, 1], history[:, 3], label='AUC')\n",
    "\n",
    "plt.xlabel('Num Concepts')\n",
    "plt.ylabel('AUC')\n",
    "plt.title('Plot of Concepts vs AUC')\n",
    "plt.xticks(np.arange(min(history[:, 1]), max(history[:, 1])+1, 1))\n",
    "\n",
    "plt.legend()\n",
    "plt.show()\n"
   ]
  },
  {
   "cell_type": "code",
   "execution_count": 13,
   "metadata": {},
   "outputs": [
    {
     "name": "stdout",
     "output_type": "stream",
     "text": [
      "4 3\n",
      "Loaded model from ./models/arabic_length_4_c3.pt\n"
     ]
    },
    {
     "name": "stderr",
     "output_type": "stream",
     "text": [
      "0it [00:00, ?it/s]\n"
     ]
    },
    {
     "name": "stdout",
     "output_type": "stream",
     "text": [
      "6 3\n"
     ]
    },
    {
     "name": "stderr",
     "output_type": "stream",
     "text": [
      "100%|██████████| 1000/1000 [07:35<00:00,  2.19it/s]\n"
     ]
    },
    {
     "name": "stdout",
     "output_type": "stream",
     "text": [
      "8 3\n"
     ]
    },
    {
     "name": "stderr",
     "output_type": "stream",
     "text": [
      "100%|██████████| 1000/1000 [07:35<00:00,  2.20it/s]\n"
     ]
    },
    {
     "name": "stdout",
     "output_type": "stream",
     "text": [
      "10 3\n"
     ]
    },
    {
     "name": "stderr",
     "output_type": "stream",
     "text": [
      "100%|██████████| 1000/1000 [07:35<00:00,  2.19it/s]\n"
     ]
    },
    {
     "name": "stdout",
     "output_type": "stream",
     "text": [
      "12 3\n"
     ]
    },
    {
     "name": "stderr",
     "output_type": "stream",
     "text": [
      "100%|██████████| 1000/1000 [07:35<00:00,  2.20it/s]\n"
     ]
    },
    {
     "name": "stdout",
     "output_type": "stream",
     "text": [
      "14 3\n"
     ]
    },
    {
     "name": "stderr",
     "output_type": "stream",
     "text": [
      "100%|██████████| 1000/1000 [07:34<00:00,  2.20it/s]\n"
     ]
    },
    {
     "name": "stdout",
     "output_type": "stream",
     "text": [
      "16 3\n"
     ]
    },
    {
     "name": "stderr",
     "output_type": "stream",
     "text": [
      "100%|██████████| 1000/1000 [07:36<00:00,  2.19it/s]\n"
     ]
    },
    {
     "name": "stdout",
     "output_type": "stream",
     "text": [
      "18 3\n"
     ]
    },
    {
     "name": "stderr",
     "output_type": "stream",
     "text": [
      "100%|██████████| 1000/1000 [07:37<00:00,  2.18it/s]\n"
     ]
    },
    {
     "name": "stdout",
     "output_type": "stream",
     "text": [
      "20 3\n"
     ]
    },
    {
     "name": "stderr",
     "output_type": "stream",
     "text": [
      "100%|██████████| 1000/1000 [07:35<00:00,  2.20it/s]\n"
     ]
    },
    {
     "data": {
      "text/plain": [
       "(9, 4)"
      ]
     },
     "execution_count": 13,
     "metadata": {},
     "output_type": "execute_result"
    }
   ],
   "source": [
    "c = 3\n",
    "\n",
    "history2 = []\n",
    "for ts_length in range(4,21,2):\n",
    "    print(ts_length, c)\n",
    "    val_loss, auc = objective_binary(ts_length, c)\n",
    "    history2.append(np.array([ts_length, c, val_loss, auc]))\n",
    "history2 = np.array(history2)\n",
    "history2.shape\n"
   ]
  },
  {
   "cell_type": "code",
   "execution_count": null,
   "metadata": {},
   "outputs": [],
   "source": [
    "# plot\n",
    "plt.plot(history2[:, 0], history2[:, 3], label='AUC')\n",
    "\n",
    "plt.xlabel('TS Length')\n",
    "plt.ylabel('AUC')\n",
    "plt.title('Plot of TS Length vs AUC')\n",
    "\n",
    "plt.legend()\n",
    "plt.show()\n"
   ]
  },
  {
   "cell_type": "markdown",
   "metadata": {},
   "source": [
    "## Multi-class"
   ]
  },
  {
   "cell_type": "code",
   "execution_count": 18,
   "metadata": {},
   "outputs": [
    {
     "name": "stdout",
     "output_type": "stream",
     "text": [
      "4 1\n",
      "Loaded model from ./models/arabic/multiclass/arabic_length_4_c1.pt\n"
     ]
    },
    {
     "name": "stderr",
     "output_type": "stream",
     "text": [
      "0it [00:00, ?it/s]\n"
     ]
    },
    {
     "name": "stdout",
     "output_type": "stream",
     "text": [
      "10\n",
      "torch.Size([1320, 10])\n",
      "torch.Size([1320, 10])\n",
      "4 2\n"
     ]
    },
    {
     "name": "stderr",
     "output_type": "stream",
     "text": [
      "100%|██████████| 1000/1000 [06:52<00:00,  2.42it/s]\n"
     ]
    },
    {
     "name": "stdout",
     "output_type": "stream",
     "text": [
      "10\n",
      "torch.Size([1320, 10])\n",
      "torch.Size([1320, 10])\n",
      "4 3\n"
     ]
    },
    {
     "name": "stderr",
     "output_type": "stream",
     "text": [
      "100%|██████████| 1000/1000 [06:53<00:00,  2.42it/s]\n"
     ]
    },
    {
     "name": "stdout",
     "output_type": "stream",
     "text": [
      "10\n",
      "torch.Size([1320, 10])\n",
      "torch.Size([1320, 10])\n",
      "4 4\n"
     ]
    },
    {
     "name": "stderr",
     "output_type": "stream",
     "text": [
      "100%|██████████| 1000/1000 [06:53<00:00,  2.42it/s]"
     ]
    },
    {
     "name": "stdout",
     "output_type": "stream",
     "text": [
      "10\n",
      "torch.Size([1320, 10])\n",
      "torch.Size([1320, 10])\n"
     ]
    },
    {
     "name": "stderr",
     "output_type": "stream",
     "text": [
      "\n"
     ]
    },
    {
     "data": {
      "text/plain": [
       "(4, 4)"
      ]
     },
     "execution_count": 18,
     "metadata": {},
     "output_type": "execute_result"
    }
   ],
   "source": [
    "history = []\n",
    "ts_length = 4\n",
    "for c in range(1,5):\n",
    "    print(ts_length, c)\n",
    "    val_loss, auc = objective_multi_class(ts_length, c)\n",
    "    history.append(np.array([ts_length, c, val_loss, auc]))\n",
    "history = np.array(history)\n",
    "history.shape\n"
   ]
  },
  {
   "cell_type": "code",
   "execution_count": null,
   "metadata": {},
   "outputs": [],
   "source": [
    "# plot\n",
    "plt.plot(history[:, 1], history[:, 3], label='AUC')\n",
    "plt.plot(history[:, 1], history[:, 2], label='Val Loss')\n",
    "\n",
    "plt.xlabel('Num Concepts')\n",
    "plt.ylabel('AUC')\n",
    "plt.title('Plot of Concepts vs AUC')\n",
    "plt.xticks(np.arange(min(history[:, 1]), max(history[:, 1])+1, 1))\n",
    "\n",
    "plt.legend()\n",
    "plt.show()\n"
   ]
  }
 ],
 "metadata": {
  "kernelspec": {
   "display_name": "base",
   "language": "python",
   "name": "python3"
  },
  "language_info": {
   "codemirror_mode": {
    "name": "ipython",
    "version": 3
   },
   "file_extension": ".py",
   "mimetype": "text/x-python",
   "name": "python",
   "nbconvert_exporter": "python",
   "pygments_lexer": "ipython3",
   "version": "3.10.8"
  }
 },
 "nbformat": 4,
 "nbformat_minor": 2
}
