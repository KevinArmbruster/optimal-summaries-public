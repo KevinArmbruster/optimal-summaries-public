{
 "cells": [
  {
   "cell_type": "code",
   "execution_count": 2,
   "metadata": {},
   "outputs": [],
   "source": [
    "import pandas as pd\n",
    "import numpy as np\n"
   ]
  },
  {
   "cell_type": "code",
   "execution_count": 12,
   "metadata": {},
   "outputs": [],
   "source": [
    "X_train = pd.read_csv(\"../aeon/spokenarabicdigit/Train_Arabic_Digit.txt\", header=None, delim_whitespace=True, skip_blank_lines=False, skiprows=1, low_memory=False)\n",
    "X_test = pd.read_csv(\"../aeon/spokenarabicdigit/Test_Arabic_Digit.txt\", header=None, delim_whitespace=True, skip_blank_lines=False, skiprows=1)\n"
   ]
  },
  {
   "cell_type": "code",
   "execution_count": 13,
   "metadata": {},
   "outputs": [
    {
     "name": "stdout",
     "output_type": "stream",
     "text": [
      "(269855, 13)\n",
      "(89262, 13)\n"
     ]
    },
    {
     "data": {
      "text/html": [
       "<div>\n",
       "<style scoped>\n",
       "    .dataframe tbody tr th:only-of-type {\n",
       "        vertical-align: middle;\n",
       "    }\n",
       "\n",
       "    .dataframe tbody tr th {\n",
       "        vertical-align: top;\n",
       "    }\n",
       "\n",
       "    .dataframe thead th {\n",
       "        text-align: right;\n",
       "    }\n",
       "</style>\n",
       "<table border=\"1\" class=\"dataframe\">\n",
       "  <thead>\n",
       "    <tr style=\"text-align: right;\">\n",
       "      <th></th>\n",
       "      <th>0</th>\n",
       "      <th>1</th>\n",
       "      <th>2</th>\n",
       "      <th>3</th>\n",
       "      <th>4</th>\n",
       "      <th>5</th>\n",
       "      <th>6</th>\n",
       "      <th>7</th>\n",
       "      <th>8</th>\n",
       "      <th>9</th>\n",
       "      <th>10</th>\n",
       "      <th>11</th>\n",
       "      <th>12</th>\n",
       "    </tr>\n",
       "  </thead>\n",
       "  <tbody>\n",
       "    <tr>\n",
       "      <th>0</th>\n",
       "      <td>-0.81101</td>\n",
       "      <td>-7.2382</td>\n",
       "      <td>1.5429</td>\n",
       "      <td>-0.64774</td>\n",
       "      <td>1.42710</td>\n",
       "      <td>0.61356</td>\n",
       "      <td>0.365160</td>\n",
       "      <td>0.088906</td>\n",
       "      <td>0.47031</td>\n",
       "      <td>0.98844</td>\n",
       "      <td>0.044692</td>\n",
       "      <td>0.20817</td>\n",
       "      <td>0.51140</td>\n",
       "    </tr>\n",
       "    <tr>\n",
       "      <th>1</th>\n",
       "      <td>-0.37028</td>\n",
       "      <td>-7.1336</td>\n",
       "      <td>1.8856</td>\n",
       "      <td>-0.34316</td>\n",
       "      <td>0.96733</td>\n",
       "      <td>0.32763</td>\n",
       "      <td>0.429880</td>\n",
       "      <td>0.504790</td>\n",
       "      <td>0.41533</td>\n",
       "      <td>0.28804</td>\n",
       "      <td>0.086109</td>\n",
       "      <td>0.62690</td>\n",
       "      <td>0.78115</td>\n",
       "    </tr>\n",
       "    <tr>\n",
       "      <th>2</th>\n",
       "      <td>0.59659</td>\n",
       "      <td>-8.3059</td>\n",
       "      <td>1.6943</td>\n",
       "      <td>-0.66611</td>\n",
       "      <td>0.34967</td>\n",
       "      <td>-0.17425</td>\n",
       "      <td>0.820770</td>\n",
       "      <td>1.261100</td>\n",
       "      <td>0.41653</td>\n",
       "      <td>0.50050</td>\n",
       "      <td>0.571630</td>\n",
       "      <td>0.45316</td>\n",
       "      <td>0.64465</td>\n",
       "    </tr>\n",
       "    <tr>\n",
       "      <th>3</th>\n",
       "      <td>1.45850</td>\n",
       "      <td>-8.1957</td>\n",
       "      <td>1.8454</td>\n",
       "      <td>-1.14960</td>\n",
       "      <td>0.82660</td>\n",
       "      <td>-0.51313</td>\n",
       "      <td>0.067443</td>\n",
       "      <td>0.256370</td>\n",
       "      <td>0.11500</td>\n",
       "      <td>-0.10915</td>\n",
       "      <td>0.085991</td>\n",
       "      <td>0.69064</td>\n",
       "      <td>0.33769</td>\n",
       "    </tr>\n",
       "    <tr>\n",
       "      <th>4</th>\n",
       "      <td>2.08240</td>\n",
       "      <td>-8.6670</td>\n",
       "      <td>1.1995</td>\n",
       "      <td>-1.12400</td>\n",
       "      <td>1.24450</td>\n",
       "      <td>-0.10251</td>\n",
       "      <td>0.998670</td>\n",
       "      <td>0.571740</td>\n",
       "      <td>1.03840</td>\n",
       "      <td>0.17564</td>\n",
       "      <td>-0.032857</td>\n",
       "      <td>0.53229</td>\n",
       "      <td>0.32941</td>\n",
       "    </tr>\n",
       "  </tbody>\n",
       "</table>\n",
       "</div>"
      ],
      "text/plain": [
       "        0       1       2        3        4        5         6         7   \\\n",
       "0 -0.81101 -7.2382  1.5429 -0.64774  1.42710  0.61356  0.365160  0.088906   \n",
       "1 -0.37028 -7.1336  1.8856 -0.34316  0.96733  0.32763  0.429880  0.504790   \n",
       "2  0.59659 -8.3059  1.6943 -0.66611  0.34967 -0.17425  0.820770  1.261100   \n",
       "3  1.45850 -8.1957  1.8454 -1.14960  0.82660 -0.51313  0.067443  0.256370   \n",
       "4  2.08240 -8.6670  1.1995 -1.12400  1.24450 -0.10251  0.998670  0.571740   \n",
       "\n",
       "        8        9         10       11       12  \n",
       "0  0.47031  0.98844  0.044692  0.20817  0.51140  \n",
       "1  0.41533  0.28804  0.086109  0.62690  0.78115  \n",
       "2  0.41653  0.50050  0.571630  0.45316  0.64465  \n",
       "3  0.11500 -0.10915  0.085991  0.69064  0.33769  \n",
       "4  1.03840  0.17564 -0.032857  0.53229  0.32941  "
      ]
     },
     "metadata": {},
     "output_type": "display_data"
    }
   ],
   "source": [
    "print(X_train.shape)\n",
    "print(X_test.shape)\n",
    "display(X_train.head(5))"
   ]
  },
  {
   "cell_type": "code",
   "execution_count": 14,
   "metadata": {},
   "outputs": [],
   "source": [
    "X_train_list = np.split(X_train, X_train[X_train.isnull().all(1)].index)\n",
    "X_test_list = np.split(X_test, X_test[X_test.isnull().all(1)].index)\n"
   ]
  },
  {
   "cell_type": "code",
   "execution_count": 16,
   "metadata": {},
   "outputs": [
    {
     "name": "stdout",
     "output_type": "stream",
     "text": [
      "6600\n",
      "10.0\n",
      "2200\n",
      "10.0\n",
      "(28, 13)\n",
      "(29, 13)\n",
      "(35, 13)\n",
      "(34, 13)\n",
      "(34, 13)\n",
      "(33, 13)\n",
      "(35, 13)\n",
      "(32, 13)\n",
      "(35, 13)\n",
      "(36, 13)\n",
      "(30, 13)\n",
      "(30, 13)\n"
     ]
    }
   ],
   "source": [
    "print(len(X_train_list))\n",
    "print(len(X_train_list) / 660)\n",
    "print(len(X_test_list))\n",
    "print(len(X_test_list) / 220)\n",
    "for i, df in enumerate(X_test_list):\n",
    "    print(df.shape)\n",
    "    if i > 10:\n",
    "        break"
   ]
  },
  {
   "cell_type": "code",
   "execution_count": null,
   "metadata": {},
   "outputs": [],
   "source": [
    "def generate_target():\n",
    "    "
   ]
  }
 ],
 "metadata": {
  "kernelspec": {
   "display_name": "base",
   "language": "python",
   "name": "python3"
  },
  "language_info": {
   "codemirror_mode": {
    "name": "ipython",
    "version": 3
   },
   "file_extension": ".py",
   "mimetype": "text/x-python",
   "name": "python",
   "nbconvert_exporter": "python",
   "pygments_lexer": "ipython3",
   "version": "3.7.13"
  }
 },
 "nbformat": 4,
 "nbformat_minor": 2
}
