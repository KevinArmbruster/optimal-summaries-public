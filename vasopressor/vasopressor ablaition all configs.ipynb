{
    "cells": [
        {
            "cell_type": "code",
            "execution_count": 1,
            "metadata": {},
            "outputs": [
                {
                    "name": "stdout",
                    "output_type": "stream",
                    "text": [
                        "current device cuda:11\n"
                    ]
                }
            ],
            "source": [
                "%load_ext autoreload\n",
                "%autoreload 2\n",
                "\n",
                "import sys\n",
                "sys.path.append('..')\n",
                "\n",
                "import numpy as np\n",
                "import pandas as pd\n",
                "import torch\n",
                "import random\n",
                "import csv\n",
                "from sklearn.model_selection import train_test_split\n",
                "from sklearn.utils.class_weight import compute_class_weight\n",
                "from sklearn.preprocessing import StandardScaler, RobustScaler\n",
                "import matplotlib.pyplot as plt\n",
                "import torch\n",
                "from torch.utils.data import TensorDataset, DataLoader\n",
                "from torch.autograd import Variable\n",
                "from torchmetrics.classification import AUROC, Accuracy, ConfusionMatrix, F1Score\n",
                "import os, subprocess, gc, time, datetime\n",
                "from itertools import product\n",
                "\n",
                "import models.models_original as models_original\n",
                "import models.models_3d_atomics as new_models\n",
                "from vasopressor.preprocess_helpers import load_and_create_MIMIC_dataloader\n",
                "from models.helper import *\n",
                "from models.param_initializations import *\n",
                "from models.optimization_strategy import greedy_forward_selection, get_top_features_per_concept\n",
                "\n",
                "gpu_id = int(subprocess.check_output('nvidia-smi --query-gpu=memory.free --format=csv,nounits,noheader | nl -v 0 | sort -nrk 2 | cut -f 1 | head -n 1 | xargs', shell=True, text=True))\n",
                "device = torch.device(f'cuda:{gpu_id}') if torch.cuda.is_available else torch.device('cpu')\n",
                "print(\"current device\", device)"
            ]
        },
        {
            "cell_type": "code",
            "execution_count": 2,
            "metadata": {},
            "outputs": [
                {
                    "name": "stdout",
                    "output_type": "stream",
                    "text": [
                        "tensor([0.5797, 3.6376], dtype=torch.float64) 2 6\n",
                        "torch.Size([512, 6, 27]) cpu\n",
                        "torch.Size([512, 6, 27]) cpu\n",
                        "torch.Size([512, 8]) cpu\n",
                        "torch.Size([512, 2]) cpu\n"
                    ]
                },
                {
                    "data": {
                        "text/plain": [
                            "35"
                        ]
                    },
                    "execution_count": 2,
                    "metadata": {},
                    "output_type": "execute_result"
                }
            ],
            "source": [
                "train_loader, val_loader, test_loader, class_weights, num_classes, changing_vars, static_names, seq_len = load_and_create_MIMIC_dataloader(output_dim = 2, batch_size = 512, random_state = 1)\n",
                "\n",
                "print(class_weights, num_classes, seq_len)\n",
                "\n",
                "for batch in train_loader:\n",
                "    [print(t.shape, t.device) for t in batch]\n",
                "    break\n",
                "\n",
                "len(train_loader)"
            ]
        },
        {
            "cell_type": "code",
            "execution_count": 3,
            "metadata": {},
            "outputs": [],
            "source": [
                "def plot_losses(train_losses, val_losses):\n",
                "    plt.plot(train_losses, color=\"black\", label=\"Train\")\n",
                "    plt.plot(val_losses, color=\"green\", label=\"Val\")\n",
                "    plt.yscale(\"log\")\n",
                "    plt.legend()\n",
                "    plt.show()\n",
                "\n",
                "def plot_metrics(history, n_concepts_list):\n",
                "    plt.plot(history[:, 0], history[:, 2], label=f'AUC')\n",
                "    plt.plot(history[:, 0], history[:, 3], label=f'ACC')\n",
                "    plt.plot(history[:, 0], history[:, 4], label=f'F1')\n",
                "\n",
                "    plt.xlabel('Num Concepts')\n",
                "    plt.ylabel('Criteria')\n",
                "    plt.title('Plot of Concepts vs Criteria')\n",
                "    plt.xticks(n_concepts_list)\n",
                "\n",
                "    plt.legend()\n",
                "    plt.show()\n",
                "\n",
                "def plot_atomics_concepts_metric(history, title, dec=\"{:.3g}\"):\n",
                "        \n",
                "    df = pd.DataFrame(history, columns=[\"n_atomics\", \"n_concepts\", \"val_loss\", \"auc\", \"acc\", \"f1\"])\n",
                "    mean_atomics = df.groupby(\"n_atomics\").mean()\n",
                "    mean_concepts = df.groupby(\"n_concepts\").mean()\n",
                "\n",
                "    # display(mean_atomics)\n",
                "    plt.plot(mean_atomics.index, mean_atomics[\"auc\"], label='AUC')\n",
                "    plt.plot(mean_atomics.index, mean_atomics[\"acc\"], label='ACC')\n",
                "    plt.plot(mean_atomics.index, mean_atomics[\"f1\"], label='F1')\n",
                "    plt.xlabel('Num Atomics')\n",
                "    plt.ylabel('Criteria')\n",
                "    plt.title(\"Metric as mean over atomics\")\n",
                "    plt.suptitle(title)\n",
                "    plt.legend()\n",
                "    plt.show()\n",
                "\n",
                "    # display(mean_concepts)\n",
                "    plt.plot(mean_concepts.index, mean_concepts[\"auc\"], label='AUC')\n",
                "    plt.plot(mean_concepts.index, mean_concepts[\"acc\"], label='ACC')\n",
                "    plt.plot(mean_concepts.index, mean_concepts[\"f1\"], label='F1')\n",
                "    plt.xlabel('Num Concepts')\n",
                "    plt.ylabel('Criteria')\n",
                "    plt.title(\"Metric as mean over concepts\")\n",
                "    plt.suptitle(title)\n",
                "    plt.legend()\n",
                "    plt.show()\n"
            ]
        },
        {
            "cell_type": "code",
            "execution_count": 4,
            "metadata": {},
            "outputs": [],
            "source": [
                "def initializeModel(n_concepts, static_dim, changing_dim, seq_len, output_dim, use_indicators, use_only_last_timestep, top_k=''):\n",
                "    model = models_original.CBM(static_dim = static_dim, \n",
                "                                changing_dim = changing_dim, \n",
                "                                seq_len = seq_len,\n",
                "                                num_concepts = n_concepts,\n",
                "                                use_indicators = use_indicators,\n",
                "                                use_only_last_timestep = use_only_last_timestep,\n",
                "                                use_grad_norm = False,\n",
                "                                use_multiplicative_interactions = False,\n",
                "                                use_summaries = True,\n",
                "                                opt_lr = 1e-3,\n",
                "                                opt_weight_decay = 1e-5,\n",
                "                                l1_lambda=1e-3,\n",
                "                                cos_sim_lambda=1e-2,\n",
                "                                output_dim = output_dim,\n",
                "                                top_k=top_k,\n",
                "                                device = device\n",
                "                                )\n",
                "    model = model.to(device)\n",
                "    return model\n",
                "\n",
                "def initializeModel_with_atomics(n_atomics, n_concepts, static_dim, changing_dim, seq_len, output_dim, use_summaries_for_atomics, use_indicators, top_k=''):\n",
                "    model = new_models.CBM(static_dim = static_dim, \n",
                "                            changing_dim = changing_dim, \n",
                "                            seq_len = seq_len,\n",
                "                            n_concepts = n_concepts,\n",
                "                            n_atomics= n_atomics,\n",
                "                            use_summaries_for_atomics = use_summaries_for_atomics,\n",
                "                            use_indicators = use_indicators,\n",
                "                            use_grad_norm = False,\n",
                "                            use_summaries = True,\n",
                "                            opt_lr = 1e-3,\n",
                "                            opt_weight_decay = 1e-5,\n",
                "                            l1_lambda=1e-3,\n",
                "                            cos_sim_lambda=1e-2,\n",
                "                            output_dim = output_dim,\n",
                "                            top_k=top_k,\n",
                "                            device = device\n",
                "                            )\n",
                "    model = model.to(device)\n",
                "    return model\n"
            ]
        },
        {
            "cell_type": "code",
            "execution_count": 5,
            "metadata": {},
            "outputs": [
                {
                    "name": "stdout",
                    "output_type": "stream",
                    "text": [
                        "27 8 6\n"
                    ]
                }
            ],
            "source": [
                "auroc_metric = AUROC(task=\"binary\").to(device)\n",
                "accuracy_metric = Accuracy(task=\"binary\").to(device)\n",
                "f1_metric = F1Score(task=\"binary\").to(device)\n",
                "conf_matrix = ConfusionMatrix(task=\"binary\").to(device)\n",
                "\n",
                "seq_len = seq_len\n",
                "changing_dim = len(changing_vars)\n",
                "static_dim = len(static_names)\n",
                "\n",
                "print(changing_dim, static_dim, seq_len)\n"
            ]
        },
        {
            "cell_type": "markdown",
            "metadata": {},
            "source": [
                "## Original"
            ]
        },
        {
            "cell_type": "code",
            "execution_count": 10,
            "metadata": {},
            "outputs": [
                {
                    "name": "stdout",
                    "output_type": "stream",
                    "text": [
                        "8\n"
                    ]
                }
            ],
            "source": [
                "config_original = {\n",
                "    \"n_concepts\": [4, 20],\n",
                "    # \"use_summaries\": [True, False],\n",
                "    \"use_indicators\": [True, False],\n",
                "    \"use_only_last_timestep\": [True, False],\n",
                "    # \"use_grad_norm\": [False, \"FULL\", \"COMPONENT_WISE\"],\n",
                "}\n",
                "\n",
                "all_config_permutations_og = list(product(*config_original.values()))\n",
                "all_config_permutations_og = [dict(zip(config_original.keys(), permutation)) for permutation in all_config_permutations_og]\n",
                "print(len(all_config_permutations_og))\n",
                "# all_config_permutations_og"
            ]
        },
        {
            "cell_type": "code",
            "execution_count": 11,
            "metadata": {},
            "outputs": [],
            "source": [
                "experiment_folder = \"/workdir/optimal-summaries-public/_models/vasopressor/original_new/\"\n",
                "model_path = experiment_folder + \"\".join([f\"{key}_{{{key}}}_\" for key in config_original.keys()]) + \"seed_{seed}.pt\"\n",
                "\n",
                "if not os.path.exists(experiment_folder):\n",
                "    os.makedirs(experiment_folder)"
            ]
        },
        {
            "cell_type": "code",
            "execution_count": 12,
            "metadata": {},
            "outputs": [
                {
                    "name": "stdout",
                    "output_type": "stream",
                    "text": [
                        "0 {'n_concepts': 4, 'use_indicators': True, 'use_only_last_timestep': True}\n"
                    ]
                },
                {
                    "name": "stderr",
                    "output_type": "stream",
                    "text": [
                        "/usr/local/lib/python3.10/dist-packages/torch/nn/modules/lazy.py:180: UserWarning: Lazy modules are a new feature under heavy development so changes to the API or functionality can happen at any moment.\n",
                        "  warnings.warn('Lazy modules are a new feature under heavy development '\n",
                        "  0%|          | 29/10000 [00:25<2:08:14,  1.30 epoch/s, Train Loss=0.53029, Val Loss=0.55907, Best Val Loss=0.55907]"
                    ]
                },
                {
                    "name": "stderr",
                    "output_type": "stream",
                    "text": [
                        "  5%|▍         | 470/10000 [06:13<2:06:08,  1.26 epoch/s, Train Loss=0.47966, Val Loss=0.52142, Best Val Loss=0.52028]"
                    ]
                },
                {
                    "name": "stdout",
                    "output_type": "stream",
                    "text": [
                        "Early Stopped\n"
                    ]
                },
                {
                    "name": "stderr",
                    "output_type": "stream",
                    "text": [
                        "\n"
                    ]
                },
                {
                    "name": "stdout",
                    "output_type": "stream",
                    "text": [
                        "['original', 0, 0.5219928026199341, 0.9177289009094238, 0.8444311022758484, 0.8511860966682434]\n",
                        "1 {'n_concepts': 4, 'use_indicators': True, 'use_only_last_timestep': False}\n"
                    ]
                },
                {
                    "name": "stderr",
                    "output_type": "stream",
                    "text": [
                        "/usr/local/lib/python3.10/dist-packages/torch/nn/modules/lazy.py:180: UserWarning: Lazy modules are a new feature under heavy development so changes to the API or functionality can happen at any moment.\n",
                        "  warnings.warn('Lazy modules are a new feature under heavy development '\n",
                        "  4%|▎         | 350/10000 [05:06<2:21:02,  1.14 epoch/s, Train Loss=0.48052, Val Loss=0.52560, Best Val Loss=0.52309]"
                    ]
                },
                {
                    "name": "stdout",
                    "output_type": "stream",
                    "text": [
                        "Early Stopped\n"
                    ]
                },
                {
                    "name": "stderr",
                    "output_type": "stream",
                    "text": [
                        "\n"
                    ]
                },
                {
                    "name": "stdout",
                    "output_type": "stream",
                    "text": [
                        "['original', 1, 0.5268927812576294, 0.9094090461730957, 0.8297580480575562, 0.8381729125976562]\n",
                        "2 {'n_concepts': 4, 'use_indicators': False, 'use_only_last_timestep': True}\n"
                    ]
                },
                {
                    "name": "stderr",
                    "output_type": "stream",
                    "text": [
                        "/usr/local/lib/python3.10/dist-packages/torch/nn/modules/lazy.py:180: UserWarning: Lazy modules are a new feature under heavy development so changes to the API or functionality can happen at any moment.\n",
                        "  warnings.warn('Lazy modules are a new feature under heavy development '\n",
                        "  5%|▍         | 470/10000 [06:27<2:11:07,  1.21 epoch/s, Train Loss=0.48244, Val Loss=0.52327, Best Val Loss=0.52287]"
                    ]
                },
                {
                    "name": "stdout",
                    "output_type": "stream",
                    "text": [
                        "Early Stopped\n"
                    ]
                },
                {
                    "name": "stderr",
                    "output_type": "stream",
                    "text": [
                        "\n"
                    ]
                },
                {
                    "name": "stdout",
                    "output_type": "stream",
                    "text": [
                        "['original', 2, 0.524680495262146, 0.9136213064193726, 0.8398833274841309, 0.8469237089157104]\n",
                        "3 {'n_concepts': 4, 'use_indicators': False, 'use_only_last_timestep': False}\n"
                    ]
                },
                {
                    "name": "stderr",
                    "output_type": "stream",
                    "text": [
                        "/usr/local/lib/python3.10/dist-packages/torch/nn/modules/lazy.py:180: UserWarning: Lazy modules are a new feature under heavy development so changes to the API or functionality can happen at any moment.\n",
                        "  warnings.warn('Lazy modules are a new feature under heavy development '\n",
                        "  3%|▎         | 330/10000 [04:33<2:13:30,  1.21 epoch/s, Train Loss=0.48456, Val Loss=0.52879, Best Val Loss=0.52501]"
                    ]
                },
                {
                    "name": "stdout",
                    "output_type": "stream",
                    "text": [
                        "Early Stopped\n"
                    ]
                },
                {
                    "name": "stderr",
                    "output_type": "stream",
                    "text": [
                        "\n"
                    ]
                },
                {
                    "name": "stdout",
                    "output_type": "stream",
                    "text": [
                        "['original', 3, 0.5256660580635071, 0.9098008275032043, 0.8346490263938904, 0.8425010442733765]\n",
                        "4 {'n_concepts': 20, 'use_indicators': True, 'use_only_last_timestep': True}\n"
                    ]
                },
                {
                    "name": "stderr",
                    "output_type": "stream",
                    "text": [
                        "/usr/local/lib/python3.10/dist-packages/torch/nn/modules/lazy.py:180: UserWarning: Lazy modules are a new feature under heavy development so changes to the API or functionality can happen at any moment.\n",
                        "  warnings.warn('Lazy modules are a new feature under heavy development '\n",
                        "  3%|▎         | 320/10000 [04:47<2:24:51,  1.11 epoch/s, Train Loss=0.49050, Val Loss=0.53619, Best Val Loss=0.53358]"
                    ]
                },
                {
                    "name": "stdout",
                    "output_type": "stream",
                    "text": [
                        "Early Stopped\n"
                    ]
                },
                {
                    "name": "stderr",
                    "output_type": "stream",
                    "text": [
                        "\n"
                    ]
                },
                {
                    "name": "stdout",
                    "output_type": "stream",
                    "text": [
                        "['original', 4, 0.5337627530097961, 0.9183107614517212, 0.8453750014305115, 0.8525850772857666]\n",
                        "5 {'n_concepts': 20, 'use_indicators': True, 'use_only_last_timestep': False}\n"
                    ]
                },
                {
                    "name": "stderr",
                    "output_type": "stream",
                    "text": [
                        "/usr/local/lib/python3.10/dist-packages/torch/nn/modules/lazy.py:180: UserWarning: Lazy modules are a new feature under heavy development so changes to the API or functionality can happen at any moment.\n",
                        "  warnings.warn('Lazy modules are a new feature under heavy development '\n",
                        "  3%|▎         | 340/10000 [05:04<2:24:16,  1.12 epoch/s, Train Loss=0.48686, Val Loss=0.54045, Best Val Loss=0.53711]"
                    ]
                },
                {
                    "name": "stdout",
                    "output_type": "stream",
                    "text": [
                        "Early Stopped\n"
                    ]
                },
                {
                    "name": "stderr",
                    "output_type": "stream",
                    "text": [
                        "\n"
                    ]
                },
                {
                    "name": "stdout",
                    "output_type": "stream",
                    "text": [
                        "['original', 5, 0.5406580567359924, 0.9160631895065308, 0.8389394283294678, 0.8468379974365234]\n",
                        "6 {'n_concepts': 20, 'use_indicators': False, 'use_only_last_timestep': True}\n"
                    ]
                },
                {
                    "name": "stderr",
                    "output_type": "stream",
                    "text": [
                        "/usr/local/lib/python3.10/dist-packages/torch/nn/modules/lazy.py:180: UserWarning: Lazy modules are a new feature under heavy development so changes to the API or functionality can happen at any moment.\n",
                        "  warnings.warn('Lazy modules are a new feature under heavy development '\n",
                        "  5%|▍         | 460/10000 [06:24<2:12:52,  1.20 epoch/s, Train Loss=0.48892, Val Loss=0.53394, Best Val Loss=0.53161]"
                    ]
                },
                {
                    "name": "stdout",
                    "output_type": "stream",
                    "text": [
                        "Early Stopped\n"
                    ]
                },
                {
                    "name": "stderr",
                    "output_type": "stream",
                    "text": [
                        "\n"
                    ]
                },
                {
                    "name": "stdout",
                    "output_type": "stream",
                    "text": [
                        "['original', 6, 0.5328332185745239, 0.9193722009658813, 0.8505234122276306, 0.8564600944519043]\n",
                        "7 {'n_concepts': 20, 'use_indicators': False, 'use_only_last_timestep': False}\n"
                    ]
                },
                {
                    "name": "stderr",
                    "output_type": "stream",
                    "text": [
                        "/usr/local/lib/python3.10/dist-packages/torch/nn/modules/lazy.py:180: UserWarning: Lazy modules are a new feature under heavy development so changes to the API or functionality can happen at any moment.\n",
                        "  warnings.warn('Lazy modules are a new feature under heavy development '\n",
                        "  4%|▍         | 440/10000 [06:03<2:11:34,  1.21 epoch/s, Train Loss=0.49342, Val Loss=0.54194, Best Val Loss=0.53214]"
                    ]
                },
                {
                    "name": "stdout",
                    "output_type": "stream",
                    "text": [
                        "Early Stopped\n"
                    ]
                },
                {
                    "name": "stderr",
                    "output_type": "stream",
                    "text": [
                        "\n"
                    ]
                },
                {
                    "name": "stdout",
                    "output_type": "stream",
                    "text": [
                        "['original', 7, 0.5374981164932251, 0.9175485968589783, 0.8435730338096619, 0.8510012030601501]\n"
                    ]
                },
                {
                    "data": {
                        "text/plain": [
                            "(8, 6)"
                        ]
                    },
                    "execution_count": 12,
                    "metadata": {},
                    "output_type": "execute_result"
                }
            ],
            "source": [
                "random_seed = 1\n",
                "set_seed(random_seed)\n",
                "\n",
                "histories_original = []\n",
                "\n",
                "for i, config in enumerate(all_config_permutations_og):\n",
                "    print(i, config)\n",
                "        \n",
                "    train_loader, val_loader, test_loader, class_weights, num_classes, changing_vars, static_names, seq_len = load_and_create_MIMIC_dataloader(output_dim = 2, batch_size = 512, random_state = random_seed)\n",
                "    \n",
                "    model = initializeModel(**config, static_dim=static_dim, changing_dim=changing_dim, seq_len=seq_len, output_dim=2)\n",
                "    model.fit(train_loader, val_loader, p_weight=class_weights.to(device), save_model_path=model_path.format(**config, seed = random_seed), max_epochs=10000)\n",
                "    \n",
                "    auc, acc, f1 = evaluate_classification(model, test_loader, num_classes=num_classes, device=device)\n",
                "    \n",
                "    history = [\"original\", i, model.val_losses[-1], auc, acc, f1]\n",
                "    print(history)\n",
                "    histories_original.append(np.array(history))\n",
                "    \n",
                "    # plot_losses(model.train_losses, model.val_losses)\n",
                "    del model\n",
                "    gc.collect()\n",
                "    torch.cuda.empty_cache()\n",
                "    \n",
                "histories_original = np.array(histories_original)\n",
                "histories_original.shape\n"
            ]
        },
        {
            "cell_type": "code",
            "execution_count": null,
            "metadata": {},
            "outputs": [],
            "source": [
                "# plot\n",
                "# plot_metrics(histories_original, n_concepts_list)\n"
            ]
        },
        {
            "cell_type": "markdown",
            "metadata": {},
            "source": [
                "## Atomics"
            ]
        },
        {
            "cell_type": "code",
            "execution_count": 13,
            "metadata": {},
            "outputs": [
                {
                    "name": "stdout",
                    "output_type": "stream",
                    "text": [
                        "16\n"
                    ]
                }
            ],
            "source": [
                "config_atomics = {\n",
                "    \"n_atomics\": [10, 30], # 30\n",
                "    \"n_concepts\": [4, 20], # 20\n",
                "    \"use_indicators\": [True, False],\n",
                "    \"use_summaries_for_atomics\": [True, False],\n",
                "    # \"use_grad_norm\": [False, \"FULL\", \"COMPONENT_WISE\"],\n",
                "}\n",
                "\n",
                "all_config_permutations_atomics = list(product(*config_atomics.values()))\n",
                "all_config_permutations_atomics = [dict(zip(config_atomics.keys(), permutation)) for permutation in all_config_permutations_atomics]\n",
                "print(len(all_config_permutations_atomics))\n",
                "# all_config_permutations_atomics"
            ]
        },
        {
            "cell_type": "code",
            "execution_count": 14,
            "metadata": {},
            "outputs": [],
            "source": [
                "experiment_folder = \"/workdir/optimal-summaries-public/_models/vasopressor/atomics_new/\"\n",
                "model_path = experiment_folder + \"\".join([f\"{key}_{{{key}}}_\" for key in config_atomics.keys()]) + \"seed_{seed}.pt\"\n",
                "\n",
                "if not os.path.exists(experiment_folder):\n",
                "    os.makedirs(experiment_folder)"
            ]
        },
        {
            "cell_type": "code",
            "execution_count": 15,
            "metadata": {},
            "outputs": [
                {
                    "name": "stdout",
                    "output_type": "stream",
                    "text": [
                        "0 {'n_atomics': 10, 'n_concepts': 4, 'use_indicators': True, 'use_summaries_for_atomics': True}\n"
                    ]
                },
                {
                    "name": "stderr",
                    "output_type": "stream",
                    "text": [
                        "/usr/local/lib/python3.10/dist-packages/torch/nn/modules/lazy.py:180: UserWarning: Lazy modules are a new feature under heavy development so changes to the API or functionality can happen at any moment.\n",
                        "  warnings.warn('Lazy modules are a new feature under heavy development '\n",
                        "  1%|          | 71/10000 [01:15<3:22:12,  1.22s/ epoch, Train Loss=0.56480, Val Loss=0.58068, Best Val Loss=0.58068]"
                    ]
                },
                {
                    "name": "stderr",
                    "output_type": "stream",
                    "text": [
                        "  9%|▉         | 910/10000 [15:31<2:35:00,  1.02s/ epoch, Train Loss=0.49863, Val Loss=0.53715, Best Val Loss=0.53624]"
                    ]
                },
                {
                    "name": "stdout",
                    "output_type": "stream",
                    "text": [
                        "Early Stopped\n"
                    ]
                },
                {
                    "name": "stderr",
                    "output_type": "stream",
                    "text": [
                        "\n"
                    ]
                },
                {
                    "name": "stdout",
                    "output_type": "stream",
                    "text": [
                        "AUC macro 0.9173021912574768\n",
                        "ACC macro 0.8436588048934937\n",
                        " F1 macro 0.8508513569831848\n",
                        "['atomics', 0, 0.536270022392273, 0.9173021912574768, 0.8436588048934937, 0.8508513569831848]\n",
                        "1 {'n_atomics': 10, 'n_concepts': 4, 'use_indicators': True, 'use_summaries_for_atomics': False}\n"
                    ]
                },
                {
                    "name": "stderr",
                    "output_type": "stream",
                    "text": [
                        "/usr/local/lib/python3.10/dist-packages/torch/nn/modules/lazy.py:180: UserWarning: Lazy modules are a new feature under heavy development so changes to the API or functionality can happen at any moment.\n",
                        "  warnings.warn('Lazy modules are a new feature under heavy development '\n",
                        "  2%|▏         | 230/10000 [03:39<2:35:30,  1.05 epoch/s, Train Loss=0.56757, Val Loss=0.58153, Best Val Loss=0.57967]"
                    ]
                },
                {
                    "name": "stdout",
                    "output_type": "stream",
                    "text": [
                        "Early Stopped\n"
                    ]
                },
                {
                    "name": "stderr",
                    "output_type": "stream",
                    "text": [
                        "\n"
                    ]
                },
                {
                    "name": "stdout",
                    "output_type": "stream",
                    "text": [
                        "AUC macro 0.8971583247184753\n",
                        "ACC macro 0.8594474196434021\n",
                        " F1 macro 0.8634316921234131\n",
                        "['atomics', 1, 0.5811946988105774, 0.8971583247184753, 0.8594474196434021, 0.8634316921234131]\n",
                        "2 {'n_atomics': 10, 'n_concepts': 4, 'use_indicators': False, 'use_summaries_for_atomics': True}\n"
                    ]
                },
                {
                    "name": "stderr",
                    "output_type": "stream",
                    "text": [
                        "/usr/local/lib/python3.10/dist-packages/torch/nn/modules/lazy.py:180: UserWarning: Lazy modules are a new feature under heavy development so changes to the API or functionality can happen at any moment.\n",
                        "  warnings.warn('Lazy modules are a new feature under heavy development '\n",
                        " 10%|▉         | 970/10000 [14:04<2:11:01,  1.15 epoch/s, Train Loss=0.49621, Val Loss=0.53379, Best Val Loss=0.53315]"
                    ]
                },
                {
                    "name": "stdout",
                    "output_type": "stream",
                    "text": [
                        "Early Stopped\n"
                    ]
                },
                {
                    "name": "stderr",
                    "output_type": "stream",
                    "text": [
                        "\n"
                    ]
                },
                {
                    "name": "stdout",
                    "output_type": "stream",
                    "text": [
                        "AUC macro 0.9152399301528931\n",
                        "ACC macro 0.838424563407898\n",
                        " F1 macro 0.8462731838226318\n",
                        "['atomics', 2, 0.5334510803222656, 0.9152399301528931, 0.838424563407898, 0.8462731838226318]\n",
                        "3 {'n_atomics': 10, 'n_concepts': 4, 'use_indicators': False, 'use_summaries_for_atomics': False}\n"
                    ]
                },
                {
                    "name": "stderr",
                    "output_type": "stream",
                    "text": [
                        "/usr/local/lib/python3.10/dist-packages/torch/nn/modules/lazy.py:180: UserWarning: Lazy modules are a new feature under heavy development so changes to the API or functionality can happen at any moment.\n",
                        "  warnings.warn('Lazy modules are a new feature under heavy development '\n",
                        "  3%|▎         | 270/10000 [03:58<2:23:05,  1.13 epoch/s, Train Loss=0.61317, Val Loss=0.63057, Best Val Loss=0.62162]"
                    ]
                },
                {
                    "name": "stdout",
                    "output_type": "stream",
                    "text": [
                        "Early Stopped\n"
                    ]
                },
                {
                    "name": "stderr",
                    "output_type": "stream",
                    "text": [
                        "\n"
                    ]
                },
                {
                    "name": "stdout",
                    "output_type": "stream",
                    "text": [
                        "AUC macro 0.899911642074585\n",
                        "ACC macro 0.8501802086830139\n",
                        " F1 macro 0.8554635643959045\n",
                        "['atomics', 3, 0.6298741102218628, 0.899911642074585, 0.8501802086830139, 0.8554635643959045]\n",
                        "4 {'n_atomics': 10, 'n_concepts': 20, 'use_indicators': True, 'use_summaries_for_atomics': True}\n"
                    ]
                },
                {
                    "name": "stderr",
                    "output_type": "stream",
                    "text": [
                        "/usr/local/lib/python3.10/dist-packages/torch/nn/modules/lazy.py:180: UserWarning: Lazy modules are a new feature under heavy development so changes to the API or functionality can happen at any moment.\n",
                        "  warnings.warn('Lazy modules are a new feature under heavy development '\n",
                        " 14%|█▍        | 1400/10000 [23:22<2:23:35,  1.00s/ epoch, Train Loss=0.50775, Val Loss=0.54345, Best Val Loss=0.54077]"
                    ]
                },
                {
                    "name": "stdout",
                    "output_type": "stream",
                    "text": [
                        "Early Stopped\n"
                    ]
                },
                {
                    "name": "stderr",
                    "output_type": "stream",
                    "text": [
                        "\n"
                    ]
                },
                {
                    "name": "stdout",
                    "output_type": "stream",
                    "text": [
                        "AUC macro 0.9142311811447144\n",
                        "ACC macro 0.8372232913970947\n",
                        " F1 macro 0.844597339630127\n",
                        "['atomics', 4, 0.5408491492271423, 0.9142311811447144, 0.8372232913970947, 0.844597339630127]\n",
                        "5 {'n_atomics': 10, 'n_concepts': 20, 'use_indicators': True, 'use_summaries_for_atomics': False}\n"
                    ]
                },
                {
                    "name": "stderr",
                    "output_type": "stream",
                    "text": [
                        "/usr/local/lib/python3.10/dist-packages/torch/nn/modules/lazy.py:180: UserWarning: Lazy modules are a new feature under heavy development so changes to the API or functionality can happen at any moment.\n",
                        "  warnings.warn('Lazy modules are a new feature under heavy development '\n",
                        "  2%|▏         | 220/10000 [03:55<2:54:17,  1.07s/ epoch, Train Loss=0.57576, Val Loss=0.59155, Best Val Loss=0.58801]"
                    ]
                },
                {
                    "name": "stdout",
                    "output_type": "stream",
                    "text": [
                        "Early Stopped\n"
                    ]
                },
                {
                    "name": "stderr",
                    "output_type": "stream",
                    "text": [
                        "\n"
                    ]
                },
                {
                    "name": "stdout",
                    "output_type": "stream",
                    "text": [
                        "AUC macro 0.8969228267669678\n",
                        "ACC macro 0.834477424621582\n",
                        " F1 macro 0.8431834578514099\n",
                        "['atomics', 5, 0.5993070602416992, 0.8969228267669678, 0.834477424621582, 0.8431834578514099]\n",
                        "6 {'n_atomics': 10, 'n_concepts': 20, 'use_indicators': False, 'use_summaries_for_atomics': True}\n"
                    ]
                },
                {
                    "name": "stderr",
                    "output_type": "stream",
                    "text": [
                        "/usr/local/lib/python3.10/dist-packages/torch/nn/modules/lazy.py:180: UserWarning: Lazy modules are a new feature under heavy development so changes to the API or functionality can happen at any moment.\n",
                        "  warnings.warn('Lazy modules are a new feature under heavy development '\n",
                        " 10%|▉         | 990/10000 [16:24<2:29:19,  1.01 epoch/s, Train Loss=0.50889, Val Loss=0.54181, Best Val Loss=0.54078]"
                    ]
                },
                {
                    "name": "stdout",
                    "output_type": "stream",
                    "text": [
                        "Early Stopped\n"
                    ]
                },
                {
                    "name": "stderr",
                    "output_type": "stream",
                    "text": [
                        "\n"
                    ]
                },
                {
                    "name": "stdout",
                    "output_type": "stream",
                    "text": [
                        "AUC macro 0.9181017279624939\n",
                        "ACC macro 0.8423717021942139\n",
                        " F1 macro 0.8499550819396973\n",
                        "['atomics', 6, 0.5421457290649414, 0.9181017279624939, 0.8423717021942139, 0.8499550819396973]\n",
                        "7 {'n_atomics': 10, 'n_concepts': 20, 'use_indicators': False, 'use_summaries_for_atomics': False}\n"
                    ]
                },
                {
                    "name": "stderr",
                    "output_type": "stream",
                    "text": [
                        "/usr/local/lib/python3.10/dist-packages/torch/nn/modules/lazy.py:180: UserWarning: Lazy modules are a new feature under heavy development so changes to the API or functionality can happen at any moment.\n",
                        "  warnings.warn('Lazy modules are a new feature under heavy development '\n",
                        "  5%|▍         | 460/10000 [06:48<2:21:05,  1.13 epoch/s, Train Loss=0.60289, Val Loss=0.63277, Best Val Loss=0.62265]"
                    ]
                },
                {
                    "name": "stdout",
                    "output_type": "stream",
                    "text": [
                        "Early Stopped\n"
                    ]
                },
                {
                    "name": "stderr",
                    "output_type": "stream",
                    "text": [
                        "\n"
                    ]
                },
                {
                    "name": "stdout",
                    "output_type": "stream",
                    "text": [
                        "AUC macro 0.9079630374908447\n",
                        "ACC macro 0.8525828123092651\n",
                        " F1 macro 0.8577579259872437\n",
                        "['atomics', 7, 0.6245154738426208, 0.9079630374908447, 0.8525828123092651, 0.8577579259872437]\n",
                        "8 {'n_atomics': 30, 'n_concepts': 4, 'use_indicators': True, 'use_summaries_for_atomics': True}\n"
                    ]
                },
                {
                    "name": "stderr",
                    "output_type": "stream",
                    "text": [
                        "/usr/local/lib/python3.10/dist-packages/torch/nn/modules/lazy.py:180: UserWarning: Lazy modules are a new feature under heavy development so changes to the API or functionality can happen at any moment.\n",
                        "  warnings.warn('Lazy modules are a new feature under heavy development '\n",
                        " 11%|█▏        | 1140/10000 [17:50<2:18:37,  1.07 epoch/s, Train Loss=0.50623, Val Loss=0.55207, Best Val Loss=0.54268]"
                    ]
                },
                {
                    "name": "stdout",
                    "output_type": "stream",
                    "text": [
                        "Early Stopped\n"
                    ]
                },
                {
                    "name": "stderr",
                    "output_type": "stream",
                    "text": [
                        "\n"
                    ]
                },
                {
                    "name": "stdout",
                    "output_type": "stream",
                    "text": [
                        "AUC macro 0.9203840494155884\n",
                        "ACC macro 0.8492363095283508\n",
                        " F1 macro 0.8556878566741943\n",
                        "['atomics', 8, 0.5456638336181641, 0.9203840494155884, 0.8492363095283508, 0.8556878566741943]\n",
                        "9 {'n_atomics': 30, 'n_concepts': 4, 'use_indicators': True, 'use_summaries_for_atomics': False}\n"
                    ]
                },
                {
                    "name": "stderr",
                    "output_type": "stream",
                    "text": [
                        "/usr/local/lib/python3.10/dist-packages/torch/nn/modules/lazy.py:180: UserWarning: Lazy modules are a new feature under heavy development so changes to the API or functionality can happen at any moment.\n",
                        "  warnings.warn('Lazy modules are a new feature under heavy development '\n",
                        "  2%|▏         | 210/10000 [03:19<2:34:38,  1.06 epoch/s, Train Loss=0.81836, Val Loss=0.86292, Best Val Loss=0.84042]"
                    ]
                },
                {
                    "name": "stdout",
                    "output_type": "stream",
                    "text": [
                        "Early Stopped\n"
                    ]
                },
                {
                    "name": "stderr",
                    "output_type": "stream",
                    "text": [
                        "\n"
                    ]
                },
                {
                    "name": "stdout",
                    "output_type": "stream",
                    "text": [
                        "AUC macro 0.8967030644416809\n",
                        "ACC macro 0.8415136337280273\n",
                        " F1 macro 0.849482536315918\n",
                        "['atomics', 9, 0.8492011427879333, 0.8967030644416809, 0.8415136337280273, 0.849482536315918]\n",
                        "10 {'n_atomics': 30, 'n_concepts': 4, 'use_indicators': False, 'use_summaries_for_atomics': True}\n"
                    ]
                },
                {
                    "name": "stderr",
                    "output_type": "stream",
                    "text": [
                        "/usr/local/lib/python3.10/dist-packages/torch/nn/modules/lazy.py:180: UserWarning: Lazy modules are a new feature under heavy development so changes to the API or functionality can happen at any moment.\n",
                        "  warnings.warn('Lazy modules are a new feature under heavy development '\n",
                        " 10%|█         | 1030/10000 [15:04<2:11:16,  1.14 epoch/s, Train Loss=0.61808, Val Loss=0.65230, Best Val Loss=0.65167]"
                    ]
                },
                {
                    "name": "stdout",
                    "output_type": "stream",
                    "text": [
                        "Early Stopped\n"
                    ]
                },
                {
                    "name": "stderr",
                    "output_type": "stream",
                    "text": [
                        "\n"
                    ]
                },
                {
                    "name": "stdout",
                    "output_type": "stream",
                    "text": [
                        "AUC macro 0.9188683032989502\n",
                        "ACC macro 0.8428007364273071\n",
                        " F1 macro 0.85017991065979\n",
                        "['atomics', 10, 0.653633177280426, 0.9188683032989502, 0.8428007364273071, 0.85017991065979]\n",
                        "11 {'n_atomics': 30, 'n_concepts': 4, 'use_indicators': False, 'use_summaries_for_atomics': False}\n"
                    ]
                },
                {
                    "name": "stderr",
                    "output_type": "stream",
                    "text": [
                        "/usr/local/lib/python3.10/dist-packages/torch/nn/modules/lazy.py:180: UserWarning: Lazy modules are a new feature under heavy development so changes to the API or functionality can happen at any moment.\n",
                        "  warnings.warn('Lazy modules are a new feature under heavy development '\n",
                        "  6%|▌         | 570/10000 [08:16<2:16:58,  1.15 epoch/s, Train Loss=1.19163, Val Loss=1.22476, Best Val Loss=1.22149]"
                    ]
                },
                {
                    "name": "stdout",
                    "output_type": "stream",
                    "text": [
                        "Early Stopped\n"
                    ]
                },
                {
                    "name": "stderr",
                    "output_type": "stream",
                    "text": [
                        "\n"
                    ]
                },
                {
                    "name": "stdout",
                    "output_type": "stream",
                    "text": [
                        "AUC macro 0.9008169770240784\n",
                        "ACC macro 0.8452891707420349\n",
                        " F1 macro 0.8522494435310364\n",
                        "['atomics', 11, 1.2231030464172363, 0.9008169770240784, 0.8452891707420349, 0.8522494435310364]\n",
                        "12 {'n_atomics': 30, 'n_concepts': 20, 'use_indicators': True, 'use_summaries_for_atomics': True}\n"
                    ]
                },
                {
                    "name": "stderr",
                    "output_type": "stream",
                    "text": [
                        "/usr/local/lib/python3.10/dist-packages/torch/nn/modules/lazy.py:180: UserWarning: Lazy modules are a new feature under heavy development so changes to the API or functionality can happen at any moment.\n",
                        "  warnings.warn('Lazy modules are a new feature under heavy development '\n",
                        "  8%|▊         | 760/10000 [11:53<2:24:29,  1.07 epoch/s, Train Loss=0.52282, Val Loss=0.55078, Best Val Loss=0.55028]"
                    ]
                },
                {
                    "name": "stdout",
                    "output_type": "stream",
                    "text": [
                        "Early Stopped\n"
                    ]
                },
                {
                    "name": "stderr",
                    "output_type": "stream",
                    "text": [
                        "\n"
                    ]
                },
                {
                    "name": "stdout",
                    "output_type": "stream",
                    "text": [
                        "AUC macro 0.91743004322052\n",
                        "ACC macro 0.8424575328826904\n",
                        " F1 macro 0.8494588136672974\n",
                        "['atomics', 12, 0.5520872473716736, 0.91743004322052, 0.8424575328826904, 0.8494588136672974]\n",
                        "13 {'n_atomics': 30, 'n_concepts': 20, 'use_indicators': True, 'use_summaries_for_atomics': False}\n"
                    ]
                },
                {
                    "name": "stderr",
                    "output_type": "stream",
                    "text": [
                        "/usr/local/lib/python3.10/dist-packages/torch/nn/modules/lazy.py:180: UserWarning: Lazy modules are a new feature under heavy development so changes to the API or functionality can happen at any moment.\n",
                        "  warnings.warn('Lazy modules are a new feature under heavy development '\n",
                        "  3%|▎         | 340/10000 [05:16<2:29:57,  1.07 epoch/s, Train Loss=0.82922, Val Loss=0.85497, Best Val Loss=0.85279]"
                    ]
                },
                {
                    "name": "stdout",
                    "output_type": "stream",
                    "text": [
                        "Early Stopped\n"
                    ]
                },
                {
                    "name": "stderr",
                    "output_type": "stream",
                    "text": [
                        "\n"
                    ]
                },
                {
                    "name": "stdout",
                    "output_type": "stream",
                    "text": [
                        "AUC macro 0.8992177844047546\n",
                        "ACC macro 0.838167130947113\n",
                        " F1 macro 0.8439258337020874\n",
                        "['atomics', 13, 0.8561632037162781, 0.8992177844047546, 0.838167130947113, 0.8439258337020874]\n",
                        "14 {'n_atomics': 30, 'n_concepts': 20, 'use_indicators': False, 'use_summaries_for_atomics': True}\n"
                    ]
                },
                {
                    "name": "stderr",
                    "output_type": "stream",
                    "text": [
                        "/usr/local/lib/python3.10/dist-packages/torch/nn/modules/lazy.py:180: UserWarning: Lazy modules are a new feature under heavy development so changes to the API or functionality can happen at any moment.\n",
                        "  warnings.warn('Lazy modules are a new feature under heavy development '\n",
                        " 14%|█▎        | 1370/10000 [20:03<2:06:19,  1.14 epoch/s, Train Loss=0.61604, Val Loss=0.65261, Best Val Loss=0.64746]"
                    ]
                },
                {
                    "name": "stdout",
                    "output_type": "stream",
                    "text": [
                        "Early Stopped\n"
                    ]
                },
                {
                    "name": "stderr",
                    "output_type": "stream",
                    "text": [
                        "\n"
                    ]
                },
                {
                    "name": "stdout",
                    "output_type": "stream",
                    "text": [
                        "AUC macro 0.9128479957580566\n",
                        "ACC macro 0.8339625597000122\n",
                        " F1 macro 0.8422340154647827\n",
                        "['atomics', 14, 0.6477808952331543, 0.9128479957580566, 0.8339625597000122, 0.8422340154647827]\n",
                        "15 {'n_atomics': 30, 'n_concepts': 20, 'use_indicators': False, 'use_summaries_for_atomics': False}\n"
                    ]
                },
                {
                    "name": "stderr",
                    "output_type": "stream",
                    "text": [
                        "/usr/local/lib/python3.10/dist-packages/torch/nn/modules/lazy.py:180: UserWarning: Lazy modules are a new feature under heavy development so changes to the API or functionality can happen at any moment.\n",
                        "  warnings.warn('Lazy modules are a new feature under heavy development '\n",
                        "  3%|▎         | 290/10000 [04:13<2:21:34,  1.14 epoch/s, Train Loss=1.19448, Val Loss=1.22297, Best Val Loss=1.21586]"
                    ]
                },
                {
                    "name": "stdout",
                    "output_type": "stream",
                    "text": [
                        "Early Stopped\n"
                    ]
                },
                {
                    "name": "stderr",
                    "output_type": "stream",
                    "text": [
                        "\n"
                    ]
                },
                {
                    "name": "stdout",
                    "output_type": "stream",
                    "text": [
                        "AUC macro 0.904352068901062\n",
                        "ACC macro 0.8489788770675659\n",
                        " F1 macro 0.8550008535385132\n",
                        "['atomics', 15, 1.2273125648498535, 0.904352068901062, 0.8489788770675659, 0.8550008535385132]\n"
                    ]
                },
                {
                    "data": {
                        "text/plain": [
                            "(16, 6)"
                        ]
                    },
                    "execution_count": 15,
                    "metadata": {},
                    "output_type": "execute_result"
                }
            ],
            "source": [
                "random_seed = 1\n",
                "set_seed(random_seed)\n",
                "\n",
                "history_atomics = []\n",
                "\n",
                "for i, config in enumerate(all_config_permutations_atomics):\n",
                "    print(i, config)\n",
                "    \n",
                "    train_loader, val_loader, test_loader, class_weights, num_classes, changing_vars, static_names, seq_len = load_and_create_MIMIC_dataloader(output_dim = 2, batch_size = 512, random_state = random_seed)\n",
                "    \n",
                "    model = initializeModel_with_atomics(**config, static_dim=static_dim, changing_dim=changing_dim, seq_len=seq_len, output_dim=2)\n",
                "    model.fit(train_loader, val_loader, p_weight=class_weights.to(device), save_model_path=model_path.format(**config, seed = random_seed), max_epochs=10000)\n",
                "    \n",
                "    auc, acc, f1 = evaluate_classification(model, test_loader, num_classes=num_classes, device=device)\n",
                "\n",
                "    history = [\"atomics\", i, model.val_losses[-1], auc, acc, f1]\n",
                "    print(history)\n",
                "    history_atomics.append(np.array(history))\n",
                "    \n",
                "    # plot_losses(model.train_losses, model.val_losses)\n",
                "    del model\n",
                "    gc.collect()\n",
                "    torch.cuda.empty_cache()\n",
                "\n",
                "    \n",
                "history_atomics = np.array(history_atomics)\n",
                "history_atomics.shape\n"
            ]
        },
        {
            "cell_type": "code",
            "execution_count": 14,
            "metadata": {},
            "outputs": [
                {
                    "data": {
                        "text/html": [
                            "<div>\n",
                            "<style scoped>\n",
                            "    .dataframe tbody tr th:only-of-type {\n",
                            "        vertical-align: middle;\n",
                            "    }\n",
                            "\n",
                            "    .dataframe tbody tr th {\n",
                            "        vertical-align: top;\n",
                            "    }\n",
                            "\n",
                            "    .dataframe thead th {\n",
                            "        text-align: right;\n",
                            "    }\n",
                            "</style>\n",
                            "<table border=\"1\" class=\"dataframe\">\n",
                            "  <thead>\n",
                            "    <tr style=\"text-align: right;\">\n",
                            "      <th></th>\n",
                            "      <th>type</th>\n",
                            "      <th>config</th>\n",
                            "      <th>val_loss</th>\n",
                            "      <th>auc</th>\n",
                            "      <th>acc</th>\n",
                            "      <th>f1</th>\n",
                            "      <th>n_concepts</th>\n",
                            "      <th>use_indicators</th>\n",
                            "      <th>use_fixes</th>\n",
                            "      <th>use_only_last_timestep</th>\n",
                            "      <th>n_atomics</th>\n",
                            "      <th>use_summaries_for_atomics</th>\n",
                            "    </tr>\n",
                            "  </thead>\n",
                            "  <tbody>\n",
                            "    <tr>\n",
                            "      <th>0</th>\n",
                            "      <td>original</td>\n",
                            "      <td>0</td>\n",
                            "      <td>0.519994</td>\n",
                            "      <td>0.911697</td>\n",
                            "      <td>0.831989</td>\n",
                            "      <td>0.840528</td>\n",
                            "      <td>4</td>\n",
                            "      <td>True</td>\n",
                            "      <td>False</td>\n",
                            "      <td>True</td>\n",
                            "      <td>NaN</td>\n",
                            "      <td>NaN</td>\n",
                            "    </tr>\n",
                            "    <tr>\n",
                            "      <th>1</th>\n",
                            "      <td>original</td>\n",
                            "      <td>1</td>\n",
                            "      <td>0.522041</td>\n",
                            "      <td>0.916421</td>\n",
                            "      <td>0.837910</td>\n",
                            "      <td>0.845909</td>\n",
                            "      <td>4</td>\n",
                            "      <td>True</td>\n",
                            "      <td>False</td>\n",
                            "      <td>False</td>\n",
                            "      <td>NaN</td>\n",
                            "      <td>NaN</td>\n",
                            "    </tr>\n",
                            "    <tr>\n",
                            "      <th>2</th>\n",
                            "      <td>original</td>\n",
                            "      <td>2</td>\n",
                            "      <td>0.517659</td>\n",
                            "      <td>0.912625</td>\n",
                            "      <td>0.834392</td>\n",
                            "      <td>0.842834</td>\n",
                            "      <td>4</td>\n",
                            "      <td>True</td>\n",
                            "      <td>True</td>\n",
                            "      <td>True</td>\n",
                            "      <td>NaN</td>\n",
                            "      <td>NaN</td>\n",
                            "    </tr>\n",
                            "    <tr>\n",
                            "      <th>3</th>\n",
                            "      <td>original</td>\n",
                            "      <td>3</td>\n",
                            "      <td>0.517217</td>\n",
                            "      <td>0.912472</td>\n",
                            "      <td>0.839797</td>\n",
                            "      <td>0.847130</td>\n",
                            "      <td>4</td>\n",
                            "      <td>True</td>\n",
                            "      <td>True</td>\n",
                            "      <td>False</td>\n",
                            "      <td>NaN</td>\n",
                            "      <td>NaN</td>\n",
                            "    </tr>\n",
                            "    <tr>\n",
                            "      <th>4</th>\n",
                            "      <td>original</td>\n",
                            "      <td>4</td>\n",
                            "      <td>0.523946</td>\n",
                            "      <td>0.912431</td>\n",
                            "      <td>0.833705</td>\n",
                            "      <td>0.841121</td>\n",
                            "      <td>4</td>\n",
                            "      <td>False</td>\n",
                            "      <td>False</td>\n",
                            "      <td>True</td>\n",
                            "      <td>NaN</td>\n",
                            "      <td>NaN</td>\n",
                            "    </tr>\n",
                            "    <tr>\n",
                            "      <th>5</th>\n",
                            "      <td>original</td>\n",
                            "      <td>5</td>\n",
                            "      <td>0.532511</td>\n",
                            "      <td>0.913204</td>\n",
                            "      <td>0.837738</td>\n",
                            "      <td>0.845190</td>\n",
                            "      <td>4</td>\n",
                            "      <td>False</td>\n",
                            "      <td>False</td>\n",
                            "      <td>False</td>\n",
                            "      <td>NaN</td>\n",
                            "      <td>NaN</td>\n",
                            "    </tr>\n",
                            "    <tr>\n",
                            "      <th>6</th>\n",
                            "      <td>original</td>\n",
                            "      <td>6</td>\n",
                            "      <td>0.522208</td>\n",
                            "      <td>0.911759</td>\n",
                            "      <td>0.835593</td>\n",
                            "      <td>0.843694</td>\n",
                            "      <td>4</td>\n",
                            "      <td>False</td>\n",
                            "      <td>True</td>\n",
                            "      <td>True</td>\n",
                            "      <td>NaN</td>\n",
                            "      <td>NaN</td>\n",
                            "    </tr>\n",
                            "    <tr>\n",
                            "      <th>7</th>\n",
                            "      <td>original</td>\n",
                            "      <td>7</td>\n",
                            "      <td>0.525868</td>\n",
                            "      <td>0.917177</td>\n",
                            "      <td>0.843659</td>\n",
                            "      <td>0.851095</td>\n",
                            "      <td>4</td>\n",
                            "      <td>False</td>\n",
                            "      <td>True</td>\n",
                            "      <td>False</td>\n",
                            "      <td>NaN</td>\n",
                            "      <td>NaN</td>\n",
                            "    </tr>\n",
                            "    <tr>\n",
                            "      <th>8</th>\n",
                            "      <td>original</td>\n",
                            "      <td>8</td>\n",
                            "      <td>0.529575</td>\n",
                            "      <td>0.913147</td>\n",
                            "      <td>0.837223</td>\n",
                            "      <td>0.845383</td>\n",
                            "      <td>20</td>\n",
                            "      <td>True</td>\n",
                            "      <td>False</td>\n",
                            "      <td>True</td>\n",
                            "      <td>NaN</td>\n",
                            "      <td>NaN</td>\n",
                            "    </tr>\n",
                            "    <tr>\n",
                            "      <th>9</th>\n",
                            "      <td>original</td>\n",
                            "      <td>9</td>\n",
                            "      <td>0.533516</td>\n",
                            "      <td>0.915003</td>\n",
                            "      <td>0.837395</td>\n",
                            "      <td>0.844990</td>\n",
                            "      <td>20</td>\n",
                            "      <td>True</td>\n",
                            "      <td>False</td>\n",
                            "      <td>False</td>\n",
                            "      <td>NaN</td>\n",
                            "      <td>NaN</td>\n",
                            "    </tr>\n",
                            "    <tr>\n",
                            "      <th>10</th>\n",
                            "      <td>original</td>\n",
                            "      <td>10</td>\n",
                            "      <td>0.525910</td>\n",
                            "      <td>0.912999</td>\n",
                            "      <td>0.839883</td>\n",
                            "      <td>0.846999</td>\n",
                            "      <td>20</td>\n",
                            "      <td>True</td>\n",
                            "      <td>True</td>\n",
                            "      <td>True</td>\n",
                            "      <td>NaN</td>\n",
                            "      <td>NaN</td>\n",
                            "    </tr>\n",
                            "    <tr>\n",
                            "      <th>11</th>\n",
                            "      <td>original</td>\n",
                            "      <td>11</td>\n",
                            "      <td>0.531943</td>\n",
                            "      <td>0.916404</td>\n",
                            "      <td>0.840141</td>\n",
                            "      <td>0.847082</td>\n",
                            "      <td>20</td>\n",
                            "      <td>True</td>\n",
                            "      <td>True</td>\n",
                            "      <td>False</td>\n",
                            "      <td>NaN</td>\n",
                            "      <td>NaN</td>\n",
                            "    </tr>\n",
                            "    <tr>\n",
                            "      <th>12</th>\n",
                            "      <td>original</td>\n",
                            "      <td>12</td>\n",
                            "      <td>0.533839</td>\n",
                            "      <td>0.905736</td>\n",
                            "      <td>0.830874</td>\n",
                            "      <td>0.839168</td>\n",
                            "      <td>20</td>\n",
                            "      <td>False</td>\n",
                            "      <td>False</td>\n",
                            "      <td>True</td>\n",
                            "      <td>NaN</td>\n",
                            "      <td>NaN</td>\n",
                            "    </tr>\n",
                            "    <tr>\n",
                            "      <th>13</th>\n",
                            "      <td>original</td>\n",
                            "      <td>13</td>\n",
                            "      <td>0.538104</td>\n",
                            "      <td>0.909678</td>\n",
                            "      <td>0.834477</td>\n",
                            "      <td>0.842415</td>\n",
                            "      <td>20</td>\n",
                            "      <td>False</td>\n",
                            "      <td>False</td>\n",
                            "      <td>False</td>\n",
                            "      <td>NaN</td>\n",
                            "      <td>NaN</td>\n",
                            "    </tr>\n",
                            "    <tr>\n",
                            "      <th>14</th>\n",
                            "      <td>original</td>\n",
                            "      <td>14</td>\n",
                            "      <td>0.527687</td>\n",
                            "      <td>0.912845</td>\n",
                            "      <td>0.837052</td>\n",
                            "      <td>0.845068</td>\n",
                            "      <td>20</td>\n",
                            "      <td>False</td>\n",
                            "      <td>True</td>\n",
                            "      <td>True</td>\n",
                            "      <td>NaN</td>\n",
                            "      <td>NaN</td>\n",
                            "    </tr>\n",
                            "    <tr>\n",
                            "      <th>15</th>\n",
                            "      <td>original</td>\n",
                            "      <td>15</td>\n",
                            "      <td>0.536820</td>\n",
                            "      <td>0.914693</td>\n",
                            "      <td>0.837910</td>\n",
                            "      <td>0.845177</td>\n",
                            "      <td>20</td>\n",
                            "      <td>False</td>\n",
                            "      <td>True</td>\n",
                            "      <td>False</td>\n",
                            "      <td>NaN</td>\n",
                            "      <td>NaN</td>\n",
                            "    </tr>\n",
                            "    <tr>\n",
                            "      <th>16</th>\n",
                            "      <td>atomics</td>\n",
                            "      <td>0</td>\n",
                            "      <td>0.531600</td>\n",
                            "      <td>0.913230</td>\n",
                            "      <td>0.837910</td>\n",
                            "      <td>0.845379</td>\n",
                            "      <td>4</td>\n",
                            "      <td>True</td>\n",
                            "      <td>False</td>\n",
                            "      <td>NaN</td>\n",
                            "      <td>10.0</td>\n",
                            "      <td>True</td>\n",
                            "    </tr>\n",
                            "    <tr>\n",
                            "      <th>17</th>\n",
                            "      <td>atomics</td>\n",
                            "      <td>1</td>\n",
                            "      <td>0.572459</td>\n",
                            "      <td>0.902001</td>\n",
                            "      <td>0.827784</td>\n",
                            "      <td>0.833098</td>\n",
                            "      <td>4</td>\n",
                            "      <td>True</td>\n",
                            "      <td>False</td>\n",
                            "      <td>NaN</td>\n",
                            "      <td>10.0</td>\n",
                            "      <td>False</td>\n",
                            "    </tr>\n",
                            "    <tr>\n",
                            "      <th>18</th>\n",
                            "      <td>atomics</td>\n",
                            "      <td>2</td>\n",
                            "      <td>0.534511</td>\n",
                            "      <td>0.915804</td>\n",
                            "      <td>0.840055</td>\n",
                            "      <td>0.847588</td>\n",
                            "      <td>4</td>\n",
                            "      <td>True</td>\n",
                            "      <td>True</td>\n",
                            "      <td>NaN</td>\n",
                            "      <td>10.0</td>\n",
                            "      <td>True</td>\n",
                            "    </tr>\n",
                            "    <tr>\n",
                            "      <th>19</th>\n",
                            "      <td>atomics</td>\n",
                            "      <td>3</td>\n",
                            "      <td>0.583365</td>\n",
                            "      <td>0.898608</td>\n",
                            "      <td>0.833448</td>\n",
                            "      <td>0.842643</td>\n",
                            "      <td>4</td>\n",
                            "      <td>True</td>\n",
                            "      <td>True</td>\n",
                            "      <td>NaN</td>\n",
                            "      <td>10.0</td>\n",
                            "      <td>False</td>\n",
                            "    </tr>\n",
                            "    <tr>\n",
                            "      <th>20</th>\n",
                            "      <td>atomics</td>\n",
                            "      <td>4</td>\n",
                            "      <td>0.540926</td>\n",
                            "      <td>0.915349</td>\n",
                            "      <td>0.841599</td>\n",
                            "      <td>0.848738</td>\n",
                            "      <td>4</td>\n",
                            "      <td>False</td>\n",
                            "      <td>False</td>\n",
                            "      <td>NaN</td>\n",
                            "      <td>10.0</td>\n",
                            "      <td>True</td>\n",
                            "    </tr>\n",
                            "    <tr>\n",
                            "      <th>21</th>\n",
                            "      <td>atomics</td>\n",
                            "      <td>5</td>\n",
                            "      <td>0.623107</td>\n",
                            "      <td>0.900487</td>\n",
                            "      <td>0.855329</td>\n",
                            "      <td>0.859710</td>\n",
                            "      <td>4</td>\n",
                            "      <td>False</td>\n",
                            "      <td>False</td>\n",
                            "      <td>NaN</td>\n",
                            "      <td>10.0</td>\n",
                            "      <td>False</td>\n",
                            "    </tr>\n",
                            "    <tr>\n",
                            "      <th>22</th>\n",
                            "      <td>atomics</td>\n",
                            "      <td>6</td>\n",
                            "      <td>0.529987</td>\n",
                            "      <td>0.913774</td>\n",
                            "      <td>0.836279</td>\n",
                            "      <td>0.844092</td>\n",
                            "      <td>4</td>\n",
                            "      <td>False</td>\n",
                            "      <td>True</td>\n",
                            "      <td>NaN</td>\n",
                            "      <td>10.0</td>\n",
                            "      <td>True</td>\n",
                            "    </tr>\n",
                            "    <tr>\n",
                            "      <th>23</th>\n",
                            "      <td>atomics</td>\n",
                            "      <td>7</td>\n",
                            "      <td>0.623894</td>\n",
                            "      <td>0.905699</td>\n",
                            "      <td>0.857302</td>\n",
                            "      <td>0.860709</td>\n",
                            "      <td>4</td>\n",
                            "      <td>False</td>\n",
                            "      <td>True</td>\n",
                            "      <td>NaN</td>\n",
                            "      <td>10.0</td>\n",
                            "      <td>False</td>\n",
                            "    </tr>\n",
                            "    <tr>\n",
                            "      <th>24</th>\n",
                            "      <td>atomics</td>\n",
                            "      <td>8</td>\n",
                            "      <td>0.537194</td>\n",
                            "      <td>0.918633</td>\n",
                            "      <td>0.843144</td>\n",
                            "      <td>0.850654</td>\n",
                            "      <td>20</td>\n",
                            "      <td>True</td>\n",
                            "      <td>False</td>\n",
                            "      <td>NaN</td>\n",
                            "      <td>10.0</td>\n",
                            "      <td>True</td>\n",
                            "    </tr>\n",
                            "    <tr>\n",
                            "      <th>25</th>\n",
                            "      <td>atomics</td>\n",
                            "      <td>9</td>\n",
                            "      <td>0.591889</td>\n",
                            "      <td>0.905936</td>\n",
                            "      <td>0.858246</td>\n",
                            "      <td>0.862034</td>\n",
                            "      <td>20</td>\n",
                            "      <td>True</td>\n",
                            "      <td>False</td>\n",
                            "      <td>NaN</td>\n",
                            "      <td>10.0</td>\n",
                            "      <td>False</td>\n",
                            "    </tr>\n",
                            "    <tr>\n",
                            "      <th>26</th>\n",
                            "      <td>atomics</td>\n",
                            "      <td>10</td>\n",
                            "      <td>0.550487</td>\n",
                            "      <td>0.920970</td>\n",
                            "      <td>0.852240</td>\n",
                            "      <td>0.858155</td>\n",
                            "      <td>20</td>\n",
                            "      <td>True</td>\n",
                            "      <td>True</td>\n",
                            "      <td>NaN</td>\n",
                            "      <td>10.0</td>\n",
                            "      <td>True</td>\n",
                            "    </tr>\n",
                            "    <tr>\n",
                            "      <th>27</th>\n",
                            "      <td>atomics</td>\n",
                            "      <td>11</td>\n",
                            "      <td>0.598143</td>\n",
                            "      <td>0.897508</td>\n",
                            "      <td>0.831817</td>\n",
                            "      <td>0.840625</td>\n",
                            "      <td>20</td>\n",
                            "      <td>True</td>\n",
                            "      <td>True</td>\n",
                            "      <td>NaN</td>\n",
                            "      <td>10.0</td>\n",
                            "      <td>False</td>\n",
                            "    </tr>\n",
                            "    <tr>\n",
                            "      <th>28</th>\n",
                            "      <td>atomics</td>\n",
                            "      <td>12</td>\n",
                            "      <td>0.541652</td>\n",
                            "      <td>0.908697</td>\n",
                            "      <td>0.829243</td>\n",
                            "      <td>0.838053</td>\n",
                            "      <td>20</td>\n",
                            "      <td>False</td>\n",
                            "      <td>False</td>\n",
                            "      <td>NaN</td>\n",
                            "      <td>10.0</td>\n",
                            "      <td>True</td>\n",
                            "    </tr>\n",
                            "    <tr>\n",
                            "      <th>29</th>\n",
                            "      <td>atomics</td>\n",
                            "      <td>13</td>\n",
                            "      <td>0.638981</td>\n",
                            "      <td>0.901205</td>\n",
                            "      <td>0.844946</td>\n",
                            "      <td>0.851873</td>\n",
                            "      <td>20</td>\n",
                            "      <td>False</td>\n",
                            "      <td>False</td>\n",
                            "      <td>NaN</td>\n",
                            "      <td>10.0</td>\n",
                            "      <td>False</td>\n",
                            "    </tr>\n",
                            "    <tr>\n",
                            "      <th>30</th>\n",
                            "      <td>atomics</td>\n",
                            "      <td>14</td>\n",
                            "      <td>0.554925</td>\n",
                            "      <td>0.921597</td>\n",
                            "      <td>0.851725</td>\n",
                            "      <td>0.857708</td>\n",
                            "      <td>20</td>\n",
                            "      <td>False</td>\n",
                            "      <td>True</td>\n",
                            "      <td>NaN</td>\n",
                            "      <td>10.0</td>\n",
                            "      <td>True</td>\n",
                            "    </tr>\n",
                            "    <tr>\n",
                            "      <th>31</th>\n",
                            "      <td>atomics</td>\n",
                            "      <td>15</td>\n",
                            "      <td>0.642435</td>\n",
                            "      <td>0.901392</td>\n",
                            "      <td>0.839283</td>\n",
                            "      <td>0.847239</td>\n",
                            "      <td>20</td>\n",
                            "      <td>False</td>\n",
                            "      <td>True</td>\n",
                            "      <td>NaN</td>\n",
                            "      <td>10.0</td>\n",
                            "      <td>False</td>\n",
                            "    </tr>\n",
                            "    <tr>\n",
                            "      <th>32</th>\n",
                            "      <td>atomics</td>\n",
                            "      <td>16</td>\n",
                            "      <td>0.546054</td>\n",
                            "      <td>0.923170</td>\n",
                            "      <td>0.851381</td>\n",
                            "      <td>0.857284</td>\n",
                            "      <td>4</td>\n",
                            "      <td>True</td>\n",
                            "      <td>False</td>\n",
                            "      <td>NaN</td>\n",
                            "      <td>30.0</td>\n",
                            "      <td>True</td>\n",
                            "    </tr>\n",
                            "    <tr>\n",
                            "      <th>33</th>\n",
                            "      <td>atomics</td>\n",
                            "      <td>17</td>\n",
                            "      <td>0.855531</td>\n",
                            "      <td>0.899741</td>\n",
                            "      <td>0.849580</td>\n",
                            "      <td>0.854535</td>\n",
                            "      <td>4</td>\n",
                            "      <td>True</td>\n",
                            "      <td>False</td>\n",
                            "      <td>NaN</td>\n",
                            "      <td>30.0</td>\n",
                            "      <td>False</td>\n",
                            "    </tr>\n",
                            "    <tr>\n",
                            "      <th>34</th>\n",
                            "      <td>atomics</td>\n",
                            "      <td>18</td>\n",
                            "      <td>0.544858</td>\n",
                            "      <td>0.914199</td>\n",
                            "      <td>0.837223</td>\n",
                            "      <td>0.844648</td>\n",
                            "      <td>4</td>\n",
                            "      <td>True</td>\n",
                            "      <td>True</td>\n",
                            "      <td>NaN</td>\n",
                            "      <td>30.0</td>\n",
                            "      <td>True</td>\n",
                            "    </tr>\n",
                            "    <tr>\n",
                            "      <th>35</th>\n",
                            "      <td>atomics</td>\n",
                            "      <td>19</td>\n",
                            "      <td>0.837768</td>\n",
                            "      <td>0.888116</td>\n",
                            "      <td>0.801871</td>\n",
                            "      <td>0.813052</td>\n",
                            "      <td>4</td>\n",
                            "      <td>True</td>\n",
                            "      <td>True</td>\n",
                            "      <td>NaN</td>\n",
                            "      <td>30.0</td>\n",
                            "      <td>False</td>\n",
                            "    </tr>\n",
                            "    <tr>\n",
                            "      <th>36</th>\n",
                            "      <td>atomics</td>\n",
                            "      <td>20</td>\n",
                            "      <td>0.649288</td>\n",
                            "      <td>0.922162</td>\n",
                            "      <td>0.851467</td>\n",
                            "      <td>0.857683</td>\n",
                            "      <td>4</td>\n",
                            "      <td>False</td>\n",
                            "      <td>False</td>\n",
                            "      <td>NaN</td>\n",
                            "      <td>30.0</td>\n",
                            "      <td>True</td>\n",
                            "    </tr>\n",
                            "    <tr>\n",
                            "      <th>37</th>\n",
                            "      <td>atomics</td>\n",
                            "      <td>21</td>\n",
                            "      <td>1.213358</td>\n",
                            "      <td>0.908051</td>\n",
                            "      <td>0.847692</td>\n",
                            "      <td>0.853970</td>\n",
                            "      <td>4</td>\n",
                            "      <td>False</td>\n",
                            "      <td>False</td>\n",
                            "      <td>NaN</td>\n",
                            "      <td>30.0</td>\n",
                            "      <td>False</td>\n",
                            "    </tr>\n",
                            "    <tr>\n",
                            "      <th>38</th>\n",
                            "      <td>atomics</td>\n",
                            "      <td>22</td>\n",
                            "      <td>0.651017</td>\n",
                            "      <td>0.898820</td>\n",
                            "      <td>0.814913</td>\n",
                            "      <td>0.825245</td>\n",
                            "      <td>4</td>\n",
                            "      <td>False</td>\n",
                            "      <td>True</td>\n",
                            "      <td>NaN</td>\n",
                            "      <td>30.0</td>\n",
                            "      <td>True</td>\n",
                            "    </tr>\n",
                            "    <tr>\n",
                            "      <th>39</th>\n",
                            "      <td>atomics</td>\n",
                            "      <td>23</td>\n",
                            "      <td>1.210446</td>\n",
                            "      <td>0.904339</td>\n",
                            "      <td>0.844774</td>\n",
                            "      <td>0.850335</td>\n",
                            "      <td>4</td>\n",
                            "      <td>False</td>\n",
                            "      <td>True</td>\n",
                            "      <td>NaN</td>\n",
                            "      <td>30.0</td>\n",
                            "      <td>False</td>\n",
                            "    </tr>\n",
                            "    <tr>\n",
                            "      <th>40</th>\n",
                            "      <td>atomics</td>\n",
                            "      <td>24</td>\n",
                            "      <td>0.561660</td>\n",
                            "      <td>0.919366</td>\n",
                            "      <td>0.848207</td>\n",
                            "      <td>0.854559</td>\n",
                            "      <td>20</td>\n",
                            "      <td>True</td>\n",
                            "      <td>False</td>\n",
                            "      <td>NaN</td>\n",
                            "      <td>30.0</td>\n",
                            "      <td>True</td>\n",
                            "    </tr>\n",
                            "    <tr>\n",
                            "      <th>41</th>\n",
                            "      <td>atomics</td>\n",
                            "      <td>25</td>\n",
                            "      <td>0.861831</td>\n",
                            "      <td>0.895952</td>\n",
                            "      <td>0.853612</td>\n",
                            "      <td>0.856999</td>\n",
                            "      <td>20</td>\n",
                            "      <td>True</td>\n",
                            "      <td>False</td>\n",
                            "      <td>NaN</td>\n",
                            "      <td>30.0</td>\n",
                            "      <td>False</td>\n",
                            "    </tr>\n",
                            "    <tr>\n",
                            "      <th>42</th>\n",
                            "      <td>atomics</td>\n",
                            "      <td>26</td>\n",
                            "      <td>0.553367</td>\n",
                            "      <td>0.917001</td>\n",
                            "      <td>0.841771</td>\n",
                            "      <td>0.849199</td>\n",
                            "      <td>20</td>\n",
                            "      <td>True</td>\n",
                            "      <td>True</td>\n",
                            "      <td>NaN</td>\n",
                            "      <td>30.0</td>\n",
                            "      <td>True</td>\n",
                            "    </tr>\n",
                            "    <tr>\n",
                            "      <th>43</th>\n",
                            "      <td>atomics</td>\n",
                            "      <td>27</td>\n",
                            "      <td>0.864062</td>\n",
                            "      <td>0.895167</td>\n",
                            "      <td>0.842458</td>\n",
                            "      <td>0.848789</td>\n",
                            "      <td>20</td>\n",
                            "      <td>True</td>\n",
                            "      <td>True</td>\n",
                            "      <td>NaN</td>\n",
                            "      <td>30.0</td>\n",
                            "      <td>False</td>\n",
                            "    </tr>\n",
                            "    <tr>\n",
                            "      <th>44</th>\n",
                            "      <td>atomics</td>\n",
                            "      <td>28</td>\n",
                            "      <td>0.655202</td>\n",
                            "      <td>0.915539</td>\n",
                            "      <td>0.841170</td>\n",
                            "      <td>0.848713</td>\n",
                            "      <td>20</td>\n",
                            "      <td>False</td>\n",
                            "      <td>False</td>\n",
                            "      <td>NaN</td>\n",
                            "      <td>30.0</td>\n",
                            "      <td>True</td>\n",
                            "    </tr>\n",
                            "    <tr>\n",
                            "      <th>45</th>\n",
                            "      <td>atomics</td>\n",
                            "      <td>29</td>\n",
                            "      <td>1.207552</td>\n",
                            "      <td>0.902763</td>\n",
                            "      <td>0.860563</td>\n",
                            "      <td>0.864595</td>\n",
                            "      <td>20</td>\n",
                            "      <td>False</td>\n",
                            "      <td>False</td>\n",
                            "      <td>NaN</td>\n",
                            "      <td>30.0</td>\n",
                            "      <td>False</td>\n",
                            "    </tr>\n",
                            "    <tr>\n",
                            "      <th>46</th>\n",
                            "      <td>atomics</td>\n",
                            "      <td>30</td>\n",
                            "      <td>0.658543</td>\n",
                            "      <td>0.907511</td>\n",
                            "      <td>0.828986</td>\n",
                            "      <td>0.837505</td>\n",
                            "      <td>20</td>\n",
                            "      <td>False</td>\n",
                            "      <td>True</td>\n",
                            "      <td>NaN</td>\n",
                            "      <td>30.0</td>\n",
                            "      <td>True</td>\n",
                            "    </tr>\n",
                            "    <tr>\n",
                            "      <th>47</th>\n",
                            "      <td>atomics</td>\n",
                            "      <td>31</td>\n",
                            "      <td>1.237568</td>\n",
                            "      <td>0.904099</td>\n",
                            "      <td>0.834735</td>\n",
                            "      <td>0.844175</td>\n",
                            "      <td>20</td>\n",
                            "      <td>False</td>\n",
                            "      <td>True</td>\n",
                            "      <td>NaN</td>\n",
                            "      <td>30.0</td>\n",
                            "      <td>False</td>\n",
                            "    </tr>\n",
                            "  </tbody>\n",
                            "</table>\n",
                            "</div>"
                        ],
                        "text/plain": [
                            "        type  config  val_loss       auc       acc        f1  n_concepts  \\\n",
                            "0   original       0  0.519994  0.911697  0.831989  0.840528           4   \n",
                            "1   original       1  0.522041  0.916421  0.837910  0.845909           4   \n",
                            "2   original       2  0.517659  0.912625  0.834392  0.842834           4   \n",
                            "3   original       3  0.517217  0.912472  0.839797  0.847130           4   \n",
                            "4   original       4  0.523946  0.912431  0.833705  0.841121           4   \n",
                            "5   original       5  0.532511  0.913204  0.837738  0.845190           4   \n",
                            "6   original       6  0.522208  0.911759  0.835593  0.843694           4   \n",
                            "7   original       7  0.525868  0.917177  0.843659  0.851095           4   \n",
                            "8   original       8  0.529575  0.913147  0.837223  0.845383          20   \n",
                            "9   original       9  0.533516  0.915003  0.837395  0.844990          20   \n",
                            "10  original      10  0.525910  0.912999  0.839883  0.846999          20   \n",
                            "11  original      11  0.531943  0.916404  0.840141  0.847082          20   \n",
                            "12  original      12  0.533839  0.905736  0.830874  0.839168          20   \n",
                            "13  original      13  0.538104  0.909678  0.834477  0.842415          20   \n",
                            "14  original      14  0.527687  0.912845  0.837052  0.845068          20   \n",
                            "15  original      15  0.536820  0.914693  0.837910  0.845177          20   \n",
                            "16   atomics       0  0.531600  0.913230  0.837910  0.845379           4   \n",
                            "17   atomics       1  0.572459  0.902001  0.827784  0.833098           4   \n",
                            "18   atomics       2  0.534511  0.915804  0.840055  0.847588           4   \n",
                            "19   atomics       3  0.583365  0.898608  0.833448  0.842643           4   \n",
                            "20   atomics       4  0.540926  0.915349  0.841599  0.848738           4   \n",
                            "21   atomics       5  0.623107  0.900487  0.855329  0.859710           4   \n",
                            "22   atomics       6  0.529987  0.913774  0.836279  0.844092           4   \n",
                            "23   atomics       7  0.623894  0.905699  0.857302  0.860709           4   \n",
                            "24   atomics       8  0.537194  0.918633  0.843144  0.850654          20   \n",
                            "25   atomics       9  0.591889  0.905936  0.858246  0.862034          20   \n",
                            "26   atomics      10  0.550487  0.920970  0.852240  0.858155          20   \n",
                            "27   atomics      11  0.598143  0.897508  0.831817  0.840625          20   \n",
                            "28   atomics      12  0.541652  0.908697  0.829243  0.838053          20   \n",
                            "29   atomics      13  0.638981  0.901205  0.844946  0.851873          20   \n",
                            "30   atomics      14  0.554925  0.921597  0.851725  0.857708          20   \n",
                            "31   atomics      15  0.642435  0.901392  0.839283  0.847239          20   \n",
                            "32   atomics      16  0.546054  0.923170  0.851381  0.857284           4   \n",
                            "33   atomics      17  0.855531  0.899741  0.849580  0.854535           4   \n",
                            "34   atomics      18  0.544858  0.914199  0.837223  0.844648           4   \n",
                            "35   atomics      19  0.837768  0.888116  0.801871  0.813052           4   \n",
                            "36   atomics      20  0.649288  0.922162  0.851467  0.857683           4   \n",
                            "37   atomics      21  1.213358  0.908051  0.847692  0.853970           4   \n",
                            "38   atomics      22  0.651017  0.898820  0.814913  0.825245           4   \n",
                            "39   atomics      23  1.210446  0.904339  0.844774  0.850335           4   \n",
                            "40   atomics      24  0.561660  0.919366  0.848207  0.854559          20   \n",
                            "41   atomics      25  0.861831  0.895952  0.853612  0.856999          20   \n",
                            "42   atomics      26  0.553367  0.917001  0.841771  0.849199          20   \n",
                            "43   atomics      27  0.864062  0.895167  0.842458  0.848789          20   \n",
                            "44   atomics      28  0.655202  0.915539  0.841170  0.848713          20   \n",
                            "45   atomics      29  1.207552  0.902763  0.860563  0.864595          20   \n",
                            "46   atomics      30  0.658543  0.907511  0.828986  0.837505          20   \n",
                            "47   atomics      31  1.237568  0.904099  0.834735  0.844175          20   \n",
                            "\n",
                            "    use_indicators  use_fixes use_only_last_timestep  n_atomics  \\\n",
                            "0             True      False                   True        NaN   \n",
                            "1             True      False                  False        NaN   \n",
                            "2             True       True                   True        NaN   \n",
                            "3             True       True                  False        NaN   \n",
                            "4            False      False                   True        NaN   \n",
                            "5            False      False                  False        NaN   \n",
                            "6            False       True                   True        NaN   \n",
                            "7            False       True                  False        NaN   \n",
                            "8             True      False                   True        NaN   \n",
                            "9             True      False                  False        NaN   \n",
                            "10            True       True                   True        NaN   \n",
                            "11            True       True                  False        NaN   \n",
                            "12           False      False                   True        NaN   \n",
                            "13           False      False                  False        NaN   \n",
                            "14           False       True                   True        NaN   \n",
                            "15           False       True                  False        NaN   \n",
                            "16            True      False                    NaN       10.0   \n",
                            "17            True      False                    NaN       10.0   \n",
                            "18            True       True                    NaN       10.0   \n",
                            "19            True       True                    NaN       10.0   \n",
                            "20           False      False                    NaN       10.0   \n",
                            "21           False      False                    NaN       10.0   \n",
                            "22           False       True                    NaN       10.0   \n",
                            "23           False       True                    NaN       10.0   \n",
                            "24            True      False                    NaN       10.0   \n",
                            "25            True      False                    NaN       10.0   \n",
                            "26            True       True                    NaN       10.0   \n",
                            "27            True       True                    NaN       10.0   \n",
                            "28           False      False                    NaN       10.0   \n",
                            "29           False      False                    NaN       10.0   \n",
                            "30           False       True                    NaN       10.0   \n",
                            "31           False       True                    NaN       10.0   \n",
                            "32            True      False                    NaN       30.0   \n",
                            "33            True      False                    NaN       30.0   \n",
                            "34            True       True                    NaN       30.0   \n",
                            "35            True       True                    NaN       30.0   \n",
                            "36           False      False                    NaN       30.0   \n",
                            "37           False      False                    NaN       30.0   \n",
                            "38           False       True                    NaN       30.0   \n",
                            "39           False       True                    NaN       30.0   \n",
                            "40            True      False                    NaN       30.0   \n",
                            "41            True      False                    NaN       30.0   \n",
                            "42            True       True                    NaN       30.0   \n",
                            "43            True       True                    NaN       30.0   \n",
                            "44           False      False                    NaN       30.0   \n",
                            "45           False      False                    NaN       30.0   \n",
                            "46           False       True                    NaN       30.0   \n",
                            "47           False       True                    NaN       30.0   \n",
                            "\n",
                            "   use_summaries_for_atomics  \n",
                            "0                        NaN  \n",
                            "1                        NaN  \n",
                            "2                        NaN  \n",
                            "3                        NaN  \n",
                            "4                        NaN  \n",
                            "5                        NaN  \n",
                            "6                        NaN  \n",
                            "7                        NaN  \n",
                            "8                        NaN  \n",
                            "9                        NaN  \n",
                            "10                       NaN  \n",
                            "11                       NaN  \n",
                            "12                       NaN  \n",
                            "13                       NaN  \n",
                            "14                       NaN  \n",
                            "15                       NaN  \n",
                            "16                      True  \n",
                            "17                     False  \n",
                            "18                      True  \n",
                            "19                     False  \n",
                            "20                      True  \n",
                            "21                     False  \n",
                            "22                      True  \n",
                            "23                     False  \n",
                            "24                      True  \n",
                            "25                     False  \n",
                            "26                      True  \n",
                            "27                     False  \n",
                            "28                      True  \n",
                            "29                     False  \n",
                            "30                      True  \n",
                            "31                     False  \n",
                            "32                      True  \n",
                            "33                     False  \n",
                            "34                      True  \n",
                            "35                     False  \n",
                            "36                      True  \n",
                            "37                     False  \n",
                            "38                      True  \n",
                            "39                     False  \n",
                            "40                      True  \n",
                            "41                     False  \n",
                            "42                      True  \n",
                            "43                     False  \n",
                            "44                      True  \n",
                            "45                     False  \n",
                            "46                      True  \n",
                            "47                     False  "
                        ]
                    },
                    "execution_count": 14,
                    "metadata": {},
                    "output_type": "execute_result"
                }
            ],
            "source": [
                "columns = [\"type\", \"config\", \"val_loss\", \"auc\", \"acc\", \"f1\"]\n",
                "dtypes = {'type': str, 'config': int, 'val_loss': float, 'auc': float, 'acc': float, 'f1': float}\n",
                "\n",
                "df_og = pd.DataFrame(histories_original, columns=columns).astype(dtypes)\n",
                "df_og = df_og.join(pd.DataFrame(all_config_permutations_og), on=\"config\", how=\"left\")\n",
                "\n",
                "df_atomics = pd.DataFrame(history_atomics, columns=columns).astype(dtypes)\n",
                "df_atomics = df_atomics.join(pd.DataFrame(all_config_permutations_atomics), on=\"config\", how=\"left\")\n",
                "\n",
                "result_df = pd.concat([df_og, df_atomics], ignore_index=True)\n",
                "result_df\n"
            ]
        },
        {
            "cell_type": "code",
            "execution_count": 15,
            "metadata": {},
            "outputs": [
                {
                    "name": "stdout",
                    "output_type": "stream",
                    "text": [
                        "auc 0.9116973876953125\n",
                        "acc 0.8319889903068542\n",
                        "f1 0.8405277729034424\n"
                    ]
                }
            ],
            "source": [
                "for col in result_df.columns[3:6]:\n",
                "    baseline = result_df[(result_df['type'] == 'original') & (result_df['config'] == 0)][col].values[0]\n",
                "    print(col, baseline)\n",
                "    result_df[f'{col}_abs_imp'] = result_df[col] - baseline\n",
                "    # result_df[f'{col}_rel_imp'] = result_df[f'{col}_abs_imp'] / baseline\n",
                "# result_df"
            ]
        },
        {
            "cell_type": "code",
            "execution_count": 16,
            "metadata": {},
            "outputs": [
                {
                    "data": {
                        "text/html": [
                            "<div>\n",
                            "<style scoped>\n",
                            "    .dataframe tbody tr th:only-of-type {\n",
                            "        vertical-align: middle;\n",
                            "    }\n",
                            "\n",
                            "    .dataframe tbody tr th {\n",
                            "        vertical-align: top;\n",
                            "    }\n",
                            "\n",
                            "    .dataframe thead th {\n",
                            "        text-align: right;\n",
                            "    }\n",
                            "</style>\n",
                            "<table border=\"1\" class=\"dataframe\">\n",
                            "  <thead>\n",
                            "    <tr style=\"text-align: right;\">\n",
                            "      <th></th>\n",
                            "      <th>type</th>\n",
                            "      <th>config</th>\n",
                            "      <th>val_loss</th>\n",
                            "      <th>auc</th>\n",
                            "      <th>acc</th>\n",
                            "      <th>f1</th>\n",
                            "      <th>n_concepts</th>\n",
                            "      <th>use_indicators</th>\n",
                            "      <th>use_fixes</th>\n",
                            "      <th>use_only_last_timestep</th>\n",
                            "      <th>n_atomics</th>\n",
                            "      <th>use_summaries_for_atomics</th>\n",
                            "      <th>auc_abs_imp</th>\n",
                            "      <th>acc_abs_imp</th>\n",
                            "      <th>f1_abs_imp</th>\n",
                            "    </tr>\n",
                            "  </thead>\n",
                            "  <tbody>\n",
                            "    <tr>\n",
                            "      <th>45</th>\n",
                            "      <td>atomics</td>\n",
                            "      <td>29</td>\n",
                            "      <td>1.207552</td>\n",
                            "      <td>0.902763</td>\n",
                            "      <td>0.860563</td>\n",
                            "      <td>0.864595</td>\n",
                            "      <td>20</td>\n",
                            "      <td>False</td>\n",
                            "      <td>False</td>\n",
                            "      <td>NaN</td>\n",
                            "      <td>30.0</td>\n",
                            "      <td>False</td>\n",
                            "      <td>-0.008935</td>\n",
                            "      <td>0.028574</td>\n",
                            "      <td>0.024067</td>\n",
                            "    </tr>\n",
                            "    <tr>\n",
                            "      <th>25</th>\n",
                            "      <td>atomics</td>\n",
                            "      <td>9</td>\n",
                            "      <td>0.591889</td>\n",
                            "      <td>0.905936</td>\n",
                            "      <td>0.858246</td>\n",
                            "      <td>0.862034</td>\n",
                            "      <td>20</td>\n",
                            "      <td>True</td>\n",
                            "      <td>False</td>\n",
                            "      <td>NaN</td>\n",
                            "      <td>10.0</td>\n",
                            "      <td>False</td>\n",
                            "      <td>-0.005761</td>\n",
                            "      <td>0.026257</td>\n",
                            "      <td>0.021507</td>\n",
                            "    </tr>\n",
                            "    <tr>\n",
                            "      <th>23</th>\n",
                            "      <td>atomics</td>\n",
                            "      <td>7</td>\n",
                            "      <td>0.623894</td>\n",
                            "      <td>0.905699</td>\n",
                            "      <td>0.857302</td>\n",
                            "      <td>0.860709</td>\n",
                            "      <td>4</td>\n",
                            "      <td>False</td>\n",
                            "      <td>True</td>\n",
                            "      <td>NaN</td>\n",
                            "      <td>10.0</td>\n",
                            "      <td>False</td>\n",
                            "      <td>-0.005998</td>\n",
                            "      <td>0.025313</td>\n",
                            "      <td>0.020181</td>\n",
                            "    </tr>\n",
                            "    <tr>\n",
                            "      <th>21</th>\n",
                            "      <td>atomics</td>\n",
                            "      <td>5</td>\n",
                            "      <td>0.623107</td>\n",
                            "      <td>0.900487</td>\n",
                            "      <td>0.855329</td>\n",
                            "      <td>0.859710</td>\n",
                            "      <td>4</td>\n",
                            "      <td>False</td>\n",
                            "      <td>False</td>\n",
                            "      <td>NaN</td>\n",
                            "      <td>10.0</td>\n",
                            "      <td>False</td>\n",
                            "      <td>-0.011211</td>\n",
                            "      <td>0.023340</td>\n",
                            "      <td>0.019183</td>\n",
                            "    </tr>\n",
                            "    <tr>\n",
                            "      <th>41</th>\n",
                            "      <td>atomics</td>\n",
                            "      <td>25</td>\n",
                            "      <td>0.861831</td>\n",
                            "      <td>0.895952</td>\n",
                            "      <td>0.853612</td>\n",
                            "      <td>0.856999</td>\n",
                            "      <td>20</td>\n",
                            "      <td>True</td>\n",
                            "      <td>False</td>\n",
                            "      <td>NaN</td>\n",
                            "      <td>30.0</td>\n",
                            "      <td>False</td>\n",
                            "      <td>-0.015745</td>\n",
                            "      <td>0.021623</td>\n",
                            "      <td>0.016471</td>\n",
                            "    </tr>\n",
                            "    <tr>\n",
                            "      <th>...</th>\n",
                            "      <td>...</td>\n",
                            "      <td>...</td>\n",
                            "      <td>...</td>\n",
                            "      <td>...</td>\n",
                            "      <td>...</td>\n",
                            "      <td>...</td>\n",
                            "      <td>...</td>\n",
                            "      <td>...</td>\n",
                            "      <td>...</td>\n",
                            "      <td>...</td>\n",
                            "      <td>...</td>\n",
                            "      <td>...</td>\n",
                            "      <td>...</td>\n",
                            "      <td>...</td>\n",
                            "      <td>...</td>\n",
                            "    </tr>\n",
                            "    <tr>\n",
                            "      <th>28</th>\n",
                            "      <td>atomics</td>\n",
                            "      <td>12</td>\n",
                            "      <td>0.541652</td>\n",
                            "      <td>0.908697</td>\n",
                            "      <td>0.829243</td>\n",
                            "      <td>0.838053</td>\n",
                            "      <td>20</td>\n",
                            "      <td>False</td>\n",
                            "      <td>False</td>\n",
                            "      <td>NaN</td>\n",
                            "      <td>10.0</td>\n",
                            "      <td>True</td>\n",
                            "      <td>-0.003000</td>\n",
                            "      <td>-0.002746</td>\n",
                            "      <td>-0.002474</td>\n",
                            "    </tr>\n",
                            "    <tr>\n",
                            "      <th>46</th>\n",
                            "      <td>atomics</td>\n",
                            "      <td>30</td>\n",
                            "      <td>0.658543</td>\n",
                            "      <td>0.907511</td>\n",
                            "      <td>0.828986</td>\n",
                            "      <td>0.837505</td>\n",
                            "      <td>20</td>\n",
                            "      <td>False</td>\n",
                            "      <td>True</td>\n",
                            "      <td>NaN</td>\n",
                            "      <td>30.0</td>\n",
                            "      <td>True</td>\n",
                            "      <td>-0.004186</td>\n",
                            "      <td>-0.003003</td>\n",
                            "      <td>-0.003023</td>\n",
                            "    </tr>\n",
                            "    <tr>\n",
                            "      <th>17</th>\n",
                            "      <td>atomics</td>\n",
                            "      <td>1</td>\n",
                            "      <td>0.572459</td>\n",
                            "      <td>0.902001</td>\n",
                            "      <td>0.827784</td>\n",
                            "      <td>0.833098</td>\n",
                            "      <td>4</td>\n",
                            "      <td>True</td>\n",
                            "      <td>False</td>\n",
                            "      <td>NaN</td>\n",
                            "      <td>10.0</td>\n",
                            "      <td>False</td>\n",
                            "      <td>-0.009697</td>\n",
                            "      <td>-0.004205</td>\n",
                            "      <td>-0.007430</td>\n",
                            "    </tr>\n",
                            "    <tr>\n",
                            "      <th>38</th>\n",
                            "      <td>atomics</td>\n",
                            "      <td>22</td>\n",
                            "      <td>0.651017</td>\n",
                            "      <td>0.898820</td>\n",
                            "      <td>0.814913</td>\n",
                            "      <td>0.825245</td>\n",
                            "      <td>4</td>\n",
                            "      <td>False</td>\n",
                            "      <td>True</td>\n",
                            "      <td>NaN</td>\n",
                            "      <td>30.0</td>\n",
                            "      <td>True</td>\n",
                            "      <td>-0.012877</td>\n",
                            "      <td>-0.017076</td>\n",
                            "      <td>-0.015283</td>\n",
                            "    </tr>\n",
                            "    <tr>\n",
                            "      <th>35</th>\n",
                            "      <td>atomics</td>\n",
                            "      <td>19</td>\n",
                            "      <td>0.837768</td>\n",
                            "      <td>0.888116</td>\n",
                            "      <td>0.801871</td>\n",
                            "      <td>0.813052</td>\n",
                            "      <td>4</td>\n",
                            "      <td>True</td>\n",
                            "      <td>True</td>\n",
                            "      <td>NaN</td>\n",
                            "      <td>30.0</td>\n",
                            "      <td>False</td>\n",
                            "      <td>-0.023581</td>\n",
                            "      <td>-0.030118</td>\n",
                            "      <td>-0.027476</td>\n",
                            "    </tr>\n",
                            "  </tbody>\n",
                            "</table>\n",
                            "<p>48 rows × 15 columns</p>\n",
                            "</div>"
                        ],
                        "text/plain": [
                            "       type  config  val_loss       auc       acc        f1  n_concepts  \\\n",
                            "45  atomics      29  1.207552  0.902763  0.860563  0.864595          20   \n",
                            "25  atomics       9  0.591889  0.905936  0.858246  0.862034          20   \n",
                            "23  atomics       7  0.623894  0.905699  0.857302  0.860709           4   \n",
                            "21  atomics       5  0.623107  0.900487  0.855329  0.859710           4   \n",
                            "41  atomics      25  0.861831  0.895952  0.853612  0.856999          20   \n",
                            "..      ...     ...       ...       ...       ...       ...         ...   \n",
                            "28  atomics      12  0.541652  0.908697  0.829243  0.838053          20   \n",
                            "46  atomics      30  0.658543  0.907511  0.828986  0.837505          20   \n",
                            "17  atomics       1  0.572459  0.902001  0.827784  0.833098           4   \n",
                            "38  atomics      22  0.651017  0.898820  0.814913  0.825245           4   \n",
                            "35  atomics      19  0.837768  0.888116  0.801871  0.813052           4   \n",
                            "\n",
                            "    use_indicators  use_fixes use_only_last_timestep  n_atomics  \\\n",
                            "45           False      False                    NaN       30.0   \n",
                            "25            True      False                    NaN       10.0   \n",
                            "23           False       True                    NaN       10.0   \n",
                            "21           False      False                    NaN       10.0   \n",
                            "41            True      False                    NaN       30.0   \n",
                            "..             ...        ...                    ...        ...   \n",
                            "28           False      False                    NaN       10.0   \n",
                            "46           False       True                    NaN       30.0   \n",
                            "17            True      False                    NaN       10.0   \n",
                            "38           False       True                    NaN       30.0   \n",
                            "35            True       True                    NaN       30.0   \n",
                            "\n",
                            "   use_summaries_for_atomics  auc_abs_imp  acc_abs_imp  f1_abs_imp  \n",
                            "45                     False    -0.008935     0.028574    0.024067  \n",
                            "25                     False    -0.005761     0.026257    0.021507  \n",
                            "23                     False    -0.005998     0.025313    0.020181  \n",
                            "21                     False    -0.011211     0.023340    0.019183  \n",
                            "41                     False    -0.015745     0.021623    0.016471  \n",
                            "..                       ...          ...          ...         ...  \n",
                            "28                      True    -0.003000    -0.002746   -0.002474  \n",
                            "46                      True    -0.004186    -0.003003   -0.003023  \n",
                            "17                     False    -0.009697    -0.004205   -0.007430  \n",
                            "38                      True    -0.012877    -0.017076   -0.015283  \n",
                            "35                     False    -0.023581    -0.030118   -0.027476  \n",
                            "\n",
                            "[48 rows x 15 columns]"
                        ]
                    },
                    "execution_count": 16,
                    "metadata": {},
                    "output_type": "execute_result"
                }
            ],
            "source": [
                "pd.set_option('display.max_rows', 20)\n",
                "result_df.sort_values(by='acc', ascending=False)\n",
                "# atomics: atomics, concepts, use_indicators, use_fixes, output_dim, use_summaries_for_atomics\n",
                "# original: concepts, use_indicators, use_fixes, output_dim, use_only_last_timestep\n"
            ]
        },
        {
            "cell_type": "code",
            "execution_count": 17,
            "metadata": {},
            "outputs": [
                {
                    "data": {
                        "text/html": [
                            "<div>\n",
                            "<style scoped>\n",
                            "    .dataframe tbody tr th:only-of-type {\n",
                            "        vertical-align: middle;\n",
                            "    }\n",
                            "\n",
                            "    .dataframe tbody tr th {\n",
                            "        vertical-align: top;\n",
                            "    }\n",
                            "\n",
                            "    .dataframe thead th {\n",
                            "        text-align: right;\n",
                            "    }\n",
                            "</style>\n",
                            "<table border=\"1\" class=\"dataframe\">\n",
                            "  <thead>\n",
                            "    <tr style=\"text-align: right;\">\n",
                            "      <th></th>\n",
                            "      <th></th>\n",
                            "      <th>auc</th>\n",
                            "      <th>acc</th>\n",
                            "      <th>f1</th>\n",
                            "    </tr>\n",
                            "    <tr>\n",
                            "      <th>type</th>\n",
                            "      <th>n_atomics</th>\n",
                            "      <th></th>\n",
                            "      <th></th>\n",
                            "      <th></th>\n",
                            "    </tr>\n",
                            "  </thead>\n",
                            "  <tbody>\n",
                            "    <tr>\n",
                            "      <th rowspan=\"2\" valign=\"top\">atomics</th>\n",
                            "      <th>10.0</th>\n",
                            "      <td>0.908806</td>\n",
                            "      <td>0.842522</td>\n",
                            "      <td>0.849269</td>\n",
                            "    </tr>\n",
                            "    <tr>\n",
                            "      <th>30.0</th>\n",
                            "      <td>0.907250</td>\n",
                            "      <td>0.840650</td>\n",
                            "      <td>0.847580</td>\n",
                            "    </tr>\n",
                            "    <tr>\n",
                            "      <th>original</th>\n",
                            "      <th>NaN</th>\n",
                            "      <td>0.913018</td>\n",
                            "      <td>0.836859</td>\n",
                            "      <td>0.844611</td>\n",
                            "    </tr>\n",
                            "  </tbody>\n",
                            "</table>\n",
                            "</div>"
                        ],
                        "text/plain": [
                            "                         auc       acc        f1\n",
                            "type     n_atomics                              \n",
                            "atomics  10.0       0.908806  0.842522  0.849269\n",
                            "         30.0       0.907250  0.840650  0.847580\n",
                            "original NaN        0.913018  0.836859  0.844611"
                        ]
                    },
                    "metadata": {},
                    "output_type": "display_data"
                },
                {
                    "data": {
                        "text/html": [
                            "<div>\n",
                            "<style scoped>\n",
                            "    .dataframe tbody tr th:only-of-type {\n",
                            "        vertical-align: middle;\n",
                            "    }\n",
                            "\n",
                            "    .dataframe tbody tr th {\n",
                            "        vertical-align: top;\n",
                            "    }\n",
                            "\n",
                            "    .dataframe thead th {\n",
                            "        text-align: right;\n",
                            "    }\n",
                            "</style>\n",
                            "<table border=\"1\" class=\"dataframe\">\n",
                            "  <thead>\n",
                            "    <tr style=\"text-align: right;\">\n",
                            "      <th></th>\n",
                            "      <th></th>\n",
                            "      <th>auc</th>\n",
                            "      <th>acc</th>\n",
                            "      <th>f1</th>\n",
                            "    </tr>\n",
                            "    <tr>\n",
                            "      <th>type</th>\n",
                            "      <th>n_concepts</th>\n",
                            "      <th></th>\n",
                            "      <th></th>\n",
                            "      <th></th>\n",
                            "    </tr>\n",
                            "  </thead>\n",
                            "  <tbody>\n",
                            "    <tr>\n",
                            "      <th rowspan=\"2\" valign=\"top\">atomics</th>\n",
                            "      <th>4</th>\n",
                            "      <td>0.907722</td>\n",
                            "      <td>0.839288</td>\n",
                            "      <td>0.846169</td>\n",
                            "    </tr>\n",
                            "    <tr>\n",
                            "      <th>20</th>\n",
                            "      <td>0.908334</td>\n",
                            "      <td>0.843884</td>\n",
                            "      <td>0.850680</td>\n",
                            "    </tr>\n",
                            "    <tr>\n",
                            "      <th rowspan=\"2\" valign=\"top\">original</th>\n",
                            "      <th>4</th>\n",
                            "      <td>0.913473</td>\n",
                            "      <td>0.836848</td>\n",
                            "      <td>0.844688</td>\n",
                            "    </tr>\n",
                            "    <tr>\n",
                            "      <th>20</th>\n",
                            "      <td>0.912563</td>\n",
                            "      <td>0.836869</td>\n",
                            "      <td>0.844535</td>\n",
                            "    </tr>\n",
                            "  </tbody>\n",
                            "</table>\n",
                            "</div>"
                        ],
                        "text/plain": [
                            "                          auc       acc        f1\n",
                            "type     n_concepts                              \n",
                            "atomics  4           0.907722  0.839288  0.846169\n",
                            "         20          0.908334  0.843884  0.850680\n",
                            "original 4           0.913473  0.836848  0.844688\n",
                            "         20          0.912563  0.836869  0.844535"
                        ]
                    },
                    "metadata": {},
                    "output_type": "display_data"
                },
                {
                    "data": {
                        "text/html": [
                            "<div>\n",
                            "<style scoped>\n",
                            "    .dataframe tbody tr th:only-of-type {\n",
                            "        vertical-align: middle;\n",
                            "    }\n",
                            "\n",
                            "    .dataframe tbody tr th {\n",
                            "        vertical-align: top;\n",
                            "    }\n",
                            "\n",
                            "    .dataframe thead th {\n",
                            "        text-align: right;\n",
                            "    }\n",
                            "</style>\n",
                            "<table border=\"1\" class=\"dataframe\">\n",
                            "  <thead>\n",
                            "    <tr style=\"text-align: right;\">\n",
                            "      <th></th>\n",
                            "      <th></th>\n",
                            "      <th>auc</th>\n",
                            "      <th>acc</th>\n",
                            "      <th>f1</th>\n",
                            "    </tr>\n",
                            "    <tr>\n",
                            "      <th>type</th>\n",
                            "      <th>use_fixes</th>\n",
                            "      <th></th>\n",
                            "      <th></th>\n",
                            "      <th></th>\n",
                            "    </tr>\n",
                            "  </thead>\n",
                            "  <tbody>\n",
                            "    <tr>\n",
                            "      <th rowspan=\"2\" valign=\"top\">atomics</th>\n",
                            "      <th>False</th>\n",
                            "      <td>0.909518</td>\n",
                            "      <td>0.846367</td>\n",
                            "      <td>0.852367</td>\n",
                            "    </tr>\n",
                            "    <tr>\n",
                            "      <th>True</th>\n",
                            "      <td>0.906538</td>\n",
                            "      <td>0.836805</td>\n",
                            "      <td>0.844482</td>\n",
                            "    </tr>\n",
                            "    <tr>\n",
                            "      <th rowspan=\"2\" valign=\"top\">original</th>\n",
                            "      <th>False</th>\n",
                            "      <td>0.912165</td>\n",
                            "      <td>0.835164</td>\n",
                            "      <td>0.843088</td>\n",
                            "    </tr>\n",
                            "    <tr>\n",
                            "      <th>True</th>\n",
                            "      <td>0.913872</td>\n",
                            "      <td>0.838553</td>\n",
                            "      <td>0.846135</td>\n",
                            "    </tr>\n",
                            "  </tbody>\n",
                            "</table>\n",
                            "</div>"
                        ],
                        "text/plain": [
                            "                         auc       acc        f1\n",
                            "type     use_fixes                              \n",
                            "atomics  False      0.909518  0.846367  0.852367\n",
                            "         True       0.906538  0.836805  0.844482\n",
                            "original False      0.912165  0.835164  0.843088\n",
                            "         True       0.913872  0.838553  0.846135"
                        ]
                    },
                    "metadata": {},
                    "output_type": "display_data"
                },
                {
                    "data": {
                        "text/html": [
                            "<div>\n",
                            "<style scoped>\n",
                            "    .dataframe tbody tr th:only-of-type {\n",
                            "        vertical-align: middle;\n",
                            "    }\n",
                            "\n",
                            "    .dataframe tbody tr th {\n",
                            "        vertical-align: top;\n",
                            "    }\n",
                            "\n",
                            "    .dataframe thead th {\n",
                            "        text-align: right;\n",
                            "    }\n",
                            "</style>\n",
                            "<table border=\"1\" class=\"dataframe\">\n",
                            "  <thead>\n",
                            "    <tr style=\"text-align: right;\">\n",
                            "      <th></th>\n",
                            "      <th></th>\n",
                            "      <th>auc</th>\n",
                            "      <th>acc</th>\n",
                            "      <th>f1</th>\n",
                            "    </tr>\n",
                            "    <tr>\n",
                            "      <th>type</th>\n",
                            "      <th>use_indicators</th>\n",
                            "      <th></th>\n",
                            "      <th></th>\n",
                            "      <th></th>\n",
                            "    </tr>\n",
                            "  </thead>\n",
                            "  <tbody>\n",
                            "    <tr>\n",
                            "      <th rowspan=\"2\" valign=\"top\">atomics</th>\n",
                            "      <th>False</th>\n",
                            "      <td>0.908218</td>\n",
                            "      <td>0.842500</td>\n",
                            "      <td>0.849396</td>\n",
                            "    </tr>\n",
                            "    <tr>\n",
                            "      <th>True</th>\n",
                            "      <td>0.907838</td>\n",
                            "      <td>0.840672</td>\n",
                            "      <td>0.847452</td>\n",
                            "    </tr>\n",
                            "    <tr>\n",
                            "      <th rowspan=\"2\" valign=\"top\">original</th>\n",
                            "      <th>False</th>\n",
                            "      <td>0.912190</td>\n",
                            "      <td>0.836376</td>\n",
                            "      <td>0.844116</td>\n",
                            "    </tr>\n",
                            "    <tr>\n",
                            "      <th>True</th>\n",
                            "      <td>0.913846</td>\n",
                            "      <td>0.837341</td>\n",
                            "      <td>0.845107</td>\n",
                            "    </tr>\n",
                            "  </tbody>\n",
                            "</table>\n",
                            "</div>"
                        ],
                        "text/plain": [
                            "                              auc       acc        f1\n",
                            "type     use_indicators                              \n",
                            "atomics  False           0.908218  0.842500  0.849396\n",
                            "         True            0.907838  0.840672  0.847452\n",
                            "original False           0.912190  0.836376  0.844116\n",
                            "         True            0.913846  0.837341  0.845107"
                        ]
                    },
                    "metadata": {},
                    "output_type": "display_data"
                },
                {
                    "data": {
                        "text/html": [
                            "<div>\n",
                            "<style scoped>\n",
                            "    .dataframe tbody tr th:only-of-type {\n",
                            "        vertical-align: middle;\n",
                            "    }\n",
                            "\n",
                            "    .dataframe tbody tr th {\n",
                            "        vertical-align: top;\n",
                            "    }\n",
                            "\n",
                            "    .dataframe thead th {\n",
                            "        text-align: right;\n",
                            "    }\n",
                            "</style>\n",
                            "<table border=\"1\" class=\"dataframe\">\n",
                            "  <thead>\n",
                            "    <tr style=\"text-align: right;\">\n",
                            "      <th></th>\n",
                            "      <th></th>\n",
                            "      <th>auc</th>\n",
                            "      <th>acc</th>\n",
                            "      <th>f1</th>\n",
                            "    </tr>\n",
                            "    <tr>\n",
                            "      <th>type</th>\n",
                            "      <th>use_only_last_timestep</th>\n",
                            "      <th></th>\n",
                            "      <th></th>\n",
                            "      <th></th>\n",
                            "    </tr>\n",
                            "  </thead>\n",
                            "  <tbody>\n",
                            "    <tr>\n",
                            "      <th>atomics</th>\n",
                            "      <th>NaN</th>\n",
                            "      <td>0.908028</td>\n",
                            "      <td>0.841586</td>\n",
                            "      <td>0.848424</td>\n",
                            "    </tr>\n",
                            "    <tr>\n",
                            "      <th rowspan=\"2\" valign=\"top\">original</th>\n",
                            "      <th>False</th>\n",
                            "      <td>0.914382</td>\n",
                            "      <td>0.838628</td>\n",
                            "      <td>0.846124</td>\n",
                            "    </tr>\n",
                            "    <tr>\n",
                            "      <th>True</th>\n",
                            "      <td>0.911655</td>\n",
                            "      <td>0.835089</td>\n",
                            "      <td>0.843099</td>\n",
                            "    </tr>\n",
                            "  </tbody>\n",
                            "</table>\n",
                            "</div>"
                        ],
                        "text/plain": [
                            "                                      auc       acc        f1\n",
                            "type     use_only_last_timestep                              \n",
                            "atomics  NaN                     0.908028  0.841586  0.848424\n",
                            "original False                   0.914382  0.838628  0.846124\n",
                            "         True                    0.911655  0.835089  0.843099"
                        ]
                    },
                    "metadata": {},
                    "output_type": "display_data"
                },
                {
                    "data": {
                        "text/html": [
                            "<div>\n",
                            "<style scoped>\n",
                            "    .dataframe tbody tr th:only-of-type {\n",
                            "        vertical-align: middle;\n",
                            "    }\n",
                            "\n",
                            "    .dataframe tbody tr th {\n",
                            "        vertical-align: top;\n",
                            "    }\n",
                            "\n",
                            "    .dataframe thead th {\n",
                            "        text-align: right;\n",
                            "    }\n",
                            "</style>\n",
                            "<table border=\"1\" class=\"dataframe\">\n",
                            "  <thead>\n",
                            "    <tr style=\"text-align: right;\">\n",
                            "      <th></th>\n",
                            "      <th></th>\n",
                            "      <th>auc</th>\n",
                            "      <th>acc</th>\n",
                            "      <th>f1</th>\n",
                            "    </tr>\n",
                            "    <tr>\n",
                            "      <th>type</th>\n",
                            "      <th>use_summaries_for_atomics</th>\n",
                            "      <th></th>\n",
                            "      <th></th>\n",
                            "      <th></th>\n",
                            "    </tr>\n",
                            "  </thead>\n",
                            "  <tbody>\n",
                            "    <tr>\n",
                            "      <th rowspan=\"2\" valign=\"top\">atomics</th>\n",
                            "      <th>False</th>\n",
                            "      <td>0.900692</td>\n",
                            "      <td>0.842715</td>\n",
                            "      <td>0.849024</td>\n",
                            "    </tr>\n",
                            "    <tr>\n",
                            "      <th>True</th>\n",
                            "      <td>0.915364</td>\n",
                            "      <td>0.840457</td>\n",
                            "      <td>0.847825</td>\n",
                            "    </tr>\n",
                            "    <tr>\n",
                            "      <th>original</th>\n",
                            "      <th>NaN</th>\n",
                            "      <td>0.913018</td>\n",
                            "      <td>0.836859</td>\n",
                            "      <td>0.844611</td>\n",
                            "    </tr>\n",
                            "  </tbody>\n",
                            "</table>\n",
                            "</div>"
                        ],
                        "text/plain": [
                            "                                         auc       acc        f1\n",
                            "type     use_summaries_for_atomics                              \n",
                            "atomics  False                      0.900692  0.842715  0.849024\n",
                            "         True                       0.915364  0.840457  0.847825\n",
                            "original NaN                        0.913018  0.836859  0.844611"
                        ]
                    },
                    "metadata": {},
                    "output_type": "display_data"
                },
                {
                    "data": {
                        "text/html": [
                            "<div>\n",
                            "<style scoped>\n",
                            "    .dataframe tbody tr th:only-of-type {\n",
                            "        vertical-align: middle;\n",
                            "    }\n",
                            "\n",
                            "    .dataframe tbody tr th {\n",
                            "        vertical-align: top;\n",
                            "    }\n",
                            "\n",
                            "    .dataframe thead th {\n",
                            "        text-align: right;\n",
                            "    }\n",
                            "</style>\n",
                            "<table border=\"1\" class=\"dataframe\">\n",
                            "  <thead>\n",
                            "    <tr style=\"text-align: right;\">\n",
                            "      <th></th>\n",
                            "      <th>auc</th>\n",
                            "      <th>acc</th>\n",
                            "      <th>f1</th>\n",
                            "    </tr>\n",
                            "    <tr>\n",
                            "      <th>type</th>\n",
                            "      <th></th>\n",
                            "      <th></th>\n",
                            "      <th></th>\n",
                            "    </tr>\n",
                            "  </thead>\n",
                            "  <tbody>\n",
                            "    <tr>\n",
                            "      <th>atomics</th>\n",
                            "      <td>0.908028</td>\n",
                            "      <td>0.841586</td>\n",
                            "      <td>0.848424</td>\n",
                            "    </tr>\n",
                            "    <tr>\n",
                            "      <th>original</th>\n",
                            "      <td>0.913018</td>\n",
                            "      <td>0.836859</td>\n",
                            "      <td>0.844611</td>\n",
                            "    </tr>\n",
                            "  </tbody>\n",
                            "</table>\n",
                            "</div>"
                        ],
                        "text/plain": [
                            "               auc       acc        f1\n",
                            "type                                  \n",
                            "atomics   0.908028  0.841586  0.848424\n",
                            "original  0.913018  0.836859  0.844611"
                        ]
                    },
                    "metadata": {},
                    "output_type": "display_data"
                }
            ],
            "source": [
                "for key in sorted(set(list(all_config_permutations_og[0].keys()) + list(all_config_permutations_atomics[0].keys()))):\n",
                "    display(result_df.groupby([\"type\", key], dropna=False)[[\"auc\", \"acc\", \"f1\"]].mean())\n",
                "\n",
                "display(result_df.groupby(\"type\")[[\"auc\", \"acc\", \"f1\"]].mean())"
            ]
        },
        {
            "cell_type": "markdown",
            "metadata": {},
            "source": [
                "## Optimization"
            ]
        },
        {
            "cell_type": "code",
            "execution_count": 33,
            "metadata": {},
            "outputs": [
                {
                    "name": "stderr",
                    "output_type": "stream",
                    "text": [
                        "/usr/local/lib/python3.10/dist-packages/torch/nn/modules/lazy.py:180: UserWarning: Lazy modules are a new feature under heavy development so changes to the API or functionality can happen at any moment.\n",
                        "  warnings.warn('Lazy modules are a new feature under heavy development '\n"
                    ]
                },
                {
                    "name": "stdout",
                    "output_type": "stream",
                    "text": [
                        "Loaded model from /workdir/optimal-summaries-public/_models/vasopressor/original/vaso_c4_indTrue_fixesFalse_onlylasttimestepTrue_output_dim2_gradnormFalse.pt\n",
                        "AUC 0.9174805283546448\n",
                        "ACC 0.5\n",
                        "F1 0.6666666865348816\n"
                    ]
                }
            ],
            "source": [
                "# feature weights\n",
                "config_original = {\n",
                "    \"n_concepts\": 4,\n",
                "    \"use_indicators\": True,\n",
                "    \"use_fixes\": False,\n",
                "    \"use_only_last_timestep\": True,\n",
                "    \"use_grad_norm\": False,\n",
                "}\n",
                "\n",
                "experiment_folder = \"/workdir/optimal-summaries-public/_models/vasopressor/original/\"\n",
                "model_path = experiment_folder + \"\".join([f\"{key}_{{{key}}}_\" for key in config_original.keys()]) + \"seed_{seed}.pt\"\n",
                "\n",
                "train_loader, val_loader, test_loader, class_weights, num_classes, changing_vars, static_names, seq_len = load_and_create_MIMIC_dataloader(output_dim = 2, batch_size = 512, random_state = random_seed)\n",
                "\n",
                "top_k_file = \"\" # \"/workdir/optimal-summaries-public/_models/vasopressor/original/top-k/bottleneck_topkinds.csv\"\n",
                "\n",
                "model = initializeModel(**config_original, static_dim=static_dim, changing_dim=changing_dim, seq_len=seq_len, output_dim=2, top_k=top_k_file)\n",
                "model.fit(train_loader, val_loader, p_weight=class_weights.to(device), save_model_path=model_path.format(**config_original, seed = random_seed), max_epochs=10000)\n",
                "\n",
                "for batch in test_loader:\n",
                "    *data, y = extract_to(batch, device)\n",
                "    probs = model(*data)\n",
                "\n",
                "    auc = auroc_metric(probs, y).item()\n",
                "    acc = accuracy_metric(probs, y).item()\n",
                "    f1 = f1_metric(probs, y).item()\n",
                "\n",
                "auc = auroc_metric.compute().item()\n",
                "acc = accuracy_metric.compute().item()\n",
                "f1 = f1_metric.compute().item()\n",
                "\n",
                "auroc_metric.reset()\n",
                "accuracy_metric.reset()\n",
                "f1_metric.reset()\n",
                "\n",
                "print(\"AUC\", auc)\n",
                "print(\"ACC\", acc)\n",
                "print(\"F1\", f1)\n"
            ]
        },
        {
            "cell_type": "code",
            "execution_count": 25,
            "metadata": {},
            "outputs": [
                {
                    "data": {
                        "text/plain": [
                            "Parameter containing:\n",
                            "tensor([[0., 0., 0.,  ..., 0., 0., 0.],\n",
                            "        [0., 0., 0.,  ..., 0., 0., 0.],\n",
                            "        [0., 0., 0.,  ..., 0., 0., 0.],\n",
                            "        [0., 0., 0.,  ..., 0., 0., 0.]], device='cuda:8', requires_grad=True)"
                        ]
                    },
                    "execution_count": 25,
                    "metadata": {},
                    "output_type": "execute_result"
                }
            ],
            "source": [
                "model.bottleneck.weight"
            ]
        },
        {
            "cell_type": "code",
            "execution_count": 26,
            "metadata": {},
            "outputs": [
                {
                    "data": {
                        "text/plain": [
                            "(4, 386)"
                        ]
                    },
                    "execution_count": 26,
                    "metadata": {},
                    "output_type": "execute_result"
                }
            ],
            "source": [
                "abs_bottleneck_weights = model.bottleneck.weight.cpu().detach().numpy()\n",
                "abs_bottleneck_weights = np.abs(abs_bottleneck_weights)\n",
                "abs_bottleneck_weights.shape\n"
            ]
        },
        {
            "cell_type": "code",
            "execution_count": 27,
            "metadata": {},
            "outputs": [
                {
                    "data": {
                        "text/plain": [
                            "True"
                        ]
                    },
                    "execution_count": 27,
                    "metadata": {},
                    "output_type": "execute_result"
                }
            ],
            "source": [
                "(abs_bottleneck_weights == 0).sum() == 4*386"
            ]
        },
        {
            "cell_type": "code",
            "execution_count": 20,
            "metadata": {},
            "outputs": [
                {
                    "name": "stdout",
                    "output_type": "stream",
                    "text": [
                        "Row 1: Selected weights smaller than threshold (0.0001):\n",
                        "386\n",
                        "Row 2: Selected weights smaller than threshold (0.0001):\n",
                        "386\n",
                        "Row 3: Selected weights smaller than threshold (0.0001):\n",
                        "386\n",
                        "Row 4: Selected weights smaller than threshold (0.0001):\n",
                        "386\n"
                    ]
                }
            ],
            "source": [
                "threshold = 1e-4  # Threshold value\n",
                "\n",
                "# Iterate over each row (dimension)\n",
                "for row_idx in range(abs_bottleneck_weights.shape[0]):\n",
                "    # Select weights bigger than the threshold for the current row\n",
                "    selected_weights = abs_bottleneck_weights[row_idx][abs_bottleneck_weights[row_idx] < threshold]\n",
                "    \n",
                "    # Print the selected weights for the current row\n",
                "    print(f\"Row {row_idx + 1}: Selected weights smaller than threshold ({threshold}):\")\n",
                "    # print(selected_weights)\n",
                "    print(len(selected_weights))\n"
            ]
        },
        {
            "cell_type": "code",
            "execution_count": 21,
            "metadata": {},
            "outputs": [
                {
                    "name": "stderr",
                    "output_type": "stream",
                    "text": [
                        "/tmp/ipykernel_3812583/4283319824.py:11: UserWarning: Attempting to set identical low and high ylims makes transformation singular; automatically expanding.\n",
                        "  ax.set_ylim(0, max_y)\n"
                    ]
                },
                {
                    "data": {
                        "image/png": "[encoded data removed]",
                        "text/plain": [
                            "<Figure size 640x480 with 1 Axes>"
                        ]
                    },
                    "metadata": {},
                    "output_type": "display_data"
                },
                {
                    "data": {
                        "image/png": "[encoded data removed]",
                        "text/plain": [
                            "<Figure size 640x480 with 1 Axes>"
                        ]
                    },
                    "metadata": {},
                    "output_type": "display_data"
                },
                {
                    "data": {
                        "image/png": "[encoded data removed]",
                        "text/plain": [
                            "<Figure size 640x480 with 1 Axes>"
                        ]
                    },
                    "metadata": {},
                    "output_type": "display_data"
                },
                {
                    "data": {
                        "image/png": "[encoded data removed]",
                        "text/plain": [
                            "<Figure size 640x480 with 1 Axes>"
                        ]
                    },
                    "metadata": {},
                    "output_type": "display_data"
                }
            ],
            "source": [
                "# visualize weight magnitudes\n",
                "max_y = np.max(abs_bottleneck_weights)\n",
                "\n",
                "for c in range(abs_bottleneck_weights.shape[0]):\n",
                "    fig = plt.figure()\n",
                "    ax = fig.add_subplot(111)\n",
                "    inds = np.argsort(-abs_bottleneck_weights[c])[:100]\n",
                "    ax.bar(np.arange(1,101), abs_bottleneck_weights[c][inds])\n",
                "    ax.set_xlabel(\"Top 100 features\")\n",
                "    ax.set_ylabel(\"abs value of feature coefficient\")\n",
                "    ax.set_ylim(0, max_y)\n",
                "    plt.show()\n"
            ]
        },
        {
            "cell_type": "code",
            "execution_count": 10,
            "metadata": {},
            "outputs": [
                {
                    "name": "stdout",
                    "output_type": "stream",
                    "text": [
                        "Found 4 Concepts\n",
                        "90th percentile per concept [6.4518924 0.6162137 1.6398425 6.4495716]\n",
                        "['Concept 0 len: 37', 'Concept 1 len: 141', 'Concept 2 len: 94', 'Concept 3 len: 45']\n"
                    ]
                },
                {
                    "data": {
                        "text/plain": [
                            "Parameter containing:\n",
                            "tensor([[-3.6567, -0.8923,  1.6247,  3.6836],\n",
                            "        [ 3.6758,  0.9358, -1.5211, -3.7086]], device='cuda:14',\n",
                            "       requires_grad=True)"
                        ]
                    },
                    "execution_count": 10,
                    "metadata": {},
                    "output_type": "execute_result"
                }
            ],
            "source": [
                "top_k_inds = get_top_features_per_concept(model.bottleneck)\n",
                "# top_k_inds\n",
                "model.linear.weight"
            ]
        },
        {
            "cell_type": "code",
            "execution_count": null,
            "metadata": {},
            "outputs": [],
            "source": [
                "# write top k inds to csv\n",
                "top_k_file = experiment_folder + \"top-k/top_k_idx.csv\"\n",
                "\n",
                "directory = os.path.dirname(top_k_file)\n",
                "if not os.path.exists(directory):\n",
                "    os.makedirs(directory)\n",
                "\n",
                "# writing to csv file \n",
                "with open(top_k_file, 'w') as csvfile: \n",
                "    # creating a csv writer object \n",
                "    csvwriter = csv.writer(csvfile)\n",
                "    # writing the data rows \n",
                "    csvwriter.writerows(top_k_inds)\n"
            ]
        },
        {
            "cell_type": "code",
            "execution_count": null,
            "metadata": {},
            "outputs": [],
            "source": [
                "V = 13 + 1\n",
                "T = seq_len + 1\n",
                "print(T)\n",
                "vars_ = [i for i in range(1,V)] + [str(i) + \"_ind\" for i in range(1,V)]\n",
                "print(len(vars_))\n",
                "data_cols = [[\"feat_{}_time_{}\".format(v, t) for v in vars_] for t in range(1, T)]\n",
                "flattened_data_cols = [col for sublist in data_cols for col in sublist]\n",
                "print(len(flattened_data_cols))\n",
                "flattened_data_cols"
            ]
        },
        {
            "cell_type": "code",
            "execution_count": null,
            "metadata": {},
            "outputs": [],
            "source": [
                "\n",
                "for c, _list in enumerate(top_k_inds):\n",
                "    for ind in _list:\n",
                "        name, summary = getConcept(flattened_data_cols, input_dim, changing_dim, int(ind))\n",
                "        print(f\"Concept {c}: ID {ind}, Feature {name}, Summary {summary}\")\n"
            ]
        },
        {
            "cell_type": "code",
            "execution_count": 11,
            "metadata": {},
            "outputs": [
                {
                    "name": "stderr",
                    "output_type": "stream",
                    "text": [
                        "  0%|          | 0/40 [00:00<?, ?it/s]"
                    ]
                },
                {
                    "name": "stdout",
                    "output_type": "stream",
                    "text": [
                        "0.9043956995010376 0 1 159\n"
                    ]
                },
                {
                    "name": "stderr",
                    "output_type": "stream",
                    "text": [
                        "  2%|▎         | 1/40 [02:35<1:41:23, 155.99s/it, Score=0.90440, acc=0.5, f1=0.667]"
                    ]
                },
                {
                    "name": "stdout",
                    "output_type": "stream",
                    "text": [
                        "0.9101836681365967 0 1 383\n"
                    ]
                },
                {
                    "name": "stderr",
                    "output_type": "stream",
                    "text": [
                        "  5%|▌         | 2/40 [05:19<1:41:30, 160.27s/it, Score=0.91018, acc=0.5, f1=0.667]"
                    ]
                },
                {
                    "name": "stdout",
                    "output_type": "stream",
                    "text": [
                        "0.912787139415741 0 1 66\n"
                    ]
                },
                {
                    "name": "stderr",
                    "output_type": "stream",
                    "text": [
                        "  8%|▊         | 3/40 [08:01<1:39:30, 161.35s/it, Score=0.91279, acc=0.5, f1=0.667]"
                    ]
                },
                {
                    "name": "stdout",
                    "output_type": "stream",
                    "text": [
                        "0.9146532416343689 0 1 165\n"
                    ]
                },
                {
                    "name": "stderr",
                    "output_type": "stream",
                    "text": [
                        " 10%|█         | 4/40 [10:40<1:36:14, 160.40s/it, Score=0.91465, acc=0.5, f1=0.667]"
                    ]
                },
                {
                    "name": "stdout",
                    "output_type": "stream",
                    "text": [
                        "0.9162225723266602 0 1 374\n"
                    ]
                },
                {
                    "name": "stderr",
                    "output_type": "stream",
                    "text": [
                        " 12%|█▎        | 5/40 [13:14<1:32:04, 157.86s/it, Score=0.91622, acc=0.5, f1=0.667]"
                    ]
                },
                {
                    "name": "stdout",
                    "output_type": "stream",
                    "text": [
                        "0.9167425632476807 0 1 124\n"
                    ]
                },
                {
                    "name": "stderr",
                    "output_type": "stream",
                    "text": [
                        " 15%|█▌        | 6/40 [15:48<1:28:42, 156.56s/it, Score=0.91674, acc=0.5, f1=0.667]"
                    ]
                },
                {
                    "name": "stdout",
                    "output_type": "stream",
                    "text": [
                        "0.9172939658164978 0 1 254\n"
                    ]
                },
                {
                    "name": "stderr",
                    "output_type": "stream",
                    "text": [
                        " 18%|█▊        | 7/40 [18:21<1:25:36, 155.64s/it, Score=0.91729, acc=0.5, f1=0.667]"
                    ]
                },
                {
                    "name": "stdout",
                    "output_type": "stream",
                    "text": [
                        "0.9176132678985596 0 1 75\n"
                    ]
                },
                {
                    "name": "stderr",
                    "output_type": "stream",
                    "text": [
                        " 20%|██        | 8/40 [20:55<1:22:37, 154.93s/it, Score=0.91761, acc=0.5, f1=0.667]"
                    ]
                },
                {
                    "name": "stdout",
                    "output_type": "stream",
                    "text": [
                        "0.917834997177124 0 1 44\n"
                    ]
                },
                {
                    "name": "stderr",
                    "output_type": "stream",
                    "text": [
                        " 22%|██▎       | 9/40 [23:25<1:19:19, 153.52s/it, Score=0.91783, acc=0.5, f1=0.667]"
                    ]
                },
                {
                    "name": "stdout",
                    "output_type": "stream",
                    "text": [
                        "0.9179750680923462 0 1 163\n"
                    ]
                },
                {
                    "name": "stderr",
                    "output_type": "stream",
                    "text": [
                        " 25%|██▌       | 10/40 [25:58<1:16:40, 153.36s/it, Score=0.91798, acc=0.5, f1=0.667]"
                    ]
                },
                {
                    "name": "stdout",
                    "output_type": "stream",
                    "text": [
                        "0.9180300831794739 0 1 79\n"
                    ]
                },
                {
                    "name": "stderr",
                    "output_type": "stream",
                    "text": [
                        " 28%|██▊       | 11/40 [28:30<1:13:52, 152.84s/it, Score=0.91803, acc=0.5, f1=0.667]"
                    ]
                },
                {
                    "name": "stdout",
                    "output_type": "stream",
                    "text": [
                        "0.9178865551948547 0 1 160\n"
                    ]
                },
                {
                    "name": "stderr",
                    "output_type": "stream",
                    "text": [
                        " 30%|███       | 12/40 [31:02<1:11:16, 152.72s/it, Score=0.91789, acc=0.5, f1=0.667]"
                    ]
                },
                {
                    "name": "stdout",
                    "output_type": "stream",
                    "text": [
                        "0.9177618026733398 0 1 233\n"
                    ]
                },
                {
                    "name": "stderr",
                    "output_type": "stream",
                    "text": [
                        " 32%|███▎      | 13/40 [33:32<1:08:19, 151.82s/it, Score=0.91776, acc=0.5, f1=0.667]"
                    ]
                },
                {
                    "name": "stdout",
                    "output_type": "stream",
                    "text": [
                        "0.9176356792449951 0 1 298\n"
                    ]
                },
                {
                    "name": "stderr",
                    "output_type": "stream",
                    "text": [
                        " 35%|███▌      | 14/40 [36:02<1:05:31, 151.19s/it, Score=0.91764, acc=0.5, f1=0.667]"
                    ]
                },
                {
                    "name": "stdout",
                    "output_type": "stream",
                    "text": [
                        "0.9175627827644348 0 1 149\n"
                    ]
                },
                {
                    "name": "stderr",
                    "output_type": "stream",
                    "text": [
                        " 38%|███▊      | 15/40 [38:33<1:03:01, 151.27s/it, Score=0.91756, acc=0.5, f1=0.667]"
                    ]
                },
                {
                    "name": "stdout",
                    "output_type": "stream",
                    "text": [
                        "0.9174972772598267 0 1 132\n"
                    ]
                },
                {
                    "name": "stderr",
                    "output_type": "stream",
                    "text": [
                        " 40%|████      | 16/40 [41:03<1:00:15, 150.65s/it, Score=0.91750, acc=0.5, f1=0.667]"
                    ]
                },
                {
                    "name": "stdout",
                    "output_type": "stream",
                    "text": [
                        "0.9175880551338196 0 1 291\n"
                    ]
                },
                {
                    "name": "stderr",
                    "output_type": "stream",
                    "text": [
                        " 42%|████▎     | 17/40 [43:29<57:16, 149.39s/it, Score=0.91759, acc=0.5, f1=0.667]  "
                    ]
                },
                {
                    "name": "stdout",
                    "output_type": "stream",
                    "text": [
                        "0.9177529215812683 0 1 325\n"
                    ]
                },
                {
                    "name": "stderr",
                    "output_type": "stream",
                    "text": [
                        " 45%|████▌     | 18/40 [45:59<54:53, 149.69s/it, Score=0.91775, acc=0.5, f1=0.667]"
                    ]
                },
                {
                    "name": "stdout",
                    "output_type": "stream",
                    "text": [
                        "0.9178279042243958 0 1 282\n"
                    ]
                },
                {
                    "name": "stderr",
                    "output_type": "stream",
                    "text": [
                        " 48%|████▊     | 19/40 [48:29<52:21, 149.58s/it, Score=0.91783, acc=0.5, f1=0.667]"
                    ]
                },
                {
                    "name": "stdout",
                    "output_type": "stream",
                    "text": [
                        "0.9178329706192017 0 1 213\n"
                    ]
                },
                {
                    "name": "stderr",
                    "output_type": "stream",
                    "text": [
                        " 50%|█████     | 20/40 [51:02<50:15, 150.77s/it, Score=0.91783, acc=0.5, f1=0.667]"
                    ]
                },
                {
                    "name": "stdout",
                    "output_type": "stream",
                    "text": [
                        "0.9178073406219482 0 1 360\n"
                    ]
                },
                {
                    "name": "stderr",
                    "output_type": "stream",
                    "text": [
                        " 52%|█████▎    | 21/40 [53:43<48:43, 153.88s/it, Score=0.91781, acc=0.5, f1=0.667]"
                    ]
                },
                {
                    "name": "stdout",
                    "output_type": "stream",
                    "text": [
                        "0.917824923992157 0 1 365\n"
                    ]
                },
                {
                    "name": "stderr",
                    "output_type": "stream",
                    "text": [
                        " 55%|█████▌    | 22/40 [56:24<46:45, 155.89s/it, Score=0.91782, acc=0.5, f1=0.667]"
                    ]
                },
                {
                    "name": "stdout",
                    "output_type": "stream",
                    "text": [
                        "0.9178632497787476 0 1 350\n"
                    ]
                },
                {
                    "name": "stderr",
                    "output_type": "stream",
                    "text": [
                        " 57%|█████▊    | 23/40 [59:03<44:24, 156.73s/it, Score=0.91786, acc=0.5, f1=0.667]"
                    ]
                },
                {
                    "name": "stdout",
                    "output_type": "stream",
                    "text": [
                        "0.9179596900939941 0 1 162\n"
                    ]
                },
                {
                    "name": "stderr",
                    "output_type": "stream",
                    "text": [
                        " 60%|██████    | 24/40 [1:01:45<42:15, 158.47s/it, Score=0.91796, acc=0.5, f1=0.667]"
                    ]
                },
                {
                    "name": "stdout",
                    "output_type": "stream",
                    "text": [
                        "0.9179086089134216 0 1 37\n"
                    ]
                },
                {
                    "name": "stderr",
                    "output_type": "stream",
                    "text": [
                        " 62%|██████▎   | 25/40 [1:04:21<39:23, 157.59s/it, Score=0.91791, acc=0.5, f1=0.667]"
                    ]
                },
                {
                    "name": "stdout",
                    "output_type": "stream",
                    "text": [
                        "0.9178296327590942 0 1 133\n"
                    ]
                },
                {
                    "name": "stderr",
                    "output_type": "stream",
                    "text": [
                        " 65%|██████▌   | 26/40 [1:06:54<36:28, 156.35s/it, Score=0.91783, acc=0.5, f1=0.667]"
                    ]
                },
                {
                    "name": "stdout",
                    "output_type": "stream",
                    "text": [
                        "0.9178916811943054 0 1 54\n"
                    ]
                },
                {
                    "name": "stderr",
                    "output_type": "stream",
                    "text": [
                        " 68%|██████▊   | 27/40 [1:09:29<33:48, 156.01s/it, Score=0.91789, acc=0.5, f1=0.667]"
                    ]
                },
                {
                    "name": "stdout",
                    "output_type": "stream",
                    "text": [
                        "0.9183753728866577 0 2 159\n"
                    ]
                },
                {
                    "name": "stderr",
                    "output_type": "stream",
                    "text": [
                        " 70%|███████   | 28/40 [1:12:04<31:06, 155.57s/it, Score=0.91838, acc=0.5, f1=0.667]"
                    ]
                },
                {
                    "name": "stdout",
                    "output_type": "stream",
                    "text": [
                        "0.9185553789138794 0 1 16\n"
                    ]
                },
                {
                    "name": "stderr",
                    "output_type": "stream",
                    "text": [
                        " 72%|███████▎  | 29/40 [1:14:36<28:21, 154.64s/it, Score=0.91856, acc=0.5, f1=0.667]"
                    ]
                },
                {
                    "name": "stdout",
                    "output_type": "stream",
                    "text": [
                        "0.9186737537384033 0 1 57\n"
                    ]
                },
                {
                    "name": "stderr",
                    "output_type": "stream",
                    "text": [
                        " 75%|███████▌  | 30/40 [1:17:42<27:20, 164.06s/it, Score=0.91867, acc=0.5, f1=0.667]"
                    ]
                },
                {
                    "name": "stdout",
                    "output_type": "stream",
                    "text": [
                        "0.9187848567962646 0 1 251\n"
                    ]
                },
                {
                    "name": "stderr",
                    "output_type": "stream",
                    "text": [
                        " 78%|███████▊  | 31/40 [1:21:12<26:39, 177.70s/it, Score=0.91878, acc=0.5, f1=0.667]"
                    ]
                },
                {
                    "name": "stdout",
                    "output_type": "stream",
                    "text": [
                        "0.9187843799591064 0 1 47\n"
                    ]
                },
                {
                    "name": "stderr",
                    "output_type": "stream",
                    "text": [
                        " 80%|████████  | 32/40 [1:23:49<22:51, 171.50s/it, Score=0.91878, acc=0.5, f1=0.667]"
                    ]
                },
                {
                    "name": "stdout",
                    "output_type": "stream",
                    "text": [
                        "0.9187599420547485 0 1 214\n"
                    ]
                },
                {
                    "name": "stderr",
                    "output_type": "stream",
                    "text": [
                        " 82%|████████▎ | 33/40 [1:26:22<19:22, 166.09s/it, Score=0.91876, acc=0.5, f1=0.667]"
                    ]
                },
                {
                    "name": "stdout",
                    "output_type": "stream",
                    "text": [
                        "0.9187129735946655 0 1 136\n"
                    ]
                },
                {
                    "name": "stderr",
                    "output_type": "stream",
                    "text": [
                        " 85%|████████▌ | 34/40 [1:28:55<16:11, 161.89s/it, Score=0.91871, acc=0.5, f1=0.667]"
                    ]
                },
                {
                    "name": "stdout",
                    "output_type": "stream",
                    "text": [
                        "0.9186376333236694 0 1 384\n"
                    ]
                },
                {
                    "name": "stderr",
                    "output_type": "stream",
                    "text": [
                        " 88%|████████▊ | 35/40 [1:31:29<13:18, 159.68s/it, Score=0.91864, acc=0.5, f1=0.667]"
                    ]
                },
                {
                    "name": "stdout",
                    "output_type": "stream",
                    "text": [
                        "0.9186025261878967 0 1 324\n"
                    ]
                },
                {
                    "name": "stderr",
                    "output_type": "stream",
                    "text": [
                        " 90%|█████████ | 36/40 [1:33:59<10:27, 156.85s/it, Score=0.91860, acc=0.5, f1=0.667]"
                    ]
                },
                {
                    "name": "stdout",
                    "output_type": "stream",
                    "text": [
                        "0.9185426235198975 0 1 156\n"
                    ]
                },
                {
                    "name": "stderr",
                    "output_type": "stream",
                    "text": [
                        " 92%|█████████▎| 37/40 [1:36:30<07:45, 155.14s/it, Score=0.91854, acc=0.5, f1=0.667]"
                    ]
                },
                {
                    "name": "stdout",
                    "output_type": "stream",
                    "text": [
                        "0.9184754490852356 0 1 205\n"
                    ]
                },
                {
                    "name": "stderr",
                    "output_type": "stream",
                    "text": [
                        " 95%|█████████▌| 38/40 [1:39:03<05:08, 154.34s/it, Score=0.91848, acc=0.5, f1=0.667]"
                    ]
                },
                {
                    "name": "stdout",
                    "output_type": "stream",
                    "text": [
                        "0.9184189438819885 0 1 335\n"
                    ]
                },
                {
                    "name": "stderr",
                    "output_type": "stream",
                    "text": [
                        " 98%|█████████▊| 39/40 [1:41:35<02:33, 153.57s/it, Score=0.91842, acc=0.5, f1=0.667]"
                    ]
                },
                {
                    "name": "stdout",
                    "output_type": "stream",
                    "text": [
                        "0.918387234210968 0 1 207\n"
                    ]
                },
                {
                    "name": "stderr",
                    "output_type": "stream",
                    "text": [
                        "100%|██████████| 40/40 [1:44:01<00:00, 156.03s/it, Score=0.91839, acc=0.5, f1=0.667]\n"
                    ]
                }
            ],
            "source": [
                "track_metrics={\"acc\": accuracy_metric,\n",
                "               \"f1\": f1_metric,\n",
                "               }\n",
                "\n",
                "greedy_results = greedy_forward_selection(model=model, layers_to_prune=[model.bottleneck], top_k_inds=[top_k_inds], val_loader=val_loader, optimize_metric=auroc_metric, device=device, track_metrics=track_metrics)\n",
                "#greedy_results\n"
            ]
        },
        {
            "cell_type": "code",
            "execution_count": 12,
            "metadata": {},
            "outputs": [
                {
                    "data": {
                        "text/html": [
                            "<div>\n",
                            "<style scoped>\n",
                            "    .dataframe tbody tr th:only-of-type {\n",
                            "        vertical-align: middle;\n",
                            "    }\n",
                            "\n",
                            "    .dataframe tbody tr th {\n",
                            "        vertical-align: top;\n",
                            "    }\n",
                            "\n",
                            "    .dataframe thead th {\n",
                            "        text-align: right;\n",
                            "    }\n",
                            "</style>\n",
                            "<table border=\"1\" class=\"dataframe\">\n",
                            "  <thead>\n",
                            "    <tr style=\"text-align: right;\">\n",
                            "      <th></th>\n",
                            "      <th>Score</th>\n",
                            "      <th>Layer</th>\n",
                            "      <th>Concept</th>\n",
                            "      <th>Feature</th>\n",
                            "      <th>acc</th>\n",
                            "      <th>f1</th>\n",
                            "    </tr>\n",
                            "  </thead>\n",
                            "  <tbody>\n",
                            "    <tr>\n",
                            "      <th>0</th>\n",
                            "      <td>0.904396</td>\n",
                            "      <td>0</td>\n",
                            "      <td>1</td>\n",
                            "      <td>159</td>\n",
                            "      <td>0.5</td>\n",
                            "      <td>0.666667</td>\n",
                            "    </tr>\n",
                            "    <tr>\n",
                            "      <th>1</th>\n",
                            "      <td>0.910184</td>\n",
                            "      <td>0</td>\n",
                            "      <td>1</td>\n",
                            "      <td>383</td>\n",
                            "      <td>0.5</td>\n",
                            "      <td>0.666667</td>\n",
                            "    </tr>\n",
                            "    <tr>\n",
                            "      <th>2</th>\n",
                            "      <td>0.912787</td>\n",
                            "      <td>0</td>\n",
                            "      <td>1</td>\n",
                            "      <td>66</td>\n",
                            "      <td>0.5</td>\n",
                            "      <td>0.666667</td>\n",
                            "    </tr>\n",
                            "    <tr>\n",
                            "      <th>3</th>\n",
                            "      <td>0.914653</td>\n",
                            "      <td>0</td>\n",
                            "      <td>1</td>\n",
                            "      <td>165</td>\n",
                            "      <td>0.5</td>\n",
                            "      <td>0.666667</td>\n",
                            "    </tr>\n",
                            "    <tr>\n",
                            "      <th>4</th>\n",
                            "      <td>0.916223</td>\n",
                            "      <td>0</td>\n",
                            "      <td>1</td>\n",
                            "      <td>374</td>\n",
                            "      <td>0.5</td>\n",
                            "      <td>0.666667</td>\n",
                            "    </tr>\n",
                            "    <tr>\n",
                            "      <th>5</th>\n",
                            "      <td>0.916743</td>\n",
                            "      <td>0</td>\n",
                            "      <td>1</td>\n",
                            "      <td>124</td>\n",
                            "      <td>0.5</td>\n",
                            "      <td>0.666667</td>\n",
                            "    </tr>\n",
                            "    <tr>\n",
                            "      <th>6</th>\n",
                            "      <td>0.917294</td>\n",
                            "      <td>0</td>\n",
                            "      <td>1</td>\n",
                            "      <td>254</td>\n",
                            "      <td>0.5</td>\n",
                            "      <td>0.666667</td>\n",
                            "    </tr>\n",
                            "    <tr>\n",
                            "      <th>7</th>\n",
                            "      <td>0.917613</td>\n",
                            "      <td>0</td>\n",
                            "      <td>1</td>\n",
                            "      <td>75</td>\n",
                            "      <td>0.5</td>\n",
                            "      <td>0.666667</td>\n",
                            "    </tr>\n",
                            "    <tr>\n",
                            "      <th>8</th>\n",
                            "      <td>0.917835</td>\n",
                            "      <td>0</td>\n",
                            "      <td>1</td>\n",
                            "      <td>44</td>\n",
                            "      <td>0.5</td>\n",
                            "      <td>0.666667</td>\n",
                            "    </tr>\n",
                            "    <tr>\n",
                            "      <th>9</th>\n",
                            "      <td>0.917975</td>\n",
                            "      <td>0</td>\n",
                            "      <td>1</td>\n",
                            "      <td>163</td>\n",
                            "      <td>0.5</td>\n",
                            "      <td>0.666667</td>\n",
                            "    </tr>\n",
                            "    <tr>\n",
                            "      <th>10</th>\n",
                            "      <td>0.918030</td>\n",
                            "      <td>0</td>\n",
                            "      <td>1</td>\n",
                            "      <td>79</td>\n",
                            "      <td>0.5</td>\n",
                            "      <td>0.666667</td>\n",
                            "    </tr>\n",
                            "    <tr>\n",
                            "      <th>11</th>\n",
                            "      <td>0.917887</td>\n",
                            "      <td>0</td>\n",
                            "      <td>1</td>\n",
                            "      <td>160</td>\n",
                            "      <td>0.5</td>\n",
                            "      <td>0.666667</td>\n",
                            "    </tr>\n",
                            "    <tr>\n",
                            "      <th>12</th>\n",
                            "      <td>0.917762</td>\n",
                            "      <td>0</td>\n",
                            "      <td>1</td>\n",
                            "      <td>233</td>\n",
                            "      <td>0.5</td>\n",
                            "      <td>0.666667</td>\n",
                            "    </tr>\n",
                            "    <tr>\n",
                            "      <th>13</th>\n",
                            "      <td>0.917636</td>\n",
                            "      <td>0</td>\n",
                            "      <td>1</td>\n",
                            "      <td>298</td>\n",
                            "      <td>0.5</td>\n",
                            "      <td>0.666667</td>\n",
                            "    </tr>\n",
                            "    <tr>\n",
                            "      <th>14</th>\n",
                            "      <td>0.917563</td>\n",
                            "      <td>0</td>\n",
                            "      <td>1</td>\n",
                            "      <td>149</td>\n",
                            "      <td>0.5</td>\n",
                            "      <td>0.666667</td>\n",
                            "    </tr>\n",
                            "    <tr>\n",
                            "      <th>15</th>\n",
                            "      <td>0.917497</td>\n",
                            "      <td>0</td>\n",
                            "      <td>1</td>\n",
                            "      <td>132</td>\n",
                            "      <td>0.5</td>\n",
                            "      <td>0.666667</td>\n",
                            "    </tr>\n",
                            "    <tr>\n",
                            "      <th>16</th>\n",
                            "      <td>0.917588</td>\n",
                            "      <td>0</td>\n",
                            "      <td>1</td>\n",
                            "      <td>291</td>\n",
                            "      <td>0.5</td>\n",
                            "      <td>0.666667</td>\n",
                            "    </tr>\n",
                            "    <tr>\n",
                            "      <th>17</th>\n",
                            "      <td>0.917753</td>\n",
                            "      <td>0</td>\n",
                            "      <td>1</td>\n",
                            "      <td>325</td>\n",
                            "      <td>0.5</td>\n",
                            "      <td>0.666667</td>\n",
                            "    </tr>\n",
                            "    <tr>\n",
                            "      <th>18</th>\n",
                            "      <td>0.917828</td>\n",
                            "      <td>0</td>\n",
                            "      <td>1</td>\n",
                            "      <td>282</td>\n",
                            "      <td>0.5</td>\n",
                            "      <td>0.666667</td>\n",
                            "    </tr>\n",
                            "    <tr>\n",
                            "      <th>19</th>\n",
                            "      <td>0.917833</td>\n",
                            "      <td>0</td>\n",
                            "      <td>1</td>\n",
                            "      <td>213</td>\n",
                            "      <td>0.5</td>\n",
                            "      <td>0.666667</td>\n",
                            "    </tr>\n",
                            "    <tr>\n",
                            "      <th>20</th>\n",
                            "      <td>0.917807</td>\n",
                            "      <td>0</td>\n",
                            "      <td>1</td>\n",
                            "      <td>360</td>\n",
                            "      <td>0.5</td>\n",
                            "      <td>0.666667</td>\n",
                            "    </tr>\n",
                            "    <tr>\n",
                            "      <th>21</th>\n",
                            "      <td>0.917825</td>\n",
                            "      <td>0</td>\n",
                            "      <td>1</td>\n",
                            "      <td>365</td>\n",
                            "      <td>0.5</td>\n",
                            "      <td>0.666667</td>\n",
                            "    </tr>\n",
                            "    <tr>\n",
                            "      <th>22</th>\n",
                            "      <td>0.917863</td>\n",
                            "      <td>0</td>\n",
                            "      <td>1</td>\n",
                            "      <td>350</td>\n",
                            "      <td>0.5</td>\n",
                            "      <td>0.666667</td>\n",
                            "    </tr>\n",
                            "    <tr>\n",
                            "      <th>23</th>\n",
                            "      <td>0.917960</td>\n",
                            "      <td>0</td>\n",
                            "      <td>1</td>\n",
                            "      <td>162</td>\n",
                            "      <td>0.5</td>\n",
                            "      <td>0.666667</td>\n",
                            "    </tr>\n",
                            "    <tr>\n",
                            "      <th>24</th>\n",
                            "      <td>0.917909</td>\n",
                            "      <td>0</td>\n",
                            "      <td>1</td>\n",
                            "      <td>37</td>\n",
                            "      <td>0.5</td>\n",
                            "      <td>0.666667</td>\n",
                            "    </tr>\n",
                            "    <tr>\n",
                            "      <th>25</th>\n",
                            "      <td>0.917830</td>\n",
                            "      <td>0</td>\n",
                            "      <td>1</td>\n",
                            "      <td>133</td>\n",
                            "      <td>0.5</td>\n",
                            "      <td>0.666667</td>\n",
                            "    </tr>\n",
                            "    <tr>\n",
                            "      <th>26</th>\n",
                            "      <td>0.917892</td>\n",
                            "      <td>0</td>\n",
                            "      <td>1</td>\n",
                            "      <td>54</td>\n",
                            "      <td>0.5</td>\n",
                            "      <td>0.666667</td>\n",
                            "    </tr>\n",
                            "    <tr>\n",
                            "      <th>27</th>\n",
                            "      <td>0.918375</td>\n",
                            "      <td>0</td>\n",
                            "      <td>2</td>\n",
                            "      <td>159</td>\n",
                            "      <td>0.5</td>\n",
                            "      <td>0.666667</td>\n",
                            "    </tr>\n",
                            "    <tr>\n",
                            "      <th>28</th>\n",
                            "      <td>0.918555</td>\n",
                            "      <td>0</td>\n",
                            "      <td>1</td>\n",
                            "      <td>16</td>\n",
                            "      <td>0.5</td>\n",
                            "      <td>0.666667</td>\n",
                            "    </tr>\n",
                            "    <tr>\n",
                            "      <th>29</th>\n",
                            "      <td>0.918674</td>\n",
                            "      <td>0</td>\n",
                            "      <td>1</td>\n",
                            "      <td>57</td>\n",
                            "      <td>0.5</td>\n",
                            "      <td>0.666667</td>\n",
                            "    </tr>\n",
                            "    <tr>\n",
                            "      <th>30</th>\n",
                            "      <td>0.918785</td>\n",
                            "      <td>0</td>\n",
                            "      <td>1</td>\n",
                            "      <td>251</td>\n",
                            "      <td>0.5</td>\n",
                            "      <td>0.666667</td>\n",
                            "    </tr>\n",
                            "    <tr>\n",
                            "      <th>31</th>\n",
                            "      <td>0.918784</td>\n",
                            "      <td>0</td>\n",
                            "      <td>1</td>\n",
                            "      <td>47</td>\n",
                            "      <td>0.5</td>\n",
                            "      <td>0.666667</td>\n",
                            "    </tr>\n",
                            "    <tr>\n",
                            "      <th>32</th>\n",
                            "      <td>0.918760</td>\n",
                            "      <td>0</td>\n",
                            "      <td>1</td>\n",
                            "      <td>214</td>\n",
                            "      <td>0.5</td>\n",
                            "      <td>0.666667</td>\n",
                            "    </tr>\n",
                            "    <tr>\n",
                            "      <th>33</th>\n",
                            "      <td>0.918713</td>\n",
                            "      <td>0</td>\n",
                            "      <td>1</td>\n",
                            "      <td>136</td>\n",
                            "      <td>0.5</td>\n",
                            "      <td>0.666667</td>\n",
                            "    </tr>\n",
                            "    <tr>\n",
                            "      <th>34</th>\n",
                            "      <td>0.918638</td>\n",
                            "      <td>0</td>\n",
                            "      <td>1</td>\n",
                            "      <td>384</td>\n",
                            "      <td>0.5</td>\n",
                            "      <td>0.666667</td>\n",
                            "    </tr>\n",
                            "    <tr>\n",
                            "      <th>35</th>\n",
                            "      <td>0.918603</td>\n",
                            "      <td>0</td>\n",
                            "      <td>1</td>\n",
                            "      <td>324</td>\n",
                            "      <td>0.5</td>\n",
                            "      <td>0.666667</td>\n",
                            "    </tr>\n",
                            "    <tr>\n",
                            "      <th>36</th>\n",
                            "      <td>0.918543</td>\n",
                            "      <td>0</td>\n",
                            "      <td>1</td>\n",
                            "      <td>156</td>\n",
                            "      <td>0.5</td>\n",
                            "      <td>0.666667</td>\n",
                            "    </tr>\n",
                            "    <tr>\n",
                            "      <th>37</th>\n",
                            "      <td>0.918475</td>\n",
                            "      <td>0</td>\n",
                            "      <td>1</td>\n",
                            "      <td>205</td>\n",
                            "      <td>0.5</td>\n",
                            "      <td>0.666667</td>\n",
                            "    </tr>\n",
                            "    <tr>\n",
                            "      <th>38</th>\n",
                            "      <td>0.918419</td>\n",
                            "      <td>0</td>\n",
                            "      <td>1</td>\n",
                            "      <td>335</td>\n",
                            "      <td>0.5</td>\n",
                            "      <td>0.666667</td>\n",
                            "    </tr>\n",
                            "    <tr>\n",
                            "      <th>39</th>\n",
                            "      <td>0.918387</td>\n",
                            "      <td>0</td>\n",
                            "      <td>1</td>\n",
                            "      <td>207</td>\n",
                            "      <td>0.5</td>\n",
                            "      <td>0.666667</td>\n",
                            "    </tr>\n",
                            "  </tbody>\n",
                            "</table>\n",
                            "</div>"
                        ],
                        "text/plain": [
                            "       Score  Layer  Concept  Feature  acc        f1\n",
                            "0   0.904396      0        1      159  0.5  0.666667\n",
                            "1   0.910184      0        1      383  0.5  0.666667\n",
                            "2   0.912787      0        1       66  0.5  0.666667\n",
                            "3   0.914653      0        1      165  0.5  0.666667\n",
                            "4   0.916223      0        1      374  0.5  0.666667\n",
                            "5   0.916743      0        1      124  0.5  0.666667\n",
                            "6   0.917294      0        1      254  0.5  0.666667\n",
                            "7   0.917613      0        1       75  0.5  0.666667\n",
                            "8   0.917835      0        1       44  0.5  0.666667\n",
                            "9   0.917975      0        1      163  0.5  0.666667\n",
                            "10  0.918030      0        1       79  0.5  0.666667\n",
                            "11  0.917887      0        1      160  0.5  0.666667\n",
                            "12  0.917762      0        1      233  0.5  0.666667\n",
                            "13  0.917636      0        1      298  0.5  0.666667\n",
                            "14  0.917563      0        1      149  0.5  0.666667\n",
                            "15  0.917497      0        1      132  0.5  0.666667\n",
                            "16  0.917588      0        1      291  0.5  0.666667\n",
                            "17  0.917753      0        1      325  0.5  0.666667\n",
                            "18  0.917828      0        1      282  0.5  0.666667\n",
                            "19  0.917833      0        1      213  0.5  0.666667\n",
                            "20  0.917807      0        1      360  0.5  0.666667\n",
                            "21  0.917825      0        1      365  0.5  0.666667\n",
                            "22  0.917863      0        1      350  0.5  0.666667\n",
                            "23  0.917960      0        1      162  0.5  0.666667\n",
                            "24  0.917909      0        1       37  0.5  0.666667\n",
                            "25  0.917830      0        1      133  0.5  0.666667\n",
                            "26  0.917892      0        1       54  0.5  0.666667\n",
                            "27  0.918375      0        2      159  0.5  0.666667\n",
                            "28  0.918555      0        1       16  0.5  0.666667\n",
                            "29  0.918674      0        1       57  0.5  0.666667\n",
                            "30  0.918785      0        1      251  0.5  0.666667\n",
                            "31  0.918784      0        1       47  0.5  0.666667\n",
                            "32  0.918760      0        1      214  0.5  0.666667\n",
                            "33  0.918713      0        1      136  0.5  0.666667\n",
                            "34  0.918638      0        1      384  0.5  0.666667\n",
                            "35  0.918603      0        1      324  0.5  0.666667\n",
                            "36  0.918543      0        1      156  0.5  0.666667\n",
                            "37  0.918475      0        1      205  0.5  0.666667\n",
                            "38  0.918419      0        1      335  0.5  0.666667\n",
                            "39  0.918387      0        1      207  0.5  0.666667"
                        ]
                    },
                    "execution_count": 12,
                    "metadata": {},
                    "output_type": "execute_result"
                }
            ],
            "source": [
                "greedy_results"
            ]
        },
        {
            "cell_type": "code",
            "execution_count": 19,
            "metadata": {},
            "outputs": [],
            "source": [
                "top_k_csv_file = experiment_folder + \"top-k/bottleneck_topkinds.csv\" #_r{}_c{}   .format(random_seed, n_concepts)\n",
                "\n",
                "import csv\n",
                "# writing to csv file\n",
                "with open(top_k_csv_file, 'w') as csvfile: \n",
                "    # creating a csv writer object \n",
                "    csvwriter = csv.writer(csvfile)\n",
                "    csvwriter.writerow(greedy_results.columns)\n",
                "    # writing the data rows \n",
                "    for row in greedy_results.itertuples(index=False):\n",
                "        csvwriter.writerow(list(row))\n"
            ]
        },
        {
            "cell_type": "code",
            "execution_count": null,
            "metadata": {},
            "outputs": [],
            "source": [
                "sorted_ = greedy_results.sort_values([\"Concept\", \"ID\"])\n",
                "\n",
                "for row in sorted_.itertuples(index=False):\n",
                "    name, summary = getConcept(flattened_data_cols, input_dim, changing_dim, row[1])\n",
                "    print(f\"Concept {row[2]}: ID {row[1]}, Feature {name}, Summary {summary}\")"
            ]
        },
        {
            "cell_type": "code",
            "execution_count": null,
            "metadata": {},
            "outputs": [],
            "source": [
                "plt.plot(greedy_results[\"Score\"], label = f\"AUC {greedy_results['Score'].values[-1]:.3f}\")\n",
                "plt.plot(greedy_results[\"acc\"], label = f\"ACC {greedy_results['acc'].values[-1]:.3f}\")\n",
                "\n",
                "plt.xlabel('Num Concepts')\n",
                "plt.ylabel('Criteria')\n",
                "plt.title('Plot of Concepts vs Criteria')\n",
                "\n",
                "plt.legend()\n",
                "plt.show()\n"
            ]
        },
        {
            "cell_type": "code",
            "execution_count": null,
            "metadata": {},
            "outputs": [],
            "source": [
                "top_k_csv_file = \"/workdir/optimal-summaries-public/_models/arabic/multiclass/top-k/bottleneck_r1_c6_topkinds.csv\"\n",
                "n_concepts = 6\n",
                "model = initializeModel(n_concepts, input_dim, changing_dim, seq_len, num_classes, top_k=top_k_csv_file)\n",
                "# model.fit(train_loader, val_loader, weights, model_path.format(n_concepts), 1000)\n",
                "\n",
                "model.eval()\n",
                "with torch.no_grad():\n",
                "    for batch_idx, (Xb, yb) in enumerate(test_loader):\n",
                "        Xb, yb = Xb.to(device), yb.to(device)\n",
                "        probs = model(Xb)\n",
                "        \n",
                "        auc = auroc_metric(probs, yb).item()\n",
                "        acc = accuracy_metric(probs, yb).item()\n",
                "    auc = auroc_metric.compute().item()\n",
                "    acc = accuracy_metric.compute().item()\n",
                "    auroc_metric.reset()\n",
                "    accuracy_metric.reset()\n",
                "\n",
                "print(auc)\n",
                "print(acc)\n"
            ]
        },
        {
            "cell_type": "code",
            "execution_count": null,
            "metadata": {},
            "outputs": [],
            "source": [
                "model.fit(train_loader, val_loader, class_weights, save_model_path=\"/workdir/optimal-summaries-public/_models/arabic/multiclass/top-k/arabic_c6_finetuned.pt\", max_epochs=3000, patience=100)\n",
                "\n",
                "model.eval()\n",
                "with torch.no_grad():\n",
                "    for batch_idx, (Xb, yb) in enumerate(test_loader):\n",
                "        Xb, yb = Xb.to(device), yb.to(device)\n",
                "        probs = model(Xb)\n",
                "        \n",
                "        auc = auroc_metric(probs, yb)\n",
                "        acc = accuracy_metric(probs, yb)\n",
                "    auc = auroc_metric.compute().item()\n",
                "    acc = accuracy_metric.compute().item()\n",
                "    auroc_metric.reset()\n",
                "    accuracy_metric.reset()\n",
                "    \n",
                "print(auc)\n",
                "print(acc)\n"
            ]
        },
        {
            "cell_type": "code",
            "execution_count": null,
            "metadata": {},
            "outputs": [],
            "source": [
                "\n",
                "plt.plot(model.val_losses)\n",
                "plt.show()"
            ]
        },
        {
            "cell_type": "markdown",
            "metadata": {},
            "source": [
                "## Optimization Atomics"
            ]
        },
        {
            "cell_type": "code",
            "execution_count": 37,
            "metadata": {},
            "outputs": [
                {
                    "name": "stderr",
                    "output_type": "stream",
                    "text": [
                        "/usr/local/lib/python3.10/dist-packages/torch/nn/modules/lazy.py:180: UserWarning: Lazy modules are a new feature under heavy development so changes to the API or functionality can happen at any moment.\n",
                        "  warnings.warn('Lazy modules are a new feature under heavy development '\n"
                    ]
                },
                {
                    "name": "stdout",
                    "output_type": "stream",
                    "text": [
                        "Loaded model from /workdir/optimal-summaries-public/_models/vasopressor/atomics/vaso_a10_c4_indTrue_fixesFalse_output_dim2_summariesTrue_gradnormFalse.pt\n",
                        "AUC 0.9122897386550903\n",
                        "ACC 0.8353354930877686\n",
                        "F1 0.8434875011444092\n"
                    ]
                }
            ],
            "source": [
                "# feature weights\n",
                "config_atomics = {\n",
                "    \"n_atomics\": 10, # 30\n",
                "    \"n_concepts\": 4, # 20\n",
                "    \"use_indicators\": True,\n",
                "    \"use_fixes\": False,\n",
                "    \"use_summaries_for_atomics\": True,\n",
                "    \"use_grad_norm\": False,\n",
                "}\n",
                "\n",
                "experiment_folder = \"/workdir/optimal-summaries-public/_models/vasopressor/atomics/\"\n",
                "model_path = experiment_folder + \"\".join([f\"{key}_{{{key}}}_\" for key in config_original.keys()]) + \"seed_{seed}.pt\"\n",
                "\n",
                "train_loader, val_loader, test_loader, class_weights, num_classes, changing_vars, static_names, seq_len = load_and_create_MIMIC_dataloader(output_dim = 2, batch_size = 512, random_state = random_seed)\n",
                "\n",
                "model = initializeModel_with_atomics(**config_atomics, static_dim=static_dim, changing_dim=changing_dim, seq_len=seq_len, output_dim=2)\n",
                "model.fit(train_loader, val_loader, p_weight=class_weights.to(device), save_model_path=model_path.format(**config_atomics, seed = random_seed), max_epochs=10000)\n",
                "\n",
                "for batch in test_loader:\n",
                "    *data, y = extract_to(batch, device)\n",
                "    probs = model(*data)\n",
                "\n",
                "    auc = auroc_metric(probs, y).item()\n",
                "    acc = accuracy_metric(probs, y).item()\n",
                "    f1 = f1_metric(probs, y).item()\n",
                "\n",
                "auc = auroc_metric.compute().item()\n",
                "acc = accuracy_metric.compute().item()\n",
                "f1 = f1_metric.compute().item()\n",
                "\n",
                "auroc_metric.reset()\n",
                "accuracy_metric.reset()\n",
                "f1_metric.reset()\n",
                "\n",
                "print(\"AUC\", auc)\n",
                "print(\"ACC\", acc)\n",
                "print(\"F1\", f1)\n"
            ]
        },
        {
            "cell_type": "code",
            "execution_count": 38,
            "metadata": {},
            "outputs": [
                {
                    "name": "stdout",
                    "output_type": "stream",
                    "text": [
                        "Found 10 Concepts\n",
                        "90th percentile per concept [0.13360962 0.11618172 0.17461674 0.10974458 0.15019093 0.11730425\n",
                        " 4.1245832  0.11287732 0.11427169 0.78483105]\n",
                        "['Concept 0 len: 10', 'Concept 1 len: 10', 'Concept 2 len: 10', 'Concept 3 len: 10', 'Concept 4 len: 10', 'Concept 5 len: 10', 'Concept 6 len: 10', 'Concept 7 len: 10', 'Concept 8 len: 10', 'Concept 9 len: 10']\n",
                        "Found 4 Concepts\n",
                        "90th percentile per concept [8.511244   0.13980736 0.14437436 0.14495519]\n",
                        "['Concept 0 len: 25', 'Concept 1 len: 108', 'Concept 2 len: 107', 'Concept 3 len: 106']\n"
                    ]
                },
                {
                    "data": {
                        "text/plain": [
                            "Parameter containing:\n",
                            "tensor([[ 7.6388, -0.9657, -0.8828, -0.0554],\n",
                            "        [-7.6021,  0.5786,  1.4751,  0.6264]], device='cuda:8',\n",
                            "       requires_grad=True)"
                        ]
                    },
                    "execution_count": 38,
                    "metadata": {},
                    "output_type": "execute_result"
                }
            ],
            "source": [
                "layers = [model.layer_time_to_atomics, model.layer_to_concepts]\n",
                "top_k_inds = [get_top_features_per_concept(layer) for layer in layers]\n",
                "# top_k_inds\n",
                "model.layer_output.weight"
            ]
        },
        {
            "cell_type": "code",
            "execution_count": 39,
            "metadata": {},
            "outputs": [
                {
                    "name": "stderr",
                    "output_type": "stream",
                    "text": [
                        "  0%|          | 0/140 [00:00<?, ?it/s]"
                    ]
                },
                {
                    "name": "stderr",
                    "output_type": "stream",
                    "text": [
                        "  1%|▏         | 2/140 [07:00<8:04:04, 210.47s/it, Score=0.90177, acc=0.137, f1=0.137]"
                    ]
                }
            ],
            "source": [
                "track_metrics={\"acc\": accuracy_metric,\n",
                "               \"f1\": f1_metric,\n",
                "               \"auc\": auroc_metric,\n",
                "               }\n",
                "\n",
                "greedy_results_atomics = greedy_forward_selection(model=model, layers_to_prune=layers, top_k_inds=top_k_inds, val_loader=val_loader, optimize_metric=auroc_metric, device=device, track_metrics=track_metrics)\n",
                "greedy_results_atomics\n"
            ]
        },
        {
            "cell_type": "code",
            "execution_count": null,
            "metadata": {},
            "outputs": [],
            "source": [
                "top_k_csv_file = experiment_folder + \"top-k/bottleneck_topkinds.csv\" #_r{}_c{}   .format(random_seed, n_concepts)\n",
                "\n",
                "import csv\n",
                "# writing to csv file\n",
                "with open(top_k_csv_file, 'w') as csvfile: \n",
                "    # creating a csv writer object \n",
                "    csvwriter = csv.writer(csvfile)\n",
                "    csvwriter.writerow(greedy_results_atomics.columns)\n",
                "    # writing the data rows \n",
                "    for row in greedy_results_atomics.itertuples(index=False):\n",
                "        csvwriter.writerow(list(row))\n"
            ]
        }
    ],
    "metadata": {
        "kernelspec": {
            "display_name": "base",
            "language": "python",
            "name": "python3"
        },
        "language_info": {
            "codemirror_mode": {
                "name": "ipython",
                "version": 3
            },
            "file_extension": ".py",
            "mimetype": "text/x-python",
            "name": "python",
            "nbconvert_exporter": "python",
            "pygments_lexer": "ipython3",
            "version": "3.10.12"
        }
    },
    "nbformat": 4,
    "nbformat_minor": 2
}
