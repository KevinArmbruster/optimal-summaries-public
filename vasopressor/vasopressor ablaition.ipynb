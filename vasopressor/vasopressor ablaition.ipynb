{
 "cells": [
  {
   "cell_type": "code",
   "execution_count": 1,
   "metadata": {},
   "outputs": [
    {
     "name": "stdout",
     "output_type": "stream",
     "text": [
      "current device cuda:15\n"
     ]
    }
   ],
   "source": [
    "%load_ext autoreload\n",
    "%autoreload 2\n",
    "\n",
    "import sys\n",
    "sys.path.append('..')\n",
    "\n",
    "import numpy as np\n",
    "import pandas as pd\n",
    "import torch\n",
    "import random\n",
    "import csv\n",
    "from sklearn.model_selection import train_test_split\n",
    "from sklearn.utils.class_weight import compute_class_weight\n",
    "from sklearn.preprocessing import StandardScaler, RobustScaler\n",
    "import matplotlib.pyplot as plt\n",
    "import torch\n",
    "from torch.utils.data import TensorDataset, DataLoader\n",
    "from torch.autograd import Variable\n",
    "from torchmetrics.classification import AUROC, Accuracy, ConfusionMatrix, F1Score\n",
    "import os, subprocess, gc, time, datetime\n",
    "from itertools import product\n",
    "\n",
    "import models.original_models as original_models\n",
    "import models.models_3d_atomics_on_variate_to_concepts as new_models\n",
    "from vasopressor.preprocess_helpers import *\n",
    "from models.helper import *\n",
    "from models.param_initializations import *\n",
    "from models.optimization_strategy import greedy_selection\n",
    "\n",
    "gpu_id = int(subprocess.check_output('nvidia-smi --query-gpu=memory.free --format=csv,nounits,noheader | nl -v 0 | sort -nrk 2 | cut -f 1 | head -n 1 | xargs', shell=True, text=True))\n",
    "device = torch.device(f'cuda:{gpu_id}') if torch.cuda.is_available else torch.device('cpu')\n",
    "print(\"current device\", device)"
   ]
  },
  {
   "cell_type": "code",
   "execution_count": 2,
   "metadata": {},
   "outputs": [
    {
     "name": "stdout",
     "output_type": "stream",
     "text": [
      "(29137, 6, 62)\n",
      "(29137, 2)\n",
      "(29137, 1)\n",
      "27 ['dbp', 'fio2', 'GCS', 'hr', 'map', 'sbp', 'spontaneousrr', 'spo2', 'temp', 'bun', 'magnesium', 'platelets', 'sodium', 'alt', 'hct', 'po2', 'ast', 'potassium', 'wbc', 'bicarbonate', 'creatinine', 'lactate', 'pco2', 'glucose', 'inr', 'hgb', 'bilirubin_total']\n"
     ]
    }
   ],
   "source": [
    "X, Y_logits, changing_vars, _ = myPreprocessed()\n",
    "print(X.shape)\n",
    "print(Y_logits.shape) # (logit, original)\n",
    "y = Y_logits[:, 1, None]\n",
    "print(y.shape)\n",
    "print(len(changing_vars), changing_vars)\n"
   ]
  },
  {
   "cell_type": "code",
   "execution_count": 3,
   "metadata": {},
   "outputs": [
    {
     "data": {
      "image/png": "[encoded data removed]",
      "text/plain": [
       "<Figure size 400x300 with 1 Axes>"
      ]
     },
     "metadata": {},
     "output_type": "display_data"
    }
   ],
   "source": [
    "plt.figure(figsize=(4, 3))\n",
    "plt.hist(y, bins=len(np.unique(y)), edgecolor='black')\n",
    "plt.xticks(np.unique(y))\n",
    "\n",
    "plt.xlabel('Values')\n",
    "plt.ylabel('Frequency')\n",
    "plt.title('Class Distribution')\n",
    "plt.show()"
   ]
  },
  {
   "cell_type": "code",
   "execution_count": 4,
   "metadata": {},
   "outputs": [],
   "source": [
    "def preprocess_data(_X, _Y_logits, output_dim, batch_size = 512, random_state = 1):\n",
    "    \n",
    "    # ## target\n",
    "    y = _Y_logits\n",
    "    if output_dim == 1:\n",
    "        y = _Y_logits[:, 1, None]\n",
    "    \n",
    "    y_unique = np.unique(y)\n",
    "    num_classes = len(y_unique)\n",
    "    \n",
    "    # # class weights\n",
    "    class_weights = compute_class_weight(class_weight=\"balanced\", classes=y_unique, y=_Y_logits[:, 1])\n",
    "    class_weights = torch.tensor(class_weights)\n",
    "    \n",
    "    if output_dim == 1:\n",
    "        class_weights = class_weights[1]/class_weights[0] # == pos / neg   # get ONLY positive sample weights\n",
    "    \n",
    "    \n",
    "    # split 60/20/20 %\n",
    "    X_train, X_test, y_train, y_test = train_test_split(_X, y, test_size = 0.40, random_state = random_state, stratify = y)\n",
    "    X_test, X_val, y_test, y_val = train_test_split(X_test, y_test, test_size = 0.50, random_state = random_state, stratify = y_test)\n",
    "\n",
    "    # tensor\n",
    "    X_train_pt = torch.tensor(X_train, dtype=torch.float32)\n",
    "    y_train_pt = torch.tensor(y_train)\n",
    "\n",
    "    X_val_pt = torch.tensor(X_val, dtype=torch.float32)\n",
    "    y_val_pt = torch.tensor(y_val)\n",
    "\n",
    "    X_test_pt = torch.tensor(X_test, dtype=torch.float32)\n",
    "    y_test_pt = torch.tensor(y_test)\n",
    "    \n",
    "    # dataloader\n",
    "    train_dataset = TensorDataset(X_train_pt, y_train_pt)\n",
    "    train_loader = DataLoader(train_dataset, batch_size = batch_size, shuffle=True, num_workers=4, pin_memory=True)\n",
    "\n",
    "    val_dataset = TensorDataset(X_val_pt, y_val_pt)\n",
    "    val_loader = DataLoader(val_dataset, batch_size = X_val_pt.shape[0], shuffle=False, num_workers=4, pin_memory=True)\n",
    "\n",
    "    test_dataset = TensorDataset(X_test_pt, y_test_pt)\n",
    "    test_loader = DataLoader(test_dataset, batch_size = X_test_pt.shape[0], shuffle=False, num_workers=4, pin_memory=True)\n",
    "    \n",
    "    \n",
    "    return train_loader, val_loader, test_loader, class_weights, num_classes\n"
   ]
  },
  {
   "cell_type": "code",
   "execution_count": 5,
   "metadata": {},
   "outputs": [
    {
     "name": "stdout",
     "output_type": "stream",
     "text": [
      "tensor(6.2752, dtype=torch.float64) 2\n",
      "torch.Size([512, 6, 62]) cpu\n",
      "torch.Size([512, 1]) cpu\n"
     ]
    },
    {
     "data": {
      "text/plain": [
       "35"
      ]
     },
     "execution_count": 5,
     "metadata": {},
     "output_type": "execute_result"
    }
   ],
   "source": [
    "train_loader, val_loader, test_loader, class_weights, num_classes = preprocess_data(X, Y_logits, 1)\n",
    "\n",
    "print(class_weights, num_classes)\n",
    "\n",
    "for a,b in train_loader:\n",
    "    print(a.shape, a.device)\n",
    "    print(b.shape, b.device)\n",
    "    break\n",
    "\n",
    "len(train_loader)"
   ]
  },
  {
   "cell_type": "code",
   "execution_count": 6,
   "metadata": {},
   "outputs": [],
   "source": [
    "def plot_losses(train_losses, val_losses):\n",
    "    plt.plot(train_losses, color=\"black\", label=\"Train\")\n",
    "    plt.plot(val_losses, color=\"green\", label=\"Val\")\n",
    "    plt.yscale(\"log\")\n",
    "    plt.legend()\n",
    "    plt.show()\n",
    "\n",
    "def plot_metrics(history, n_concepts_list):\n",
    "    plt.plot(history[:, 0], history[:, 2], label=f'AUC')\n",
    "    plt.plot(history[:, 0], history[:, 3], label=f'ACC')\n",
    "    plt.plot(history[:, 0], history[:, 4], label=f'F1')\n",
    "\n",
    "    plt.xlabel('Num Concepts')\n",
    "    plt.ylabel('Criteria')\n",
    "    plt.title('Plot of Concepts vs Criteria')\n",
    "    plt.xticks(n_concepts_list)\n",
    "\n",
    "    plt.legend()\n",
    "    plt.show()\n",
    "\n",
    "def plot_atomics_concepts_metric(history, title, dec=\"{:.3g}\"):\n",
    "        \n",
    "    df = pd.DataFrame(history, columns=[\"n_atomics\", \"n_concepts\", \"val_loss\", \"auc\", \"acc\", \"f1\"])\n",
    "    mean_atomics = df.groupby(\"n_atomics\").mean()\n",
    "    mean_concepts = df.groupby(\"n_concepts\").mean()\n",
    "\n",
    "    # display(mean_atomics)\n",
    "    plt.plot(mean_atomics.index, mean_atomics[\"auc\"], label='AUC')\n",
    "    plt.plot(mean_atomics.index, mean_atomics[\"acc\"], label='ACC')\n",
    "    plt.plot(mean_atomics.index, mean_atomics[\"f1\"], label='F1')\n",
    "    plt.xlabel('Num Atomics')\n",
    "    plt.ylabel('Criteria')\n",
    "    plt.title(\"Metric as mean over atomics\")\n",
    "    plt.suptitle(title)\n",
    "    plt.legend()\n",
    "    plt.show()\n",
    "\n",
    "    # display(mean_concepts)\n",
    "    plt.plot(mean_concepts.index, mean_concepts[\"auc\"], label='AUC')\n",
    "    plt.plot(mean_concepts.index, mean_concepts[\"acc\"], label='ACC')\n",
    "    plt.plot(mean_concepts.index, mean_concepts[\"f1\"], label='F1')\n",
    "    plt.xlabel('Num Concepts')\n",
    "    plt.ylabel('Criteria')\n",
    "    plt.title(\"Metric as mean over concepts\")\n",
    "    plt.suptitle(title)\n",
    "    plt.legend()\n",
    "    plt.show()\n"
   ]
  },
  {
   "cell_type": "code",
   "execution_count": 7,
   "metadata": {},
   "outputs": [],
   "source": [
    "def initializeModel(n_concepts, input_dim, changing_dim, seq_len, output_dim, \n",
    "                    use_indicators, use_fixes, use_only_last_timestep, top_k=''):\n",
    "    model = original_models.CBM(input_dim = input_dim, \n",
    "                                changing_dim = changing_dim, \n",
    "                                seq_len = seq_len,\n",
    "                                num_concepts = n_concepts,\n",
    "                                use_indicators = use_indicators,\n",
    "                                use_fixes = use_fixes,\n",
    "                                use_only_last_timestep = use_only_last_timestep,\n",
    "                                opt_lr = 1e-3,\n",
    "                                opt_weight_decay = 1e-5,\n",
    "                                l1_lambda=1e-3,\n",
    "                                cos_sim_lambda=1e-2,\n",
    "                                output_dim = output_dim,\n",
    "                                top_k=top_k,\n",
    "                                device = device\n",
    "                                )\n",
    "    model = model.to(device)\n",
    "    return model\n",
    "\n",
    "def initializeModel_with_atomics(n_atomics, n_concepts, input_dim, changing_dim, seq_len, output_dim, \n",
    "                                 use_summaries_for_atomics, use_indicators, use_fixes, top_k=''):\n",
    "    model = new_models.CBM(input_dim = input_dim, \n",
    "                            changing_dim = changing_dim, \n",
    "                            seq_len = seq_len,\n",
    "                            num_concepts = n_concepts,\n",
    "                            num_atomics= n_atomics,\n",
    "                            use_summaries_for_atomics = use_summaries_for_atomics,\n",
    "                            use_indicators = use_indicators,\n",
    "                            use_fixes = use_fixes,\n",
    "                            opt_lr = 1e-3,\n",
    "                            opt_weight_decay = 1e-5,\n",
    "                            l1_lambda=1e-3,\n",
    "                            cos_sim_lambda=1e-2,\n",
    "                            output_dim = output_dim,\n",
    "                            top_k=top_k,\n",
    "                            device = device\n",
    "                            )\n",
    "    model = model.to(device)\n",
    "    return model\n"
   ]
  },
  {
   "cell_type": "code",
   "execution_count": 8,
   "metadata": {},
   "outputs": [
    {
     "name": "stdout",
     "output_type": "stream",
     "text": [
      "27 62 6\n"
     ]
    }
   ],
   "source": [
    "\n",
    "auroc_metric = AUROC(task=\"binary\").to(device)\n",
    "accuracy_metric = Accuracy(task=\"binary\").to(device)\n",
    "f1_metric = F1Score(task=\"binary\").to(device)\n",
    "conf_matrix = ConfusionMatrix(task=\"binary\").to(device)\n",
    "\n",
    "seq_len = X.shape[1]\n",
    "changing_dim = len(changing_vars)\n",
    "input_dim = X.shape[2]\n",
    "\n",
    "print(changing_dim, input_dim, seq_len)\n",
    "\n",
    "random_seed = 1\n",
    "set_seed(random_seed)\n"
   ]
  },
  {
   "cell_type": "code",
   "execution_count": 9,
   "metadata": {},
   "outputs": [
    {
     "name": "stdout",
     "output_type": "stream",
     "text": [
      "8\n"
     ]
    },
    {
     "data": {
      "text/plain": [
       "[(4, True, False, 2, True),\n",
       " (4, True, False, 2, False),\n",
       " (4, True, True, 2, True),\n",
       " (4, True, True, 2, False),\n",
       " (4, False, False, 2, True),\n",
       " (4, False, False, 2, False),\n",
       " (4, False, True, 2, True),\n",
       " (4, False, True, 2, False)]"
      ]
     },
     "execution_count": 9,
     "metadata": {},
     "output_type": "execute_result"
    }
   ],
   "source": [
    "config = {\n",
    "    \"n_concepts_list\": list(range(4, 5, 1)),\n",
    "    \"use_indicators\": [True, False],\n",
    "    \"use_fixes\": [False, True],\n",
    "    \"output_dim\": [2], #1\n",
    "    \"use_only_last_timestep\": [True, False],\n",
    "}\n",
    "\n",
    "all_config_permutations_og = list(product(*config.values()))\n",
    "print(len(all_config_permutations_og))\n",
    "all_config_permutations_og"
   ]
  },
  {
   "cell_type": "markdown",
   "metadata": {},
   "source": [
    "## Original"
   ]
  },
  {
   "cell_type": "code",
   "execution_count": 10,
   "metadata": {},
   "outputs": [],
   "source": [
    "experiment_folder = \"/workdir/optimal-summaries-public/_models/vasopressor/original/\"\n",
    "model_path = experiment_folder + \"vaso_c{}_ind{}_fixes{}_onlylasttimestep{}_output_dim{}.pt\"\n",
    "\n",
    "if not os.path.exists(experiment_folder):\n",
    "    os.makedirs(experiment_folder)"
   ]
  },
  {
   "cell_type": "code",
   "execution_count": 11,
   "metadata": {},
   "outputs": [
    {
     "name": "stdout",
     "output_type": "stream",
     "text": [
      "0 4 True False 2 True\n"
     ]
    },
    {
     "name": "stderr",
     "output_type": "stream",
     "text": [
      "/usr/local/lib/python3.10/dist-packages/torch/nn/modules/lazy.py:180: UserWarning: Lazy modules are a new feature under heavy development so changes to the API or functionality can happen at any moment.\n",
      "  warnings.warn('Lazy modules are a new feature under heavy development '\n"
     ]
    },
    {
     "name": "stdout",
     "output_type": "stream",
     "text": [
      "Loaded model from /workdir/optimal-summaries-public/_models/vasopressor/original/vaso_c4_indTrue_fixesFalse_onlylasttimestepTrue_output_dim2.pt\n",
      "['original', 0, 0.5197964310646057, 0.91069096326828, 0.8326754570007324, 0.8411534428596497]\n",
      "1 4 True False 2 False\n"
     ]
    },
    {
     "name": "stderr",
     "output_type": "stream",
     "text": [
      "/usr/local/lib/python3.10/dist-packages/torch/nn/modules/lazy.py:180: UserWarning: Lazy modules are a new feature under heavy development so changes to the API or functionality can happen at any moment.\n",
      "  warnings.warn('Lazy modules are a new feature under heavy development '\n"
     ]
    },
    {
     "name": "stdout",
     "output_type": "stream",
     "text": [
      "Loaded model from /workdir/optimal-summaries-public/_models/vasopressor/original/vaso_c4_indTrue_fixesFalse_onlylasttimestepFalse_output_dim2.pt\n",
      "['original', 1, 0.5231447815895081, 0.9181749820709229, 0.843058168888092, 0.8501924872398376]\n",
      "2 4 True True 2 True\n"
     ]
    },
    {
     "name": "stderr",
     "output_type": "stream",
     "text": [
      "/usr/local/lib/python3.10/dist-packages/torch/nn/modules/lazy.py:180: UserWarning: Lazy modules are a new feature under heavy development so changes to the API or functionality can happen at any moment.\n",
      "  warnings.warn('Lazy modules are a new feature under heavy development '\n"
     ]
    },
    {
     "name": "stdout",
     "output_type": "stream",
     "text": [
      "Loaded model from /workdir/optimal-summaries-public/_models/vasopressor/original/vaso_c4_indTrue_fixesTrue_onlylasttimestepTrue_output_dim2.pt\n",
      "['original', 2, 0.5176288485527039, 0.912331223487854, 0.8375664949417114, 0.8448233604431152]\n",
      "3 4 True True 2 False\n"
     ]
    },
    {
     "name": "stderr",
     "output_type": "stream",
     "text": [
      "/usr/local/lib/python3.10/dist-packages/torch/nn/modules/lazy.py:180: UserWarning: Lazy modules are a new feature under heavy development so changes to the API or functionality can happen at any moment.\n",
      "  warnings.warn('Lazy modules are a new feature under heavy development '\n"
     ]
    },
    {
     "name": "stdout",
     "output_type": "stream",
     "text": [
      "Loaded model from /workdir/optimal-summaries-public/_models/vasopressor/original/vaso_c4_indTrue_fixesTrue_onlylasttimestepFalse_output_dim2.pt\n",
      "['original', 3, 0.5236897468566895, 0.9159983992576599, 0.838424563407898, 0.845920979976654]\n",
      "4 4 False False 2 True\n"
     ]
    },
    {
     "name": "stderr",
     "output_type": "stream",
     "text": [
      "/usr/local/lib/python3.10/dist-packages/torch/nn/modules/lazy.py:180: UserWarning: Lazy modules are a new feature under heavy development so changes to the API or functionality can happen at any moment.\n",
      "  warnings.warn('Lazy modules are a new feature under heavy development '\n"
     ]
    },
    {
     "name": "stdout",
     "output_type": "stream",
     "text": [
      "Loaded model from /workdir/optimal-summaries-public/_models/vasopressor/original/vaso_c4_indFalse_fixesFalse_onlylasttimestepTrue_output_dim2.pt\n",
      "['original', 4, 0.5202323198318481, 0.9149949550628662, 0.8411704301834106, 0.849033534526825]\n",
      "5 4 False False 2 False\n"
     ]
    },
    {
     "name": "stderr",
     "output_type": "stream",
     "text": [
      "/usr/local/lib/python3.10/dist-packages/torch/nn/modules/lazy.py:180: UserWarning: Lazy modules are a new feature under heavy development so changes to the API or functionality can happen at any moment.\n",
      "  warnings.warn('Lazy modules are a new feature under heavy development '\n"
     ]
    },
    {
     "name": "stdout",
     "output_type": "stream",
     "text": [
      "Loaded model from /workdir/optimal-summaries-public/_models/vasopressor/original/vaso_c4_indFalse_fixesFalse_onlylasttimestepFalse_output_dim2.pt\n",
      "['original', 5, 0.526611864566803, 0.9185498952865601, 0.8415994644165039, 0.8493061065673828]\n",
      "6 4 False True 2 True\n"
     ]
    },
    {
     "name": "stderr",
     "output_type": "stream",
     "text": [
      "/usr/local/lib/python3.10/dist-packages/torch/nn/modules/lazy.py:180: UserWarning: Lazy modules are a new feature under heavy development so changes to the API or functionality can happen at any moment.\n",
      "  warnings.warn('Lazy modules are a new feature under heavy development '\n"
     ]
    },
    {
     "name": "stdout",
     "output_type": "stream",
     "text": [
      "Loaded model from /workdir/optimal-summaries-public/_models/vasopressor/original/vaso_c4_indFalse_fixesTrue_onlylasttimestepTrue_output_dim2.pt\n",
      "['original', 6, 0.522624135017395, 0.9115630388259888, 0.8345632553100586, 0.8426892757415771]\n",
      "7 4 False True 2 False\n"
     ]
    },
    {
     "name": "stderr",
     "output_type": "stream",
     "text": [
      "/usr/local/lib/python3.10/dist-packages/torch/nn/modules/lazy.py:180: UserWarning: Lazy modules are a new feature under heavy development so changes to the API or functionality can happen at any moment.\n",
      "  warnings.warn('Lazy modules are a new feature under heavy development '\n"
     ]
    },
    {
     "name": "stdout",
     "output_type": "stream",
     "text": [
      "Loaded model from /workdir/optimal-summaries-public/_models/vasopressor/original/vaso_c4_indFalse_fixesTrue_onlylasttimestepFalse_output_dim2.pt\n",
      "['original', 7, 0.524418294429779, 0.9150282144546509, 0.839625895023346, 0.8469161987304688]\n"
     ]
    },
    {
     "data": {
      "text/plain": [
       "(8, 6)"
      ]
     },
     "execution_count": 11,
     "metadata": {},
     "output_type": "execute_result"
    }
   ],
   "source": [
    "histories_original = []\n",
    "\n",
    "for i, (n_concepts, use_indicators, use_fixes, output_dim, use_only_last_timestep) in enumerate(all_config_permutations_og):\n",
    "    print(i, n_concepts, use_indicators, use_fixes, output_dim, use_only_last_timestep)\n",
    "    \n",
    "    train_loader, val_loader, test_loader, class_weights, num_classes = preprocess_data(X, Y_logits, output_dim)\n",
    "    \n",
    "    model = initializeModel(n_concepts=n_concepts, input_dim=input_dim, changing_dim=changing_dim, seq_len=seq_len, output_dim=output_dim, \n",
    "                            use_indicators=use_indicators, use_fixes=use_fixes, use_only_last_timestep=use_only_last_timestep)\n",
    "    \n",
    "    model.fit(train_loader, val_loader, p_weight=class_weights.to(device), save_model_path=model_path.format(n_concepts, use_indicators, use_fixes, use_only_last_timestep, output_dim), max_epochs=10000)\n",
    "    \n",
    "    model.eval()\n",
    "    with torch.inference_mode():\n",
    "        for Xb, yb in test_loader:\n",
    "            Xb, yb = Xb.to(device), yb.to(device)\n",
    "            probs = model.forward_probabilities(Xb)\n",
    "            \n",
    "            auc = auroc_metric(probs, yb).item()\n",
    "            acc = accuracy_metric(probs, yb).item()\n",
    "            f1 = f1_metric(probs, yb).item()\n",
    "            # conf_matrix(probs, yb)\n",
    "        auc = auroc_metric.compute().item()\n",
    "        acc = accuracy_metric.compute().item()\n",
    "        f1 = f1_metric.compute().item()\n",
    "        # conf_matrix.plot()\n",
    "        # plt.show()\n",
    "        auroc_metric.reset()\n",
    "        accuracy_metric.reset()\n",
    "        # conf_matrix.reset()\n",
    "        f1_metric.reset()\n",
    "    \n",
    "    history = [\"original\", i, model.val_losses[-1], auc, acc, f1]\n",
    "    print(history)\n",
    "    histories_original.append(np.array(history))\n",
    "    \n",
    "    # plot_losses(model.train_losses, model.val_losses)\n",
    "    \n",
    "histories_original = np.array(histories_original)\n",
    "histories_original.shape\n"
   ]
  },
  {
   "cell_type": "code",
   "execution_count": 12,
   "metadata": {},
   "outputs": [],
   "source": [
    "# plot\n",
    "# plot_metrics(histories_original, n_concepts_list)\n"
   ]
  },
  {
   "cell_type": "markdown",
   "metadata": {},
   "source": [
    "## Atomics"
   ]
  },
  {
   "cell_type": "code",
   "execution_count": 13,
   "metadata": {},
   "outputs": [
    {
     "name": "stdout",
     "output_type": "stream",
     "text": [
      "24\n"
     ]
    },
    {
     "data": {
      "text/plain": [
       "[(10, 4, True, False, 2, True),\n",
       " (10, 4, True, False, 2, False),\n",
       " (10, 4, True, True, 2, True),\n",
       " (10, 4, True, True, 2, False),\n",
       " (10, 4, False, False, 2, True),\n",
       " (10, 4, False, False, 2, False),\n",
       " (10, 4, False, True, 2, True),\n",
       " (10, 4, False, True, 2, False),\n",
       " (30, 4, True, False, 2, True),\n",
       " (30, 4, True, False, 2, False),\n",
       " (30, 4, True, True, 2, True),\n",
       " (30, 4, True, True, 2, False),\n",
       " (30, 4, False, False, 2, True),\n",
       " (30, 4, False, False, 2, False),\n",
       " (30, 4, False, True, 2, True),\n",
       " (30, 4, False, True, 2, False),\n",
       " (100, 4, True, False, 2, True),\n",
       " (100, 4, True, False, 2, False),\n",
       " (100, 4, True, True, 2, True),\n",
       " (100, 4, True, True, 2, False),\n",
       " (100, 4, False, False, 2, True),\n",
       " (100, 4, False, False, 2, False),\n",
       " (100, 4, False, True, 2, True),\n",
       " (100, 4, False, True, 2, False)]"
      ]
     },
     "execution_count": 13,
     "metadata": {},
     "output_type": "execute_result"
    }
   ],
   "source": [
    "config = {\n",
    "    \"n_atomics_list\": [10, 30, 100],\n",
    "    \"n_concepts_list\": list(range(4, 5, 1)),\n",
    "    \"use_indicators\": [True, False],\n",
    "    \"use_fixes\": [False, True],\n",
    "    \"output_dim\": [2], #1\n",
    "    # \"use_only_last_timestep\": [True, False],\n",
    "    \"use_summaries_for_atomics\": [True, False],\n",
    "}\n",
    "\n",
    "all_config_permutations_atomics = list(product(*config.values()))\n",
    "print(len(all_config_permutations_atomics))\n",
    "all_config_permutations_atomics"
   ]
  },
  {
   "cell_type": "code",
   "execution_count": 14,
   "metadata": {},
   "outputs": [],
   "source": [
    "experiment_folder = \"/workdir/optimal-summaries-public/_models/vasopressor/atomics/\"\n",
    "model_path = experiment_folder + \"vaso_a{}_c{}_ind{}_fixes{}_output_dim{}_summaries{}.pt\"\n",
    "\n",
    "if not os.path.exists(experiment_folder):\n",
    "    os.makedirs(experiment_folder)"
   ]
  },
  {
   "cell_type": "code",
   "execution_count": 15,
   "metadata": {},
   "outputs": [
    {
     "name": "stdout",
     "output_type": "stream",
     "text": [
      "0 10 4 True False 2 True\n"
     ]
    },
    {
     "name": "stderr",
     "output_type": "stream",
     "text": [
      "/usr/local/lib/python3.10/dist-packages/torch/nn/modules/lazy.py:180: UserWarning: Lazy modules are a new feature under heavy development so changes to the API or functionality can happen at any moment.\n",
      "  warnings.warn('Lazy modules are a new feature under heavy development '\n"
     ]
    },
    {
     "name": "stdout",
     "output_type": "stream",
     "text": [
      "Loaded model from /workdir/optimal-summaries-public/_models/vasopressor/atomics/vaso_a10_c4_indTrue_fixesFalse_output_dim2_summariesTrue.pt\n",
      "['CBM atomics', 0, 0.5313735008239746, 0.9138913750648499, 0.8373948931694031, 0.8451417684555054]\n",
      "1 10 4 True False 2 False\n"
     ]
    },
    {
     "name": "stderr",
     "output_type": "stream",
     "text": [
      "/usr/local/lib/python3.10/dist-packages/torch/nn/modules/lazy.py:180: UserWarning: Lazy modules are a new feature under heavy development so changes to the API or functionality can happen at any moment.\n",
      "  warnings.warn('Lazy modules are a new feature under heavy development '\n"
     ]
    },
    {
     "name": "stdout",
     "output_type": "stream",
     "text": [
      "Loaded model from /workdir/optimal-summaries-public/_models/vasopressor/atomics/vaso_a10_c4_indTrue_fixesFalse_output_dim2_summariesFalse.pt\n",
      "['CBM atomics', 1, 0.5765553116798401, 0.9044694900512695, 0.8504376411437988, 0.8548104763031006]\n",
      "2 10 4 True True 2 True\n"
     ]
    },
    {
     "name": "stderr",
     "output_type": "stream",
     "text": [
      "/usr/local/lib/python3.10/dist-packages/torch/nn/modules/lazy.py:180: UserWarning: Lazy modules are a new feature under heavy development so changes to the API or functionality can happen at any moment.\n",
      "  warnings.warn('Lazy modules are a new feature under heavy development '\n"
     ]
    },
    {
     "name": "stdout",
     "output_type": "stream",
     "text": [
      "Loaded model from /workdir/optimal-summaries-public/_models/vasopressor/atomics/vaso_a10_c4_indTrue_fixesTrue_output_dim2_summariesTrue.pt\n",
      "['CBM atomics', 2, 0.533596396446228, 0.9134929776191711, 0.8369658589363098, 0.844897985458374]\n",
      "3 10 4 True True 2 False\n"
     ]
    },
    {
     "name": "stderr",
     "output_type": "stream",
     "text": [
      "/usr/local/lib/python3.10/dist-packages/torch/nn/modules/lazy.py:180: UserWarning: Lazy modules are a new feature under heavy development so changes to the API or functionality can happen at any moment.\n",
      "  warnings.warn('Lazy modules are a new feature under heavy development '\n"
     ]
    },
    {
     "name": "stdout",
     "output_type": "stream",
     "text": [
      "Loaded model from /workdir/optimal-summaries-public/_models/vasopressor/atomics/vaso_a10_c4_indTrue_fixesTrue_output_dim2_summariesFalse.pt\n",
      "['CBM atomics', 3, 0.572110116481781, 0.905956506729126, 0.8410845994949341, 0.8491610884666443]\n",
      "4 10 4 False False 2 True\n"
     ]
    },
    {
     "name": "stderr",
     "output_type": "stream",
     "text": [
      "/usr/local/lib/python3.10/dist-packages/torch/nn/modules/lazy.py:180: UserWarning: Lazy modules are a new feature under heavy development so changes to the API or functionality can happen at any moment.\n",
      "  warnings.warn('Lazy modules are a new feature under heavy development '\n"
     ]
    },
    {
     "name": "stdout",
     "output_type": "stream",
     "text": [
      "Loaded model from /workdir/optimal-summaries-public/_models/vasopressor/atomics/vaso_a10_c4_indFalse_fixesFalse_output_dim2_summariesTrue.pt\n",
      "['CBM atomics', 4, 0.5387791991233826, 0.9162099957466125, 0.8392826318740845, 0.8472142815589905]\n",
      "5 10 4 False False 2 False\n"
     ]
    },
    {
     "name": "stderr",
     "output_type": "stream",
     "text": [
      "/usr/local/lib/python3.10/dist-packages/torch/nn/modules/lazy.py:180: UserWarning: Lazy modules are a new feature under heavy development so changes to the API or functionality can happen at any moment.\n",
      "  warnings.warn('Lazy modules are a new feature under heavy development '\n"
     ]
    },
    {
     "name": "stdout",
     "output_type": "stream",
     "text": [
      "Loaded model from /workdir/optimal-summaries-public/_models/vasopressor/atomics/vaso_a10_c4_indFalse_fixesFalse_output_dim2_summariesFalse.pt\n",
      "['CBM atomics', 5, 0.6165825128555298, 0.9101204872131348, 0.858503520488739, 0.863142192363739]\n",
      "6 10 4 False True 2 True\n"
     ]
    },
    {
     "name": "stderr",
     "output_type": "stream",
     "text": [
      "/usr/local/lib/python3.10/dist-packages/torch/nn/modules/lazy.py:180: UserWarning: Lazy modules are a new feature under heavy development so changes to the API or functionality can happen at any moment.\n",
      "  warnings.warn('Lazy modules are a new feature under heavy development '\n",
      " 15%|█▍        | 1460/10000 [43:25<4:14:02,  1.78s/ epoch, Train Loss=0.49683, Val Loss=0.53067, Best Val Loss=0.52991]"
     ]
    },
    {
     "name": "stdout",
     "output_type": "stream",
     "text": [
      "Early Stopped\n"
     ]
    },
    {
     "name": "stderr",
     "output_type": "stream",
     "text": [
      "\n"
     ]
    },
    {
     "name": "stdout",
     "output_type": "stream",
     "text": [
      "['CBM atomics', 6, 0.5306442379951477, 0.9139459133148193, 0.8373090624809265, 0.844946026802063]\n",
      "7 10 4 False True 2 False\n"
     ]
    },
    {
     "name": "stderr",
     "output_type": "stream",
     "text": [
      "/usr/local/lib/python3.10/dist-packages/torch/nn/modules/lazy.py:180: UserWarning: Lazy modules are a new feature under heavy development so changes to the API or functionality can happen at any moment.\n",
      "  warnings.warn('Lazy modules are a new feature under heavy development '\n",
      "  3%|▎         | 320/10000 [07:56<4:00:06,  1.49s/ epoch, Train Loss=0.60574, Val Loss=0.63915, Best Val Loss=0.62633]"
     ]
    },
    {
     "name": "stdout",
     "output_type": "stream",
     "text": [
      "Early Stopped\n"
     ]
    },
    {
     "name": "stderr",
     "output_type": "stream",
     "text": [
      "\n"
     ]
    },
    {
     "name": "stdout",
     "output_type": "stream",
     "text": [
      "['CBM atomics', 7, 0.6353075504302979, 0.9069522619247437, 0.8546422123908997, 0.8582426905632019]\n",
      "8 30 4 True False 2 True\n"
     ]
    },
    {
     "name": "stderr",
     "output_type": "stream",
     "text": [
      "/usr/local/lib/python3.10/dist-packages/torch/nn/modules/lazy.py:180: UserWarning: Lazy modules are a new feature under heavy development so changes to the API or functionality can happen at any moment.\n",
      "  warnings.warn('Lazy modules are a new feature under heavy development '\n"
     ]
    },
    {
     "name": "stdout",
     "output_type": "stream",
     "text": [
      "Loaded model from /workdir/optimal-summaries-public/_models/vasopressor/atomics/vaso_a30_c4_indTrue_fixesFalse_output_dim2_summariesTrue.pt\n",
      "['CBM atomics', 8, 0.5467365980148315, 0.9132466316223145, 0.8349064588546753, 0.8434499502182007]\n",
      "9 30 4 True False 2 False\n"
     ]
    },
    {
     "name": "stderr",
     "output_type": "stream",
     "text": [
      "/usr/local/lib/python3.10/dist-packages/torch/nn/modules/lazy.py:180: UserWarning: Lazy modules are a new feature under heavy development so changes to the API or functionality can happen at any moment.\n",
      "  warnings.warn('Lazy modules are a new feature under heavy development '\n"
     ]
    },
    {
     "name": "stdout",
     "output_type": "stream",
     "text": [
      "Loaded model from /workdir/optimal-summaries-public/_models/vasopressor/atomics/vaso_a30_c4_indTrue_fixesFalse_output_dim2_summariesFalse.pt\n",
      "['CBM atomics', 9, 0.8273098468780518, 0.9106552600860596, 0.8584176898002625, 0.862500011920929]\n",
      "10 30 4 True True 2 True\n"
     ]
    },
    {
     "name": "stderr",
     "output_type": "stream",
     "text": [
      "/usr/local/lib/python3.10/dist-packages/torch/nn/modules/lazy.py:180: UserWarning: Lazy modules are a new feature under heavy development so changes to the API or functionality can happen at any moment.\n",
      "  warnings.warn('Lazy modules are a new feature under heavy development '\n"
     ]
    },
    {
     "name": "stdout",
     "output_type": "stream",
     "text": [
      "Loaded model from /workdir/optimal-summaries-public/_models/vasopressor/atomics/vaso_a30_c4_indTrue_fixesTrue_output_dim2_summariesTrue.pt\n",
      "['CBM atomics', 10, 0.5450490117073059, 0.9142844676971436, 0.8366225957870483, 0.8446728587150574]\n",
      "11 30 4 True True 2 False\n"
     ]
    },
    {
     "name": "stderr",
     "output_type": "stream",
     "text": [
      "/usr/local/lib/python3.10/dist-packages/torch/nn/modules/lazy.py:180: UserWarning: Lazy modules are a new feature under heavy development so changes to the API or functionality can happen at any moment.\n",
      "  warnings.warn('Lazy modules are a new feature under heavy development '\n"
     ]
    },
    {
     "name": "stdout",
     "output_type": "stream",
     "text": [
      "Loaded model from /workdir/optimal-summaries-public/_models/vasopressor/atomics/vaso_a30_c4_indTrue_fixesTrue_output_dim2_summariesFalse.pt\n",
      "['CBM atomics', 11, 0.8207803964614868, 0.9049814939498901, 0.8400549292564392, 0.8473632335662842]\n",
      "12 30 4 False False 2 True\n"
     ]
    },
    {
     "name": "stderr",
     "output_type": "stream",
     "text": [
      "/usr/local/lib/python3.10/dist-packages/torch/nn/modules/lazy.py:180: UserWarning: Lazy modules are a new feature under heavy development so changes to the API or functionality can happen at any moment.\n",
      "  warnings.warn('Lazy modules are a new feature under heavy development '\n"
     ]
    },
    {
     "name": "stdout",
     "output_type": "stream",
     "text": [
      "Loaded model from /workdir/optimal-summaries-public/_models/vasopressor/atomics/vaso_a30_c4_indFalse_fixesFalse_output_dim2_summariesTrue.pt\n",
      "['CBM atomics', 12, 0.6433839797973633, 0.9165804386138916, 0.8412562012672424, 0.8491765856742859]\n",
      "13 30 4 False False 2 False\n"
     ]
    },
    {
     "name": "stderr",
     "output_type": "stream",
     "text": [
      "/usr/local/lib/python3.10/dist-packages/torch/nn/modules/lazy.py:180: UserWarning: Lazy modules are a new feature under heavy development so changes to the API or functionality can happen at any moment.\n",
      "  warnings.warn('Lazy modules are a new feature under heavy development '\n"
     ]
    },
    {
     "name": "stdout",
     "output_type": "stream",
     "text": [
      "Loaded model from /workdir/optimal-summaries-public/_models/vasopressor/atomics/vaso_a30_c4_indFalse_fixesFalse_output_dim2_summariesFalse.pt\n",
      "['CBM atomics', 13, 1.2209855318069458, 0.9029526710510254, 0.8432297706604004, 0.8496419787406921]\n",
      "14 30 4 False True 2 True\n"
     ]
    },
    {
     "name": "stderr",
     "output_type": "stream",
     "text": [
      "/usr/local/lib/python3.10/dist-packages/torch/nn/modules/lazy.py:180: UserWarning: Lazy modules are a new feature under heavy development so changes to the API or functionality can happen at any moment.\n",
      "  warnings.warn('Lazy modules are a new feature under heavy development '\n",
      "  8%|▊         | 760/10000 [20:08<4:04:56,  1.59s/ epoch, Train Loss=0.61647, Val Loss=0.65037, Best Val Loss=0.64891]"
     ]
    },
    {
     "name": "stdout",
     "output_type": "stream",
     "text": [
      "Early Stopped\n"
     ]
    },
    {
     "name": "stderr",
     "output_type": "stream",
     "text": [
      "\n"
     ]
    },
    {
     "name": "stdout",
     "output_type": "stream",
     "text": [
      "['CBM atomics', 14, 0.6501591801643372, 0.9152473211288452, 0.838167130947113, 0.8457133769989014]\n",
      "15 30 4 False True 2 False\n"
     ]
    },
    {
     "name": "stderr",
     "output_type": "stream",
     "text": [
      "/usr/local/lib/python3.10/dist-packages/torch/nn/modules/lazy.py:180: UserWarning: Lazy modules are a new feature under heavy development so changes to the API or functionality can happen at any moment.\n",
      "  warnings.warn('Lazy modules are a new feature under heavy development '\n",
      "  6%|▌         | 610/10000 [15:19<3:55:47,  1.51s/ epoch, Train Loss=1.19525, Val Loss=1.21282, Best Val Loss=1.21073]"
     ]
    },
    {
     "name": "stdout",
     "output_type": "stream",
     "text": [
      "Early Stopped\n"
     ]
    },
    {
     "name": "stderr",
     "output_type": "stream",
     "text": [
      "\n"
     ]
    },
    {
     "name": "stdout",
     "output_type": "stream",
     "text": [
      "['CBM atomics', 15, 1.213905692100525, 0.903346061706543, 0.8537840843200684, 0.8590103983879089]\n",
      "16 100 4 True False 2 True\n"
     ]
    },
    {
     "name": "stderr",
     "output_type": "stream",
     "text": [
      "/usr/local/lib/python3.10/dist-packages/torch/nn/modules/lazy.py:180: UserWarning: Lazy modules are a new feature under heavy development so changes to the API or functionality can happen at any moment.\n",
      "  warnings.warn('Lazy modules are a new feature under heavy development '\n"
     ]
    },
    {
     "name": "stdout",
     "output_type": "stream",
     "text": [
      "Loaded model from /workdir/optimal-summaries-public/_models/vasopressor/atomics/vaso_a100_c4_indTrue_fixesFalse_output_dim2_summariesTrue.pt\n",
      "['CBM atomics', 16, 1.7654085159301758, 0.9176620244979858, 0.8429723978042603, 0.8500000238418579]\n",
      "17 100 4 True False 2 False\n"
     ]
    },
    {
     "name": "stderr",
     "output_type": "stream",
     "text": [
      "/usr/local/lib/python3.10/dist-packages/torch/nn/modules/lazy.py:180: UserWarning: Lazy modules are a new feature under heavy development so changes to the API or functionality can happen at any moment.\n",
      "  warnings.warn('Lazy modules are a new feature under heavy development '\n"
     ]
    },
    {
     "name": "stdout",
     "output_type": "stream",
     "text": [
      "Loaded model from /workdir/optimal-summaries-public/_models/vasopressor/atomics/vaso_a100_c4_indTrue_fixesFalse_output_dim2_summariesFalse.pt\n",
      "['CBM atomics', 17, 4.45297384262085, 0.9060219526290894, 0.84425950050354, 0.850037157535553]\n",
      "18 100 4 True True 2 True\n"
     ]
    },
    {
     "name": "stderr",
     "output_type": "stream",
     "text": [
      "/usr/local/lib/python3.10/dist-packages/torch/nn/modules/lazy.py:180: UserWarning: Lazy modules are a new feature under heavy development so changes to the API or functionality can happen at any moment.\n",
      "  warnings.warn('Lazy modules are a new feature under heavy development '\n"
     ]
    },
    {
     "name": "stdout",
     "output_type": "stream",
     "text": [
      "Loaded model from /workdir/optimal-summaries-public/_models/vasopressor/atomics/vaso_a100_c4_indTrue_fixesTrue_output_dim2_summariesTrue.pt\n",
      "['CBM atomics', 18, 1.798357367515564, 0.9168349504470825, 0.8449459671974182, 0.8520429134368896]\n",
      "19 100 4 True True 2 False\n"
     ]
    },
    {
     "name": "stderr",
     "output_type": "stream",
     "text": [
      "/usr/local/lib/python3.10/dist-packages/torch/nn/modules/lazy.py:180: UserWarning: Lazy modules are a new feature under heavy development so changes to the API or functionality can happen at any moment.\n",
      "  warnings.warn('Lazy modules are a new feature under heavy development '\n"
     ]
    },
    {
     "name": "stdout",
     "output_type": "stream",
     "text": [
      "Loaded model from /workdir/optimal-summaries-public/_models/vasopressor/atomics/vaso_a100_c4_indTrue_fixesTrue_output_dim2_summariesFalse.pt\n",
      "['CBM atomics', 19, 4.391152858734131, 0.909683108329773, 0.8465762734413147, 0.8524996042251587]\n",
      "20 100 4 False False 2 True\n"
     ]
    },
    {
     "name": "stderr",
     "output_type": "stream",
     "text": [
      "/usr/local/lib/python3.10/dist-packages/torch/nn/modules/lazy.py:180: UserWarning: Lazy modules are a new feature under heavy development so changes to the API or functionality can happen at any moment.\n",
      "  warnings.warn('Lazy modules are a new feature under heavy development '\n"
     ]
    },
    {
     "name": "stdout",
     "output_type": "stream",
     "text": [
      "Loaded model from /workdir/optimal-summaries-public/_models/vasopressor/atomics/vaso_a100_c4_indFalse_fixesFalse_output_dim2_summariesTrue.pt\n",
      "['CBM atomics', 20, 2.689943790435791, 0.916722297668457, 0.839625895023346, 0.8473662734031677]\n",
      "21 100 4 False False 2 False\n"
     ]
    },
    {
     "name": "stderr",
     "output_type": "stream",
     "text": [
      "/usr/local/lib/python3.10/dist-packages/torch/nn/modules/lazy.py:180: UserWarning: Lazy modules are a new feature under heavy development so changes to the API or functionality can happen at any moment.\n",
      "  warnings.warn('Lazy modules are a new feature under heavy development '\n"
     ]
    },
    {
     "name": "stdout",
     "output_type": "stream",
     "text": [
      "Loaded model from /workdir/optimal-summaries-public/_models/vasopressor/atomics/vaso_a100_c4_indFalse_fixesFalse_output_dim2_summariesFalse.pt\n",
      "['CBM atomics', 21, 8.577739715576172, 0.9088339805603027, 0.8491504788398743, 0.8542046546936035]\n",
      "22 100 4 False True 2 True\n"
     ]
    },
    {
     "name": "stderr",
     "output_type": "stream",
     "text": [
      "/usr/local/lib/python3.10/dist-packages/torch/nn/modules/lazy.py:180: UserWarning: Lazy modules are a new feature under heavy development so changes to the API or functionality can happen at any moment.\n",
      "  warnings.warn('Lazy modules are a new feature under heavy development '\n",
      " 10%|█         | 1000/10000 [26:50<4:01:38,  1.61s/ epoch, Train Loss=2.64849, Val Loss=2.67665, Best Val Loss=2.67664]"
     ]
    },
    {
     "name": "stdout",
     "output_type": "stream",
     "text": [
      "Early Stopped\n"
     ]
    },
    {
     "name": "stderr",
     "output_type": "stream",
     "text": [
      "\n"
     ]
    },
    {
     "name": "stdout",
     "output_type": "stream",
     "text": [
      "['CBM atomics', 22, 2.681684970855713, 0.8922815322875977, 0.8103655576705933, 0.8218891024589539]\n",
      "23 100 4 False True 2 False\n"
     ]
    },
    {
     "name": "stderr",
     "output_type": "stream",
     "text": [
      "/usr/local/lib/python3.10/dist-packages/torch/nn/modules/lazy.py:180: UserWarning: Lazy modules are a new feature under heavy development so changes to the API or functionality can happen at any moment.\n",
      "  warnings.warn('Lazy modules are a new feature under heavy development '\n",
      "  2%|▏         | 230/10000 [06:04<4:18:00,  1.58s/ epoch, Train Loss=8.58093, Val Loss=8.60285, Best Val Loss=8.59319] "
     ]
    },
    {
     "name": "stdout",
     "output_type": "stream",
     "text": [
      "Early Stopped\n"
     ]
    },
    {
     "name": "stderr",
     "output_type": "stream",
     "text": [
      "\n"
     ]
    },
    {
     "name": "stdout",
     "output_type": "stream",
     "text": [
      "['CBM atomics', 23, 8.597587585449219, 0.9080427885055542, 0.8589325547218323, 0.8634097576141357]\n"
     ]
    },
    {
     "data": {
      "text/plain": [
       "(24, 6)"
      ]
     },
     "execution_count": 15,
     "metadata": {},
     "output_type": "execute_result"
    }
   ],
   "source": [
    "history_atomics = []\n",
    "\n",
    "for i, (n_atomics, n_concepts, use_indicators, use_fixes, output_dim, use_summaries_for_atomics) in enumerate(all_config_permutations_atomics):\n",
    "    print(i, n_atomics, n_concepts, use_indicators, use_fixes, output_dim, use_summaries_for_atomics)\n",
    "    \n",
    "    train_loader, val_loader, test_loader, class_weights, num_classes = preprocess_data(X, Y_logits, output_dim)\n",
    "    \n",
    "    model = initializeModel_with_atomics(n_atomics=n_atomics, n_concepts=n_concepts, input_dim=input_dim, changing_dim=changing_dim, seq_len=seq_len, output_dim=output_dim, \n",
    "                                         use_summaries_for_atomics=use_summaries_for_atomics, use_indicators=use_indicators, use_fixes=use_fixes)\n",
    "    \n",
    "    model.fit(train_loader, val_loader, p_weight=class_weights.to(device), save_model_path=model_path.format(n_atomics, n_concepts, use_indicators, use_fixes, output_dim, use_summaries_for_atomics), max_epochs=10000)\n",
    "    \n",
    "    model.eval()\n",
    "    with torch.inference_mode():\n",
    "        for Xb, yb in test_loader:\n",
    "            Xb, yb = Xb.to(device), yb.to(device)\n",
    "            probs = model.forward_probabilities(Xb)\n",
    "            \n",
    "            auc = auroc_metric(probs, yb).item()\n",
    "            acc = accuracy_metric(probs, yb).item()\n",
    "            f1 = f1_metric(probs, yb).item()\n",
    "            # conf_matrix(probs, yb)\n",
    "        auc = auroc_metric.compute().item()\n",
    "        acc = accuracy_metric.compute().item()\n",
    "        f1 = f1_metric.compute().item()\n",
    "        # conf_matrix.plot()\n",
    "        # plt.show()\n",
    "        auroc_metric.reset()\n",
    "        accuracy_metric.reset()\n",
    "        # conf_matrix.reset()\n",
    "        f1_metric.reset()\n",
    "\n",
    "    history = [\"CBM atomics\", i, model.val_losses[-1], auc, acc, f1]\n",
    "    print(history)\n",
    "    history_atomics.append(np.array(history))\n",
    "    \n",
    "    # plot_losses(model.train_losses, model.val_losses)\n",
    "\n",
    "    \n",
    "history_atomics = np.array(history_atomics)\n",
    "history_atomics.shape\n"
   ]
  },
  {
   "cell_type": "code",
   "execution_count": 16,
   "metadata": {},
   "outputs": [],
   "source": [
    "# plot_atomics_concepts_metric(history_atomics, \"title\")\n"
   ]
  },
  {
   "cell_type": "code",
   "execution_count": 17,
   "metadata": {},
   "outputs": [],
   "source": [
    "columns=[\"type\", \"config\", \"val_loss\", \"auc\", \"acc\", \"f1\"]\n",
    "dtypes = {'type': str, 'config': int, 'val_loss': float, 'auc': float, 'acc': float, 'f1': float}\n",
    "\n",
    "df_og = pd.DataFrame(histories_original, columns=columns).astype(dtypes)\n",
    "matching_values = [str(all_config_permutations_og[val]) for val in df_og['config']]\n",
    "df_og[\"config2\"] = matching_values\n",
    "\n",
    "df_atomics = pd.DataFrame(history_atomics, columns=columns).astype(dtypes)\n",
    "matching_values = [str(all_config_permutations_atomics[val]) for val in df_atomics['config']]\n",
    "df_atomics[\"config2\"] = matching_values\n",
    "df_atomics[\"config\"] = df_atomics[\"config\"].astype(int)\n",
    "\n",
    "result_df = pd.concat([df_og, df_atomics], ignore_index=True)"
   ]
  },
  {
   "cell_type": "code",
   "execution_count": 18,
   "metadata": {},
   "outputs": [
    {
     "name": "stdout",
     "output_type": "stream",
     "text": [
      "0.91069096326828\n",
      "0.8326754570007324\n",
      "0.8411534428596497\n"
     ]
    }
   ],
   "source": [
    "for col in result_df.columns[3:6]:\n",
    "    baseline = result_df[(result_df['type'] == 'original') & (result_df['config'] == 0)][col].values[0]\n",
    "    print(baseline)\n",
    "    result_df[f'{col}_abs_imp'] = result_df[col] - baseline\n",
    "    result_df[f'{col}_rel_imp'] = result_df[f'{col}_abs_imp'] / baseline\n",
    "# result_df"
   ]
  },
  {
   "cell_type": "code",
   "execution_count": 19,
   "metadata": {},
   "outputs": [
    {
     "data": {
      "text/html": [
       "<div>\n",
       "<style scoped>\n",
       "    .dataframe tbody tr th:only-of-type {\n",
       "        vertical-align: middle;\n",
       "    }\n",
       "\n",
       "    .dataframe tbody tr th {\n",
       "        vertical-align: top;\n",
       "    }\n",
       "\n",
       "    .dataframe thead th {\n",
       "        text-align: right;\n",
       "    }\n",
       "</style>\n",
       "<table border=\"1\" class=\"dataframe\">\n",
       "  <thead>\n",
       "    <tr style=\"text-align: right;\">\n",
       "      <th></th>\n",
       "      <th>type</th>\n",
       "      <th>config</th>\n",
       "      <th>val_loss</th>\n",
       "      <th>auc</th>\n",
       "      <th>acc</th>\n",
       "      <th>f1</th>\n",
       "      <th>config2</th>\n",
       "      <th>auc_abs_imp</th>\n",
       "      <th>auc_rel_imp</th>\n",
       "      <th>acc_abs_imp</th>\n",
       "      <th>acc_rel_imp</th>\n",
       "      <th>f1_abs_imp</th>\n",
       "      <th>f1_rel_imp</th>\n",
       "    </tr>\n",
       "  </thead>\n",
       "  <tbody>\n",
       "    <tr>\n",
       "      <th>5</th>\n",
       "      <td>original</td>\n",
       "      <td>5</td>\n",
       "      <td>0.526612</td>\n",
       "      <td>0.918550</td>\n",
       "      <td>0.841599</td>\n",
       "      <td>0.849306</td>\n",
       "      <td>(4, False, False, 2, False)</td>\n",
       "      <td>0.007859</td>\n",
       "      <td>0.008630</td>\n",
       "      <td>0.008924</td>\n",
       "      <td>0.010717</td>\n",
       "      <td>0.008153</td>\n",
       "      <td>0.009692</td>\n",
       "    </tr>\n",
       "    <tr>\n",
       "      <th>1</th>\n",
       "      <td>original</td>\n",
       "      <td>1</td>\n",
       "      <td>0.523145</td>\n",
       "      <td>0.918175</td>\n",
       "      <td>0.843058</td>\n",
       "      <td>0.850192</td>\n",
       "      <td>(4, True, False, 2, False)</td>\n",
       "      <td>0.007484</td>\n",
       "      <td>0.008218</td>\n",
       "      <td>0.010383</td>\n",
       "      <td>0.012469</td>\n",
       "      <td>0.009039</td>\n",
       "      <td>0.010746</td>\n",
       "    </tr>\n",
       "    <tr>\n",
       "      <th>24</th>\n",
       "      <td>CBM atomics</td>\n",
       "      <td>16</td>\n",
       "      <td>1.765409</td>\n",
       "      <td>0.917662</td>\n",
       "      <td>0.842972</td>\n",
       "      <td>0.850000</td>\n",
       "      <td>(100, 4, True, False, 2, True)</td>\n",
       "      <td>0.006971</td>\n",
       "      <td>0.007655</td>\n",
       "      <td>0.010297</td>\n",
       "      <td>0.012366</td>\n",
       "      <td>0.008847</td>\n",
       "      <td>0.010517</td>\n",
       "    </tr>\n",
       "    <tr>\n",
       "      <th>26</th>\n",
       "      <td>CBM atomics</td>\n",
       "      <td>18</td>\n",
       "      <td>1.798357</td>\n",
       "      <td>0.916835</td>\n",
       "      <td>0.844946</td>\n",
       "      <td>0.852043</td>\n",
       "      <td>(100, 4, True, True, 2, True)</td>\n",
       "      <td>0.006144</td>\n",
       "      <td>0.006747</td>\n",
       "      <td>0.012271</td>\n",
       "      <td>0.014736</td>\n",
       "      <td>0.010889</td>\n",
       "      <td>0.012946</td>\n",
       "    </tr>\n",
       "    <tr>\n",
       "      <th>28</th>\n",
       "      <td>CBM atomics</td>\n",
       "      <td>20</td>\n",
       "      <td>2.689944</td>\n",
       "      <td>0.916722</td>\n",
       "      <td>0.839626</td>\n",
       "      <td>0.847366</td>\n",
       "      <td>(100, 4, False, False, 2, True)</td>\n",
       "      <td>0.006031</td>\n",
       "      <td>0.006623</td>\n",
       "      <td>0.006950</td>\n",
       "      <td>0.008347</td>\n",
       "      <td>0.006213</td>\n",
       "      <td>0.007386</td>\n",
       "    </tr>\n",
       "    <tr>\n",
       "      <th>20</th>\n",
       "      <td>CBM atomics</td>\n",
       "      <td>12</td>\n",
       "      <td>0.643384</td>\n",
       "      <td>0.916580</td>\n",
       "      <td>0.841256</td>\n",
       "      <td>0.849177</td>\n",
       "      <td>(30, 4, False, False, 2, True)</td>\n",
       "      <td>0.005889</td>\n",
       "      <td>0.006467</td>\n",
       "      <td>0.008581</td>\n",
       "      <td>0.010305</td>\n",
       "      <td>0.008023</td>\n",
       "      <td>0.009538</td>\n",
       "    </tr>\n",
       "    <tr>\n",
       "      <th>12</th>\n",
       "      <td>CBM atomics</td>\n",
       "      <td>4</td>\n",
       "      <td>0.538779</td>\n",
       "      <td>0.916210</td>\n",
       "      <td>0.839283</td>\n",
       "      <td>0.847214</td>\n",
       "      <td>(10, 4, False, False, 2, True)</td>\n",
       "      <td>0.005519</td>\n",
       "      <td>0.006060</td>\n",
       "      <td>0.006607</td>\n",
       "      <td>0.007935</td>\n",
       "      <td>0.006061</td>\n",
       "      <td>0.007205</td>\n",
       "    </tr>\n",
       "    <tr>\n",
       "      <th>3</th>\n",
       "      <td>original</td>\n",
       "      <td>3</td>\n",
       "      <td>0.523690</td>\n",
       "      <td>0.915998</td>\n",
       "      <td>0.838425</td>\n",
       "      <td>0.845921</td>\n",
       "      <td>(4, True, True, 2, False)</td>\n",
       "      <td>0.005307</td>\n",
       "      <td>0.005828</td>\n",
       "      <td>0.005749</td>\n",
       "      <td>0.006904</td>\n",
       "      <td>0.004768</td>\n",
       "      <td>0.005668</td>\n",
       "    </tr>\n",
       "    <tr>\n",
       "      <th>22</th>\n",
       "      <td>CBM atomics</td>\n",
       "      <td>14</td>\n",
       "      <td>0.650159</td>\n",
       "      <td>0.915247</td>\n",
       "      <td>0.838167</td>\n",
       "      <td>0.845713</td>\n",
       "      <td>(30, 4, False, True, 2, True)</td>\n",
       "      <td>0.004556</td>\n",
       "      <td>0.005003</td>\n",
       "      <td>0.005492</td>\n",
       "      <td>0.006595</td>\n",
       "      <td>0.004560</td>\n",
       "      <td>0.005421</td>\n",
       "    </tr>\n",
       "    <tr>\n",
       "      <th>7</th>\n",
       "      <td>original</td>\n",
       "      <td>7</td>\n",
       "      <td>0.524418</td>\n",
       "      <td>0.915028</td>\n",
       "      <td>0.839626</td>\n",
       "      <td>0.846916</td>\n",
       "      <td>(4, False, True, 2, False)</td>\n",
       "      <td>0.004337</td>\n",
       "      <td>0.004763</td>\n",
       "      <td>0.006950</td>\n",
       "      <td>0.008347</td>\n",
       "      <td>0.005763</td>\n",
       "      <td>0.006851</td>\n",
       "    </tr>\n",
       "    <tr>\n",
       "      <th>4</th>\n",
       "      <td>original</td>\n",
       "      <td>4</td>\n",
       "      <td>0.520232</td>\n",
       "      <td>0.914995</td>\n",
       "      <td>0.841170</td>\n",
       "      <td>0.849034</td>\n",
       "      <td>(4, False, False, 2, True)</td>\n",
       "      <td>0.004304</td>\n",
       "      <td>0.004726</td>\n",
       "      <td>0.008495</td>\n",
       "      <td>0.010202</td>\n",
       "      <td>0.007880</td>\n",
       "      <td>0.009368</td>\n",
       "    </tr>\n",
       "    <tr>\n",
       "      <th>18</th>\n",
       "      <td>CBM atomics</td>\n",
       "      <td>10</td>\n",
       "      <td>0.545049</td>\n",
       "      <td>0.914284</td>\n",
       "      <td>0.836623</td>\n",
       "      <td>0.844673</td>\n",
       "      <td>(30, 4, True, True, 2, True)</td>\n",
       "      <td>0.003594</td>\n",
       "      <td>0.003946</td>\n",
       "      <td>0.003947</td>\n",
       "      <td>0.004740</td>\n",
       "      <td>0.003519</td>\n",
       "      <td>0.004184</td>\n",
       "    </tr>\n",
       "    <tr>\n",
       "      <th>14</th>\n",
       "      <td>CBM atomics</td>\n",
       "      <td>6</td>\n",
       "      <td>0.530644</td>\n",
       "      <td>0.913946</td>\n",
       "      <td>0.837309</td>\n",
       "      <td>0.844946</td>\n",
       "      <td>(10, 4, False, True, 2, True)</td>\n",
       "      <td>0.003255</td>\n",
       "      <td>0.003574</td>\n",
       "      <td>0.004634</td>\n",
       "      <td>0.005565</td>\n",
       "      <td>0.003793</td>\n",
       "      <td>0.004509</td>\n",
       "    </tr>\n",
       "    <tr>\n",
       "      <th>8</th>\n",
       "      <td>CBM atomics</td>\n",
       "      <td>0</td>\n",
       "      <td>0.531374</td>\n",
       "      <td>0.913891</td>\n",
       "      <td>0.837395</td>\n",
       "      <td>0.845142</td>\n",
       "      <td>(10, 4, True, False, 2, True)</td>\n",
       "      <td>0.003200</td>\n",
       "      <td>0.003514</td>\n",
       "      <td>0.004719</td>\n",
       "      <td>0.005668</td>\n",
       "      <td>0.003988</td>\n",
       "      <td>0.004741</td>\n",
       "    </tr>\n",
       "    <tr>\n",
       "      <th>10</th>\n",
       "      <td>CBM atomics</td>\n",
       "      <td>2</td>\n",
       "      <td>0.533596</td>\n",
       "      <td>0.913493</td>\n",
       "      <td>0.836966</td>\n",
       "      <td>0.844898</td>\n",
       "      <td>(10, 4, True, True, 2, True)</td>\n",
       "      <td>0.002802</td>\n",
       "      <td>0.003077</td>\n",
       "      <td>0.004290</td>\n",
       "      <td>0.005153</td>\n",
       "      <td>0.003745</td>\n",
       "      <td>0.004452</td>\n",
       "    </tr>\n",
       "    <tr>\n",
       "      <th>16</th>\n",
       "      <td>CBM atomics</td>\n",
       "      <td>8</td>\n",
       "      <td>0.546737</td>\n",
       "      <td>0.913247</td>\n",
       "      <td>0.834906</td>\n",
       "      <td>0.843450</td>\n",
       "      <td>(30, 4, True, False, 2, True)</td>\n",
       "      <td>0.002556</td>\n",
       "      <td>0.002806</td>\n",
       "      <td>0.002231</td>\n",
       "      <td>0.002679</td>\n",
       "      <td>0.002297</td>\n",
       "      <td>0.002730</td>\n",
       "    </tr>\n",
       "    <tr>\n",
       "      <th>2</th>\n",
       "      <td>original</td>\n",
       "      <td>2</td>\n",
       "      <td>0.517629</td>\n",
       "      <td>0.912331</td>\n",
       "      <td>0.837566</td>\n",
       "      <td>0.844823</td>\n",
       "      <td>(4, True, True, 2, True)</td>\n",
       "      <td>0.001640</td>\n",
       "      <td>0.001801</td>\n",
       "      <td>0.004891</td>\n",
       "      <td>0.005874</td>\n",
       "      <td>0.003670</td>\n",
       "      <td>0.004363</td>\n",
       "    </tr>\n",
       "    <tr>\n",
       "      <th>6</th>\n",
       "      <td>original</td>\n",
       "      <td>6</td>\n",
       "      <td>0.522624</td>\n",
       "      <td>0.911563</td>\n",
       "      <td>0.834563</td>\n",
       "      <td>0.842689</td>\n",
       "      <td>(4, False, True, 2, True)</td>\n",
       "      <td>0.000872</td>\n",
       "      <td>0.000958</td>\n",
       "      <td>0.001888</td>\n",
       "      <td>0.002267</td>\n",
       "      <td>0.001536</td>\n",
       "      <td>0.001826</td>\n",
       "    </tr>\n",
       "    <tr>\n",
       "      <th>0</th>\n",
       "      <td>original</td>\n",
       "      <td>0</td>\n",
       "      <td>0.519796</td>\n",
       "      <td>0.910691</td>\n",
       "      <td>0.832675</td>\n",
       "      <td>0.841153</td>\n",
       "      <td>(4, True, False, 2, True)</td>\n",
       "      <td>0.000000</td>\n",
       "      <td>0.000000</td>\n",
       "      <td>0.000000</td>\n",
       "      <td>0.000000</td>\n",
       "      <td>0.000000</td>\n",
       "      <td>0.000000</td>\n",
       "    </tr>\n",
       "    <tr>\n",
       "      <th>17</th>\n",
       "      <td>CBM atomics</td>\n",
       "      <td>9</td>\n",
       "      <td>0.827310</td>\n",
       "      <td>0.910655</td>\n",
       "      <td>0.858418</td>\n",
       "      <td>0.862500</td>\n",
       "      <td>(30, 4, True, False, 2, False)</td>\n",
       "      <td>-0.000036</td>\n",
       "      <td>-0.000039</td>\n",
       "      <td>0.025742</td>\n",
       "      <td>0.030915</td>\n",
       "      <td>0.021347</td>\n",
       "      <td>0.025378</td>\n",
       "    </tr>\n",
       "    <tr>\n",
       "      <th>13</th>\n",
       "      <td>CBM atomics</td>\n",
       "      <td>5</td>\n",
       "      <td>0.616583</td>\n",
       "      <td>0.910120</td>\n",
       "      <td>0.858504</td>\n",
       "      <td>0.863142</td>\n",
       "      <td>(10, 4, False, False, 2, False)</td>\n",
       "      <td>-0.000570</td>\n",
       "      <td>-0.000626</td>\n",
       "      <td>0.025828</td>\n",
       "      <td>0.031018</td>\n",
       "      <td>0.021989</td>\n",
       "      <td>0.026141</td>\n",
       "    </tr>\n",
       "    <tr>\n",
       "      <th>27</th>\n",
       "      <td>CBM atomics</td>\n",
       "      <td>19</td>\n",
       "      <td>4.391153</td>\n",
       "      <td>0.909683</td>\n",
       "      <td>0.846576</td>\n",
       "      <td>0.852500</td>\n",
       "      <td>(100, 4, True, True, 2, False)</td>\n",
       "      <td>-0.001008</td>\n",
       "      <td>-0.001107</td>\n",
       "      <td>0.013901</td>\n",
       "      <td>0.016694</td>\n",
       "      <td>0.011346</td>\n",
       "      <td>0.013489</td>\n",
       "    </tr>\n",
       "    <tr>\n",
       "      <th>29</th>\n",
       "      <td>CBM atomics</td>\n",
       "      <td>21</td>\n",
       "      <td>8.577740</td>\n",
       "      <td>0.908834</td>\n",
       "      <td>0.849150</td>\n",
       "      <td>0.854205</td>\n",
       "      <td>(100, 4, False, False, 2, False)</td>\n",
       "      <td>-0.001857</td>\n",
       "      <td>-0.002039</td>\n",
       "      <td>0.016475</td>\n",
       "      <td>0.019786</td>\n",
       "      <td>0.013051</td>\n",
       "      <td>0.015516</td>\n",
       "    </tr>\n",
       "    <tr>\n",
       "      <th>31</th>\n",
       "      <td>CBM atomics</td>\n",
       "      <td>23</td>\n",
       "      <td>8.597588</td>\n",
       "      <td>0.908043</td>\n",
       "      <td>0.858933</td>\n",
       "      <td>0.863410</td>\n",
       "      <td>(100, 4, False, True, 2, False)</td>\n",
       "      <td>-0.002648</td>\n",
       "      <td>-0.002908</td>\n",
       "      <td>0.026257</td>\n",
       "      <td>0.031533</td>\n",
       "      <td>0.022256</td>\n",
       "      <td>0.026459</td>\n",
       "    </tr>\n",
       "    <tr>\n",
       "      <th>15</th>\n",
       "      <td>CBM atomics</td>\n",
       "      <td>7</td>\n",
       "      <td>0.635308</td>\n",
       "      <td>0.906952</td>\n",
       "      <td>0.854642</td>\n",
       "      <td>0.858243</td>\n",
       "      <td>(10, 4, False, True, 2, False)</td>\n",
       "      <td>-0.003739</td>\n",
       "      <td>-0.004105</td>\n",
       "      <td>0.021967</td>\n",
       "      <td>0.026381</td>\n",
       "      <td>0.017089</td>\n",
       "      <td>0.020316</td>\n",
       "    </tr>\n",
       "    <tr>\n",
       "      <th>25</th>\n",
       "      <td>CBM atomics</td>\n",
       "      <td>17</td>\n",
       "      <td>4.452974</td>\n",
       "      <td>0.906022</td>\n",
       "      <td>0.844260</td>\n",
       "      <td>0.850037</td>\n",
       "      <td>(100, 4, True, False, 2, False)</td>\n",
       "      <td>-0.004669</td>\n",
       "      <td>-0.005127</td>\n",
       "      <td>0.011584</td>\n",
       "      <td>0.013912</td>\n",
       "      <td>0.008884</td>\n",
       "      <td>0.010561</td>\n",
       "    </tr>\n",
       "    <tr>\n",
       "      <th>11</th>\n",
       "      <td>CBM atomics</td>\n",
       "      <td>3</td>\n",
       "      <td>0.572110</td>\n",
       "      <td>0.905957</td>\n",
       "      <td>0.841085</td>\n",
       "      <td>0.849161</td>\n",
       "      <td>(10, 4, True, True, 2, False)</td>\n",
       "      <td>-0.004734</td>\n",
       "      <td>-0.005199</td>\n",
       "      <td>0.008409</td>\n",
       "      <td>0.010099</td>\n",
       "      <td>0.008008</td>\n",
       "      <td>0.009520</td>\n",
       "    </tr>\n",
       "    <tr>\n",
       "      <th>19</th>\n",
       "      <td>CBM atomics</td>\n",
       "      <td>11</td>\n",
       "      <td>0.820780</td>\n",
       "      <td>0.904981</td>\n",
       "      <td>0.840055</td>\n",
       "      <td>0.847363</td>\n",
       "      <td>(30, 4, True, True, 2, False)</td>\n",
       "      <td>-0.005709</td>\n",
       "      <td>-0.006269</td>\n",
       "      <td>0.007379</td>\n",
       "      <td>0.008862</td>\n",
       "      <td>0.006210</td>\n",
       "      <td>0.007382</td>\n",
       "    </tr>\n",
       "    <tr>\n",
       "      <th>9</th>\n",
       "      <td>CBM atomics</td>\n",
       "      <td>1</td>\n",
       "      <td>0.576555</td>\n",
       "      <td>0.904469</td>\n",
       "      <td>0.850438</td>\n",
       "      <td>0.854810</td>\n",
       "      <td>(10, 4, True, False, 2, False)</td>\n",
       "      <td>-0.006221</td>\n",
       "      <td>-0.006832</td>\n",
       "      <td>0.017762</td>\n",
       "      <td>0.021331</td>\n",
       "      <td>0.013657</td>\n",
       "      <td>0.016236</td>\n",
       "    </tr>\n",
       "    <tr>\n",
       "      <th>23</th>\n",
       "      <td>CBM atomics</td>\n",
       "      <td>15</td>\n",
       "      <td>1.213906</td>\n",
       "      <td>0.903346</td>\n",
       "      <td>0.853784</td>\n",
       "      <td>0.859010</td>\n",
       "      <td>(30, 4, False, True, 2, False)</td>\n",
       "      <td>-0.007345</td>\n",
       "      <td>-0.008065</td>\n",
       "      <td>0.021109</td>\n",
       "      <td>0.025350</td>\n",
       "      <td>0.017857</td>\n",
       "      <td>0.021229</td>\n",
       "    </tr>\n",
       "    <tr>\n",
       "      <th>21</th>\n",
       "      <td>CBM atomics</td>\n",
       "      <td>13</td>\n",
       "      <td>1.220986</td>\n",
       "      <td>0.902953</td>\n",
       "      <td>0.843230</td>\n",
       "      <td>0.849642</td>\n",
       "      <td>(30, 4, False, False, 2, False)</td>\n",
       "      <td>-0.007738</td>\n",
       "      <td>-0.008497</td>\n",
       "      <td>0.010554</td>\n",
       "      <td>0.012675</td>\n",
       "      <td>0.008489</td>\n",
       "      <td>0.010092</td>\n",
       "    </tr>\n",
       "    <tr>\n",
       "      <th>30</th>\n",
       "      <td>CBM atomics</td>\n",
       "      <td>22</td>\n",
       "      <td>2.681685</td>\n",
       "      <td>0.892282</td>\n",
       "      <td>0.810366</td>\n",
       "      <td>0.821889</td>\n",
       "      <td>(100, 4, False, True, 2, True)</td>\n",
       "      <td>-0.018409</td>\n",
       "      <td>-0.020215</td>\n",
       "      <td>-0.022310</td>\n",
       "      <td>-0.026793</td>\n",
       "      <td>-0.019264</td>\n",
       "      <td>-0.022902</td>\n",
       "    </tr>\n",
       "  </tbody>\n",
       "</table>\n",
       "</div>"
      ],
      "text/plain": [
       "           type  config  val_loss       auc       acc        f1  \\\n",
       "5      original       5  0.526612  0.918550  0.841599  0.849306   \n",
       "1      original       1  0.523145  0.918175  0.843058  0.850192   \n",
       "24  CBM atomics      16  1.765409  0.917662  0.842972  0.850000   \n",
       "26  CBM atomics      18  1.798357  0.916835  0.844946  0.852043   \n",
       "28  CBM atomics      20  2.689944  0.916722  0.839626  0.847366   \n",
       "20  CBM atomics      12  0.643384  0.916580  0.841256  0.849177   \n",
       "12  CBM atomics       4  0.538779  0.916210  0.839283  0.847214   \n",
       "3      original       3  0.523690  0.915998  0.838425  0.845921   \n",
       "22  CBM atomics      14  0.650159  0.915247  0.838167  0.845713   \n",
       "7      original       7  0.524418  0.915028  0.839626  0.846916   \n",
       "4      original       4  0.520232  0.914995  0.841170  0.849034   \n",
       "18  CBM atomics      10  0.545049  0.914284  0.836623  0.844673   \n",
       "14  CBM atomics       6  0.530644  0.913946  0.837309  0.844946   \n",
       "8   CBM atomics       0  0.531374  0.913891  0.837395  0.845142   \n",
       "10  CBM atomics       2  0.533596  0.913493  0.836966  0.844898   \n",
       "16  CBM atomics       8  0.546737  0.913247  0.834906  0.843450   \n",
       "2      original       2  0.517629  0.912331  0.837566  0.844823   \n",
       "6      original       6  0.522624  0.911563  0.834563  0.842689   \n",
       "0      original       0  0.519796  0.910691  0.832675  0.841153   \n",
       "17  CBM atomics       9  0.827310  0.910655  0.858418  0.862500   \n",
       "13  CBM atomics       5  0.616583  0.910120  0.858504  0.863142   \n",
       "27  CBM atomics      19  4.391153  0.909683  0.846576  0.852500   \n",
       "29  CBM atomics      21  8.577740  0.908834  0.849150  0.854205   \n",
       "31  CBM atomics      23  8.597588  0.908043  0.858933  0.863410   \n",
       "15  CBM atomics       7  0.635308  0.906952  0.854642  0.858243   \n",
       "25  CBM atomics      17  4.452974  0.906022  0.844260  0.850037   \n",
       "11  CBM atomics       3  0.572110  0.905957  0.841085  0.849161   \n",
       "19  CBM atomics      11  0.820780  0.904981  0.840055  0.847363   \n",
       "9   CBM atomics       1  0.576555  0.904469  0.850438  0.854810   \n",
       "23  CBM atomics      15  1.213906  0.903346  0.853784  0.859010   \n",
       "21  CBM atomics      13  1.220986  0.902953  0.843230  0.849642   \n",
       "30  CBM atomics      22  2.681685  0.892282  0.810366  0.821889   \n",
       "\n",
       "                             config2  auc_abs_imp  auc_rel_imp  acc_abs_imp  \\\n",
       "5        (4, False, False, 2, False)     0.007859     0.008630     0.008924   \n",
       "1         (4, True, False, 2, False)     0.007484     0.008218     0.010383   \n",
       "24    (100, 4, True, False, 2, True)     0.006971     0.007655     0.010297   \n",
       "26     (100, 4, True, True, 2, True)     0.006144     0.006747     0.012271   \n",
       "28   (100, 4, False, False, 2, True)     0.006031     0.006623     0.006950   \n",
       "20    (30, 4, False, False, 2, True)     0.005889     0.006467     0.008581   \n",
       "12    (10, 4, False, False, 2, True)     0.005519     0.006060     0.006607   \n",
       "3          (4, True, True, 2, False)     0.005307     0.005828     0.005749   \n",
       "22     (30, 4, False, True, 2, True)     0.004556     0.005003     0.005492   \n",
       "7         (4, False, True, 2, False)     0.004337     0.004763     0.006950   \n",
       "4         (4, False, False, 2, True)     0.004304     0.004726     0.008495   \n",
       "18      (30, 4, True, True, 2, True)     0.003594     0.003946     0.003947   \n",
       "14     (10, 4, False, True, 2, True)     0.003255     0.003574     0.004634   \n",
       "8      (10, 4, True, False, 2, True)     0.003200     0.003514     0.004719   \n",
       "10      (10, 4, True, True, 2, True)     0.002802     0.003077     0.004290   \n",
       "16     (30, 4, True, False, 2, True)     0.002556     0.002806     0.002231   \n",
       "2           (4, True, True, 2, True)     0.001640     0.001801     0.004891   \n",
       "6          (4, False, True, 2, True)     0.000872     0.000958     0.001888   \n",
       "0          (4, True, False, 2, True)     0.000000     0.000000     0.000000   \n",
       "17    (30, 4, True, False, 2, False)    -0.000036    -0.000039     0.025742   \n",
       "13   (10, 4, False, False, 2, False)    -0.000570    -0.000626     0.025828   \n",
       "27    (100, 4, True, True, 2, False)    -0.001008    -0.001107     0.013901   \n",
       "29  (100, 4, False, False, 2, False)    -0.001857    -0.002039     0.016475   \n",
       "31   (100, 4, False, True, 2, False)    -0.002648    -0.002908     0.026257   \n",
       "15    (10, 4, False, True, 2, False)    -0.003739    -0.004105     0.021967   \n",
       "25   (100, 4, True, False, 2, False)    -0.004669    -0.005127     0.011584   \n",
       "11     (10, 4, True, True, 2, False)    -0.004734    -0.005199     0.008409   \n",
       "19     (30, 4, True, True, 2, False)    -0.005709    -0.006269     0.007379   \n",
       "9     (10, 4, True, False, 2, False)    -0.006221    -0.006832     0.017762   \n",
       "23    (30, 4, False, True, 2, False)    -0.007345    -0.008065     0.021109   \n",
       "21   (30, 4, False, False, 2, False)    -0.007738    -0.008497     0.010554   \n",
       "30    (100, 4, False, True, 2, True)    -0.018409    -0.020215    -0.022310   \n",
       "\n",
       "    acc_rel_imp  f1_abs_imp  f1_rel_imp  \n",
       "5      0.010717    0.008153    0.009692  \n",
       "1      0.012469    0.009039    0.010746  \n",
       "24     0.012366    0.008847    0.010517  \n",
       "26     0.014736    0.010889    0.012946  \n",
       "28     0.008347    0.006213    0.007386  \n",
       "20     0.010305    0.008023    0.009538  \n",
       "12     0.007935    0.006061    0.007205  \n",
       "3      0.006904    0.004768    0.005668  \n",
       "22     0.006595    0.004560    0.005421  \n",
       "7      0.008347    0.005763    0.006851  \n",
       "4      0.010202    0.007880    0.009368  \n",
       "18     0.004740    0.003519    0.004184  \n",
       "14     0.005565    0.003793    0.004509  \n",
       "8      0.005668    0.003988    0.004741  \n",
       "10     0.005153    0.003745    0.004452  \n",
       "16     0.002679    0.002297    0.002730  \n",
       "2      0.005874    0.003670    0.004363  \n",
       "6      0.002267    0.001536    0.001826  \n",
       "0      0.000000    0.000000    0.000000  \n",
       "17     0.030915    0.021347    0.025378  \n",
       "13     0.031018    0.021989    0.026141  \n",
       "27     0.016694    0.011346    0.013489  \n",
       "29     0.019786    0.013051    0.015516  \n",
       "31     0.031533    0.022256    0.026459  \n",
       "15     0.026381    0.017089    0.020316  \n",
       "25     0.013912    0.008884    0.010561  \n",
       "11     0.010099    0.008008    0.009520  \n",
       "19     0.008862    0.006210    0.007382  \n",
       "9      0.021331    0.013657    0.016236  \n",
       "23     0.025350    0.017857    0.021229  \n",
       "21     0.012675    0.008489    0.010092  \n",
       "30    -0.026793   -0.019264   -0.022902  "
      ]
     },
     "execution_count": 19,
     "metadata": {},
     "output_type": "execute_result"
    }
   ],
   "source": [
    "result_df.sort_values(by='auc_abs_imp', ascending=False)\n",
    "# atomics: atomics, concepts, use_indicators, use_fixes, output_dim, use_summaries_for_atomics\n",
    "# original: concepts, use_indicators, use_fixes, output_dim, use_only_last_timestep\n"
   ]
  },
  {
   "cell_type": "markdown",
   "metadata": {},
   "source": [
    "## Optimization"
   ]
  },
  {
   "cell_type": "code",
   "execution_count": null,
   "metadata": {},
   "outputs": [],
   "source": [
    "# feature weights\n",
    "n_concepts = 4\n",
    "\n",
    "model = initializeModel(n_concepts, input_dim, changing_dim, seq_len, num_classes)\n",
    "model.fit(train_loader, val_loader, class_weights, model_path.format(n_concepts), 1000)\n",
    "\n",
    "for batch_idx, (Xb, yb) in enumerate(test_loader):\n",
    "    Xb, yb = Xb.to(device), yb.to(device)\n",
    "    probs = model.forward_probabilities(Xb)\n",
    "    \n",
    "    auc = auroc_metric(probs, yb).item()\n",
    "    acc = accuracy_metric(probs, yb).item()\n",
    "    conf_matrix(probs, yb)\n",
    "auc = auroc_metric.compute().item()\n",
    "acc = accuracy_metric.compute().item()\n",
    "conf_matrix.plot()\n",
    "auroc_metric.reset()\n",
    "accuracy_metric.reset()\n",
    "conf_matrix.reset()\n",
    "\n",
    "print(\"AUC\", auc)\n",
    "print(\"ACC\", acc)"
   ]
  },
  {
   "cell_type": "code",
   "execution_count": null,
   "metadata": {},
   "outputs": [],
   "source": [
    "for name, param in model.named_parameters():\n",
    "    if \"bottleneck.weight\" in name:\n",
    "        bottleneck_weights = param\n",
    "feature_weights = bottleneck_weights.cpu().detach().numpy()\n",
    "\n",
    "feature_weights.shape"
   ]
  },
  {
   "cell_type": "code",
   "execution_count": null,
   "metadata": {},
   "outputs": [],
   "source": [
    "# visualize weight magnitudes\n",
    "for c in range(n_concepts):\n",
    "    fig = plt.figure()\n",
    "    ax = fig.add_subplot(111)\n",
    "    inds = np.argsort(-np.abs(feature_weights[c]))[:100]\n",
    "    ax.bar(np.arange(1,101),np.abs(feature_weights[c])[inds])\n",
    "    ax.set_xlabel(\"Top 100 features\")\n",
    "    ax.set_ylabel(\"abs value of feature coefficient\")\n",
    "    plt.show()\n"
   ]
  },
  {
   "cell_type": "code",
   "execution_count": null,
   "metadata": {},
   "outputs": [],
   "source": [
    "# get 90th percentile of feature weights\n",
    "sum90p = np.sum(np.abs(feature_weights), axis=-1)*0.90\n",
    "sum90p.shape\n"
   ]
  },
  {
   "cell_type": "code",
   "execution_count": null,
   "metadata": {},
   "outputs": [],
   "source": [
    "# get top K indizes\n",
    "top_k_inds = []\n",
    "for c in range(n_concepts):\n",
    "    topkinds_conc = []\n",
    "    curr_sum = 0\n",
    "    inds = np.argsort(-np.abs(feature_weights[c])) #desc\n",
    "    sorted_weights = feature_weights[c][inds]\n",
    "    \n",
    "    for ind, weight in zip(inds, sorted_weights):\n",
    "        curr_sum += abs(weight)\n",
    "        if curr_sum <= sum90p[c]:\n",
    "            topkinds_conc.append(ind)\n",
    "        else:\n",
    "            break\n",
    "    \n",
    "    # if selects less than 10, choose 10 best\n",
    "    if len(topkinds_conc) < 10:\n",
    "        topkinds_conc = np.argsort(-np.abs(feature_weights[c]))[:10].tolist()\n",
    "    \n",
    "    top_k_inds.append(topkinds_conc)\n",
    "\n",
    "top_k_inds"
   ]
  },
  {
   "cell_type": "code",
   "execution_count": null,
   "metadata": {},
   "outputs": [],
   "source": [
    "# write top k inds to csv\n",
    "filename = experiment_folder + \"top-k/top_k_inds_c{}.csv\".format(n_concepts)\n",
    "\n",
    "directory = os.path.dirname(filename)\n",
    "if not os.path.exists(directory):\n",
    "    os.makedirs(directory)\n",
    "\n",
    "# writing to csv file \n",
    "with open(filename, 'w') as csvfile: \n",
    "    # creating a csv writer object \n",
    "    csvwriter = csv.writer(csvfile)\n",
    "    # writing the data rows \n",
    "    csvwriter.writerows(top_k_inds)\n"
   ]
  },
  {
   "cell_type": "code",
   "execution_count": null,
   "metadata": {},
   "outputs": [],
   "source": [
    "V = 13 + 1\n",
    "T = seq_len + 1\n",
    "print(T)\n",
    "vars_ = [i for i in range(1,V)] + [str(i) + \"_ind\" for i in range(1,V)]\n",
    "print(len(vars_))\n",
    "data_cols = [[\"feat_{}_time_{}\".format(v, t) for v in vars_] for t in range(1, T)]\n",
    "flattened_data_cols = [col for sublist in data_cols for col in sublist]\n",
    "print(len(flattened_data_cols))\n",
    "flattened_data_cols"
   ]
  },
  {
   "cell_type": "code",
   "execution_count": null,
   "metadata": {},
   "outputs": [],
   "source": [
    "\n",
    "for c, _list in enumerate(top_k_inds):\n",
    "    for ind in _list:\n",
    "        name, summary = getConcept(flattened_data_cols, input_dim, changing_dim, int(ind))\n",
    "        print(f\"Concept {c}: ID {ind}, Feature {name}, Summary {summary}\")\n"
   ]
  },
  {
   "cell_type": "code",
   "execution_count": null,
   "metadata": {},
   "outputs": [],
   "source": [
    "greedy_results = greedy_selection(auroc_metric, test_loader, top_k_inds, model, track_metrics={\"acc\": accuracy_metric})\n",
    "greedy_results.head(10)"
   ]
  },
  {
   "cell_type": "code",
   "execution_count": null,
   "metadata": {},
   "outputs": [],
   "source": [
    "top_k_csv_file = experiment_folder + \"top-k/bottleneck_r{}_c{}_topkinds.csv\".format(random_seed, n_concepts)\n",
    "\n",
    "# writing to csv file\n",
    "with open(top_k_csv_file, 'w') as csvfile: \n",
    "    # creating a csv writer object \n",
    "    csvwriter = csv.writer(csvfile)\n",
    "    csvwriter.writerow(greedy_results.columns)\n",
    "    # writing the data rows \n",
    "    for row in greedy_results.itertuples(index=False):\n",
    "        csvwriter.writerow(list(row))\n"
   ]
  },
  {
   "cell_type": "code",
   "execution_count": null,
   "metadata": {},
   "outputs": [],
   "source": [
    "sorted_ = greedy_results.sort_values([\"Concept\", \"ID\"])\n",
    "\n",
    "for row in sorted_.itertuples(index=False):\n",
    "    name, summary = getConcept(flattened_data_cols, input_dim, changing_dim, row[1])\n",
    "    print(f\"Concept {row[2]}: ID {row[1]}, Feature {name}, Summary {summary}\")"
   ]
  },
  {
   "cell_type": "code",
   "execution_count": null,
   "metadata": {},
   "outputs": [],
   "source": [
    "plt.plot(greedy_results[\"Score\"], label = f\"AUC {greedy_results['Score'].values[-1]:.3f}\")\n",
    "plt.plot(greedy_results[\"acc\"], label = f\"ACC {greedy_results['acc'].values[-1]:.3f}\")\n",
    "\n",
    "plt.xlabel('Num Concepts')\n",
    "plt.ylabel('Criteria')\n",
    "plt.title('Plot of Concepts vs Criteria')\n",
    "\n",
    "plt.legend()\n",
    "plt.show()\n"
   ]
  },
  {
   "cell_type": "code",
   "execution_count": null,
   "metadata": {},
   "outputs": [],
   "source": [
    "top_k_csv_file = \"/workdir/optimal-summaries-public/_models/arabic/multiclass/top-k/bottleneck_r1_c6_topkinds.csv\"\n",
    "n_concepts = 6\n",
    "model = initializeModel(n_concepts, input_dim, changing_dim, seq_len, num_classes, top_k=top_k_csv_file)\n",
    "# model.fit(train_loader, val_loader, weights, model_path.format(n_concepts), 1000)\n",
    "\n",
    "model.eval()\n",
    "with torch.no_grad():\n",
    "    for batch_idx, (Xb, yb) in enumerate(test_loader):\n",
    "        Xb, yb = Xb.to(device), yb.to(device)\n",
    "        probs = model.forward_probabilities(Xb)\n",
    "        \n",
    "        auc = auroc_metric(probs, yb).item()\n",
    "        acc = accuracy_metric(probs, yb).item()\n",
    "    auc = auroc_metric.compute().item()\n",
    "    acc = accuracy_metric.compute().item()\n",
    "    auroc_metric.reset()\n",
    "    accuracy_metric.reset()\n",
    "\n",
    "print(auc)\n",
    "print(acc)\n"
   ]
  },
  {
   "cell_type": "code",
   "execution_count": null,
   "metadata": {},
   "outputs": [],
   "source": [
    "model.fit(train_loader, val_loader, class_weights, save_model_path=\"/workdir/optimal-summaries-public/_models/arabic/multiclass/top-k/arabic_c6_finetuned.pt\", max_epochs=3000, patience=100)\n",
    "\n",
    "model.eval()\n",
    "with torch.no_grad():\n",
    "    for batch_idx, (Xb, yb) in enumerate(test_loader):\n",
    "        Xb, yb = Xb.to(device), yb.to(device)\n",
    "        probs = model.forward_probabilities(Xb)\n",
    "        \n",
    "        auc = auroc_metric(probs, yb)\n",
    "        acc = accuracy_metric(probs, yb)\n",
    "    auc = auroc_metric.compute().item()\n",
    "    acc = accuracy_metric.compute().item()\n",
    "    auroc_metric.reset()\n",
    "    accuracy_metric.reset()\n",
    "    \n",
    "print(auc)\n",
    "print(acc)\n"
   ]
  },
  {
   "cell_type": "code",
   "execution_count": null,
   "metadata": {},
   "outputs": [],
   "source": [
    "\n",
    "plt.plot(model.val_losses)\n",
    "plt.show()"
   ]
  },
  {
   "cell_type": "code",
   "execution_count": null,
   "metadata": {},
   "outputs": [],
   "source": []
  }
 ],
 "metadata": {
  "kernelspec": {
   "display_name": "base",
   "language": "python",
   "name": "python3"
  },
  "language_info": {
   "codemirror_mode": {
    "name": "ipython",
    "version": 3
   },
   "file_extension": ".py",
   "mimetype": "text/x-python",
   "name": "python",
   "nbconvert_exporter": "python",
   "pygments_lexer": "ipython3",
   "version": "3.10.12"
  }
 },
 "nbformat": 4,
 "nbformat_minor": 2
}
