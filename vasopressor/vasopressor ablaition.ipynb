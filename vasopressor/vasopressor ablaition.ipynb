{
 "cells": [
  {
   "cell_type": "code",
   "execution_count": 1,
   "metadata": {},
   "outputs": [
    {
     "name": "stdout",
     "output_type": "stream",
     "text": [
      "current device cuda:15\n"
     ]
    }
   ],
   "source": [
    "%load_ext autoreload\n",
    "%autoreload 2\n",
    "\n",
    "import sys\n",
    "sys.path.append('..')\n",
    "\n",
    "import numpy as np\n",
    "import pandas as pd\n",
    "import torch\n",
    "import random\n",
    "import csv\n",
    "from sklearn.model_selection import train_test_split\n",
    "from sklearn.utils.class_weight import compute_class_weight\n",
    "from sklearn.preprocessing import StandardScaler, RobustScaler\n",
    "import matplotlib.pyplot as plt\n",
    "import torch\n",
    "from torch.utils.data import TensorDataset, DataLoader\n",
    "from torch.autograd import Variable\n",
    "from torchmetrics.classification import AUROC, Accuracy, ConfusionMatrix, F1Score\n",
    "import os, subprocess, gc, time, datetime\n",
    "from itertools import product\n",
    "\n",
    "import models.original_models as original_models\n",
    "import models.models_3d_atomics_on_variate_to_concepts as new_models\n",
    "from vasopressor.preprocess_helpers import load_and_create_MIMIC_dataloader\n",
    "from models.helper import *\n",
    "from models.param_initializations import *\n",
    "from models.optimization_strategy import greedy_selection\n",
    "\n",
    "gpu_id = int(subprocess.check_output('nvidia-smi --query-gpu=memory.free --format=csv,nounits,noheader | nl -v 0 | sort -nrk 2 | cut -f 1 | head -n 1 | xargs', shell=True, text=True))\n",
    "device = torch.device(f'cuda:{gpu_id}') if torch.cuda.is_available else torch.device('cpu')\n",
    "print(\"current device\", device)"
   ]
  },
  {
   "cell_type": "code",
   "execution_count": 2,
   "metadata": {},
   "outputs": [
    {
     "name": "stdout",
     "output_type": "stream",
     "text": [
      "tensor([0.5797, 3.6376], dtype=torch.float64) 2 6\n",
      "torch.Size([512, 6, 27]) cpu\n",
      "torch.Size([512, 6, 27]) cpu\n",
      "torch.Size([512, 8]) cpu\n",
      "torch.Size([512, 2]) cpu\n"
     ]
    },
    {
     "data": {
      "text/plain": [
       "35"
      ]
     },
     "execution_count": 2,
     "metadata": {},
     "output_type": "execute_result"
    }
   ],
   "source": [
    "train_loader, val_loader, test_loader, class_weights, num_classes, changing_vars, static_names, seq_len = load_and_create_MIMIC_dataloader(output_dim = 2, batch_size = 512, random_state = 1)\n",
    "\n",
    "print(class_weights, num_classes, seq_len)\n",
    "\n",
    "for batch in train_loader:\n",
    "    [print(t.shape, t.device) for t in batch]\n",
    "    break\n",
    "\n",
    "len(train_loader)"
   ]
  },
  {
   "cell_type": "code",
   "execution_count": 3,
   "metadata": {},
   "outputs": [],
   "source": [
    "def plot_losses(train_losses, val_losses):\n",
    "    plt.plot(train_losses, color=\"black\", label=\"Train\")\n",
    "    plt.plot(val_losses, color=\"green\", label=\"Val\")\n",
    "    plt.yscale(\"log\")\n",
    "    plt.legend()\n",
    "    plt.show()\n",
    "\n",
    "def plot_metrics(history, n_concepts_list):\n",
    "    plt.plot(history[:, 0], history[:, 2], label=f'AUC')\n",
    "    plt.plot(history[:, 0], history[:, 3], label=f'ACC')\n",
    "    plt.plot(history[:, 0], history[:, 4], label=f'F1')\n",
    "\n",
    "    plt.xlabel('Num Concepts')\n",
    "    plt.ylabel('Criteria')\n",
    "    plt.title('Plot of Concepts vs Criteria')\n",
    "    plt.xticks(n_concepts_list)\n",
    "\n",
    "    plt.legend()\n",
    "    plt.show()\n",
    "\n",
    "def plot_atomics_concepts_metric(history, title, dec=\"{:.3g}\"):\n",
    "        \n",
    "    df = pd.DataFrame(history, columns=[\"n_atomics\", \"n_concepts\", \"val_loss\", \"auc\", \"acc\", \"f1\"])\n",
    "    mean_atomics = df.groupby(\"n_atomics\").mean()\n",
    "    mean_concepts = df.groupby(\"n_concepts\").mean()\n",
    "\n",
    "    # display(mean_atomics)\n",
    "    plt.plot(mean_atomics.index, mean_atomics[\"auc\"], label='AUC')\n",
    "    plt.plot(mean_atomics.index, mean_atomics[\"acc\"], label='ACC')\n",
    "    plt.plot(mean_atomics.index, mean_atomics[\"f1\"], label='F1')\n",
    "    plt.xlabel('Num Atomics')\n",
    "    plt.ylabel('Criteria')\n",
    "    plt.title(\"Metric as mean over atomics\")\n",
    "    plt.suptitle(title)\n",
    "    plt.legend()\n",
    "    plt.show()\n",
    "\n",
    "    # display(mean_concepts)\n",
    "    plt.plot(mean_concepts.index, mean_concepts[\"auc\"], label='AUC')\n",
    "    plt.plot(mean_concepts.index, mean_concepts[\"acc\"], label='ACC')\n",
    "    plt.plot(mean_concepts.index, mean_concepts[\"f1\"], label='F1')\n",
    "    plt.xlabel('Num Concepts')\n",
    "    plt.ylabel('Criteria')\n",
    "    plt.title(\"Metric as mean over concepts\")\n",
    "    plt.suptitle(title)\n",
    "    plt.legend()\n",
    "    plt.show()\n"
   ]
  },
  {
   "cell_type": "code",
   "execution_count": 4,
   "metadata": {},
   "outputs": [],
   "source": [
    "def initializeModel(n_concepts, static_dim, changing_dim, seq_len, output_dim, noise_std, top_k=''):\n",
    "    model = original_models.CBM(static_dim = static_dim, \n",
    "                                changing_dim = changing_dim, \n",
    "                                seq_len = seq_len,\n",
    "                                num_concepts = n_concepts,\n",
    "                                use_indicators = True,\n",
    "                                use_fixes = False,\n",
    "                                use_only_last_timestep = False,\n",
    "                                use_grad_norm = False,\n",
    "                                noise_std = noise_std,\n",
    "                                opt_lr = 1e-3,\n",
    "                                opt_weight_decay = 1e-5,\n",
    "                                l1_lambda=1e-3,\n",
    "                                cos_sim_lambda=1e-2,\n",
    "                                output_dim = output_dim,\n",
    "                                top_k=top_k,\n",
    "                                device = device\n",
    "                                )\n",
    "    model = model.to(device)\n",
    "    return model\n",
    "\n",
    "def initializeModel_with_atomics(n_atomics, n_concepts, static_dim, changing_dim, seq_len, output_dim, use_summaries_for_atomics, noise_std, top_k=''):\n",
    "    model = new_models.CBM(static_dim = static_dim, \n",
    "                            changing_dim = changing_dim, \n",
    "                            seq_len = seq_len,\n",
    "                            num_concepts = n_concepts,\n",
    "                            num_atomics= n_atomics,\n",
    "                            use_summaries_for_atomics = use_summaries_for_atomics,\n",
    "                            use_indicators = True,\n",
    "                            use_fixes = False,\n",
    "                            use_grad_norm = False,\n",
    "                            noise_std = noise_std,\n",
    "                            opt_lr = 1e-3,\n",
    "                            opt_weight_decay = 1e-5,\n",
    "                            l1_lambda=1e-3,\n",
    "                            cos_sim_lambda=1e-2,\n",
    "                            output_dim = output_dim,\n",
    "                            top_k=top_k,\n",
    "                            device = device\n",
    "                            )\n",
    "    model = model.to(device)\n",
    "    return model\n"
   ]
  },
  {
   "cell_type": "code",
   "execution_count": 5,
   "metadata": {},
   "outputs": [
    {
     "name": "stdout",
     "output_type": "stream",
     "text": [
      "27 8 6\n"
     ]
    }
   ],
   "source": [
    "auroc_metric = AUROC(task=\"binary\").to(device)\n",
    "accuracy_metric = Accuracy(task=\"binary\").to(device)\n",
    "f1_metric = F1Score(task=\"binary\").to(device)\n",
    "conf_matrix = ConfusionMatrix(task=\"binary\").to(device)\n",
    "\n",
    "seq_len = seq_len\n",
    "changing_dim = len(changing_vars)\n",
    "static_dim = len(static_names)\n",
    "\n",
    "print(changing_dim, static_dim, seq_len)\n",
    "\n",
    "random_seed = 1\n",
    "set_seed(random_seed)\n"
   ]
  },
  {
   "cell_type": "markdown",
   "metadata": {},
   "source": [
    "## Original"
   ]
  },
  {
   "cell_type": "code",
   "execution_count": 6,
   "metadata": {},
   "outputs": [
    {
     "name": "stdout",
     "output_type": "stream",
     "text": [
      "7\n"
     ]
    }
   ],
   "source": [
    "config_original = {\n",
    "    \"n_concepts\": [4], # 20\n",
    "    # \"use_indicators\": [True], # False\n",
    "    # \"use_fixes\": [False], # True\n",
    "    # \"use_only_last_timestep\": [False], # True\n",
    "    # \"output_dim\": [2], #1\n",
    "    # \"use_grad_norm\": [False], # \"FULL\", \"COMPONENT_WISE\"],\n",
    "    \"noise_std\": [None, .2, .5, .7, 1, 5, 10],\n",
    "}\n",
    "\n",
    "all_config_permutations_og = list(product(*config_original.values()))\n",
    "all_config_permutations_og = [dict(zip(config_original.keys(), permutation)) for permutation in all_config_permutations_og]\n",
    "print(len(all_config_permutations_og))\n",
    "# all_config_permutations_og"
   ]
  },
  {
   "cell_type": "code",
   "execution_count": 7,
   "metadata": {},
   "outputs": [],
   "source": [
    "experiment_folder = \"/workdir/optimal-summaries-public/_models/vasopressor/original/\"\n",
    "model_path = experiment_folder + \"vaso_c_{n_concepts}_noise_std_{noise_std}.pt\"\n",
    "\n",
    "if not os.path.exists(experiment_folder):\n",
    "    os.makedirs(experiment_folder)"
   ]
  },
  {
   "cell_type": "code",
   "execution_count": 8,
   "metadata": {},
   "outputs": [
    {
     "name": "stdout",
     "output_type": "stream",
     "text": [
      "0 {'n_concepts': 4, 'noise_std': None}\n"
     ]
    },
    {
     "name": "stderr",
     "output_type": "stream",
     "text": [
      "/usr/local/lib/python3.10/dist-packages/torch/nn/modules/lazy.py:180: UserWarning: Lazy modules are a new feature under heavy development so changes to the API or functionality can happen at any moment.\n",
      "  warnings.warn('Lazy modules are a new feature under heavy development '\n"
     ]
    },
    {
     "name": "stdout",
     "output_type": "stream",
     "text": [
      "Loaded model from /workdir/optimal-summaries-public/_models/vasopressor/original/vaso_c_4_noise_std_None.pt0\n",
      "['original', 0, 0.525508463382721, 0.9068102240562439, 0.8282992839813232, 0.8375415802001953, 0.0034812933299690485]\n",
      "1 {'n_concepts': 4, 'noise_std': 0.2}\n"
     ]
    },
    {
     "name": "stderr",
     "output_type": "stream",
     "text": [
      "/usr/local/lib/python3.10/dist-packages/torch/nn/modules/lazy.py:180: UserWarning: Lazy modules are a new feature under heavy development so changes to the API or functionality can happen at any moment.\n",
      "  warnings.warn('Lazy modules are a new feature under heavy development '\n"
     ]
    },
    {
     "name": "stdout",
     "output_type": "stream",
     "text": [
      "Loaded model from /workdir/optimal-summaries-public/_models/vasopressor/original/vaso_c_4_noise_std_0.2.pt0\n",
      "['original', 1, 0.5295618772506714, 0.920878529548645, 0.84503173828125, 0.8515534996986389, 0.002568579278886318]\n",
      "2 {'n_concepts': 4, 'noise_std': 0.5}\n"
     ]
    },
    {
     "name": "stderr",
     "output_type": "stream",
     "text": [
      "/usr/local/lib/python3.10/dist-packages/torch/nn/modules/lazy.py:180: UserWarning: Lazy modules are a new feature under heavy development so changes to the API or functionality can happen at any moment.\n",
      "  warnings.warn('Lazy modules are a new feature under heavy development '\n"
     ]
    },
    {
     "name": "stdout",
     "output_type": "stream",
     "text": [
      "Loaded model from /workdir/optimal-summaries-public/_models/vasopressor/original/vaso_c_4_noise_std_0.5.pt0\n",
      "['original', 2, 0.533340573310852, 0.9225826263427734, 0.8509524464607239, 0.8571663498878479, 0.008071878924965858]\n",
      "3 {'n_concepts': 4, 'noise_std': 0.7}\n"
     ]
    },
    {
     "name": "stderr",
     "output_type": "stream",
     "text": [
      "/usr/local/lib/python3.10/dist-packages/torch/nn/modules/lazy.py:180: UserWarning: Lazy modules are a new feature under heavy development so changes to the API or functionality can happen at any moment.\n",
      "  warnings.warn('Lazy modules are a new feature under heavy development '\n"
     ]
    },
    {
     "name": "stdout",
     "output_type": "stream",
     "text": [
      "Loaded model from /workdir/optimal-summaries-public/_models/vasopressor/original/vaso_c_4_noise_std_0.7.pt0\n",
      "['original', 3, 0.539553701877594, 0.9204360246658325, 0.8488072752952576, 0.8556210994720459, 0.0024960751179605722]\n",
      "4 {'n_concepts': 4, 'noise_std': 1}\n"
     ]
    },
    {
     "name": "stderr",
     "output_type": "stream",
     "text": [
      "/usr/local/lib/python3.10/dist-packages/torch/nn/modules/lazy.py:180: UserWarning: Lazy modules are a new feature under heavy development so changes to the API or functionality can happen at any moment.\n",
      "  warnings.warn('Lazy modules are a new feature under heavy development '\n"
     ]
    },
    {
     "name": "stdout",
     "output_type": "stream",
     "text": [
      "Loaded model from /workdir/optimal-summaries-public/_models/vasopressor/original/vaso_c_4_noise_std_1.pt0\n",
      "['original', 4, 0.5453298091888428, 0.9191163778305054, 0.8518105149269104, 0.8570955991744995, 0.006736647337675095]\n",
      "5 {'n_concepts': 4, 'noise_std': 5}\n"
     ]
    },
    {
     "name": "stderr",
     "output_type": "stream",
     "text": [
      "/usr/local/lib/python3.10/dist-packages/torch/nn/modules/lazy.py:180: UserWarning: Lazy modules are a new feature under heavy development so changes to the API or functionality can happen at any moment.\n",
      "  warnings.warn('Lazy modules are a new feature under heavy development '\n"
     ]
    },
    {
     "name": "stdout",
     "output_type": "stream",
     "text": [
      "Loaded model from /workdir/optimal-summaries-public/_models/vasopressor/original/vaso_c_4_noise_std_5.pt0\n",
      "['original', 5, 0.6166917681694031, 0.8860873579978943, 0.8625364899635315, 0.8625364899635315, 0.006321067921817303]\n",
      "6 {'n_concepts': 4, 'noise_std': 10}\n"
     ]
    },
    {
     "name": "stderr",
     "output_type": "stream",
     "text": [
      "/usr/local/lib/python3.10/dist-packages/torch/nn/modules/lazy.py:180: UserWarning: Lazy modules are a new feature under heavy development so changes to the API or functionality can happen at any moment.\n",
      "  warnings.warn('Lazy modules are a new feature under heavy development '\n"
     ]
    },
    {
     "name": "stdout",
     "output_type": "stream",
     "text": [
      "Loaded model from /workdir/optimal-summaries-public/_models/vasopressor/original/vaso_c_4_noise_std_10.pt0\n",
      "['original', 6, 0.616441011428833, 0.8932431936264038, 0.8625364899635315, 0.8625364899635315, 0.0045585911720991135]\n",
      "0 {'n_concepts': 4, 'noise_std': None}\n"
     ]
    },
    {
     "name": "stderr",
     "output_type": "stream",
     "text": [
      "/usr/local/lib/python3.10/dist-packages/torch/nn/modules/lazy.py:180: UserWarning: Lazy modules are a new feature under heavy development so changes to the API or functionality can happen at any moment.\n",
      "  warnings.warn('Lazy modules are a new feature under heavy development '\n"
     ]
    },
    {
     "name": "stdout",
     "output_type": "stream",
     "text": [
      "Loaded model from /workdir/optimal-summaries-public/_models/vasopressor/original/vaso_c_4_noise_std_None.pt1\n",
      "['original', 0, 0.5238928198814392, 0.9152960777282715, 0.8355070948600769, 0.8443361520767212, 0.001567985164001584]\n",
      "1 {'n_concepts': 4, 'noise_std': 0.2}\n"
     ]
    },
    {
     "name": "stderr",
     "output_type": "stream",
     "text": [
      "/usr/local/lib/python3.10/dist-packages/torch/nn/modules/lazy.py:180: UserWarning: Lazy modules are a new feature under heavy development so changes to the API or functionality can happen at any moment.\n",
      "  warnings.warn('Lazy modules are a new feature under heavy development '\n"
     ]
    },
    {
     "name": "stdout",
     "output_type": "stream",
     "text": [
      "Loaded model from /workdir/optimal-summaries-public/_models/vasopressor/original/vaso_c_4_noise_std_0.2.pt1\n",
      "['original', 1, 0.5243664383888245, 0.9156662225723267, 0.8372232913970947, 0.8453322649002075, 0.006055811420083046]\n",
      "2 {'n_concepts': 4, 'noise_std': 0.5}\n"
     ]
    },
    {
     "name": "stderr",
     "output_type": "stream",
     "text": [
      "/usr/local/lib/python3.10/dist-packages/torch/nn/modules/lazy.py:180: UserWarning: Lazy modules are a new feature under heavy development so changes to the API or functionality can happen at any moment.\n",
      "  warnings.warn('Lazy modules are a new feature under heavy development '\n"
     ]
    },
    {
     "name": "stdout",
     "output_type": "stream",
     "text": [
      "Loaded model from /workdir/optimal-summaries-public/_models/vasopressor/original/vaso_c_4_noise_std_0.5.pt1\n",
      "['original', 2, 0.5299418568611145, 0.922660231590271, 0.8522395491600037, 0.858154833316803, 0.0060775745660066605]\n",
      "3 {'n_concepts': 4, 'noise_std': 0.7}\n"
     ]
    },
    {
     "name": "stderr",
     "output_type": "stream",
     "text": [
      "/usr/local/lib/python3.10/dist-packages/torch/nn/modules/lazy.py:180: UserWarning: Lazy modules are a new feature under heavy development so changes to the API or functionality can happen at any moment.\n",
      "  warnings.warn('Lazy modules are a new feature under heavy development '\n"
     ]
    },
    {
     "name": "stdout",
     "output_type": "stream",
     "text": [
      "Loaded model from /workdir/optimal-summaries-public/_models/vasopressor/original/vaso_c_4_noise_std_0.7.pt1\n",
      "['original', 3, 0.5436668992042542, 0.9149430990219116, 0.843315601348877, 0.8503769040107727, 0.0021846911404281855]\n",
      "4 {'n_concepts': 4, 'noise_std': 1}\n"
     ]
    },
    {
     "name": "stderr",
     "output_type": "stream",
     "text": [
      "/usr/local/lib/python3.10/dist-packages/torch/nn/modules/lazy.py:180: UserWarning: Lazy modules are a new feature under heavy development so changes to the API or functionality can happen at any moment.\n",
      "  warnings.warn('Lazy modules are a new feature under heavy development '\n"
     ]
    },
    {
     "name": "stdout",
     "output_type": "stream",
     "text": [
      "Loaded model from /workdir/optimal-summaries-public/_models/vasopressor/original/vaso_c_4_noise_std_1.pt1\n",
      "['original', 4, 0.5450302958488464, 0.9226792454719543, 0.860477089881897, 0.8651294112205505, 0.008830243721604347]\n",
      "5 {'n_concepts': 4, 'noise_std': 5}\n"
     ]
    },
    {
     "name": "stderr",
     "output_type": "stream",
     "text": [
      "/usr/local/lib/python3.10/dist-packages/torch/nn/modules/lazy.py:180: UserWarning: Lazy modules are a new feature under heavy development so changes to the API or functionality can happen at any moment.\n",
      "  warnings.warn('Lazy modules are a new feature under heavy development '\n"
     ]
    },
    {
     "name": "stdout",
     "output_type": "stream",
     "text": [
      "Loaded model from /workdir/optimal-summaries-public/_models/vasopressor/original/vaso_c_4_noise_std_5.pt1\n",
      "['original', 5, 0.6153317093849182, 0.8931022882461548, 0.8625364899635315, 0.8625364899635315, 0.003871450200676918]\n",
      "6 {'n_concepts': 4, 'noise_std': 10}\n"
     ]
    },
    {
     "name": "stderr",
     "output_type": "stream",
     "text": [
      "/usr/local/lib/python3.10/dist-packages/torch/nn/modules/lazy.py:180: UserWarning: Lazy modules are a new feature under heavy development so changes to the API or functionality can happen at any moment.\n",
      "  warnings.warn('Lazy modules are a new feature under heavy development '\n"
     ]
    },
    {
     "name": "stdout",
     "output_type": "stream",
     "text": [
      "Loaded model from /workdir/optimal-summaries-public/_models/vasopressor/original/vaso_c_4_noise_std_10.pt1\n",
      "['original', 6, 0.6149837374687195, 0.8935247659683228, 0.8625364899635315, 0.8625364899635315, 0.0029034356120973825]\n",
      "0 {'n_concepts': 4, 'noise_std': None}\n"
     ]
    },
    {
     "name": "stderr",
     "output_type": "stream",
     "text": [
      "/usr/local/lib/python3.10/dist-packages/torch/nn/modules/lazy.py:180: UserWarning: Lazy modules are a new feature under heavy development so changes to the API or functionality can happen at any moment.\n",
      "  warnings.warn('Lazy modules are a new feature under heavy development '\n"
     ]
    },
    {
     "name": "stdout",
     "output_type": "stream",
     "text": [
      "Loaded model from /workdir/optimal-summaries-public/_models/vasopressor/original/vaso_c_4_noise_std_None.pt2\n",
      "['original', 0, 0.5246906280517578, 0.9147120714187622, 0.8355070948600769, 0.8428817391395569, 0.003625673009082675]\n",
      "1 {'n_concepts': 4, 'noise_std': 0.2}\n"
     ]
    },
    {
     "name": "stderr",
     "output_type": "stream",
     "text": [
      "/usr/local/lib/python3.10/dist-packages/torch/nn/modules/lazy.py:180: UserWarning: Lazy modules are a new feature under heavy development so changes to the API or functionality can happen at any moment.\n",
      "  warnings.warn('Lazy modules are a new feature under heavy development '\n"
     ]
    },
    {
     "name": "stdout",
     "output_type": "stream",
     "text": [
      "Loaded model from /workdir/optimal-summaries-public/_models/vasopressor/original/vaso_c_4_noise_std_0.2.pt2\n",
      "['original', 1, 0.5204289555549622, 0.9180641174316406, 0.8390251994132996, 0.846882164478302, 0.0037810185458511114]\n",
      "2 {'n_concepts': 4, 'noise_std': 0.5}\n"
     ]
    },
    {
     "name": "stderr",
     "output_type": "stream",
     "text": [
      "/usr/local/lib/python3.10/dist-packages/torch/nn/modules/lazy.py:180: UserWarning: Lazy modules are a new feature under heavy development so changes to the API or functionality can happen at any moment.\n",
      "  warnings.warn('Lazy modules are a new feature under heavy development '\n"
     ]
    },
    {
     "name": "stdout",
     "output_type": "stream",
     "text": [
      "Loaded model from /workdir/optimal-summaries-public/_models/vasopressor/original/vaso_c_4_noise_std_0.5.pt2\n",
      "['original', 2, 0.5338571071624756, 0.9225606918334961, 0.8544705510139465, 0.8600659966468811, 0.007677204441279173]\n",
      "3 {'n_concepts': 4, 'noise_std': 0.7}\n"
     ]
    },
    {
     "name": "stderr",
     "output_type": "stream",
     "text": [
      "/usr/local/lib/python3.10/dist-packages/torch/nn/modules/lazy.py:180: UserWarning: Lazy modules are a new feature under heavy development so changes to the API or functionality can happen at any moment.\n",
      "  warnings.warn('Lazy modules are a new feature under heavy development '\n"
     ]
    },
    {
     "name": "stdout",
     "output_type": "stream",
     "text": [
      "Loaded model from /workdir/optimal-summaries-public/_models/vasopressor/original/vaso_c_4_noise_std_0.7.pt2\n",
      "['original', 3, 0.5351383686065674, 0.921669065952301, 0.8542989492416382, 0.860522449016571, 0.01042158342897892]\n",
      "4 {'n_concepts': 4, 'noise_std': 1}\n"
     ]
    },
    {
     "name": "stderr",
     "output_type": "stream",
     "text": [
      "/usr/local/lib/python3.10/dist-packages/torch/nn/modules/lazy.py:180: UserWarning: Lazy modules are a new feature under heavy development so changes to the API or functionality can happen at any moment.\n",
      "  warnings.warn('Lazy modules are a new feature under heavy development '\n"
     ]
    },
    {
     "name": "stdout",
     "output_type": "stream",
     "text": [
      "Loaded model from /workdir/optimal-summaries-public/_models/vasopressor/original/vaso_c_4_noise_std_1.pt2\n",
      "['original', 4, 0.5441659092903137, 0.918120265007019, 0.8502659797668457, 0.8572596907615662, 0.0046492828987538815]\n",
      "5 {'n_concepts': 4, 'noise_std': 5}\n"
     ]
    },
    {
     "name": "stderr",
     "output_type": "stream",
     "text": [
      "/usr/local/lib/python3.10/dist-packages/torch/nn/modules/lazy.py:180: UserWarning: Lazy modules are a new feature under heavy development so changes to the API or functionality can happen at any moment.\n",
      "  warnings.warn('Lazy modules are a new feature under heavy development '\n"
     ]
    },
    {
     "name": "stdout",
     "output_type": "stream",
     "text": [
      "Loaded model from /workdir/optimal-summaries-public/_models/vasopressor/original/vaso_c_4_noise_std_5.pt2\n",
      "['original', 5, 0.6155131459236145, 0.89595627784729, 0.8625364899635315, 0.8625364899635315, 0.0038784602656960487]\n",
      "6 {'n_concepts': 4, 'noise_std': 10}\n"
     ]
    },
    {
     "name": "stderr",
     "output_type": "stream",
     "text": [
      "/usr/local/lib/python3.10/dist-packages/torch/nn/modules/lazy.py:180: UserWarning: Lazy modules are a new feature under heavy development so changes to the API or functionality can happen at any moment.\n",
      "  warnings.warn('Lazy modules are a new feature under heavy development '\n"
     ]
    },
    {
     "name": "stdout",
     "output_type": "stream",
     "text": [
      "Loaded model from /workdir/optimal-summaries-public/_models/vasopressor/original/vaso_c_4_noise_std_10.pt2\n",
      "['original', 6, 0.6155872344970703, 0.8880715370178223, 0.8625364899635315, 0.8625364899635315, 0.0016023411881178617]\n",
      "0 {'n_concepts': 4, 'noise_std': None}\n"
     ]
    },
    {
     "name": "stderr",
     "output_type": "stream",
     "text": [
      "/usr/local/lib/python3.10/dist-packages/torch/nn/modules/lazy.py:180: UserWarning: Lazy modules are a new feature under heavy development so changes to the API or functionality can happen at any moment.\n",
      "  warnings.warn('Lazy modules are a new feature under heavy development '\n"
     ]
    },
    {
     "name": "stdout",
     "output_type": "stream",
     "text": [
      "Loaded model from /workdir/optimal-summaries-public/_models/vasopressor/original/vaso_c_4_noise_std_None.pt3\n",
      "['original', 0, 0.5205267071723938, 0.914088249206543, 0.8358503580093384, 0.8435429930686951, 0.0025841682218015194]\n",
      "1 {'n_concepts': 4, 'noise_std': 0.2}\n"
     ]
    },
    {
     "name": "stderr",
     "output_type": "stream",
     "text": [
      "/usr/local/lib/python3.10/dist-packages/torch/nn/modules/lazy.py:180: UserWarning: Lazy modules are a new feature under heavy development so changes to the API or functionality can happen at any moment.\n",
      "  warnings.warn('Lazy modules are a new feature under heavy development '\n"
     ]
    },
    {
     "name": "stdout",
     "output_type": "stream",
     "text": [
      "Loaded model from /workdir/optimal-summaries-public/_models/vasopressor/original/vaso_c_4_noise_std_0.2.pt3\n",
      "['original', 1, 0.5325137376785278, 0.9209467172622681, 0.8444311022758484, 0.8512837290763855, 0.002366631757467985]\n",
      "2 {'n_concepts': 4, 'noise_std': 0.5}\n"
     ]
    },
    {
     "name": "stderr",
     "output_type": "stream",
     "text": [
      "/usr/local/lib/python3.10/dist-packages/torch/nn/modules/lazy.py:180: UserWarning: Lazy modules are a new feature under heavy development so changes to the API or functionality can happen at any moment.\n",
      "  warnings.warn('Lazy modules are a new feature under heavy development '\n"
     ]
    },
    {
     "name": "stdout",
     "output_type": "stream",
     "text": [
      "Loaded model from /workdir/optimal-summaries-public/_models/vasopressor/original/vaso_c_4_noise_std_0.5.pt3\n",
      "['original', 2, 0.5386241674423218, 0.9239230155944824, 0.857302188873291, 0.8624141812324524, 0.0026031576562672853]\n",
      "3 {'n_concepts': 4, 'noise_std': 0.7}\n"
     ]
    },
    {
     "name": "stderr",
     "output_type": "stream",
     "text": [
      "/usr/local/lib/python3.10/dist-packages/torch/nn/modules/lazy.py:180: UserWarning: Lazy modules are a new feature under heavy development so changes to the API or functionality can happen at any moment.\n",
      "  warnings.warn('Lazy modules are a new feature under heavy development '\n"
     ]
    },
    {
     "name": "stdout",
     "output_type": "stream",
     "text": [
      "Loaded model from /workdir/optimal-summaries-public/_models/vasopressor/original/vaso_c_4_noise_std_0.7.pt3\n",
      "['original', 3, 0.5453863143920898, 0.9229612350463867, 0.8557576537132263, 0.8612464070320129, 0.0017599049024283886]\n",
      "4 {'n_concepts': 4, 'noise_std': 1}\n"
     ]
    },
    {
     "name": "stderr",
     "output_type": "stream",
     "text": [
      "/usr/local/lib/python3.10/dist-packages/torch/nn/modules/lazy.py:180: UserWarning: Lazy modules are a new feature under heavy development so changes to the API or functionality can happen at any moment.\n",
      "  warnings.warn('Lazy modules are a new feature under heavy development '\n"
     ]
    },
    {
     "name": "stdout",
     "output_type": "stream",
     "text": [
      "Loaded model from /workdir/optimal-summaries-public/_models/vasopressor/original/vaso_c_4_noise_std_1.pt3\n",
      "['original', 4, 0.5445474982261658, 0.9228569269180298, 0.8571305871009827, 0.8629065752029419, 0.002744087018072605]\n",
      "5 {'n_concepts': 4, 'noise_std': 5}\n"
     ]
    },
    {
     "name": "stderr",
     "output_type": "stream",
     "text": [
      "/usr/local/lib/python3.10/dist-packages/torch/nn/modules/lazy.py:180: UserWarning: Lazy modules are a new feature under heavy development so changes to the API or functionality can happen at any moment.\n",
      "  warnings.warn('Lazy modules are a new feature under heavy development '\n"
     ]
    },
    {
     "name": "stdout",
     "output_type": "stream",
     "text": [
      "Loaded model from /workdir/optimal-summaries-public/_models/vasopressor/original/vaso_c_4_noise_std_5.pt3\n",
      "['original', 5, 0.6134286522865295, 0.8968420028686523, 0.8625364899635315, 0.8625364899635315, 0.0015961532481014729]\n",
      "6 {'n_concepts': 4, 'noise_std': 10}\n"
     ]
    },
    {
     "name": "stderr",
     "output_type": "stream",
     "text": [
      "/usr/local/lib/python3.10/dist-packages/torch/nn/modules/lazy.py:180: UserWarning: Lazy modules are a new feature under heavy development so changes to the API or functionality can happen at any moment.\n",
      "  warnings.warn('Lazy modules are a new feature under heavy development '\n"
     ]
    },
    {
     "name": "stdout",
     "output_type": "stream",
     "text": [
      "Loaded model from /workdir/optimal-summaries-public/_models/vasopressor/original/vaso_c_4_noise_std_10.pt3\n",
      "['original', 6, 0.6163092255592346, 0.8874554634094238, 0.8625364899635315, 0.8625364899635315, 0.002990410663187504]\n",
      "0 {'n_concepts': 4, 'noise_std': None}\n"
     ]
    },
    {
     "name": "stderr",
     "output_type": "stream",
     "text": [
      "/usr/local/lib/python3.10/dist-packages/torch/nn/modules/lazy.py:180: UserWarning: Lazy modules are a new feature under heavy development so changes to the API or functionality can happen at any moment.\n",
      "  warnings.warn('Lazy modules are a new feature under heavy development '\n"
     ]
    },
    {
     "name": "stdout",
     "output_type": "stream",
     "text": [
      "Loaded model from /workdir/optimal-summaries-public/_models/vasopressor/original/vaso_c_4_noise_std_None.pt4\n",
      "['original', 0, 0.5237849354743958, 0.9174319505691528, 0.8405697345733643, 0.8476799726486206, 0.003670200239866972]\n",
      "1 {'n_concepts': 4, 'noise_std': 0.2}\n"
     ]
    },
    {
     "name": "stderr",
     "output_type": "stream",
     "text": [
      "/usr/local/lib/python3.10/dist-packages/torch/nn/modules/lazy.py:180: UserWarning: Lazy modules are a new feature under heavy development so changes to the API or functionality can happen at any moment.\n",
      "  warnings.warn('Lazy modules are a new feature under heavy development '\n"
     ]
    },
    {
     "name": "stdout",
     "output_type": "stream",
     "text": [
      "Loaded model from /workdir/optimal-summaries-public/_models/vasopressor/original/vaso_c_4_noise_std_0.2.pt4\n",
      "['original', 1, 0.5280387997627258, 0.9209837913513184, 0.848206639289856, 0.8547976613044739, 0.006778097711503506]\n",
      "2 {'n_concepts': 4, 'noise_std': 0.5}\n"
     ]
    },
    {
     "name": "stderr",
     "output_type": "stream",
     "text": [
      "/usr/local/lib/python3.10/dist-packages/torch/nn/modules/lazy.py:180: UserWarning: Lazy modules are a new feature under heavy development so changes to the API or functionality can happen at any moment.\n",
      "  warnings.warn('Lazy modules are a new feature under heavy development '\n"
     ]
    },
    {
     "name": "stdout",
     "output_type": "stream",
     "text": [
      "Loaded model from /workdir/optimal-summaries-public/_models/vasopressor/original/vaso_c_4_noise_std_0.5.pt4\n",
      "['original', 2, 0.5368105173110962, 0.9219398498535156, 0.8500086069107056, 0.8564624786376953, 0.002569410717114806]\n",
      "3 {'n_concepts': 4, 'noise_std': 0.7}\n"
     ]
    },
    {
     "name": "stderr",
     "output_type": "stream",
     "text": [
      "/usr/local/lib/python3.10/dist-packages/torch/nn/modules/lazy.py:180: UserWarning: Lazy modules are a new feature under heavy development so changes to the API or functionality can happen at any moment.\n",
      "  warnings.warn('Lazy modules are a new feature under heavy development '\n"
     ]
    },
    {
     "name": "stdout",
     "output_type": "stream",
     "text": [
      "Loaded model from /workdir/optimal-summaries-public/_models/vasopressor/original/vaso_c_4_noise_std_0.7.pt4\n",
      "['original', 3, 0.5423731803894043, 0.9240261912345886, 0.8551570177078247, 0.8602417707443237, 0.0027281525544822216]\n",
      "4 {'n_concepts': 4, 'noise_std': 1}\n"
     ]
    },
    {
     "name": "stderr",
     "output_type": "stream",
     "text": [
      "/usr/local/lib/python3.10/dist-packages/torch/nn/modules/lazy.py:180: UserWarning: Lazy modules are a new feature under heavy development so changes to the API or functionality can happen at any moment.\n",
      "  warnings.warn('Lazy modules are a new feature under heavy development '\n"
     ]
    },
    {
     "name": "stdout",
     "output_type": "stream",
     "text": [
      "Loaded model from /workdir/optimal-summaries-public/_models/vasopressor/original/vaso_c_4_noise_std_1.pt4\n",
      "['original', 4, 0.5481278896331787, 0.9195401072502136, 0.8556718826293945, 0.8614040613174438, 0.003967689350247383]\n",
      "5 {'n_concepts': 4, 'noise_std': 5}\n"
     ]
    },
    {
     "name": "stderr",
     "output_type": "stream",
     "text": [
      "/usr/local/lib/python3.10/dist-packages/torch/nn/modules/lazy.py:180: UserWarning: Lazy modules are a new feature under heavy development so changes to the API or functionality can happen at any moment.\n",
      "  warnings.warn('Lazy modules are a new feature under heavy development '\n"
     ]
    },
    {
     "name": "stdout",
     "output_type": "stream",
     "text": [
      "Loaded model from /workdir/optimal-summaries-public/_models/vasopressor/original/vaso_c_4_noise_std_5.pt4\n",
      "['original', 5, 0.6161332130432129, 0.8891679644584656, 0.8625364899635315, 0.8625364899635315, 0.006982322316616774]\n",
      "6 {'n_concepts': 4, 'noise_std': 10}\n"
     ]
    },
    {
     "name": "stderr",
     "output_type": "stream",
     "text": [
      "/usr/local/lib/python3.10/dist-packages/torch/nn/modules/lazy.py:180: UserWarning: Lazy modules are a new feature under heavy development so changes to the API or functionality can happen at any moment.\n",
      "  warnings.warn('Lazy modules are a new feature under heavy development '\n"
     ]
    },
    {
     "name": "stdout",
     "output_type": "stream",
     "text": [
      "Loaded model from /workdir/optimal-summaries-public/_models/vasopressor/original/vaso_c_4_noise_std_10.pt4\n",
      "['original', 6, 0.6169614791870117, 0.8925348520278931, 0.8625364899635315, 0.8625364899635315, 0.0028808594215661287]\n"
     ]
    },
    {
     "data": {
      "text/plain": [
       "(35, 7)"
      ]
     },
     "execution_count": 8,
     "metadata": {},
     "output_type": "execute_result"
    }
   ],
   "source": [
    "histories_original = []\n",
    "\n",
    "for zzz in range(5):\n",
    "    for i, config in enumerate(all_config_permutations_og):\n",
    "        print(i, config)\n",
    "        \n",
    "        train_loader, val_loader, test_loader, class_weights, num_classes, changing_vars, static_names, seq_len = load_and_create_MIMIC_dataloader(output_dim = 2, batch_size = 512, random_state = 1)\n",
    "        \n",
    "        model = initializeModel(**config, static_dim=static_dim, changing_dim=changing_dim, seq_len=seq_len, output_dim=2)\n",
    "        model.fit(train_loader, val_loader, p_weight=class_weights.to(device), save_model_path=model_path.format(**config)+f\"{zzz}\", max_epochs=10000)\n",
    "        \n",
    "        cos_sim = (model.cos_sim(model.bottleneck) / model.bottleneck.out_features).item()\n",
    "        \n",
    "        model.eval()\n",
    "        with torch.inference_mode():\n",
    "            for batch in test_loader:\n",
    "                X_time, X_ind, X_static, y = extract_to(batch, device)\n",
    "                probs = model.forward_probabilities(X_time, X_ind, X_static)\n",
    "                \n",
    "                auc = auroc_metric(probs, y).item()\n",
    "                acc = accuracy_metric(probs, y).item()\n",
    "                f1 = f1_metric(probs, y).item()\n",
    "                # conf_matrix(probs, yb)\n",
    "            auc = auroc_metric.compute().item()\n",
    "            acc = accuracy_metric.compute().item()\n",
    "            f1 = f1_metric.compute().item()\n",
    "            # conf_matrix.plot()\n",
    "            # plt.show()\n",
    "            auroc_metric.reset()\n",
    "            accuracy_metric.reset()\n",
    "            # conf_matrix.reset()\n",
    "            f1_metric.reset()\n",
    "        \n",
    "        history = [\"original\", i, model.val_losses[-1], auc, acc, f1, cos_sim]\n",
    "        print(history)\n",
    "        histories_original.append(np.array(history))\n",
    "        \n",
    "        # plot_losses(model.train_losses, model.val_losses)\n",
    "        del model\n",
    "        gc.collect()\n",
    "        torch.cuda.empty_cache()\n",
    "    \n",
    "histories_original = np.array(histories_original)\n",
    "histories_original.shape\n"
   ]
  },
  {
   "cell_type": "code",
   "execution_count": 9,
   "metadata": {},
   "outputs": [],
   "source": [
    "# plot\n",
    "# plot_metrics(histories_original, n_concepts_list)\n"
   ]
  },
  {
   "cell_type": "markdown",
   "metadata": {},
   "source": [
    "## Atomics"
   ]
  },
  {
   "cell_type": "code",
   "execution_count": 10,
   "metadata": {},
   "outputs": [
    {
     "name": "stdout",
     "output_type": "stream",
     "text": [
      "7\n"
     ]
    }
   ],
   "source": [
    "config_atomics = {\n",
    "    \"n_atomics\": [10], # 30\n",
    "    \"n_concepts\": [4], # 20\n",
    "    # \"use_indicators\": [True], # False\n",
    "    # \"use_fixes\": [False], # True\n",
    "    # \"output_dim\": [2], #1\n",
    "    \"use_summaries_for_atomics\": [True], # False\n",
    "    # \"use_grad_norm\": [False], # \"FULL\", \"COMPONENT_WISE\"],\n",
    "    \"noise_std\": [None, .2, .5, .7, 1, 5, 10],\n",
    "}\n",
    "\n",
    "all_config_permutations_atomics = list(product(*config_atomics.values()))\n",
    "all_config_permutations_atomics = [dict(zip(config_atomics.keys(), permutation)) for permutation in all_config_permutations_atomics]\n",
    "print(len(all_config_permutations_atomics))\n",
    "# all_config_permutations_atomics"
   ]
  },
  {
   "cell_type": "code",
   "execution_count": 11,
   "metadata": {},
   "outputs": [],
   "source": [
    "experiment_folder = \"/workdir/optimal-summaries-public/_models/vasopressor/atomics/\"\n",
    "model_path = experiment_folder + \"vaso_a_{n_atomics}_c_{n_concepts}_summaries4atomics_{use_summaries_for_atomics}_noise_std_{noise_std}.pt\"\n",
    "\n",
    "if not os.path.exists(experiment_folder):\n",
    "    os.makedirs(experiment_folder)"
   ]
  },
  {
   "cell_type": "code",
   "execution_count": 12,
   "metadata": {},
   "outputs": [
    {
     "name": "stdout",
     "output_type": "stream",
     "text": [
      "0 {'n_atomics': 10, 'n_concepts': 4, 'use_summaries_for_atomics': True, 'noise_std': None}\n"
     ]
    },
    {
     "name": "stderr",
     "output_type": "stream",
     "text": [
      "/usr/local/lib/python3.10/dist-packages/torch/nn/modules/lazy.py:180: UserWarning: Lazy modules are a new feature under heavy development so changes to the API or functionality can happen at any moment.\n",
      "  warnings.warn('Lazy modules are a new feature under heavy development '\n"
     ]
    },
    {
     "name": "stdout",
     "output_type": "stream",
     "text": [
      "Loaded model from /workdir/optimal-summaries-public/_models/vasopressor/atomics/vaso_a_10_c_4_summaries4atomics_True_noise_std_None.pt0\n",
      "['atomics', 0, 0.5391227602958679, 0.9119085073471069, 0.8328471183776855, 0.8414197564125061, 0.006680180784314871]\n",
      "1 {'n_atomics': 10, 'n_concepts': 4, 'use_summaries_for_atomics': True, 'noise_std': 0.2}\n"
     ]
    },
    {
     "name": "stderr",
     "output_type": "stream",
     "text": [
      "/usr/local/lib/python3.10/dist-packages/torch/nn/modules/lazy.py:180: UserWarning: Lazy modules are a new feature under heavy development so changes to the API or functionality can happen at any moment.\n",
      "  warnings.warn('Lazy modules are a new feature under heavy development '\n"
     ]
    },
    {
     "name": "stdout",
     "output_type": "stream",
     "text": [
      "Loaded model from /workdir/optimal-summaries-public/_models/vasopressor/atomics/vaso_a_10_c_4_summaries4atomics_True_noise_std_0.2.pt0\n",
      "['atomics', 1, 0.5346981287002563, 0.9183363914489746, 0.84425950050354, 0.8513635396957397, 0.009473815560340881]\n",
      "2 {'n_atomics': 10, 'n_concepts': 4, 'use_summaries_for_atomics': True, 'noise_std': 0.5}\n"
     ]
    },
    {
     "name": "stderr",
     "output_type": "stream",
     "text": [
      "/usr/local/lib/python3.10/dist-packages/torch/nn/modules/lazy.py:180: UserWarning: Lazy modules are a new feature under heavy development so changes to the API or functionality can happen at any moment.\n",
      "  warnings.warn('Lazy modules are a new feature under heavy development '\n"
     ]
    },
    {
     "name": "stdout",
     "output_type": "stream",
     "text": [
      "Loaded model from /workdir/optimal-summaries-public/_models/vasopressor/atomics/vaso_a_10_c_4_summaries4atomics_True_noise_std_0.5.pt0\n",
      "['atomics', 2, 0.5408586859703064, 0.9215109348297119, 0.8612493276596069, 0.8657534122467041, 0.010080927982926369]\n",
      "3 {'n_atomics': 10, 'n_concepts': 4, 'use_summaries_for_atomics': True, 'noise_std': 0.7}\n"
     ]
    },
    {
     "name": "stderr",
     "output_type": "stream",
     "text": [
      "/usr/local/lib/python3.10/dist-packages/torch/nn/modules/lazy.py:180: UserWarning: Lazy modules are a new feature under heavy development so changes to the API or functionality can happen at any moment.\n",
      "  warnings.warn('Lazy modules are a new feature under heavy development '\n"
     ]
    },
    {
     "name": "stdout",
     "output_type": "stream",
     "text": [
      "Loaded model from /workdir/optimal-summaries-public/_models/vasopressor/atomics/vaso_a_10_c_4_summaries4atomics_True_noise_std_0.7.pt0\n",
      "['atomics', 3, 0.6166074872016907, 0.8893163204193115, 0.8625364899635315, 0.8625364899635315, 0.007359860930591822]\n",
      "4 {'n_atomics': 10, 'n_concepts': 4, 'use_summaries_for_atomics': True, 'noise_std': 1}\n"
     ]
    },
    {
     "name": "stderr",
     "output_type": "stream",
     "text": [
      "/usr/local/lib/python3.10/dist-packages/torch/nn/modules/lazy.py:180: UserWarning: Lazy modules are a new feature under heavy development so changes to the API or functionality can happen at any moment.\n",
      "  warnings.warn('Lazy modules are a new feature under heavy development '\n"
     ]
    },
    {
     "name": "stdout",
     "output_type": "stream",
     "text": [
      "Loaded model from /workdir/optimal-summaries-public/_models/vasopressor/atomics/vaso_a_10_c_4_summaries4atomics_True_noise_std_1.pt0\n",
      "['atomics', 4, 0.551949679851532, 0.9219183325767517, 0.8663119673728943, 0.8702531456947327, 0.008312954567372799]\n",
      "5 {'n_atomics': 10, 'n_concepts': 4, 'use_summaries_for_atomics': True, 'noise_std': 5}\n"
     ]
    },
    {
     "name": "stderr",
     "output_type": "stream",
     "text": [
      "/usr/local/lib/python3.10/dist-packages/torch/nn/modules/lazy.py:180: UserWarning: Lazy modules are a new feature under heavy development so changes to the API or functionality can happen at any moment.\n",
      "  warnings.warn('Lazy modules are a new feature under heavy development '\n"
     ]
    },
    {
     "name": "stdout",
     "output_type": "stream",
     "text": [
      "Loaded model from /workdir/optimal-summaries-public/_models/vasopressor/atomics/vaso_a_10_c_4_summaries4atomics_True_noise_std_5.pt0\n",
      "['atomics', 5, 0.6167824864387512, 0.8823370933532715, 0.8625364899635315, 0.8625364899635315, 0.007032964378595352]\n",
      "6 {'n_atomics': 10, 'n_concepts': 4, 'use_summaries_for_atomics': True, 'noise_std': 10}\n"
     ]
    },
    {
     "name": "stderr",
     "output_type": "stream",
     "text": [
      "/usr/local/lib/python3.10/dist-packages/torch/nn/modules/lazy.py:180: UserWarning: Lazy modules are a new feature under heavy development so changes to the API or functionality can happen at any moment.\n",
      "  warnings.warn('Lazy modules are a new feature under heavy development '\n"
     ]
    },
    {
     "name": "stdout",
     "output_type": "stream",
     "text": [
      "Loaded model from /workdir/optimal-summaries-public/_models/vasopressor/atomics/vaso_a_10_c_4_summaries4atomics_True_noise_std_10.pt0\n",
      "['atomics', 6, 0.6167697310447693, 0.8542724847793579, 0.8625364899635315, 0.8625364899635315, 0.007923822849988937]\n",
      "0 {'n_atomics': 10, 'n_concepts': 4, 'use_summaries_for_atomics': True, 'noise_std': None}\n"
     ]
    },
    {
     "name": "stderr",
     "output_type": "stream",
     "text": [
      "/usr/local/lib/python3.10/dist-packages/torch/nn/modules/lazy.py:180: UserWarning: Lazy modules are a new feature under heavy development so changes to the API or functionality can happen at any moment.\n",
      "  warnings.warn('Lazy modules are a new feature under heavy development '\n"
     ]
    },
    {
     "name": "stdout",
     "output_type": "stream",
     "text": [
      "Loaded model from /workdir/optimal-summaries-public/_models/vasopressor/atomics/vaso_a_10_c_4_summaries4atomics_True_noise_std_None.pt1\n",
      "['atomics', 0, 0.5359365940093994, 0.9149351119995117, 0.83567875623703, 0.8437882661819458, 0.0075461165979504585]\n",
      "1 {'n_atomics': 10, 'n_concepts': 4, 'use_summaries_for_atomics': True, 'noise_std': 0.2}\n"
     ]
    },
    {
     "name": "stderr",
     "output_type": "stream",
     "text": [
      "/usr/local/lib/python3.10/dist-packages/torch/nn/modules/lazy.py:180: UserWarning: Lazy modules are a new feature under heavy development so changes to the API or functionality can happen at any moment.\n",
      "  warnings.warn('Lazy modules are a new feature under heavy development '\n"
     ]
    },
    {
     "name": "stdout",
     "output_type": "stream",
     "text": [
      "Loaded model from /workdir/optimal-summaries-public/_models/vasopressor/atomics/vaso_a_10_c_4_summaries4atomics_True_noise_std_0.2.pt1\n",
      "['atomics', 1, 0.5376101732254028, 0.9200812578201294, 0.8472627401351929, 0.8539307117462158, 0.00843640137463808]\n",
      "2 {'n_atomics': 10, 'n_concepts': 4, 'use_summaries_for_atomics': True, 'noise_std': 0.5}\n"
     ]
    },
    {
     "name": "stderr",
     "output_type": "stream",
     "text": [
      "/usr/local/lib/python3.10/dist-packages/torch/nn/modules/lazy.py:180: UserWarning: Lazy modules are a new feature under heavy development so changes to the API or functionality can happen at any moment.\n",
      "  warnings.warn('Lazy modules are a new feature under heavy development '\n"
     ]
    },
    {
     "name": "stdout",
     "output_type": "stream",
     "text": [
      "Loaded model from /workdir/optimal-summaries-public/_models/vasopressor/atomics/vaso_a_10_c_4_summaries4atomics_True_noise_std_0.5.pt1\n",
      "['atomics', 2, 0.5376002192497253, 0.920348584651947, 0.8524112105369568, 0.8581560254096985, 0.008681146427989006]\n",
      "3 {'n_atomics': 10, 'n_concepts': 4, 'use_summaries_for_atomics': True, 'noise_std': 0.7}\n"
     ]
    },
    {
     "name": "stderr",
     "output_type": "stream",
     "text": [
      "/usr/local/lib/python3.10/dist-packages/torch/nn/modules/lazy.py:180: UserWarning: Lazy modules are a new feature under heavy development so changes to the API or functionality can happen at any moment.\n",
      "  warnings.warn('Lazy modules are a new feature under heavy development '\n"
     ]
    },
    {
     "name": "stdout",
     "output_type": "stream",
     "text": [
      "Loaded model from /workdir/optimal-summaries-public/_models/vasopressor/atomics/vaso_a_10_c_4_summaries4atomics_True_noise_std_0.7.pt1\n",
      "['atomics', 3, 0.5417462587356567, 0.9218329191207886, 0.8605629205703735, 0.8651116490364075, 0.008617070503532887]\n",
      "4 {'n_atomics': 10, 'n_concepts': 4, 'use_summaries_for_atomics': True, 'noise_std': 1}\n"
     ]
    },
    {
     "name": "stderr",
     "output_type": "stream",
     "text": [
      "/usr/local/lib/python3.10/dist-packages/torch/nn/modules/lazy.py:180: UserWarning: Lazy modules are a new feature under heavy development so changes to the API or functionality can happen at any moment.\n",
      "  warnings.warn('Lazy modules are a new feature under heavy development '\n"
     ]
    },
    {
     "name": "stdout",
     "output_type": "stream",
     "text": [
      "Loaded model from /workdir/optimal-summaries-public/_models/vasopressor/atomics/vaso_a_10_c_4_summaries4atomics_True_noise_std_1.pt1\n",
      "['atomics', 4, 0.5508707165718079, 0.9222336411476135, 0.8651106953620911, 0.8695002198219299, 0.008917976170778275]\n",
      "5 {'n_atomics': 10, 'n_concepts': 4, 'use_summaries_for_atomics': True, 'noise_std': 5}\n"
     ]
    },
    {
     "name": "stderr",
     "output_type": "stream",
     "text": [
      "/usr/local/lib/python3.10/dist-packages/torch/nn/modules/lazy.py:180: UserWarning: Lazy modules are a new feature under heavy development so changes to the API or functionality can happen at any moment.\n",
      "  warnings.warn('Lazy modules are a new feature under heavy development '\n"
     ]
    },
    {
     "name": "stdout",
     "output_type": "stream",
     "text": [
      "Loaded model from /workdir/optimal-summaries-public/_models/vasopressor/atomics/vaso_a_10_c_4_summaries4atomics_True_noise_std_5.pt1\n",
      "['atomics', 5, 0.6166878342628479, 0.8890132308006287, 0.8625364899635315, 0.8625364899635315, 0.007371137384325266]\n",
      "6 {'n_atomics': 10, 'n_concepts': 4, 'use_summaries_for_atomics': True, 'noise_std': 10}\n"
     ]
    },
    {
     "name": "stderr",
     "output_type": "stream",
     "text": [
      "/usr/local/lib/python3.10/dist-packages/torch/nn/modules/lazy.py:180: UserWarning: Lazy modules are a new feature under heavy development so changes to the API or functionality can happen at any moment.\n",
      "  warnings.warn('Lazy modules are a new feature under heavy development '\n"
     ]
    },
    {
     "name": "stdout",
     "output_type": "stream",
     "text": [
      "Loaded model from /workdir/optimal-summaries-public/_models/vasopressor/atomics/vaso_a_10_c_4_summaries4atomics_True_noise_std_10.pt1\n",
      "['atomics', 6, 0.6167792677879333, 0.8669798374176025, 0.8625364899635315, 0.8625364899635315, 0.006331450771540403]\n",
      "0 {'n_atomics': 10, 'n_concepts': 4, 'use_summaries_for_atomics': True, 'noise_std': None}\n"
     ]
    },
    {
     "name": "stderr",
     "output_type": "stream",
     "text": [
      "/usr/local/lib/python3.10/dist-packages/torch/nn/modules/lazy.py:180: UserWarning: Lazy modules are a new feature under heavy development so changes to the API or functionality can happen at any moment.\n",
      "  warnings.warn('Lazy modules are a new feature under heavy development '\n"
     ]
    },
    {
     "name": "stdout",
     "output_type": "stream",
     "text": [
      "Loaded model from /workdir/optimal-summaries-public/_models/vasopressor/atomics/vaso_a_10_c_4_summaries4atomics_True_noise_std_None.pt2\n",
      "['atomics', 0, 0.5278989672660828, 0.9155356884002686, 0.8387678265571594, 0.8469744920730591, 0.008884754031896591]\n",
      "1 {'n_atomics': 10, 'n_concepts': 4, 'use_summaries_for_atomics': True, 'noise_std': 0.2}\n"
     ]
    },
    {
     "name": "stderr",
     "output_type": "stream",
     "text": [
      "/usr/local/lib/python3.10/dist-packages/torch/nn/modules/lazy.py:180: UserWarning: Lazy modules are a new feature under heavy development so changes to the API or functionality can happen at any moment.\n",
      "  warnings.warn('Lazy modules are a new feature under heavy development '\n"
     ]
    },
    {
     "name": "stdout",
     "output_type": "stream",
     "text": [
      "Loaded model from /workdir/optimal-summaries-public/_models/vasopressor/atomics/vaso_a_10_c_4_summaries4atomics_True_noise_std_0.2.pt2\n",
      "['atomics', 1, 0.5326784253120422, 0.9183775782585144, 0.8496653437614441, 0.8562756180763245, 0.007676935754716396]\n",
      "2 {'n_atomics': 10, 'n_concepts': 4, 'use_summaries_for_atomics': True, 'noise_std': 0.5}\n"
     ]
    },
    {
     "name": "stderr",
     "output_type": "stream",
     "text": [
      "/usr/local/lib/python3.10/dist-packages/torch/nn/modules/lazy.py:180: UserWarning: Lazy modules are a new feature under heavy development so changes to the API or functionality can happen at any moment.\n",
      "  warnings.warn('Lazy modules are a new feature under heavy development '\n"
     ]
    },
    {
     "name": "stdout",
     "output_type": "stream",
     "text": [
      "Loaded model from /workdir/optimal-summaries-public/_models/vasopressor/atomics/vaso_a_10_c_4_summaries4atomics_True_noise_std_0.5.pt2\n"
     ]
    }
   ],
   "source": [
    "history_atomics = []\n",
    "\n",
    "for zzz in range(5):\n",
    "    for i, config in enumerate(all_config_permutations_atomics):\n",
    "        print(i, config)\n",
    "        \n",
    "        train_loader, val_loader, test_loader, class_weights, num_classes, changing_vars, static_names, seq_len = load_and_create_MIMIC_dataloader(output_dim = 2, batch_size = 512, random_state = 1)\n",
    "        \n",
    "        model = initializeModel_with_atomics(**config, static_dim=static_dim, changing_dim=changing_dim, seq_len=seq_len, output_dim=2)\n",
    "        model.fit(train_loader, val_loader, p_weight=class_weights.to(device), save_model_path=model_path.format(**config)+f\"{zzz}\", max_epochs=10000)\n",
    "        \n",
    "        cos_sim = ((model.cos_sim(model.layer_to_concepts) + model.cos_sim(model.layer_time_to_atomics)) \n",
    "                / (model.layer_to_concepts.out_features + model.layer_time_to_atomics.out_features)).item()\n",
    "        \n",
    "        model.eval()\n",
    "        with torch.inference_mode():\n",
    "            for batch in test_loader:\n",
    "                X_time, X_ind, X_static, y = extract_to(batch, device)\n",
    "                probs = model.forward_probabilities(X_time, X_ind, X_static)\n",
    "                \n",
    "                auc = auroc_metric(probs, y).item()\n",
    "                acc = accuracy_metric(probs, y).item()\n",
    "                f1 = f1_metric(probs, y).item()\n",
    "                # conf_matrix(probs, yb)\n",
    "            auc = auroc_metric.compute().item()\n",
    "            acc = accuracy_metric.compute().item()\n",
    "            f1 = f1_metric.compute().item()\n",
    "            # conf_matrix.plot()\n",
    "            # plt.show()\n",
    "            auroc_metric.reset()\n",
    "            accuracy_metric.reset()\n",
    "            # conf_matrix.reset()\n",
    "            f1_metric.reset()\n",
    "\n",
    "        history = [\"atomics\", i, model.val_losses[-1], auc, acc, f1, cos_sim]\n",
    "        print(history)\n",
    "        history_atomics.append(np.array(history))\n",
    "        \n",
    "        # plot_losses(model.train_losses, model.val_losses)\n",
    "        del model\n",
    "        gc.collect()\n",
    "        torch.cuda.empty_cache()\n",
    "\n",
    "    \n",
    "history_atomics = np.array(history_atomics)\n",
    "history_atomics.shape\n"
   ]
  },
  {
   "cell_type": "code",
   "execution_count": null,
   "metadata": {},
   "outputs": [],
   "source": [
    "columns=[\"type\", \"config\", \"val_loss\", \"auc\", \"acc\", \"f1\", \"cos_sim\"]\n",
    "dtypes = {'type': str, 'config': int, 'val_loss': float, 'auc': float, 'acc': float, 'f1': float, 'cos_sim': float}\n",
    "\n",
    "df_og = pd.DataFrame(histories_original, columns=columns).astype(dtypes)\n",
    "df_og = pd.concat([df_og, pd.DataFrame(all_config_permutations_og)], axis=1)\n",
    "\n",
    "df_atomics = pd.DataFrame(history_atomics, columns=columns).astype(dtypes)\n",
    "df_atomics = pd.concat([df_atomics, pd.DataFrame(all_config_permutations_atomics)], axis=1)\n",
    "\n",
    "result_df = pd.concat([df_og, df_atomics], ignore_index=True)\n",
    "# result_df"
   ]
  },
  {
   "cell_type": "code",
   "execution_count": null,
   "metadata": {},
   "outputs": [],
   "source": [
    "columns = [\"type\", \"config\", \"val_loss\", \"auc\", \"acc\", \"f1\", \"cos_sim\"]\n",
    "dtypes = {'type': str, 'config': int, 'val_loss': float, 'auc': float, 'acc': float, 'f1': float, 'cos_sim': float}\n",
    "\n",
    "df_og = pd.DataFrame(histories_original, columns=columns).astype(dtypes)\n",
    "df_og = df_og.join(pd.DataFrame(all_config_permutations_og), on=\"config\", how=\"left\")\n",
    "\n",
    "df_atomics = pd.DataFrame(history_atomics, columns=columns).astype(dtypes)\n",
    "df_atomics = df_atomics.join(pd.DataFrame(all_config_permutations_atomics), on=\"config\", how=\"left\")\n",
    "\n",
    "result_df = pd.concat([df_og, df_atomics], ignore_index=True)\n",
    "# result_df\n"
   ]
  },
  {
   "cell_type": "code",
   "execution_count": null,
   "metadata": {},
   "outputs": [
    {
     "name": "stdout",
     "output_type": "stream",
     "text": [
      "auc 0.9145365357398987\n",
      "acc 0.8379097580909729\n",
      "f1 0.8460096120834351\n"
     ]
    }
   ],
   "source": [
    "for col in result_df.columns[3:6]:\n",
    "    baseline = result_df[(result_df['type'] == 'original') & (result_df['config'] == 0)][col].values[0]\n",
    "    print(col, baseline)\n",
    "    result_df[f'{col}_abs_imp'] = result_df[col] - baseline\n",
    "    # result_df[f'{col}_rel_imp'] = result_df[f'{col}_abs_imp'] / baseline\n",
    "# result_df"
   ]
  },
  {
   "cell_type": "code",
   "execution_count": null,
   "metadata": {},
   "outputs": [
    {
     "data": {
      "text/html": [
       "<div>\n",
       "<style scoped>\n",
       "    .dataframe tbody tr th:only-of-type {\n",
       "        vertical-align: middle;\n",
       "    }\n",
       "\n",
       "    .dataframe tbody tr th {\n",
       "        vertical-align: top;\n",
       "    }\n",
       "\n",
       "    .dataframe thead th {\n",
       "        text-align: right;\n",
       "    }\n",
       "</style>\n",
       "<table border=\"1\" class=\"dataframe\">\n",
       "  <thead>\n",
       "    <tr style=\"text-align: right;\">\n",
       "      <th></th>\n",
       "      <th>type</th>\n",
       "      <th>config</th>\n",
       "      <th>val_loss</th>\n",
       "      <th>auc</th>\n",
       "      <th>acc</th>\n",
       "      <th>f1</th>\n",
       "      <th>cos_sim</th>\n",
       "      <th>n_concepts</th>\n",
       "      <th>noise_std</th>\n",
       "      <th>n_atomics</th>\n",
       "      <th>use_summaries_for_atomics</th>\n",
       "      <th>auc_abs_imp</th>\n",
       "      <th>acc_abs_imp</th>\n",
       "      <th>f1_abs_imp</th>\n",
       "    </tr>\n",
       "  </thead>\n",
       "  <tbody>\n",
       "    <tr>\n",
       "      <th>7</th>\n",
       "      <td>atomics</td>\n",
       "      <td>0</td>\n",
       "      <td>0.616499</td>\n",
       "      <td>0.869403</td>\n",
       "      <td>0.862536</td>\n",
       "      <td>0.862536</td>\n",
       "      <td>0.006716</td>\n",
       "      <td>4</td>\n",
       "      <td>0.1</td>\n",
       "      <td>10.0</td>\n",
       "      <td>True</td>\n",
       "      <td>-0.045133</td>\n",
       "      <td>0.024627</td>\n",
       "      <td>0.016527</td>\n",
       "    </tr>\n",
       "    <tr>\n",
       "      <th>4</th>\n",
       "      <td>original</td>\n",
       "      <td>0</td>\n",
       "      <td>0.523275</td>\n",
       "      <td>0.918397</td>\n",
       "      <td>0.843573</td>\n",
       "      <td>0.850586</td>\n",
       "      <td>0.005025</td>\n",
       "      <td>4</td>\n",
       "      <td>0.1</td>\n",
       "      <td>NaN</td>\n",
       "      <td>NaN</td>\n",
       "      <td>0.003860</td>\n",
       "      <td>0.005663</td>\n",
       "      <td>0.004576</td>\n",
       "    </tr>\n",
       "    <tr>\n",
       "      <th>9</th>\n",
       "      <td>atomics</td>\n",
       "      <td>0</td>\n",
       "      <td>0.528923</td>\n",
       "      <td>0.915159</td>\n",
       "      <td>0.842114</td>\n",
       "      <td>0.849698</td>\n",
       "      <td>0.007062</td>\n",
       "      <td>4</td>\n",
       "      <td>0.1</td>\n",
       "      <td>10.0</td>\n",
       "      <td>True</td>\n",
       "      <td>0.000623</td>\n",
       "      <td>0.004205</td>\n",
       "      <td>0.003688</td>\n",
       "    </tr>\n",
       "    <tr>\n",
       "      <th>1</th>\n",
       "      <td>original</td>\n",
       "      <td>0</td>\n",
       "      <td>0.522486</td>\n",
       "      <td>0.917275</td>\n",
       "      <td>0.840312</td>\n",
       "      <td>0.847472</td>\n",
       "      <td>0.001381</td>\n",
       "      <td>4</td>\n",
       "      <td>0.1</td>\n",
       "      <td>NaN</td>\n",
       "      <td>NaN</td>\n",
       "      <td>0.002738</td>\n",
       "      <td>0.002403</td>\n",
       "      <td>0.001462</td>\n",
       "    </tr>\n",
       "    <tr>\n",
       "      <th>8</th>\n",
       "      <td>atomics</td>\n",
       "      <td>0</td>\n",
       "      <td>0.532362</td>\n",
       "      <td>0.913648</td>\n",
       "      <td>0.838682</td>\n",
       "      <td>0.846506</td>\n",
       "      <td>0.008808</td>\n",
       "      <td>4</td>\n",
       "      <td>0.1</td>\n",
       "      <td>10.0</td>\n",
       "      <td>True</td>\n",
       "      <td>-0.000889</td>\n",
       "      <td>0.000772</td>\n",
       "      <td>0.000496</td>\n",
       "    </tr>\n",
       "    <tr>\n",
       "      <th>5</th>\n",
       "      <td>atomics</td>\n",
       "      <td>0</td>\n",
       "      <td>0.533410</td>\n",
       "      <td>0.914100</td>\n",
       "      <td>0.838167</td>\n",
       "      <td>0.845965</td>\n",
       "      <td>0.008016</td>\n",
       "      <td>4</td>\n",
       "      <td>0.1</td>\n",
       "      <td>10.0</td>\n",
       "      <td>True</td>\n",
       "      <td>-0.000437</td>\n",
       "      <td>0.000257</td>\n",
       "      <td>-0.000044</td>\n",
       "    </tr>\n",
       "    <tr>\n",
       "      <th>0</th>\n",
       "      <td>original</td>\n",
       "      <td>0</td>\n",
       "      <td>0.523795</td>\n",
       "      <td>0.914537</td>\n",
       "      <td>0.837910</td>\n",
       "      <td>0.846010</td>\n",
       "      <td>0.002108</td>\n",
       "      <td>4</td>\n",
       "      <td>0.1</td>\n",
       "      <td>NaN</td>\n",
       "      <td>NaN</td>\n",
       "      <td>0.000000</td>\n",
       "      <td>0.000000</td>\n",
       "      <td>0.000000</td>\n",
       "    </tr>\n",
       "    <tr>\n",
       "      <th>2</th>\n",
       "      <td>original</td>\n",
       "      <td>0</td>\n",
       "      <td>0.522644</td>\n",
       "      <td>0.915804</td>\n",
       "      <td>0.836451</td>\n",
       "      <td>0.844560</td>\n",
       "      <td>0.002697</td>\n",
       "      <td>4</td>\n",
       "      <td>0.1</td>\n",
       "      <td>NaN</td>\n",
       "      <td>NaN</td>\n",
       "      <td>0.001267</td>\n",
       "      <td>-0.001459</td>\n",
       "      <td>-0.001449</td>\n",
       "    </tr>\n",
       "    <tr>\n",
       "      <th>6</th>\n",
       "      <td>atomics</td>\n",
       "      <td>0</td>\n",
       "      <td>0.531795</td>\n",
       "      <td>0.912748</td>\n",
       "      <td>0.836108</td>\n",
       "      <td>0.844209</td>\n",
       "      <td>0.006832</td>\n",
       "      <td>4</td>\n",
       "      <td>0.1</td>\n",
       "      <td>10.0</td>\n",
       "      <td>True</td>\n",
       "      <td>-0.001789</td>\n",
       "      <td>-0.001802</td>\n",
       "      <td>-0.001801</td>\n",
       "    </tr>\n",
       "    <tr>\n",
       "      <th>3</th>\n",
       "      <td>original</td>\n",
       "      <td>0</td>\n",
       "      <td>0.520821</td>\n",
       "      <td>0.906899</td>\n",
       "      <td>0.831732</td>\n",
       "      <td>0.839643</td>\n",
       "      <td>0.002898</td>\n",
       "      <td>4</td>\n",
       "      <td>0.1</td>\n",
       "      <td>NaN</td>\n",
       "      <td>NaN</td>\n",
       "      <td>-0.007638</td>\n",
       "      <td>-0.006178</td>\n",
       "      <td>-0.006366</td>\n",
       "    </tr>\n",
       "  </tbody>\n",
       "</table>\n",
       "</div>"
      ],
      "text/plain": [
       "       type  config  val_loss       auc       acc        f1   cos_sim  \\\n",
       "7   atomics       0  0.616499  0.869403  0.862536  0.862536  0.006716   \n",
       "4  original       0  0.523275  0.918397  0.843573  0.850586  0.005025   \n",
       "9   atomics       0  0.528923  0.915159  0.842114  0.849698  0.007062   \n",
       "1  original       0  0.522486  0.917275  0.840312  0.847472  0.001381   \n",
       "8   atomics       0  0.532362  0.913648  0.838682  0.846506  0.008808   \n",
       "5   atomics       0  0.533410  0.914100  0.838167  0.845965  0.008016   \n",
       "0  original       0  0.523795  0.914537  0.837910  0.846010  0.002108   \n",
       "2  original       0  0.522644  0.915804  0.836451  0.844560  0.002697   \n",
       "6   atomics       0  0.531795  0.912748  0.836108  0.844209  0.006832   \n",
       "3  original       0  0.520821  0.906899  0.831732  0.839643  0.002898   \n",
       "\n",
       "   n_concepts  noise_std  n_atomics use_summaries_for_atomics  auc_abs_imp  \\\n",
       "7           4        0.1       10.0                      True    -0.045133   \n",
       "4           4        0.1        NaN                       NaN     0.003860   \n",
       "9           4        0.1       10.0                      True     0.000623   \n",
       "1           4        0.1        NaN                       NaN     0.002738   \n",
       "8           4        0.1       10.0                      True    -0.000889   \n",
       "5           4        0.1       10.0                      True    -0.000437   \n",
       "0           4        0.1        NaN                       NaN     0.000000   \n",
       "2           4        0.1        NaN                       NaN     0.001267   \n",
       "6           4        0.1       10.0                      True    -0.001789   \n",
       "3           4        0.1        NaN                       NaN    -0.007638   \n",
       "\n",
       "   acc_abs_imp  f1_abs_imp  \n",
       "7     0.024627    0.016527  \n",
       "4     0.005663    0.004576  \n",
       "9     0.004205    0.003688  \n",
       "1     0.002403    0.001462  \n",
       "8     0.000772    0.000496  \n",
       "5     0.000257   -0.000044  \n",
       "0     0.000000    0.000000  \n",
       "2    -0.001459   -0.001449  \n",
       "6    -0.001802   -0.001801  \n",
       "3    -0.006178   -0.006366  "
      ]
     },
     "execution_count": 16,
     "metadata": {},
     "output_type": "execute_result"
    }
   ],
   "source": [
    "pd.set_option('display.max_rows', 500)\n",
    "result_df.sort_values(by='acc', ascending=False)\n",
    "# atomics: atomics, concepts, use_indicators, use_fixes, output_dim, use_summaries_for_atomics\n",
    "# original: concepts, use_indicators, use_fixes, output_dim, use_only_last_timestep\n"
   ]
  },
  {
   "cell_type": "code",
   "execution_count": null,
   "metadata": {},
   "outputs": [
    {
     "data": {
      "text/html": [
       "<div>\n",
       "<style scoped>\n",
       "    .dataframe tbody tr th:only-of-type {\n",
       "        vertical-align: middle;\n",
       "    }\n",
       "\n",
       "    .dataframe tbody tr th {\n",
       "        vertical-align: top;\n",
       "    }\n",
       "\n",
       "    .dataframe thead th {\n",
       "        text-align: right;\n",
       "    }\n",
       "</style>\n",
       "<table border=\"1\" class=\"dataframe\">\n",
       "  <thead>\n",
       "    <tr style=\"text-align: right;\">\n",
       "      <th></th>\n",
       "      <th></th>\n",
       "      <th>auc</th>\n",
       "      <th>acc</th>\n",
       "      <th>f1</th>\n",
       "    </tr>\n",
       "    <tr>\n",
       "      <th>type</th>\n",
       "      <th>n_atomics</th>\n",
       "      <th></th>\n",
       "      <th></th>\n",
       "      <th></th>\n",
       "    </tr>\n",
       "  </thead>\n",
       "  <tbody>\n",
       "    <tr>\n",
       "      <th>atomics</th>\n",
       "      <th>10.0</th>\n",
       "      <td>0.905012</td>\n",
       "      <td>0.843522</td>\n",
       "      <td>0.849783</td>\n",
       "    </tr>\n",
       "    <tr>\n",
       "      <th>original</th>\n",
       "      <th>NaN</th>\n",
       "      <td>0.914582</td>\n",
       "      <td>0.837996</td>\n",
       "      <td>0.845654</td>\n",
       "    </tr>\n",
       "  </tbody>\n",
       "</table>\n",
       "</div>"
      ],
      "text/plain": [
       "                         auc       acc        f1\n",
       "type     n_atomics                              \n",
       "atomics  10.0       0.905012  0.843522  0.849783\n",
       "original NaN        0.914582  0.837996  0.845654"
      ]
     },
     "metadata": {},
     "output_type": "display_data"
    },
    {
     "data": {
      "text/html": [
       "<div>\n",
       "<style scoped>\n",
       "    .dataframe tbody tr th:only-of-type {\n",
       "        vertical-align: middle;\n",
       "    }\n",
       "\n",
       "    .dataframe tbody tr th {\n",
       "        vertical-align: top;\n",
       "    }\n",
       "\n",
       "    .dataframe thead th {\n",
       "        text-align: right;\n",
       "    }\n",
       "</style>\n",
       "<table border=\"1\" class=\"dataframe\">\n",
       "  <thead>\n",
       "    <tr style=\"text-align: right;\">\n",
       "      <th></th>\n",
       "      <th></th>\n",
       "      <th>auc</th>\n",
       "      <th>acc</th>\n",
       "      <th>f1</th>\n",
       "    </tr>\n",
       "    <tr>\n",
       "      <th>type</th>\n",
       "      <th>n_concepts</th>\n",
       "      <th></th>\n",
       "      <th></th>\n",
       "      <th></th>\n",
       "    </tr>\n",
       "  </thead>\n",
       "  <tbody>\n",
       "    <tr>\n",
       "      <th>atomics</th>\n",
       "      <th>4</th>\n",
       "      <td>0.905012</td>\n",
       "      <td>0.843522</td>\n",
       "      <td>0.849783</td>\n",
       "    </tr>\n",
       "    <tr>\n",
       "      <th>original</th>\n",
       "      <th>4</th>\n",
       "      <td>0.914582</td>\n",
       "      <td>0.837996</td>\n",
       "      <td>0.845654</td>\n",
       "    </tr>\n",
       "  </tbody>\n",
       "</table>\n",
       "</div>"
      ],
      "text/plain": [
       "                          auc       acc        f1\n",
       "type     n_concepts                              \n",
       "atomics  4           0.905012  0.843522  0.849783\n",
       "original 4           0.914582  0.837996  0.845654"
      ]
     },
     "metadata": {},
     "output_type": "display_data"
    },
    {
     "data": {
      "text/html": [
       "<div>\n",
       "<style scoped>\n",
       "    .dataframe tbody tr th:only-of-type {\n",
       "        vertical-align: middle;\n",
       "    }\n",
       "\n",
       "    .dataframe tbody tr th {\n",
       "        vertical-align: top;\n",
       "    }\n",
       "\n",
       "    .dataframe thead th {\n",
       "        text-align: right;\n",
       "    }\n",
       "</style>\n",
       "<table border=\"1\" class=\"dataframe\">\n",
       "  <thead>\n",
       "    <tr style=\"text-align: right;\">\n",
       "      <th></th>\n",
       "      <th></th>\n",
       "      <th>auc</th>\n",
       "      <th>acc</th>\n",
       "      <th>f1</th>\n",
       "    </tr>\n",
       "    <tr>\n",
       "      <th>type</th>\n",
       "      <th>noise_std</th>\n",
       "      <th></th>\n",
       "      <th></th>\n",
       "      <th></th>\n",
       "    </tr>\n",
       "  </thead>\n",
       "  <tbody>\n",
       "    <tr>\n",
       "      <th>atomics</th>\n",
       "      <th>0.1</th>\n",
       "      <td>0.905012</td>\n",
       "      <td>0.843522</td>\n",
       "      <td>0.849783</td>\n",
       "    </tr>\n",
       "    <tr>\n",
       "      <th>original</th>\n",
       "      <th>0.1</th>\n",
       "      <td>0.914582</td>\n",
       "      <td>0.837996</td>\n",
       "      <td>0.845654</td>\n",
       "    </tr>\n",
       "  </tbody>\n",
       "</table>\n",
       "</div>"
      ],
      "text/plain": [
       "                         auc       acc        f1\n",
       "type     noise_std                              \n",
       "atomics  0.1        0.905012  0.843522  0.849783\n",
       "original 0.1        0.914582  0.837996  0.845654"
      ]
     },
     "metadata": {},
     "output_type": "display_data"
    },
    {
     "data": {
      "text/html": [
       "<div>\n",
       "<style scoped>\n",
       "    .dataframe tbody tr th:only-of-type {\n",
       "        vertical-align: middle;\n",
       "    }\n",
       "\n",
       "    .dataframe tbody tr th {\n",
       "        vertical-align: top;\n",
       "    }\n",
       "\n",
       "    .dataframe thead th {\n",
       "        text-align: right;\n",
       "    }\n",
       "</style>\n",
       "<table border=\"1\" class=\"dataframe\">\n",
       "  <thead>\n",
       "    <tr style=\"text-align: right;\">\n",
       "      <th></th>\n",
       "      <th></th>\n",
       "      <th>auc</th>\n",
       "      <th>acc</th>\n",
       "      <th>f1</th>\n",
       "    </tr>\n",
       "    <tr>\n",
       "      <th>type</th>\n",
       "      <th>use_summaries_for_atomics</th>\n",
       "      <th></th>\n",
       "      <th></th>\n",
       "      <th></th>\n",
       "    </tr>\n",
       "  </thead>\n",
       "  <tbody>\n",
       "    <tr>\n",
       "      <th>atomics</th>\n",
       "      <th>True</th>\n",
       "      <td>0.905012</td>\n",
       "      <td>0.843522</td>\n",
       "      <td>0.849783</td>\n",
       "    </tr>\n",
       "    <tr>\n",
       "      <th>original</th>\n",
       "      <th>NaN</th>\n",
       "      <td>0.914582</td>\n",
       "      <td>0.837996</td>\n",
       "      <td>0.845654</td>\n",
       "    </tr>\n",
       "  </tbody>\n",
       "</table>\n",
       "</div>"
      ],
      "text/plain": [
       "                                         auc       acc        f1\n",
       "type     use_summaries_for_atomics                              \n",
       "atomics  True                       0.905012  0.843522  0.849783\n",
       "original NaN                        0.914582  0.837996  0.845654"
      ]
     },
     "metadata": {},
     "output_type": "display_data"
    },
    {
     "data": {
      "text/html": [
       "<div>\n",
       "<style scoped>\n",
       "    .dataframe tbody tr th:only-of-type {\n",
       "        vertical-align: middle;\n",
       "    }\n",
       "\n",
       "    .dataframe tbody tr th {\n",
       "        vertical-align: top;\n",
       "    }\n",
       "\n",
       "    .dataframe thead th {\n",
       "        text-align: right;\n",
       "    }\n",
       "</style>\n",
       "<table border=\"1\" class=\"dataframe\">\n",
       "  <thead>\n",
       "    <tr style=\"text-align: right;\">\n",
       "      <th></th>\n",
       "      <th>auc</th>\n",
       "      <th>acc</th>\n",
       "      <th>f1</th>\n",
       "    </tr>\n",
       "    <tr>\n",
       "      <th>type</th>\n",
       "      <th></th>\n",
       "      <th></th>\n",
       "      <th></th>\n",
       "    </tr>\n",
       "  </thead>\n",
       "  <tbody>\n",
       "    <tr>\n",
       "      <th>atomics</th>\n",
       "      <td>0.905012</td>\n",
       "      <td>0.843522</td>\n",
       "      <td>0.849783</td>\n",
       "    </tr>\n",
       "    <tr>\n",
       "      <th>original</th>\n",
       "      <td>0.914582</td>\n",
       "      <td>0.837996</td>\n",
       "      <td>0.845654</td>\n",
       "    </tr>\n",
       "  </tbody>\n",
       "</table>\n",
       "</div>"
      ],
      "text/plain": [
       "               auc       acc        f1\n",
       "type                                  \n",
       "atomics   0.905012  0.843522  0.849783\n",
       "original  0.914582  0.837996  0.845654"
      ]
     },
     "metadata": {},
     "output_type": "display_data"
    }
   ],
   "source": [
    "for key in sorted(set(list(all_config_permutations_og[0].keys()) + list(all_config_permutations_atomics[0].keys()))):\n",
    "    display(result_df.groupby([\"type\", key], dropna=False)[[\"auc\", \"acc\", \"f1\"]].mean())\n",
    "\n",
    "display(result_df.groupby(\"type\")[[\"auc\", \"acc\", \"f1\"]].mean())"
   ]
  },
  {
   "cell_type": "markdown",
   "metadata": {},
   "source": [
    "## Optimization"
   ]
  },
  {
   "cell_type": "code",
   "execution_count": null,
   "metadata": {},
   "outputs": [],
   "source": [
    "# feature weights\n",
    "n_concepts = 4\n",
    "\n",
    "model = initializeModel(n_concepts, input_dim, changing_dim, seq_len, num_classes)\n",
    "model.fit(train_loader, val_loader, class_weights, model_path.format(n_concepts), 1000)\n",
    "\n",
    "for batch_idx, (Xb, yb) in enumerate(test_loader):\n",
    "    Xb, yb = Xb.to(device), yb.to(device)\n",
    "    probs = model.forward_probabilities(Xb)\n",
    "    \n",
    "    auc = auroc_metric(probs, yb).item()\n",
    "    acc = accuracy_metric(probs, yb).item()\n",
    "    conf_matrix(probs, yb)\n",
    "auc = auroc_metric.compute().item()\n",
    "acc = accuracy_metric.compute().item()\n",
    "conf_matrix.plot()\n",
    "auroc_metric.reset()\n",
    "accuracy_metric.reset()\n",
    "conf_matrix.reset()\n",
    "\n",
    "print(\"AUC\", auc)\n",
    "print(\"ACC\", acc)"
   ]
  },
  {
   "cell_type": "code",
   "execution_count": null,
   "metadata": {},
   "outputs": [],
   "source": [
    "for name, param in model.named_parameters():\n",
    "    if \"bottleneck.weight\" in name:\n",
    "        bottleneck_weights = param\n",
    "feature_weights = bottleneck_weights.cpu().detach().numpy()\n",
    "\n",
    "feature_weights.shape"
   ]
  },
  {
   "cell_type": "code",
   "execution_count": null,
   "metadata": {},
   "outputs": [],
   "source": [
    "# visualize weight magnitudes\n",
    "for c in range(n_concepts):\n",
    "    fig = plt.figure()\n",
    "    ax = fig.add_subplot(111)\n",
    "    inds = np.argsort(-np.abs(feature_weights[c]))[:100]\n",
    "    ax.bar(np.arange(1,101),np.abs(feature_weights[c])[inds])\n",
    "    ax.set_xlabel(\"Top 100 features\")\n",
    "    ax.set_ylabel(\"abs value of feature coefficient\")\n",
    "    plt.show()\n"
   ]
  },
  {
   "cell_type": "code",
   "execution_count": null,
   "metadata": {},
   "outputs": [],
   "source": [
    "# get 90th percentile of feature weights\n",
    "sum90p = np.sum(np.abs(feature_weights), axis=-1)*0.90\n",
    "sum90p.shape\n"
   ]
  },
  {
   "cell_type": "code",
   "execution_count": null,
   "metadata": {},
   "outputs": [],
   "source": [
    "# get top K indizes\n",
    "top_k_inds = []\n",
    "for c in range(n_concepts):\n",
    "    topkinds_conc = []\n",
    "    curr_sum = 0\n",
    "    inds = np.argsort(-np.abs(feature_weights[c])) #desc\n",
    "    sorted_weights = feature_weights[c][inds]\n",
    "    \n",
    "    for ind, weight in zip(inds, sorted_weights):\n",
    "        curr_sum += abs(weight)\n",
    "        if curr_sum <= sum90p[c]:\n",
    "            topkinds_conc.append(ind)\n",
    "        else:\n",
    "            break\n",
    "    \n",
    "    # if selects less than 10, choose 10 best\n",
    "    if len(topkinds_conc) < 10:\n",
    "        topkinds_conc = np.argsort(-np.abs(feature_weights[c]))[:10].tolist()\n",
    "    \n",
    "    top_k_inds.append(topkinds_conc)\n",
    "\n",
    "top_k_inds"
   ]
  },
  {
   "cell_type": "code",
   "execution_count": null,
   "metadata": {},
   "outputs": [],
   "source": [
    "# write top k inds to csv\n",
    "filename = experiment_folder + \"top-k/top_k_inds_c{}.csv\".format(n_concepts)\n",
    "\n",
    "directory = os.path.dirname(filename)\n",
    "if not os.path.exists(directory):\n",
    "    os.makedirs(directory)\n",
    "\n",
    "# writing to csv file \n",
    "with open(filename, 'w') as csvfile: \n",
    "    # creating a csv writer object \n",
    "    csvwriter = csv.writer(csvfile)\n",
    "    # writing the data rows \n",
    "    csvwriter.writerows(top_k_inds)\n"
   ]
  },
  {
   "cell_type": "code",
   "execution_count": null,
   "metadata": {},
   "outputs": [],
   "source": [
    "V = 13 + 1\n",
    "T = seq_len + 1\n",
    "print(T)\n",
    "vars_ = [i for i in range(1,V)] + [str(i) + \"_ind\" for i in range(1,V)]\n",
    "print(len(vars_))\n",
    "data_cols = [[\"feat_{}_time_{}\".format(v, t) for v in vars_] for t in range(1, T)]\n",
    "flattened_data_cols = [col for sublist in data_cols for col in sublist]\n",
    "print(len(flattened_data_cols))\n",
    "flattened_data_cols"
   ]
  },
  {
   "cell_type": "code",
   "execution_count": null,
   "metadata": {},
   "outputs": [],
   "source": [
    "\n",
    "for c, _list in enumerate(top_k_inds):\n",
    "    for ind in _list:\n",
    "        name, summary = getConcept(flattened_data_cols, input_dim, changing_dim, int(ind))\n",
    "        print(f\"Concept {c}: ID {ind}, Feature {name}, Summary {summary}\")\n"
   ]
  },
  {
   "cell_type": "code",
   "execution_count": null,
   "metadata": {},
   "outputs": [],
   "source": [
    "greedy_results = greedy_selection(auroc_metric, test_loader, top_k_inds, model, track_metrics={\"acc\": accuracy_metric})\n",
    "greedy_results.head(10)"
   ]
  },
  {
   "cell_type": "code",
   "execution_count": null,
   "metadata": {},
   "outputs": [],
   "source": [
    "top_k_csv_file = experiment_folder + \"top-k/bottleneck_r{}_c{}_topkinds.csv\".format(random_seed, n_concepts)\n",
    "\n",
    "# writing to csv file\n",
    "with open(top_k_csv_file, 'w') as csvfile: \n",
    "    # creating a csv writer object \n",
    "    csvwriter = csv.writer(csvfile)\n",
    "    csvwriter.writerow(greedy_results.columns)\n",
    "    # writing the data rows \n",
    "    for row in greedy_results.itertuples(index=False):\n",
    "        csvwriter.writerow(list(row))\n"
   ]
  },
  {
   "cell_type": "code",
   "execution_count": null,
   "metadata": {},
   "outputs": [],
   "source": [
    "sorted_ = greedy_results.sort_values([\"Concept\", \"ID\"])\n",
    "\n",
    "for row in sorted_.itertuples(index=False):\n",
    "    name, summary = getConcept(flattened_data_cols, input_dim, changing_dim, row[1])\n",
    "    print(f\"Concept {row[2]}: ID {row[1]}, Feature {name}, Summary {summary}\")"
   ]
  },
  {
   "cell_type": "code",
   "execution_count": null,
   "metadata": {},
   "outputs": [],
   "source": [
    "plt.plot(greedy_results[\"Score\"], label = f\"AUC {greedy_results['Score'].values[-1]:.3f}\")\n",
    "plt.plot(greedy_results[\"acc\"], label = f\"ACC {greedy_results['acc'].values[-1]:.3f}\")\n",
    "\n",
    "plt.xlabel('Num Concepts')\n",
    "plt.ylabel('Criteria')\n",
    "plt.title('Plot of Concepts vs Criteria')\n",
    "\n",
    "plt.legend()\n",
    "plt.show()\n"
   ]
  },
  {
   "cell_type": "code",
   "execution_count": null,
   "metadata": {},
   "outputs": [],
   "source": [
    "top_k_csv_file = \"/workdir/optimal-summaries-public/_models/arabic/multiclass/top-k/bottleneck_r1_c6_topkinds.csv\"\n",
    "n_concepts = 6\n",
    "model = initializeModel(n_concepts, input_dim, changing_dim, seq_len, num_classes, top_k=top_k_csv_file)\n",
    "# model.fit(train_loader, val_loader, weights, model_path.format(n_concepts), 1000)\n",
    "\n",
    "model.eval()\n",
    "with torch.no_grad():\n",
    "    for batch_idx, (Xb, yb) in enumerate(test_loader):\n",
    "        Xb, yb = Xb.to(device), yb.to(device)\n",
    "        probs = model.forward_probabilities(Xb)\n",
    "        \n",
    "        auc = auroc_metric(probs, yb).item()\n",
    "        acc = accuracy_metric(probs, yb).item()\n",
    "    auc = auroc_metric.compute().item()\n",
    "    acc = accuracy_metric.compute().item()\n",
    "    auroc_metric.reset()\n",
    "    accuracy_metric.reset()\n",
    "\n",
    "print(auc)\n",
    "print(acc)\n"
   ]
  },
  {
   "cell_type": "code",
   "execution_count": null,
   "metadata": {},
   "outputs": [],
   "source": [
    "model.fit(train_loader, val_loader, class_weights, save_model_path=\"/workdir/optimal-summaries-public/_models/arabic/multiclass/top-k/arabic_c6_finetuned.pt\", max_epochs=3000, patience=100)\n",
    "\n",
    "model.eval()\n",
    "with torch.no_grad():\n",
    "    for batch_idx, (Xb, yb) in enumerate(test_loader):\n",
    "        Xb, yb = Xb.to(device), yb.to(device)\n",
    "        probs = model.forward_probabilities(Xb)\n",
    "        \n",
    "        auc = auroc_metric(probs, yb)\n",
    "        acc = accuracy_metric(probs, yb)\n",
    "    auc = auroc_metric.compute().item()\n",
    "    acc = accuracy_metric.compute().item()\n",
    "    auroc_metric.reset()\n",
    "    accuracy_metric.reset()\n",
    "    \n",
    "print(auc)\n",
    "print(acc)\n"
   ]
  },
  {
   "cell_type": "code",
   "execution_count": null,
   "metadata": {},
   "outputs": [],
   "source": [
    "\n",
    "plt.plot(model.val_losses)\n",
    "plt.show()"
   ]
  },
  {
   "cell_type": "code",
   "execution_count": null,
   "metadata": {},
   "outputs": [],
   "source": []
  }
 ],
 "metadata": {
  "kernelspec": {
   "display_name": "base",
   "language": "python",
   "name": "python3"
  },
  "language_info": {
   "codemirror_mode": {
    "name": "ipython",
    "version": 3
   },
   "file_extension": ".py",
   "mimetype": "text/x-python",
   "name": "python",
   "nbconvert_exporter": "python",
   "pygments_lexer": "ipython3",
   "version": "3.10.12"
  }
 },
 "nbformat": 4,
 "nbformat_minor": 2
}
