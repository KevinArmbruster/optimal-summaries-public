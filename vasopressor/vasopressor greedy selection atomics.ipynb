{
    "cells": [
        {
            "cell_type": "code",
            "execution_count": 1,
            "metadata": {},
            "outputs": [
                {
                    "name": "stdout",
                    "output_type": "stream",
                    "text": [
                        "current device cuda:11\n"
                    ]
                }
            ],
            "source": [
                "%load_ext autoreload\n",
                "%autoreload 2\n",
                "\n",
                "import sys\n",
                "sys.path.append('..')\n",
                "\n",
                "import numpy as np\n",
                "import pandas as pd\n",
                "import torch\n",
                "import random\n",
                "import csv\n",
                "from sklearn.model_selection import train_test_split\n",
                "from sklearn.utils.class_weight import compute_class_weight\n",
                "from sklearn.preprocessing import StandardScaler, RobustScaler\n",
                "import matplotlib.pyplot as plt\n",
                "import torch\n",
                "from torch.utils.data import TensorDataset, DataLoader\n",
                "from torch.autograd import Variable\n",
                "from torchmetrics.classification import AUROC, Accuracy, ConfusionMatrix, F1Score\n",
                "import os, subprocess, gc, time, datetime\n",
                "from itertools import product\n",
                "\n",
                "import models.models_original as models_original\n",
                "import models.models_3d_atomics as models_3d_atomics\n",
                "from vasopressor.preprocess_helpers import load_and_create_MIMIC_dataloader\n",
                "from models.helper import *\n",
                "from models.param_initializations import *\n",
                "from models.optimization_strategy import greedy_forward_selection, get_top_features_per_concept\n",
                "\n",
                "device = get_free_gpu()"
            ]
        },
        {
            "cell_type": "code",
            "execution_count": 2,
            "metadata": {},
            "outputs": [
                {
                    "name": "stdout",
                    "output_type": "stream",
                    "text": [
                        "tensor([0.5797, 3.6376], dtype=torch.float64) 2 6\n",
                        "torch.Size([512, 6, 27]) cpu\n",
                        "torch.Size([512, 6, 27]) cpu\n",
                        "torch.Size([512, 8]) cpu\n",
                        "torch.Size([512, 2]) cpu\n"
                    ]
                },
                {
                    "data": {
                        "text/plain": [
                            "35"
                        ]
                    },
                    "execution_count": 2,
                    "metadata": {},
                    "output_type": "execute_result"
                }
            ],
            "source": [
                "train_loader, val_loader, test_loader, class_weights, num_classes, changing_vars, static_names, seq_len = load_and_create_MIMIC_dataloader(output_dim = 2, batch_size = 512, random_state = 1)\n",
                "\n",
                "print(class_weights, num_classes, seq_len)\n",
                "\n",
                "for batch in train_loader:\n",
                "    [print(t.shape, t.device) for t in batch]\n",
                "    break\n",
                "\n",
                "len(train_loader)"
            ]
        },
        {
            "cell_type": "code",
            "execution_count": 3,
            "metadata": {},
            "outputs": [],
            "source": [
                "def plot_losses(train_losses, val_losses):\n",
                "    plt.plot(train_losses, color=\"black\", label=\"Train\")\n",
                "    plt.plot(val_losses, color=\"green\", label=\"Val\")\n",
                "    plt.yscale(\"log\")\n",
                "    plt.legend()\n",
                "    plt.show()\n",
                "\n",
                "def plot_metrics(history, n_concepts_list):\n",
                "    plt.plot(history[:, 0], history[:, 2], label=f'AUC')\n",
                "    plt.plot(history[:, 0], history[:, 3], label=f'ACC')\n",
                "    plt.plot(history[:, 0], history[:, 4], label=f'F1')\n",
                "\n",
                "    plt.xlabel('Num Concepts')\n",
                "    plt.ylabel('Criteria')\n",
                "    plt.title('Plot of Concepts vs Criteria')\n",
                "    plt.xticks(n_concepts_list)\n",
                "\n",
                "    plt.legend()\n",
                "    plt.show()\n",
                "\n",
                "def plot_atomics_concepts_metric(history, title, dec=\"{:.3g}\"):\n",
                "        \n",
                "    df = pd.DataFrame(history, columns=[\"n_atomics\", \"n_concepts\", \"val_loss\", \"auc\", \"acc\", \"f1\"])\n",
                "    mean_atomics = df.groupby(\"n_atomics\").mean()\n",
                "    mean_concepts = df.groupby(\"n_concepts\").mean()\n",
                "\n",
                "    # display(mean_atomics)\n",
                "    plt.plot(mean_atomics.index, mean_atomics[\"auc\"], label='AUC')\n",
                "    plt.plot(mean_atomics.index, mean_atomics[\"acc\"], label='ACC')\n",
                "    plt.plot(mean_atomics.index, mean_atomics[\"f1\"], label='F1')\n",
                "    plt.xlabel('Num Atomics')\n",
                "    plt.ylabel('Criteria')\n",
                "    plt.title(\"Metric as mean over atomics\")\n",
                "    plt.suptitle(title)\n",
                "    plt.legend()\n",
                "    plt.show()\n",
                "\n",
                "    # display(mean_concepts)\n",
                "    plt.plot(mean_concepts.index, mean_concepts[\"auc\"], label='AUC')\n",
                "    plt.plot(mean_concepts.index, mean_concepts[\"acc\"], label='ACC')\n",
                "    plt.plot(mean_concepts.index, mean_concepts[\"f1\"], label='F1')\n",
                "    plt.xlabel('Num Concepts')\n",
                "    plt.ylabel('Criteria')\n",
                "    plt.title(\"Metric as mean over concepts\")\n",
                "    plt.suptitle(title)\n",
                "    plt.legend()\n",
                "    plt.show()\n"
            ]
        },
        {
            "cell_type": "code",
            "execution_count": 4,
            "metadata": {},
            "outputs": [
                {
                    "name": "stdout",
                    "output_type": "stream",
                    "text": [
                        "27 8 6\n"
                    ]
                }
            ],
            "source": [
                "seq_len = seq_len\n",
                "changing_dim = len(changing_vars)\n",
                "static_dim = len(static_names)\n",
                "\n",
                "print(changing_dim, static_dim, seq_len)\n",
                "\n",
                "random_seed = 1\n",
                "set_seed(random_seed)\n"
            ]
        },
        {
            "cell_type": "code",
            "execution_count": 5,
            "metadata": {},
            "outputs": [],
            "source": [
                "auroc_metric = AUROC(task=\"binary\").to(device)\n",
                "accuracy_metric = Accuracy(task=\"binary\").to(device)\n",
                "f1_metric = F1Score(task=\"binary\").to(device)\n",
                "conf_matrix = ConfusionMatrix(task=\"binary\").to(device)"
            ]
        },
        {
            "cell_type": "markdown",
            "metadata": {},
            "source": [
                "## Optimization Atomics"
            ]
        },
        {
            "cell_type": "code",
            "execution_count": 6,
            "metadata": {},
            "outputs": [
                {
                    "name": "stderr",
                    "output_type": "stream",
                    "text": [
                        "/usr/local/lib/python3.10/dist-packages/torch/nn/modules/lazy.py:180: UserWarning: Lazy modules are a new feature under heavy development so changes to the API or functionality can happen at any moment.\n",
                        "  warnings.warn('Lazy modules are a new feature under heavy development '\n"
                    ]
                },
                {
                    "name": "stdout",
                    "output_type": "stream",
                    "text": [
                        "Loaded model from /workdir/optimal-summaries-public/_models/vasopressor/atomics_new/n_atomics_10_n_concepts_4_use_indicators_True_use_summaries_for_atomics_False_seed_1.pt\n",
                        "AUC macro 0.900\n",
                        "ACC macro 0.860\n",
                        " F1 macro 0.862\n"
                    ]
                },
                {
                    "name": "stderr",
                    "output_type": "stream",
                    "text": [
                        "/usr/local/lib/python3.10/dist-packages/torch/nn/modules/lazy.py:180: UserWarning: Lazy modules are a new feature under heavy development so changes to the API or functionality can happen at any moment.\n",
                        "  warnings.warn('Lazy modules are a new feature under heavy development '\n"
                    ]
                },
                {
                    "name": "stdout",
                    "output_type": "stream",
                    "text": [
                        "Loaded model from /workdir/optimal-summaries-public/_models/vasopressor/atomics_new/n_atomics_10_n_concepts_4_use_indicators_True_use_summaries_for_atomics_True_seed_1.pt\n",
                        "AUC macro 0.913\n",
                        "ACC macro 0.836\n",
                        " F1 macro 0.844\n"
                    ]
                }
            ],
            "source": [
                "experiment_folder = \"/workdir/optimal-summaries-public/_models/vasopressor/atomics_new/\"\n",
                "\n",
                "def get_model_sum2con(random_seed):\n",
                "    # feature weights\n",
                "    config_atomics = {\n",
                "        \"n_atomics\": 10, # 30\n",
                "        \"n_concepts\": 4, # 20\n",
                "        \"use_indicators\": True,\n",
                "        \"use_summaries_for_atomics\": False,\n",
                "    }\n",
                "\n",
                "    makedir(experiment_folder)\n",
                "    model_path = get_filename_from_dict(experiment_folder, config_atomics)\n",
                "\n",
                "    train_loader, val_loader, test_loader, class_weights, num_classes, changing_vars, static_names, seq_len = load_and_create_MIMIC_dataloader(output_dim = 2, batch_size = 512, random_state = random_seed)\n",
                "\n",
                "    top_k = None # \"/workdir/optimal-summaries-public/_models/vasopressor/atomics/top-k/bottleneck_topkinds.csv\"\n",
                "\n",
                "    model = models_3d_atomics.CBM(**config_atomics, static_dim=static_dim, changing_dim=changing_dim, seq_len=seq_len, output_dim=2, top_k=top_k, device=device)\n",
                "    model.try_load_else_fit(train_loader, val_loader, p_weight=class_weights.to(device), save_model_path=model_path.format(**config_atomics, seed = random_seed), max_epochs=10000)\n",
                "\n",
                "    evaluate_classification(model, test_loader)\n",
                "    return model\n",
                "\n",
                "model = get_model_sum2con(1)\n",
                "\n",
                "def get_model_sum2atom(random_seed):\n",
                "    # feature weights\n",
                "    config_atomics = {\n",
                "        \"n_atomics\": 10, # 30\n",
                "        \"n_concepts\": 4, # 20\n",
                "        \"use_indicators\": True,\n",
                "        \"use_summaries_for_atomics\": True,\n",
                "    }\n",
                "\n",
                "    makedir(experiment_folder)\n",
                "    model_path = get_filename_from_dict(experiment_folder, config_atomics)\n",
                "\n",
                "    train_loader, val_loader, test_loader, class_weights, num_classes, changing_vars, static_names, seq_len = load_and_create_MIMIC_dataloader(output_dim = 2, batch_size = 512, random_state = random_seed)\n",
                "\n",
                "    top_k = None # \"/workdir/optimal-summaries-public/_models/vasopressor/atomics/top-k/bottleneck_topkinds.csv\"\n",
                "\n",
                "    model = models_3d_atomics.CBM(**config_atomics, static_dim=static_dim, changing_dim=changing_dim, seq_len=seq_len, output_dim=2, top_k=top_k, device=device)\n",
                "    model.try_load_else_fit(train_loader, val_loader, p_weight=class_weights.to(device), save_model_path=model_path.format(**config_atomics, seed = random_seed), max_epochs=10000)\n",
                "\n",
                "    evaluate_classification(model, test_loader)\n",
                "    return model\n",
                "\n",
                "model = get_model_sum2atom(1)"
            ]
        },
        {
            "cell_type": "code",
            "execution_count": 15,
            "metadata": {},
            "outputs": [
                {
                    "name": "stdout",
                    "output_type": "stream",
                    "text": [
                        "Loaded model from /workdir/optimal-summaries-public/_models/vasopressor/atomics_new/n_atomics_10_n_concepts_4_use_indicators_True_use_summaries_for_atomics_True_seed_1.pt\n"
                    ]
                },
                {
                    "name": "stderr",
                    "output_type": "stream",
                    "text": [
                        "/usr/local/lib/python3.10/dist-packages/torch/nn/modules/lazy.py:180: UserWarning: Lazy modules are a new feature under heavy development so changes to the API or functionality can happen at any moment.\n",
                        "  warnings.warn('Lazy modules are a new feature under heavy development '\n"
                    ]
                },
                {
                    "name": "stdout",
                    "output_type": "stream",
                    "text": [
                        "AUC macro 0.913\n",
                        "ACC macro 0.836\n",
                        " F1 macro 0.844\n"
                    ]
                },
                {
                    "name": "stderr",
                    "output_type": "stream",
                    "text": [
                        "/usr/local/lib/python3.10/dist-packages/torch/nn/modules/lazy.py:180: UserWarning: Lazy modules are a new feature under heavy development so changes to the API or functionality can happen at any moment.\n",
                        "  warnings.warn('Lazy modules are a new feature under heavy development '\n"
                    ]
                },
                {
                    "name": "stdout",
                    "output_type": "stream",
                    "text": [
                        "Loaded model from /workdir/optimal-summaries-public/_models/vasopressor/atomics_new/n_atomics_10_n_concepts_4_use_indicators_True_use_summaries_for_atomics_True_seed_2.pt\n",
                        "AUC macro 0.919\n",
                        "ACC macro 0.840\n",
                        " F1 macro 0.848\n"
                    ]
                },
                {
                    "name": "stderr",
                    "output_type": "stream",
                    "text": [
                        "/usr/local/lib/python3.10/dist-packages/torch/nn/modules/lazy.py:180: UserWarning: Lazy modules are a new feature under heavy development so changes to the API or functionality can happen at any moment.\n",
                        "  warnings.warn('Lazy modules are a new feature under heavy development '\n"
                    ]
                },
                {
                    "name": "stdout",
                    "output_type": "stream",
                    "text": [
                        "Loaded model from /workdir/optimal-summaries-public/_models/vasopressor/atomics_new/n_atomics_10_n_concepts_4_use_indicators_True_use_summaries_for_atomics_True_seed_3.pt\n",
                        "AUC macro 0.915\n",
                        "ACC macro 0.837\n",
                        " F1 macro 0.845\n"
                    ]
                }
            ],
            "source": [
                "models = [get_model_sum2atom(seed) for seed in range(1,4)]\n"
            ]
        },
        {
            "cell_type": "code",
            "execution_count": 16,
            "metadata": {},
            "outputs": [
                {
                    "name": "stderr",
                    "output_type": "stream",
                    "text": [
                        "/usr/local/lib/python3.10/dist-packages/torch/nn/modules/lazy.py:180: UserWarning: Lazy modules are a new feature under heavy development so changes to the API or functionality can happen at any moment.\n",
                        "  warnings.warn('Lazy modules are a new feature under heavy development '\n",
                        "  4%|▍         | 380/10000 [06:14<2:38:02,  1.01 epoch/s, Train Loss=0.56672, Val Loss=0.58711, Best Val Loss=0.58429]"
                    ]
                },
                {
                    "name": "stdout",
                    "output_type": "stream",
                    "text": [
                        "Early Stopped\n"
                    ]
                },
                {
                    "name": "stderr",
                    "output_type": "stream",
                    "text": [
                        "\n"
                    ]
                },
                {
                    "name": "stdout",
                    "output_type": "stream",
                    "text": [
                        "AUC macro 0.894\n",
                        "ACC macro 0.851\n",
                        " F1 macro 0.855\n"
                    ]
                },
                {
                    "name": "stderr",
                    "output_type": "stream",
                    "text": [
                        "/usr/local/lib/python3.10/dist-packages/torch/nn/modules/lazy.py:180: UserWarning: Lazy modules are a new feature under heavy development so changes to the API or functionality can happen at any moment.\n",
                        "  warnings.warn('Lazy modules are a new feature under heavy development '\n",
                        "  2%|▏         | 210/10000 [03:26<2:40:38,  1.02 epoch/s, Train Loss=0.56137, Val Loss=0.56205, Best Val Loss=0.56111]"
                    ]
                },
                {
                    "name": "stdout",
                    "output_type": "stream",
                    "text": [
                        "Early Stopped\n"
                    ]
                },
                {
                    "name": "stderr",
                    "output_type": "stream",
                    "text": [
                        "\n"
                    ]
                },
                {
                    "name": "stdout",
                    "output_type": "stream",
                    "text": [
                        "AUC macro 0.898\n",
                        "ACC macro 0.839\n",
                        " F1 macro 0.844\n"
                    ]
                },
                {
                    "name": "stderr",
                    "output_type": "stream",
                    "text": [
                        "/usr/local/lib/python3.10/dist-packages/torch/nn/modules/lazy.py:180: UserWarning: Lazy modules are a new feature under heavy development so changes to the API or functionality can happen at any moment.\n",
                        "  warnings.warn('Lazy modules are a new feature under heavy development '\n",
                        "  5%|▍         | 480/10000 [07:57<2:37:40,  1.01 epoch/s, Train Loss=0.56219, Val Loss=0.57548, Best Val Loss=0.56474]"
                    ]
                },
                {
                    "name": "stdout",
                    "output_type": "stream",
                    "text": [
                        "Early Stopped\n"
                    ]
                },
                {
                    "name": "stderr",
                    "output_type": "stream",
                    "text": [
                        "\n"
                    ]
                },
                {
                    "name": "stdout",
                    "output_type": "stream",
                    "text": [
                        "AUC macro 0.894\n",
                        "ACC macro 0.832\n",
                        " F1 macro 0.840\n"
                    ]
                }
            ],
            "source": [
                "models = [get_model_sum2con(seed) for seed in range(1,4)]\n"
            ]
        },
        {
            "cell_type": "code",
            "execution_count": 7,
            "metadata": {},
            "outputs": [
                {
                    "name": "stderr",
                    "output_type": "stream",
                    "text": [
                        "/usr/local/lib/python3.10/dist-packages/torch/nn/modules/lazy.py:180: UserWarning: Lazy modules are a new feature under heavy development so changes to the API or functionality can happen at any moment.\n",
                        "  warnings.warn('Lazy modules are a new feature under heavy development '\n"
                    ]
                },
                {
                    "name": "stdout",
                    "output_type": "stream",
                    "text": [
                        "Loaded model from /workdir/optimal-summaries-public/_models/vasopressor/atomics_new/n_atomics_10_n_concepts_4_use_indicators_True_use_summaries_for_atomics_True_seed_1.pt\n",
                        "AUC macro 0.913\n",
                        "ACC macro 0.836\n",
                        " F1 macro 0.844\n",
                        "seed 1\n",
                        "Found 10 Concepts\n",
                        "90th percentile per concept [0.17485653 0.11012712 0.15025544 0.733804   0.12479137 5.350915\n",
                        " 0.13964465 0.11854323 0.14277679 0.37324145]\n",
                        "['Concept 0 len: 10', 'Concept 1 len: 10', 'Concept 2 len: 10', 'Concept 3 len: 10', 'Concept 4 len: 10', 'Concept 5 len: 12', 'Concept 6 len: 10', 'Concept 7 len: 10', 'Concept 8 len: 10', 'Concept 9 len: 10']\n",
                        "Found 4 Concepts\n",
                        "90th percentile per concept [10.933439    0.19957875  0.18998273  0.17745395]\n",
                        "['Concept 0 len: 25', 'Concept 1 len: 136', 'Concept 2 len: 142', 'Concept 3 len: 133']\n",
                        "Loaded results from save path. Skipping search...\n"
                    ]
                }
            ],
            "source": [
                "track_metrics={\"acc\": accuracy_metric,\n",
                "               \"f1\": f1_metric,\n",
                "               \"auc\": auroc_metric,\n",
                "               }\n",
                "\n",
                "# models = [get_model_sum2atom(seed) for seed in range(1,4)]\n",
                "models = [get_model_sum2atom(1)]\n",
                "\n",
                "results = []\n",
                "for seed, model in enumerate(models, 1):\n",
                "    print(\"seed\", seed)\n",
                "    top_k_inds = [get_top_features_per_concept(layer) for layer in model.regularized_layers]\n",
                "    \n",
                "    save_path = experiment_folder + \"top-k/bottleneck_topkinds_sum2atom_seed_{seed}.csv\".format(seed=seed)\n",
                "    \n",
                "    greedy_results = greedy_forward_selection(model=model, layers_to_prune=model.regularized_layers, top_k_inds=top_k_inds, val_loader=val_loader, optimize_metric=auroc_metric, track_metrics=track_metrics, save_path=save_path)\n",
                "    results.append(greedy_results)\n",
                "    "
            ]
        },
        {
            "cell_type": "code",
            "execution_count": 8,
            "metadata": {},
            "outputs": [
                {
                    "name": "stderr",
                    "output_type": "stream",
                    "text": [
                        "/usr/local/lib/python3.10/dist-packages/torch/nn/modules/lazy.py:180: UserWarning: Lazy modules are a new feature under heavy development so changes to the API or functionality can happen at any moment.\n",
                        "  warnings.warn('Lazy modules are a new feature under heavy development '\n"
                    ]
                },
                {
                    "name": "stdout",
                    "output_type": "stream",
                    "text": [
                        "Loaded model from /workdir/optimal-summaries-public/_models/vasopressor/atomics_new/n_atomics_10_n_concepts_4_use_indicators_True_use_summaries_for_atomics_False_seed_1.pt\n",
                        "AUC macro 0.900\n",
                        "ACC macro 0.860\n",
                        " F1 macro 0.862\n",
                        "seed 1\n",
                        "Found 10 Concepts\n",
                        "90th percentile per concept [0.09312173 0.1105315  0.11364545 0.08538713 0.08993343 0.08235046\n",
                        " 0.09268064 0.09022894 0.08621404 0.08993822]\n",
                        "['Concept 0 len: 10', 'Concept 1 len: 10', 'Concept 2 len: 10', 'Concept 3 len: 10', 'Concept 4 len: 10', 'Concept 5 len: 10', 'Concept 6 len: 10', 'Concept 7 len: 10', 'Concept 8 len: 10', 'Concept 9 len: 10']\n",
                        "Found 4 Concepts\n",
                        "90th percentile per concept [2.6416087  9.061051   0.71845627 1.6046413 ]\n",
                        "['Concept 0 len: 20', 'Concept 1 len: 54', 'Concept 2 len: 25', 'Concept 3 len: 92']\n"
                    ]
                },
                {
                    "name": "stderr",
                    "output_type": "stream",
                    "text": [
                        " 64%|██████▎   | 89/140 [2:51:19<1:21:04, 95.39s/it, Score=0.92556, acc=0.864, f1=0.869, auc=0.926] "
                    ]
                }
            ],
            "source": [
                "track_metrics={\"acc\": accuracy_metric,\n",
                "               \"f1\": f1_metric,\n",
                "               \"auc\": auroc_metric,\n",
                "               }\n",
                "\n",
                "# models = [get_model_sum2con(seed) for seed in range(1,4)]\n",
                "models = [get_model_sum2con(1)]\n",
                "\n",
                "results = []\n",
                "for seed, model in enumerate(models, 1):\n",
                "    print(\"seed\", seed)\n",
                "    top_k_inds = [get_top_features_per_concept(layer) for layer in model.regularized_layers]\n",
                "    \n",
                "    save_path = experiment_folder + \"top-k/bottleneck_topkinds_sum2con_seed_{seed}.csv\".format(seed=seed)\n",
                "    \n",
                "    greedy_results = greedy_forward_selection(model=model, layers_to_prune=model.regularized_layers, top_k_inds=top_k_inds, val_loader=val_loader, optimize_metric=auroc_metric, track_metrics=track_metrics, save_path=save_path)\n",
                "    results.append(greedy_results)\n",
                "    "
            ]
        },
        {
            "cell_type": "code",
            "execution_count": null,
            "metadata": {},
            "outputs": [],
            "source": [
                "save_path = experiment_folder + \"top-k/bottleneck_topkinds_sum2con_seed_{seed}.csv\".format(seed=1)\n",
                "write_df_2_csv(save_path, results[0])"
            ]
        },
        {
            "cell_type": "code",
            "execution_count": null,
            "metadata": {},
            "outputs": [],
            "source": [
                "model = get_model_sum2atom(1)\n",
                "greedy_results = read_df_from_csv(\"/workdir/optimal-summaries-public/_models/vasopressor/model3d/top-k/bottleneck_topkinds_encode_time_dim_False_1.csv\")\n",
                "\n",
                "train_loader, val_loader, test_loader, class_weights, num_classes, changing_vars, static_names, seq_len = load_and_create_MIMIC_dataloader(output_dim = 2, batch_size = 512, random_state = random_seed)\n",
                "\n",
                "visualize_optimization_results(model, val_loader, test_loader, greedy_results)\n"
            ]
        },
        {
            "cell_type": "code",
            "execution_count": null,
            "metadata": {},
            "outputs": [],
            "source": [
                "model = get_model_sum2con(1)\n",
                "greedy_results = read_df_from_csv(\"/workdir/optimal-summaries-public/_models/vasopressor/model3d/top-k/bottleneck_topkinds_encode_time_dim_False_1.csv\")\n",
                "\n",
                "train_loader, val_loader, test_loader, class_weights, num_classes, changing_vars, static_names, seq_len = load_and_create_MIMIC_dataloader(output_dim = 2, batch_size = 512, random_state = random_seed)\n",
                "\n",
                "visualize_optimization_results(model, val_loader, test_loader, greedy_results)\n"
            ]
        }
    ],
    "metadata": {
        "kernelspec": {
            "display_name": "base",
            "language": "python",
            "name": "python3"
        },
        "language_info": {
            "codemirror_mode": {
                "name": "ipython",
                "version": 3
            },
            "file_extension": ".py",
            "mimetype": "text/x-python",
            "name": "python",
            "nbconvert_exporter": "python",
            "pygments_lexer": "ipython3",
            "version": "3.10.12"
        }
    },
    "nbformat": 4,
    "nbformat_minor": 2
}
