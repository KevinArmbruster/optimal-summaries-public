{
    "cells": [
        {
            "cell_type": "code",
            "execution_count": 1,
            "metadata": {},
            "outputs": [
                {
                    "name": "stdout",
                    "output_type": "stream",
                    "text": [
                        "current device cuda:15\n"
                    ]
                }
            ],
            "source": [
                "%load_ext autoreload\n",
                "%autoreload 2\n",
                "\n",
                "import sys\n",
                "sys.path.append('..')\n",
                "\n",
                "import numpy as np\n",
                "import pandas as pd\n",
                "import torch\n",
                "import random\n",
                "import csv\n",
                "from sklearn.model_selection import train_test_split\n",
                "from sklearn.utils.class_weight import compute_class_weight\n",
                "from sklearn.preprocessing import StandardScaler, RobustScaler\n",
                "import matplotlib.pyplot as plt\n",
                "import torch\n",
                "from torch.utils.data import TensorDataset, DataLoader\n",
                "from torch.autograd import Variable\n",
                "from torchmetrics.classification import AUROC, Accuracy, ConfusionMatrix, F1Score\n",
                "import os, subprocess, gc, time, datetime\n",
                "from itertools import product\n",
                "\n",
                "import models.models_original as models_original\n",
                "import models.models_3d_atomics as new_models\n",
                "from vasopressor.preprocess_helpers import load_and_create_MIMIC_dataloader\n",
                "from models.helper import *\n",
                "from models.param_initializations import *\n",
                "from models.optimization_strategy import greedy_forward_selection, get_top_features_per_concept\n",
                "\n",
                "gpu_id = int(subprocess.check_output('nvidia-smi --query-gpu=memory.free --format=csv,nounits,noheader | nl -v 0 | sort -nrk 2 | cut -f 1 | head -n 1 | xargs', shell=True, text=True))\n",
                "device = torch.device(f'cuda:{gpu_id}') if torch.cuda.is_available else torch.device('cpu')\n",
                "print(\"current device\", device)"
            ]
        },
        {
            "cell_type": "code",
            "execution_count": 2,
            "metadata": {},
            "outputs": [
                {
                    "name": "stdout",
                    "output_type": "stream",
                    "text": [
                        "tensor([0.5797, 3.6376], dtype=torch.float64) 2 6\n",
                        "torch.Size([512, 6, 27]) cpu\n",
                        "torch.Size([512, 6, 27]) cpu\n",
                        "torch.Size([512, 8]) cpu\n",
                        "torch.Size([512, 2]) cpu\n"
                    ]
                },
                {
                    "data": {
                        "text/plain": [
                            "35"
                        ]
                    },
                    "execution_count": 2,
                    "metadata": {},
                    "output_type": "execute_result"
                }
            ],
            "source": [
                "train_loader, val_loader, test_loader, class_weights, num_classes, changing_vars, static_names, seq_len = load_and_create_MIMIC_dataloader(output_dim = 2, batch_size = 512, random_state = 1)\n",
                "\n",
                "print(class_weights, num_classes, seq_len)\n",
                "\n",
                "for batch in train_loader:\n",
                "    [print(t.shape, t.device) for t in batch]\n",
                "    break\n",
                "\n",
                "len(train_loader)"
            ]
        },
        {
            "cell_type": "code",
            "execution_count": 3,
            "metadata": {},
            "outputs": [],
            "source": [
                "def plot_losses(train_losses, val_losses):\n",
                "    plt.plot(train_losses, color=\"black\", label=\"Train\")\n",
                "    plt.plot(val_losses, color=\"green\", label=\"Val\")\n",
                "    plt.yscale(\"log\")\n",
                "    plt.legend()\n",
                "    plt.show()\n",
                "\n",
                "def plot_metrics(history, n_concepts_list):\n",
                "    plt.plot(history[:, 0], history[:, 2], label=f'AUC')\n",
                "    plt.plot(history[:, 0], history[:, 3], label=f'ACC')\n",
                "    plt.plot(history[:, 0], history[:, 4], label=f'F1')\n",
                "\n",
                "    plt.xlabel('Num Concepts')\n",
                "    plt.ylabel('Criteria')\n",
                "    plt.title('Plot of Concepts vs Criteria')\n",
                "    plt.xticks(n_concepts_list)\n",
                "\n",
                "    plt.legend()\n",
                "    plt.show()\n",
                "\n",
                "def plot_atomics_concepts_metric(history, title, dec=\"{:.3g}\"):\n",
                "        \n",
                "    df = pd.DataFrame(history, columns=[\"n_atomics\", \"n_concepts\", \"val_loss\", \"auc\", \"acc\", \"f1\"])\n",
                "    mean_atomics = df.groupby(\"n_atomics\").mean()\n",
                "    mean_concepts = df.groupby(\"n_concepts\").mean()\n",
                "\n",
                "    # display(mean_atomics)\n",
                "    plt.plot(mean_atomics.index, mean_atomics[\"auc\"], label='AUC')\n",
                "    plt.plot(mean_atomics.index, mean_atomics[\"acc\"], label='ACC')\n",
                "    plt.plot(mean_atomics.index, mean_atomics[\"f1\"], label='F1')\n",
                "    plt.xlabel('Num Atomics')\n",
                "    plt.ylabel('Criteria')\n",
                "    plt.title(\"Metric as mean over atomics\")\n",
                "    plt.suptitle(title)\n",
                "    plt.legend()\n",
                "    plt.show()\n",
                "\n",
                "    # display(mean_concepts)\n",
                "    plt.plot(mean_concepts.index, mean_concepts[\"auc\"], label='AUC')\n",
                "    plt.plot(mean_concepts.index, mean_concepts[\"acc\"], label='ACC')\n",
                "    plt.plot(mean_concepts.index, mean_concepts[\"f1\"], label='F1')\n",
                "    plt.xlabel('Num Concepts')\n",
                "    plt.ylabel('Criteria')\n",
                "    plt.title(\"Metric as mean over concepts\")\n",
                "    plt.suptitle(title)\n",
                "    plt.legend()\n",
                "    plt.show()\n"
            ]
        },
        {
            "cell_type": "code",
            "execution_count": 4,
            "metadata": {},
            "outputs": [
                {
                    "name": "stdout",
                    "output_type": "stream",
                    "text": [
                        "27 8 6\n"
                    ]
                }
            ],
            "source": [
                "seq_len = seq_len\n",
                "changing_dim = len(changing_vars)\n",
                "static_dim = len(static_names)\n",
                "\n",
                "print(changing_dim, static_dim, seq_len)\n",
                "\n",
                "random_seed = 1\n",
                "set_seed(random_seed)\n"
            ]
        },
        {
            "cell_type": "markdown",
            "metadata": {},
            "source": [
                "## Optimization"
            ]
        },
        {
            "cell_type": "code",
            "execution_count": 10,
            "metadata": {},
            "outputs": [
                {
                    "name": "stderr",
                    "output_type": "stream",
                    "text": [
                        "/usr/local/lib/python3.10/dist-packages/torch/nn/modules/lazy.py:180: UserWarning: Lazy modules are a new feature under heavy development so changes to the API or functionality can happen at any moment.\n",
                        "  warnings.warn('Lazy modules are a new feature under heavy development '\n"
                    ]
                },
                {
                    "name": "stdout",
                    "output_type": "stream",
                    "text": [
                        "Loaded model from /workdir/optimal-summaries-public/_models/vasopressor/original_new/n_concepts_4_use_indicators_True_use_only_last_timestep_False_seed_1.pt\n",
                        "AUC macro 0.9131898880004883\n",
                        "ACC macro 0.8352497220039368\n",
                        " F1 macro 0.8434697389602661\n"
                    ]
                }
            ],
            "source": [
                "experiment_folder = \"/workdir/optimal-summaries-public/_models/vasopressor/original_new/\"\n",
                "\n",
                "def get_model(random_seed):\n",
                "    # feature weights\n",
                "    config_original = {\n",
                "        \"n_concepts\": 4,\n",
                "        \"use_indicators\": True,\n",
                "        \"use_only_last_timestep\": False,\n",
                "    }\n",
                "    \n",
                "    experiment_folder = \"/workdir/optimal-summaries-public/_models/vasopressor/original_new/\"\n",
                "    model_path = experiment_folder + \"\".join([f\"{key}_{{{key}}}_\" for key in config_original.keys()]) + \"seed_{seed}.pt\"\n",
                "\n",
                "    train_loader, val_loader, test_loader, class_weights, num_classes, changing_vars, static_names, seq_len = load_and_create_MIMIC_dataloader(output_dim = 2, batch_size = 512, random_state = random_seed)\n",
                "\n",
                "    top_k = \"\" # \"/workdir/optimal-summaries-public/_models/vasopressor/original/top-k/bottleneck_topkinds.csv\"\n",
                "\n",
                "    model = models_original.CBM(**config_original, static_dim=static_dim, changing_dim=changing_dim, seq_len=seq_len, output_dim=2, top_k=top_k, device=device)\n",
                "    model.fit(train_loader, val_loader, p_weight=class_weights.to(device), save_model_path=model_path.format(**config_original, seed = random_seed), max_epochs=10000)\n",
                "\n",
                "    evaluate_classification(model, test_loader, num_classes=num_classes, device=device)\n",
                "    return model\n",
                "\n",
                "model = get_model(1)"
            ]
        },
        {
            "cell_type": "code",
            "execution_count": 6,
            "metadata": {},
            "outputs": [
                {
                    "data": {
                        "text/plain": [
                            "(4, 656)"
                        ]
                    },
                    "execution_count": 6,
                    "metadata": {},
                    "output_type": "execute_result"
                }
            ],
            "source": [
                "abs_bottleneck_weights = model.bottleneck.weight.cpu().detach().numpy()\n",
                "abs_bottleneck_weights = np.abs(abs_bottleneck_weights)\n",
                "abs_bottleneck_weights.shape\n"
            ]
        },
        {
            "cell_type": "code",
            "execution_count": 7,
            "metadata": {},
            "outputs": [
                {
                    "name": "stdout",
                    "output_type": "stream",
                    "text": [
                        "Row 1: Selected weights smaller than threshold (0.0001):\n",
                        "122\n",
                        "Row 2: Selected weights smaller than threshold (0.0001):\n",
                        "62\n",
                        "Row 3: Selected weights smaller than threshold (0.0001):\n",
                        "35\n",
                        "Row 4: Selected weights smaller than threshold (0.0001):\n",
                        "59\n"
                    ]
                }
            ],
            "source": [
                "threshold = 1e-4  # Threshold value\n",
                "\n",
                "# Iterate over each row (dimension)\n",
                "for row_idx in range(abs_bottleneck_weights.shape[0]):\n",
                "    # Select weights bigger than the threshold for the current row\n",
                "    selected_weights = abs_bottleneck_weights[row_idx][abs_bottleneck_weights[row_idx] < threshold]\n",
                "    \n",
                "    # Print the selected weights for the current row\n",
                "    print(f\"Row {row_idx + 1}: Selected weights smaller than threshold ({threshold}):\")\n",
                "    # print(selected_weights)\n",
                "    print(len(selected_weights))\n"
            ]
        },
        {
            "cell_type": "code",
            "execution_count": 8,
            "metadata": {},
            "outputs": [
                {
                    "data": {
                        "image/png": "[encoded data removed]",
                        "text/plain": [
                            "<Figure size 640x480 with 1 Axes>"
                        ]
                    },
                    "metadata": {},
                    "output_type": "display_data"
                },
                {
                    "data": {
                        "image/png": "[encoded data removed]",
                        "text/plain": [
                            "<Figure size 640x480 with 1 Axes>"
                        ]
                    },
                    "metadata": {},
                    "output_type": "display_data"
                },
                {
                    "data": {
                        "image/png": "[encoded data removed]",
                        "text/plain": [
                            "<Figure size 640x480 with 1 Axes>"
                        ]
                    },
                    "metadata": {},
                    "output_type": "display_data"
                },
                {
                    "data": {
                        "image/png": "[encoded data removed]",
                        "text/plain": [
                            "<Figure size 640x480 with 1 Axes>"
                        ]
                    },
                    "metadata": {},
                    "output_type": "display_data"
                }
            ],
            "source": [
                "visualize_top100_weights_per_channel(model.bottleneck)\n"
            ]
        },
        {
            "cell_type": "code",
            "execution_count": 11,
            "metadata": {},
            "outputs": [
                {
                    "name": "stdout",
                    "output_type": "stream",
                    "text": [
                        "Found 4 Concepts\n",
                        "90th percentile per concept [0.80630976 6.4686685  9.836348   2.5116637 ]\n",
                        "['Concept 0 len: 238', 'Concept 1 len: 56', 'Concept 2 len: 99', 'Concept 3 len: 130']\n"
                    ]
                },
                {
                    "data": {
                        "text/plain": [
                            "Parameter containing:\n",
                            "tensor([[ 0.8610,  2.3126,  3.4860, -1.4506],\n",
                            "        [-0.5501, -2.2258, -3.4838,  2.0821]], device='cuda:15',\n",
                            "       requires_grad=True)"
                        ]
                    },
                    "execution_count": 11,
                    "metadata": {},
                    "output_type": "execute_result"
                }
            ],
            "source": [
                "top_k_inds = get_top_features_per_concept(model.bottleneck)\n",
                "# top_k_inds\n",
                "model.layer_output.weight"
            ]
        },
        {
            "cell_type": "code",
            "execution_count": null,
            "metadata": {},
            "outputs": [],
            "source": [
                "# write top k inds to csv\n",
                "top_k_file = experiment_folder + \"top-k/top_k_idx.csv\"\n",
                "print(top_k_file)\n",
                "\n",
                "print(len(top_k_inds))\n",
                "[print(len(x)) for x in top_k_inds]\n",
                "\n",
                "df = pd.DataFrame(top_k_inds).T\n",
                "# write_df_2_csv(top_k_file, df)\n",
                "\n",
                "# read_df_from_csv()\n",
                "lists = df.apply(lambda x: x.dropna().tolist()).tolist()\n",
                "print(len(lists))\n",
                "[print(len(x)) for x in lists]\n",
                "\n",
                "# directory = os.path.dirname(top_k_file)\n",
                "# if not os.path.exists(directory):\n",
                "#     os.makedirs(directory)\n",
                "\n",
                "# # writing to csv file \n",
                "# with open(top_k_file, 'w') as csvfile: \n",
                "#     # creating a csv writer object \n",
                "#     csvwriter = csv.writer(csvfile)\n",
                "#     # writing the data rows \n",
                "#     csvwriter.writerows(top_k_inds)\n"
            ]
        },
        {
            "cell_type": "code",
            "execution_count": null,
            "metadata": {},
            "outputs": [],
            "source": [
                "V = 13 + 1\n",
                "T = seq_len + 1\n",
                "print(T)\n",
                "vars_ = [i for i in range(1,V)] + [str(i) + \"_ind\" for i in range(1,V)]\n",
                "print(len(vars_))\n",
                "data_cols = [[\"feat_{}_time_{}\".format(v, t) for v in vars_] for t in range(1, T)]\n",
                "flattened_data_cols = [col for sublist in data_cols for col in sublist]\n",
                "print(len(flattened_data_cols))\n",
                "flattened_data_cols"
            ]
        },
        {
            "cell_type": "code",
            "execution_count": null,
            "metadata": {},
            "outputs": [],
            "source": [
                "\n",
                "for c, _list in enumerate(top_k_inds):\n",
                "    for ind in _list:\n",
                "        name, summary = getConcept(flattened_data_cols, input_dim, changing_dim, int(ind))\n",
                "        print(f\"Concept {c}: ID {ind}, Feature {name}, Summary {summary}\")\n"
            ]
        },
        {
            "cell_type": "code",
            "execution_count": 29,
            "metadata": {},
            "outputs": [
                {
                    "name": "stderr",
                    "output_type": "stream",
                    "text": [
                        "/usr/local/lib/python3.10/dist-packages/torch/nn/modules/lazy.py:180: UserWarning: Lazy modules are a new feature under heavy development so changes to the API or functionality can happen at any moment.\n",
                        "  warnings.warn('Lazy modules are a new feature under heavy development '\n"
                    ]
                },
                {
                    "name": "stdout",
                    "output_type": "stream",
                    "text": [
                        "Loaded model from /workdir/optimal-summaries-public/_models/vasopressor/original_new/n_concepts_4_use_indicators_True_use_only_last_timestep_False_seed_1.pt\n",
                        "AUC macro 0.9131898880004883\n",
                        "ACC macro 0.8352497220039368\n",
                        " F1 macro 0.8434697389602661\n"
                    ]
                },
                {
                    "name": "stderr",
                    "output_type": "stream",
                    "text": [
                        "/usr/local/lib/python3.10/dist-packages/torch/nn/modules/lazy.py:180: UserWarning: Lazy modules are a new feature under heavy development so changes to the API or functionality can happen at any moment.\n",
                        "  warnings.warn('Lazy modules are a new feature under heavy development '\n"
                    ]
                },
                {
                    "name": "stdout",
                    "output_type": "stream",
                    "text": [
                        "Loaded model from /workdir/optimal-summaries-public/_models/vasopressor/original_new/n_concepts_4_use_indicators_True_use_only_last_timestep_False_seed_2.pt\n",
                        "AUC macro 0.9151526093482971\n",
                        "ACC macro 0.8385961651802063\n",
                        " F1 macro 0.846611738204956\n"
                    ]
                },
                {
                    "name": "stderr",
                    "output_type": "stream",
                    "text": [
                        "/usr/local/lib/python3.10/dist-packages/torch/nn/modules/lazy.py:180: UserWarning: Lazy modules are a new feature under heavy development so changes to the API or functionality can happen at any moment.\n",
                        "  warnings.warn('Lazy modules are a new feature under heavy development '\n"
                    ]
                },
                {
                    "name": "stdout",
                    "output_type": "stream",
                    "text": [
                        "Loaded model from /workdir/optimal-summaries-public/_models/vasopressor/original_new/n_concepts_4_use_indicators_True_use_only_last_timestep_False_seed_3.pt\n",
                        "AUC macro 0.9143695831298828\n",
                        "ACC macro 0.8337909579277039\n",
                        " F1 macro 0.8420966863632202\n",
                        "1\n",
                        "2\n",
                        "Found 4 Concepts\n",
                        "90th percentile per concept [7.7694016 1.8362296 3.104334  7.6339426]\n",
                        "['Concept 0 len: 80', 'Concept 1 len: 146', 'Concept 2 len: 122', 'Concept 3 len: 83']\n"
                    ]
                },
                {
                    "name": "stderr",
                    "output_type": "stream",
                    "text": [
                        "100%|██████████| 40/40 [2:05:51<00:00, 188.80s/it, Score=0.92628, acc=0.864, f1=0.868, auc=0.926]  \n"
                    ]
                },
                {
                    "name": "stdout",
                    "output_type": "stream",
                    "text": [
                        "3\n",
                        "Found 4 Concepts\n",
                        "90th percentile per concept [ 0.689293  7.083639 10.341766  1.816546]\n",
                        "['Concept 0 len: 297', 'Concept 1 len: 62', 'Concept 2 len: 108', 'Concept 3 len: 140']\n"
                    ]
                },
                {
                    "name": "stderr",
                    "output_type": "stream",
                    "text": [
                        " 22%|██▎       | 9/40 [41:32<2:22:29, 275.80s/it, Score=0.92239, acc=0.857, f1=0.864, auc=0.922]"
                    ]
                }
            ],
            "source": [
                "auroc_metric = AUROC(task=\"binary\").to(device)\n",
                "accuracy_metric = Accuracy(task=\"binary\").to(device)\n",
                "f1_metric = F1Score(task=\"binary\").to(device)\n",
                "\n",
                "track_metrics={\"acc\": accuracy_metric,\n",
                "               \"f1\": f1_metric,\n",
                "               \"auc\": auroc_metric,\n",
                "               }\n",
                "\n",
                "models = [get_model(seed) for seed in range(1,4)]\n",
                "\n",
                "results = []\n",
                "for seed, model in enumerate(models, 1):\n",
                "    print(\"seed\", seed)\n",
                "    top_k_inds = get_top_features_per_concept(model.bottleneck)\n",
                "    \n",
                "    greedy_results = greedy_forward_selection(model=model, layers_to_prune=[model.bottleneck], top_k_inds=[top_k_inds], val_loader=val_loader, optimize_metric=auroc_metric, device=device, track_metrics=track_metrics)\n",
                "    greedy_results['Merged'] = greedy_results['Layer'].astype(str) + '_' + greedy_results['Concept'].astype(str) + '_' + greedy_results['Feature'].astype(str)\n",
                "    results.append(greedy_results)\n",
                "    \n",
                "    top_k_csv_file = experiment_folder + \"top-k/bottleneck_topkinds_seed_{seed}.csv\".format(seed=seed)\n",
                "\n",
                "    write_df_2_csv(top_k_csv_file, greedy_results)\n"
            ]
        },
        {
            "cell_type": "code",
            "execution_count": null,
            "metadata": {},
            "outputs": [],
            "source": [
                "res = read_df_from_csv(\"/workdir/optimal-summaries-public/_models/vasopressor/original_new/top-k/bottleneck_topkinds_1.csv\")\n",
                "\n",
                "results.insert(0, res)\n",
                "len(results)\n"
            ]
        },
        {
            "cell_type": "code",
            "execution_count": 16,
            "metadata": {},
            "outputs": [
                {
                    "data": {
                        "text/html": [
                            "<div>\n",
                            "<style scoped>\n",
                            "    .dataframe tbody tr th:only-of-type {\n",
                            "        vertical-align: middle;\n",
                            "    }\n",
                            "\n",
                            "    .dataframe tbody tr th {\n",
                            "        vertical-align: top;\n",
                            "    }\n",
                            "\n",
                            "    .dataframe thead th {\n",
                            "        text-align: right;\n",
                            "    }\n",
                            "</style>\n",
                            "<table border=\"1\" class=\"dataframe\">\n",
                            "  <thead>\n",
                            "    <tr style=\"text-align: right;\">\n",
                            "      <th></th>\n",
                            "      <th>Score</th>\n",
                            "      <th>Layer</th>\n",
                            "      <th>Concept</th>\n",
                            "      <th>Feature</th>\n",
                            "      <th>acc</th>\n",
                            "      <th>f1</th>\n",
                            "      <th>auc</th>\n",
                            "      <th>Merged</th>\n",
                            "    </tr>\n",
                            "  </thead>\n",
                            "  <tbody>\n",
                            "    <tr>\n",
                            "      <th>0</th>\n",
                            "      <td>0.903700</td>\n",
                            "      <td>0</td>\n",
                            "      <td>2</td>\n",
                            "      <td>537</td>\n",
                            "      <td>0.777368</td>\n",
                            "      <td>0.808558</td>\n",
                            "      <td>0.903700</td>\n",
                            "      <td>0_2_537</td>\n",
                            "    </tr>\n",
                            "    <tr>\n",
                            "      <th>1</th>\n",
                            "      <td>0.912953</td>\n",
                            "      <td>0</td>\n",
                            "      <td>2</td>\n",
                            "      <td>626</td>\n",
                            "      <td>0.815975</td>\n",
                            "      <td>0.834682</td>\n",
                            "      <td>0.912953</td>\n",
                            "      <td>0_2_626</td>\n",
                            "    </tr>\n",
                            "    <tr>\n",
                            "      <th>2</th>\n",
                            "      <td>0.914918</td>\n",
                            "      <td>0</td>\n",
                            "      <td>2</td>\n",
                            "      <td>76</td>\n",
                            "      <td>0.817090</td>\n",
                            "      <td>0.835671</td>\n",
                            "      <td>0.914918</td>\n",
                            "      <td>0_2_76</td>\n",
                            "    </tr>\n",
                            "    <tr>\n",
                            "      <th>3</th>\n",
                            "      <td>0.916148</td>\n",
                            "      <td>0</td>\n",
                            "      <td>1</td>\n",
                            "      <td>265</td>\n",
                            "      <td>0.852351</td>\n",
                            "      <td>0.860024</td>\n",
                            "      <td>0.916148</td>\n",
                            "      <td>0_1_265</td>\n",
                            "    </tr>\n",
                            "    <tr>\n",
                            "      <th>4</th>\n",
                            "      <td>0.916843</td>\n",
                            "      <td>0</td>\n",
                            "      <td>0</td>\n",
                            "      <td>362</td>\n",
                            "      <td>0.851235</td>\n",
                            "      <td>0.859459</td>\n",
                            "      <td>0.916843</td>\n",
                            "      <td>0_0_362</td>\n",
                            "    </tr>\n",
                            "    <tr>\n",
                            "      <th>5</th>\n",
                            "      <td>0.917527</td>\n",
                            "      <td>0</td>\n",
                            "      <td>2</td>\n",
                            "      <td>612</td>\n",
                            "      <td>0.860072</td>\n",
                            "      <td>0.864816</td>\n",
                            "      <td>0.917527</td>\n",
                            "      <td>0_2_612</td>\n",
                            "    </tr>\n",
                            "    <tr>\n",
                            "      <th>6</th>\n",
                            "      <td>0.918248</td>\n",
                            "      <td>0</td>\n",
                            "      <td>0</td>\n",
                            "      <td>376</td>\n",
                            "      <td>0.854839</td>\n",
                            "      <td>0.861832</td>\n",
                            "      <td>0.918248</td>\n",
                            "      <td>0_0_376</td>\n",
                            "    </tr>\n",
                            "    <tr>\n",
                            "      <th>7</th>\n",
                            "      <td>0.919124</td>\n",
                            "      <td>0</td>\n",
                            "      <td>1</td>\n",
                            "      <td>123</td>\n",
                            "      <td>0.852522</td>\n",
                            "      <td>0.859845</td>\n",
                            "      <td>0.919124</td>\n",
                            "      <td>0_1_123</td>\n",
                            "    </tr>\n",
                            "    <tr>\n",
                            "      <th>8</th>\n",
                            "      <td>0.919763</td>\n",
                            "      <td>0</td>\n",
                            "      <td>2</td>\n",
                            "      <td>557</td>\n",
                            "      <td>0.850721</td>\n",
                            "      <td>0.858283</td>\n",
                            "      <td>0.919763</td>\n",
                            "      <td>0_2_557</td>\n",
                            "    </tr>\n",
                            "    <tr>\n",
                            "      <th>9</th>\n",
                            "      <td>0.920141</td>\n",
                            "      <td>0</td>\n",
                            "      <td>2</td>\n",
                            "      <td>165</td>\n",
                            "      <td>0.848576</td>\n",
                            "      <td>0.856958</td>\n",
                            "      <td>0.920141</td>\n",
                            "      <td>0_2_165</td>\n",
                            "    </tr>\n",
                            "    <tr>\n",
                            "      <th>10</th>\n",
                            "      <td>0.920489</td>\n",
                            "      <td>0</td>\n",
                            "      <td>2</td>\n",
                            "      <td>642</td>\n",
                            "      <td>0.854410</td>\n",
                            "      <td>0.861095</td>\n",
                            "      <td>0.920489</td>\n",
                            "      <td>0_2_642</td>\n",
                            "    </tr>\n",
                            "    <tr>\n",
                            "      <th>11</th>\n",
                            "      <td>0.921006</td>\n",
                            "      <td>0</td>\n",
                            "      <td>2</td>\n",
                            "      <td>528</td>\n",
                            "      <td>0.851750</td>\n",
                            "      <td>0.859604</td>\n",
                            "      <td>0.921006</td>\n",
                            "      <td>0_2_528</td>\n",
                            "    </tr>\n",
                            "    <tr>\n",
                            "      <th>12</th>\n",
                            "      <td>0.921296</td>\n",
                            "      <td>0</td>\n",
                            "      <td>3</td>\n",
                            "      <td>147</td>\n",
                            "      <td>0.851579</td>\n",
                            "      <td>0.859715</td>\n",
                            "      <td>0.921296</td>\n",
                            "      <td>0_3_147</td>\n",
                            "    </tr>\n",
                            "    <tr>\n",
                            "      <th>13</th>\n",
                            "      <td>0.921520</td>\n",
                            "      <td>0</td>\n",
                            "      <td>3</td>\n",
                            "      <td>85</td>\n",
                            "      <td>0.851150</td>\n",
                            "      <td>0.859321</td>\n",
                            "      <td>0.921520</td>\n",
                            "      <td>0_3_85</td>\n",
                            "    </tr>\n",
                            "    <tr>\n",
                            "      <th>14</th>\n",
                            "      <td>0.921706</td>\n",
                            "      <td>0</td>\n",
                            "      <td>1</td>\n",
                            "      <td>62</td>\n",
                            "      <td>0.850549</td>\n",
                            "      <td>0.859061</td>\n",
                            "      <td>0.921706</td>\n",
                            "      <td>0_1_62</td>\n",
                            "    </tr>\n",
                            "    <tr>\n",
                            "      <th>15</th>\n",
                            "      <td>0.921916</td>\n",
                            "      <td>0</td>\n",
                            "      <td>1</td>\n",
                            "      <td>226</td>\n",
                            "      <td>0.863161</td>\n",
                            "      <td>0.867338</td>\n",
                            "      <td>0.921916</td>\n",
                            "      <td>0_1_226</td>\n",
                            "    </tr>\n",
                            "    <tr>\n",
                            "      <th>16</th>\n",
                            "      <td>0.922285</td>\n",
                            "      <td>0</td>\n",
                            "      <td>2</td>\n",
                            "      <td>172</td>\n",
                            "      <td>0.861359</td>\n",
                            "      <td>0.866446</td>\n",
                            "      <td>0.922285</td>\n",
                            "      <td>0_2_172</td>\n",
                            "    </tr>\n",
                            "    <tr>\n",
                            "      <th>17</th>\n",
                            "      <td>0.922462</td>\n",
                            "      <td>0</td>\n",
                            "      <td>2</td>\n",
                            "      <td>371</td>\n",
                            "      <td>0.856898</td>\n",
                            "      <td>0.864014</td>\n",
                            "      <td>0.922462</td>\n",
                            "      <td>0_2_371</td>\n",
                            "    </tr>\n",
                            "    <tr>\n",
                            "      <th>18</th>\n",
                            "      <td>0.922731</td>\n",
                            "      <td>0</td>\n",
                            "      <td>2</td>\n",
                            "      <td>156</td>\n",
                            "      <td>0.857756</td>\n",
                            "      <td>0.864830</td>\n",
                            "      <td>0.922731</td>\n",
                            "      <td>0_2_156</td>\n",
                            "    </tr>\n",
                            "    <tr>\n",
                            "      <th>19</th>\n",
                            "      <td>0.923123</td>\n",
                            "      <td>0</td>\n",
                            "      <td>1</td>\n",
                            "      <td>132</td>\n",
                            "      <td>0.852522</td>\n",
                            "      <td>0.861024</td>\n",
                            "      <td>0.923123</td>\n",
                            "      <td>0_1_132</td>\n",
                            "    </tr>\n",
                            "    <tr>\n",
                            "      <th>20</th>\n",
                            "      <td>0.923425</td>\n",
                            "      <td>0</td>\n",
                            "      <td>2</td>\n",
                            "      <td>42</td>\n",
                            "      <td>0.849949</td>\n",
                            "      <td>0.858963</td>\n",
                            "      <td>0.923425</td>\n",
                            "      <td>0_2_42</td>\n",
                            "    </tr>\n",
                            "    <tr>\n",
                            "      <th>21</th>\n",
                            "      <td>0.923702</td>\n",
                            "      <td>0</td>\n",
                            "      <td>2</td>\n",
                            "      <td>645</td>\n",
                            "      <td>0.849434</td>\n",
                            "      <td>0.859183</td>\n",
                            "      <td>0.923702</td>\n",
                            "      <td>0_2_645</td>\n",
                            "    </tr>\n",
                            "    <tr>\n",
                            "      <th>22</th>\n",
                            "      <td>0.923849</td>\n",
                            "      <td>0</td>\n",
                            "      <td>1</td>\n",
                            "      <td>88</td>\n",
                            "      <td>0.849091</td>\n",
                            "      <td>0.858998</td>\n",
                            "      <td>0.923849</td>\n",
                            "      <td>0_1_88</td>\n",
                            "    </tr>\n",
                            "    <tr>\n",
                            "      <th>23</th>\n",
                            "      <td>0.923994</td>\n",
                            "      <td>0</td>\n",
                            "      <td>2</td>\n",
                            "      <td>74</td>\n",
                            "      <td>0.848233</td>\n",
                            "      <td>0.858378</td>\n",
                            "      <td>0.923994</td>\n",
                            "      <td>0_2_74</td>\n",
                            "    </tr>\n",
                            "    <tr>\n",
                            "      <th>24</th>\n",
                            "      <td>0.924108</td>\n",
                            "      <td>0</td>\n",
                            "      <td>2</td>\n",
                            "      <td>114</td>\n",
                            "      <td>0.850292</td>\n",
                            "      <td>0.859806</td>\n",
                            "      <td>0.924108</td>\n",
                            "      <td>0_2_114</td>\n",
                            "    </tr>\n",
                            "    <tr>\n",
                            "      <th>25</th>\n",
                            "      <td>0.924239</td>\n",
                            "      <td>0</td>\n",
                            "      <td>2</td>\n",
                            "      <td>284</td>\n",
                            "      <td>0.852351</td>\n",
                            "      <td>0.861310</td>\n",
                            "      <td>0.924239</td>\n",
                            "      <td>0_2_284</td>\n",
                            "    </tr>\n",
                            "    <tr>\n",
                            "      <th>26</th>\n",
                            "      <td>0.924359</td>\n",
                            "      <td>0</td>\n",
                            "      <td>3</td>\n",
                            "      <td>10</td>\n",
                            "      <td>0.852179</td>\n",
                            "      <td>0.861149</td>\n",
                            "      <td>0.924359</td>\n",
                            "      <td>0_3_10</td>\n",
                            "    </tr>\n",
                            "    <tr>\n",
                            "      <th>27</th>\n",
                            "      <td>0.924495</td>\n",
                            "      <td>0</td>\n",
                            "      <td>2</td>\n",
                            "      <td>655</td>\n",
                            "      <td>0.855525</td>\n",
                            "      <td>0.863577</td>\n",
                            "      <td>0.924495</td>\n",
                            "      <td>0_2_655</td>\n",
                            "    </tr>\n",
                            "    <tr>\n",
                            "      <th>28</th>\n",
                            "      <td>0.924610</td>\n",
                            "      <td>0</td>\n",
                            "      <td>0</td>\n",
                            "      <td>385</td>\n",
                            "      <td>0.856211</td>\n",
                            "      <td>0.864093</td>\n",
                            "      <td>0.924610</td>\n",
                            "      <td>0_0_385</td>\n",
                            "    </tr>\n",
                            "    <tr>\n",
                            "      <th>29</th>\n",
                            "      <td>0.924707</td>\n",
                            "      <td>0</td>\n",
                            "      <td>1</td>\n",
                            "      <td>12</td>\n",
                            "      <td>0.855010</td>\n",
                            "      <td>0.863180</td>\n",
                            "      <td>0.924707</td>\n",
                            "      <td>0_1_12</td>\n",
                            "    </tr>\n",
                            "    <tr>\n",
                            "      <th>30</th>\n",
                            "      <td>0.924749</td>\n",
                            "      <td>0</td>\n",
                            "      <td>3</td>\n",
                            "      <td>139</td>\n",
                            "      <td>0.855182</td>\n",
                            "      <td>0.863342</td>\n",
                            "      <td>0.924749</td>\n",
                            "      <td>0_3_139</td>\n",
                            "    </tr>\n",
                            "    <tr>\n",
                            "      <th>31</th>\n",
                            "      <td>0.924778</td>\n",
                            "      <td>0</td>\n",
                            "      <td>0</td>\n",
                            "      <td>363</td>\n",
                            "      <td>0.855010</td>\n",
                            "      <td>0.863202</td>\n",
                            "      <td>0.924778</td>\n",
                            "      <td>0_0_363</td>\n",
                            "    </tr>\n",
                            "    <tr>\n",
                            "      <th>32</th>\n",
                            "      <td>0.924805</td>\n",
                            "      <td>0</td>\n",
                            "      <td>0</td>\n",
                            "      <td>15</td>\n",
                            "      <td>0.854839</td>\n",
                            "      <td>0.863018</td>\n",
                            "      <td>0.924805</td>\n",
                            "      <td>0_0_15</td>\n",
                            "    </tr>\n",
                            "    <tr>\n",
                            "      <th>33</th>\n",
                            "      <td>0.924828</td>\n",
                            "      <td>0</td>\n",
                            "      <td>3</td>\n",
                            "      <td>89</td>\n",
                            "      <td>0.854667</td>\n",
                            "      <td>0.862945</td>\n",
                            "      <td>0.924828</td>\n",
                            "      <td>0_3_89</td>\n",
                            "    </tr>\n",
                            "    <tr>\n",
                            "      <th>34</th>\n",
                            "      <td>0.924856</td>\n",
                            "      <td>0</td>\n",
                            "      <td>2</td>\n",
                            "      <td>289</td>\n",
                            "      <td>0.853209</td>\n",
                            "      <td>0.862094</td>\n",
                            "      <td>0.924856</td>\n",
                            "      <td>0_2_289</td>\n",
                            "    </tr>\n",
                            "    <tr>\n",
                            "      <th>35</th>\n",
                            "      <td>0.924876</td>\n",
                            "      <td>0</td>\n",
                            "      <td>3</td>\n",
                            "      <td>326</td>\n",
                            "      <td>0.853209</td>\n",
                            "      <td>0.862116</td>\n",
                            "      <td>0.924876</td>\n",
                            "      <td>0_3_326</td>\n",
                            "    </tr>\n",
                            "    <tr>\n",
                            "      <th>36</th>\n",
                            "      <td>0.924895</td>\n",
                            "      <td>0</td>\n",
                            "      <td>0</td>\n",
                            "      <td>361</td>\n",
                            "      <td>0.852865</td>\n",
                            "      <td>0.861861</td>\n",
                            "      <td>0.924895</td>\n",
                            "      <td>0_0_361</td>\n",
                            "    </tr>\n",
                            "    <tr>\n",
                            "      <th>37</th>\n",
                            "      <td>0.924913</td>\n",
                            "      <td>0</td>\n",
                            "      <td>0</td>\n",
                            "      <td>383</td>\n",
                            "      <td>0.852780</td>\n",
                            "      <td>0.861813</td>\n",
                            "      <td>0.924913</td>\n",
                            "      <td>0_0_383</td>\n",
                            "    </tr>\n",
                            "    <tr>\n",
                            "      <th>38</th>\n",
                            "      <td>0.924935</td>\n",
                            "      <td>0</td>\n",
                            "      <td>3</td>\n",
                            "      <td>151</td>\n",
                            "      <td>0.852865</td>\n",
                            "      <td>0.861950</td>\n",
                            "      <td>0.924935</td>\n",
                            "      <td>0_3_151</td>\n",
                            "    </tr>\n",
                            "    <tr>\n",
                            "      <th>39</th>\n",
                            "      <td>0.924956</td>\n",
                            "      <td>0</td>\n",
                            "      <td>2</td>\n",
                            "      <td>18</td>\n",
                            "      <td>0.851407</td>\n",
                            "      <td>0.861151</td>\n",
                            "      <td>0.924956</td>\n",
                            "      <td>0_2_18</td>\n",
                            "    </tr>\n",
                            "  </tbody>\n",
                            "</table>\n",
                            "</div>"
                        ],
                        "text/plain": [
                            "       Score  Layer  Concept  Feature       acc        f1       auc   Merged\n",
                            "0   0.903700      0        2      537  0.777368  0.808558  0.903700  0_2_537\n",
                            "1   0.912953      0        2      626  0.815975  0.834682  0.912953  0_2_626\n",
                            "2   0.914918      0        2       76  0.817090  0.835671  0.914918   0_2_76\n",
                            "3   0.916148      0        1      265  0.852351  0.860024  0.916148  0_1_265\n",
                            "4   0.916843      0        0      362  0.851235  0.859459  0.916843  0_0_362\n",
                            "5   0.917527      0        2      612  0.860072  0.864816  0.917527  0_2_612\n",
                            "6   0.918248      0        0      376  0.854839  0.861832  0.918248  0_0_376\n",
                            "7   0.919124      0        1      123  0.852522  0.859845  0.919124  0_1_123\n",
                            "8   0.919763      0        2      557  0.850721  0.858283  0.919763  0_2_557\n",
                            "9   0.920141      0        2      165  0.848576  0.856958  0.920141  0_2_165\n",
                            "10  0.920489      0        2      642  0.854410  0.861095  0.920489  0_2_642\n",
                            "11  0.921006      0        2      528  0.851750  0.859604  0.921006  0_2_528\n",
                            "12  0.921296      0        3      147  0.851579  0.859715  0.921296  0_3_147\n",
                            "13  0.921520      0        3       85  0.851150  0.859321  0.921520   0_3_85\n",
                            "14  0.921706      0        1       62  0.850549  0.859061  0.921706   0_1_62\n",
                            "15  0.921916      0        1      226  0.863161  0.867338  0.921916  0_1_226\n",
                            "16  0.922285      0        2      172  0.861359  0.866446  0.922285  0_2_172\n",
                            "17  0.922462      0        2      371  0.856898  0.864014  0.922462  0_2_371\n",
                            "18  0.922731      0        2      156  0.857756  0.864830  0.922731  0_2_156\n",
                            "19  0.923123      0        1      132  0.852522  0.861024  0.923123  0_1_132\n",
                            "20  0.923425      0        2       42  0.849949  0.858963  0.923425   0_2_42\n",
                            "21  0.923702      0        2      645  0.849434  0.859183  0.923702  0_2_645\n",
                            "22  0.923849      0        1       88  0.849091  0.858998  0.923849   0_1_88\n",
                            "23  0.923994      0        2       74  0.848233  0.858378  0.923994   0_2_74\n",
                            "24  0.924108      0        2      114  0.850292  0.859806  0.924108  0_2_114\n",
                            "25  0.924239      0        2      284  0.852351  0.861310  0.924239  0_2_284\n",
                            "26  0.924359      0        3       10  0.852179  0.861149  0.924359   0_3_10\n",
                            "27  0.924495      0        2      655  0.855525  0.863577  0.924495  0_2_655\n",
                            "28  0.924610      0        0      385  0.856211  0.864093  0.924610  0_0_385\n",
                            "29  0.924707      0        1       12  0.855010  0.863180  0.924707   0_1_12\n",
                            "30  0.924749      0        3      139  0.855182  0.863342  0.924749  0_3_139\n",
                            "31  0.924778      0        0      363  0.855010  0.863202  0.924778  0_0_363\n",
                            "32  0.924805      0        0       15  0.854839  0.863018  0.924805   0_0_15\n",
                            "33  0.924828      0        3       89  0.854667  0.862945  0.924828   0_3_89\n",
                            "34  0.924856      0        2      289  0.853209  0.862094  0.924856  0_2_289\n",
                            "35  0.924876      0        3      326  0.853209  0.862116  0.924876  0_3_326\n",
                            "36  0.924895      0        0      361  0.852865  0.861861  0.924895  0_0_361\n",
                            "37  0.924913      0        0      383  0.852780  0.861813  0.924913  0_0_383\n",
                            "38  0.924935      0        3      151  0.852865  0.861950  0.924935  0_3_151\n",
                            "39  0.924956      0        2       18  0.851407  0.861151  0.924956   0_2_18"
                        ]
                    },
                    "execution_count": 16,
                    "metadata": {},
                    "output_type": "execute_result"
                }
            ],
            "source": [
                "pd.set_option('display.max_rows', 100)\n",
                "greedy_results"
            ]
        },
        {
            "cell_type": "code",
            "execution_count": 14,
            "metadata": {},
            "outputs": [],
            "source": [
                "top_k_csv_file = experiment_folder + \"top-k/bottleneck_topkinds.csv\" #_r{}_c{}   .format(random_seed, n_concepts)\n",
                "\n",
                "write_df_2_csv(top_k_csv_file, greedy_results)\n"
            ]
        },
        {
            "cell_type": "code",
            "execution_count": 21,
            "metadata": {},
            "outputs": [
                {
                    "data": {
                        "text/plain": [
                            "3"
                        ]
                    },
                    "execution_count": 21,
                    "metadata": {},
                    "output_type": "execute_result"
                }
            ],
            "source": [
                "len(results)"
            ]
        },
        {
            "cell_type": "code",
            "execution_count": 52,
            "metadata": {},
            "outputs": [],
            "source": [
                "\n",
                "def plot_selected_weights(weight, greedy_results):\n",
                "    abs_weight = weight.detach().cpu().numpy()\n",
                "    abs_weight = np.abs(abs_weight)\n",
                "    \n",
                "    n_concepts = abs_weight.shape[0]\n",
                "    max_y = np.max(abs_weight)\n",
                "    \n",
                "    fig, axs = plt.subplots(n_concepts, figsize=(8, 2 * n_concepts))\n",
                "    \n",
                "    for c in range(n_concepts):\n",
                "        ax = axs[c]\n",
                "        \n",
                "        inds = np.argsort(-abs_weight[c])[:100]\n",
                "        \n",
                "        selected_features = greedy_results[greedy_results[\"Concept\"] == c][\"Feature\"].to_list()\n",
                "        colors = ['red' if i in selected_features else 'gray' for i in inds]\n",
                "        ax.bar(np.arange(1, 101), abs_weight[c][inds], color=colors)\n",
                "        \n",
                "        ax.set_title(f\"Concept {c + 1}\")\n",
                "        # ax.set_xlabel(\"Top 100 features\")\n",
                "        # ax.set_ylabel(\"abs value of feature coefficient\")\n",
                "        ax.set_ylim(0, max_y)\n",
                "        ax.set_yscale('log')\n",
                "        \n",
                "        ax.legend(['Selected', 'Not Selected'])\n",
                "    \n",
                "    plt.xlabel(\"Top 100 features\")\n",
                "    plt.ylabel(\"abs value of feature coefficient\")\n",
                "    plt.tight_layout()\n",
                "    plt.show()\n",
                "\n"
            ]
        },
        {
            "cell_type": "code",
            "execution_count": 93,
            "metadata": {},
            "outputs": [
                {
                    "name": "stdout",
                    "output_type": "stream",
                    "text": [
                        "torch.Size([4, 656, 3])\n"
                    ]
                },
                {
                    "data": {
                        "image/png": "[encoded data removed]",
                        "text/plain": [
                            "<Figure size 1200x400 with 2 Axes>"
                        ]
                    },
                    "metadata": {},
                    "output_type": "display_data"
                },
                {
                    "data": {
                        "image/png": "[encoded data removed]",
                        "text/plain": [
                            "<Figure size 1200x400 with 2 Axes>"
                        ]
                    },
                    "metadata": {},
                    "output_type": "display_data"
                },
                {
                    "data": {
                        "text/plain": [
                            "1.0"
                        ]
                    },
                    "execution_count": 93,
                    "metadata": {},
                    "output_type": "execute_result"
                }
            ],
            "source": [
                "mask = torch.zeros(model.bottleneck.weight.size(), dtype=torch.float)\n",
                "\n",
                "for c, f in zip(results[0][\"Concept\"], results[0][\"Feature\"]):\n",
                "    mask[c,f] = 1\n",
                "\n",
                "weight = torch.abs(model.bottleneck.weight.detach().cpu())\n",
                "weight = weight / torch.max(weight)\n",
                "\n",
                "test = torch.stack([weight, mask, mask], dim=-1)\n",
                "print(test.shape)\n",
                "\n",
                "for df in results:\n",
                "    plt.figure(figsize=(12, 4))\n",
                "    plt.imshow(weight, cmap='hot', interpolation='nearest', aspect='auto')\n",
                "    plt.colorbar()\n",
                "    plt.show()\n",
                "    \n",
                "    plt.figure(figsize=(12, 4))\n",
                "    plt.imshow(test, cmap='hot', interpolation='nearest', aspect='auto')\n",
                "    plt.colorbar()\n",
                "    plt.show()\n",
                "    \n",
                "    break\n",
                "    \n",
                "selected_feats = [df[\"Merged\"].to_list() for df in results]\n",
                "jaccard_similarity(*selected_feats)\n"
            ]
        },
        {
            "cell_type": "code",
            "execution_count": null,
            "metadata": {},
            "outputs": [],
            "source": [
                "sorted_ = greedy_results.sort_values([\"Concept\", \"ID\"])\n",
                "\n",
                "for row in sorted_.itertuples(index=False):\n",
                "    name, summary = getConcept(flattened_data_cols, input_dim, changing_dim, row[1])\n",
                "    print(f\"Concept {row[2]}: ID {row[1]}, Feature {name}, Summary {summary}\")"
            ]
        },
        {
            "cell_type": "code",
            "execution_count": null,
            "metadata": {},
            "outputs": [],
            "source": [
                "plt.plot(greedy_results[\"Score\"], label = f\"AUC {greedy_results['Score'].values[-1]:.3f}\")\n",
                "plt.plot(greedy_results[\"acc\"], label = f\"ACC {greedy_results['acc'].values[-1]:.3f}\")\n",
                "\n",
                "plt.xlabel('Num Concepts')\n",
                "plt.ylabel('Criteria')\n",
                "plt.title('Plot of Concepts vs Criteria')\n",
                "\n",
                "plt.legend()\n",
                "plt.show()\n"
            ]
        },
        {
            "cell_type": "code",
            "execution_count": null,
            "metadata": {},
            "outputs": [],
            "source": [
                "top_k_csv_file = \"/workdir/optimal-summaries-public/_models/arabic/multiclass/top-k/bottleneck_r1_c6_topkinds.csv\"\n",
                "n_concepts = 6\n",
                "model = initializeModel(n_concepts, input_dim, changing_dim, seq_len, num_classes, top_k=top_k_csv_file)\n",
                "# model.fit(train_loader, val_loader, weights, model_path.format(n_concepts), 1000)\n",
                "\n",
                "model.eval()\n",
                "with torch.no_grad():\n",
                "    for batch_idx, (Xb, yb) in enumerate(test_loader):\n",
                "        Xb, yb = Xb.to(device), yb.to(device)\n",
                "        probs = model(Xb)\n",
                "        \n",
                "        auc = auroc_metric(probs, yb).item()\n",
                "        acc = accuracy_metric(probs, yb).item()\n",
                "    auc = auroc_metric.compute().item()\n",
                "    acc = accuracy_metric.compute().item()\n",
                "    auroc_metric.reset()\n",
                "    accuracy_metric.reset()\n",
                "\n",
                "print(auc)\n",
                "print(acc)\n"
            ]
        },
        {
            "cell_type": "code",
            "execution_count": null,
            "metadata": {},
            "outputs": [],
            "source": [
                "model.fit(train_loader, val_loader, class_weights, save_model_path=\"/workdir/optimal-summaries-public/_models/arabic/multiclass/top-k/arabic_c6_finetuned.pt\", max_epochs=3000, patience=100)\n",
                "\n",
                "model.eval()\n",
                "with torch.no_grad():\n",
                "    for batch_idx, (Xb, yb) in enumerate(test_loader):\n",
                "        Xb, yb = Xb.to(device), yb.to(device)\n",
                "        probs = model(Xb)\n",
                "        \n",
                "        auc = auroc_metric(probs, yb)\n",
                "        acc = accuracy_metric(probs, yb)\n",
                "    auc = auroc_metric.compute().item()\n",
                "    acc = accuracy_metric.compute().item()\n",
                "    auroc_metric.reset()\n",
                "    accuracy_metric.reset()\n",
                "    \n",
                "print(auc)\n",
                "print(acc)\n"
            ]
        },
        {
            "cell_type": "code",
            "execution_count": null,
            "metadata": {},
            "outputs": [],
            "source": [
                "\n",
                "plt.plot(model.val_losses)\n",
                "plt.show()"
            ]
        },
        {
            "cell_type": "markdown",
            "metadata": {},
            "source": [
                "## Optimization Atomics"
            ]
        },
        {
            "cell_type": "code",
            "execution_count": 30,
            "metadata": {},
            "outputs": [
                {
                    "name": "stderr",
                    "output_type": "stream",
                    "text": [
                        "/usr/local/lib/python3.10/dist-packages/torch/nn/modules/lazy.py:180: UserWarning: Lazy modules are a new feature under heavy development so changes to the API or functionality can happen at any moment.\n",
                        "  warnings.warn('Lazy modules are a new feature under heavy development '\n"
                    ]
                },
                {
                    "name": "stdout",
                    "output_type": "stream",
                    "text": [
                        "Loaded model from /workdir/optimal-summaries-public/_models/vasopressor/atomics/n_atomics_10_n_concepts_4_use_indicators_True_use_fixes_False_use_summaries_for_atomics_True_seed_1.pt\n",
                        "AUC macro 0.9138913750648499\n",
                        "ACC macro 0.8373948931694031\n",
                        " F1 macro 0.8451417684555054\n"
                    ]
                },
                {
                    "data": {
                        "text/plain": [
                            "(0.9138913750648499, 0.8373948931694031, 0.8451417684555054)"
                        ]
                    },
                    "execution_count": 30,
                    "metadata": {},
                    "output_type": "execute_result"
                }
            ],
            "source": [
                "# feature weights\n",
                "config_atomics = {\n",
                "    \"n_atomics\": 10, # 30\n",
                "    \"n_concepts\": 4, # 20\n",
                "    \"use_indicators\": True,\n",
                "    \"use_fixes\": False,\n",
                "    \"use_summaries_for_atomics\": True,\n",
                "}\n",
                "\n",
                "experiment_folder = \"/workdir/optimal-summaries-public/_models/vasopressor/atomics/\"\n",
                "model_path = experiment_folder + \"\".join([f\"{key}_{{{key}}}_\" for key in config_atomics.keys()]) + \"seed_{seed}.pt\"\n",
                "\n",
                "train_loader, val_loader, test_loader, class_weights, num_classes, changing_vars, static_names, seq_len = load_and_create_MIMIC_dataloader(output_dim = 2, batch_size = 512, random_state = random_seed)\n",
                "\n",
                "top_k = \"\" # \"/workdir/optimal-summaries-public/_models/vasopressor/atomics/top-k/bottleneck_topkinds.csv\"\n",
                "\n",
                "model = initializeModel_with_atomics(**config_atomics, static_dim=static_dim, changing_dim=changing_dim, seq_len=seq_len, output_dim=2, top_k=top_k)\n",
                "model.fit(train_loader, val_loader, p_weight=class_weights.to(device), save_model_path=model_path.format(**config_atomics, seed = random_seed), max_epochs=10000)\n",
                "\n",
                "evaluate_classification(model, test_loader, num_classes=num_classes, device=device)\n"
            ]
        },
        {
            "cell_type": "code",
            "execution_count": 31,
            "metadata": {},
            "outputs": [
                {
                    "name": "stdout",
                    "output_type": "stream",
                    "text": [
                        "Found 10 Concepts\n",
                        "90th percentile per concept [1.9826249  0.1081477  0.10917709 0.44232118 0.13265206 5.006396\n",
                        " 0.17234357 0.14049262 0.12204652 0.1460006 ]\n",
                        "['Concept 0 len: 10', 'Concept 1 len: 10', 'Concept 2 len: 10', 'Concept 3 len: 10', 'Concept 4 len: 10', 'Concept 5 len: 10', 'Concept 6 len: 10', 'Concept 7 len: 10', 'Concept 8 len: 10', 'Concept 9 len: 10']\n",
                        "Found 4 Concepts\n",
                        "90th percentile per concept [9.952095   0.24607448 0.19076073 0.23709571]\n",
                        "['Concept 0 len: 28', 'Concept 1 len: 158', 'Concept 2 len: 125', 'Concept 3 len: 133']\n"
                    ]
                },
                {
                    "data": {
                        "text/plain": [
                            "Parameter containing:\n",
                            "tensor([[ 7.9294, -1.0635, -0.8614, -0.5422],\n",
                            "        [-7.9000,  1.2537,  0.7862,  1.1397]], device='cuda:9',\n",
                            "       requires_grad=True)"
                        ]
                    },
                    "execution_count": 31,
                    "metadata": {},
                    "output_type": "execute_result"
                }
            ],
            "source": [
                "layers = [model.layer_time_to_atomics, model.layer_to_concepts]\n",
                "top_k_inds = [get_top_features_per_concept(layer) for layer in layers]\n",
                "# top_k_inds\n",
                "model.layer_output.weight"
            ]
        },
        {
            "cell_type": "code",
            "execution_count": 32,
            "metadata": {},
            "outputs": [
                {
                    "name": "stderr",
                    "output_type": "stream",
                    "text": [
                        "100%|██████████| 140/140 [12:42:48<00:00, 326.92s/it, Score=0.92425, acc=0.864, f1=0.867]  \n"
                    ]
                },
                {
                    "data": {
                        "text/html": [
                            "<div>\n",
                            "<style scoped>\n",
                            "    .dataframe tbody tr th:only-of-type {\n",
                            "        vertical-align: middle;\n",
                            "    }\n",
                            "\n",
                            "    .dataframe tbody tr th {\n",
                            "        vertical-align: top;\n",
                            "    }\n",
                            "\n",
                            "    .dataframe thead th {\n",
                            "        text-align: right;\n",
                            "    }\n",
                            "</style>\n",
                            "<table border=\"1\" class=\"dataframe\">\n",
                            "  <thead>\n",
                            "    <tr style=\"text-align: right;\">\n",
                            "      <th></th>\n",
                            "      <th>Score</th>\n",
                            "      <th>Layer</th>\n",
                            "      <th>Concept</th>\n",
                            "      <th>Feature</th>\n",
                            "      <th>acc</th>\n",
                            "      <th>f1</th>\n",
                            "    </tr>\n",
                            "  </thead>\n",
                            "  <tbody>\n",
                            "    <tr>\n",
                            "      <th>0</th>\n",
                            "      <td>0.902103</td>\n",
                            "      <td>0</td>\n",
                            "      <td>3</td>\n",
                            "      <td>30</td>\n",
                            "      <td>0.137440</td>\n",
                            "      <td>0.137440</td>\n",
                            "    </tr>\n",
                            "    <tr>\n",
                            "      <th>1</th>\n",
                            "      <td>0.906148</td>\n",
                            "      <td>0</td>\n",
                            "      <td>3</td>\n",
                            "      <td>9</td>\n",
                            "      <td>0.137440</td>\n",
                            "      <td>0.137440</td>\n",
                            "    </tr>\n",
                            "    <tr>\n",
                            "      <th>2</th>\n",
                            "      <td>0.906700</td>\n",
                            "      <td>0</td>\n",
                            "      <td>4</td>\n",
                            "      <td>30</td>\n",
                            "      <td>0.137440</td>\n",
                            "      <td>0.137440</td>\n",
                            "    </tr>\n",
                            "    <tr>\n",
                            "      <th>3</th>\n",
                            "      <td>0.906894</td>\n",
                            "      <td>0</td>\n",
                            "      <td>3</td>\n",
                            "      <td>31</td>\n",
                            "      <td>0.137440</td>\n",
                            "      <td>0.137440</td>\n",
                            "    </tr>\n",
                            "    <tr>\n",
                            "      <th>4</th>\n",
                            "      <td>0.907063</td>\n",
                            "      <td>0</td>\n",
                            "      <td>6</td>\n",
                            "      <td>4</td>\n",
                            "      <td>0.137440</td>\n",
                            "      <td>0.137440</td>\n",
                            "    </tr>\n",
                            "    <tr>\n",
                            "      <th>...</th>\n",
                            "      <td>...</td>\n",
                            "      <td>...</td>\n",
                            "      <td>...</td>\n",
                            "      <td>...</td>\n",
                            "      <td>...</td>\n",
                            "      <td>...</td>\n",
                            "    </tr>\n",
                            "    <tr>\n",
                            "      <th>135</th>\n",
                            "      <td>0.924249</td>\n",
                            "      <td>1</td>\n",
                            "      <td>2</td>\n",
                            "      <td>257</td>\n",
                            "      <td>0.863675</td>\n",
                            "      <td>0.866884</td>\n",
                            "    </tr>\n",
                            "    <tr>\n",
                            "      <th>136</th>\n",
                            "      <td>0.924250</td>\n",
                            "      <td>1</td>\n",
                            "      <td>1</td>\n",
                            "      <td>139</td>\n",
                            "      <td>0.863675</td>\n",
                            "      <td>0.866884</td>\n",
                            "    </tr>\n",
                            "    <tr>\n",
                            "      <th>137</th>\n",
                            "      <td>0.924250</td>\n",
                            "      <td>1</td>\n",
                            "      <td>1</td>\n",
                            "      <td>239</td>\n",
                            "      <td>0.863675</td>\n",
                            "      <td>0.866884</td>\n",
                            "    </tr>\n",
                            "    <tr>\n",
                            "      <th>138</th>\n",
                            "      <td>0.924250</td>\n",
                            "      <td>1</td>\n",
                            "      <td>1</td>\n",
                            "      <td>203</td>\n",
                            "      <td>0.863675</td>\n",
                            "      <td>0.866884</td>\n",
                            "    </tr>\n",
                            "    <tr>\n",
                            "      <th>139</th>\n",
                            "      <td>0.924250</td>\n",
                            "      <td>1</td>\n",
                            "      <td>2</td>\n",
                            "      <td>66</td>\n",
                            "      <td>0.863675</td>\n",
                            "      <td>0.866884</td>\n",
                            "    </tr>\n",
                            "  </tbody>\n",
                            "</table>\n",
                            "<p>140 rows × 6 columns</p>\n",
                            "</div>"
                        ],
                        "text/plain": [
                            "        Score  Layer  Concept  Feature       acc        f1\n",
                            "0    0.902103      0        3       30  0.137440  0.137440\n",
                            "1    0.906148      0        3        9  0.137440  0.137440\n",
                            "2    0.906700      0        4       30  0.137440  0.137440\n",
                            "3    0.906894      0        3       31  0.137440  0.137440\n",
                            "4    0.907063      0        6        4  0.137440  0.137440\n",
                            "..        ...    ...      ...      ...       ...       ...\n",
                            "135  0.924249      1        2      257  0.863675  0.866884\n",
                            "136  0.924250      1        1      139  0.863675  0.866884\n",
                            "137  0.924250      1        1      239  0.863675  0.866884\n",
                            "138  0.924250      1        1      203  0.863675  0.866884\n",
                            "139  0.924250      1        2       66  0.863675  0.866884\n",
                            "\n",
                            "[140 rows x 6 columns]"
                        ]
                    },
                    "execution_count": 32,
                    "metadata": {},
                    "output_type": "execute_result"
                }
            ],
            "source": [
                "track_metrics={\"acc\": accuracy_metric,\n",
                "               \"f1\": f1_metric,\n",
                "               }\n",
                "\n",
                "greedy_results_atomics = greedy_forward_selection(model=model, layers_to_prune=layers, top_k_inds=top_k_inds, val_loader=val_loader, optimize_metric=auroc_metric, device=device, track_metrics=track_metrics)\n",
                "greedy_results_atomics\n"
            ]
        },
        {
            "cell_type": "code",
            "execution_count": 33,
            "metadata": {},
            "outputs": [],
            "source": [
                "top_k_csv_file = experiment_folder + \"top-k/bottleneck_topkinds.csv\" #_r{}_c{}   .format(random_seed, n_concepts)\n",
                "\n",
                "import csv\n",
                "# writing to csv file\n",
                "with open(top_k_csv_file, 'w') as csvfile: \n",
                "    # creating a csv writer object \n",
                "    csvwriter = csv.writer(csvfile)\n",
                "    csvwriter.writerow(greedy_results_atomics.columns)\n",
                "    # writing the data rows \n",
                "    for row in greedy_results_atomics.itertuples(index=False):\n",
                "        csvwriter.writerow(list(row))\n"
            ]
        },
        {
            "cell_type": "code",
            "execution_count": null,
            "metadata": {},
            "outputs": [],
            "source": []
        }
    ],
    "metadata": {
        "kernelspec": {
            "display_name": "base",
            "language": "python",
            "name": "python3"
        },
        "language_info": {
            "codemirror_mode": {
                "name": "ipython",
                "version": 3
            },
            "file_extension": ".py",
            "mimetype": "text/x-python",
            "name": "python",
            "nbconvert_exporter": "python",
            "pygments_lexer": "ipython3",
            "version": "3.10.12"
        }
    },
    "nbformat": 4,
    "nbformat_minor": 2
}
