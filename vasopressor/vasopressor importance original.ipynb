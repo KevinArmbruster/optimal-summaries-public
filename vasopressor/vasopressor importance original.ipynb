{
    "cells": [
        {
            "cell_type": "code",
            "execution_count": 1,
            "metadata": {},
            "outputs": [
                {
                    "name": "stdout",
                    "output_type": "stream",
                    "text": [
                        "current device cuda:15\n"
                    ]
                }
            ],
            "source": [
                "%load_ext autoreload\n",
                "%autoreload 2\n",
                "\n",
                "import sys\n",
                "sys.path.append('..')\n",
                "\n",
                "import numpy as np\n",
                "import pandas as pd\n",
                "import torch\n",
                "import random\n",
                "import csv\n",
                "import matplotlib.pyplot as plt\n",
                "import torch\n",
                "from torch.utils.data import TensorDataset, DataLoader\n",
                "from torch.autograd import Variable\n",
                "from torchmetrics.classification import AUROC, Accuracy, ConfusionMatrix, F1Score\n",
                "import os, subprocess, gc, time, datetime\n",
                "from itertools import product\n",
                "\n",
                "import models.models_original as models_original\n",
                "import models.models_3d_atomics as models_3d_atomics\n",
                "import models.models_3d as models_3d\n",
                "from models.data import *\n",
                "from models.helper import *\n",
                "from models.param_initializations import *\n",
                "from models.optimization_strategy import *\n",
                "\n",
                "device = get_free_gpu()"
            ]
        },
        {
            "cell_type": "code",
            "execution_count": 2,
            "metadata": {},
            "outputs": [
                {
                    "name": "stdout",
                    "output_type": "stream",
                    "text": [
                        "tensor([0.5797, 3.6376], dtype=torch.float64) 2 6\n",
                        "torch.Size([512, 6, 27]) cpu\n",
                        "torch.Size([512, 6, 27]) cpu\n",
                        "torch.Size([512, 8]) cpu\n",
                        "torch.Size([512, 2]) cpu\n"
                    ]
                },
                {
                    "data": {
                        "text/plain": [
                            "35"
                        ]
                    },
                    "execution_count": 2,
                    "metadata": {},
                    "output_type": "execute_result"
                }
            ],
            "source": [
                "train_loader, val_loader, test_loader, class_weights, num_classes, changing_dim, static_dim, seq_len = get_MIMIC_dataloader(output_dim = 2, batch_size = 512, random_state = 1)\n",
                "\n",
                "print(class_weights, num_classes, seq_len)\n",
                "\n",
                "for batch in train_loader:\n",
                "    [print(t.shape, t.device) for t in batch]\n",
                "    break\n",
                "\n",
                "len(train_loader)"
            ]
        },
        {
            "cell_type": "code",
            "execution_count": 3,
            "metadata": {},
            "outputs": [],
            "source": [
                "auroc_metric = AUROC(task=\"binary\").to(device)\n",
                "accuracy_metric = Accuracy(task=\"binary\").to(device)\n",
                "f1_metric = F1Score(task=\"binary\").to(device)\n",
                "conf_matrix = ConfusionMatrix(task=\"binary\").to(device)"
            ]
        },
        {
            "cell_type": "code",
            "execution_count": 4,
            "metadata": {},
            "outputs": [
                {
                    "name": "stdout",
                    "output_type": "stream",
                    "text": [
                        "27 8 6\n"
                    ]
                }
            ],
            "source": [
                "print(changing_dim, static_dim, seq_len)\n",
                "\n",
                "random_seed = 1\n",
                "set_seed(random_seed)\n",
                "\n",
                "experiment_folder = \"/workdir/optimal-summaries-public/_models/vasopressor/original/\"\n",
                "top_k_file = experiment_folder + \"importance/bottleneck_topkinds_seed_{seed}.csv\"\n",
                "makedir(top_k_file)\n",
                "\n",
                "random_seeds = range(1,4)\n"
            ]
        },
        {
            "cell_type": "markdown",
            "metadata": {},
            "source": [
                "## Optimization"
            ]
        },
        {
            "cell_type": "code",
            "execution_count": 5,
            "metadata": {},
            "outputs": [
                {
                    "name": "stderr",
                    "output_type": "stream",
                    "text": [
                        "/usr/local/lib/python3.10/dist-packages/torch/nn/modules/lazy.py:180: UserWarning: Lazy modules are a new feature under heavy development so changes to the API or functionality can happen at any moment.\n",
                        "  warnings.warn('Lazy modules are a new feature under heavy development '\n"
                    ]
                },
                {
                    "name": "stdout",
                    "output_type": "stream",
                    "text": [
                        "Loaded model from /workdir/optimal-summaries-public/_models/vasopressor/original/n_concepts_4_seed_1.pt\n",
                        "AUC macro 0.915\n",
                        "ACC macro 0.837\n",
                        " F1 macro 0.845\n"
                    ]
                }
            ],
            "source": [
                "def get_model(random_seed):\n",
                "    set_seed(random_seed)\n",
                "\n",
                "    config = {\n",
                "        \"n_concepts\": 4,\n",
                "    }\n",
                "\n",
                "    makedir(experiment_folder)\n",
                "    model_path = get_filename_from_dict(experiment_folder, config)\n",
                "    model_path = model_path.format(**config, seed = random_seed)\n",
                "\n",
                "    train_loader, val_loader, test_loader, class_weights, num_classes, changing_dim, static_dim, seq_len = get_MIMIC_dataloader(random_state = random_seed)\n",
                "\n",
                "    model = models_original.CBM(**config, static_dim=static_dim, changing_dim=changing_dim, seq_len=seq_len, output_dim=2, device=device)\n",
                "    model.try_load_else_fit(train_loader, val_loader, p_weight=class_weights.to(device), save_model_path=model_path, max_epochs=10000)\n",
                "\n",
                "    evaluate_classification(model, test_loader)\n",
                "    return model\n",
                "\n",
                "model = get_model(1)"
            ]
        },
        {
            "cell_type": "code",
            "execution_count": null,
            "metadata": {},
            "outputs": [],
            "source": [
                "visualize_top100_weights_per_channel(model.bottleneck)\n"
            ]
        },
        {
            "cell_type": "code",
            "execution_count": 6,
            "metadata": {},
            "outputs": [],
            "source": [
                "def plot_metrics(metric_list, percs):\n",
                "    # Unzip the list of tuples into separate lists\n",
                "    auc, acc, f1 = zip(*metric_list)\n",
                "    \n",
                "    # Plot each metric\n",
                "    x = range(len(percs))\n",
                "    plt.plot(x, auc, label='AUC')\n",
                "    plt.plot(x, acc, label='ACC')\n",
                "    plt.plot(x, f1, label='F1')\n",
                "    \n",
                "    plt.xticks(x, labels=percs)\n",
                "    \n",
                "    # Add labels and legend\n",
                "    plt.xlabel('Percentages')\n",
                "    plt.ylabel('Metric Value')\n",
                "    plt.title('Pruning')\n",
                "    plt.legend()\n",
                "    \n",
                "    # Show plot\n",
                "    plt.show()"
            ]
        },
        {
            "cell_type": "code",
            "execution_count": 7,
            "metadata": {},
            "outputs": [
                {
                    "name": "stderr",
                    "output_type": "stream",
                    "text": [
                        "/usr/local/lib/python3.10/dist-packages/torch/nn/modules/lazy.py:180: UserWarning: Lazy modules are a new feature under heavy development so changes to the API or functionality can happen at any moment.\n",
                        "  warnings.warn('Lazy modules are a new feature under heavy development '\n"
                    ]
                },
                {
                    "name": "stdout",
                    "output_type": "stream",
                    "text": [
                        "Loaded model from /workdir/optimal-summaries-public/_models/vasopressor/original/n_concepts_4_seed_1.pt\n",
                        "AUC macro 0.915\n",
                        "ACC macro 0.837\n",
                        " F1 macro 0.845\n"
                    ]
                },
                {
                    "name": "stderr",
                    "output_type": "stream",
                    "text": [
                        " 11%|█         | 11/100 [00:14<01:54,  1.29s/ epoch, Train Loss=0.48274, Val Loss=0.52453, Best Val Loss=0.52344]"
                    ]
                },
                {
                    "name": "stdout",
                    "output_type": "stream",
                    "text": [
                        "Early Stopped\n"
                    ]
                },
                {
                    "name": "stderr",
                    "output_type": "stream",
                    "text": [
                        "\n"
                    ]
                },
                {
                    "name": "stdout",
                    "output_type": "stream",
                    "text": [
                        "AUC macro 0.914\n",
                        "ACC macro 0.840\n",
                        " F1 macro 0.848\n"
                    ]
                },
                {
                    "name": "stderr",
                    "output_type": "stream",
                    "text": [
                        " 20%|██        | 20/100 [00:26<01:46,  1.33s/ epoch, Train Loss=0.48167, Val Loss=0.52632, Best Val Loss=0.52335]"
                    ]
                },
                {
                    "name": "stdout",
                    "output_type": "stream",
                    "text": [
                        "Early Stopped\n"
                    ]
                },
                {
                    "name": "stderr",
                    "output_type": "stream",
                    "text": [
                        "\n"
                    ]
                },
                {
                    "name": "stdout",
                    "output_type": "stream",
                    "text": [
                        "AUC macro 0.917\n",
                        "ACC macro 0.846\n",
                        " F1 macro 0.853\n"
                    ]
                },
                {
                    "name": "stderr",
                    "output_type": "stream",
                    "text": [
                        " 29%|██▉       | 29/100 [00:40<01:38,  1.39s/ epoch, Train Loss=0.47884, Val Loss=0.52718, Best Val Loss=0.52295]"
                    ]
                },
                {
                    "name": "stdout",
                    "output_type": "stream",
                    "text": [
                        "Early Stopped\n"
                    ]
                },
                {
                    "name": "stderr",
                    "output_type": "stream",
                    "text": [
                        "\n"
                    ]
                },
                {
                    "name": "stdout",
                    "output_type": "stream",
                    "text": [
                        "AUC macro 0.919\n",
                        "ACC macro 0.849\n",
                        " F1 macro 0.855\n"
                    ]
                },
                {
                    "name": "stderr",
                    "output_type": "stream",
                    "text": [
                        " 20%|██        | 20/100 [00:29<01:57,  1.47s/ epoch, Train Loss=0.47904, Val Loss=0.52808, Best Val Loss=0.52288]"
                    ]
                },
                {
                    "name": "stdout",
                    "output_type": "stream",
                    "text": [
                        "Early Stopped\n"
                    ]
                },
                {
                    "name": "stderr",
                    "output_type": "stream",
                    "text": [
                        "\n"
                    ]
                },
                {
                    "name": "stdout",
                    "output_type": "stream",
                    "text": [
                        "AUC macro 0.919\n",
                        "ACC macro 0.849\n",
                        " F1 macro 0.855\n"
                    ]
                },
                {
                    "name": "stderr",
                    "output_type": "stream",
                    "text": [
                        " 23%|██▎       | 23/100 [00:33<01:53,  1.47s/ epoch, Train Loss=0.47713, Val Loss=0.52518, Best Val Loss=0.52297]"
                    ]
                },
                {
                    "name": "stdout",
                    "output_type": "stream",
                    "text": [
                        "Early Stopped\n"
                    ]
                },
                {
                    "name": "stderr",
                    "output_type": "stream",
                    "text": [
                        "\n"
                    ]
                },
                {
                    "name": "stdout",
                    "output_type": "stream",
                    "text": [
                        "AUC macro 0.915\n",
                        "ACC macro 0.843\n",
                        " F1 macro 0.849\n"
                    ]
                },
                {
                    "name": "stderr",
                    "output_type": "stream",
                    "text": [
                        " 14%|█▍        | 14/100 [00:21<02:11,  1.53s/ epoch, Train Loss=0.47658, Val Loss=0.52619, Best Val Loss=0.52305]"
                    ]
                },
                {
                    "name": "stdout",
                    "output_type": "stream",
                    "text": [
                        "Early Stopped\n"
                    ]
                },
                {
                    "name": "stderr",
                    "output_type": "stream",
                    "text": [
                        "\n"
                    ]
                },
                {
                    "name": "stdout",
                    "output_type": "stream",
                    "text": [
                        "AUC macro 0.909\n",
                        "ACC macro 0.833\n",
                        " F1 macro 0.841\n"
                    ]
                },
                {
                    "name": "stderr",
                    "output_type": "stream",
                    "text": [
                        " 16%|█▌        | 16/100 [00:23<02:04,  1.48s/ epoch, Train Loss=0.47718, Val Loss=0.52350, Best Val Loss=0.52328]"
                    ]
                },
                {
                    "name": "stdout",
                    "output_type": "stream",
                    "text": [
                        "Early Stopped\n"
                    ]
                },
                {
                    "name": "stderr",
                    "output_type": "stream",
                    "text": [
                        "\n"
                    ]
                },
                {
                    "name": "stdout",
                    "output_type": "stream",
                    "text": [
                        "AUC macro 0.921\n",
                        "ACC macro 0.853\n",
                        " F1 macro 0.858\n"
                    ]
                },
                {
                    "name": "stderr",
                    "output_type": "stream",
                    "text": [
                        " 10%|█         | 10/100 [00:15<02:22,  1.59s/ epoch, Train Loss=0.47686, Val Loss=0.52464, Best Val Loss=0.52280]"
                    ]
                },
                {
                    "name": "stdout",
                    "output_type": "stream",
                    "text": [
                        "Early Stopped\n"
                    ]
                },
                {
                    "name": "stderr",
                    "output_type": "stream",
                    "text": [
                        "\n"
                    ]
                },
                {
                    "name": "stdout",
                    "output_type": "stream",
                    "text": [
                        "AUC macro 0.912\n",
                        "ACC macro 0.838\n",
                        " F1 macro 0.845\n"
                    ]
                },
                {
                    "name": "stderr",
                    "output_type": "stream",
                    "text": [
                        " 22%|██▏       | 22/100 [00:33<01:57,  1.50s/ epoch, Train Loss=0.47517, Val Loss=0.52394, Best Val Loss=0.52339]"
                    ]
                },
                {
                    "name": "stdout",
                    "output_type": "stream",
                    "text": [
                        "Early Stopped\n"
                    ]
                },
                {
                    "name": "stderr",
                    "output_type": "stream",
                    "text": [
                        "\n"
                    ]
                },
                {
                    "name": "stdout",
                    "output_type": "stream",
                    "text": [
                        "AUC macro 0.920\n",
                        "ACC macro 0.850\n",
                        " F1 macro 0.856\n"
                    ]
                },
                {
                    "name": "stderr",
                    "output_type": "stream",
                    "text": [
                        " 13%|█▎        | 13/100 [00:19<02:10,  1.50s/ epoch, Train Loss=0.47392, Val Loss=0.52604, Best Val Loss=0.52320]"
                    ]
                },
                {
                    "name": "stdout",
                    "output_type": "stream",
                    "text": [
                        "Early Stopped\n"
                    ]
                },
                {
                    "name": "stderr",
                    "output_type": "stream",
                    "text": [
                        "\n"
                    ]
                },
                {
                    "name": "stdout",
                    "output_type": "stream",
                    "text": [
                        "AUC macro 0.915\n",
                        "ACC macro 0.843\n",
                        " F1 macro 0.850\n"
                    ]
                },
                {
                    "name": "stderr",
                    "output_type": "stream",
                    "text": [
                        " 17%|█▋        | 17/100 [00:25<02:03,  1.49s/ epoch, Train Loss=0.47464, Val Loss=0.52677, Best Val Loss=0.52375]"
                    ]
                },
                {
                    "name": "stdout",
                    "output_type": "stream",
                    "text": [
                        "Early Stopped\n"
                    ]
                },
                {
                    "name": "stderr",
                    "output_type": "stream",
                    "text": [
                        "\n"
                    ]
                },
                {
                    "name": "stdout",
                    "output_type": "stream",
                    "text": [
                        "AUC macro 0.913\n",
                        "ACC macro 0.839\n",
                        " F1 macro 0.846\n"
                    ]
                },
                {
                    "name": "stderr",
                    "output_type": "stream",
                    "text": [
                        " 25%|██▌       | 25/100 [00:37<01:51,  1.49s/ epoch, Train Loss=0.47348, Val Loss=0.52420, Best Val Loss=0.52363]"
                    ]
                },
                {
                    "name": "stdout",
                    "output_type": "stream",
                    "text": [
                        "Early Stopped\n"
                    ]
                },
                {
                    "name": "stderr",
                    "output_type": "stream",
                    "text": [
                        "\n"
                    ]
                },
                {
                    "name": "stdout",
                    "output_type": "stream",
                    "text": [
                        "AUC macro 0.918\n",
                        "ACC macro 0.847\n",
                        " F1 macro 0.853\n"
                    ]
                },
                {
                    "name": "stderr",
                    "output_type": "stream",
                    "text": [
                        " 19%|█▉        | 19/100 [00:28<02:02,  1.51s/ epoch, Train Loss=0.47267, Val Loss=0.52896, Best Val Loss=0.52355]"
                    ]
                },
                {
                    "name": "stdout",
                    "output_type": "stream",
                    "text": [
                        "Early Stopped\n"
                    ]
                },
                {
                    "name": "stderr",
                    "output_type": "stream",
                    "text": [
                        "\n"
                    ]
                },
                {
                    "name": "stdout",
                    "output_type": "stream",
                    "text": [
                        "AUC macro 0.919\n",
                        "ACC macro 0.849\n",
                        " F1 macro 0.855\n"
                    ]
                },
                {
                    "name": "stderr",
                    "output_type": "stream",
                    "text": [
                        " 22%|██▏       | 22/100 [00:31<01:53,  1.45s/ epoch, Train Loss=0.47257, Val Loss=0.52628, Best Val Loss=0.52351]"
                    ]
                },
                {
                    "name": "stdout",
                    "output_type": "stream",
                    "text": [
                        "Early Stopped\n"
                    ]
                },
                {
                    "name": "stderr",
                    "output_type": "stream",
                    "text": [
                        "\n"
                    ]
                },
                {
                    "name": "stdout",
                    "output_type": "stream",
                    "text": [
                        "AUC macro 0.915\n",
                        "ACC macro 0.843\n",
                        " F1 macro 0.850\n"
                    ]
                },
                {
                    "name": "stderr",
                    "output_type": "stream",
                    "text": [
                        " 21%|██        | 21/100 [00:32<02:01,  1.54s/ epoch, Train Loss=0.47071, Val Loss=0.52592, Best Val Loss=0.52466]"
                    ]
                },
                {
                    "name": "stdout",
                    "output_type": "stream",
                    "text": [
                        "Early Stopped\n"
                    ]
                },
                {
                    "name": "stderr",
                    "output_type": "stream",
                    "text": [
                        "\n"
                    ]
                },
                {
                    "name": "stdout",
                    "output_type": "stream",
                    "text": [
                        "AUC macro 0.915\n",
                        "ACC macro 0.842\n",
                        " F1 macro 0.849\n"
                    ]
                },
                {
                    "name": "stderr",
                    "output_type": "stream",
                    "text": [
                        " 11%|█         | 11/100 [00:17<02:24,  1.62s/ epoch, Train Loss=0.47082, Val Loss=0.52493, Best Val Loss=0.52405]"
                    ]
                },
                {
                    "name": "stdout",
                    "output_type": "stream",
                    "text": [
                        "Early Stopped\n"
                    ]
                },
                {
                    "name": "stderr",
                    "output_type": "stream",
                    "text": [
                        "\n"
                    ]
                },
                {
                    "name": "stdout",
                    "output_type": "stream",
                    "text": [
                        "AUC macro 0.918\n",
                        "ACC macro 0.848\n",
                        " F1 macro 0.854\n"
                    ]
                },
                {
                    "name": "stderr",
                    "output_type": "stream",
                    "text": [
                        " 29%|██▉       | 29/100 [00:42<01:43,  1.46s/ epoch, Train Loss=0.46957, Val Loss=0.52641, Best Val Loss=0.52325]"
                    ]
                },
                {
                    "name": "stdout",
                    "output_type": "stream",
                    "text": [
                        "Early Stopped\n"
                    ]
                },
                {
                    "name": "stderr",
                    "output_type": "stream",
                    "text": [
                        "\n"
                    ]
                },
                {
                    "name": "stdout",
                    "output_type": "stream",
                    "text": [
                        "AUC macro 0.906\n",
                        "ACC macro 0.833\n",
                        " F1 macro 0.841\n"
                    ]
                },
                {
                    "name": "stderr",
                    "output_type": "stream",
                    "text": [
                        " 14%|█▍        | 14/100 [00:21<02:13,  1.55s/ epoch, Train Loss=0.46931, Val Loss=0.52520, Best Val Loss=0.52472]"
                    ]
                },
                {
                    "name": "stdout",
                    "output_type": "stream",
                    "text": [
                        "Early Stopped\n"
                    ]
                },
                {
                    "name": "stderr",
                    "output_type": "stream",
                    "text": [
                        "\n"
                    ]
                },
                {
                    "name": "stdout",
                    "output_type": "stream",
                    "text": [
                        "AUC macro 0.913\n",
                        "ACC macro 0.841\n",
                        " F1 macro 0.848\n"
                    ]
                },
                {
                    "name": "stderr",
                    "output_type": "stream",
                    "text": [
                        " 17%|█▋        | 17/100 [00:25<02:06,  1.52s/ epoch, Train Loss=0.46915, Val Loss=0.52494, Best Val Loss=0.52436]"
                    ]
                },
                {
                    "name": "stdout",
                    "output_type": "stream",
                    "text": [
                        "Early Stopped\n"
                    ]
                },
                {
                    "name": "stderr",
                    "output_type": "stream",
                    "text": [
                        "\n"
                    ]
                },
                {
                    "name": "stdout",
                    "output_type": "stream",
                    "text": [
                        "AUC macro 0.914\n",
                        "ACC macro 0.842\n",
                        " F1 macro 0.849\n"
                    ]
                },
                {
                    "name": "stderr",
                    "output_type": "stream",
                    "text": [
                        " 13%|█▎        | 13/100 [00:20<02:16,  1.57s/ epoch, Train Loss=0.46925, Val Loss=0.52500, Best Val Loss=0.52376]"
                    ]
                },
                {
                    "name": "stdout",
                    "output_type": "stream",
                    "text": [
                        "Early Stopped\n"
                    ]
                },
                {
                    "name": "stderr",
                    "output_type": "stream",
                    "text": [
                        "\n"
                    ]
                },
                {
                    "name": "stdout",
                    "output_type": "stream",
                    "text": [
                        "AUC macro 0.910\n",
                        "ACC macro 0.837\n",
                        " F1 macro 0.844\n"
                    ]
                },
                {
                    "name": "stderr",
                    "output_type": "stream",
                    "text": [
                        " 30%|███       | 30/100 [00:45<01:45,  1.51s/ epoch, Train Loss=0.46837, Val Loss=0.52426, Best Val Loss=0.52265]"
                    ]
                },
                {
                    "name": "stdout",
                    "output_type": "stream",
                    "text": [
                        "Early Stopped\n"
                    ]
                },
                {
                    "name": "stderr",
                    "output_type": "stream",
                    "text": [
                        "\n"
                    ]
                },
                {
                    "name": "stdout",
                    "output_type": "stream",
                    "text": [
                        "AUC macro 0.915\n",
                        "ACC macro 0.845\n",
                        " F1 macro 0.851\n"
                    ]
                },
                {
                    "name": "stderr",
                    "output_type": "stream",
                    "text": [
                        " 11%|█         | 11/100 [00:17<02:20,  1.57s/ epoch, Train Loss=0.47057, Val Loss=0.52370, Best Val Loss=0.52265]"
                    ]
                },
                {
                    "name": "stdout",
                    "output_type": "stream",
                    "text": [
                        "Early Stopped\n"
                    ]
                },
                {
                    "name": "stderr",
                    "output_type": "stream",
                    "text": [
                        "\n"
                    ]
                },
                {
                    "name": "stdout",
                    "output_type": "stream",
                    "text": [
                        "AUC macro 0.914\n",
                        "ACC macro 0.842\n",
                        " F1 macro 0.849\n"
                    ]
                },
                {
                    "name": "stderr",
                    "output_type": "stream",
                    "text": [
                        " 32%|███▏      | 32/100 [00:48<01:43,  1.52s/ epoch, Train Loss=0.46939, Val Loss=0.52295, Best Val Loss=0.52104]"
                    ]
                },
                {
                    "name": "stdout",
                    "output_type": "stream",
                    "text": [
                        "Early Stopped\n"
                    ]
                },
                {
                    "name": "stderr",
                    "output_type": "stream",
                    "text": [
                        "\n"
                    ]
                },
                {
                    "name": "stdout",
                    "output_type": "stream",
                    "text": [
                        "AUC macro 0.909\n",
                        "ACC macro 0.835\n",
                        " F1 macro 0.843\n"
                    ]
                },
                {
                    "name": "stderr",
                    "output_type": "stream",
                    "text": [
                        " 31%|███       | 31/100 [00:46<01:42,  1.49s/ epoch, Train Loss=0.47006, Val Loss=0.52308, Best Val Loss=0.52113]"
                    ]
                },
                {
                    "name": "stdout",
                    "output_type": "stream",
                    "text": [
                        "Early Stopped\n"
                    ]
                },
                {
                    "name": "stderr",
                    "output_type": "stream",
                    "text": [
                        "\n"
                    ]
                },
                {
                    "name": "stdout",
                    "output_type": "stream",
                    "text": [
                        "AUC macro 0.906\n",
                        "ACC macro 0.829\n",
                        " F1 macro 0.837\n"
                    ]
                },
                {
                    "name": "stderr",
                    "output_type": "stream",
                    "text": [
                        " 42%|████▏     | 42/100 [01:02<01:26,  1.49s/ epoch, Train Loss=0.47072, Val Loss=0.52123, Best Val Loss=0.52018]"
                    ]
                },
                {
                    "name": "stdout",
                    "output_type": "stream",
                    "text": [
                        "Early Stopped\n"
                    ]
                },
                {
                    "name": "stderr",
                    "output_type": "stream",
                    "text": [
                        "\n"
                    ]
                },
                {
                    "name": "stdout",
                    "output_type": "stream",
                    "text": [
                        "AUC macro 0.922\n",
                        "ACC macro 0.856\n",
                        " F1 macro 0.861\n"
                    ]
                },
                {
                    "name": "stderr",
                    "output_type": "stream",
                    "text": [
                        " 78%|███████▊  | 78/100 [01:55<00:32,  1.48s/ epoch, Train Loss=0.47284, Val Loss=0.51792, Best Val Loss=0.51783]"
                    ]
                },
                {
                    "name": "stdout",
                    "output_type": "stream",
                    "text": [
                        "Early Stopped\n"
                    ]
                },
                {
                    "name": "stderr",
                    "output_type": "stream",
                    "text": [
                        "\n"
                    ]
                },
                {
                    "name": "stdout",
                    "output_type": "stream",
                    "text": [
                        "AUC macro 0.912\n",
                        "ACC macro 0.838\n",
                        " F1 macro 0.846\n"
                    ]
                },
                {
                    "name": "stderr",
                    "output_type": "stream",
                    "text": [
                        " 55%|█████▌    | 55/100 [01:23<01:08,  1.52s/ epoch, Train Loss=0.47512, Val Loss=0.51541, Best Val Loss=0.51507]"
                    ]
                },
                {
                    "name": "stdout",
                    "output_type": "stream",
                    "text": [
                        "Early Stopped\n"
                    ]
                },
                {
                    "name": "stderr",
                    "output_type": "stream",
                    "text": [
                        "\n"
                    ]
                },
                {
                    "name": "stdout",
                    "output_type": "stream",
                    "text": [
                        "AUC macro 0.902\n",
                        "ACC macro 0.823\n",
                        " F1 macro 0.834\n"
                    ]
                },
                {
                    "name": "stderr",
                    "output_type": "stream",
                    "text": [
                        " 62%|██████▏   | 62/100 [01:32<00:56,  1.49s/ epoch, Train Loss=0.47799, Val Loss=0.51485, Best Val Loss=0.51382]"
                    ]
                },
                {
                    "name": "stdout",
                    "output_type": "stream",
                    "text": [
                        "Early Stopped\n"
                    ]
                },
                {
                    "name": "stderr",
                    "output_type": "stream",
                    "text": [
                        "\n"
                    ]
                },
                {
                    "name": "stdout",
                    "output_type": "stream",
                    "text": [
                        "AUC macro 0.904\n",
                        "ACC macro 0.821\n",
                        " F1 macro 0.832\n"
                    ]
                },
                {
                    "data": {
                        "image/png": "[encoded data removed]",
                        "text/plain": [
                            "<Figure size 640x480 with 1 Axes>"
                        ]
                    },
                    "metadata": {},
                    "output_type": "display_data"
                }
            ],
            "source": [
                "for random_seed in [1]:\n",
                "    model = get_model(random_seed)\n",
                "    train_loader, val_loader, test_loader, class_weights, num_classes, changing_dim, static_dim, seq_len = get_MIMIC_dataloader(random_state = random_seed)\n",
                "    # save_model_path = add_subfolder(model.save_model_path, \"/importance/\")\n",
                "    # makedir(save_model_path)\n",
                "    model.opt_lr = 1e-4\n",
                "    \n",
                "    metric_list = []\n",
                "    percs = list(range(0, 90, 5)) + list(range(90, 100, 1))\n",
                "    for perc in percs:\n",
                "        model.fit(train_loader, val_loader, p_weight=class_weights.to(device), save_model_path=None, max_epochs=100, save_every_n_epochs=1, patience=10)\n",
                "        model.mask_by_weight_magnitude(perc)\n",
                "        model.clear_ema_gradient()\n",
                "        metrics = evaluate_classification(model, val_loader)\n",
                "        metric_list.append(metrics)\n",
                "\n",
                "plot_metrics(metric_list, percs)"
            ]
        },
        {
            "cell_type": "code",
            "execution_count": 8,
            "metadata": {},
            "outputs": [
                {
                    "name": "stderr",
                    "output_type": "stream",
                    "text": [
                        "/usr/local/lib/python3.10/dist-packages/torch/nn/modules/lazy.py:180: UserWarning: Lazy modules are a new feature under heavy development so changes to the API or functionality can happen at any moment.\n",
                        "  warnings.warn('Lazy modules are a new feature under heavy development '\n"
                    ]
                },
                {
                    "name": "stdout",
                    "output_type": "stream",
                    "text": [
                        "Loaded model from /workdir/optimal-summaries-public/_models/vasopressor/original/n_concepts_4_seed_1.pt\n",
                        "AUC macro 0.915\n",
                        "ACC macro 0.837\n",
                        " F1 macro 0.845\n"
                    ]
                },
                {
                    "name": "stderr",
                    "output_type": "stream",
                    "text": [
                        " 11%|█         | 11/100 [00:17<02:21,  1.59s/ epoch, Train Loss=0.48274, Val Loss=0.52453, Best Val Loss=0.52344]"
                    ]
                },
                {
                    "name": "stdout",
                    "output_type": "stream",
                    "text": [
                        "Early Stopped\n"
                    ]
                },
                {
                    "name": "stderr",
                    "output_type": "stream",
                    "text": [
                        "\n"
                    ]
                },
                {
                    "name": "stdout",
                    "output_type": "stream",
                    "text": [
                        "AUC macro 0.914\n",
                        "ACC macro 0.840\n",
                        " F1 macro 0.848\n"
                    ]
                },
                {
                    "name": "stderr",
                    "output_type": "stream",
                    "text": [
                        " 20%|██        | 20/100 [00:32<02:08,  1.61s/ epoch, Train Loss=0.48167, Val Loss=0.52632, Best Val Loss=0.52335]"
                    ]
                },
                {
                    "name": "stdout",
                    "output_type": "stream",
                    "text": [
                        "Early Stopped\n"
                    ]
                },
                {
                    "name": "stderr",
                    "output_type": "stream",
                    "text": [
                        "\n"
                    ]
                },
                {
                    "name": "stdout",
                    "output_type": "stream",
                    "text": [
                        "AUC macro 0.919\n",
                        "ACC macro 0.848\n",
                        " F1 macro 0.854\n"
                    ]
                },
                {
                    "name": "stderr",
                    "output_type": "stream",
                    "text": [
                        " 18%|█▊        | 18/100 [00:28<02:08,  1.57s/ epoch, Train Loss=0.48040, Val Loss=0.52446, Best Val Loss=0.52315]"
                    ]
                },
                {
                    "name": "stdout",
                    "output_type": "stream",
                    "text": [
                        "Early Stopped\n"
                    ]
                },
                {
                    "name": "stderr",
                    "output_type": "stream",
                    "text": [
                        "\n"
                    ]
                },
                {
                    "name": "stdout",
                    "output_type": "stream",
                    "text": [
                        "AUC macro 0.916\n",
                        "ACC macro 0.845\n",
                        " F1 macro 0.851\n"
                    ]
                },
                {
                    "name": "stderr",
                    "output_type": "stream",
                    "text": [
                        " 17%|█▋        | 17/100 [00:28<02:21,  1.70s/ epoch, Train Loss=0.48003, Val Loss=0.52617, Best Val Loss=0.52484]"
                    ]
                },
                {
                    "name": "stdout",
                    "output_type": "stream",
                    "text": [
                        "Early Stopped\n"
                    ]
                },
                {
                    "name": "stderr",
                    "output_type": "stream",
                    "text": [
                        "\n"
                    ]
                },
                {
                    "name": "stdout",
                    "output_type": "stream",
                    "text": [
                        "AUC macro 0.914\n",
                        "ACC macro 0.841\n",
                        " F1 macro 0.848\n"
                    ]
                },
                {
                    "name": "stderr",
                    "output_type": "stream",
                    "text": [
                        " 12%|█▏        | 12/100 [00:21<02:35,  1.76s/ epoch, Train Loss=0.47913, Val Loss=0.52606, Best Val Loss=0.52381]"
                    ]
                },
                {
                    "name": "stdout",
                    "output_type": "stream",
                    "text": [
                        "Early Stopped\n"
                    ]
                },
                {
                    "name": "stderr",
                    "output_type": "stream",
                    "text": [
                        "\n"
                    ]
                },
                {
                    "name": "stdout",
                    "output_type": "stream",
                    "text": [
                        "AUC macro 0.916\n",
                        "ACC macro 0.841\n",
                        " F1 macro 0.848\n"
                    ]
                },
                {
                    "name": "stderr",
                    "output_type": "stream",
                    "text": [
                        " 15%|█▌        | 15/100 [00:25<02:26,  1.73s/ epoch, Train Loss=0.48133, Val Loss=0.52354, Best Val Loss=0.52267]"
                    ]
                },
                {
                    "name": "stdout",
                    "output_type": "stream",
                    "text": [
                        "Early Stopped\n"
                    ]
                },
                {
                    "name": "stderr",
                    "output_type": "stream",
                    "text": [
                        "\n"
                    ]
                },
                {
                    "name": "stdout",
                    "output_type": "stream",
                    "text": [
                        "AUC macro 0.914\n",
                        "ACC macro 0.842\n",
                        " F1 macro 0.849\n"
                    ]
                },
                {
                    "name": "stderr",
                    "output_type": "stream",
                    "text": [
                        "  1%|          | 1/100 [00:01<02:43,  1.65s/ epoch, Train Loss=0.48100, Val Loss=0.52379, Best Val Loss=0.52379]"
                    ]
                }
            ],
            "source": [
                "for random_seed in [1]:\n",
                "    model = get_model(random_seed)\n",
                "    train_loader, val_loader, test_loader, class_weights, num_classes, changing_dim, static_dim, seq_len = get_MIMIC_dataloader(random_state = random_seed)\n",
                "    # save_model_path = add_subfolder(model.save_model_path, \"/importance/\")\n",
                "    # makedir(save_model_path)\n",
                "    model.opt_lr = 1e-4\n",
                "    \n",
                "    metric_list = []\n",
                "    percs = list(range(0, 90, 5)) + list(range(90, 100, 1))\n",
                "    for perc in percs:\n",
                "        model.fit(train_loader, val_loader, p_weight=class_weights.to(device), save_model_path=None, max_epochs=100, save_every_n_epochs=1, patience=10)\n",
                "        model.mask_by_gradient_magnitude(perc)\n",
                "        model.clear_ema_gradient()\n",
                "        metrics = evaluate_classification(model, val_loader)\n",
                "        metric_list.append(metrics)\n",
                "\n",
                "plot_metrics(metric_list, percs)"
            ]
        },
        {
            "cell_type": "code",
            "execution_count": null,
            "metadata": {},
            "outputs": [
                {
                    "name": "stderr",
                    "output_type": "stream",
                    "text": [
                        "/usr/local/lib/python3.10/dist-packages/torch/nn/modules/lazy.py:180: UserWarning: Lazy modules are a new feature under heavy development so changes to the API or functionality can happen at any moment.\n",
                        "  warnings.warn('Lazy modules are a new feature under heavy development '\n"
                    ]
                },
                {
                    "name": "stdout",
                    "output_type": "stream",
                    "text": [
                        "Loaded model from /workdir/optimal-summaries-public/_models/vasopressor/original/n_concepts_4_seed_1.pt\n",
                        "AUC macro 0.915\n",
                        "ACC macro 0.837\n",
                        " F1 macro 0.845\n"
                    ]
                },
                {
                    "name": "stderr",
                    "output_type": "stream",
                    "text": [
                        "  0%|          | 0/100 [00:00<?, ? epoch/s]"
                    ]
                },
                {
                    "name": "stdout",
                    "output_type": "stream",
                    "text": [
                        "task_type TaskType.CLASSIFICATION False False\n",
                        "output_dim 2 True False\n",
                        "y_true torch.Size([512, 2])\n",
                        "y_pred torch.Size([512, 2])\n"
                    ]
                },
                {
                    "name": "stderr",
                    "output_type": "stream",
                    "text": [
                        "\n"
                    ]
                },
                {
                    "ename": "NotImplementedError",
                    "evalue": "Loss not defined!",
                    "output_type": "error",
                    "traceback": [
                        "\u001b[0;31m---------------------------------------------------------------------------\u001b[0m",
                        "\u001b[0;31mNotImplementedError\u001b[0m                       Traceback (most recent call last)",
                        "Cell \u001b[0;32mIn[28], line 8\u001b[0m\n\u001b[1;32m      4\u001b[0m \u001b[38;5;66;03m# save_model_path = add_subfolder(model.save_model_path, \"/importance/\")\u001b[39;00m\n\u001b[1;32m      5\u001b[0m \u001b[38;5;66;03m# makedir(save_model_path)\u001b[39;00m\n\u001b[1;32m      6\u001b[0m model\u001b[38;5;241m.\u001b[39mopt_lr \u001b[38;5;241m=\u001b[39m \u001b[38;5;241m1e-4\u001b[39m\n\u001b[0;32m----> 8\u001b[0m \u001b[43mmodel\u001b[49m\u001b[38;5;241;43m.\u001b[39;49m\u001b[43mfit\u001b[49m\u001b[43m(\u001b[49m\u001b[43mtrain_loader\u001b[49m\u001b[43m,\u001b[49m\u001b[43m \u001b[49m\u001b[43mval_loader\u001b[49m\u001b[43m,\u001b[49m\u001b[43m \u001b[49m\u001b[43mp_weight\u001b[49m\u001b[38;5;241;43m=\u001b[39;49m\u001b[43mclass_weights\u001b[49m\u001b[38;5;241;43m.\u001b[39;49m\u001b[43mto\u001b[49m\u001b[43m(\u001b[49m\u001b[43mdevice\u001b[49m\u001b[43m)\u001b[49m\u001b[43m,\u001b[49m\u001b[43m \u001b[49m\u001b[43msave_model_path\u001b[49m\u001b[38;5;241;43m=\u001b[39;49m\u001b[38;5;28;43;01mNone\u001b[39;49;00m\u001b[43m,\u001b[49m\u001b[43m \u001b[49m\u001b[43mmax_epochs\u001b[49m\u001b[38;5;241;43m=\u001b[39;49m\u001b[38;5;241;43m100\u001b[39;49m\u001b[43m,\u001b[49m\u001b[43m \u001b[49m\u001b[43msave_every_n_epochs\u001b[49m\u001b[38;5;241;43m=\u001b[39;49m\u001b[38;5;241;43m1\u001b[39;49m\u001b[43m,\u001b[49m\u001b[43m \u001b[49m\u001b[43mpatience\u001b[49m\u001b[38;5;241;43m=\u001b[39;49m\u001b[38;5;241;43m10\u001b[39;49m\u001b[43m)\u001b[49m\n\u001b[1;32m      9\u001b[0m model\u001b[38;5;241m.\u001b[39mmask_shrinking_weights()\n\u001b[1;32m     10\u001b[0m model\u001b[38;5;241m.\u001b[39mclear_ema_gradient()\n",
                        "File \u001b[0;32m/workdir/optimal-summaries-public/vasopressor/../models/models_original.py:331\u001b[0m, in \u001b[0;36mCBM.fit\u001b[0;34m(self, train_loader, val_loader, p_weight, save_model_path, max_epochs, save_every_n_epochs, patience, scheduler, trial)\u001b[0m\n\u001b[1;32m    327\u001b[0m X_time, X_ind, X_static, y_true \u001b[38;5;241m=\u001b[39m extract_to(batch, \u001b[38;5;28mself\u001b[39m\u001b[38;5;241m.\u001b[39mdevice)\n\u001b[1;32m    329\u001b[0m y_pred \u001b[38;5;241m=\u001b[39m \u001b[38;5;28mself\u001b[39m(X_time, X_ind, X_static)\n\u001b[0;32m--> 331\u001b[0m loss \u001b[38;5;241m=\u001b[39m \u001b[43mcompute_loss\u001b[49m\u001b[43m(\u001b[49m\u001b[43my_true\u001b[49m\u001b[38;5;241;43m=\u001b[39;49m\u001b[43my_true\u001b[49m\u001b[43m,\u001b[49m\u001b[43m \u001b[49m\u001b[43my_pred\u001b[49m\u001b[38;5;241;43m=\u001b[39;49m\u001b[43my_pred\u001b[49m\u001b[43m,\u001b[49m\u001b[43m \u001b[49m\u001b[43mp_weight\u001b[49m\u001b[38;5;241;43m=\u001b[39;49m\u001b[43mp_weight\u001b[49m\u001b[43m,\u001b[49m\u001b[43m \u001b[49m\u001b[43ml1_lambda\u001b[49m\u001b[38;5;241;43m=\u001b[39;49m\u001b[38;5;28;43mself\u001b[39;49m\u001b[38;5;241;43m.\u001b[39;49m\u001b[43ml1_lambda\u001b[49m\u001b[43m,\u001b[49m\u001b[43m \u001b[49m\u001b[43mcos_sim_lambda\u001b[49m\u001b[38;5;241;43m=\u001b[39;49m\u001b[38;5;28;43mself\u001b[39;49m\u001b[38;5;241;43m.\u001b[39;49m\u001b[43mcos_sim_lambda\u001b[49m\u001b[43m,\u001b[49m\u001b[43m \u001b[49m\u001b[43mregularized_layers\u001b[49m\u001b[38;5;241;43m=\u001b[39;49m\u001b[38;5;28;43mself\u001b[39;49m\u001b[38;5;241;43m.\u001b[39;49m\u001b[43mregularized_layers\u001b[49m\u001b[43m,\u001b[49m\u001b[43m \u001b[49m\u001b[43mtask_type\u001b[49m\u001b[38;5;241;43m=\u001b[39;49m\u001b[38;5;28;43mself\u001b[39;49m\u001b[38;5;241;43m.\u001b[39;49m\u001b[43mtask_type\u001b[49m\u001b[43m)\u001b[49m\n\u001b[1;32m    333\u001b[0m \u001b[38;5;28mself\u001b[39m\u001b[38;5;241m.\u001b[39moptimizer\u001b[38;5;241m.\u001b[39mzero_grad(set_to_none\u001b[38;5;241m=\u001b[39m\u001b[38;5;28;01mTrue\u001b[39;00m)\n\u001b[1;32m    334\u001b[0m loss\u001b[38;5;241m.\u001b[39mbackward()\n",
                        "File \u001b[0;32m/workdir/optimal-summaries-public/vasopressor/../models/custom_losses.py:25\u001b[0m, in \u001b[0;36mcompute_loss\u001b[0;34m(y_true, y_pred, p_weight, l1_lambda, cos_sim_lambda, regularized_layers, task_type)\u001b[0m\n\u001b[1;32m     23\u001b[0m     \u001b[38;5;28mprint\u001b[39m(\u001b[38;5;124m\"\u001b[39m\u001b[38;5;124my_true\u001b[39m\u001b[38;5;124m\"\u001b[39m, y_true\u001b[38;5;241m.\u001b[39mshape)\n\u001b[1;32m     24\u001b[0m     \u001b[38;5;28mprint\u001b[39m(\u001b[38;5;124m\"\u001b[39m\u001b[38;5;124my_pred\u001b[39m\u001b[38;5;124m\"\u001b[39m, y_pred\u001b[38;5;241m.\u001b[39mshape)\n\u001b[0;32m---> 25\u001b[0m     \u001b[38;5;28;01mraise\u001b[39;00m \u001b[38;5;167;01mNotImplementedError\u001b[39;00m(\u001b[38;5;124m\"\u001b[39m\u001b[38;5;124mLoss not defined!\u001b[39m\u001b[38;5;124m\"\u001b[39m)\n\u001b[1;32m     27\u001b[0m \u001b[38;5;66;03m# Lasso regularization\u001b[39;00m\n\u001b[1;32m     28\u001b[0m l1_loss \u001b[38;5;241m=\u001b[39m \u001b[38;5;241m0\u001b[39m\n",
                        "\u001b[0;31mNotImplementedError\u001b[0m: Loss not defined!"
                    ]
                }
            ],
            "source": [
                "for random_seed in [1]:\n",
                "    model = get_model(random_seed)\n",
                "    train_loader, val_loader, test_loader, class_weights, num_classes, changing_dim, static_dim, seq_len = get_MIMIC_dataloader(random_state = random_seed)\n",
                "    # save_model_path = add_subfolder(model.save_model_path, \"/importance/\")\n",
                "    # makedir(save_model_path)\n",
                "    model.opt_lr = 1e-4\n",
                "    \n",
                "    model.fit(train_loader, val_loader, p_weight=class_weights.to(device), save_model_path=None, max_epochs=100, save_every_n_epochs=1, patience=10)\n",
                "    model.mask_shrinking_weights()\n",
                "    model.clear_ema_gradient()\n",
                "    metrics = evaluate_classification(model, val_loader)\n",
                "    metric_list.append(metrics)\n"
            ]
        },
        {
            "cell_type": "code",
            "execution_count": 18,
            "metadata": {},
            "outputs": [
                {
                    "name": "stdout",
                    "output_type": "stream",
                    "text": [
                        "0.01524390243902439\n",
                        "2624.0\n",
                        "2492.8\n",
                        "2361.6\n",
                        "2230.4\n",
                        "2099.2\n",
                        "1968.0\n",
                        "1836.8000000000002\n",
                        "1705.6\n",
                        "1574.4\n",
                        "1443.2\n",
                        "1312.0\n",
                        "1180.8000000000002\n",
                        "1049.6000000000001\n",
                        "918.4000000000001\n",
                        "787.2\n",
                        "656.0000000000002\n",
                        "524.8000000000002\n",
                        "393.5999999999999\n",
                        "262.4000000000001\n",
                        "131.20000000000027\n"
                    ]
                }
            ],
            "source": [
                "total = model.bottleneck.weight.numel()\n",
                "print(40 / total)\n",
                "\n",
                "for perc in range(0, 100, 5):\n",
                "    print(total - total / 100 * perc)"
            ]
        },
        {
            "cell_type": "code",
            "execution_count": 6,
            "metadata": {},
            "outputs": [
                {
                    "name": "stdout",
                    "output_type": "stream",
                    "text": [
                        "random_seed 1\n"
                    ]
                },
                {
                    "name": "stderr",
                    "output_type": "stream",
                    "text": [
                        "/usr/local/lib/python3.10/dist-packages/torch/nn/modules/lazy.py:180: UserWarning: Lazy modules are a new feature under heavy development so changes to the API or functionality can happen at any moment.\n",
                        "  warnings.warn('Lazy modules are a new feature under heavy development '\n"
                    ]
                },
                {
                    "name": "stdout",
                    "output_type": "stream",
                    "text": [
                        "Loaded model from /workdir/optimal-summaries-public/_models/vasopressor/original/n_concepts_4_seed_1.pt\n",
                        "AUC macro 0.915\n",
                        "ACC macro 0.837\n",
                        " F1 macro 0.845\n",
                        "Found 4 Concepts\n",
                        "90th percentile per concept [8.141751  0.8794138 4.321822  7.642881 ]\n",
                        "['Concept 0 len: 79', 'Concept 1 len: 272', 'Concept 2 len: 77', 'Concept 3 len: 71']\n"
                    ]
                },
                {
                    "name": "stderr",
                    "output_type": "stream",
                    "text": [
                        "100%|██████████| 40/40 [4:08:22<00:00, 372.57s/it, Score=0.91963, acc=0.858, f1=0.863, auc=0.92]   \n"
                    ]
                },
                {
                    "name": "stdout",
                    "output_type": "stream",
                    "text": [
                        "random_seed 2\n"
                    ]
                },
                {
                    "name": "stderr",
                    "output_type": "stream",
                    "text": [
                        "/usr/local/lib/python3.10/dist-packages/torch/nn/modules/lazy.py:180: UserWarning: Lazy modules are a new feature under heavy development so changes to the API or functionality can happen at any moment.\n",
                        "  warnings.warn('Lazy modules are a new feature under heavy development '\n"
                    ]
                },
                {
                    "name": "stdout",
                    "output_type": "stream",
                    "text": [
                        "Loaded model from /workdir/optimal-summaries-public/_models/vasopressor/original/n_concepts_4_seed_2.pt\n",
                        "AUC macro 0.921\n",
                        "ACC macro 0.844\n",
                        " F1 macro 0.852\n",
                        "Found 4 Concepts\n",
                        "90th percentile per concept [ 0.28210557 10.270896    6.4929314   2.3336902 ]\n",
                        "['Concept 0 len: 299', 'Concept 1 len: 95', 'Concept 2 len: 105', 'Concept 3 len: 150']\n"
                    ]
                },
                {
                    "name": "stderr",
                    "output_type": "stream",
                    "text": [
                        "100%|██████████| 40/40 [5:18:27<00:00, 477.68s/it, Score=0.92956, acc=0.842, f1=0.855, auc=0.93]   \n"
                    ]
                },
                {
                    "name": "stdout",
                    "output_type": "stream",
                    "text": [
                        "random_seed 3\n"
                    ]
                },
                {
                    "name": "stderr",
                    "output_type": "stream",
                    "text": [
                        "/usr/local/lib/python3.10/dist-packages/torch/nn/modules/lazy.py:180: UserWarning: Lazy modules are a new feature under heavy development so changes to the API or functionality can happen at any moment.\n",
                        "  warnings.warn('Lazy modules are a new feature under heavy development '\n"
                    ]
                },
                {
                    "name": "stdout",
                    "output_type": "stream",
                    "text": [
                        "Loaded model from /workdir/optimal-summaries-public/_models/vasopressor/original/n_concepts_4_seed_3.pt\n",
                        "AUC macro 0.914\n",
                        "ACC macro 0.837\n",
                        " F1 macro 0.845\n",
                        "Found 4 Concepts\n",
                        "90th percentile per concept [1.3721063  9.55452    0.41133872 7.4182534 ]\n",
                        "['Concept 0 len: 239', 'Concept 1 len: 81', 'Concept 2 len: 295', 'Concept 3 len: 72']\n"
                    ]
                },
                {
                    "name": "stderr",
                    "output_type": "stream",
                    "text": [
                        "100%|██████████| 40/40 [5:24:46<00:00, 487.17s/it, Score=0.92909, acc=0.858, f1=0.865, auc=0.929]  \n"
                    ]
                }
            ],
            "source": [
                "track_metrics={\"acc\": accuracy_metric,\n",
                "               \"f1\": f1_metric,\n",
                "               \"auc\": auroc_metric,\n",
                "               }\n",
                "\n",
                "results = []\n",
                "for random_seed in random_seeds:\n",
                "    print(\"random_seed\", random_seed)\n",
                "    model = get_model(random_seed)\n",
                "    train_loader, val_loader, test_loader, class_weights, num_classes, changing_dim, static_dim, seq_len = get_MIMIC_dataloader(random_state = random_seed)\n",
                "    save_path = top_k_file.format(seed=random_seed)\n",
                "    \n",
                "    \n",
                "    results.append(greedy_results)\n",
                "    "
            ]
        },
        {
            "cell_type": "code",
            "execution_count": null,
            "metadata": {},
            "outputs": [],
            "source": [
                "random_seed = 1\n",
                "model = get_model(random_seed)\n",
                "top_k_inds = get_top_features_per_concept(model.bottleneck)\n",
                "greedy_results = read_df_from_csv(top_k_file.format(seed=random_seed))\n",
                "\n",
                "pd.set_option('display.max_rows', 100)\n",
                "\n",
                "print(len(top_k_inds))\n",
                "[print(x) for x in top_k_inds]\n",
                "greedy_results\n"
            ]
        },
        {
            "cell_type": "code",
            "execution_count": null,
            "metadata": {},
            "outputs": [],
            "source": [
                "plot_selected_weights(model.bottleneck.weight, top_k_inds, greedy_results, 100)"
            ]
        },
        {
            "cell_type": "code",
            "execution_count": 8,
            "metadata": {},
            "outputs": [
                {
                    "name": "stderr",
                    "output_type": "stream",
                    "text": [
                        "/usr/local/lib/python3.10/dist-packages/torch/nn/modules/lazy.py:180: UserWarning: Lazy modules are a new feature under heavy development so changes to the API or functionality can happen at any moment.\n",
                        "  warnings.warn('Lazy modules are a new feature under heavy development '\n"
                    ]
                },
                {
                    "name": "stdout",
                    "output_type": "stream",
                    "text": [
                        "Loaded model from /workdir/optimal-summaries-public/_models/vasopressor/original/n_concepts_4_seed_1.pt\n",
                        "AUC macro 0.915\n",
                        "ACC macro 0.837\n",
                        " F1 macro 0.845\n",
                        "AUC macro 0.914\n",
                        "ACC macro 0.839\n",
                        " F1 macro 0.846\n",
                        "AUC macro 0.915\n",
                        "ACC macro 0.837\n",
                        " F1 macro 0.845\n",
                        "AUC macro 0.920\n",
                        "ACC macro 0.858\n",
                        " F1 macro 0.863\n",
                        "AUC macro 0.916\n",
                        "ACC macro 0.858\n",
                        " F1 macro 0.863\n",
                        "Loaded model from /workdir/optimal-summaries-public/_models/vasopressor/original/finetuned/n_concepts_4_seed_1.pt\n",
                        "AUC macro 0.909\n",
                        "ACC macro 0.837\n",
                        " F1 macro 0.844\n",
                        "AUC macro 0.909\n",
                        "ACC macro 0.842\n",
                        " F1 macro 0.848\n"
                    ]
                },
                {
                    "name": "stderr",
                    "output_type": "stream",
                    "text": [
                        "/usr/local/lib/python3.10/dist-packages/torch/nn/modules/lazy.py:180: UserWarning: Lazy modules are a new feature under heavy development so changes to the API or functionality can happen at any moment.\n",
                        "  warnings.warn('Lazy modules are a new feature under heavy development '\n"
                    ]
                },
                {
                    "name": "stdout",
                    "output_type": "stream",
                    "text": [
                        "Loaded model from /workdir/optimal-summaries-public/_models/vasopressor/original/n_concepts_4_seed_2.pt\n",
                        "AUC macro 0.921\n",
                        "ACC macro 0.844\n",
                        " F1 macro 0.852\n",
                        "AUC macro 0.923\n",
                        "ACC macro 0.848\n",
                        " F1 macro 0.856\n",
                        "AUC macro 0.921\n",
                        "ACC macro 0.844\n",
                        " F1 macro 0.852\n",
                        "AUC macro 0.930\n",
                        "ACC macro 0.842\n",
                        " F1 macro 0.855\n",
                        "AUC macro 0.926\n",
                        "ACC macro 0.836\n",
                        " F1 macro 0.850\n",
                        "Loaded model from /workdir/optimal-summaries-public/_models/vasopressor/original/finetuned/n_concepts_4_seed_2.pt\n",
                        "AUC macro 0.922\n",
                        "ACC macro 0.852\n",
                        " F1 macro 0.859\n",
                        "AUC macro 0.917\n",
                        "ACC macro 0.848\n",
                        " F1 macro 0.855\n"
                    ]
                },
                {
                    "name": "stderr",
                    "output_type": "stream",
                    "text": [
                        "/usr/local/lib/python3.10/dist-packages/torch/nn/modules/lazy.py:180: UserWarning: Lazy modules are a new feature under heavy development so changes to the API or functionality can happen at any moment.\n",
                        "  warnings.warn('Lazy modules are a new feature under heavy development '\n"
                    ]
                },
                {
                    "name": "stdout",
                    "output_type": "stream",
                    "text": [
                        "Loaded model from /workdir/optimal-summaries-public/_models/vasopressor/original/n_concepts_4_seed_3.pt\n",
                        "AUC macro 0.914\n",
                        "ACC macro 0.837\n",
                        " F1 macro 0.845\n",
                        "AUC macro 0.920\n",
                        "ACC macro 0.843\n",
                        " F1 macro 0.850\n",
                        "AUC macro 0.914\n",
                        "ACC macro 0.837\n",
                        " F1 macro 0.845\n",
                        "AUC macro 0.929\n",
                        "ACC macro 0.858\n",
                        " F1 macro 0.865\n",
                        "AUC macro 0.923\n",
                        "ACC macro 0.855\n",
                        " F1 macro 0.862\n",
                        "Loaded model from /workdir/optimal-summaries-public/_models/vasopressor/original/finetuned/n_concepts_4_seed_3.pt\n",
                        "AUC macro 0.924\n",
                        "ACC macro 0.852\n",
                        " F1 macro 0.859\n",
                        "AUC macro 0.915\n",
                        "ACC macro 0.846\n",
                        " F1 macro 0.853\n"
                    ]
                },
                {
                    "data": {
                        "text/html": [
                            "<div>\n",
                            "<style scoped>\n",
                            "    .dataframe tbody tr th:only-of-type {\n",
                            "        vertical-align: middle;\n",
                            "    }\n",
                            "\n",
                            "    .dataframe tbody tr th {\n",
                            "        vertical-align: top;\n",
                            "    }\n",
                            "\n",
                            "    .dataframe thead th {\n",
                            "        text-align: right;\n",
                            "    }\n",
                            "</style>\n",
                            "<table border=\"1\" class=\"dataframe\">\n",
                            "  <thead>\n",
                            "    <tr style=\"text-align: right;\">\n",
                            "      <th></th>\n",
                            "      <th></th>\n",
                            "      <th></th>\n",
                            "      <th>Seed</th>\n",
                            "      <th>AUC</th>\n",
                            "      <th>ACC</th>\n",
                            "      <th>F1</th>\n",
                            "    </tr>\n",
                            "    <tr>\n",
                            "      <th>Split</th>\n",
                            "      <th>Mask</th>\n",
                            "      <th>Finetuned</th>\n",
                            "      <th></th>\n",
                            "      <th></th>\n",
                            "      <th></th>\n",
                            "      <th></th>\n",
                            "    </tr>\n",
                            "  </thead>\n",
                            "  <tbody>\n",
                            "    <tr>\n",
                            "      <th rowspan=\"3\" valign=\"top\">test</th>\n",
                            "      <th>Empty</th>\n",
                            "      <th>False</th>\n",
                            "      <td>2.0</td>\n",
                            "      <td>0.916475</td>\n",
                            "      <td>0.839654</td>\n",
                            "      <td>0.847360</td>\n",
                            "    </tr>\n",
                            "    <tr>\n",
                            "      <th rowspan=\"2\" valign=\"top\">Greedy</th>\n",
                            "      <th>False</th>\n",
                            "      <td>2.0</td>\n",
                            "      <td>0.921804</td>\n",
                            "      <td>0.849551</td>\n",
                            "      <td>0.858044</td>\n",
                            "    </tr>\n",
                            "    <tr>\n",
                            "      <th>True</th>\n",
                            "      <td>2.0</td>\n",
                            "      <td>0.913676</td>\n",
                            "      <td>0.845146</td>\n",
                            "      <td>0.852178</td>\n",
                            "    </tr>\n",
                            "    <tr>\n",
                            "      <th rowspan=\"3\" valign=\"top\">val</th>\n",
                            "      <th>Empty</th>\n",
                            "      <th>False</th>\n",
                            "      <td>2.0</td>\n",
                            "      <td>0.919034</td>\n",
                            "      <td>0.843257</td>\n",
                            "      <td>0.850629</td>\n",
                            "    </tr>\n",
                            "    <tr>\n",
                            "      <th rowspan=\"2\" valign=\"top\">Greedy</th>\n",
                            "      <th>False</th>\n",
                            "      <td>2.0</td>\n",
                            "      <td>0.926095</td>\n",
                            "      <td>0.852808</td>\n",
                            "      <td>0.860713</td>\n",
                            "    </tr>\n",
                            "    <tr>\n",
                            "      <th>True</th>\n",
                            "      <td>2.0</td>\n",
                            "      <td>0.918211</td>\n",
                            "      <td>0.847032</td>\n",
                            "      <td>0.853861</td>\n",
                            "    </tr>\n",
                            "  </tbody>\n",
                            "</table>\n",
                            "</div>"
                        ],
                        "text/plain": [
                            "                        Seed       AUC       ACC        F1\n",
                            "Split Mask   Finetuned                                    \n",
                            "test  Empty  False       2.0  0.916475  0.839654  0.847360\n",
                            "      Greedy False       2.0  0.921804  0.849551  0.858044\n",
                            "             True        2.0  0.913676  0.845146  0.852178\n",
                            "val   Empty  False       2.0  0.919034  0.843257  0.850629\n",
                            "      Greedy False       2.0  0.926095  0.852808  0.860713\n",
                            "             True        2.0  0.918211  0.847032  0.853861"
                        ]
                    },
                    "execution_count": 8,
                    "metadata": {},
                    "output_type": "execute_result"
                }
            ],
            "source": [
                "result_df = evaluate_greedy_selection(get_model, get_MIMIC_dataloader, top_k_file, n_experiments=3)\n",
                "result_df.groupby([\"Split\", \"Mask\", \"Finetuned\"]).mean()"
            ]
        },
        {
            "cell_type": "code",
            "execution_count": null,
            "metadata": {},
            "outputs": [],
            "source": [
                "def aggregate_greedy_results(top_k_file):\n",
                "    metrics = [\"AUC\", \"ACC\", \"F1\"]\n",
                "    aggregated_metrics_df = read_df_from_csv(top_k_file.format(seed=1))\n",
                "    aggregated_metrics_df = aggregated_metrics_df[[metrics]]\n",
                "\n",
                "    seeds = range(2, 4)\n",
                "\n",
                "    for random_seed in random_seeds:\n",
                "        greedy_results = read_df_from_csv(top_k_file.format(seed=seed))\n",
                "        greedy_results = greedy_results[[metrics]]\n",
                "            \n",
                "        aggregated_metrics_df += greedy_results\n",
                "\n",
                "    aggregated_metrics_df /= (len(seeds)+1)\n",
                "\n",
                "    return aggregated_metrics_df\n",
                "\n",
                "aggregate_greedy_results(top_k_file)"
            ]
        }
    ],
    "metadata": {
        "kernelspec": {
            "display_name": "base",
            "language": "python",
            "name": "python3"
        },
        "language_info": {
            "codemirror_mode": {
                "name": "ipython",
                "version": 3
            },
            "file_extension": ".py",
            "mimetype": "text/x-python",
            "name": "python",
            "nbconvert_exporter": "python",
            "pygments_lexer": "ipython3",
            "version": "3.10.12"
        }
    },
    "nbformat": 4,
    "nbformat_minor": 2
}
