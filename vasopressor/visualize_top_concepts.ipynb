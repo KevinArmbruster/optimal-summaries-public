{
 "cells": [
  {
   "cell_type": "code",
   "execution_count": 3,
   "metadata": {},
   "outputs": [],
   "source": [
    "import csv\n",
    "from preprocess_helpers import myPreprocessed\n",
    "import numpy as np\n",
    "import matplotlib.pyplot as pp\n",
    "from helper import getConcept\n"
   ]
  },
  {
   "cell_type": "code",
   "execution_count": 4,
   "metadata": {},
   "outputs": [],
   "source": [
    "X_np, Y_logits, changing_vars, data_cols = myPreprocessed()\n",
    "input_dim = X_np.shape[2]\n",
    "changing_dim = len(changing_vars)"
   ]
  },
  {
   "cell_type": "code",
   "execution_count": 5,
   "metadata": {},
   "outputs": [],
   "source": [
    "dir = \"/workdir/optimal-summaries-public/vasopressor/models/mimic-iii/vasopressor/\"\n",
    "dir_top_k = dir + \"/top-k/\"\n"
   ]
  },
  {
   "cell_type": "code",
   "execution_count": 6,
   "metadata": {},
   "outputs": [
    {
     "ename": "FileNotFoundError",
     "evalue": "[Errno 2] No such file or directory: '/workdir/optimal-summaries-public/vasopressor/models/mimic-iii/vasopressor/bottleneck_r1_c4_topkinds.csv'",
     "output_type": "error",
     "traceback": [
      "\u001b[0;31m---------------------------------------------------------------------------\u001b[0m",
      "\u001b[0;31mFileNotFoundError\u001b[0m                         Traceback (most recent call last)",
      "\u001b[1;32m/workdir/optimal-summaries-public/vasopressor/visualize_top_concepts.ipynb Cell 4\u001b[0m line \u001b[0;36m5\n\u001b[1;32m      <a href='vscode-notebook-cell://attached-container%2B7b22636f6e7461696e65724e616d65223a222f666f63757365645f6e6f72746863757474227d@ssh-remote%2B192.168.94.2/workdir/optimal-summaries-public/vasopressor/visualize_top_concepts.ipynb#W2sdnNjb2RlLXJlbW90ZQ%3D%3D?line=2'>3</a>\u001b[0m \u001b[39m# get top features for a set number of concepts\u001b[39;00m\n\u001b[1;32m      <a href='vscode-notebook-cell://attached-container%2B7b22636f6e7461696e65724e616d65223a222f666f63757365645f6e6f72746863757474227d@ssh-remote%2B192.168.94.2/workdir/optimal-summaries-public/vasopressor/visualize_top_concepts.ipynb#W2sdnNjb2RlLXJlbW90ZQ%3D%3D?line=3'>4</a>\u001b[0m greedy_result \u001b[39m=\u001b[39m []\n\u001b[0;32m----> <a href='vscode-notebook-cell://attached-container%2B7b22636f6e7461696e65724e616d65223a222f666f63757365645f6e6f72746863757474227d@ssh-remote%2B192.168.94.2/workdir/optimal-summaries-public/vasopressor/visualize_top_concepts.ipynb#W2sdnNjb2RlLXJlbW90ZQ%3D%3D?line=4'>5</a>\u001b[0m \u001b[39mwith\u001b[39;00m \u001b[39mopen\u001b[39;49m(\u001b[39mdir\u001b[39;49m \u001b[39m+\u001b[39;49m \u001b[39m'\u001b[39;49m\u001b[39mbottleneck_r\u001b[39;49m\u001b[39m{}\u001b[39;49;00m\u001b[39m_c\u001b[39;49m\u001b[39m{}\u001b[39;49;00m\u001b[39m_topkinds.csv\u001b[39;49m\u001b[39m'\u001b[39;49m\u001b[39m.\u001b[39;49mformat(rand, num_concepts), mode \u001b[39m=\u001b[39;49m\u001b[39m'\u001b[39;49m\u001b[39mr\u001b[39;49m\u001b[39m'\u001b[39;49m) \u001b[39mas\u001b[39;00m file:\n\u001b[1;32m      <a href='vscode-notebook-cell://attached-container%2B7b22636f6e7461696e65724e616d65223a222f666f63757365645f6e6f72746863757474227d@ssh-remote%2B192.168.94.2/workdir/optimal-summaries-public/vasopressor/visualize_top_concepts.ipynb#W2sdnNjb2RlLXJlbW90ZQ%3D%3D?line=5'>6</a>\u001b[0m     \u001b[39m# reading the CSV file\u001b[39;00m\n\u001b[1;32m      <a href='vscode-notebook-cell://attached-container%2B7b22636f6e7461696e65724e616d65223a222f666f63757365645f6e6f72746863757474227d@ssh-remote%2B192.168.94.2/workdir/optimal-summaries-public/vasopressor/visualize_top_concepts.ipynb#W2sdnNjb2RlLXJlbW90ZQ%3D%3D?line=6'>7</a>\u001b[0m     csvFile \u001b[39m=\u001b[39m csv\u001b[39m.\u001b[39mreader(file)\n\u001b[1;32m      <a href='vscode-notebook-cell://attached-container%2B7b22636f6e7461696e65724e616d65223a222f666f63757365645f6e6f72746863757474227d@ssh-remote%2B192.168.94.2/workdir/optimal-summaries-public/vasopressor/visualize_top_concepts.ipynb#W2sdnNjb2RlLXJlbW90ZQ%3D%3D?line=7'>8</a>\u001b[0m     header \u001b[39m=\u001b[39m \u001b[39mnext\u001b[39m(csvFile)\n",
      "File \u001b[0;32m/opt/conda/lib/python3.10/site-packages/IPython/core/interactiveshell.py:282\u001b[0m, in \u001b[0;36m_modified_open\u001b[0;34m(file, *args, **kwargs)\u001b[0m\n\u001b[1;32m    275\u001b[0m \u001b[39mif\u001b[39;00m file \u001b[39min\u001b[39;00m {\u001b[39m0\u001b[39m, \u001b[39m1\u001b[39m, \u001b[39m2\u001b[39m}:\n\u001b[1;32m    276\u001b[0m     \u001b[39mraise\u001b[39;00m \u001b[39mValueError\u001b[39;00m(\n\u001b[1;32m    277\u001b[0m         \u001b[39mf\u001b[39m\u001b[39m\"\u001b[39m\u001b[39mIPython won\u001b[39m\u001b[39m'\u001b[39m\u001b[39mt let you open fd=\u001b[39m\u001b[39m{\u001b[39;00mfile\u001b[39m}\u001b[39;00m\u001b[39m by default \u001b[39m\u001b[39m\"\u001b[39m\n\u001b[1;32m    278\u001b[0m         \u001b[39m\"\u001b[39m\u001b[39mas it is likely to crash IPython. If you know what you are doing, \u001b[39m\u001b[39m\"\u001b[39m\n\u001b[1;32m    279\u001b[0m         \u001b[39m\"\u001b[39m\u001b[39myou can use builtins\u001b[39m\u001b[39m'\u001b[39m\u001b[39m open.\u001b[39m\u001b[39m\"\u001b[39m\n\u001b[1;32m    280\u001b[0m     )\n\u001b[0;32m--> 282\u001b[0m \u001b[39mreturn\u001b[39;00m io_open(file, \u001b[39m*\u001b[39;49margs, \u001b[39m*\u001b[39;49m\u001b[39m*\u001b[39;49mkwargs)\n",
      "\u001b[0;31mFileNotFoundError\u001b[0m: [Errno 2] No such file or directory: '/workdir/optimal-summaries-public/vasopressor/models/mimic-iii/vasopressor/bottleneck_r1_c4_topkinds.csv'"
     ]
    }
   ],
   "source": [
    "num_concepts = 4\n",
    "rand = 1\n",
    "# get top features for a set number of concepts\n",
    "greedy_result = []\n",
    "with open(dir + 'bottleneck_r{}_c{}_topkinds.csv'.format(rand, num_concepts), mode ='r') as file:\n",
    "    # reading the CSV file\n",
    "    csvFile = csv.reader(file)\n",
    "    header = next(csvFile)\n",
    "    for row in csvFile:\n",
    "        greedy_result.append(np.array(row, dtype=float))\n",
    "greedy_result = np.array(greedy_result)\n",
    "header"
   ]
  },
  {
   "cell_type": "code",
   "execution_count": 4,
   "metadata": {},
   "outputs": [
    {
     "data": {
      "image/png": "[encoded data removed]",
      "text/plain": [
       "<Figure size 432x288 with 1 Axes>"
      ]
     },
     "metadata": {
      "needs_background": "light"
     },
     "output_type": "display_data"
    }
   ],
   "source": [
    "pp.plot(greedy_result[:, 0])\n",
    "pp.title(\"AUC curve with increasing features\")\n",
    "pp.show()"
   ]
  },
  {
   "cell_type": "code",
   "execution_count": 5,
   "metadata": {},
   "outputs": [
    {
     "name": "stdout",
     "output_type": "stream",
     "text": [
      "Concept 0: ('creatinine', 'raw')\n",
      "Concept 0: ('sbp', 'hours below threshold')\n",
      "Concept 0: ('lactate', 'raw')\n",
      "Concept 0: ('fio2', 'var of indicators')\n",
      "Concept 0: ('pco2', 'var of indicators')\n",
      "Concept 0: ('is_emergency', 'raw')\n",
      "Concept 0: ('temp', 'mean')\n",
      "Concept 0: ('bilirubin_total', 'raw')\n",
      "Concept 0: ('map', 'hours above threshold')\n",
      "Concept 0: ('po2', 'mean')\n",
      "Concept 0: ('spo2', '# switches')\n",
      "Concept 0: ('hr', 'raw')\n",
      "Concept 0: ('dbp', 'var of indicators')\n",
      "Concept 1: ('dbp', 'first time measured')\n",
      "Concept 1: ('spontaneousrr', 'raw')\n",
      "Concept 1: ('hr', 'raw')\n",
      "Concept 1: ('is_csru', 'raw')\n",
      "Concept 1: ('hgb', 'var')\n",
      "Concept 1: ('pco2', 'mean')\n",
      "Concept 1: ('temp', 'raw')\n",
      "Concept 2: ('creatinine', 'raw')\n",
      "Concept 2: ('spo2', 'var of indicators')\n",
      "Concept 2: ('inr', 'raw')\n",
      "Concept 2: ('wbc', 'raw')\n",
      "Concept 2: ('age', 'raw')\n",
      "Concept 2: ('ast_ind', 'raw')\n",
      "Concept 3: ('is_csru', 'raw')\n",
      "Concept 3: ('inr', 'hours below threshold')\n",
      "Concept 3: ('glucose', 'slope')\n",
      "Concept 3: ('ast', 'first time measured')\n",
      "Concept 3: ('sbp', 'hours above threshold')\n",
      "Concept 3: ('bilirubin_total', 'hours below threshold')\n",
      "Concept 3: ('sodium', 'hours above threshold')\n",
      "Concept 3: ('spo2', 'slope')\n",
      "Concept 3: ('spo2', 'var of indicators')\n",
      "Concept 3: ('creatinine', 'slope std err')\n",
      "Concept 3: ('magnesium', 'ever measured')\n",
      "Concept 3: ('map', 'slope')\n",
      "Concept 3: ('creatinine', 'last time measured')\n",
      "Concept 3: ('bicarbonate', 'mean of indicators')\n"
     ]
    }
   ],
   "source": [
    "greedy_result = greedy_result[greedy_result[:, 1].argsort()]\n",
    "\n",
    "for i, (auc, concept, ind) in enumerate(greedy_result):\n",
    "    print(f\"Concept {int(concept)}: \" + str(getConcept(data_cols, input_dim, changing_dim, int(ind))))\n"
   ]
  },
  {
   "cell_type": "code",
   "execution_count": null,
   "metadata": {},
   "outputs": [],
   "source": []
  }
 ],
 "metadata": {
  "kernelspec": {
   "display_name": "base",
   "language": "python",
   "name": "python3"
  },
  "language_info": {
   "codemirror_mode": {
    "name": "ipython",
    "version": 3
   },
   "file_extension": ".py",
   "mimetype": "text/x-python",
   "name": "python",
   "nbconvert_exporter": "python",
   "pygments_lexer": "ipython3",
   "version": "3.10.8"
  }
 },
 "nbformat": 4,
 "nbformat_minor": 2
}
