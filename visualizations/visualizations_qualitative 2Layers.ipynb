{
 "cells": [
  {
   "cell_type": "code",
   "execution_count": 1,
   "metadata": {},
   "outputs": [],
   "source": [
    "\n",
    "import sys\n",
    "sys.path.append('..')\n",
    "\n",
    "import models.models_original as models_original\n",
    "import models.models_3d_atomics as models_3d_atomics\n",
    "import models.models_3d as models_3d\n",
    "from models.data import *\n",
    "from models.helper import *\n",
    "from models.param_initializations import *\n",
    "from models.optimization_strategy import *\n",
    "\n",
    "import pandas as pd\n",
    "import numpy as np\n",
    "import torch"
   ]
  },
  {
   "cell_type": "code",
   "execution_count": 7,
   "metadata": {},
   "outputs": [],
   "source": [
    "pruning = \"movement\"\n",
    "\n",
    "n_concepts = 4\n",
    "n_atomics = 4\n",
    "use_summaries_for_atomics = True\n",
    "encode_time_dim = True # SharedFeature\n",
    "device = \"cpu\"\n",
    "random_state = 1\n",
    "\n",
    "save_load_path = \"/workdir/optimal-summaries-public/_models_train_prune\""
   ]
  },
  {
   "cell_type": "code",
   "execution_count": 14,
   "metadata": {},
   "outputs": [
    {
     "name": "stdout",
     "output_type": "stream",
     "text": [
      "27\n"
     ]
    },
    {
     "name": "stderr",
     "output_type": "stream",
     "text": [
      "/usr/local/lib/python3.10/dist-packages/torch/nn/modules/lazy.py:180: UserWarning: Lazy modules are a new feature under heavy development so changes to the API or functionality can happen at any moment.\n",
      "  warnings.warn('Lazy modules are a new feature under heavy development '\n"
     ]
    },
    {
     "name": "stdout",
     "output_type": "stream",
     "text": [
      "Loaded model from /workdir/optimal-summaries-public/_models_train_prune/movement/atomics/mimic/finetuned/atomics_num_concepts_4_num_atomics_4_use_summaries_for_atomics_True_use_indicators_True_use_summaries_True_seed_1.pt\n",
      "Train\n",
      "AUC macro 0.918\n",
      "ACC macro 0.850\n",
      " F1 macro 0.857\n",
      "Val\n",
      "AUC macro 0.905\n",
      "ACC macro 0.839\n",
      " F1 macro 0.846\n",
      "Test\n",
      "AUC macro 0.908\n",
      "ACC macro 0.846\n",
      " F1 macro 0.852\n"
     ]
    },
    {
     "data": {
      "text/plain": [
       "(0.9078502058982849, 0.8458898067474365, 0.8524724841117859)"
      ]
     },
     "execution_count": 14,
     "metadata": {},
     "output_type": "execute_result"
    }
   ],
   "source": [
    "set_seed(random_state)\n",
    "print(len(MIMIC_long_var_names))\n",
    "train_loader, val_loader, test_loader, class_weights, num_classes, changing_dim, static_dim, seq_len = get_MIMIC_dataloader(random_state = random_state)\n",
    "model = models_3d_atomics.CBM(n_atomics=n_atomics, n_concepts=n_concepts, use_summaries_for_atomics=use_summaries_for_atomics, use_indicators=True, use_summaries=True, static_dim=static_dim, changing_dim=changing_dim, seq_len=seq_len, output_dim=num_classes, device=device)\n",
    "\n",
    "# load finetuned mimic\n",
    "model_path = \"/workdir/optimal-summaries-public/_models_train_prune/movement/atomics/mimic/finetuned/atomics_num_concepts_4_num_atomics_4_use_summaries_for_atomics_True_use_indicators_True_use_summaries_True_seed_1.pt\"\n",
    "\n",
    "model.try_load_else_fit(train_loader, val_loader, p_weight=class_weights, save_model_path=model_path, max_epochs=10000, save_every_n_epochs=10, patience=10, sparse_fit=False)\n",
    "\n",
    "print(\"Train\")\n",
    "evaluate_classification(model, train_loader)\n",
    "print(\"Val\")\n",
    "evaluate_classification(model, val_loader)\n",
    "print(\"Test\")\n",
    "evaluate_classification(model, test_loader)\n"
   ]
  },
  {
   "cell_type": "code",
   "execution_count": 15,
   "metadata": {},
   "outputs": [
    {
     "name": "stdout",
     "output_type": "stream",
     "text": [
      "27 8 6\n"
     ]
    },
    {
     "data": {
      "text/plain": [
       "32"
      ]
     },
     "execution_count": 15,
     "metadata": {},
     "output_type": "execute_result"
    }
   ],
   "source": [
    "print(changing_dim, static_dim, seq_len)\n",
    "summaries = 12\n",
    "\n",
    "seq_len + seq_len + summaries + static_dim"
   ]
  },
  {
   "cell_type": "code",
   "execution_count": 37,
   "metadata": {},
   "outputs": [
    {
     "name": "stdout",
     "output_type": "stream",
     "text": [
      "torch.Size([4, 32])\n",
      "torch.Size([4, 108])\n",
      "108\n"
     ]
    },
    {
     "data": {
      "text/plain": [
       "tensor([[0., 0., 0., 0., 0., 0., 1., 0., 1., 0., 0., 0., 0., 0., 0., 0., 1., 0.,\n",
       "         0., 0., 0., 0., 0., 0., 0., 1., 0., 0., 0., 0., 0., 0.],\n",
       "        [0., 1., 0., 0., 1., 1., 0., 1., 0., 0., 0., 0., 0., 1., 0., 1., 0., 0.,\n",
       "         0., 1., 0., 0., 0., 1., 1., 0., 0., 1., 0., 0., 0., 1.],\n",
       "        [0., 0., 1., 0., 0., 0., 1., 0., 0., 0., 0., 0., 1., 1., 0., 1., 0., 0.,\n",
       "         0., 1., 0., 1., 0., 1., 1., 1., 1., 1., 1., 0., 1., 1.],\n",
       "        [0., 0., 0., 0., 1., 1., 0., 0., 0., 0., 1., 0., 0., 1., 0., 1., 0., 0.,\n",
       "         1., 0., 0., 1., 0., 0., 1., 0., 0., 0., 1., 0., 1., 0.]])"
      ]
     },
     "execution_count": 37,
     "metadata": {},
     "output_type": "execute_result"
    }
   ],
   "source": [
    "mask1 = model.regularized_layers[0].weight_mask.detach()\n",
    "print(mask1.shape)\n",
    "\n",
    "mask2 = model.regularized_layers[1].weight_mask.detach()\n",
    "print(mask2.shape)\n",
    "\n",
    "print(4 * 27) # 4 concepts * 27 vars\n",
    "\n",
    "mask1"
   ]
  },
  {
   "cell_type": "code",
   "execution_count": 18,
   "metadata": {},
   "outputs": [],
   "source": [
    "masked_weights1 = model.regularized_layers[0].weight.detach() * model.regularized_layers[0].weight_mask.detach()\n",
    "masked_weights2 = model.regularized_layers[1].weight.detach() * model.regularized_layers[1].weight_mask.detach()\n"
   ]
  },
  {
   "cell_type": "code",
   "execution_count": 19,
   "metadata": {},
   "outputs": [
    {
     "data": {
      "text/plain": [
       "tensor([[ 0,  0,  0,  0,  1,  1,  1,  1,  1,  1,  1,  1,  1,  1,  1,  2,  2,  2,\n",
       "          2,  2,  2,  2,  2,  2,  2,  2,  2,  2,  2,  2,  3,  3,  3,  3,  3,  3,\n",
       "          3,  3,  3,  3],\n",
       "        [ 6,  8, 16, 25,  1,  4,  5,  7, 13, 15, 19, 23, 24, 27, 31,  2,  6, 12,\n",
       "         13, 15, 19, 21, 23, 24, 25, 26, 27, 28, 30, 31,  4,  5, 10, 13, 15, 18,\n",
       "         21, 24, 28, 30]])"
      ]
     },
     "execution_count": 19,
     "metadata": {},
     "output_type": "execute_result"
    }
   ],
   "source": [
    "indices1 = torch.nonzero(mask1)\n",
    "indices2 = torch.nonzero(mask2)\n",
    "\n",
    "indices1.T"
   ]
  },
  {
   "cell_type": "code",
   "execution_count": 22,
   "metadata": {},
   "outputs": [
    {
     "name": "stdout",
     "output_type": "stream",
     "text": [
      "defaultdict(<class 'list'>, {0: [6, 8, 16, 25], 1: [1, 4, 5, 7, 13, 15, 19, 23, 24, 27, 31], 2: [2, 6, 12, 13, 15, 19, 21, 23, 24, 25, 26, 27, 28, 30, 31], 3: [4, 5, 10, 13, 15, 18, 21, 24, 28, 30]})\n",
      "defaultdict(<class 'list'>, {0: [4, 22, 41, 70, 75, 89, 100, 107], 1: [4, 51, 61], 2: [4, 7, 13, 15, 16, 29, 40, 46, 47, 50, 54, 76, 78, 83, 99, 103], 3: [4, 17, 30, 40, 41, 50, 67, 71, 74, 76, 92, 100, 103]})\n"
     ]
    }
   ],
   "source": [
    "selected_indices_per_concept1 = defaultdict(list)\n",
    "for concept, feat in indices1:\n",
    "    selected_indices_per_concept1[concept.item()].append(feat.item())\n",
    "print(selected_indices_per_concept1)\n",
    "\n",
    "selected_indices_per_concept2 = defaultdict(list)\n",
    "for concept, feat in indices2:\n",
    "    selected_indices_per_concept2[concept.item()].append(feat.item())\n",
    "print(selected_indices_per_concept2)"
   ]
  },
  {
   "cell_type": "code",
   "execution_count": 26,
   "metadata": {},
   "outputs": [
    {
     "name": "stdout",
     "output_type": "stream",
     "text": [
      "[6, 8, 16, 25]\n",
      "[-0.3406800627708435, -0.0026109132450073957, -1.0057957172393799, -0.6683667898178101]\n",
      "[1, 4, 5, 7, 13, 15, 19, 23, 24, 27, 31]\n",
      "[-0.0016282021533697844, -0.2498396635055542, 0.005103949457406998, 0.14224199950695038, 0.07978249341249466, -0.06814827769994736, -0.004697171971201897, 0.841850221157074, 0.2582087516784668, 0.28207260370254517, -0.00023776922898832709]\n",
      "[2, 6, 12, 13, 15, 19, 21, 23, 24, 25, 26, 27, 28, 30, 31]\n",
      "[-0.043864939361810684, -0.0021221544593572617, -0.5002694129943848, 0.010632913559675217, -0.0010083909146487713, -0.01918039284646511, -0.2625168561935425, 0.00010036698949988931, -0.17230834066867828, 0.00025240928516723216, -0.0013186457799747586, -0.04473799094557762, 0.0016866913065314293, -0.1523623764514923, 0.41061851382255554]\n",
      "[4, 5, 10, 13, 15, 18, 21, 24, 28, 30]\n",
      "[0.024528246372938156, 0.37827032804489136, -0.3214726150035858, 0.001344212330877781, -0.0011504195863381028, 0.06319914013147354, -0.6982207894325256, -0.5705836415290833, 0.00017716390721034259, -0.18996784090995789]\n",
      "\n",
      "[4, 22, 41, 70, 75, 89, 100, 107]\n",
      "[0.23320135474205017, 0.22634518146514893, 0.8665024042129517, 0.5165520310401917, 0.17614002525806427, 0.7599790692329407, 0.5248720645904541, 0.1909371018409729]\n",
      "[4, 51, 61]\n",
      "[-0.37633198499679565, 0.0002979763667099178, -0.241818368434906]\n",
      "[4, 7, 13, 15, 16, 29, 40, 46, 47, 50, 54, 76, 78, 83, 99, 103]\n",
      "[-5.808806236018427e-05, -0.0009463210008107126, -1.5133875422179699e-05, -0.0014348579570651054, -0.0013866627123206854, -6.125807703938335e-05, -0.00018972162797581404, -0.00010808729712152854, -0.0004926614346913993, -0.00044758987496607006, -0.11759035289287567, -0.0005033850902691483, -0.0005639172159135342, -0.0012363517889752984, -0.00010892069985857233, 9.411059727426618e-05]\n",
      "[4, 17, 30, 40, 41, 50, 67, 71, 74, 76, 92, 100, 103]\n",
      "[0.0020370916463434696, 0.0006435535033233464, -0.9876890182495117, 0.002789474558085203, 0.0005655857385136187, 0.0015182984061539173, -1.354253888130188, -0.32074207067489624, 0.002662224927917123, 0.002044644672423601, 0.0023632445372641087, 0.002255057916045189, -0.2683112323284149]\n"
     ]
    }
   ],
   "source": [
    "selected_weights_per_concept1 = defaultdict(list)\n",
    "for i in range(len(selected_indices_per_concept1)):\n",
    "    print(selected_indices_per_concept1[i])\n",
    "    selected_weights = masked_weights1[i, selected_indices_per_concept1[i]].tolist()\n",
    "    print(selected_weights)\n",
    "    selected_weights_per_concept1[i] = selected_weights\n",
    "\n",
    "print()\n",
    "\n",
    "selected_weights_per_concept2 = defaultdict(list)\n",
    "for i in range(len(selected_indices_per_concept2)):\n",
    "    print(selected_indices_per_concept2[i])\n",
    "    selected_weights = masked_weights2[i, selected_indices_per_concept2[i]].tolist()\n",
    "    print(selected_weights)\n",
    "    selected_weights_per_concept2[i] = selected_weights\n",
    "    "
   ]
  },
  {
   "cell_type": "code",
   "execution_count": 33,
   "metadata": {},
   "outputs": [
    {
     "data": {
      "image/png": "[encoded data removed]",
      "text/plain": [
       "<Figure size 1000x200 with 2 Axes>"
      ]
     },
     "metadata": {},
     "output_type": "display_data"
    },
    {
     "data": {
      "image/png": "[encoded data removed]",
      "text/plain": [
       "<Figure size 1000x200 with 2 Axes>"
      ]
     },
     "metadata": {},
     "output_type": "display_data"
    }
   ],
   "source": [
    "def plot(wwww):\n",
    "    plt.figure(figsize=(10, 2))\n",
    "    plt.imshow(wwww, cmap='seismic', aspect='auto')\n",
    "    plt.colorbar(label='Weight Value')\n",
    "    # plt.title('Heatmap Masked Weights')\n",
    "    plt.xlabel('Features')\n",
    "    plt.ylabel('Concepts')\n",
    "    plt.xticks(range(wwww.shape[1])[::2], range(1, wwww.shape[1]+1)[::2])\n",
    "    plt.yticks(range(wwww.shape[0]), range(1, wwww.shape[0]+1))\n",
    "    plt.grid(visible=False)\n",
    "    plt.tight_layout()\n",
    "    plt.savefig(\"fig/Heatmap Masked Weights.pdf\", format=\"pdf\")\n",
    "    plt.show()\n",
    "\n",
    "plot(masked_weights1)\n",
    "plot(masked_weights2)"
   ]
  },
  {
   "cell_type": "code",
   "execution_count": 10,
   "metadata": {},
   "outputs": [
    {
     "ename": "IndexError",
     "evalue": "list index out of range",
     "output_type": "error",
     "traceback": [
      "\u001b[0;31m---------------------------------------------------------------------------\u001b[0m",
      "\u001b[0;31mIndexError\u001b[0m                                Traceback (most recent call last)",
      "Cell \u001b[0;32mIn[10], line 2\u001b[0m\n\u001b[1;32m      1\u001b[0m concept \u001b[38;5;241m=\u001b[39m \u001b[38;5;241m3\u001b[39m\n\u001b[0;32m----> 2\u001b[0m selected_feature_names \u001b[38;5;241m=\u001b[39m [MIMIC_long_var_names[i] \u001b[38;5;28;01mfor\u001b[39;00m i \u001b[38;5;129;01min\u001b[39;00m selected_indices_per_concept[concept]]\n\u001b[1;32m      3\u001b[0m idx_to_cnt \u001b[38;5;241m=\u001b[39m [val \u001b[38;5;241m+\u001b[39m\u001b[38;5;241m1\u001b[39m \u001b[38;5;28;01mfor\u001b[39;00m val \u001b[38;5;129;01min\u001b[39;00m selected_indices_per_concept[concept]]\n\u001b[1;32m      4\u001b[0m df \u001b[38;5;241m=\u001b[39m pd\u001b[38;5;241m.\u001b[39mDataFrame((selected_feature_names, selected_weights_per_concept[concept]), index\u001b[38;5;241m=\u001b[39m[\u001b[38;5;124m\"\u001b[39m\u001b[38;5;124mFeature Name\u001b[39m\u001b[38;5;124m\"\u001b[39m, \u001b[38;5;124m\"\u001b[39m\u001b[38;5;124mWeight\u001b[39m\u001b[38;5;124m\"\u001b[39m], columns\u001b[38;5;241m=\u001b[39midx_to_cnt)\u001b[38;5;241m.\u001b[39mT\n",
      "Cell \u001b[0;32mIn[10], line 2\u001b[0m, in \u001b[0;36m<listcomp>\u001b[0;34m(.0)\u001b[0m\n\u001b[1;32m      1\u001b[0m concept \u001b[38;5;241m=\u001b[39m \u001b[38;5;241m3\u001b[39m\n\u001b[0;32m----> 2\u001b[0m selected_feature_names \u001b[38;5;241m=\u001b[39m [\u001b[43mMIMIC_long_var_names\u001b[49m\u001b[43m[\u001b[49m\u001b[43mi\u001b[49m\u001b[43m]\u001b[49m \u001b[38;5;28;01mfor\u001b[39;00m i \u001b[38;5;129;01min\u001b[39;00m selected_indices_per_concept[concept]]\n\u001b[1;32m      3\u001b[0m idx_to_cnt \u001b[38;5;241m=\u001b[39m [val \u001b[38;5;241m+\u001b[39m\u001b[38;5;241m1\u001b[39m \u001b[38;5;28;01mfor\u001b[39;00m val \u001b[38;5;129;01min\u001b[39;00m selected_indices_per_concept[concept]]\n\u001b[1;32m      4\u001b[0m df \u001b[38;5;241m=\u001b[39m pd\u001b[38;5;241m.\u001b[39mDataFrame((selected_feature_names, selected_weights_per_concept[concept]), index\u001b[38;5;241m=\u001b[39m[\u001b[38;5;124m\"\u001b[39m\u001b[38;5;124mFeature Name\u001b[39m\u001b[38;5;124m\"\u001b[39m, \u001b[38;5;124m\"\u001b[39m\u001b[38;5;124mWeight\u001b[39m\u001b[38;5;124m\"\u001b[39m], columns\u001b[38;5;241m=\u001b[39midx_to_cnt)\u001b[38;5;241m.\u001b[39mT\n",
      "\u001b[0;31mIndexError\u001b[0m: list index out of range"
     ]
    }
   ],
   "source": [
    "concept = 3\n",
    "selected_feature_names = [MIMIC_long_var_names[i] for i in selected_indices_per_concept[concept]]\n",
    "idx_to_cnt = [val +1 for val in selected_indices_per_concept[concept]]\n",
    "df = pd.DataFrame((selected_feature_names, selected_weights_per_concept[concept]), index=[\"Feature Name\", \"Weight\"], columns=idx_to_cnt).T\n",
    "df.index.name = \"Feature ID\"\n",
    "\n",
    "with open('tex/Concept Features and Weights.tex', 'w') as f:\n",
    "    # tex = per_set.to_latex(convert_css=True)                            # styler\n",
    "    tex = df.to_latex(escape=True)   # df , float_format=\"{:.2%}\".format\n",
    "    # tex = tex.replace('%', r'\\%')\n",
    "    f.write(tex)\n",
    "\n",
    "\n",
    "df"
   ]
  }
 ],
 "metadata": {
  "kernelspec": {
   "display_name": "Python 3",
   "language": "python",
   "name": "python3"
  },
  "language_info": {
   "codemirror_mode": {
    "name": "ipython",
    "version": 3
   },
   "file_extension": ".py",
   "mimetype": "text/x-python",
   "name": "python",
   "nbconvert_exporter": "python",
   "pygments_lexer": "ipython3",
   "version": "3.10.12"
  }
 },
 "nbformat": 4,
 "nbformat_minor": 2
}
